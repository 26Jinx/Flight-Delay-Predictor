{
 "cells": [
  {
   "cell_type": "markdown",
   "metadata": {
    "colab_type": "text",
    "id": "laH1Lb66Expz"
   },
   "source": [
    "## Install packages"
   ]
  },
  {
   "cell_type": "code",
   "execution_count": 2,
   "metadata": {
    "colab": {},
    "colab_type": "code",
    "id": "YDUkaLfkEQYZ"
   },
   "outputs": [],
   "source": [
    "import requests\n",
    "import pprint\n",
    "import pandas as pd\n",
    "import json\n",
    "from pandas.io.json import json_normalize\n",
    "import shutil\n",
    "import os"
   ]
  },
  {
   "cell_type": "markdown",
   "metadata": {
    "colab_type": "text",
    "id": "tN2F9B8ycim7"
   },
   "source": [
    "## Working with Date object"
   ]
  },
  {
   "cell_type": "code",
   "execution_count": 9,
   "metadata": {
    "colab": {
     "base_uri": "https://localhost:8080/",
     "height": 52
    },
    "colab_type": "code",
    "id": "cB_Xx0PvciKF",
    "outputId": "013413d9-9307-439a-f3e3-64fc19d31fee"
   },
   "outputs": [
    {
     "name": "stdout",
     "output_type": "stream",
     "text": [
      "1572338236.1975281\n",
      "2019-10-29 01:37:16.197839\n"
     ]
    }
   ],
   "source": [
    "from datetime import datetime, date, timedelta\n",
    "import time\n",
    "print(time.time())\n",
    "print(datetime.now())\n"
   ]
  },
  {
   "cell_type": "code",
   "execution_count": 0,
   "metadata": {
    "colab": {},
    "colab_type": "code",
    "id": "kMc8E2P9PApO"
   },
   "outputs": [],
   "source": [
    "cur_time = datetime.now()"
   ]
  },
  {
   "cell_type": "code",
   "execution_count": 25,
   "metadata": {
    "colab": {
     "base_uri": "https://localhost:8080/",
     "height": 34
    },
    "colab_type": "code",
    "id": "M5BXiqOmn0pj",
    "outputId": "efe30a48-1f7b-4cec-d687-1fabd18bd04b"
   },
   "outputs": [
    {
     "data": {
      "text/plain": [
       "2"
      ]
     },
     "execution_count": 25,
     "metadata": {
      "tags": []
     },
     "output_type": "execute_result"
    }
   ],
   "source": [
    "cur_time.hour"
   ]
  },
  {
   "cell_type": "markdown",
   "metadata": {
    "colab_type": "text",
    "id": "Yu54oaH_rtgG"
   },
   "source": [
    "## Collect Data on an interval"
   ]
  },
  {
   "cell_type": "code",
   "execution_count": 26,
   "metadata": {
    "colab": {
     "base_uri": "https://localhost:8080/",
     "height": 34
    },
    "colab_type": "code",
    "id": "xZ1T0NKnr3M5",
    "outputId": "6a830299-4348-4082-ce26-b0ca7d9bab5f"
   },
   "outputs": [
    {
     "name": "stdout",
     "output_type": "stream",
     "text": [
      "2019-10-28\n"
     ]
    }
   ],
   "source": [
    "today = date.today()\n",
    "print(today)"
   ]
  },
  {
   "cell_type": "code",
   "execution_count": 27,
   "metadata": {
    "colab": {
     "base_uri": "https://localhost:8080/",
     "height": 34
    },
    "colab_type": "code",
    "id": "jwhEkQany00z",
    "outputId": "aabcc44f-61ce-4a8d-a9b7-42446219c268"
   },
   "outputs": [
    {
     "name": "stdout",
     "output_type": "stream",
     "text": [
      "23\n"
     ]
    }
   ],
   "source": [
    "# math operation on days?\n",
    "print(today.day - 5)"
   ]
  },
  {
   "cell_type": "code",
   "execution_count": 28,
   "metadata": {
    "colab": {
     "base_uri": "https://localhost:8080/",
     "height": 34
    },
    "colab_type": "code",
    "id": "Or0EaoCO0zwY",
    "outputId": "cf0208da-db92-4076-ef29-127832a403b2"
   },
   "outputs": [
    {
     "name": "stdout",
     "output_type": "stream",
     "text": [
      "0\n"
     ]
    }
   ],
   "source": [
    "# day of the week\n",
    "print(date.weekday(today))"
   ]
  },
  {
   "cell_type": "code",
   "execution_count": 29,
   "metadata": {
    "colab": {
     "base_uri": "https://localhost:8080/",
     "height": 34
    },
    "colab_type": "code",
    "id": "tv3PyuvP2I3I",
    "outputId": "2020ff34-2c5e-4c9a-b446-82061f4e197d"
   },
   "outputs": [
    {
     "name": "stdout",
     "output_type": "stream",
     "text": [
      "2019-10-21\n"
     ]
    }
   ],
   "source": [
    "# a date n days ago from today\n",
    "diff = timedelta(days=7)\n",
    "week_ago = today - diff\n",
    "print(week_ago)"
   ]
  },
  {
   "cell_type": "code",
   "execution_count": 30,
   "metadata": {
    "colab": {
     "base_uri": "https://localhost:8080/",
     "height": 105
    },
    "colab_type": "code",
    "id": "INavY7Vv3Ylr",
    "outputId": "7f7fa038-94ee-4198-e4fa-4f29f9031b02"
   },
   "outputs": [
    {
     "name": "stdout",
     "output_type": "stream",
     "text": [
      "2019-10-27 02:48:46.207293\n",
      "2019-10-26 02:48:46.207293\n",
      "2019-10-25 02:48:46.207293\n",
      "2019-10-24 02:48:46.207293\n",
      "2019-10-23 02:48:46.207293\n"
     ]
    }
   ],
   "source": [
    "def print_days(days_ago):\n",
    "    now = datetime.now()\n",
    "  \n",
    "    for i in range(days_ago):\n",
    "        print(now - timedelta(days=i+1))\n",
    "    \n",
    "print_days(5)\n"
   ]
  },
  {
   "cell_type": "code",
   "execution_count": 10,
   "metadata": {
    "colab": {
     "base_uri": "https://localhost:8080/",
     "height": 107
    },
    "colab_type": "code",
    "id": "vSEVY93w-di7",
    "outputId": "b0cf46ee-3224-45a7-88e9-5b1f4beb64dc"
   },
   "outputs": [
    {
     "name": "stdout",
     "output_type": "stream",
     "text": [
      "2019-10-29 01:39:58.437552\n",
      "200\n"
     ]
    }
   ],
   "source": [
    "# let's make some changes to our original url builder function to make it more dynamic\n",
    "\n",
    "def build_fs_url(airpt_code, date, start_hour, departure):\n",
    "  \n",
    "    print(date)\n",
    "    \n",
    "    # airport status endpoint\n",
    "    url = 'https://api.flightstats.com/flex/flightstatus/rest/v2/json/airport/status'\n",
    "    airport = airpt_code\n",
    "    dep = 'dep' if departure == True else 'arr'\n",
    "    year = date.year\n",
    "    month = date.month\n",
    "    day = date.day\n",
    "    hod = start_hour       \n",
    "\n",
    "    url = f'{url}/{airport}/{dep}/{year}/{month}/{day}/{hod}'\n",
    "    \n",
    "    return url\n",
    "\n",
    "add_params = {\n",
    "    'appId' : os.environ.get('FSID'),\n",
    "    'appKey': os.environ.get('FSKEY'),\n",
    "    'utc': 'true',\n",
    "    'numHours': '6'\n",
    "}  \n",
    "\n",
    "\n",
    "res = requests.get(build_fs_url('lax', datetime.now(), 13, True), params=add_params)\n",
    "\n",
    "#print(res.url)\n",
    "print(res.status_code)\n",
    "#print(res.json())\n"
   ]
  },
  {
   "cell_type": "markdown",
   "metadata": {},
   "source": [
    "## Build Request URL "
   ]
  },
  {
   "cell_type": "code",
   "execution_count": 12,
   "metadata": {
    "colab": {
     "base_uri": "https://localhost:8080/",
     "height": 52
    },
    "colab_type": "code",
    "id": "WS5yO7IjRyDP",
    "outputId": "4f638672-4841-499c-c584-5d533b449e9b"
   },
   "outputs": [
    {
     "name": "stdout",
     "output_type": "stream",
     "text": [
      "https://api.flightstats.com/flex/flightstatus/rest/v2/json/airport/status/jfk/dep/2019/10/29/24\n",
      "https://api.darksky.net/forecast/906506b4ec44e7ea8a9d51c2744d9959/40.642335,-73.78817,2019-10-29T04:41:12\n"
     ]
    }
   ],
   "source": [
    "# On second thought, let's build a class called req_url\n",
    "\n",
    "class req_url:\n",
    "    \n",
    "    # type_data is one of 'flight', 'airport', 'weather'\n",
    "    def __init__(self, type_data, airpt_code='lax', date=date.today(), start_hour=24, departure=True):\n",
    "      \n",
    "        # credentials for both apis\n",
    "        self.credentials = {\n",
    "            'flightstats': {\n",
    "                'appId' : os.environ.get('FSID'),\n",
    "                'appKey': os.environ.get('FSKEY')   \n",
    "            },\n",
    "            'darksky': {\n",
    "                'key': os.environ.get('DSKEY')\n",
    "            }\n",
    "        }\n",
    "      \n",
    "        # check to see if flight or airport info needed\n",
    "        if type_data == 'flight':         \n",
    "            self.source = 'https://api.flightstats.com/flex/flightstatus/rest/v2/json/airport/status'\n",
    "            self.dep = 'dep' if departure==True else 'arr'\n",
    "            self.url = f'{self.source}/{airpt_code}/{self.dep}/{date.year}/{date.month}/{date.day}/{start_hour}'\n",
    "\n",
    "            # additional parameters needed for request\n",
    "            self.add_params = {\n",
    "                'utc': 'true',\n",
    "                'numHours': '6'\n",
    "            }\n",
    "            \n",
    "        # dark sky api\n",
    "        elif type_data == 'weather':\n",
    "          \n",
    "            # we get the lat and long of the airport requested using flightstats api\n",
    "            res = requests.get(f'https://api.flightstats.com/flex/airports/rest/v1/json/iata/{airpt_code}', \n",
    "                               params=self.credentials['flightstats'])\n",
    "            \n",
    "            self.lat = res.json()['airports'][0]['latitude']\n",
    "            self.long = res.json()['airports'][0]['longitude']\n",
    "            self.time = res.json()['airports'][0]['localTime'][:-4]\n",
    "            self.source = 'https://api.darksky.net/forecast'\n",
    "            self.ds_key = '906506b4ec44e7ea8a9d51c2744d9959'      # dark sky api key\n",
    "            self.url = f'{self.source}/{self.ds_key}/{self.lat},{self.long},{self.time}'\n",
    "            \n",
    "            # additional parameters for excluding components of the response such as minutely weather\n",
    "            self.add_params = {\n",
    "                'exclude': 'minutely'\n",
    "            }\n",
    "            \n",
    "        else:\n",
    "            print(\"Error: type_data must be one of 'flight' or 'weather'\")\n",
    "\n",
    "fs_test = req_url('flight', 'jfk')\n",
    "ds_test = req_url('weather', 'jfk')\n",
    "print(fs_test.url)\n",
    "print(ds_test.url)"
   ]
  },
  {
   "cell_type": "markdown",
   "metadata": {},
   "source": [
    "## Collect Data and Store into Google Drive"
   ]
  },
  {
   "cell_type": "code",
   "execution_count": 0,
   "metadata": {
    "colab": {},
    "colab_type": "code",
    "id": "S3yMXFTeeL5j"
   },
   "outputs": [],
   "source": [
    "# modify to accomodate hourOfDay\n",
    "def collect_daily(days_ago):\n",
    "    today = datetime.now()\n",
    "  \n",
    "    for i in range(days_ago):\n",
    "        day = today - timedelta(days=i+1)\n",
    "        time_of_day = 0\n",
    "        \n",
    "        for j in range(4):\n",
    "            time_of_day = i * 6\n",
    "            print(build_fs_url('lax', day))\n",
    "    \n",
    "    \n",
    "#collect_daily(7)\n",
    "\n",
    "def collect_data(airpt_code, days_ago):\n",
    "  \n",
    "    # for now, maximum value for days_ago allowed is 7\n",
    "    if days_ago > 7:\n",
    "        print('Error: Cannot get flight history more than 7 days ago.')\n",
    "        return\n",
    "  \n",
    "    # first remove all previously downloaded data\n",
    "    folder = '/content/gdrive/My Drive/Colab Datasets/flights_data'\n",
    "\n",
    "    # remove all files in each of the folders present in the directory\n",
    "    for each_fldr in os.listdir(folder):\n",
    "        fldr_to_del = os.path.join(folder, each_fldr)\n",
    "        \n",
    "        for each_file in os.listdir(fldr_to_del):\n",
    "            file = os.path.join(fldr_to_del, each_file)\n",
    "            \n",
    "            # delete folder and its contents\n",
    "            try:\n",
    "                if os.path.isfile(file):\n",
    "                    os.unlink(file)\n",
    "            except:\n",
    "                print(e)\n",
    "  \n",
    "    now = datetime.now()\n",
    "    \n",
    "    # determine the starting hour of day for flight status  \n",
    "    if now.hour < 6:\n",
    "        start_hour = 6\n",
    "    elif now.hour < 12:\n",
    "        start_hour = 12\n",
    "    elif now.hour < 18:\n",
    "        start_hour = 18\n",
    "    else:\n",
    "        start_hour = 24\n",
    "        \n",
    "    for i in range(days_ago):        \n",
    "        date = today - timedelta(days=i)\n",
    "        \n",
    "        # flight status in 6-hour windows\n",
    "        if i > 0:\n",
    "            start_hour = 24\n",
    "        \n",
    "        while start_hour > 0:\n",
    "            \n",
    "            start_hour = start_hour - 6\n",
    "            #print(day, start_hour)\n",
    "            #print(build_fs_url('lax', day, start_hour))\n",
    "            \n",
    "            # flightstats api response\n",
    "            dep_req = req_url('flight', airpt_code, date, start_hour)\n",
    "            arr_req = req_url('flight', airpt_code, date, start_hour, False)\n",
    "            \n",
    "            # merge the credentials and additional params dictionaries\n",
    "            deps = requests.get(dep_req.url, params={**dep_req.credentials['flightstats'], **dep_req.add_params})\n",
    "            arrs = requests.get(arr_req.url, params={**arr_req.credentials['flightstats'], **arr_req.add_params})\n",
    "            \n",
    "            # flight status info from response\n",
    "            d_flt_sts = deps.json()['flightStatuses']    # departing flight statuses\n",
    "            a_flt_sts = arrs.json()['flightStatuses']    # arriving flight statuses\n",
    "                          \n",
    "            # save json to google drive\n",
    "            with open(f'/content/gdrive/My Drive/Colab Datasets/flights_data/departures/{date}.json', 'a') as f:\n",
    "                f.write(json.dumps(d_flt_sts))\n",
    "          \n",
    "            with open(f'/content/gdrive/My Drive/Colab Datasets/flights_data/arrivals/{date}.json', 'a') as f:\n",
    "                f.write(json.dumps(a_flt_sts))\n",
    "                \n",
    "            #print(res.url)\n",
    "            \n",
    "        # weather data in 1-day windows since api response already gives hourly weather cond\n",
    "        weather_req = req_url('weather', airpt_code, date)\n",
    "        \n",
    "        # get weather data for airport and date\n",
    "        weather = requests.get(weather_req.url, params={'exclude': ['minutely', 'daily', 'alerts']})\n",
    "        #print(weather.url)\n",
    "        \n",
    "        # extract hourly data\n",
    "        hourly_weather = weather.json()['hourly']['data']\n",
    "            \n",
    "        # store in google drive\n",
    "        with open(f'/content/gdrive/My Drive/Colab Datasets/flights_data/weather/{date}.json', 'w') as f:\n",
    "            f.write(json.dumps(hourly_weather))\n",
    "                        \n",
    "            \n",
    "collect_data('pdx', 3)\n",
    "\n",
    "            "
   ]
  },
  {
   "cell_type": "code",
   "execution_count": 70,
   "metadata": {
    "colab": {
     "base_uri": "https://localhost:8080/",
     "height": 105
    },
    "colab_type": "code",
    "id": "Tt-Nk27ojI3z",
    "outputId": "193c4206-8ad9-4356-9d74-637ddc5f2932"
   },
   "outputs": [
    {
     "name": "stdout",
     "output_type": "stream",
     "text": [
      "2019-10-28 08:53:38.169901\n",
      "2019-10-28 08:53:38.171746\n",
      "2019-10-28-8\n",
      "1572252818\n",
      "2019-10-20 07:00:00\n"
     ]
    }
   ],
   "source": [
    "print(datetime.today())\n",
    "print(datetime.now())\n",
    "print(f'{date.today()}-{datetime.now().hour}')\n",
    "print(int(time.time()))\n",
    "print(datetime.fromtimestamp(1571554800))"
   ]
  }
 ],
 "metadata": {
  "colab": {
   "name": "Final Capstone Functions",
   "provenance": []
  },
  "kernelspec": {
   "display_name": "Python 3",
   "language": "python",
   "name": "python3"
  },
  "language_info": {
   "codemirror_mode": {
    "name": "ipython",
    "version": 3
   },
   "file_extension": ".py",
   "mimetype": "text/x-python",
   "name": "python",
   "nbconvert_exporter": "python",
   "pygments_lexer": "ipython3",
   "version": "3.7.3"
  }
 },
 "nbformat": 4,
 "nbformat_minor": 1
}
