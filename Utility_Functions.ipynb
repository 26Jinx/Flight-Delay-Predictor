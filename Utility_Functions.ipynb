{
  "nbformat": 4,
  "nbformat_minor": 0,
  "metadata": {
    "colab": {
      "name": "Utility Functions",
      "provenance": [],
      "collapsed_sections": [],
      "include_colab_link": true
    },
    "kernelspec": {
      "name": "python3",
      "display_name": "Python 3"
    }
  },
  "cells": [
    {
      "cell_type": "markdown",
      "metadata": {
        "id": "view-in-github",
        "colab_type": "text"
      },
      "source": [
        "<a href=\"https://colab.research.google.com/github/PharahMain/Flight-Delay-Predictor/blob/master/Utility_Functions.ipynb\" target=\"_parent\"><img src=\"https://colab.research.google.com/assets/colab-badge.svg\" alt=\"Open In Colab\"/></a>"
      ]
    },
    {
      "cell_type": "markdown",
      "metadata": {
        "id": "laH1Lb66Expz",
        "colab_type": "text"
      },
      "source": [
        "# Install packages"
      ]
    },
    {
      "cell_type": "code",
      "metadata": {
        "id": "YDUkaLfkEQYZ",
        "colab_type": "code",
        "colab": {}
      },
      "source": [
        "import requests\n",
        "import pprint\n",
        "import pandas as pd\n",
        "import json\n",
        "from pandas.io.json import json_normalize\n",
        "import shutil\n",
        "import math\n",
        "import os"
      ],
      "execution_count": 0,
      "outputs": []
    },
    {
      "cell_type": "markdown",
      "metadata": {
        "id": "ucLjFvBxSLd9",
        "colab_type": "text"
      },
      "source": [
        "## Mount Google Drive"
      ]
    },
    {
      "cell_type": "code",
      "metadata": {
        "id": "hUGas0ieSKBm",
        "colab_type": "code",
        "outputId": "524f90ef-dfce-4b51-92c6-62df5d497f8d",
        "colab": {
          "base_uri": "https://localhost:8080/",
          "height": 125
        }
      },
      "source": [
        "from google.colab import drive\n",
        "drive.mount('/content/gdrive')"
      ],
      "execution_count": 2,
      "outputs": [
        {
          "output_type": "stream",
          "text": [
            "Go to this URL in a browser: https://accounts.google.com/o/oauth2/auth?client_id=947318989803-6bn6qk8qdgf4n4g3pfee6491hc0brc4i.apps.googleusercontent.com&redirect_uri=urn%3aietf%3awg%3aoauth%3a2.0%3aoob&response_type=code&scope=email%20https%3a%2f%2fwww.googleapis.com%2fauth%2fdocs.test%20https%3a%2f%2fwww.googleapis.com%2fauth%2fdrive%20https%3a%2f%2fwww.googleapis.com%2fauth%2fdrive.photos.readonly%20https%3a%2f%2fwww.googleapis.com%2fauth%2fpeopleapi.readonly\n",
            "\n",
            "Enter your authorization code:\n",
            "··········\n",
            "Mounted at /content/gdrive\n"
          ],
          "name": "stdout"
        }
      ]
    },
    {
      "cell_type": "markdown",
      "metadata": {
        "id": "tN2F9B8ycim7",
        "colab_type": "text"
      },
      "source": [
        "# Working with Date object"
      ]
    },
    {
      "cell_type": "code",
      "metadata": {
        "id": "cB_Xx0PvciKF",
        "colab_type": "code",
        "outputId": "37334545-00da-4466-c2ec-d3489df7552d",
        "colab": {
          "base_uri": "https://localhost:8080/",
          "height": 52
        }
      },
      "source": [
        "from datetime import datetime, date, timedelta\n",
        "import time\n",
        "print(time.time())\n",
        "print(datetime.now())\n"
      ],
      "execution_count": 3,
      "outputs": [
        {
          "output_type": "stream",
          "text": [
            "1583185246.7601986\n",
            "2020-03-02 21:40:46.761434\n"
          ],
          "name": "stdout"
        }
      ]
    },
    {
      "cell_type": "code",
      "metadata": {
        "id": "kMc8E2P9PApO",
        "colab_type": "code",
        "colab": {}
      },
      "source": [
        "cur_time = datetime.now()"
      ],
      "execution_count": 0,
      "outputs": []
    },
    {
      "cell_type": "code",
      "metadata": {
        "id": "M5BXiqOmn0pj",
        "colab_type": "code",
        "outputId": "7dcaa237-1d17-477d-8b5d-ee603c0f3d7e",
        "colab": {
          "base_uri": "https://localhost:8080/",
          "height": 34
        }
      },
      "source": [
        "cur_time.hour"
      ],
      "execution_count": 0,
      "outputs": [
        {
          "output_type": "execute_result",
          "data": {
            "text/plain": [
              "8"
            ]
          },
          "metadata": {
            "tags": []
          },
          "execution_count": 37
        }
      ]
    },
    {
      "cell_type": "markdown",
      "metadata": {
        "id": "kb8RNvGcr46b",
        "colab_type": "text"
      },
      "source": [
        "## Import FlightStats API credentials"
      ]
    },
    {
      "cell_type": "code",
      "metadata": {
        "id": "sPjkvyJSsOZE",
        "colab_type": "code",
        "colab": {}
      },
      "source": [
        "# Import PyDrive and associated libraries.\n",
        "# This only needs to be done once per notebook.\n",
        "from pydrive.auth import GoogleAuth\n",
        "from pydrive.drive import GoogleDrive\n",
        "from google.colab import auth\n",
        "from oauth2client.client import GoogleCredentials\n",
        "\n",
        "# Authenticate and create the PyDrive client.\n",
        "# This only needs to be done once per notebook.\n",
        "auth.authenticate_user()\n",
        "gauth = GoogleAuth()\n",
        "gauth.credentials = GoogleCredentials.get_application_default()\n",
        "drive = GoogleDrive(gauth)\n"
      ],
      "execution_count": 0,
      "outputs": []
    },
    {
      "cell_type": "code",
      "metadata": {
        "id": "xhdZTSKACAbQ",
        "colab_type": "code",
        "colab": {
          "base_uri": "https://localhost:8080/",
          "height": 54
        },
        "outputId": "20e10ce5-c4b5-41a6-c38b-32c549b5cc20"
      },
      "source": [
        "# Download a file based on its file ID.\n",
        "#\n",
        "# A file ID looks like: laggVyWshwcyP6kEI-y_W3P8D26sz\n",
        "file_id = '169lkP3e4Atlkm7spBrUfLON8644sPq_D'\n",
        "your_module = drive.CreateFile({'id': file_id})\n",
        "your_module.GetContentFile('credentials.py')\n",
        "#print('Downloaded content \"{}\"'.format(your_module.GetContentString()))\n",
        "\n",
        "from credentials import credentials\n",
        "#print(credentials)"
      ],
      "execution_count": 9,
      "outputs": [
        {
          "output_type": "stream",
          "text": [
            "{'flightstats': {'app_id': 'e8796153', 'app_key': '2f52990a9ee6f421b7fe185f0b5ff65c'}, 'darksky': {'secret_key': 'b2afde3263764a0a70cd9d113ed1a42f'}}\n"
          ],
          "name": "stdout"
        }
      ]
    },
    {
      "cell_type": "markdown",
      "metadata": {
        "id": "Yu54oaH_rtgG",
        "colab_type": "text"
      },
      "source": [
        "# Collect Data on an interval"
      ]
    },
    {
      "cell_type": "code",
      "metadata": {
        "id": "xZ1T0NKnr3M5",
        "colab_type": "code",
        "outputId": "b7510349-efda-4fa1-8ec1-744f563f29a9",
        "colab": {
          "base_uri": "https://localhost:8080/",
          "height": 34
        }
      },
      "source": [
        "today = date.today()\n",
        "print(today)"
      ],
      "execution_count": 0,
      "outputs": [
        {
          "output_type": "stream",
          "text": [
            "2019-10-30\n"
          ],
          "name": "stdout"
        }
      ]
    },
    {
      "cell_type": "code",
      "metadata": {
        "id": "jwhEkQany00z",
        "colab_type": "code",
        "outputId": "91ca2858-55cf-44b5-ad76-e17c25b2dc77",
        "colab": {
          "base_uri": "https://localhost:8080/",
          "height": 34
        }
      },
      "source": [
        "# math operation on days?\n",
        "print(today.day - 5)"
      ],
      "execution_count": 0,
      "outputs": [
        {
          "output_type": "stream",
          "text": [
            "25\n"
          ],
          "name": "stdout"
        }
      ]
    },
    {
      "cell_type": "code",
      "metadata": {
        "id": "Or0EaoCO0zwY",
        "colab_type": "code",
        "outputId": "3deec111-cdcc-4bca-c979-9888176c53a2",
        "colab": {
          "base_uri": "https://localhost:8080/",
          "height": 34
        }
      },
      "source": [
        "# day of the week\n",
        "print(date.weekday(today))"
      ],
      "execution_count": 0,
      "outputs": [
        {
          "output_type": "stream",
          "text": [
            "2\n"
          ],
          "name": "stdout"
        }
      ]
    },
    {
      "cell_type": "code",
      "metadata": {
        "id": "tv3PyuvP2I3I",
        "colab_type": "code",
        "outputId": "a400ba80-eb23-4748-8376-dd063aa34708",
        "colab": {
          "base_uri": "https://localhost:8080/",
          "height": 34
        }
      },
      "source": [
        "# a date n days ago from today\n",
        "diff = timedelta(days=7)\n",
        "week_ago = today - diff\n",
        "print(week_ago)"
      ],
      "execution_count": 0,
      "outputs": [
        {
          "output_type": "stream",
          "text": [
            "2019-10-23\n"
          ],
          "name": "stdout"
        }
      ]
    },
    {
      "cell_type": "code",
      "metadata": {
        "colab_type": "code",
        "outputId": "0263fc37-cfc7-4be3-f739-fc871a74fb54",
        "id": "59WHRO4FsByk",
        "colab": {
          "base_uri": "https://localhost:8080/",
          "height": 72
        }
      },
      "source": [
        "def print_days(days_ago):\n",
        "    now = datetime.now()\n",
        "  \n",
        "    for i in range(days_ago):\n",
        "        print(now - timedelta(days=i+1))\n",
        "    \n",
        "#print_days(5)\n",
        "\n",
        "def print_hours(days):\n",
        "    chunks = days*4\n",
        "    now = datetime.now()\n",
        "    print(now)\n",
        "    times = [now - timedelta(hours=(6*(j+1))) for j in range(chunks)]\n",
        "    print(times)\n",
        "\n",
        "print_hours(1)"
      ],
      "execution_count": 0,
      "outputs": [
        {
          "output_type": "stream",
          "text": [
            "2020-01-17 01:39:28.362274\n",
            "[datetime.datetime(2020, 1, 16, 19, 39, 28, 362274), datetime.datetime(2020, 1, 16, 13, 39, 28, 362274), datetime.datetime(2020, 1, 16, 7, 39, 28, 362274), datetime.datetime(2020, 1, 16, 1, 39, 28, 362274)]\n"
          ],
          "name": "stdout"
        }
      ]
    },
    {
      "cell_type": "code",
      "metadata": {
        "id": "vSEVY93w-di7",
        "colab_type": "code",
        "outputId": "b9487405-5ced-4dd8-9b37-8605382d0309",
        "colab": {
          "base_uri": "https://localhost:8080/",
          "height": 107
        }
      },
      "source": [
        "# let's make some changes to our original url builder function to make it more dynamic\n",
        "\n",
        "def build_fs_url(airpt_code, date, start_hour, departure):\n",
        "  \n",
        "    print(date)\n",
        "    \n",
        "    # airport status endpoint\n",
        "    url = 'https://api.flightstats.com/flex/flightstatus/rest/v2/json/airport/status'\n",
        "    airport = airpt_code\n",
        "    dep = 'dep' if departure == True else 'arr'\n",
        "    year = date.year\n",
        "    month = date.month\n",
        "    day = date.day\n",
        "    hod = start_hour       \n",
        "\n",
        "    url = f'{url}/{airport}/{dep}/{year}/{month}/{day}/{hod}'\n",
        "    \n",
        "    return url\n",
        "\n",
        "add_params = {\n",
        "    'appId' : os.getenv('FSID'),\n",
        "    'appKey': os.getenv('FSKEY'),\n",
        "    'utc': 'true',\n",
        "    'numHours': '6'\n",
        "}  \n",
        "\n",
        "\n",
        "res = requests.get(build_fs_url('lax', datetime.now(), 13, True), params=add_params)\n",
        "\n",
        "print(res.url)\n",
        "print(res.status_code)\n",
        "print(res.json())\n"
      ],
      "execution_count": 0,
      "outputs": [
        {
          "output_type": "stream",
          "text": [
            "2020-01-16 23:17:53.007453\n",
            "https://api.flightstats.com/flex/flightstatus/rest/v2/json/airport/status/lax/dep/2020/1/16/13?utc=true&numHours=6\n",
            "200\n",
            "{'error': {'httpStatusCode': 401, 'errorId': 'd6e93a48-ba7b-4328-a735-93cd47277519', 'errorMessage': 'You must specify an appId', 'errorCode': 'UNAUTHORIZED'}}\n"
          ],
          "name": "stdout"
        }
      ]
    },
    {
      "cell_type": "code",
      "metadata": {
        "id": "WS5yO7IjRyDP",
        "colab_type": "code",
        "colab": {}
      },
      "source": [
        "# On second thought, let's build a class called req_url\n",
        "\n",
        "class req_url:\n",
        "    \n",
        "    # type_data is one of 'flight', 'airport', 'weather'\n",
        "    def __init__(self, type_data, airpt_code='lax', date=date.today(), start_hour=24, departure=True):\n",
        "      \n",
        "        # credentials for both apis\n",
        "        self.credentials = {\n",
        "            'flightstats': {\n",
        "                'appId' : credentials['flightstats']['app_id'],\n",
        "                'appKey': credentials['flightstats']['app_key'] \n",
        "            },\n",
        "            'darksky': {\n",
        "                'key': credentials['darksky']['secret_key']\n",
        "            }\n",
        "        }\n",
        "      \n",
        "        # check to see if flight or airport info needed\n",
        "        if type_data is 'flight':         \n",
        "            self.source = 'https://api.flightstats.com/flex/flightstatus/rest/v2/json/airport/status'\n",
        "            self.dep = 'dep' if departure is True else 'arr'\n",
        "            self.url = f'{self.source}/{airpt_code}/{self.dep}/{date.year}/{date.month}/{date.day}/{start_hour}'\n",
        "\n",
        "            # additional parameters needed for request\n",
        "            self.add_params = {\n",
        "                'utc': 'false',\n",
        "                'numHours': '6'\n",
        "            }\n",
        "            \n",
        "        # dark sky api\n",
        "        elif type_data is 'weather':\n",
        "          \n",
        "            # we get the lat and long of the airport requested using flightstats api\n",
        "            res = requests.get(f'https://api.flightstats.com/flex/airports/rest/v1/json/iata/{airpt_code}', \n",
        "                               params=self.credentials['flightstats'])\n",
        "            #print(self.credentials['flightstats'])\n",
        "\n",
        "            self.lat = res.json()['airports'][0]['latitude']\n",
        "            self.long = res.json()['airports'][0]['longitude']\n",
        "            self.time = res.json()['airports'][0]['localTime'][:-4]\n",
        "            self.source = 'https://api.darksky.net/forecast'\n",
        "            self.ds_key = self.credentials['darksky']['key']      # dark sky api key\n",
        "            self.url = f'{self.source}/{self.ds_key}/{self.lat},{self.long},{self.time}'\n",
        "            \n",
        "            # additional parameters for excluding components of the response such as minutely weather\n",
        "            self.add_params = {\n",
        "                'exclude': 'minutely'\n",
        "            }\n",
        "            \n",
        "        else:\n",
        "            print(\"Error: type_data must be one of 'flight' or 'weather'\")\n",
        "\n"
      ],
      "execution_count": 0,
      "outputs": []
    },
    {
      "cell_type": "code",
      "metadata": {
        "id": "64paVaSDMtz7",
        "colab_type": "code",
        "colab": {
          "base_uri": "https://localhost:8080/",
          "height": 34
        },
        "outputId": "bfdc50c1-ff71-41cf-f281-598e37745ebb"
      },
      "source": [
        "fs_test = req_url('flight', 'jfk', departure=False)\n",
        "#ds_test = req_url('weather', 'jfk')\n",
        "print(fs_test.url)\n",
        "#print(ds_test.url)"
      ],
      "execution_count": 7,
      "outputs": [
        {
          "output_type": "stream",
          "text": [
            "https://api.flightstats.com/flex/flightstatus/rest/v2/json/airport/status/jfk/arr/2020/3/2/24\n"
          ],
          "name": "stdout"
        }
      ]
    },
    {
      "cell_type": "code",
      "metadata": {
        "id": "S3yMXFTeeL5j",
        "colab_type": "code",
        "outputId": "dbd5bbcf-ea7b-4cf3-92b1-590c412ef7eb",
        "colab": {
          "base_uri": "https://localhost:8080/",
          "height": 402
        }
      },
      "source": [
        "# modify to accomodate hourOfDay\n",
        "def collect_daily(days_ago):\n",
        "    today = datetime.now()\n",
        "  \n",
        "    for i in range(days_ago):\n",
        "        day = today - timedelta(days=i+1)\n",
        "        time_of_day = 0\n",
        "        \n",
        "        for j in range(4):\n",
        "            time_of_day = j * 6\n",
        "            print(build_fs_url('lax', day))\n",
        "    \n",
        "    \n",
        "#collect_daily(7)\n",
        "\n",
        "def collect_data(airpt_code, days_ago):\n",
        "  \n",
        "    # for now, maximum value for days_ago allowed is 7\n",
        "    if days_ago > 7:\n",
        "        print('Error: Cannot get flight history more than 7 days ago.')\n",
        "        return\n",
        "  \n",
        "    # first remove all previously downloaded data\n",
        "    folder = '/content/gdrive/My Drive/Colab Datasets/flights_data'\n",
        "\n",
        "    # remove all files in each of the folders present in the directory\n",
        "    # stop removing old data while building and testing\n",
        "    # we can use the old data instead of making a call everytime\n",
        "    '''\n",
        "    for each_fldr in os.listdir(folder):\n",
        "        fldr_to_del = os.path.join(folder, each_fldr)\n",
        "        \n",
        "        for each_file in os.listdir(fldr_to_del):\n",
        "            file = os.path.join(fldr_to_del, each_file)\n",
        "            \n",
        "            # delete folder and its contents\n",
        "            try:\n",
        "                if os.path.isfile(file):\n",
        "                    os.unlink(file)\n",
        "            except:\n",
        "                print(e)\n",
        "    '''\n",
        "  \n",
        "    now = datetime.now()\n",
        "\n",
        "    # Since we want the statuses from the last 24 hrs, and can only grab six hours at a time,\n",
        "    # we need to format the api request as such that the last partial hour (most current) is \n",
        "    # captured\n",
        "    windows = days_ago * 4\n",
        "    req_date = date.today()\n",
        "    start_times = [now-timedelta(hours=6*(i+1)) for i in range(windows)]\n",
        "    for t in start_times:\n",
        "            \n",
        "        # flightstats api response\n",
        "        dep_req = req_url('flight', airpt_code, t.date(), t.hour)\n",
        "        arr_req = req_url('flight', airpt_code, t.date(), t.hour, False)\n",
        "        \n",
        "        # merge the credentials and additional params dictionaries\n",
        "        deps = requests.get(dep_req.url, params={**dep_req.credentials['flightstats'], **dep_req.add_params})\n",
        "        print(deps.json())\n",
        "        arrs = requests.get(arr_req.url, params={**arr_req.credentials['flightstats'], **arr_req.add_params})\n",
        "        \n",
        "        # flight status info from response\n",
        "        d_flt_sts = deps.json()['flightStatuses']    # departing flight statuses\n",
        "        a_flt_sts = arrs.json()['flightStatuses']    # arriving flight statuses\n",
        "                        \n",
        "        # save json to google drive\n",
        "        with open(f'/content/gdrive/My Drive/Colab Datasets/flights_data/departures/{req_date}.json', 'a') as f:\n",
        "            f.write(json.dumps(d_flt_sts))\n",
        "        \n",
        "        with open(f'/content/gdrive/My Drive/Colab Datasets/flights_data/arrivals/{req_date}.json', 'a') as f:\n",
        "            f.write(json.dumps(a_flt_sts))\n",
        "            \n",
        "        #print(res.url)\n",
        "            \n",
        "        # weather data in 1-day windows since api response already gives hourly weather cond\n",
        "        weather_req = req_url('weather', airpt_code, date)\n",
        "        \n",
        "        # get weather data for airport and date\n",
        "        weather = requests.get(weather_req.url, params={'exclude': ['minutely', 'daily', 'alerts']})\n",
        "        #print(weather.url)\n",
        "        \n",
        "        # extract hourly data\n",
        "        hourly_weather = weather.json()['hourly']['data']\n",
        "            \n",
        "        # store in google drive\n",
        "        with open(f'/content/gdrive/My Drive/Colab Datasets/flights_data/weather/{req_date}.json', 'a') as f:\n",
        "            f.write(json.dumps(hourly_weather))\n",
        "                                   \n",
        "collect_data('lax', 1)\n",
        "\n",
        "            "
      ],
      "execution_count": 8,
      "outputs": [
        {
          "output_type": "stream",
          "text": [
            "{'error': {'httpStatusCode': 403, 'errorId': 'f293c35b-c3ce-4ed3-b908-eaaa15cc03af', 'errorMessage': 'application is not active', 'errorCode': 'FORBIDDEN'}}\n"
          ],
          "name": "stdout"
        },
        {
          "output_type": "error",
          "ename": "KeyError",
          "evalue": "ignored",
          "traceback": [
            "\u001b[0;31m---------------------------------------------------------------------------\u001b[0m",
            "\u001b[0;31mKeyError\u001b[0m                                  Traceback (most recent call last)",
            "\u001b[0;32m<ipython-input-8-71ace5c3e5b6>\u001b[0m in \u001b[0;36m<module>\u001b[0;34m()\u001b[0m\n\u001b[1;32m     87\u001b[0m             \u001b[0mf\u001b[0m\u001b[0;34m.\u001b[0m\u001b[0mwrite\u001b[0m\u001b[0;34m(\u001b[0m\u001b[0mjson\u001b[0m\u001b[0;34m.\u001b[0m\u001b[0mdumps\u001b[0m\u001b[0;34m(\u001b[0m\u001b[0mhourly_weather\u001b[0m\u001b[0;34m)\u001b[0m\u001b[0;34m)\u001b[0m\u001b[0;34m\u001b[0m\u001b[0;34m\u001b[0m\u001b[0m\n\u001b[1;32m     88\u001b[0m \u001b[0;34m\u001b[0m\u001b[0m\n\u001b[0;32m---> 89\u001b[0;31m \u001b[0mcollect_data\u001b[0m\u001b[0;34m(\u001b[0m\u001b[0;34m'lax'\u001b[0m\u001b[0;34m,\u001b[0m \u001b[0;36m1\u001b[0m\u001b[0;34m)\u001b[0m\u001b[0;34m\u001b[0m\u001b[0;34m\u001b[0m\u001b[0m\n\u001b[0m\u001b[1;32m     90\u001b[0m \u001b[0;34m\u001b[0m\u001b[0m\n\u001b[1;32m     91\u001b[0m \u001b[0;34m\u001b[0m\u001b[0m\n",
            "\u001b[0;32m<ipython-input-8-71ace5c3e5b6>\u001b[0m in \u001b[0;36mcollect_data\u001b[0;34m(airpt_code, days_ago)\u001b[0m\n\u001b[1;32m     61\u001b[0m \u001b[0;34m\u001b[0m\u001b[0m\n\u001b[1;32m     62\u001b[0m         \u001b[0;31m# flight status info from response\u001b[0m\u001b[0;34m\u001b[0m\u001b[0;34m\u001b[0m\u001b[0;34m\u001b[0m\u001b[0m\n\u001b[0;32m---> 63\u001b[0;31m         \u001b[0md_flt_sts\u001b[0m \u001b[0;34m=\u001b[0m \u001b[0mdeps\u001b[0m\u001b[0;34m.\u001b[0m\u001b[0mjson\u001b[0m\u001b[0;34m(\u001b[0m\u001b[0;34m)\u001b[0m\u001b[0;34m[\u001b[0m\u001b[0;34m'flightStatuses'\u001b[0m\u001b[0;34m]\u001b[0m    \u001b[0;31m# departing flight statuses\u001b[0m\u001b[0;34m\u001b[0m\u001b[0;34m\u001b[0m\u001b[0m\n\u001b[0m\u001b[1;32m     64\u001b[0m         \u001b[0ma_flt_sts\u001b[0m \u001b[0;34m=\u001b[0m \u001b[0marrs\u001b[0m\u001b[0;34m.\u001b[0m\u001b[0mjson\u001b[0m\u001b[0;34m(\u001b[0m\u001b[0;34m)\u001b[0m\u001b[0;34m[\u001b[0m\u001b[0;34m'flightStatuses'\u001b[0m\u001b[0;34m]\u001b[0m    \u001b[0;31m# arriving flight statuses\u001b[0m\u001b[0;34m\u001b[0m\u001b[0;34m\u001b[0m\u001b[0m\n\u001b[1;32m     65\u001b[0m \u001b[0;34m\u001b[0m\u001b[0m\n",
            "\u001b[0;31mKeyError\u001b[0m: 'flightStatuses'"
          ]
        }
      ]
    },
    {
      "cell_type": "code",
      "metadata": {
        "id": "Ju2-dAbi058H",
        "colab_type": "code",
        "outputId": "296190c3-e418-41db-fc38-f476d6475a59",
        "colab": {
          "base_uri": "https://localhost:8080/",
          "height": 87
        }
      },
      "source": [
        "now = datetime.now()\n",
        "days_ago = 1\n",
        "windows = days_ago * 4\n",
        "\n",
        "start_times = [now-timedelta(hours=6*(i+1)) for i in range(windows)]\n",
        "for t in start_times:\n",
        "    print(f\"date is {t.date()} and hour is {t.hour}\")"
      ],
      "execution_count": 0,
      "outputs": [
        {
          "output_type": "stream",
          "text": [
            "date is 2020-01-17 and hour is 14\n",
            "date is 2020-01-17 and hour is 8\n",
            "date is 2020-01-17 and hour is 2\n",
            "date is 2020-01-16 and hour is 20\n"
          ],
          "name": "stdout"
        }
      ]
    },
    {
      "cell_type": "code",
      "metadata": {
        "id": "Tt-Nk27ojI3z",
        "colab_type": "code",
        "outputId": "193c4206-8ad9-4356-9d74-637ddc5f2932",
        "colab": {
          "base_uri": "https://localhost:8080/",
          "height": 105
        }
      },
      "source": [
        "print(datetime.today())\n",
        "print(datetime.now())\n",
        "print(f'{date.today()}-{datetime.now().hour}')\n",
        "print(int(time.time()))\n",
        "print(datetime.fromtimestamp(1571554800))"
      ],
      "execution_count": 0,
      "outputs": [
        {
          "output_type": "stream",
          "text": [
            "2019-10-28 08:53:38.169901\n",
            "2019-10-28 08:53:38.171746\n",
            "2019-10-28-8\n",
            "1572252818\n",
            "2019-10-20 07:00:00\n"
          ],
          "name": "stdout"
        }
      ]
    }
  ]
}