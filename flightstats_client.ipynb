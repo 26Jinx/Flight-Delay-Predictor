{
  "nbformat": 4,
  "nbformat_minor": 0,
  "metadata": {
    "colab": {
      "name": "flightstats_client.ipynb",
      "provenance": [],
      "include_colab_link": true
    },
    "kernelspec": {
      "name": "python3",
      "display_name": "Python 3"
    }
  },
  "cells": [
    {
      "cell_type": "markdown",
      "metadata": {
        "id": "view-in-github",
        "colab_type": "text"
      },
      "source": [
        "<a href=\"https://colab.research.google.com/github/PharahMain/Flight-Delay-Predictor/blob/master/flightstats_client.ipynb\" target=\"_parent\"><img src=\"https://colab.research.google.com/assets/colab-badge.svg\" alt=\"Open In Colab\"/></a>"
      ]
    },
    {
      "cell_type": "code",
      "metadata": {
        "id": "1t9wd42bcPva",
        "colab_type": "code",
        "colab": {}
      },
      "source": [
        "!apt-get install openjdk-8-jdk-headless -qq > /dev/null\n",
        "!wget -q http://apache.osuosl.org/spark/spark-2.4.4/spark-2.4.4-bin-hadoop2.7.tgz\n",
        "!tar xf spark-2.4.4-bin-hadoop2.7.tgz"
      ],
      "execution_count": 0,
      "outputs": []
    },
    {
      "cell_type": "code",
      "metadata": {
        "id": "TmbbxreyIa-i",
        "colab_type": "code",
        "outputId": "c7acd004-f025-4f40-932d-8dc50806ad6f",
        "colab": {
          "base_uri": "https://localhost:8080/",
          "height": 285
        }
      },
      "source": [
        "# Install spark-related depdencies for Python\n",
        "!pip install -q findspark\n",
        "!pip install pyspark"
      ],
      "execution_count": 3,
      "outputs": [
        {
          "output_type": "stream",
          "text": [
            "Collecting pyspark\n",
            "\u001b[?25l  Downloading https://files.pythonhosted.org/packages/87/21/f05c186f4ddb01d15d0ddc36ef4b7e3cedbeb6412274a41f26b55a650ee5/pyspark-2.4.4.tar.gz (215.7MB)\n",
            "\u001b[K     |████████████████████████████████| 215.7MB 62kB/s \n",
            "\u001b[33mWARNING: Retrying (Retry(total=4, connect=None, read=None, redirect=None, status=None)) after connection broken by 'ProtocolError('Connection aborted.', ConnectionResetError(104, 'Connection reset by peer'))': /simple/py4j/\u001b[0m\n",
            "\u001b[?25hCollecting py4j==0.10.7\n",
            "\u001b[?25l  Downloading https://files.pythonhosted.org/packages/e3/53/c737818eb9a7dc32a7cd4f1396e787bd94200c3997c72c1dbe028587bd76/py4j-0.10.7-py2.py3-none-any.whl (197kB)\n",
            "\u001b[K     |████████████████████████████████| 204kB 56.7MB/s \n",
            "\u001b[?25hBuilding wheels for collected packages: pyspark\n",
            "  Building wheel for pyspark (setup.py) ... \u001b[?25l\u001b[?25hdone\n",
            "  Created wheel for pyspark: filename=pyspark-2.4.4-py2.py3-none-any.whl size=216130387 sha256=74b47eb209cb1b717a59a95e68e791812f4eb2d0f565b21711b8294bfbf4a724\n",
            "  Stored in directory: /root/.cache/pip/wheels/ab/09/4d/0d184230058e654eb1b04467dbc1292f00eaa186544604b471\n",
            "Successfully built pyspark\n",
            "Installing collected packages: py4j, pyspark\n",
            "Successfully installed py4j-0.10.7 pyspark-2.4.4\n"
          ],
          "name": "stdout"
        }
      ]
    },
    {
      "cell_type": "code",
      "metadata": {
        "id": "VC-cF1MOJCvu",
        "colab_type": "code",
        "colab": {}
      },
      "source": [
        "# Set up required environment variables\n",
        "\n",
        "import os\n",
        "os.environ[\"JAVA_HOME\"] = \"/usr/lib/jvm/java-8-openjdk-amd64\"\n",
        "os.environ[\"SPARK_HOME\"] = \"/content/spark-2.4.4-bin-hadoop2.7\""
      ],
      "execution_count": 0,
      "outputs": []
    },
    {
      "cell_type": "code",
      "metadata": {
        "id": "Ac7IYHQAJHVA",
        "colab_type": "code",
        "outputId": "89b7fee3-901d-4115-b059-eaae71fbb85e",
        "colab": {
          "base_uri": "https://localhost:8080/",
          "height": 54
        }
      },
      "source": [
        "# Point Colaboratory to Google Drive\n",
        "\n",
        "from google.colab import drive\n",
        "drive.mount('/content/gdrive')"
      ],
      "execution_count": 33,
      "outputs": [
        {
          "output_type": "stream",
          "text": [
            "Drive already mounted at /content/gdrive; to attempt to forcibly remount, call drive.mount(\"/content/gdrive\", force_remount=True).\n"
          ],
          "name": "stdout"
        }
      ]
    },
    {
      "cell_type": "code",
      "metadata": {
        "id": "UMRIotL2JJ-k",
        "colab_type": "code",
        "colab": {}
      },
      "source": [
        "from pyspark import SparkContext\n",
        "from pyspark.sql import SparkSession\n",
        "\n",
        "from pyspark.ml import Pipeline\n",
        "from pyspark.ml.regression import LinearRegression\n",
        "from pyspark.ml.regression import RandomForestRegressor\n",
        "from pyspark.ml.evaluation import RegressionEvaluator\n",
        "\n",
        "from pyspark.sql.functions import isnan, when, count, col\n",
        "from pyspark.sql.functions import month, dayofweek, weekofyear, hour, minute\n",
        "from pyspark.sql.functions import monotonically_increasing_id\n",
        "from pyspark.sql.types import DateType, TimestampType\n",
        "\n",
        "from datetime import datetime, date, timedelta\n",
        "import time"
      ],
      "execution_count": 0,
      "outputs": []
    },
    {
      "cell_type": "code",
      "metadata": {
        "id": "WU0T4_oWMK4Z",
        "colab_type": "code",
        "colab": {}
      },
      "source": [
        "#ARR_JSON_PATH = f\"/content/gdrive/My Drive/Colab Datasets/flights_data/arrivals/{date.today()}.json\"\n",
        "# for testing\n",
        "ARR_JSON_PATH = \"/content/gdrive/My Drive/Colab Datasets/flights_data/arrivals/2020-01-17.json\"\n",
        "\n",
        "#DEP_JSON_PATH = f\"/content/gdrive/My Drive/Colab Datasets/flights_data/departures/{date.today()}.json\"\n",
        "DEP_JSON_PATH = f\"/content/gdrive/My Drive/Colab Datasets/flights_data/departures/2020-01-17.json\"\n",
        "\n",
        "#WEATH_JSON_PATH = f\"/content/gdrive/My Drive/Colab Datasets/flights_data/weather/{date.today()}.json\"\n",
        "WEATH_JSON_PATH = f\"/content/gdrive/My Drive/Colab Datasets/flights_data/weather/2020-01-17.json\"\n",
        "\n",
        "APP_NAME = 'Flight Delay Predictor'\n",
        "SPARK_URL = 'local[*]'\n",
        "RANDOM_SEED = 263646\n",
        "TRAINING_DATA_RATIO = 0.7"
      ],
      "execution_count": 0,
      "outputs": []
    },
    {
      "cell_type": "code",
      "metadata": {
        "id": "fNHzaNf2iwCc",
        "colab_type": "code",
        "colab": {}
      },
      "source": [
        "spark = SparkSession.builder.appName(APP_NAME).master(SPARK_URL).getOrCreate()"
      ],
      "execution_count": 0,
      "outputs": []
    },
    {
      "cell_type": "code",
      "metadata": {
        "id": "6L0XNeJ_jahq",
        "colab_type": "code",
        "outputId": "ff429307-b2a2-49fa-a222-980e09040a07",
        "colab": {
          "base_uri": "https://localhost:8080/",
          "height": 232
        }
      },
      "source": [
        "df_arr = spark.read.json(ARR_JSON_PATH)\n",
        "df_arr.show(5)"
      ],
      "execution_count": 82,
      "outputs": [
        {
          "output_type": "stream",
          "text": [
            "+--------------------+--------------------+--------------------+-------------+--------------------+--------------------+----------------------+--------------------+---------------------+--------------------+------------------+----------+------------+--------------------+--------------------+------+\n",
            "|    airportResources|arrivalAirportFsCode|         arrivalDate|carrierFsCode|          codeshares|              delays|departureAirportFsCode|       departureDate|divertedAirportFsCode|     flightDurations|   flightEquipment|  flightId|flightNumber|    operationalTimes|            schedule|status|\n",
            "+--------------------+--------------------+--------------------+-------------+--------------------+--------------------+----------------------+--------------------+---------------------+--------------------+------------------+----------+------------+--------------------+--------------------+------+\n",
            "|      [, TBIT,, C9,]|                 LAX|[2020-01-17T13:10...|           QR|     [[3515, UL, L]]|      [, 13, 52, 60]|                   DOH|[2020-01-17T07:45...|                 null|[, 1021, 985,, 10...|[77L, 77L, A7-BBA]|1028199581|         739|[, [2020-01-17T08...|  [[], J, , RJY, []]|     A|\n",
            "|     [, TBIT,, 8, 1]|                 LAX|[2020-01-17T13:15...|           QF|[[7328, AA, L], [...|[205, 247, 226, 240]|                   SYD|[2020-01-17T18:25...|                 null|[, 763, 830, 57, ...|[388, 388, VH-OQJ]|1028197993|          17|[, [2020-01-17T22...| [[], J, , RFJY, []]|     A|\n",
            "| [, TBIT, D6, 30, D]|                 LAX|[2020-01-17T13:50...|           SU|                  []|          [14, 23,,]|                   SVO|[2020-01-17T12:00...|                 null|[, 745, 770, 15, ...|[332, 332, VQ-BBE]|1028204787|         106|[, [2020-01-17T11...|  [[], J, , RJY, []]|     A|\n",
            "|    [, TBIT,, 18, I]|                 LAX|[2020-01-17T14:00...|           NZ|[[6091, AC, L], [...|       [, 7, 17, 25]|                   AKL|[2020-01-17T22:55...|                 null|[, 681, 725, 34, ...|[77W, 77W, ZK-OKS]|1028193159|           2|[, [2020-01-17T23...|[[[1028193174, LH...|     A|\n",
            "|[, TBIT, TBIT, 17...|                 LAX|[2020-01-17T14:40...|           AA|     [[1622, CZ, L]]|               [,,,]|                   PEK|[2020-01-17T18:30...|                 null|[, 683, 730, 10, ...|[788, 788, N813AN]|1028129626|         180|[, [2020-01-17T18...| [[], J, , RFJY, []]|     A|\n",
            "+--------------------+--------------------+--------------------+-------------+--------------------+--------------------+----------------------+--------------------+---------------------+--------------------+------------------+----------+------------+--------------------+--------------------+------+\n",
            "only showing top 5 rows\n",
            "\n"
          ],
          "name": "stdout"
        }
      ]
    },
    {
      "cell_type": "markdown",
      "metadata": {
        "id": "U7CImS0RqxqG",
        "colab_type": "text"
      },
      "source": [
        "The data in a little more detail."
      ]
    },
    {
      "cell_type": "code",
      "metadata": {
        "id": "gi16LYxjp3B4",
        "colab_type": "code",
        "outputId": "8f91fbab-eccd-491d-b09a-6b2c49f8a296",
        "colab": {
          "base_uri": "https://localhost:8080/",
          "height": 125
        }
      },
      "source": [
        "df_arr.head(5)"
      ],
      "execution_count": 83,
      "outputs": [
        {
          "output_type": "execute_result",
          "data": {
            "text/plain": [
              "[Row(airportResources=Row(arrivalGate=None, arrivalTerminal='TBIT', baggage=None, departureGate='C9', departureTerminal=None), arrivalAirportFsCode='LAX', arrivalDate=Row(dateLocal='2020-01-17T13:10:00.000', dateUtc='2020-01-17T21:10:00.000Z'), carrierFsCode='QR', codeshares=[Row(flightNumber='3515', fsCode='UL', relationship='L')], delays=Row(arrivalGateDelayMinutes=None, arrivalRunwayDelayMinutes=13, departureGateDelayMinutes=52, departureRunwayDelayMinutes=60), departureAirportFsCode='DOH', departureDate=Row(dateLocal='2020-01-17T07:45:00.000', dateUtc='2020-01-17T04:45:00.000Z'), divertedAirportFsCode=None, flightDurations=Row(blockMinutes=None, scheduledAirMinutes=1021, scheduledBlockMinutes=985, scheduledTaxiInMinutes=None, scheduledTaxiOutMinutes=10, taxiOutMinutes=18), flightEquipment=Row(actualEquipmentIataCode='77L', scheduledEquipmentIataCode='77L', tailNumber='A7-BBA'), flightId=1028199581, flightNumber='739', operationalTimes=Row(actualGateArrival=None, actualGateDeparture=Row(dateLocal='2020-01-17T08:37:00.000', dateUtc='2020-01-17T05:37:00.000Z'), actualRunwayDeparture=Row(dateLocal='2020-01-17T08:55:00.000', dateUtc='2020-01-17T05:55:00.000Z'), estimatedGateArrival=None, estimatedGateDeparture=Row(dateLocal='2020-01-17T08:37:00.000', dateUtc='2020-01-17T05:37:00.000Z'), estimatedRunwayArrival=Row(dateLocal='2020-01-17T14:09:00.000', dateUtc='2020-01-17T22:09:00.000Z'), estimatedRunwayDeparture=Row(dateLocal='2020-01-17T08:55:00.000', dateUtc='2020-01-17T05:55:00.000Z'), flightPlanPlannedArrival=Row(dateLocal='2020-01-17T13:56:00.000', dateUtc='2020-01-17T21:56:00.000Z'), flightPlanPlannedDeparture=Row(dateLocal='2020-01-17T07:55:00.000', dateUtc='2020-01-17T04:55:00.000Z'), publishedArrival=Row(dateLocal='2020-01-17T13:10:00.000', dateUtc='2020-01-17T21:10:00.000Z'), publishedDeparture=Row(dateLocal='2020-01-17T07:45:00.000', dateUtc='2020-01-17T04:45:00.000Z'), scheduledGateArrival=Row(dateLocal='2020-01-17T13:10:00.000', dateUtc='2020-01-17T21:10:00.000Z'), scheduledGateDeparture=Row(dateLocal='2020-01-17T07:45:00.000', dateUtc='2020-01-17T04:45:00.000Z'), scheduledRunwayArrival=Row(dateLocal='2020-01-17T13:56:00.000', dateUtc='2020-01-17T21:56:00.000Z'), scheduledRunwayDeparture=Row(dateLocal='2020-01-17T07:55:00.000', dateUtc='2020-01-17T04:55:00.000Z')), schedule=Row(downlines=[], flightType='J', restrictions='', serviceClasses='RJY', uplines=[]), status='A'),\n",
              " Row(airportResources=Row(arrivalGate=None, arrivalTerminal='TBIT', baggage=None, departureGate='8', departureTerminal='1'), arrivalAirportFsCode='LAX', arrivalDate=Row(dateLocal='2020-01-17T13:15:00.000', dateUtc='2020-01-17T21:15:00.000Z'), carrierFsCode='QF', codeshares=[Row(flightNumber='7328', fsCode='AA', relationship='L'), Row(flightNumber='6003', fsCode='WS', relationship='L')], delays=Row(arrivalGateDelayMinutes=205, arrivalRunwayDelayMinutes=247, departureGateDelayMinutes=226, departureRunwayDelayMinutes=240), departureAirportFsCode='SYD', departureDate=Row(dateLocal='2020-01-17T18:25:00.000', dateUtc='2020-01-17T07:25:00.000Z'), divertedAirportFsCode=None, flightDurations=Row(blockMinutes=None, scheduledAirMinutes=763, scheduledBlockMinutes=830, scheduledTaxiInMinutes=57, scheduledTaxiOutMinutes=10, taxiOutMinutes=24), flightEquipment=Row(actualEquipmentIataCode='388', scheduledEquipmentIataCode='388', tailNumber='VH-OQJ'), flightId=1028197993, flightNumber='17', operationalTimes=Row(actualGateArrival=None, actualGateDeparture=Row(dateLocal='2020-01-17T22:11:00.000', dateUtc='2020-01-17T11:11:00.000Z'), actualRunwayDeparture=Row(dateLocal='2020-01-17T22:35:00.000', dateUtc='2020-01-17T11:35:00.000Z'), estimatedGateArrival=Row(dateLocal='2020-01-17T16:40:00.000', dateUtc='2020-01-18T00:40:00.000Z'), estimatedGateDeparture=Row(dateLocal='2020-01-17T22:11:00.000', dateUtc='2020-01-17T11:11:00.000Z'), estimatedRunwayArrival=Row(dateLocal='2020-01-17T16:25:00.000', dateUtc='2020-01-18T00:25:00.000Z'), estimatedRunwayDeparture=Row(dateLocal='2020-01-17T22:35:00.000', dateUtc='2020-01-17T11:35:00.000Z'), flightPlanPlannedArrival=Row(dateLocal='2020-01-17T12:18:00.000', dateUtc='2020-01-17T20:18:00.000Z'), flightPlanPlannedDeparture=Row(dateLocal='2020-01-17T18:35:00.000', dateUtc='2020-01-17T07:35:00.000Z'), publishedArrival=Row(dateLocal='2020-01-17T13:15:00.000', dateUtc='2020-01-17T21:15:00.000Z'), publishedDeparture=Row(dateLocal='2020-01-17T18:25:00.000', dateUtc='2020-01-17T07:25:00.000Z'), scheduledGateArrival=Row(dateLocal='2020-01-17T13:15:00.000', dateUtc='2020-01-17T21:15:00.000Z'), scheduledGateDeparture=Row(dateLocal='2020-01-17T18:25:00.000', dateUtc='2020-01-17T07:25:00.000Z'), scheduledRunwayArrival=Row(dateLocal='2020-01-17T12:18:00.000', dateUtc='2020-01-17T20:18:00.000Z'), scheduledRunwayDeparture=Row(dateLocal='2020-01-17T18:35:00.000', dateUtc='2020-01-17T07:35:00.000Z')), schedule=Row(downlines=[], flightType='J', restrictions='', serviceClasses='RFJY', uplines=[]), status='A'),\n",
              " Row(airportResources=Row(arrivalGate=None, arrivalTerminal='TBIT', baggage='D6', departureGate='30', departureTerminal='D'), arrivalAirportFsCode='LAX', arrivalDate=Row(dateLocal='2020-01-17T13:50:00.000', dateUtc='2020-01-17T21:50:00.000Z'), carrierFsCode='SU', codeshares=[], delays=Row(arrivalGateDelayMinutes=14, arrivalRunwayDelayMinutes=23, departureGateDelayMinutes=None, departureRunwayDelayMinutes=None), departureAirportFsCode='SVO', departureDate=Row(dateLocal='2020-01-17T12:00:00.000', dateUtc='2020-01-17T09:00:00.000Z'), divertedAirportFsCode=None, flightDurations=Row(blockMinutes=None, scheduledAirMinutes=745, scheduledBlockMinutes=770, scheduledTaxiInMinutes=15, scheduledTaxiOutMinutes=10, taxiOutMinutes=23), flightEquipment=Row(actualEquipmentIataCode='332', scheduledEquipmentIataCode='332', tailNumber='VQ-BBE'), flightId=1028204787, flightNumber='106', operationalTimes=Row(actualGateArrival=None, actualGateDeparture=Row(dateLocal='2020-01-17T11:46:00.000', dateUtc='2020-01-17T08:46:00.000Z'), actualRunwayDeparture=Row(dateLocal='2020-01-17T12:09:00.000', dateUtc='2020-01-17T09:09:00.000Z'), estimatedGateArrival=Row(dateLocal='2020-01-17T14:04:00.000', dateUtc='2020-01-17T22:04:00.000Z'), estimatedGateDeparture=Row(dateLocal='2020-01-17T11:46:00.000', dateUtc='2020-01-17T08:46:00.000Z'), estimatedRunwayArrival=Row(dateLocal='2020-01-17T13:58:00.000', dateUtc='2020-01-17T21:58:00.000Z'), estimatedRunwayDeparture=Row(dateLocal='2020-01-17T12:09:00.000', dateUtc='2020-01-17T09:09:00.000Z'), flightPlanPlannedArrival=Row(dateLocal='2020-01-17T13:35:00.000', dateUtc='2020-01-17T21:35:00.000Z'), flightPlanPlannedDeparture=Row(dateLocal='2020-01-17T12:10:00.000', dateUtc='2020-01-17T09:10:00.000Z'), publishedArrival=Row(dateLocal='2020-01-17T13:50:00.000', dateUtc='2020-01-17T21:50:00.000Z'), publishedDeparture=Row(dateLocal='2020-01-17T12:00:00.000', dateUtc='2020-01-17T09:00:00.000Z'), scheduledGateArrival=Row(dateLocal='2020-01-17T13:50:00.000', dateUtc='2020-01-17T21:50:00.000Z'), scheduledGateDeparture=Row(dateLocal='2020-01-17T12:00:00.000', dateUtc='2020-01-17T09:00:00.000Z'), scheduledRunwayArrival=Row(dateLocal='2020-01-17T13:35:00.000', dateUtc='2020-01-17T21:35:00.000Z'), scheduledRunwayDeparture=Row(dateLocal='2020-01-17T12:10:00.000', dateUtc='2020-01-17T09:10:00.000Z')), schedule=Row(downlines=[], flightType='J', restrictions='', serviceClasses='RJY', uplines=[]), status='A'),\n",
              " Row(airportResources=Row(arrivalGate=None, arrivalTerminal='TBIT', baggage=None, departureGate='18', departureTerminal='I'), arrivalAirportFsCode='LAX', arrivalDate=Row(dateLocal='2020-01-17T14:00:00.000', dateUtc='2020-01-17T22:00:00.000Z'), carrierFsCode='NZ', codeshares=[Row(flightNumber='6091', fsCode='AC', relationship='L'), Row(flightNumber='7161', fsCode='LH', relationship='L'), Row(flightNumber='8724', fsCode='TK', relationship='L'), Row(flightNumber='6750', fsCode='UA', relationship='L')], delays=Row(arrivalGateDelayMinutes=None, arrivalRunwayDelayMinutes=7, departureGateDelayMinutes=17, departureRunwayDelayMinutes=25), departureAirportFsCode='AKL', departureDate=Row(dateLocal='2020-01-17T22:55:00.000', dateUtc='2020-01-17T09:55:00.000Z'), divertedAirportFsCode=None, flightDurations=Row(blockMinutes=None, scheduledAirMinutes=681, scheduledBlockMinutes=725, scheduledTaxiInMinutes=34, scheduledTaxiOutMinutes=10, taxiOutMinutes=18), flightEquipment=Row(actualEquipmentIataCode='77W', scheduledEquipmentIataCode='77W', tailNumber='ZK-OKS'), flightId=1028193159, flightNumber='2', operationalTimes=Row(actualGateArrival=None, actualGateDeparture=Row(dateLocal='2020-01-17T23:12:00.000', dateUtc='2020-01-17T10:12:00.000Z'), actualRunwayDeparture=Row(dateLocal='2020-01-17T23:30:00.000', dateUtc='2020-01-17T10:30:00.000Z'), estimatedGateArrival=Row(dateLocal='2020-01-17T13:39:00.000', dateUtc='2020-01-17T21:39:00.000Z'), estimatedGateDeparture=Row(dateLocal='2020-01-17T23:12:00.000', dateUtc='2020-01-17T10:12:00.000Z'), estimatedRunwayArrival=Row(dateLocal='2020-01-17T13:33:00.000', dateUtc='2020-01-17T21:33:00.000Z'), estimatedRunwayDeparture=Row(dateLocal='2020-01-17T23:30:00.000', dateUtc='2020-01-17T10:30:00.000Z'), flightPlanPlannedArrival=Row(dateLocal='2020-01-17T13:26:00.000', dateUtc='2020-01-17T21:26:00.000Z'), flightPlanPlannedDeparture=Row(dateLocal='2020-01-17T23:05:00.000', dateUtc='2020-01-17T10:05:00.000Z'), publishedArrival=Row(dateLocal='2020-01-17T14:00:00.000', dateUtc='2020-01-17T22:00:00.000Z'), publishedDeparture=Row(dateLocal='2020-01-17T22:55:00.000', dateUtc='2020-01-17T09:55:00.000Z'), scheduledGateArrival=Row(dateLocal='2020-01-17T14:00:00.000', dateUtc='2020-01-17T22:00:00.000Z'), scheduledGateDeparture=Row(dateLocal='2020-01-17T22:55:00.000', dateUtc='2020-01-17T09:55:00.000Z'), scheduledRunwayArrival=Row(dateLocal='2020-01-17T13:26:00.000', dateUtc='2020-01-17T21:26:00.000Z'), scheduledRunwayDeparture=Row(dateLocal='2020-01-17T23:05:00.000', dateUtc='2020-01-17T10:05:00.000Z')), schedule=Row(downlines=[Row(flightId=1028193174, fsCode='LHR')], flightType='J', restrictions='', serviceClasses='FJY', uplines=[]), status='A'),\n",
              " Row(airportResources=Row(arrivalGate=None, arrivalTerminal='TBIT', baggage='TBIT', departureGate='17', departureTerminal='2'), arrivalAirportFsCode='LAX', arrivalDate=Row(dateLocal='2020-01-17T14:40:00.000', dateUtc='2020-01-17T22:40:00.000Z'), carrierFsCode='AA', codeshares=[Row(flightNumber='1622', fsCode='CZ', relationship='L')], delays=Row(arrivalGateDelayMinutes=None, arrivalRunwayDelayMinutes=None, departureGateDelayMinutes=None, departureRunwayDelayMinutes=None), departureAirportFsCode='PEK', departureDate=Row(dateLocal='2020-01-17T18:30:00.000', dateUtc='2020-01-17T10:30:00.000Z'), divertedAirportFsCode=None, flightDurations=Row(blockMinutes=None, scheduledAirMinutes=683, scheduledBlockMinutes=730, scheduledTaxiInMinutes=10, scheduledTaxiOutMinutes=37, taxiOutMinutes=22), flightEquipment=Row(actualEquipmentIataCode='788', scheduledEquipmentIataCode='788', tailNumber='N813AN'), flightId=1028129626, flightNumber='180', operationalTimes=Row(actualGateArrival=None, actualGateDeparture=Row(dateLocal='2020-01-17T18:17:00.000', dateUtc='2020-01-17T10:17:00.000Z'), actualRunwayDeparture=Row(dateLocal='2020-01-17T18:39:00.000', dateUtc='2020-01-17T10:39:00.000Z'), estimatedGateArrival=Row(dateLocal='2020-01-17T14:13:00.000', dateUtc='2020-01-17T22:13:00.000Z'), estimatedGateDeparture=Row(dateLocal='2020-01-17T18:17:00.000', dateUtc='2020-01-17T10:17:00.000Z'), estimatedRunwayArrival=Row(dateLocal='2020-01-17T14:02:00.000', dateUtc='2020-01-17T22:02:00.000Z'), estimatedRunwayDeparture=Row(dateLocal='2020-01-17T18:39:00.000', dateUtc='2020-01-17T10:39:00.000Z'), flightPlanPlannedArrival=Row(dateLocal='2020-01-17T14:30:00.000', dateUtc='2020-01-17T22:30:00.000Z'), flightPlanPlannedDeparture=Row(dateLocal='2020-01-17T19:07:00.000', dateUtc='2020-01-17T11:07:00.000Z'), publishedArrival=Row(dateLocal='2020-01-17T14:40:00.000', dateUtc='2020-01-17T22:40:00.000Z'), publishedDeparture=Row(dateLocal='2020-01-17T18:30:00.000', dateUtc='2020-01-17T10:30:00.000Z'), scheduledGateArrival=Row(dateLocal='2020-01-17T14:40:00.000', dateUtc='2020-01-17T22:40:00.000Z'), scheduledGateDeparture=Row(dateLocal='2020-01-17T18:30:00.000', dateUtc='2020-01-17T10:30:00.000Z'), scheduledRunwayArrival=Row(dateLocal='2020-01-17T14:30:00.000', dateUtc='2020-01-17T22:30:00.000Z'), scheduledRunwayDeparture=Row(dateLocal='2020-01-17T19:07:00.000', dateUtc='2020-01-17T11:07:00.000Z')), schedule=Row(downlines=[], flightType='J', restrictions='', serviceClasses='RFJY', uplines=[]), status='A')]"
            ]
          },
          "metadata": {
            "tags": []
          },
          "execution_count": 83
        }
      ]
    },
    {
      "cell_type": "markdown",
      "metadata": {
        "id": "pU1M4g0Hq4nn",
        "colab_type": "text"
      },
      "source": [
        "Let's see how many flights arrived at LAX in the past 24 hours."
      ]
    },
    {
      "cell_type": "code",
      "metadata": {
        "id": "Csdq7Ta7qEVA",
        "colab_type": "code",
        "outputId": "40bbc33b-adf7-4f3a-a830-2d002c15fec9",
        "colab": {
          "base_uri": "https://localhost:8080/",
          "height": 34
        }
      },
      "source": [
        "df_arr.count()"
      ],
      "execution_count": 84,
      "outputs": [
        {
          "output_type": "execute_result",
          "data": {
            "text/plain": [
              "337"
            ]
          },
          "metadata": {
            "tags": []
          },
          "execution_count": 84
        }
      ]
    },
    {
      "cell_type": "markdown",
      "metadata": {
        "id": "5Rg_7TequuZ6",
        "colab_type": "text"
      },
      "source": [
        "Let's first drop all the unnecessary columns."
      ]
    },
    {
      "cell_type": "code",
      "metadata": {
        "id": "lrqU_5lzutys",
        "colab_type": "code",
        "outputId": "261d95c5-5f70-452a-a561-569f5eabe43c",
        "colab": {
          "base_uri": "https://localhost:8080/",
          "height": 232
        }
      },
      "source": [
        "df_arr = df_arr.drop('airportResources', 'codeshares', 'departureDate',\n",
        "            'divertedAirportFsCode', 'operationalTimes', 'schedule', 'status',\n",
        "            'flightId', 'flightNumber')\n",
        "df_arr.show(5)"
      ],
      "execution_count": 85,
      "outputs": [
        {
          "output_type": "stream",
          "text": [
            "+--------------------+--------------------+-------------+--------------------+----------------------+--------------------+------------------+\n",
            "|arrivalAirportFsCode|         arrivalDate|carrierFsCode|              delays|departureAirportFsCode|     flightDurations|   flightEquipment|\n",
            "+--------------------+--------------------+-------------+--------------------+----------------------+--------------------+------------------+\n",
            "|                 LAX|[2020-01-17T13:10...|           QR|      [, 13, 52, 60]|                   DOH|[, 1021, 985,, 10...|[77L, 77L, A7-BBA]|\n",
            "|                 LAX|[2020-01-17T13:15...|           QF|[205, 247, 226, 240]|                   SYD|[, 763, 830, 57, ...|[388, 388, VH-OQJ]|\n",
            "|                 LAX|[2020-01-17T13:50...|           SU|          [14, 23,,]|                   SVO|[, 745, 770, 15, ...|[332, 332, VQ-BBE]|\n",
            "|                 LAX|[2020-01-17T14:00...|           NZ|       [, 7, 17, 25]|                   AKL|[, 681, 725, 34, ...|[77W, 77W, ZK-OKS]|\n",
            "|                 LAX|[2020-01-17T14:40...|           AA|               [,,,]|                   PEK|[, 683, 730, 10, ...|[788, 788, N813AN]|\n",
            "+--------------------+--------------------+-------------+--------------------+----------------------+--------------------+------------------+\n",
            "only showing top 5 rows\n",
            "\n"
          ],
          "name": "stdout"
        }
      ]
    },
    {
      "cell_type": "code",
      "metadata": {
        "id": "rUau0XFl_bUT",
        "colab_type": "code",
        "outputId": "b9808b3f-4151-4baf-b282-48741eacabd9",
        "colab": {
          "base_uri": "https://localhost:8080/",
          "height": 443
        }
      },
      "source": [
        "df_arr.printSchema()"
      ],
      "execution_count": 86,
      "outputs": [
        {
          "output_type": "stream",
          "text": [
            "root\n",
            " |-- arrivalAirportFsCode: string (nullable = true)\n",
            " |-- arrivalDate: struct (nullable = true)\n",
            " |    |-- dateLocal: string (nullable = true)\n",
            " |    |-- dateUtc: string (nullable = true)\n",
            " |-- carrierFsCode: string (nullable = true)\n",
            " |-- delays: struct (nullable = true)\n",
            " |    |-- arrivalGateDelayMinutes: long (nullable = true)\n",
            " |    |-- arrivalRunwayDelayMinutes: long (nullable = true)\n",
            " |    |-- departureGateDelayMinutes: long (nullable = true)\n",
            " |    |-- departureRunwayDelayMinutes: long (nullable = true)\n",
            " |-- departureAirportFsCode: string (nullable = true)\n",
            " |-- flightDurations: struct (nullable = true)\n",
            " |    |-- blockMinutes: long (nullable = true)\n",
            " |    |-- scheduledAirMinutes: long (nullable = true)\n",
            " |    |-- scheduledBlockMinutes: long (nullable = true)\n",
            " |    |-- scheduledTaxiInMinutes: long (nullable = true)\n",
            " |    |-- scheduledTaxiOutMinutes: long (nullable = true)\n",
            " |    |-- taxiOutMinutes: long (nullable = true)\n",
            " |-- flightEquipment: struct (nullable = true)\n",
            " |    |-- actualEquipmentIataCode: string (nullable = true)\n",
            " |    |-- scheduledEquipmentIataCode: string (nullable = true)\n",
            " |    |-- tailNumber: string (nullable = true)\n",
            "\n"
          ],
          "name": "stdout"
        }
      ]
    },
    {
      "cell_type": "markdown",
      "metadata": {
        "id": "S0y_wN53x6LV",
        "colab_type": "text"
      },
      "source": [
        "Let's explore the dataframe a little bit here."
      ]
    },
    {
      "cell_type": "code",
      "metadata": {
        "id": "zn-3Oz5Rx5td",
        "colab_type": "code",
        "outputId": "68770f17-109c-48a7-9769-8d8a32d9f95f",
        "colab": {
          "base_uri": "https://localhost:8080/",
          "height": 478
        }
      },
      "source": [
        "df_arr.groupBy('carrierFsCode').count().orderBy('count', ascending=False).show()"
      ],
      "execution_count": 87,
      "outputs": [
        {
          "output_type": "stream",
          "text": [
            "+-------------+-----+\n",
            "|carrierFsCode|count|\n",
            "+-------------+-----+\n",
            "|           DL|   48|\n",
            "|           AA|   45|\n",
            "|           OO|   44|\n",
            "|           WN|   42|\n",
            "|           CP|   30|\n",
            "|           UA|   25|\n",
            "|           AS|   24|\n",
            "|           NK|    6|\n",
            "|           B6|    6|\n",
            "|           QX|    5|\n",
            "|           AC|    4|\n",
            "|           Y4|    3|\n",
            "|           BA|    3|\n",
            "|           WS|    3|\n",
            "|           QF|    3|\n",
            "|           CZ|    2|\n",
            "|           BR|    2|\n",
            "|           1I|    2|\n",
            "|          BAI|    2|\n",
            "|           OZ|    2|\n",
            "+-------------+-----+\n",
            "only showing top 20 rows\n",
            "\n"
          ],
          "name": "stdout"
        }
      ]
    },
    {
      "cell_type": "markdown",
      "metadata": {
        "id": "cgq0VGMM2hbB",
        "colab_type": "text"
      },
      "source": [
        "Let's see what the busiest time of the day is for LAX next. But before we do that, I'm going to separate out the arrival time from 'arrivalDate'."
      ]
    },
    {
      "cell_type": "code",
      "metadata": {
        "id": "eosnJa1K3Crk",
        "colab_type": "code",
        "outputId": "3dfaa662-860a-43b3-899e-007b780e022f",
        "colab": {
          "base_uri": "https://localhost:8080/",
          "height": 212
        }
      },
      "source": [
        "# first need to extract the date info from the arrivalDate struct\n",
        "df_arr = df_arr.withColumn('localDate', col('arrivalDate').getField('dateLocal'))\n",
        "#df_arr.select('localDate').show(5)\n",
        "\n",
        "df_arr = df_arr.withColumn('localTimeStamp', df_arr['localDate'].cast(TimestampType()))\n",
        "df_arr.select('localTimeStamp').show(5)"
      ],
      "execution_count": 88,
      "outputs": [
        {
          "output_type": "stream",
          "text": [
            "+-------------------+\n",
            "|     localTimeStamp|\n",
            "+-------------------+\n",
            "|2020-01-17 13:10:00|\n",
            "|2020-01-17 13:15:00|\n",
            "|2020-01-17 13:50:00|\n",
            "|2020-01-17 14:00:00|\n",
            "|2020-01-17 14:40:00|\n",
            "+-------------------+\n",
            "only showing top 5 rows\n",
            "\n"
          ],
          "name": "stdout"
        }
      ]
    },
    {
      "cell_type": "markdown",
      "metadata": {
        "id": "D70jFpglPfT3",
        "colab_type": "text"
      },
      "source": [
        "Give each time increment its own column."
      ]
    },
    {
      "cell_type": "code",
      "metadata": {
        "id": "25bzGIpM2t8a",
        "colab_type": "code",
        "outputId": "0d805bd7-c158-4c4e-c13e-cadbe0c36e33",
        "colab": {
          "base_uri": "https://localhost:8080/",
          "height": 232
        }
      },
      "source": [
        "df_arr.withColumn('date', col('localTimeStamp').cast('date')).withColumn('hour', hour(col('localTimeStamp'))).withColumn('minute', minute(col('localTimeStamp'))).show(5)"
      ],
      "execution_count": 89,
      "outputs": [
        {
          "output_type": "stream",
          "text": [
            "+--------------------+--------------------+-------------+--------------------+----------------------+--------------------+------------------+--------------------+-------------------+----------+----+------+\n",
            "|arrivalAirportFsCode|         arrivalDate|carrierFsCode|              delays|departureAirportFsCode|     flightDurations|   flightEquipment|           localDate|     localTimeStamp|      date|hour|minute|\n",
            "+--------------------+--------------------+-------------+--------------------+----------------------+--------------------+------------------+--------------------+-------------------+----------+----+------+\n",
            "|                 LAX|[2020-01-17T13:10...|           QR|      [, 13, 52, 60]|                   DOH|[, 1021, 985,, 10...|[77L, 77L, A7-BBA]|2020-01-17T13:10:...|2020-01-17 13:10:00|2020-01-17|  13|    10|\n",
            "|                 LAX|[2020-01-17T13:15...|           QF|[205, 247, 226, 240]|                   SYD|[, 763, 830, 57, ...|[388, 388, VH-OQJ]|2020-01-17T13:15:...|2020-01-17 13:15:00|2020-01-17|  13|    15|\n",
            "|                 LAX|[2020-01-17T13:50...|           SU|          [14, 23,,]|                   SVO|[, 745, 770, 15, ...|[332, 332, VQ-BBE]|2020-01-17T13:50:...|2020-01-17 13:50:00|2020-01-17|  13|    50|\n",
            "|                 LAX|[2020-01-17T14:00...|           NZ|       [, 7, 17, 25]|                   AKL|[, 681, 725, 34, ...|[77W, 77W, ZK-OKS]|2020-01-17T14:00:...|2020-01-17 14:00:00|2020-01-17|  14|     0|\n",
            "|                 LAX|[2020-01-17T14:40...|           AA|               [,,,]|                   PEK|[, 683, 730, 10, ...|[788, 788, N813AN]|2020-01-17T14:40:...|2020-01-17 14:40:00|2020-01-17|  14|    40|\n",
            "+--------------------+--------------------+-------------+--------------------+----------------------+--------------------+------------------+--------------------+-------------------+----------+----+------+\n",
            "only showing top 5 rows\n",
            "\n"
          ],
          "name": "stdout"
        }
      ]
    },
    {
      "cell_type": "markdown",
      "metadata": {
        "id": "a_FLYh8EWUq3",
        "colab_type": "text"
      },
      "source": [
        "Since travel tends to change with the time of year, let's also add on weekOfYear and dayOfWeek as well."
      ]
    },
    {
      "cell_type": "code",
      "metadata": {
        "id": "lokV6JbLWUM0",
        "colab_type": "code",
        "outputId": "2490b124-774e-4b14-ba7c-af5a8ff44ba4",
        "colab": {
          "base_uri": "https://localhost:8080/",
          "height": 232
        }
      },
      "source": [
        "df_arr.withColumn('weekOfYear', weekofyear(col('localTimeStamp'))).withColumn('dayOfWeek', dayofweek(col('localTimeStamp'))).show(5)"
      ],
      "execution_count": 90,
      "outputs": [
        {
          "output_type": "stream",
          "text": [
            "+--------------------+--------------------+-------------+--------------------+----------------------+--------------------+------------------+--------------------+-------------------+----------+---------+\n",
            "|arrivalAirportFsCode|         arrivalDate|carrierFsCode|              delays|departureAirportFsCode|     flightDurations|   flightEquipment|           localDate|     localTimeStamp|weekOfYear|dayOfWeek|\n",
            "+--------------------+--------------------+-------------+--------------------+----------------------+--------------------+------------------+--------------------+-------------------+----------+---------+\n",
            "|                 LAX|[2020-01-17T13:10...|           QR|      [, 13, 52, 60]|                   DOH|[, 1021, 985,, 10...|[77L, 77L, A7-BBA]|2020-01-17T13:10:...|2020-01-17 13:10:00|         3|        6|\n",
            "|                 LAX|[2020-01-17T13:15...|           QF|[205, 247, 226, 240]|                   SYD|[, 763, 830, 57, ...|[388, 388, VH-OQJ]|2020-01-17T13:15:...|2020-01-17 13:15:00|         3|        6|\n",
            "|                 LAX|[2020-01-17T13:50...|           SU|          [14, 23,,]|                   SVO|[, 745, 770, 15, ...|[332, 332, VQ-BBE]|2020-01-17T13:50:...|2020-01-17 13:50:00|         3|        6|\n",
            "|                 LAX|[2020-01-17T14:00...|           NZ|       [, 7, 17, 25]|                   AKL|[, 681, 725, 34, ...|[77W, 77W, ZK-OKS]|2020-01-17T14:00:...|2020-01-17 14:00:00|         3|        6|\n",
            "|                 LAX|[2020-01-17T14:40...|           AA|               [,,,]|                   PEK|[, 683, 730, 10, ...|[788, 788, N813AN]|2020-01-17T14:40:...|2020-01-17 14:40:00|         3|        6|\n",
            "+--------------------+--------------------+-------------+--------------------+----------------------+--------------------+------------------+--------------------+-------------------+----------+---------+\n",
            "only showing top 5 rows\n",
            "\n"
          ],
          "name": "stdout"
        }
      ]
    },
    {
      "cell_type": "markdown",
      "metadata": {
        "id": "deuSA2sQcNGe",
        "colab_type": "text"
      },
      "source": [
        "Delays column, the column that contains our target data, is an array of four values. They are minutes of delay in different stages of the flight but, since travelers don't really care where the delays occur, but rather how long the delays are, let's sum up the numbers to get one total delayed minutes."
      ]
    },
    {
      "cell_type": "code",
      "metadata": {
        "id": "HfcIPqAKA92U",
        "colab_type": "code",
        "colab": {
          "base_uri": "https://localhost:8080/",
          "height": 212
        },
        "outputId": "2a5ba5eb-7e37-4db5-fd42-c536f727dbe8"
      },
      "source": [
        "# a df with just the delay data\n",
        "delay_df = df_arr.select('delays.*').na.fill(0)\n",
        "delay_df.show(5)"
      ],
      "execution_count": 91,
      "outputs": [
        {
          "output_type": "stream",
          "text": [
            "+-----------------------+-------------------------+-------------------------+---------------------------+\n",
            "|arrivalGateDelayMinutes|arrivalRunwayDelayMinutes|departureGateDelayMinutes|departureRunwayDelayMinutes|\n",
            "+-----------------------+-------------------------+-------------------------+---------------------------+\n",
            "|                      0|                       13|                       52|                         60|\n",
            "|                    205|                      247|                      226|                        240|\n",
            "|                     14|                       23|                        0|                          0|\n",
            "|                      0|                        7|                       17|                         25|\n",
            "|                      0|                        0|                        0|                          0|\n",
            "+-----------------------+-------------------------+-------------------------+---------------------------+\n",
            "only showing top 5 rows\n",
            "\n"
          ],
          "name": "stdout"
        }
      ]
    },
    {
      "cell_type": "code",
      "metadata": {
        "id": "4cG12MmNc81J",
        "colab_type": "code",
        "outputId": "60e073f6-5ac1-4d75-c8a8-0dc0d6ba4f9f",
        "colab": {
          "base_uri": "https://localhost:8080/",
          "height": 212
        }
      },
      "source": [
        "# create a new column in main arrival df with total delay minutes\n",
        "delay_df = delay_df.withColumn('totalDelay', sum(delay_df[col] for col in delay_df.columns))\n",
        "delay_df = delay_df.select('*').withColumn('d_id', monotonically_increasing_id())\n",
        "\n",
        "delay_df.show(5)\n"
      ],
      "execution_count": 92,
      "outputs": [
        {
          "output_type": "stream",
          "text": [
            "+-----------------------+-------------------------+-------------------------+---------------------------+----------+----+\n",
            "|arrivalGateDelayMinutes|arrivalRunwayDelayMinutes|departureGateDelayMinutes|departureRunwayDelayMinutes|totalDelay|d_id|\n",
            "+-----------------------+-------------------------+-------------------------+---------------------------+----------+----+\n",
            "|                      0|                       13|                       52|                         60|       125|   0|\n",
            "|                    205|                      247|                      226|                        240|       918|   1|\n",
            "|                     14|                       23|                        0|                          0|        37|   2|\n",
            "|                      0|                        7|                       17|                         25|        49|   3|\n",
            "|                      0|                        0|                        0|                          0|         0|   4|\n",
            "+-----------------------+-------------------------+-------------------------+---------------------------+----------+----+\n",
            "only showing top 5 rows\n",
            "\n"
          ],
          "name": "stdout"
        }
      ]
    },
    {
      "cell_type": "markdown",
      "metadata": {
        "id": "B_VNT9Ng07hz",
        "colab_type": "text"
      },
      "source": [
        "Now let's merge this table with the main table."
      ]
    },
    {
      "cell_type": "code",
      "metadata": {
        "id": "TZAckuVs1G2q",
        "colab_type": "code",
        "outputId": "d50a0f17-ca39-4855-effa-cad7d51b964f",
        "colab": {
          "base_uri": "https://localhost:8080/",
          "height": 232
        }
      },
      "source": [
        "# In order to join two dataframes, we need to create an index column to join the two \n",
        "# dataframes on\n",
        "df_arr = df_arr.select('*').withColumn('id', monotonically_increasing_id())\n",
        "\n",
        "df_arr = df_arr.join(delay_df, col('id') == col('d_id'), how='leftouter').drop('d_id')\n",
        "df_arr.show(5)"
      ],
      "execution_count": 93,
      "outputs": [
        {
          "output_type": "stream",
          "text": [
            "+--------------------+--------------------+-------------+--------------------+----------------------+--------------------+------------------+--------------------+-------------------+---+-----------------------+-------------------------+-------------------------+---------------------------+----------+\n",
            "|arrivalAirportFsCode|         arrivalDate|carrierFsCode|              delays|departureAirportFsCode|     flightDurations|   flightEquipment|           localDate|     localTimeStamp| id|arrivalGateDelayMinutes|arrivalRunwayDelayMinutes|departureGateDelayMinutes|departureRunwayDelayMinutes|totalDelay|\n",
            "+--------------------+--------------------+-------------+--------------------+----------------------+--------------------+------------------+--------------------+-------------------+---+-----------------------+-------------------------+-------------------------+---------------------------+----------+\n",
            "|                 LAX|[2020-01-17T13:10...|           QR|      [, 13, 52, 60]|                   DOH|[, 1021, 985,, 10...|[77L, 77L, A7-BBA]|2020-01-17T13:10:...|2020-01-17 13:10:00|  0|                      0|                       13|                       52|                         60|       125|\n",
            "|                 LAX|[2020-01-17T13:15...|           QF|[205, 247, 226, 240]|                   SYD|[, 763, 830, 57, ...|[388, 388, VH-OQJ]|2020-01-17T13:15:...|2020-01-17 13:15:00|  1|                    205|                      247|                      226|                        240|       918|\n",
            "|                 LAX|[2020-01-17T13:50...|           SU|          [14, 23,,]|                   SVO|[, 745, 770, 15, ...|[332, 332, VQ-BBE]|2020-01-17T13:50:...|2020-01-17 13:50:00|  2|                     14|                       23|                        0|                          0|        37|\n",
            "|                 LAX|[2020-01-17T14:00...|           NZ|       [, 7, 17, 25]|                   AKL|[, 681, 725, 34, ...|[77W, 77W, ZK-OKS]|2020-01-17T14:00:...|2020-01-17 14:00:00|  3|                      0|                        7|                       17|                         25|        49|\n",
            "|                 LAX|[2020-01-17T14:40...|           AA|               [,,,]|                   PEK|[, 683, 730, 10, ...|[788, 788, N813AN]|2020-01-17T14:40:...|2020-01-17 14:40:00|  4|                      0|                        0|                        0|                          0|         0|\n",
            "+--------------------+--------------------+-------------+--------------------+----------------------+--------------------+------------------+--------------------+-------------------+---+-----------------------+-------------------------+-------------------------+---------------------------+----------+\n",
            "only showing top 5 rows\n",
            "\n"
          ],
          "name": "stdout"
        }
      ]
    },
    {
      "cell_type": "markdown",
      "metadata": {
        "id": "A_3zmAdILcYR",
        "colab_type": "text"
      },
      "source": [
        "Now let's do the same for flightDurations and flightEquipment."
      ]
    },
    {
      "cell_type": "code",
      "metadata": {
        "id": "1tASHvAfUSQC",
        "colab_type": "code",
        "colab": {}
      },
      "source": [
        ""
      ],
      "execution_count": 0,
      "outputs": []
    },
    {
      "cell_type": "code",
      "metadata": {
        "id": "mwG5q9RvpJ_2",
        "colab_type": "code",
        "outputId": "464d169e-b94c-44f6-bab3-07c615f4bdd1",
        "colab": {
          "base_uri": "https://localhost:8080/",
          "height": 232
        }
      },
      "source": [
        "df_weath = spark.read.json(WEATH_JSON_PATH)\n",
        "df_weath.show(5)"
      ],
      "execution_count": 0,
      "outputs": [
        {
          "output_type": "stream",
          "text": [
            "+-------------------+----------+--------+--------+-------------------+-----+---------------+-----------------+----------+--------+-------------------+-----------+----------+-------+----------+-----------+--------+---------+\n",
            "|apparentTemperature|cloudCover|dewPoint|humidity|               icon|ozone|precipIntensity|precipProbability|precipType|pressure|            summary|temperature|      time|uvIndex|visibility|windBearing|windGust|windSpeed|\n",
            "+-------------------+----------+--------+--------+-------------------+-----+---------------+-----------------+----------+--------+-------------------+-----------+----------+-------+----------+-----------+--------+---------+\n",
            "|              53.33|      0.93|   48.75|    0.84|               rain|306.5|         0.0474|             0.87|      rain|  1020.0|         Light Rain|      53.33|1579248000|      0|      4.94|        118|    9.85|     7.89|\n",
            "|               53.2|      0.88|   49.85|    0.88|               rain|303.5|         0.0262|              0.5|      rain|  1019.7|Possible Light Rain|       53.2|1579251600|      0|      10.0|         67|     9.0|     5.22|\n",
            "|              52.06|      0.86|   48.89|    0.89|               rain|300.2|         0.0187|             0.29|      rain|  1020.3|Possible Light Rain|      52.06|1579255200|      0|      10.0|        133|     8.5|     5.37|\n",
            "|              51.94|      0.54|   47.35|    0.84|partly-cloudy-night|296.7|         0.0015|             0.04|      rain|  1020.4|      Partly Cloudy|      51.94|1579258800|      0|      10.0|         48|    8.29|      6.3|\n",
            "|              51.57|      0.53|   47.34|    0.85|partly-cloudy-night|293.1|            0.0|              0.0|      null|  1020.3|      Partly Cloudy|      51.57|1579262400|      0|      10.0|          3|    7.29|     6.16|\n",
            "+-------------------+----------+--------+--------+-------------------+-----+---------------+-----------------+----------+--------+-------------------+-----------+----------+-------+----------+-----------+--------+---------+\n",
            "only showing top 5 rows\n",
            "\n"
          ],
          "name": "stdout"
        }
      ]
    },
    {
      "cell_type": "code",
      "metadata": {
        "id": "7mQ3fzW9MKIt",
        "colab_type": "code",
        "colab": {}
      },
      "source": [
        ""
      ],
      "execution_count": 0,
      "outputs": []
    }
  ]
}