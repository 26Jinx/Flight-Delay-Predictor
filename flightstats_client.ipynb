{
  "nbformat": 4,
  "nbformat_minor": 0,
  "metadata": {
    "colab": {
      "name": "flightstats_client.ipynb",
      "provenance": [],
      "include_colab_link": true
    },
    "kernelspec": {
      "name": "python3",
      "display_name": "Python 3"
    }
  },
  "cells": [
    {
      "cell_type": "markdown",
      "metadata": {
        "id": "view-in-github",
        "colab_type": "text"
      },
      "source": [
        "<a href=\"https://colab.research.google.com/github/PharahMain/Flight-Delay-Predictor/blob/master/flightstats_client.ipynb\" target=\"_parent\"><img src=\"https://colab.research.google.com/assets/colab-badge.svg\" alt=\"Open In Colab\"/></a>"
      ]
    },
    {
      "cell_type": "code",
      "metadata": {
        "id": "1t9wd42bcPva",
        "colab_type": "code",
        "colab": {}
      },
      "source": [
        "!apt-get install openjdk-8-jdk-headless -qq > /dev/null\n",
        "!wget -q https://www-us.apache.org/dist/spark/spark-2.4.5/spark-2.4.5-bin-hadoop2.7.tgz\n",
        "!tar xf spark-2.4.5-bin-hadoop2.7.tgz"
      ],
      "execution_count": 0,
      "outputs": []
    },
    {
      "cell_type": "code",
      "metadata": {
        "id": "TmbbxreyIa-i",
        "colab_type": "code",
        "outputId": "3450bf2b-d780-49c1-8a79-7c4b0dbefdcb",
        "colab": {
          "base_uri": "https://localhost:8080/",
          "height": 267
        }
      },
      "source": [
        "# Install spark-related depdencies for Python\n",
        "!pip install -q findspark\n",
        "!pip install pyspark"
      ],
      "execution_count": 3,
      "outputs": [
        {
          "output_type": "stream",
          "text": [
            "Collecting pyspark\n",
            "\u001b[?25l  Downloading https://files.pythonhosted.org/packages/9a/5a/271c416c1c2185b6cb0151b29a91fff6fcaed80173c8584ff6d20e46b465/pyspark-2.4.5.tar.gz (217.8MB)\n",
            "\u001b[K     |████████████████████████████████| 217.8MB 60kB/s \n",
            "\u001b[?25hCollecting py4j==0.10.7\n",
            "\u001b[?25l  Downloading https://files.pythonhosted.org/packages/e3/53/c737818eb9a7dc32a7cd4f1396e787bd94200c3997c72c1dbe028587bd76/py4j-0.10.7-py2.py3-none-any.whl (197kB)\n",
            "\u001b[K     |████████████████████████████████| 204kB 38.2MB/s \n",
            "\u001b[?25hBuilding wheels for collected packages: pyspark\n",
            "  Building wheel for pyspark (setup.py) ... \u001b[?25l\u001b[?25hdone\n",
            "  Created wheel for pyspark: filename=pyspark-2.4.5-py2.py3-none-any.whl size=218257927 sha256=7c3a54aa60dcacd8d9d16ee27f8760565011d3f13b2b02169da459e5cce1750f\n",
            "  Stored in directory: /root/.cache/pip/wheels/bf/db/04/61d66a5939364e756eb1c1be4ec5bdce6e04047fc7929a3c3c\n",
            "Successfully built pyspark\n",
            "Installing collected packages: py4j, pyspark\n",
            "Successfully installed py4j-0.10.7 pyspark-2.4.5\n"
          ],
          "name": "stdout"
        }
      ]
    },
    {
      "cell_type": "code",
      "metadata": {
        "id": "VC-cF1MOJCvu",
        "colab_type": "code",
        "colab": {}
      },
      "source": [
        "# Set up required environment variables\n",
        "\n",
        "import os\n",
        "os.environ[\"JAVA_HOME\"] = \"/usr/lib/jvm/java-8-openjdk-amd64\"\n",
        "os.environ[\"SPARK_HOME\"] = \"/content/spark-2.4.5-bin-hadoop2.7\""
      ],
      "execution_count": 0,
      "outputs": []
    },
    {
      "cell_type": "code",
      "metadata": {
        "id": "Ac7IYHQAJHVA",
        "colab_type": "code",
        "outputId": "9f20c11d-9c51-418b-9c4e-1dcb07337d52",
        "colab": {
          "base_uri": "https://localhost:8080/",
          "height": 125
        }
      },
      "source": [
        "# Point Colaboratory to Google Drive\n",
        "\n",
        "from google.colab import drive\n",
        "drive.mount('/content/gdrive')"
      ],
      "execution_count": 5,
      "outputs": [
        {
          "output_type": "stream",
          "text": [
            "Go to this URL in a browser: https://accounts.google.com/o/oauth2/auth?client_id=947318989803-6bn6qk8qdgf4n4g3pfee6491hc0brc4i.apps.googleusercontent.com&redirect_uri=urn%3aietf%3awg%3aoauth%3a2.0%3aoob&response_type=code&scope=email%20https%3a%2f%2fwww.googleapis.com%2fauth%2fdocs.test%20https%3a%2f%2fwww.googleapis.com%2fauth%2fdrive%20https%3a%2f%2fwww.googleapis.com%2fauth%2fdrive.photos.readonly%20https%3a%2f%2fwww.googleapis.com%2fauth%2fpeopleapi.readonly\n",
            "\n",
            "Enter your authorization code:\n",
            "··········\n",
            "Mounted at /content/gdrive\n"
          ],
          "name": "stdout"
        }
      ]
    },
    {
      "cell_type": "code",
      "metadata": {
        "id": "UMRIotL2JJ-k",
        "colab_type": "code",
        "colab": {}
      },
      "source": [
        "from pyspark import SparkContext\n",
        "from pyspark.sql import SparkSession\n",
        "\n",
        "from pyspark.ml import Pipeline\n",
        "from pyspark.ml.regression import LinearRegression\n",
        "from pyspark.ml.regression import RandomForestRegressor\n",
        "from pyspark.ml.evaluation import RegressionEvaluator\n",
        "\n",
        "from pyspark.sql import functions as F\n",
        "from pyspark.sql.functions import isnan, when, count, col, create_map, lit\n",
        "from pyspark.sql.functions import month, dayofweek, weekofyear, hour, minute\n",
        "from pyspark.sql.functions import monotonically_increasing_id\n",
        "from pyspark.sql.types import DateType, TimestampType\n",
        "\n",
        "from datetime import datetime, date, timedelta\n",
        "from itertools import chain\n",
        "import random\n",
        "import time"
      ],
      "execution_count": 0,
      "outputs": []
    },
    {
      "cell_type": "code",
      "metadata": {
        "id": "WU0T4_oWMK4Z",
        "colab_type": "code",
        "colab": {}
      },
      "source": [
        "#ARR_JSON_PATH = f\"/content/gdrive/My Drive/Colab Datasets/flights_data/arrivals/{date.today()}.json\"\n",
        "# for testing\n",
        "ARR_JSON_PATH = \"/content/gdrive/My Drive/Colab Datasets/flights_data/arrivals/2020-01-17.json\"\n",
        "\n",
        "#DEP_JSON_PATH = f\"/content/gdrive/My Drive/Colab Datasets/flights_data/departures/{date.today()}.json\"\n",
        "DEP_JSON_PATH = f\"/content/gdrive/My Drive/Colab Datasets/flights_data/departures/2020-01-17.json\"\n",
        "\n",
        "#WEATH_JSON_PATH = f\"/content/gdrive/My Drive/Colab Datasets/flights_data/weather/{date.today()}.json\"\n",
        "WEATH_JSON_PATH = f\"/content/gdrive/My Drive/Colab Datasets/flights_data/weather/2020-01-17.json\"\n",
        "\n",
        "APP_NAME = 'Flight Delay Predictor'\n",
        "SPARK_URL = 'local[*]'\n",
        "RANDOM_SEED = 263646\n",
        "TRAINING_DATA_RATIO = 0.7"
      ],
      "execution_count": 0,
      "outputs": []
    },
    {
      "cell_type": "code",
      "metadata": {
        "id": "fNHzaNf2iwCc",
        "colab_type": "code",
        "colab": {}
      },
      "source": [
        "spark = SparkSession.builder.appName(APP_NAME).master(SPARK_URL).getOrCreate()"
      ],
      "execution_count": 0,
      "outputs": []
    },
    {
      "cell_type": "code",
      "metadata": {
        "id": "6L0XNeJ_jahq",
        "colab_type": "code",
        "outputId": "de60b38d-db08-4363-8f84-3efec7922205",
        "colab": {
          "base_uri": "https://localhost:8080/",
          "height": 232
        }
      },
      "source": [
        "df_arr = spark.read.json(ARR_JSON_PATH)\n",
        "df_arr.show(5)"
      ],
      "execution_count": 9,
      "outputs": [
        {
          "output_type": "stream",
          "text": [
            "+--------------------+--------------------+--------------------+-------------+--------------------+--------------------+----------------------+--------------------+---------------------+--------------------+------------------+----------+------------+--------------------+--------------------+------+\n",
            "|    airportResources|arrivalAirportFsCode|         arrivalDate|carrierFsCode|          codeshares|              delays|departureAirportFsCode|       departureDate|divertedAirportFsCode|     flightDurations|   flightEquipment|  flightId|flightNumber|    operationalTimes|            schedule|status|\n",
            "+--------------------+--------------------+--------------------+-------------+--------------------+--------------------+----------------------+--------------------+---------------------+--------------------+------------------+----------+------------+--------------------+--------------------+------+\n",
            "|      [, TBIT,, C9,]|                 LAX|[2020-01-17T13:10...|           QR|     [[3515, UL, L]]|      [, 13, 52, 60]|                   DOH|[2020-01-17T07:45...|                 null|[, 1021, 985,, 10...|[77L, 77L, A7-BBA]|1028199581|         739|[, [2020-01-17T08...|  [[], J, , RJY, []]|     A|\n",
            "|     [, TBIT,, 8, 1]|                 LAX|[2020-01-17T13:15...|           QF|[[7328, AA, L], [...|[205, 247, 226, 240]|                   SYD|[2020-01-17T18:25...|                 null|[, 763, 830, 57, ...|[388, 388, VH-OQJ]|1028197993|          17|[, [2020-01-17T22...| [[], J, , RFJY, []]|     A|\n",
            "| [, TBIT, D6, 30, D]|                 LAX|[2020-01-17T13:50...|           SU|                  []|          [14, 23,,]|                   SVO|[2020-01-17T12:00...|                 null|[, 745, 770, 15, ...|[332, 332, VQ-BBE]|1028204787|         106|[, [2020-01-17T11...|  [[], J, , RJY, []]|     A|\n",
            "|    [, TBIT,, 18, I]|                 LAX|[2020-01-17T14:00...|           NZ|[[6091, AC, L], [...|       [, 7, 17, 25]|                   AKL|[2020-01-17T22:55...|                 null|[, 681, 725, 34, ...|[77W, 77W, ZK-OKS]|1028193159|           2|[, [2020-01-17T23...|[[[1028193174, LH...|     A|\n",
            "|[, TBIT, TBIT, 17...|                 LAX|[2020-01-17T14:40...|           AA|     [[1622, CZ, L]]|               [,,,]|                   PEK|[2020-01-17T18:30...|                 null|[, 683, 730, 10, ...|[788, 788, N813AN]|1028129626|         180|[, [2020-01-17T18...| [[], J, , RFJY, []]|     A|\n",
            "+--------------------+--------------------+--------------------+-------------+--------------------+--------------------+----------------------+--------------------+---------------------+--------------------+------------------+----------+------------+--------------------+--------------------+------+\n",
            "only showing top 5 rows\n",
            "\n"
          ],
          "name": "stdout"
        }
      ]
    },
    {
      "cell_type": "markdown",
      "metadata": {
        "id": "U7CImS0RqxqG",
        "colab_type": "text"
      },
      "source": [
        "The data in a little more detail."
      ]
    },
    {
      "cell_type": "code",
      "metadata": {
        "id": "gi16LYxjp3B4",
        "colab_type": "code",
        "colab": {}
      },
      "source": [
        "#df_arr.head(5)"
      ],
      "execution_count": 0,
      "outputs": []
    },
    {
      "cell_type": "markdown",
      "metadata": {
        "id": "pU1M4g0Hq4nn",
        "colab_type": "text"
      },
      "source": [
        "Let's see how many flights arrived at LAX in the past 24 hours."
      ]
    },
    {
      "cell_type": "code",
      "metadata": {
        "id": "Csdq7Ta7qEVA",
        "colab_type": "code",
        "outputId": "c7dce465-1f1d-4758-8494-9b662fb2c068",
        "colab": {
          "base_uri": "https://localhost:8080/",
          "height": 34
        }
      },
      "source": [
        "df_arr.count()"
      ],
      "execution_count": 0,
      "outputs": [
        {
          "output_type": "execute_result",
          "data": {
            "text/plain": [
              "337"
            ]
          },
          "metadata": {
            "tags": []
          },
          "execution_count": 10
        }
      ]
    },
    {
      "cell_type": "markdown",
      "metadata": {
        "id": "5Rg_7TequuZ6",
        "colab_type": "text"
      },
      "source": [
        "Let's first drop all the unnecessary columns."
      ]
    },
    {
      "cell_type": "code",
      "metadata": {
        "id": "lrqU_5lzutys",
        "colab_type": "code",
        "colab": {}
      },
      "source": [
        "df_arr = df_arr.drop('airportResources', 'codeshares', 'departureDate',\n",
        "            'divertedAirportFsCode', 'operationalTimes', 'schedule', 'status',\n",
        "            'flightId', 'flightNumber')\n",
        "#df_arr.show(5)"
      ],
      "execution_count": 0,
      "outputs": []
    },
    {
      "cell_type": "code",
      "metadata": {
        "id": "rUau0XFl_bUT",
        "colab_type": "code",
        "outputId": "8634c2e9-158b-44ab-d330-73f7257bee92",
        "colab": {
          "base_uri": "https://localhost:8080/",
          "height": 443
        }
      },
      "source": [
        "df_arr.printSchema()"
      ],
      "execution_count": 0,
      "outputs": [
        {
          "output_type": "stream",
          "text": [
            "root\n",
            " |-- arrivalAirportFsCode: string (nullable = true)\n",
            " |-- arrivalDate: struct (nullable = true)\n",
            " |    |-- dateLocal: string (nullable = true)\n",
            " |    |-- dateUtc: string (nullable = true)\n",
            " |-- carrierFsCode: string (nullable = true)\n",
            " |-- delays: struct (nullable = true)\n",
            " |    |-- arrivalGateDelayMinutes: long (nullable = true)\n",
            " |    |-- arrivalRunwayDelayMinutes: long (nullable = true)\n",
            " |    |-- departureGateDelayMinutes: long (nullable = true)\n",
            " |    |-- departureRunwayDelayMinutes: long (nullable = true)\n",
            " |-- departureAirportFsCode: string (nullable = true)\n",
            " |-- flightDurations: struct (nullable = true)\n",
            " |    |-- blockMinutes: long (nullable = true)\n",
            " |    |-- scheduledAirMinutes: long (nullable = true)\n",
            " |    |-- scheduledBlockMinutes: long (nullable = true)\n",
            " |    |-- scheduledTaxiInMinutes: long (nullable = true)\n",
            " |    |-- scheduledTaxiOutMinutes: long (nullable = true)\n",
            " |    |-- taxiOutMinutes: long (nullable = true)\n",
            " |-- flightEquipment: struct (nullable = true)\n",
            " |    |-- actualEquipmentIataCode: string (nullable = true)\n",
            " |    |-- scheduledEquipmentIataCode: string (nullable = true)\n",
            " |    |-- tailNumber: string (nullable = true)\n",
            "\n"
          ],
          "name": "stdout"
        }
      ]
    },
    {
      "cell_type": "markdown",
      "metadata": {
        "id": "S0y_wN53x6LV",
        "colab_type": "text"
      },
      "source": [
        "Let's explore the dataframe a little bit here."
      ]
    },
    {
      "cell_type": "code",
      "metadata": {
        "id": "zn-3Oz5Rx5td",
        "colab_type": "code",
        "outputId": "0b61ba3e-a556-46ef-9452-b0b7f53491d0",
        "colab": {
          "base_uri": "https://localhost:8080/",
          "height": 478
        }
      },
      "source": [
        "df_arr.groupBy('carrierFsCode').count().orderBy('count', ascending=False).show()"
      ],
      "execution_count": 0,
      "outputs": [
        {
          "output_type": "stream",
          "text": [
            "+-------------+-----+\n",
            "|carrierFsCode|count|\n",
            "+-------------+-----+\n",
            "|           DL|   48|\n",
            "|           AA|   45|\n",
            "|           OO|   44|\n",
            "|           WN|   42|\n",
            "|           CP|   30|\n",
            "|           UA|   25|\n",
            "|           AS|   24|\n",
            "|           NK|    6|\n",
            "|           B6|    6|\n",
            "|           QX|    5|\n",
            "|           AC|    4|\n",
            "|           Y4|    3|\n",
            "|           WS|    3|\n",
            "|           BA|    3|\n",
            "|           QF|    3|\n",
            "|           K4|    2|\n",
            "|           BR|    2|\n",
            "|          BAI|    2|\n",
            "|           NZ|    2|\n",
            "|           1I|    2|\n",
            "+-------------+-----+\n",
            "only showing top 20 rows\n",
            "\n"
          ],
          "name": "stdout"
        }
      ]
    },
    {
      "cell_type": "markdown",
      "metadata": {
        "id": "cgq0VGMM2hbB",
        "colab_type": "text"
      },
      "source": [
        "Let's see what the busiest time of the day is for LAX next. But before we do that, I'm going to separate out the arrival time from 'arrivalDate'."
      ]
    },
    {
      "cell_type": "code",
      "metadata": {
        "id": "eosnJa1K3Crk",
        "colab_type": "code",
        "colab": {}
      },
      "source": [
        "# first need to extract the date info from the arrivalDate struct\n",
        "df_arr = df_arr.withColumn('localDate', col('arrivalDate').getField('dateLocal'))\n",
        "#df_arr.select('localDate').show(5)\n",
        "\n",
        "df_arr = df_arr.withColumn('localTimeStamp', df_arr['localDate'].cast(TimestampType()))\n",
        "#df_arr.select('localTimeStamp').show(5)"
      ],
      "execution_count": 0,
      "outputs": []
    },
    {
      "cell_type": "markdown",
      "metadata": {
        "id": "D70jFpglPfT3",
        "colab_type": "text"
      },
      "source": [
        "Give each time increment its own column."
      ]
    },
    {
      "cell_type": "code",
      "metadata": {
        "id": "25bzGIpM2t8a",
        "colab_type": "code",
        "colab": {}
      },
      "source": [
        "#df_arr.withColumn('date', col('localTimeStamp').cast('date')).withColumn('hour', hour(col('localTimeStamp'))).withColumn('minute', minute(col('localTimeStamp'))).show(5)"
      ],
      "execution_count": 0,
      "outputs": []
    },
    {
      "cell_type": "markdown",
      "metadata": {
        "id": "a_FLYh8EWUq3",
        "colab_type": "text"
      },
      "source": [
        "Since travel tends to change with the time of year, let's also add on weekOfYear and dayOfWeek as well."
      ]
    },
    {
      "cell_type": "code",
      "metadata": {
        "id": "lokV6JbLWUM0",
        "colab_type": "code",
        "colab": {}
      },
      "source": [
        "#df_arr.withColumn('weekOfYear', weekofyear(col('localTimeStamp'))).withColumn('dayOfWeek', dayofweek(col('localTimeStamp'))).show(5)"
      ],
      "execution_count": 0,
      "outputs": []
    },
    {
      "cell_type": "markdown",
      "metadata": {
        "id": "deuSA2sQcNGe",
        "colab_type": "text"
      },
      "source": [
        "Delays column, the column that contains our target data, is an array of four values. They are minutes of delay in different stages of the flight but, since travelers don't really care where the delays occur, but rather how long the delays are, let's sum up the numbers to get one total delayed minutes."
      ]
    },
    {
      "cell_type": "code",
      "metadata": {
        "id": "HfcIPqAKA92U",
        "colab_type": "code",
        "colab": {}
      },
      "source": [
        "# a df with just the delay data\n",
        "delay_df = df_arr.select('delays.*').na.fill(0)\n",
        "#delay_df.show(5)"
      ],
      "execution_count": 0,
      "outputs": []
    },
    {
      "cell_type": "code",
      "metadata": {
        "id": "4cG12MmNc81J",
        "colab_type": "code",
        "colab": {}
      },
      "source": [
        "# create a new column in main arrival df with total delay minutes\n",
        "delay_df = delay_df.withColumn('totalDelay', sum(delay_df[col] for col in delay_df.columns))\n",
        "delay_df = delay_df.select('*').withColumn('d_id', monotonically_increasing_id())\n",
        "\n",
        "#delay_df.show(5)\n"
      ],
      "execution_count": 0,
      "outputs": []
    },
    {
      "cell_type": "markdown",
      "metadata": {
        "id": "B_VNT9Ng07hz",
        "colab_type": "text"
      },
      "source": [
        "Now let's merge this table with the main table."
      ]
    },
    {
      "cell_type": "code",
      "metadata": {
        "id": "TZAckuVs1G2q",
        "colab_type": "code",
        "colab": {}
      },
      "source": [
        "# In order to join two dataframes, we need to create an index column to join the two \n",
        "# dataframes on\n",
        "df_arr = df_arr.select('*').withColumn('id', monotonically_increasing_id())\n",
        "\n",
        "df_arr = df_arr.join(delay_df, col('id') == col('d_id'), how='leftouter').drop('d_id')\n",
        "#df_arr.show(5)"
      ],
      "execution_count": 0,
      "outputs": []
    },
    {
      "cell_type": "markdown",
      "metadata": {
        "id": "A_3zmAdILcYR",
        "colab_type": "text"
      },
      "source": [
        "Now let's do the same for flightDurations and flightEquipment."
      ]
    },
    {
      "cell_type": "code",
      "metadata": {
        "id": "1tASHvAfUSQC",
        "colab_type": "code",
        "colab": {}
      },
      "source": [
        "eq_df = df_arr.select('flightEquipment.*').drop('tailNumber')\n",
        "#eq_df.show(5)"
      ],
      "execution_count": 0,
      "outputs": []
    },
    {
      "cell_type": "markdown",
      "metadata": {
        "id": "ewUHBCkbnyNn",
        "colab_type": "text"
      },
      "source": [
        "When it comes to equipment, when it is changed it might cause a delay so I'm going to drop the tailNumber and create another column that shows whether there was a change in equipment."
      ]
    },
    {
      "cell_type": "code",
      "metadata": {
        "id": "gZ-4YTuqnxXP",
        "colab_type": "code",
        "colab": {}
      },
      "source": [
        "eq_df = eq_df.withColumn('eqChanged', F.when(F.col('actualEquipmentIataCode') == F.col('scheduledEquipmentIatacode'), 0)\n",
        "    .otherwise(1))\n",
        "\n",
        "eq_df = eq_df.select('*').withColumn('e_id', monotonically_increasing_id())\n",
        "#eq_df.show(5)"
      ],
      "execution_count": 0,
      "outputs": []
    },
    {
      "cell_type": "markdown",
      "metadata": {
        "id": "Ug_Wt5tDsDz8",
        "colab_type": "text"
      },
      "source": [
        "And lastly, let's just some up the flight durations."
      ]
    },
    {
      "cell_type": "code",
      "metadata": {
        "id": "JKJg7lb7sCRp",
        "colab_type": "code",
        "colab": {}
      },
      "source": [
        "fd_df = df_arr.select('flightDurations.*').na.fill(0)\n",
        "fd_df = fd_df.withColumn('totalDuration', sum(fd_df[col] for col in fd_df.columns))\n",
        "fd_df = fd_df.select('*').withColumn('f_id', monotonically_increasing_id())\n",
        "#fd_df.show(5)"
      ],
      "execution_count": 0,
      "outputs": []
    },
    {
      "cell_type": "markdown",
      "metadata": {
        "id": "FZq-vx4Ythrk",
        "colab_type": "text"
      },
      "source": [
        "Put all the tables together."
      ]
    },
    {
      "cell_type": "code",
      "metadata": {
        "id": "838qwLZztnyI",
        "colab_type": "code",
        "colab": {}
      },
      "source": [
        "df_arr = df_arr.join(eq_df, col('id') == col('e_id'), how='leftouter').drop('e_id').join(fd_df, col('id') == col('f_id'), how='leftouter').drop('f_id')\n",
        "#df_arr.orderBy('id').show(5)"
      ],
      "execution_count": 0,
      "outputs": []
    },
    {
      "cell_type": "code",
      "metadata": {
        "id": "7QDZs7KdvG8X",
        "colab_type": "code",
        "outputId": "d45efa35-662d-437b-f627-576af43b7a18",
        "colab": {
          "base_uri": "https://localhost:8080/",
          "height": 34
        }
      },
      "source": [
        "df_arr.count()"
      ],
      "execution_count": 0,
      "outputs": [
        {
          "output_type": "execute_result",
          "data": {
            "text/plain": [
              "337"
            ]
          },
          "metadata": {
            "tags": []
          },
          "execution_count": 25
        }
      ]
    },
    {
      "cell_type": "markdown",
      "metadata": {
        "id": "tXq828aK3HF4",
        "colab_type": "text"
      },
      "source": [
        "We now need to repeat the same process for the departing flights data. It might be better if I wrote a function that does this given a dataframe."
      ]
    },
    {
      "cell_type": "code",
      "metadata": {
        "id": "jZKZ6Tjl76qX",
        "colab_type": "code",
        "colab": {}
      },
      "source": [
        "def format_flight_data(df):\n",
        "    # lets' first index the df since we know we will be needing it later\n",
        "    df = df.select('*').withColumn('id', monotonically_increasing_id())\n",
        "\n",
        "    ##### timestamp #####\n",
        "    # first need to extract the date info from the arrivalDate struct\n",
        "    df = df.withColumn('localDate', col('arrivalDate').getField('dateLocal'))\n",
        "    df = df.withColumn('localTimeStamp', df['localDate'].cast(TimestampType()))\n",
        "    df = df.withColumn('date', col('localTimeStamp').cast('date'))\n",
        "    df = df.withColumn('hour', hour(col('localTimeStamp')))\n",
        "    df = df.withColumn('minute', minute(col('localTimeStamp')))\n",
        "    df = df.withColumn('weekOfYear', weekofyear(col('localTimeStamp')))\n",
        "    df = df.withColumn('dayOfWeek', dayofweek(col('localTimeStamp')))\n",
        "\n",
        "    ##### delays #####\n",
        "    # fill all null values with 0\n",
        "    delay_df = df.select('delays.*').na.fill(0)\n",
        "    # create a new column in main arrival df with total delay minutes\n",
        "    delay_df = delay_df.withColumn('totalDelay', sum(delay_df[col] for col in delay_df.columns))\n",
        "    delay_df = delay_df.select('*').withColumn('d_id', monotonically_increasing_id())\n",
        "\n",
        "    ##### equipment #####\n",
        "    eq_df = df.select('flightEquipment.*').drop('tailNumber')\n",
        "    eq_df = eq_df.withColumn('eqChanged', F.when(F.col('actualEquipmentIataCode') == F.col('scheduledEquipmentIatacode'), 0).otherwise(1))\n",
        "    eq_df = eq_df.select('*').withColumn('e_id', monotonically_increasing_id())\n",
        "\n",
        "    ##### duration #####\n",
        "    fd_df = df.select('flightDurations.*').na.fill(0)\n",
        "    fd_df = fd_df.withColumn('totalDuration', sum(fd_df[col] for col in fd_df.columns))\n",
        "    fd_df = fd_df.select('*').withColumn('f_id', monotonically_increasing_id())\n",
        "\n",
        "    # join all dataframes\n",
        "    formatted_df = df.join(delay_df, col('id')==col('d_id'), how='leftouter').drop('d_id')\n",
        "    formatted_df = formatted_df.join(eq_df, col('id')==col('e_id'), how='leftouter').drop('e_id')\n",
        "    formatted_df = formatted_df.join(fd_df, col('id')==col('f_id'), how='leftouter').drop('f_id')\n",
        "\n",
        "    # drop extraneous columns\n",
        "    formatted_df = formatted_df.drop('airportResources', 'codeshares', 'departureDate',\n",
        "            'divertedAirportFsCode', 'operationalTimes', 'schedule', 'status',\n",
        "            'flightId', 'flightNumber')\n",
        "\n",
        "    return formatted_df\n",
        "\n",
        "    "
      ],
      "execution_count": 0,
      "outputs": []
    },
    {
      "cell_type": "code",
      "metadata": {
        "id": "HbtYuj8McbYN",
        "colab_type": "code",
        "outputId": "e88764aa-7a60-4063-f127-a668f07195a2",
        "colab": {
          "base_uri": "https://localhost:8080/",
          "height": 232
        }
      },
      "source": [
        "df_arr_fmtd = format_flight_data(df_arr)\n",
        "df_arr_fmtd.show(5)"
      ],
      "execution_count": 11,
      "outputs": [
        {
          "output_type": "stream",
          "text": [
            "+--------------------+--------------------+-------------+--------------------+----------------------+--------------------+------------------+---+--------------------+-------------------+----------+----+------+----------+---------+-----------------------+-------------------------+-------------------------+---------------------------+----------+-----------------------+--------------------------+---------+------------+-------------------+---------------------+----------------------+-----------------------+--------------+-------------+\n",
            "|arrivalAirportFsCode|         arrivalDate|carrierFsCode|              delays|departureAirportFsCode|     flightDurations|   flightEquipment| id|           localDate|     localTimeStamp|      date|hour|minute|weekOfYear|dayOfWeek|arrivalGateDelayMinutes|arrivalRunwayDelayMinutes|departureGateDelayMinutes|departureRunwayDelayMinutes|totalDelay|actualEquipmentIataCode|scheduledEquipmentIataCode|eqChanged|blockMinutes|scheduledAirMinutes|scheduledBlockMinutes|scheduledTaxiInMinutes|scheduledTaxiOutMinutes|taxiOutMinutes|totalDuration|\n",
            "+--------------------+--------------------+-------------+--------------------+----------------------+--------------------+------------------+---+--------------------+-------------------+----------+----+------+----------+---------+-----------------------+-------------------------+-------------------------+---------------------------+----------+-----------------------+--------------------------+---------+------------+-------------------+---------------------+----------------------+-----------------------+--------------+-------------+\n",
            "|                 LAX|[2020-01-17T13:10...|           QR|      [, 13, 52, 60]|                   DOH|[, 1021, 985,, 10...|[77L, 77L, A7-BBA]|  0|2020-01-17T13:10:...|2020-01-17 13:10:00|2020-01-17|  13|    10|         3|        6|                      0|                       13|                       52|                         60|       125|                    77L|                       77L|        0|           0|               1021|                  985|                     0|                     10|            18|         2034|\n",
            "|                 LAX|[2020-01-17T13:15...|           QF|[205, 247, 226, 240]|                   SYD|[, 763, 830, 57, ...|[388, 388, VH-OQJ]|  1|2020-01-17T13:15:...|2020-01-17 13:15:00|2020-01-17|  13|    15|         3|        6|                    205|                      247|                      226|                        240|       918|                    388|                       388|        0|           0|                763|                  830|                    57|                     10|            24|         1684|\n",
            "|                 LAX|[2020-01-17T13:50...|           SU|          [14, 23,,]|                   SVO|[, 745, 770, 15, ...|[332, 332, VQ-BBE]|  2|2020-01-17T13:50:...|2020-01-17 13:50:00|2020-01-17|  13|    50|         3|        6|                     14|                       23|                        0|                          0|        37|                    332|                       332|        0|           0|                745|                  770|                    15|                     10|            23|         1563|\n",
            "|                 LAX|[2020-01-17T14:00...|           NZ|       [, 7, 17, 25]|                   AKL|[, 681, 725, 34, ...|[77W, 77W, ZK-OKS]|  3|2020-01-17T14:00:...|2020-01-17 14:00:00|2020-01-17|  14|     0|         3|        6|                      0|                        7|                       17|                         25|        49|                    77W|                       77W|        0|           0|                681|                  725|                    34|                     10|            18|         1468|\n",
            "|                 LAX|[2020-01-17T14:40...|           AA|               [,,,]|                   PEK|[, 683, 730, 10, ...|[788, 788, N813AN]|  4|2020-01-17T14:40:...|2020-01-17 14:40:00|2020-01-17|  14|    40|         3|        6|                      0|                        0|                        0|                          0|         0|                    788|                       788|        0|           0|                683|                  730|                    10|                     37|            22|         1482|\n",
            "+--------------------+--------------------+-------------+--------------------+----------------------+--------------------+------------------+---+--------------------+-------------------+----------+----+------+----------+---------+-----------------------+-------------------------+-------------------------+---------------------------+----------+-----------------------+--------------------------+---------+------------+-------------------+---------------------+----------------------+-----------------------+--------------+-------------+\n",
            "only showing top 5 rows\n",
            "\n"
          ],
          "name": "stdout"
        }
      ]
    },
    {
      "cell_type": "markdown",
      "metadata": {
        "id": "jtmw06bIuSYb",
        "colab_type": "text"
      },
      "source": [
        "Nice. Now let's format the departing dataframe."
      ]
    },
    {
      "cell_type": "code",
      "metadata": {
        "id": "plGThBfVuaFg",
        "colab_type": "code",
        "outputId": "64cdaf83-b2f6-4516-f5b4-983476fadd8c",
        "colab": {
          "base_uri": "https://localhost:8080/",
          "height": 232
        }
      },
      "source": [
        "df_dep = spark.read.json(DEP_JSON_PATH)\n",
        "df_dep_fmtd = format_flight_data(df_dep)\n",
        "df_dep_fmtd.show(5)"
      ],
      "execution_count": 12,
      "outputs": [
        {
          "output_type": "stream",
          "text": [
            "+--------------------+--------------------+-------------+----------------+----------------------+-----------------+------------------+---+--------------------+-------------------+----------+----+------+----------+---------+-----------------------+-------------------------+-------------------------+---------------------------+----------+-----------------------+--------------------------+---------+-------------------+---------------------+----------------------+-----------------------+-------------+\n",
            "|arrivalAirportFsCode|         arrivalDate|carrierFsCode|          delays|departureAirportFsCode|  flightDurations|   flightEquipment| id|           localDate|     localTimeStamp|      date|hour|minute|weekOfYear|dayOfWeek|arrivalGateDelayMinutes|arrivalRunwayDelayMinutes|departureGateDelayMinutes|departureRunwayDelayMinutes|totalDelay|actualEquipmentIataCode|scheduledEquipmentIataCode|eqChanged|scheduledAirMinutes|scheduledBlockMinutes|scheduledTaxiInMinutes|scheduledTaxiOutMinutes|totalDuration|\n",
            "+--------------------+--------------------+-------------+----------------+----------------------+-----------------+------------------+---+--------------------+-------------------+----------+----+------+----------+---------+-----------------------+-------------------------+-------------------------+---------------------------+----------+-----------------------+--------------------------+---------+-------------------+---------------------+----------------------+-----------------------+-------------+\n",
            "|                 DFW|[2020-01-17T15:56...|           NK|           [,,,]|                   LAX| [151, 181,, 383]|       [32S, 32A,]|  0|2020-01-17T15:56:...|2020-01-17 15:56:00|2020-01-17|  15|    56|         3|        6|                      0|                        0|                        0|                          0|         0|                    32S|                       32A|        1|                151|                  181|                     0|                    383|          715|\n",
            "|                 VNY|[2020-01-17T14:12...|          JTL|           [,,,]|                   LAX|       [12,,, 30]|    [GR2,, N990JT]|  1|2020-01-17T14:12:...|2020-01-17 14:12:00|2020-01-17|  14|    12|         3|        6|                      0|                        0|                        0|                          0|         0|                    GR2|                      null|        1|                 12|                    0|                     0|                     30|           42|\n",
            "|                 SMF|[2020-01-17T15:00...|           WN|   [20,, 20, 15]|                   LAX|    [62, 90,, 31]|[73W, 73W, N711HK]|  2|2020-01-17T15:00:...|2020-01-17 15:00:00|2020-01-17|  15|     0|         3|        6|                     20|                        0|                       20|                         15|        55|                    73W|                       73W|        0|                 62|                   90|                     0|                     31|          183|\n",
            "|                 AUS|[2020-01-17T18:29...|           AA|[25, 24, 25, 25]|                   LAX|[152, 174, 6, 16]|[32B, 321, N134AN]|  3|2020-01-17T18:29:...|2020-01-17 18:29:00|2020-01-17|  18|    29|         3|        6|                     25|                       24|                       25|                         25|        99|                    32B|                       321|        1|                152|                  174|                     6|                     16|          348|\n",
            "|                 SAN|[2020-01-17T14:37...|           OO|           [,,,]|                   LAX|  [29, 54, 3, 22]|[CR7, CR7, N732SK]|  4|2020-01-17T14:37:...|2020-01-17 14:37:00|2020-01-17|  14|    37|         3|        6|                      0|                        0|                        0|                          0|         0|                    CR7|                       CR7|        0|                 29|                   54|                     3|                     22|          108|\n",
            "+--------------------+--------------------+-------------+----------------+----------------------+-----------------+------------------+---+--------------------+-------------------+----------+----+------+----------+---------+-----------------------+-------------------------+-------------------------+---------------------------+----------+-----------------------+--------------------------+---------+-------------------+---------------------+----------------------+-----------------------+-------------+\n",
            "only showing top 5 rows\n",
            "\n"
          ],
          "name": "stdout"
        }
      ]
    },
    {
      "cell_type": "markdown",
      "metadata": {
        "id": "x-eNBPR04GaV",
        "colab_type": "text"
      },
      "source": [
        "Now that we have a formatted dataframe for both arriving and departing flights, we need to join the weather conditions for each flight. The data from the DarkSky API contains within it a timestamp but it is in UNIX time. So now we just need to convert it so that it matches up with the formatted dataframe and do an inner join."
      ]
    },
    {
      "cell_type": "code",
      "metadata": {
        "id": "mwG5q9RvpJ_2",
        "colab_type": "code",
        "outputId": "86c84650-a3e6-4061-abaf-89b98714161e",
        "colab": {
          "base_uri": "https://localhost:8080/",
          "height": 232
        }
      },
      "source": [
        "df_weath = spark.read.json(WEATH_JSON_PATH)\n",
        "df_weath.show(5)"
      ],
      "execution_count": 13,
      "outputs": [
        {
          "output_type": "stream",
          "text": [
            "+-------------------+----------+--------+--------+-------------------+-----+---------------+-----------------+----------+--------+-------------------+-----------+----------+-------+----------+-----------+--------+---------+\n",
            "|apparentTemperature|cloudCover|dewPoint|humidity|               icon|ozone|precipIntensity|precipProbability|precipType|pressure|            summary|temperature|      time|uvIndex|visibility|windBearing|windGust|windSpeed|\n",
            "+-------------------+----------+--------+--------+-------------------+-----+---------------+-----------------+----------+--------+-------------------+-----------+----------+-------+----------+-----------+--------+---------+\n",
            "|              53.33|      0.93|   48.75|    0.84|               rain|306.5|         0.0474|             0.87|      rain|  1020.0|         Light Rain|      53.33|1579248000|      0|      4.94|        118|    9.85|     7.89|\n",
            "|               53.2|      0.88|   49.85|    0.88|               rain|303.5|         0.0262|              0.5|      rain|  1019.7|Possible Light Rain|       53.2|1579251600|      0|      10.0|         67|     9.0|     5.22|\n",
            "|              52.06|      0.86|   48.89|    0.89|               rain|300.2|         0.0187|             0.29|      rain|  1020.3|Possible Light Rain|      52.06|1579255200|      0|      10.0|        133|     8.5|     5.37|\n",
            "|              51.94|      0.54|   47.35|    0.84|partly-cloudy-night|296.7|         0.0015|             0.04|      rain|  1020.4|      Partly Cloudy|      51.94|1579258800|      0|      10.0|         48|    8.29|      6.3|\n",
            "|              51.57|      0.53|   47.34|    0.85|partly-cloudy-night|293.1|            0.0|              0.0|      null|  1020.3|      Partly Cloudy|      51.57|1579262400|      0|      10.0|          3|    7.29|     6.16|\n",
            "+-------------------+----------+--------+--------+-------------------+-----+---------------+-----------------+----------+--------+-------------------+-----------+----------+-------+----------+-----------+--------+---------+\n",
            "only showing top 5 rows\n",
            "\n"
          ],
          "name": "stdout"
        }
      ]
    },
    {
      "cell_type": "code",
      "metadata": {
        "id": "7mQ3fzW9MKIt",
        "colab_type": "code",
        "outputId": "588cf234-d466-4d83-951c-36b24082ac5f",
        "colab": {
          "base_uri": "https://localhost:8080/",
          "height": 232
        }
      },
      "source": [
        "df_weath = df_weath.withColumn('f_time', df_weath['time'].cast(TimestampType()))\n",
        "df_weath.show(5)"
      ],
      "execution_count": 14,
      "outputs": [
        {
          "output_type": "stream",
          "text": [
            "+-------------------+----------+--------+--------+-------------------+-----+---------------+-----------------+----------+--------+-------------------+-----------+----------+-------+----------+-----------+--------+---------+-------------------+\n",
            "|apparentTemperature|cloudCover|dewPoint|humidity|               icon|ozone|precipIntensity|precipProbability|precipType|pressure|            summary|temperature|      time|uvIndex|visibility|windBearing|windGust|windSpeed|             f_time|\n",
            "+-------------------+----------+--------+--------+-------------------+-----+---------------+-----------------+----------+--------+-------------------+-----------+----------+-------+----------+-----------+--------+---------+-------------------+\n",
            "|              53.33|      0.93|   48.75|    0.84|               rain|306.5|         0.0474|             0.87|      rain|  1020.0|         Light Rain|      53.33|1579248000|      0|      4.94|        118|    9.85|     7.89|2020-01-17 08:00:00|\n",
            "|               53.2|      0.88|   49.85|    0.88|               rain|303.5|         0.0262|              0.5|      rain|  1019.7|Possible Light Rain|       53.2|1579251600|      0|      10.0|         67|     9.0|     5.22|2020-01-17 09:00:00|\n",
            "|              52.06|      0.86|   48.89|    0.89|               rain|300.2|         0.0187|             0.29|      rain|  1020.3|Possible Light Rain|      52.06|1579255200|      0|      10.0|        133|     8.5|     5.37|2020-01-17 10:00:00|\n",
            "|              51.94|      0.54|   47.35|    0.84|partly-cloudy-night|296.7|         0.0015|             0.04|      rain|  1020.4|      Partly Cloudy|      51.94|1579258800|      0|      10.0|         48|    8.29|      6.3|2020-01-17 11:00:00|\n",
            "|              51.57|      0.53|   47.34|    0.85|partly-cloudy-night|293.1|            0.0|              0.0|      null|  1020.3|      Partly Cloudy|      51.57|1579262400|      0|      10.0|          3|    7.29|     6.16|2020-01-17 12:00:00|\n",
            "+-------------------+----------+--------+--------+-------------------+-----+---------------+-----------------+----------+--------+-------------------+-----------+----------+-------+----------+-----------+--------+---------+-------------------+\n",
            "only showing top 5 rows\n",
            "\n"
          ],
          "name": "stdout"
        }
      ]
    },
    {
      "cell_type": "markdown",
      "metadata": {
        "id": "gaHSNWczBV1l",
        "colab_type": "text"
      },
      "source": [
        "Hmmm. Since the weather data is taken hourly, we now just need to match upto the hour."
      ]
    },
    {
      "cell_type": "code",
      "metadata": {
        "id": "Yrhc18FHBVeu",
        "colab_type": "code",
        "outputId": "021d63ac-e9b7-4f0f-80c5-eb7d80f0e482",
        "colab": {
          "base_uri": "https://localhost:8080/",
          "height": 232
        }
      },
      "source": [
        "# separate date and hour\n",
        "df_weath = df_weath.withColumn('w_date', col('f_time').cast('date'))\n",
        "df_weath = df_weath.withColumn('w_hour', hour(col('f_time')))\n",
        "df_weath.show(5)"
      ],
      "execution_count": 15,
      "outputs": [
        {
          "output_type": "stream",
          "text": [
            "+-------------------+----------+--------+--------+-------------------+-----+---------------+-----------------+----------+--------+-------------------+-----------+----------+-------+----------+-----------+--------+---------+-------------------+----------+------+\n",
            "|apparentTemperature|cloudCover|dewPoint|humidity|               icon|ozone|precipIntensity|precipProbability|precipType|pressure|            summary|temperature|      time|uvIndex|visibility|windBearing|windGust|windSpeed|             f_time|    w_date|w_hour|\n",
            "+-------------------+----------+--------+--------+-------------------+-----+---------------+-----------------+----------+--------+-------------------+-----------+----------+-------+----------+-----------+--------+---------+-------------------+----------+------+\n",
            "|              53.33|      0.93|   48.75|    0.84|               rain|306.5|         0.0474|             0.87|      rain|  1020.0|         Light Rain|      53.33|1579248000|      0|      4.94|        118|    9.85|     7.89|2020-01-17 08:00:00|2020-01-17|     8|\n",
            "|               53.2|      0.88|   49.85|    0.88|               rain|303.5|         0.0262|              0.5|      rain|  1019.7|Possible Light Rain|       53.2|1579251600|      0|      10.0|         67|     9.0|     5.22|2020-01-17 09:00:00|2020-01-17|     9|\n",
            "|              52.06|      0.86|   48.89|    0.89|               rain|300.2|         0.0187|             0.29|      rain|  1020.3|Possible Light Rain|      52.06|1579255200|      0|      10.0|        133|     8.5|     5.37|2020-01-17 10:00:00|2020-01-17|    10|\n",
            "|              51.94|      0.54|   47.35|    0.84|partly-cloudy-night|296.7|         0.0015|             0.04|      rain|  1020.4|      Partly Cloudy|      51.94|1579258800|      0|      10.0|         48|    8.29|      6.3|2020-01-17 11:00:00|2020-01-17|    11|\n",
            "|              51.57|      0.53|   47.34|    0.85|partly-cloudy-night|293.1|            0.0|              0.0|      null|  1020.3|      Partly Cloudy|      51.57|1579262400|      0|      10.0|          3|    7.29|     6.16|2020-01-17 12:00:00|2020-01-17|    12|\n",
            "+-------------------+----------+--------+--------+-------------------+-----+---------------+-----------------+----------+--------+-------------------+-----------+----------+-------+----------+-----------+--------+---------+-------------------+----------+------+\n",
            "only showing top 5 rows\n",
            "\n"
          ],
          "name": "stdout"
        }
      ]
    },
    {
      "cell_type": "markdown",
      "metadata": {
        "id": "JPKz6y92Gs60",
        "colab_type": "text"
      },
      "source": [
        "Now all that's left to do is inner join the weather data on both the date and hour columns."
      ]
    },
    {
      "cell_type": "code",
      "metadata": {
        "id": "mVq1TEUGA_HS",
        "colab_type": "code",
        "outputId": "7451baf2-eb08-46a2-af72-ce030e0d55d0",
        "colab": {
          "base_uri": "https://localhost:8080/",
          "height": 232
        }
      },
      "source": [
        "df_arr_wthr = df_arr_fmtd.join(df_weath, (col('date')==col('w_date'))&(col('hour')==col('w_hour')), how='inner')\n",
        "df_arr_wthr = df_arr_wthr.drop('time', 'w_date', 'w_hour')\n",
        "df_arr_wthr.show(5)"
      ],
      "execution_count": 16,
      "outputs": [
        {
          "output_type": "stream",
          "text": [
            "+--------------------+--------------------+-------------+--------------------+----------------------+--------------------+------------------+---+--------------------+-------------------+----------+----+------+----------+---------+-----------------------+-------------------------+-------------------------+---------------------------+----------+-----------------------+--------------------------+---------+------------+-------------------+---------------------+----------------------+-----------------------+--------------+-------------+-------------------+----------+--------+--------+-------------------+-----+---------------+-----------------+----------+--------+-------------+-----------+-------+----------+-----------+--------+---------+-------------------+\n",
            "|arrivalAirportFsCode|         arrivalDate|carrierFsCode|              delays|departureAirportFsCode|     flightDurations|   flightEquipment| id|           localDate|     localTimeStamp|      date|hour|minute|weekOfYear|dayOfWeek|arrivalGateDelayMinutes|arrivalRunwayDelayMinutes|departureGateDelayMinutes|departureRunwayDelayMinutes|totalDelay|actualEquipmentIataCode|scheduledEquipmentIataCode|eqChanged|blockMinutes|scheduledAirMinutes|scheduledBlockMinutes|scheduledTaxiInMinutes|scheduledTaxiOutMinutes|taxiOutMinutes|totalDuration|apparentTemperature|cloudCover|dewPoint|humidity|               icon|ozone|precipIntensity|precipProbability|precipType|pressure|      summary|temperature|uvIndex|visibility|windBearing|windGust|windSpeed|             f_time|\n",
            "+--------------------+--------------------+-------------+--------------------+----------------------+--------------------+------------------+---+--------------------+-------------------+----------+----+------+----------+---------+-----------------------+-------------------------+-------------------------+---------------------------+----------+-----------------------+--------------------------+---------+------------+-------------------+---------------------+----------------------+-----------------------+--------------+-------------+-------------------+----------+--------+--------+-------------------+-----+---------------+-----------------+----------+--------+-------------+-----------+-------+----------+-----------+--------+---------+-------------------+\n",
            "|                 LAX|[2020-01-17T13:10...|           QR|      [, 13, 52, 60]|                   DOH|[, 1021, 985,, 10...|[77L, 77L, A7-BBA]|  0|2020-01-17T13:10:...|2020-01-17 13:10:00|2020-01-17|  13|    10|         3|        6|                      0|                       13|                       52|                         60|       125|                    77L|                       77L|        0|           0|               1021|                  985|                     0|                     10|            18|         2034|              51.24|      0.64|   46.86|    0.85|partly-cloudy-night|289.0|         7.0E-4|             0.01|      rain|  1020.6|Mostly Cloudy|      51.24|      0|      10.0|        323|    6.25|     4.13|2020-01-17 13:00:00|\n",
            "|                 LAX|[2020-01-17T13:15...|           QF|[205, 247, 226, 240]|                   SYD|[, 763, 830, 57, ...|[388, 388, VH-OQJ]|  1|2020-01-17T13:15:...|2020-01-17 13:15:00|2020-01-17|  13|    15|         3|        6|                    205|                      247|                      226|                        240|       918|                    388|                       388|        0|           0|                763|                  830|                    57|                     10|            24|         1684|              51.24|      0.64|   46.86|    0.85|partly-cloudy-night|289.0|         7.0E-4|             0.01|      rain|  1020.6|Mostly Cloudy|      51.24|      0|      10.0|        323|    6.25|     4.13|2020-01-17 13:00:00|\n",
            "|                 LAX|[2020-01-17T13:50...|           SU|          [14, 23,,]|                   SVO|[, 745, 770, 15, ...|[332, 332, VQ-BBE]|  2|2020-01-17T13:50:...|2020-01-17 13:50:00|2020-01-17|  13|    50|         3|        6|                     14|                       23|                        0|                          0|        37|                    332|                       332|        0|           0|                745|                  770|                    15|                     10|            23|         1563|              51.24|      0.64|   46.86|    0.85|partly-cloudy-night|289.0|         7.0E-4|             0.01|      rain|  1020.6|Mostly Cloudy|      51.24|      0|      10.0|        323|    6.25|     4.13|2020-01-17 13:00:00|\n",
            "|                 LAX|[2020-01-17T14:00...|           NZ|       [, 7, 17, 25]|                   AKL|[, 681, 725, 34, ...|[77W, 77W, ZK-OKS]|  3|2020-01-17T14:00:...|2020-01-17 14:00:00|2020-01-17|  14|     0|         3|        6|                      0|                        7|                       17|                         25|        49|                    77W|                       77W|        0|           0|                681|                  725|                    34|                     10|            18|         1468|              50.88|      0.55|    46.3|    0.84|partly-cloudy-night|284.7|            0.0|              0.0|      null|  1021.3|Partly Cloudy|      50.88|      0|      10.0|        338|    5.54|     5.06|2020-01-17 14:00:00|\n",
            "|                 LAX|[2020-01-17T14:40...|           AA|               [,,,]|                   PEK|[, 683, 730, 10, ...|[788, 788, N813AN]|  4|2020-01-17T14:40:...|2020-01-17 14:40:00|2020-01-17|  14|    40|         3|        6|                      0|                        0|                        0|                          0|         0|                    788|                       788|        0|           0|                683|                  730|                    10|                     37|            22|         1482|              50.88|      0.55|    46.3|    0.84|partly-cloudy-night|284.7|            0.0|              0.0|      null|  1021.3|Partly Cloudy|      50.88|      0|      10.0|        338|    5.54|     5.06|2020-01-17 14:00:00|\n",
            "+--------------------+--------------------+-------------+--------------------+----------------------+--------------------+------------------+---+--------------------+-------------------+----------+----+------+----------+---------+-----------------------+-------------------------+-------------------------+---------------------------+----------+-----------------------+--------------------------+---------+------------+-------------------+---------------------+----------------------+-----------------------+--------------+-------------+-------------------+----------+--------+--------+-------------------+-----+---------------+-----------------+----------+--------+-------------+-----------+-------+----------+-----------+--------+---------+-------------------+\n",
            "only showing top 5 rows\n",
            "\n"
          ],
          "name": "stdout"
        }
      ]
    },
    {
      "cell_type": "code",
      "metadata": {
        "id": "8If0_nijHk5E",
        "colab_type": "code",
        "outputId": "c68432ed-e549-4083-ef5e-4f8dc68676a3",
        "colab": {
          "base_uri": "https://localhost:8080/",
          "height": 232
        }
      },
      "source": [
        "df_dep_wthr = df_dep_fmtd.join(df_weath, (col('date')==col('w_date')) & (col('hour')==col('w_hour')), how='inner')\n",
        "df_dep_wthr = df_dep_wthr.drop('time', 'w_date', 'w_hour')\n",
        "df_dep_wthr.show(5)"
      ],
      "execution_count": 17,
      "outputs": [
        {
          "output_type": "stream",
          "text": [
            "+--------------------+--------------------+-------------+----------------+----------------------+-----------------+------------------+---+--------------------+-------------------+----------+----+------+----------+---------+-----------------------+-------------------------+-------------------------+---------------------------+----------+-----------------------+--------------------------+---------+-------------------+---------------------+----------------------+-----------------------+-------------+-------------------+----------+--------+--------+-------------------+-----+---------------+-----------------+----------+--------+-------------+-----------+-------+----------+-----------+--------+---------+-------------------+\n",
            "|arrivalAirportFsCode|         arrivalDate|carrierFsCode|          delays|departureAirportFsCode|  flightDurations|   flightEquipment| id|           localDate|     localTimeStamp|      date|hour|minute|weekOfYear|dayOfWeek|arrivalGateDelayMinutes|arrivalRunwayDelayMinutes|departureGateDelayMinutes|departureRunwayDelayMinutes|totalDelay|actualEquipmentIataCode|scheduledEquipmentIataCode|eqChanged|scheduledAirMinutes|scheduledBlockMinutes|scheduledTaxiInMinutes|scheduledTaxiOutMinutes|totalDuration|apparentTemperature|cloudCover|dewPoint|humidity|               icon|ozone|precipIntensity|precipProbability|precipType|pressure|      summary|temperature|uvIndex|visibility|windBearing|windGust|windSpeed|             f_time|\n",
            "+--------------------+--------------------+-------------+----------------+----------------------+-----------------+------------------+---+--------------------+-------------------+----------+----+------+----------+---------+-----------------------+-------------------------+-------------------------+---------------------------+----------+-----------------------+--------------------------+---------+-------------------+---------------------+----------------------+-----------------------+-------------+-------------------+----------+--------+--------+-------------------+-----+---------------+-----------------+----------+--------+-------------+-----------+-------+----------+-----------+--------+---------+-------------------+\n",
            "|                 DFW|[2020-01-17T15:56...|           NK|           [,,,]|                   LAX| [151, 181,, 383]|       [32S, 32A,]|  0|2020-01-17T15:56:...|2020-01-17 15:56:00|2020-01-17|  15|    56|         3|        6|                      0|                        0|                        0|                          0|         0|                    32S|                       32A|        1|                151|                  181|                     0|                    383|          715|              50.47|      0.56|   45.36|    0.83|partly-cloudy-night|281.3|         4.0E-4|             0.01|      rain|  1021.9|Partly Cloudy|      50.47|      0|      10.0|        345|    4.52|      1.1|2020-01-17 15:00:00|\n",
            "|                 VNY|[2020-01-17T14:12...|          JTL|           [,,,]|                   LAX|       [12,,, 30]|    [GR2,, N990JT]|  1|2020-01-17T14:12:...|2020-01-17 14:12:00|2020-01-17|  14|    12|         3|        6|                      0|                        0|                        0|                          0|         0|                    GR2|                      null|        1|                 12|                    0|                     0|                     30|           42|              50.88|      0.55|    46.3|    0.84|partly-cloudy-night|284.7|            0.0|              0.0|      null|  1021.3|Partly Cloudy|      50.88|      0|      10.0|        338|    5.54|     5.06|2020-01-17 14:00:00|\n",
            "|                 SMF|[2020-01-17T15:00...|           WN|   [20,, 20, 15]|                   LAX|    [62, 90,, 31]|[73W, 73W, N711HK]|  2|2020-01-17T15:00:...|2020-01-17 15:00:00|2020-01-17|  15|     0|         3|        6|                     20|                        0|                       20|                         15|        55|                    73W|                       73W|        0|                 62|                   90|                     0|                     31|          183|              50.47|      0.56|   45.36|    0.83|partly-cloudy-night|281.3|         4.0E-4|             0.01|      rain|  1021.9|Partly Cloudy|      50.47|      0|      10.0|        345|    4.52|      1.1|2020-01-17 15:00:00|\n",
            "|                 AUS|[2020-01-17T18:29...|           AA|[25, 24, 25, 25]|                   LAX|[152, 174, 6, 16]|[32B, 321, N134AN]|  3|2020-01-17T18:29:...|2020-01-17 18:29:00|2020-01-17|  18|    29|         3|        6|                     25|                       24|                       25|                         25|        99|                    32B|                       321|        1|                152|                  174|                     6|                     16|          348|              55.01|      0.41|   46.17|    0.72|  partly-cloudy-day|275.9|            0.0|              0.0|      null|  1024.2|Partly Cloudy|      55.01|      2|      10.0|         39|    5.51|     3.48|2020-01-17 18:00:00|\n",
            "|                 SAN|[2020-01-17T14:37...|           OO|           [,,,]|                   LAX|  [29, 54, 3, 22]|[CR7, CR7, N732SK]|  4|2020-01-17T14:37:...|2020-01-17 14:37:00|2020-01-17|  14|    37|         3|        6|                      0|                        0|                        0|                          0|         0|                    CR7|                       CR7|        0|                 29|                   54|                     3|                     22|          108|              50.88|      0.55|    46.3|    0.84|partly-cloudy-night|284.7|            0.0|              0.0|      null|  1021.3|Partly Cloudy|      50.88|      0|      10.0|        338|    5.54|     5.06|2020-01-17 14:00:00|\n",
            "+--------------------+--------------------+-------------+----------------+----------------------+-----------------+------------------+---+--------------------+-------------------+----------+----+------+----------+---------+-----------------------+-------------------------+-------------------------+---------------------------+----------+-----------------------+--------------------------+---------+-------------------+---------------------+----------------------+-----------------------+-------------+-------------------+----------+--------+--------+-------------------+-----+---------------+-----------------+----------+--------+-------------+-----------+-------+----------+-----------+--------+---------+-------------------+\n",
            "only showing top 5 rows\n",
            "\n"
          ],
          "name": "stdout"
        }
      ]
    },
    {
      "cell_type": "markdown",
      "metadata": {
        "id": "CUhGyctlXTY9",
        "colab_type": "text"
      },
      "source": [
        "Next, I think I will select only the feature and target columns."
      ]
    },
    {
      "cell_type": "code",
      "metadata": {
        "id": "cSofB4KIJ9Pa",
        "colab_type": "code",
        "outputId": "184e77f7-50fc-4a4d-ab39-dcf935fbdbae",
        "colab": {
          "base_uri": "https://localhost:8080/",
          "height": 232
        }
      },
      "source": [
        "df_arr_final = df_arr_wthr.drop('arrivalDate', 'delays', 'flightDurations', 'flightEquipment', \n",
        "                               'localDate', 'localTimeStamp', 'icon', 'f_time')\n",
        "df_arr_final.show(5)"
      ],
      "execution_count": 18,
      "outputs": [
        {
          "output_type": "stream",
          "text": [
            "+--------------------+-------------+----------------------+---+----------+----+------+----------+---------+-----------------------+-------------------------+-------------------------+---------------------------+----------+-----------------------+--------------------------+---------+------------+-------------------+---------------------+----------------------+-----------------------+--------------+-------------+-------------------+----------+--------+--------+-----+---------------+-----------------+----------+--------+-------------+-----------+-------+----------+-----------+--------+---------+\n",
            "|arrivalAirportFsCode|carrierFsCode|departureAirportFsCode| id|      date|hour|minute|weekOfYear|dayOfWeek|arrivalGateDelayMinutes|arrivalRunwayDelayMinutes|departureGateDelayMinutes|departureRunwayDelayMinutes|totalDelay|actualEquipmentIataCode|scheduledEquipmentIataCode|eqChanged|blockMinutes|scheduledAirMinutes|scheduledBlockMinutes|scheduledTaxiInMinutes|scheduledTaxiOutMinutes|taxiOutMinutes|totalDuration|apparentTemperature|cloudCover|dewPoint|humidity|ozone|precipIntensity|precipProbability|precipType|pressure|      summary|temperature|uvIndex|visibility|windBearing|windGust|windSpeed|\n",
            "+--------------------+-------------+----------------------+---+----------+----+------+----------+---------+-----------------------+-------------------------+-------------------------+---------------------------+----------+-----------------------+--------------------------+---------+------------+-------------------+---------------------+----------------------+-----------------------+--------------+-------------+-------------------+----------+--------+--------+-----+---------------+-----------------+----------+--------+-------------+-----------+-------+----------+-----------+--------+---------+\n",
            "|                 LAX|           QR|                   DOH|  0|2020-01-17|  13|    10|         3|        6|                      0|                       13|                       52|                         60|       125|                    77L|                       77L|        0|           0|               1021|                  985|                     0|                     10|            18|         2034|              51.24|      0.64|   46.86|    0.85|289.0|         7.0E-4|             0.01|      rain|  1020.6|Mostly Cloudy|      51.24|      0|      10.0|        323|    6.25|     4.13|\n",
            "|                 LAX|           QF|                   SYD|  1|2020-01-17|  13|    15|         3|        6|                    205|                      247|                      226|                        240|       918|                    388|                       388|        0|           0|                763|                  830|                    57|                     10|            24|         1684|              51.24|      0.64|   46.86|    0.85|289.0|         7.0E-4|             0.01|      rain|  1020.6|Mostly Cloudy|      51.24|      0|      10.0|        323|    6.25|     4.13|\n",
            "|                 LAX|           SU|                   SVO|  2|2020-01-17|  13|    50|         3|        6|                     14|                       23|                        0|                          0|        37|                    332|                       332|        0|           0|                745|                  770|                    15|                     10|            23|         1563|              51.24|      0.64|   46.86|    0.85|289.0|         7.0E-4|             0.01|      rain|  1020.6|Mostly Cloudy|      51.24|      0|      10.0|        323|    6.25|     4.13|\n",
            "|                 LAX|           NZ|                   AKL|  3|2020-01-17|  14|     0|         3|        6|                      0|                        7|                       17|                         25|        49|                    77W|                       77W|        0|           0|                681|                  725|                    34|                     10|            18|         1468|              50.88|      0.55|    46.3|    0.84|284.7|            0.0|              0.0|      null|  1021.3|Partly Cloudy|      50.88|      0|      10.0|        338|    5.54|     5.06|\n",
            "|                 LAX|           AA|                   PEK|  4|2020-01-17|  14|    40|         3|        6|                      0|                        0|                        0|                          0|         0|                    788|                       788|        0|           0|                683|                  730|                    10|                     37|            22|         1482|              50.88|      0.55|    46.3|    0.84|284.7|            0.0|              0.0|      null|  1021.3|Partly Cloudy|      50.88|      0|      10.0|        338|    5.54|     5.06|\n",
            "+--------------------+-------------+----------------------+---+----------+----+------+----------+---------+-----------------------+-------------------------+-------------------------+---------------------------+----------+-----------------------+--------------------------+---------+------------+-------------------+---------------------+----------------------+-----------------------+--------------+-------------+-------------------+----------+--------+--------+-----+---------------+-----------------+----------+--------+-------------+-----------+-------+----------+-----------+--------+---------+\n",
            "only showing top 5 rows\n",
            "\n"
          ],
          "name": "stdout"
        }
      ]
    },
    {
      "cell_type": "code",
      "metadata": {
        "id": "qt_y4sfWL1Un",
        "colab_type": "code",
        "outputId": "492c79b2-081d-450b-e64a-248c2b38613f",
        "colab": {
          "base_uri": "https://localhost:8080/",
          "height": 232
        }
      },
      "source": [
        "# rinse and repeat for the departing flights\n",
        "df_dep_final = df_dep_wthr.drop('arrivalDate', 'delays', 'flightDurations', 'flightEquipment',\n",
        "                                'localDate', 'localTimeStamp', 'icon', 'f_time')\n",
        "df_dep_final.show(5)"
      ],
      "execution_count": 19,
      "outputs": [
        {
          "output_type": "stream",
          "text": [
            "+--------------------+-------------+----------------------+---+----------+----+------+----------+---------+-----------------------+-------------------------+-------------------------+---------------------------+----------+-----------------------+--------------------------+---------+-------------------+---------------------+----------------------+-----------------------+-------------+-------------------+----------+--------+--------+-----+---------------+-----------------+----------+--------+-------------+-----------+-------+----------+-----------+--------+---------+\n",
            "|arrivalAirportFsCode|carrierFsCode|departureAirportFsCode| id|      date|hour|minute|weekOfYear|dayOfWeek|arrivalGateDelayMinutes|arrivalRunwayDelayMinutes|departureGateDelayMinutes|departureRunwayDelayMinutes|totalDelay|actualEquipmentIataCode|scheduledEquipmentIataCode|eqChanged|scheduledAirMinutes|scheduledBlockMinutes|scheduledTaxiInMinutes|scheduledTaxiOutMinutes|totalDuration|apparentTemperature|cloudCover|dewPoint|humidity|ozone|precipIntensity|precipProbability|precipType|pressure|      summary|temperature|uvIndex|visibility|windBearing|windGust|windSpeed|\n",
            "+--------------------+-------------+----------------------+---+----------+----+------+----------+---------+-----------------------+-------------------------+-------------------------+---------------------------+----------+-----------------------+--------------------------+---------+-------------------+---------------------+----------------------+-----------------------+-------------+-------------------+----------+--------+--------+-----+---------------+-----------------+----------+--------+-------------+-----------+-------+----------+-----------+--------+---------+\n",
            "|                 DFW|           NK|                   LAX|  0|2020-01-17|  15|    56|         3|        6|                      0|                        0|                        0|                          0|         0|                    32S|                       32A|        1|                151|                  181|                     0|                    383|          715|              50.47|      0.56|   45.36|    0.83|281.3|         4.0E-4|             0.01|      rain|  1021.9|Partly Cloudy|      50.47|      0|      10.0|        345|    4.52|      1.1|\n",
            "|                 VNY|          JTL|                   LAX|  1|2020-01-17|  14|    12|         3|        6|                      0|                        0|                        0|                          0|         0|                    GR2|                      null|        1|                 12|                    0|                     0|                     30|           42|              50.88|      0.55|    46.3|    0.84|284.7|            0.0|              0.0|      null|  1021.3|Partly Cloudy|      50.88|      0|      10.0|        338|    5.54|     5.06|\n",
            "|                 SMF|           WN|                   LAX|  2|2020-01-17|  15|     0|         3|        6|                     20|                        0|                       20|                         15|        55|                    73W|                       73W|        0|                 62|                   90|                     0|                     31|          183|              50.47|      0.56|   45.36|    0.83|281.3|         4.0E-4|             0.01|      rain|  1021.9|Partly Cloudy|      50.47|      0|      10.0|        345|    4.52|      1.1|\n",
            "|                 AUS|           AA|                   LAX|  3|2020-01-17|  18|    29|         3|        6|                     25|                       24|                       25|                         25|        99|                    32B|                       321|        1|                152|                  174|                     6|                     16|          348|              55.01|      0.41|   46.17|    0.72|275.9|            0.0|              0.0|      null|  1024.2|Partly Cloudy|      55.01|      2|      10.0|         39|    5.51|     3.48|\n",
            "|                 SAN|           OO|                   LAX|  4|2020-01-17|  14|    37|         3|        6|                      0|                        0|                        0|                          0|         0|                    CR7|                       CR7|        0|                 29|                   54|                     3|                     22|          108|              50.88|      0.55|    46.3|    0.84|284.7|            0.0|              0.0|      null|  1021.3|Partly Cloudy|      50.88|      0|      10.0|        338|    5.54|     5.06|\n",
            "+--------------------+-------------+----------------------+---+----------+----+------+----------+---------+-----------------------+-------------------------+-------------------------+---------------------------+----------+-----------------------+--------------------------+---------+-------------------+---------------------+----------------------+-----------------------+-------------+-------------------+----------+--------+--------+-----+---------------+-----------------+----------+--------+-------------+-----------+-------+----------+-----------+--------+---------+\n",
            "only showing top 5 rows\n",
            "\n"
          ],
          "name": "stdout"
        }
      ]
    },
    {
      "cell_type": "markdown",
      "metadata": {
        "id": "LQkpyl7xCk0E",
        "colab_type": "text"
      },
      "source": [
        "While we have the columns narrowed down, we still have a long way to go to be ready to build a model. Since we will be using linear regression as one of the methods, we have to encode all the categorical variables."
      ]
    },
    {
      "cell_type": "code",
      "metadata": {
        "id": "Ww69i2Wl0Zum",
        "colab_type": "code",
        "outputId": "43ed437b-c4ea-4e25-fe47-6763c0045a21",
        "colab": {
          "base_uri": "https://localhost:8080/",
          "height": 763
        }
      },
      "source": [
        "df_arr_final.printSchema()"
      ],
      "execution_count": 20,
      "outputs": [
        {
          "output_type": "stream",
          "text": [
            "root\n",
            " |-- arrivalAirportFsCode: string (nullable = true)\n",
            " |-- carrierFsCode: string (nullable = true)\n",
            " |-- departureAirportFsCode: string (nullable = true)\n",
            " |-- id: long (nullable = false)\n",
            " |-- date: date (nullable = true)\n",
            " |-- hour: integer (nullable = true)\n",
            " |-- minute: integer (nullable = true)\n",
            " |-- weekOfYear: integer (nullable = true)\n",
            " |-- dayOfWeek: integer (nullable = true)\n",
            " |-- arrivalGateDelayMinutes: long (nullable = true)\n",
            " |-- arrivalRunwayDelayMinutes: long (nullable = true)\n",
            " |-- departureGateDelayMinutes: long (nullable = true)\n",
            " |-- departureRunwayDelayMinutes: long (nullable = true)\n",
            " |-- totalDelay: long (nullable = true)\n",
            " |-- actualEquipmentIataCode: string (nullable = true)\n",
            " |-- scheduledEquipmentIataCode: string (nullable = true)\n",
            " |-- eqChanged: integer (nullable = true)\n",
            " |-- blockMinutes: long (nullable = true)\n",
            " |-- scheduledAirMinutes: long (nullable = true)\n",
            " |-- scheduledBlockMinutes: long (nullable = true)\n",
            " |-- scheduledTaxiInMinutes: long (nullable = true)\n",
            " |-- scheduledTaxiOutMinutes: long (nullable = true)\n",
            " |-- taxiOutMinutes: long (nullable = true)\n",
            " |-- totalDuration: long (nullable = true)\n",
            " |-- apparentTemperature: double (nullable = true)\n",
            " |-- cloudCover: double (nullable = true)\n",
            " |-- dewPoint: double (nullable = true)\n",
            " |-- humidity: double (nullable = true)\n",
            " |-- ozone: double (nullable = true)\n",
            " |-- precipIntensity: double (nullable = true)\n",
            " |-- precipProbability: double (nullable = true)\n",
            " |-- precipType: string (nullable = true)\n",
            " |-- pressure: double (nullable = true)\n",
            " |-- summary: string (nullable = true)\n",
            " |-- temperature: double (nullable = true)\n",
            " |-- uvIndex: long (nullable = true)\n",
            " |-- visibility: double (nullable = true)\n",
            " |-- windBearing: long (nullable = true)\n",
            " |-- windGust: double (nullable = true)\n",
            " |-- windSpeed: double (nullable = true)\n",
            "\n"
          ],
          "name": "stdout"
        }
      ]
    },
    {
      "cell_type": "code",
      "metadata": {
        "id": "qou6ZcdiMnrh",
        "colab_type": "code",
        "outputId": "b553dc34-35cb-49b4-af33-5dad366b2559",
        "colab": {
          "base_uri": "https://localhost:8080/",
          "height": 54
        }
      },
      "source": [
        "# let's first create a dictionary of all the carriers present in the dataframe\n",
        "# get unique values from column\n",
        "unique_airlines = df_arr_final.select('carrierFsCode').distinct()\n",
        "\n",
        "# make a list of all airlines\n",
        "airline_list = [row.carrierFsCode for row in unique_airlines.collect()]\n",
        "\n",
        "# create a random sampling of integer ids\n",
        "random_codes = random.sample(range(1000), len(airline_list))\n",
        "\n",
        "# assign each random int id to an airline\n",
        "airline_dict = dict(zip(airline_list, random_codes))\n",
        "print(airline_dict)\n"
      ],
      "execution_count": 54,
      "outputs": [
        {
          "output_type": "stream",
          "text": [
            "{'XOJ': 136, 'CI': 774, 'BAI': 80, 'UA': 264, 'NK': 715, 'AA': 955, 'AV': 508, 'QF': 828, 'CZ': 843, 'B6': 194, 'CX': 202, 'NH': 915, 'CV': 495, 'SU': 991, 'LX': 143, 'DL': 773, 'CA': 683, 'MW': 288, 'BR': 301, 'OO': 792, 'F9': 846, 'VB': 504, 'LH': 815, 'CM': 104, 'Y4': 62, 'VS': 703, 'HA': 724, 'BA': 418, 'LP': 388, 'EI': 908, 'WS': 605, 'DI*': 148, 'LO': 507, 'MU': 125, '5X': 921, 'G4': 290, 'MF': 671, 'NZ': 409, 'CP': 585, 'QR': 885, 'OZ': 637, 'KE': 325, '1I': 306, 'AS': 898, 'AC': 102, 'QX': 248, 'K4': 557, 'TK': 184, 'PR': 393, 'TA': 417, 'SQ': 841, 'AF': 186, 'WN': 157, 'L1E': 525}\n"
          ],
          "name": "stdout"
        }
      ]
    },
    {
      "cell_type": "code",
      "metadata": {
        "id": "5VJg9jm9j2vO",
        "colab_type": "code",
        "outputId": "d11f80f9-7229-4141-d9a2-2d9f6c7dab38",
        "colab": {
          "base_uri": "https://localhost:8080/",
          "height": 34
        }
      },
      "source": [
        "total_flts = df_arr_final.count()\n",
        "unique_from_stn = df_arr_final.select('departureAirportFsCode').distinct()\n",
        "from_stn_total = unique_from_stn.count()\n",
        "total_alines = len(airline_list)\n",
        "arr_airpt = df_arr_final.first().arrivalAirportFsCode\n",
        "\n",
        "print(f'There were {total_flts} flights from {from_stn_total} different stations operated by {total_alines} different airlines arriving at {arr_airpt} in the past 24 hours.')"
      ],
      "execution_count": 25,
      "outputs": [
        {
          "output_type": "stream",
          "text": [
            "There were 337 flights from 123 different stations operated by 54 different airlines arriving at LAX in the past 24 hours.\n"
          ],
          "name": "stdout"
        }
      ]
    },
    {
      "cell_type": "markdown",
      "metadata": {
        "id": "8ZFSDrSGR6Rx",
        "colab_type": "text"
      },
      "source": [
        "Now that we have a dictionary, let's apply it to our dataframe."
      ]
    },
    {
      "cell_type": "code",
      "metadata": {
        "id": "eAoJGJxVHGMP",
        "colab_type": "code",
        "outputId": "cd59816e-9d4e-4ba2-a431-2b7e26507bc1",
        "colab": {
          "base_uri": "https://localhost:8080/",
          "height": 232
        }
      },
      "source": [
        "map_exp = create_map([lit(x) for x in chain(*airline_dict.items())])\n",
        "\n",
        "df_arr_final = df_arr_final.withColumn('a_code', map_exp.getItem(col('carrierFsCode')))\n",
        "df_arr_final.show(5)"
      ],
      "execution_count": 26,
      "outputs": [
        {
          "output_type": "stream",
          "text": [
            "+--------------------+-------------+----------------------+---+----------+----+------+----------+---------+-----------------------+-------------------------+-------------------------+---------------------------+----------+-----------------------+--------------------------+---------+------------+-------------------+---------------------+----------------------+-----------------------+--------------+-------------+-------------------+----------+--------+--------+-----+---------------+-----------------+----------+--------+-------------+-----------+-------+----------+-----------+--------+---------+------+\n",
            "|arrivalAirportFsCode|carrierFsCode|departureAirportFsCode| id|      date|hour|minute|weekOfYear|dayOfWeek|arrivalGateDelayMinutes|arrivalRunwayDelayMinutes|departureGateDelayMinutes|departureRunwayDelayMinutes|totalDelay|actualEquipmentIataCode|scheduledEquipmentIataCode|eqChanged|blockMinutes|scheduledAirMinutes|scheduledBlockMinutes|scheduledTaxiInMinutes|scheduledTaxiOutMinutes|taxiOutMinutes|totalDuration|apparentTemperature|cloudCover|dewPoint|humidity|ozone|precipIntensity|precipProbability|precipType|pressure|      summary|temperature|uvIndex|visibility|windBearing|windGust|windSpeed|a_code|\n",
            "+--------------------+-------------+----------------------+---+----------+----+------+----------+---------+-----------------------+-------------------------+-------------------------+---------------------------+----------+-----------------------+--------------------------+---------+------------+-------------------+---------------------+----------------------+-----------------------+--------------+-------------+-------------------+----------+--------+--------+-----+---------------+-----------------+----------+--------+-------------+-----------+-------+----------+-----------+--------+---------+------+\n",
            "|                 LAX|           QR|                   DOH|  0|2020-01-17|  13|    10|         3|        6|                      0|                       13|                       52|                         60|       125|                    77L|                       77L|        0|           0|               1021|                  985|                     0|                     10|            18|         2034|              51.24|      0.64|   46.86|    0.85|289.0|         7.0E-4|             0.01|      rain|  1020.6|Mostly Cloudy|      51.24|      0|      10.0|        323|    6.25|     4.13|   979|\n",
            "|                 LAX|           QF|                   SYD|  1|2020-01-17|  13|    15|         3|        6|                    205|                      247|                      226|                        240|       918|                    388|                       388|        0|           0|                763|                  830|                    57|                     10|            24|         1684|              51.24|      0.64|   46.86|    0.85|289.0|         7.0E-4|             0.01|      rain|  1020.6|Mostly Cloudy|      51.24|      0|      10.0|        323|    6.25|     4.13|   900|\n",
            "|                 LAX|           SU|                   SVO|  2|2020-01-17|  13|    50|         3|        6|                     14|                       23|                        0|                          0|        37|                    332|                       332|        0|           0|                745|                  770|                    15|                     10|            23|         1563|              51.24|      0.64|   46.86|    0.85|289.0|         7.0E-4|             0.01|      rain|  1020.6|Mostly Cloudy|      51.24|      0|      10.0|        323|    6.25|     4.13|   813|\n",
            "|                 LAX|           NZ|                   AKL|  3|2020-01-17|  14|     0|         3|        6|                      0|                        7|                       17|                         25|        49|                    77W|                       77W|        0|           0|                681|                  725|                    34|                     10|            18|         1468|              50.88|      0.55|    46.3|    0.84|284.7|            0.0|              0.0|      null|  1021.3|Partly Cloudy|      50.88|      0|      10.0|        338|    5.54|     5.06|    31|\n",
            "|                 LAX|           AA|                   PEK|  4|2020-01-17|  14|    40|         3|        6|                      0|                        0|                        0|                          0|         0|                    788|                       788|        0|           0|                683|                  730|                    10|                     37|            22|         1482|              50.88|      0.55|    46.3|    0.84|284.7|            0.0|              0.0|      null|  1021.3|Partly Cloudy|      50.88|      0|      10.0|        338|    5.54|     5.06|   806|\n",
            "+--------------------+-------------+----------------------+---+----------+----+------+----------+---------+-----------------------+-------------------------+-------------------------+---------------------------+----------+-----------------------+--------------------------+---------+------------+-------------------+---------------------+----------------------+-----------------------+--------------+-------------+-------------------+----------+--------+--------+-----+---------------+-----------------+----------+--------+-------------+-----------+-------+----------+-----------+--------+---------+------+\n",
            "only showing top 5 rows\n",
            "\n"
          ],
          "name": "stdout"
        }
      ]
    },
    {
      "cell_type": "markdown",
      "metadata": {
        "id": "-VtZUbpzN5wm",
        "colab_type": "text"
      },
      "source": [
        "Looking through the dataframe, we have a couple more columns that needs to go under the same process to encode."
      ]
    },
    {
      "cell_type": "code",
      "metadata": {
        "id": "iInHX0tLSrjR",
        "colab_type": "code",
        "outputId": "48420945-b291-4f6a-dab3-41394bd095e6",
        "colab": {
          "base_uri": "https://localhost:8080/",
          "height": 54
        }
      },
      "source": [
        "# originating stations\n",
        "from_stn_list = [row.departureAirportFsCode for row in unique_from_stn.collect()]\n",
        "random_codes_2 = random.sample(range(1001, 2000), len(from_stn_list))\n",
        "from_stn_dict = dict(zip(from_stn_list, random_codes_2))\n",
        "print(from_stn_dict)"
      ],
      "execution_count": 27,
      "outputs": [
        {
          "output_type": "stream",
          "text": [
            "{'MSY': 1345, 'GEG': 1991, 'EUG': 1512, 'OAK': 1518, 'BNE': 1765, 'MSN': 1220, 'DCA': 1887, 'QRO': 1574, 'RDM': 1833, 'PEK': 1464, 'CMH': 1992, 'CDG': 1046, 'SIN': 1371, 'IAH': 1634, 'MZT': 1085, 'SYD': 1769, 'HNL': 1380, 'SJC': 1197, 'BUF': 1550, 'PVG': 1917, 'AUS': 1728, 'MUC': 1614, 'MEX': 1139, 'ZIH': 1154, 'RNO': 1429, 'JAC': 1217, 'IPL': 1881, 'TUL': 1076, 'BOS': 1191, 'EWR': 1238, 'DOH': 1121, 'LAS': 1306, 'YEG': 1214, 'LIR': 1567, 'BCN': 1997, 'XNA': 1933, 'YYZ': 1003, 'DEN': 1734, 'BJX': 1541, 'IAD': 1638, 'BOI': 1772, 'SBA': 1385, 'SJD': 1494, 'SEA': 1413, 'MNL': 1715, 'ICN': 1704, 'MCI': 1107, 'WAW': 1178, 'CLT': 1717, 'BNA': 1093, 'PAE': 1447, 'YVR': 1163, 'CUN': 1325, 'ABQ': 1328, 'SVO': 1377, 'SDF': 1183, 'MEL': 1213, 'SCK': 1802, 'DAL': 1896, 'MRY': 1216, 'PDX': 1757, 'PVR': 1938, 'LGW': 1805, 'MIA': 1743, 'MFR': 1852, 'LHR': 1663, 'DGO': 1526, 'PRC': 1442, 'SAL': 1976, 'OKC': 1607, 'YYC': 1905, 'SMF': 1335, 'PTY': 1037, 'PHX': 1432, 'STL': 1475, 'DFW': 1364, 'MMH': 1028, 'TEB': 1693, 'HDN': 1561, 'EGE': 1961, 'SWF': 1119, 'SUN': 1423, 'SFO': 1215, 'MEM': 1989, 'ELP': 1004, 'CAN': 1754, 'ATL': 1054, 'TPE': 1594, 'OMA': 1053, 'TAO': 1112, 'DUB': 1095, 'AKL': 1270, 'FAT': 1530, 'ZRH': 1317, 'ORD': 1531, 'HND': 1050, 'TRM': 1126, 'TUS': 1010, 'MDW': 1746, 'COS': 1300, 'LIM': 1851, 'IND': 1959, 'HKG': 1103, 'VNY': 1308, 'DTW': 1264, 'BOG': 1290, 'HOU': 1473, 'MCE': 1602, 'STS': 1148, 'MSP': 1396, 'LAX': 1899, 'MCO': 1407, 'SAN': 1219, 'BZN': 1855, 'PPT': 1862, 'JFK': 1656, 'GDL': 1032, 'PHL': 1421, 'OGG': 1268, 'ISL': 1825, 'SAT': 1025, 'SLC': 1450, 'ASE': 1646}\n"
          ],
          "name": "stdout"
        }
      ]
    },
    {
      "cell_type": "code",
      "metadata": {
        "id": "5GUM721-xWmH",
        "colab_type": "code",
        "colab": {}
      },
      "source": [
        "#df_arr_final.columns"
      ],
      "execution_count": 0,
      "outputs": []
    },
    {
      "cell_type": "code",
      "metadata": {
        "id": "-YoDvbrkTOJl",
        "colab_type": "code",
        "outputId": "4b8bbded-f250-4a70-f33b-98e0cf6c3835",
        "colab": {
          "base_uri": "https://localhost:8080/",
          "height": 72
        }
      },
      "source": [
        "# aircrafts(ac)\n",
        "ac_actual = df_arr_final.select('actualEquipmentIataCode').na.fill('None').distinct()\n",
        "ac_sched = df_arr_final.select('scheduledEquipmentIataCode').na.fill('None').distinct()\n",
        "\n",
        "ac_actual_list = [row.actualEquipmentIataCode for row in ac_actual.collect()]\n",
        "ac_sched_list = [row.scheduledEquipmentIataCode for row in ac_sched.collect()]\n",
        "\n",
        "ac_combo_list = list(set(ac_actual_list + ac_sched_list))\n",
        "\n",
        "random_codes_3 = random.sample(range(2001, 3000), len(ac_combo_list))\n",
        "\n",
        "ac_dict = dict(zip(ac_combo_list, random_codes_3))\n",
        "print(ac_dict)\n",
        "\n",
        "print(f'A total of {len(ac_combo_list)} different types of aircraft operating today.')"
      ],
      "execution_count": 28,
      "outputs": [
        {
          "output_type": "stream",
          "text": [
            "{'73G': 2670, '752': 2362, '7S8': 2732, '753': 2404, '388': 2093, 'PL2': 2904, '74F': 2631, '75T': 2055, 'CR7': 2786, '77F': 2225, 'CN2': 2293, '321': 2637, '76W': 2010, '773': 2158, '74Y': 2925, 'CNA': 2380, 'None': 2418, '73H': 2250, '32N': 2773, '73J': 2663, '788': 2309, 'CJL': 2434, '75W': 2873, 'E7W': 2476, '772': 2284, '77L': 2820, '73R': 2642, '32B': 2824, '359': 2916, '319': 2875, '739': 2041, '32Q': 2562, '763': 2295, '741': 2766, '738': 2466, '32S': 2990, '32A': 2672, 'CR2': 2247, '757': 2729, '31B': 2449, '75D': 2806, '76V': 2065, '320': 2267, '346': 2714, '332': 2793, '330': 2367, 'E75': 2752, '77W': 2550, '744': 2677, '73W': 2830, '747': 2259, '77X': 2861, '781': 2152, '789': 2656, '74N': 2275, 'CNJ': 2245, 'CRJ': 2366}\n",
            "A total of 57 different types of aircraft operating today.\n"
          ],
          "name": "stdout"
        }
      ]
    },
    {
      "cell_type": "code",
      "metadata": {
        "id": "gT7MM5YDWHwB",
        "colab_type": "code",
        "outputId": "4ce9a246-0ccf-4456-ca3d-3fec4fedb8f4",
        "colab": {
          "base_uri": "https://localhost:8080/",
          "height": 141
        }
      },
      "source": [
        "# precipitation\n",
        "df_arr_final.select('precipType').distinct().show()\n"
      ],
      "execution_count": 29,
      "outputs": [
        {
          "output_type": "stream",
          "text": [
            "+----------+\n",
            "|precipType|\n",
            "+----------+\n",
            "|      null|\n",
            "|      rain|\n",
            "+----------+\n",
            "\n"
          ],
          "name": "stdout"
        }
      ]
    },
    {
      "cell_type": "markdown",
      "metadata": {
        "id": "UKQkx0-Sz-Qm",
        "colab_type": "text"
      },
      "source": [
        "It looks like we can just drop this column altogether."
      ]
    },
    {
      "cell_type": "code",
      "metadata": {
        "id": "-QNfPikMaJIr",
        "colab_type": "code",
        "colab": {}
      },
      "source": [
        "df_arr_final = df_arr_final.drop('precipType', 'summary')"
      ],
      "execution_count": 0,
      "outputs": []
    },
    {
      "cell_type": "code",
      "metadata": {
        "id": "mzyt5XH20oeS",
        "colab_type": "code",
        "outputId": "a9b50b54-dd5a-49e9-9f7e-59c28cbfc436",
        "colab": {
          "base_uri": "https://localhost:8080/",
          "height": 161
        }
      },
      "source": [
        "df_arr_final.show(1)"
      ],
      "execution_count": 37,
      "outputs": [
        {
          "output_type": "stream",
          "text": [
            "+--------------------+-------------+----------------------+---+----------+----+------+----------+---------+-----------------------+-------------------------+-------------------------+---------------------------+----------+-----------------------+--------------------------+---------+------------+-------------------+---------------------+----------------------+-----------------------+--------------+-------------+-------------------+----------+--------+--------+-----+---------------+-----------------+--------+-----------+-------+----------+-----------+--------+---------+------+-------+--------+--------+\n",
            "|arrivalAirportFsCode|carrierFsCode|departureAirportFsCode| id|      date|hour|minute|weekOfYear|dayOfWeek|arrivalGateDelayMinutes|arrivalRunwayDelayMinutes|departureGateDelayMinutes|departureRunwayDelayMinutes|totalDelay|actualEquipmentIataCode|scheduledEquipmentIataCode|eqChanged|blockMinutes|scheduledAirMinutes|scheduledBlockMinutes|scheduledTaxiInMinutes|scheduledTaxiOutMinutes|taxiOutMinutes|totalDuration|apparentTemperature|cloudCover|dewPoint|humidity|ozone|precipIntensity|precipProbability|pressure|temperature|uvIndex|visibility|windBearing|windGust|windSpeed|a_code|fm_code|aac_code|sac_code|\n",
            "+--------------------+-------------+----------------------+---+----------+----+------+----------+---------+-----------------------+-------------------------+-------------------------+---------------------------+----------+-----------------------+--------------------------+---------+------------+-------------------+---------------------+----------------------+-----------------------+--------------+-------------+-------------------+----------+--------+--------+-----+---------------+-----------------+--------+-----------+-------+----------+-----------+--------+---------+------+-------+--------+--------+\n",
            "|                 LAX|           QR|                   DOH|  0|2020-01-17|  13|    10|         3|        6|                      0|                       13|                       52|                         60|       125|                    77L|                       77L|        0|           0|               1021|                  985|                     0|                     10|            18|         2034|              51.24|      0.64|   46.86|    0.85|289.0|         7.0E-4|             0.01|  1020.6|      51.24|      0|      10.0|        323|    6.25|     4.13|   979|   1121|    2820|    2820|\n",
            "+--------------------+-------------+----------------------+---+----------+----+------+----------+---------+-----------------------+-------------------------+-------------------------+---------------------------+----------+-----------------------+--------------------------+---------+------------+-------------------+---------------------+----------------------+-----------------------+--------------+-------------+-------------------+----------+--------+--------+-----+---------------+-----------------+--------+-----------+-------+----------+-----------+--------+---------+------+-------+--------+--------+\n",
            "only showing top 1 row\n",
            "\n"
          ],
          "name": "stdout"
        }
      ]
    },
    {
      "cell_type": "code",
      "metadata": {
        "id": "JB5iXmfR2Hvx",
        "colab_type": "code",
        "colab": {}
      },
      "source": [
        "map_exp_2 = create_map([lit(x) for x in chain(*from_stn_dict.items())])\n",
        "map_exp_3 = create_map([lit(x) for x in chain(*ac_dict.items())])"
      ],
      "execution_count": 0,
      "outputs": []
    },
    {
      "cell_type": "code",
      "metadata": {
        "id": "7p9YR4mK7Eh1",
        "colab_type": "code",
        "colab": {}
      },
      "source": [
        "df_arr_final = df_arr_final.withColumn('fm_code', map_exp_2.getItem(col('departureAirportFsCode')))\n",
        "df_arr_final = df_arr_final.withColumn('aac_code', map_exp_3.getItem(col('actualEquipmentIataCode')))\n",
        "df_arr_final = df_arr_final.withColumn('sac_code', map_exp_3.getItem(col('scheduledEquipmentIataCode')))"
      ],
      "execution_count": 0,
      "outputs": []
    },
    {
      "cell_type": "code",
      "metadata": {
        "id": "yJ_dp1vj9h6j",
        "colab_type": "code",
        "outputId": "54a15ba6-3c78-4b89-d084-58beb6bbb30a",
        "colab": {
          "base_uri": "https://localhost:8080/",
          "height": 232
        }
      },
      "source": [
        "df_arr_final.show(5)"
      ],
      "execution_count": 34,
      "outputs": [
        {
          "output_type": "stream",
          "text": [
            "+--------------------+-------------+----------------------+---+----------+----+------+----------+---------+-----------------------+-------------------------+-------------------------+---------------------------+----------+-----------------------+--------------------------+---------+------------+-------------------+---------------------+----------------------+-----------------------+--------------+-------------+-------------------+----------+--------+--------+-----+---------------+-----------------+--------+-----------+-------+----------+-----------+--------+---------+------+-------+--------+--------+\n",
            "|arrivalAirportFsCode|carrierFsCode|departureAirportFsCode| id|      date|hour|minute|weekOfYear|dayOfWeek|arrivalGateDelayMinutes|arrivalRunwayDelayMinutes|departureGateDelayMinutes|departureRunwayDelayMinutes|totalDelay|actualEquipmentIataCode|scheduledEquipmentIataCode|eqChanged|blockMinutes|scheduledAirMinutes|scheduledBlockMinutes|scheduledTaxiInMinutes|scheduledTaxiOutMinutes|taxiOutMinutes|totalDuration|apparentTemperature|cloudCover|dewPoint|humidity|ozone|precipIntensity|precipProbability|pressure|temperature|uvIndex|visibility|windBearing|windGust|windSpeed|a_code|fm_code|aac_code|sac_code|\n",
            "+--------------------+-------------+----------------------+---+----------+----+------+----------+---------+-----------------------+-------------------------+-------------------------+---------------------------+----------+-----------------------+--------------------------+---------+------------+-------------------+---------------------+----------------------+-----------------------+--------------+-------------+-------------------+----------+--------+--------+-----+---------------+-----------------+--------+-----------+-------+----------+-----------+--------+---------+------+-------+--------+--------+\n",
            "|                 LAX|           QR|                   DOH|  0|2020-01-17|  13|    10|         3|        6|                      0|                       13|                       52|                         60|       125|                    77L|                       77L|        0|           0|               1021|                  985|                     0|                     10|            18|         2034|              51.24|      0.64|   46.86|    0.85|289.0|         7.0E-4|             0.01|  1020.6|      51.24|      0|      10.0|        323|    6.25|     4.13|   979|   1121|    2820|    2820|\n",
            "|                 LAX|           QF|                   SYD|  1|2020-01-17|  13|    15|         3|        6|                    205|                      247|                      226|                        240|       918|                    388|                       388|        0|           0|                763|                  830|                    57|                     10|            24|         1684|              51.24|      0.64|   46.86|    0.85|289.0|         7.0E-4|             0.01|  1020.6|      51.24|      0|      10.0|        323|    6.25|     4.13|   900|   1769|    2093|    2093|\n",
            "|                 LAX|           SU|                   SVO|  2|2020-01-17|  13|    50|         3|        6|                     14|                       23|                        0|                          0|        37|                    332|                       332|        0|           0|                745|                  770|                    15|                     10|            23|         1563|              51.24|      0.64|   46.86|    0.85|289.0|         7.0E-4|             0.01|  1020.6|      51.24|      0|      10.0|        323|    6.25|     4.13|   813|   1377|    2793|    2793|\n",
            "|                 LAX|           NZ|                   AKL|  3|2020-01-17|  14|     0|         3|        6|                      0|                        7|                       17|                         25|        49|                    77W|                       77W|        0|           0|                681|                  725|                    34|                     10|            18|         1468|              50.88|      0.55|    46.3|    0.84|284.7|            0.0|              0.0|  1021.3|      50.88|      0|      10.0|        338|    5.54|     5.06|    31|   1270|    2550|    2550|\n",
            "|                 LAX|           AA|                   PEK|  4|2020-01-17|  14|    40|         3|        6|                      0|                        0|                        0|                          0|         0|                    788|                       788|        0|           0|                683|                  730|                    10|                     37|            22|         1482|              50.88|      0.55|    46.3|    0.84|284.7|            0.0|              0.0|  1021.3|      50.88|      0|      10.0|        338|    5.54|     5.06|   806|   1464|    2309|    2309|\n",
            "+--------------------+-------------+----------------------+---+----------+----+------+----------+---------+-----------------------+-------------------------+-------------------------+---------------------------+----------+-----------------------+--------------------------+---------+------------+-------------------+---------------------+----------------------+-----------------------+--------------+-------------+-------------------+----------+--------+--------+-----+---------------+-----------------+--------+-----------+-------+----------+-----------+--------+---------+------+-------+--------+--------+\n",
            "only showing top 5 rows\n",
            "\n"
          ],
          "name": "stdout"
        }
      ]
    },
    {
      "cell_type": "markdown",
      "metadata": {
        "id": "E5MTapy7-Co7",
        "colab_type": "text"
      },
      "source": [
        "Once the columns containing non-numerical values are dropped, we should finally have a dataframe we can model and predict with."
      ]
    },
    {
      "cell_type": "code",
      "metadata": {
        "id": "Ka5MPELU9zMN",
        "colab_type": "code",
        "outputId": "e481df9a-d934-4e20-b7e5-7be4f2e2ade6",
        "colab": {
          "base_uri": "https://localhost:8080/",
          "height": 232
        }
      },
      "source": [
        "df_arr_num = df_arr_final.drop('arrivalAirportFsCode', 'carrierFsCode', 'departureAirportFsCode', 'date', 'id',\n",
        "                               'actualEquipmentIataCode', 'scheduledEquipmentIataCode')\n",
        "df_arr_num.show(5)"
      ],
      "execution_count": 35,
      "outputs": [
        {
          "output_type": "stream",
          "text": [
            "+----+------+----------+---------+-----------------------+-------------------------+-------------------------+---------------------------+----------+---------+------------+-------------------+---------------------+----------------------+-----------------------+--------------+-------------+-------------------+----------+--------+--------+-----+---------------+-----------------+--------+-----------+-------+----------+-----------+--------+---------+------+-------+--------+--------+\n",
            "|hour|minute|weekOfYear|dayOfWeek|arrivalGateDelayMinutes|arrivalRunwayDelayMinutes|departureGateDelayMinutes|departureRunwayDelayMinutes|totalDelay|eqChanged|blockMinutes|scheduledAirMinutes|scheduledBlockMinutes|scheduledTaxiInMinutes|scheduledTaxiOutMinutes|taxiOutMinutes|totalDuration|apparentTemperature|cloudCover|dewPoint|humidity|ozone|precipIntensity|precipProbability|pressure|temperature|uvIndex|visibility|windBearing|windGust|windSpeed|a_code|fm_code|aac_code|sac_code|\n",
            "+----+------+----------+---------+-----------------------+-------------------------+-------------------------+---------------------------+----------+---------+------------+-------------------+---------------------+----------------------+-----------------------+--------------+-------------+-------------------+----------+--------+--------+-----+---------------+-----------------+--------+-----------+-------+----------+-----------+--------+---------+------+-------+--------+--------+\n",
            "|  13|    10|         3|        6|                      0|                       13|                       52|                         60|       125|        0|           0|               1021|                  985|                     0|                     10|            18|         2034|              51.24|      0.64|   46.86|    0.85|289.0|         7.0E-4|             0.01|  1020.6|      51.24|      0|      10.0|        323|    6.25|     4.13|   979|   1121|    2820|    2820|\n",
            "|  13|    15|         3|        6|                    205|                      247|                      226|                        240|       918|        0|           0|                763|                  830|                    57|                     10|            24|         1684|              51.24|      0.64|   46.86|    0.85|289.0|         7.0E-4|             0.01|  1020.6|      51.24|      0|      10.0|        323|    6.25|     4.13|   900|   1769|    2093|    2093|\n",
            "|  13|    50|         3|        6|                     14|                       23|                        0|                          0|        37|        0|           0|                745|                  770|                    15|                     10|            23|         1563|              51.24|      0.64|   46.86|    0.85|289.0|         7.0E-4|             0.01|  1020.6|      51.24|      0|      10.0|        323|    6.25|     4.13|   813|   1377|    2793|    2793|\n",
            "|  14|     0|         3|        6|                      0|                        7|                       17|                         25|        49|        0|           0|                681|                  725|                    34|                     10|            18|         1468|              50.88|      0.55|    46.3|    0.84|284.7|            0.0|              0.0|  1021.3|      50.88|      0|      10.0|        338|    5.54|     5.06|    31|   1270|    2550|    2550|\n",
            "|  14|    40|         3|        6|                      0|                        0|                        0|                          0|         0|        0|           0|                683|                  730|                    10|                     37|            22|         1482|              50.88|      0.55|    46.3|    0.84|284.7|            0.0|              0.0|  1021.3|      50.88|      0|      10.0|        338|    5.54|     5.06|   806|   1464|    2309|    2309|\n",
            "+----+------+----------+---------+-----------------------+-------------------------+-------------------------+---------------------------+----------+---------+------------+-------------------+---------------------+----------------------+-----------------------+--------------+-------------+-------------------+----------+--------+--------+-----+---------------+-----------------+--------+-----------+-------+----------+-----------+--------+---------+------+-------+--------+--------+\n",
            "only showing top 5 rows\n",
            "\n"
          ],
          "name": "stdout"
        }
      ]
    },
    {
      "cell_type": "markdown",
      "metadata": {
        "id": "57_DhsRKH5as",
        "colab_type": "text"
      },
      "source": [
        "Just like we have been doing so far, let's process the the departing flights dataframe in summary fashion."
      ]
    },
    {
      "cell_type": "code",
      "metadata": {
        "id": "G0JGLDInaztJ",
        "colab_type": "code",
        "colab": {}
      },
      "source": [
        "# function to encode each categorical variable\n",
        "def get_dict(filtered_df):\n",
        "\n",
        "    # complete dictionary to be returned\n",
        "    comp_dict = {}\n",
        "\n",
        "    # get categorical columns\n",
        "    cat_cols = [c for c, t in filtered_df.dtypes if t == 'string']\n",
        "    uniqs = {'airports': [], 'equipments': [], 'carriers': []}\n",
        "\n",
        "    # separate each category into its own list\n",
        "    for c in cat_cols:\n",
        "        uniq = filtered_df.select(c).na.fill('None').distinct()\n",
        "        u_list = [row[c] for row in uniq.collect()]\n",
        "\n",
        "        if 'Airport' in c:\n",
        "            uniqs['airports'] += u_list\n",
        "        elif 'Equipment' in c:\n",
        "            uniqs['equipments'] += u_list\n",
        "        elif 'carrier' in c:\n",
        "            uniqs['carriers'] += u_list\n",
        "\n",
        "    # for each category get set of unique values and create dictionary\n",
        "    for category in uniqs.keys():\n",
        "        i = 0 \n",
        "        u_vals = uniqs[category]\n",
        "        u_set = list(set(u_vals))\n",
        "        start, stop = i*1000, (i+1)*1000\n",
        "        rnd_codes = random.sample(range(start, stop), len(u_set))\n",
        "        comp_dict.update({category: dict(zip(u_set, rnd_codes))})\n",
        "        i += 1\n",
        "\n",
        "    print(f\"There are a total of {filtered_df.count()} flights arriving from {len(comp_dict['airports'])} cities operated by {len(comp_dict['carriers'])} airlines using {len(comp_dict['equipments'])} different types of aircraft at LAX in the past 24 hours.\")\n",
        "    \n",
        "    return comp_dict"
      ],
      "execution_count": 0,
      "outputs": []
    },
    {
      "cell_type": "code",
      "metadata": {
        "id": "HIpK_Zws_17A",
        "colab_type": "code",
        "colab": {
          "base_uri": "https://localhost:8080/",
          "height": 72
        },
        "outputId": "f8953606-70b3-455c-becf-b6957c29b0bc"
      },
      "source": [
        "print(get_dict(df_arr_final))"
      ],
      "execution_count": 76,
      "outputs": [
        {
          "output_type": "stream",
          "text": [
            "There are a total of 337 flights arriving from 123 cities operated by 54 airlines using 57 different types of aircraft at LAX in the past 24 hours.\n",
            "{'airports': {'EWR': 521, 'BNA': 576, 'MUC': 69, 'QRO': 447, 'MSN': 96, 'TAO': 212, 'HNL': 761, 'PPT': 733, 'YYZ': 756, 'MFR': 42, 'MEM': 281, 'STS': 463, 'OMA': 443, 'DEN': 559, 'MCO': 735, 'GEG': 601, 'LIR': 305, 'SEA': 687, 'PAE': 152, 'MIA': 837, 'PHX': 271, 'JFK': 22, 'PVR': 420, 'RNO': 165, 'IAD': 31, 'SVO': 910, 'DCA': 241, 'PHL': 394, 'OKC': 792, 'ATL': 175, 'BOI': 554, 'TUS': 127, 'EGE': 714, 'SUN': 782, 'IAH': 972, 'MDW': 372, 'EUG': 693, 'BCN': 920, 'ASE': 673, 'SYD': 624, 'MEL': 947, 'LAX': 457, 'ELP': 786, 'ZRH': 89, 'DOH': 168, 'TRM': 292, 'DAL': 491, 'MSP': 137, 'MMH': 424, 'LGW': 285, 'SJD': 708, 'LIM': 258, 'BNE': 139, 'MEX': 118, 'TEB': 881, 'YEG': 939, 'AUS': 170, 'WAW': 999, 'YVR': 895, 'CAN': 470, 'HDN': 307, 'BUF': 400, 'TPE': 586, 'ABQ': 479, 'SAN': 968, 'IPL': 865, 'SMF': 878, 'BZN': 235, 'SAT': 286, 'SBA': 403, 'JAC': 49, 'SDF': 799, 'MSY': 702, 'MCE': 691, 'BOS': 92, 'SAL': 955, 'CDG': 386, 'FAT': 289, 'CLT': 406, 'DGO': 816, 'ICN': 390, 'SIN': 822, 'GDL': 230, 'CMH': 393, 'RDM': 764, 'XNA': 606, 'COS': 253, 'YYC': 86, 'MCI': 344, 'MNL': 259, 'ZIH': 291, 'HOU': 210, 'OAK': 632, 'TUL': 47, 'HND': 169, 'AKL': 244, 'HKG': 748, 'DTW': 962, 'BJX': 583, 'STL': 330, 'ORD': 441, 'MZT': 571, 'LHR': 193, 'BOG': 661, 'PDX': 727, 'SWF': 794, 'DUB': 579, 'PRC': 319, 'ISL': 276, 'DFW': 537, 'LAS': 64, 'MRY': 528, 'OGG': 919, 'PEK': 32, 'PVG': 6, 'IND': 66, 'CUN': 825, 'SCK': 841, 'SFO': 544, 'SJC': 690, 'SLC': 588, 'VNY': 905, 'PTY': 119}, 'equipments': {'76V': 378, '32N': 596, 'CR7': 43, 'PL2': 684, '32Q': 442, '346': 588, '752': 862, '73J': 151, '773': 927, '73R': 172, '7S8': 711, 'None': 850, '744': 191, '763': 902, '77L': 348, '332': 559, 'CJL': 118, '788': 542, '75D': 859, '74F': 945, '74Y': 858, '73W': 359, 'CN2': 752, '789': 663, '321': 86, '753': 958, '741': 254, '319': 37, 'CRJ': 14, '747': 392, '320': 645, 'E7W': 100, 'E75': 346, '359': 861, '32B': 122, '739': 319, '772': 539, '73H': 332, '74N': 391, '75W': 891, '76W': 632, '330': 800, '388': 329, '32A': 243, '32S': 384, '77X': 846, '75T': 222, 'CNJ': 231, 'CR2': 527, '738': 568, 'CNA': 174, '73G': 923, '781': 922, '77F': 784, '31B': 269, '757': 878, '77W': 982}, 'carriers': {'QX': 227, 'CM': 113, 'L1E': 36, 'LP': 592, 'NK': 475, 'MU': 76, 'DL': 295, 'MW': 887, 'G4': 331, 'TA': 85, 'AA': 248, 'HA': 811, 'WN': 317, 'LH': 857, 'BAI': 61, 'B6': 976, 'VS': 589, 'SU': 54, 'PR': 621, 'QR': 194, 'CP': 472, 'CA': 762, 'Y4': 66, '5X': 271, 'SQ': 426, 'XOJ': 719, 'AS': 545, 'OZ': 150, 'AC': 765, 'TK': 403, 'CV': 653, 'CZ': 846, 'K4': 814, 'NH': 706, 'WS': 702, 'QF': 171, 'DI*': 652, 'NZ': 802, 'KE': 555, 'OO': 888, 'CX': 71, 'MF': 109, 'CI': 877, 'UA': 430, 'AV': 368, 'BR': 686, 'F9': 369, 'BA': 896, 'EI': 627, 'LX': 42, 'LO': 911, '1I': 562, 'AF': 262, 'VB': 124}}\n"
          ],
          "name": "stdout"
        }
      ]
    },
    {
      "cell_type": "code",
      "metadata": {
        "id": "pgGoXIyPBM0_",
        "colab_type": "code",
        "outputId": "6437da4a-411e-4572-f0e8-3383e76940f6",
        "colab": {
          "base_uri": "https://localhost:8080/",
          "height": 321
        }
      },
      "source": [
        "# function to purify joined data\n",
        "def clean_joined(joined_df):\n",
        "    # first gather all non-numerical data\n",
        "    cat_cols = [c for c, t in joined_df.dtypes if t == 'string']\n",
        "\n",
        "    # iterate through each column and create code dictionary\n",
        "    for i, column in enumerate(cat_cols):\n",
        "        this_dict = get_dict(joined_df, cat_cols[i], i)\n",
        "        this_map_exp = create_map([lit(x) for x in chain(*this_dict.items())])\n",
        "        joined_df = joined_df.withColumn(f'{column[:5]}_code', this_map_exp.getItem(col(column)))\n",
        "\n",
        "    for i, column in enumerate(cat_cols):\n",
        "        if 'Airport' in column:\n",
        "            \n",
        "\n",
        "    return joined_df\n",
        "\n",
        "df_arr_num = clean_joined(df_arr_final)\n",
        "df_arr_num.show(5)"
      ],
      "execution_count": 57,
      "outputs": [
        {
          "output_type": "stream",
          "text": [
            "{'HNL': 79, 'LAX': 517}\n",
            "{'XOJ': 1228, 'CI': 1312, 'BAI': 1639, 'UA': 1200, 'NK': 1283, 'AA': 1271, 'AV': 1990, 'QF': 1619, 'CZ': 1468, 'B6': 1473, 'CX': 1344, 'NH': 1290, 'CV': 1946, 'SU': 1928, 'LX': 1775, 'DL': 1624, 'CA': 1837, 'MW': 1972, 'BR': 1174, 'OO': 1331, 'F9': 1807, 'VB': 1401, 'LH': 1873, 'CM': 1206, 'Y4': 1983, 'VS': 1488, 'HA': 1223, 'BA': 1470, 'LP': 1514, 'EI': 1390, 'WS': 1012, 'DI*': 1948, 'LO': 1090, 'MU': 1569, '5X': 1179, 'G4': 1145, 'MF': 1939, 'NZ': 1210, 'CP': 1839, 'QR': 1524, 'OZ': 1546, 'KE': 1824, '1I': 1618, 'AS': 1088, 'AC': 1816, 'QX': 1337, 'K4': 1099, 'TK': 1548, 'PR': 1037, 'TA': 1134, 'SQ': 1162, 'AF': 1633, 'WN': 1493, 'L1E': 1268}\n",
            "{'MSY': 2705, 'GEG': 2594, 'EUG': 2009, 'OAK': 2238, 'BNE': 2001, 'MSN': 2796, 'DCA': 2240, 'QRO': 2348, 'RDM': 2525, 'PEK': 2512, 'CMH': 2568, 'CDG': 2435, 'SIN': 2436, 'IAH': 2573, 'MZT': 2562, 'SYD': 2329, 'HNL': 2975, 'SJC': 2701, 'BUF': 2738, 'PVG': 2269, 'AUS': 2416, 'MUC': 2970, 'MEX': 2394, 'ZIH': 2365, 'RNO': 2369, 'JAC': 2421, 'IPL': 2322, 'TUL': 2362, 'BOS': 2018, 'EWR': 2381, 'DOH': 2169, 'LAS': 2312, 'YEG': 2364, 'LIR': 2861, 'BCN': 2712, 'XNA': 2530, 'YYZ': 2039, 'DEN': 2474, 'BJX': 2319, 'IAD': 2305, 'BOI': 2761, 'SBA': 2201, 'SJD': 2592, 'SEA': 2199, 'MNL': 2089, 'ICN': 2429, 'MCI': 2315, 'WAW': 2968, 'CLT': 2313, 'BNA': 2538, 'PAE': 2818, 'YVR': 2939, 'CUN': 2679, 'ABQ': 2210, 'SVO': 2764, 'SDF': 2814, 'MEL': 2081, 'SCK': 2430, 'DAL': 2544, 'MRY': 2280, 'PDX': 2227, 'PVR': 2167, 'LGW': 2055, 'MIA': 2257, 'MFR': 2772, 'LHR': 2754, 'DGO': 2096, 'PRC': 2110, 'SAL': 2293, 'OKC': 2690, 'YYC': 2212, 'SMF': 2153, 'PTY': 2918, 'PHX': 2763, 'STL': 2226, 'DFW': 2244, 'MMH': 2803, 'TEB': 2425, 'HDN': 2989, 'EGE': 2770, 'SWF': 2707, 'SUN': 2195, 'SFO': 2062, 'MEM': 2399, 'ELP': 2000, 'CAN': 2962, 'ATL': 2681, 'TPE': 2220, 'OMA': 2720, 'TAO': 2784, 'DUB': 2776, 'AKL': 2621, 'FAT': 2943, 'ZRH': 2357, 'ORD': 2098, 'HND': 2928, 'TRM': 2464, 'TUS': 2059, 'MDW': 2675, 'COS': 2028, 'LIM': 2453, 'IND': 2366, 'HKG': 2964, 'VNY': 2152, 'DTW': 2847, 'BOG': 2482, 'HOU': 2392, 'MCE': 2412, 'STS': 2476, 'MSP': 2711, 'LAX': 2851, 'MCO': 2303, 'SAN': 2546, 'BZN': 2868, 'PPT': 2674, 'JFK': 2007, 'GDL': 2593, 'PHL': 2154, 'OGG': 2792, 'ISL': 2377, 'SAT': 2408, 'SLC': 2005, 'ASE': 2309}\n",
            "{'747': 3608, '388': 3885, '76V': 3135, '788': 3509, 'None': 3823, '789': 3275, '32Q': 3702, '73R': 3354, '75D': 3749, 'CNJ': 3460, '320': 3514, '73H': 3762, '359': 3824, '32A': 3658, '772': 3134, '77W': 3642, '73J': 3972, 'CR7': 3344, '319': 3783, '738': 3937, 'E75': 3314, '744': 3217, 'CJL': 3091, '31B': 3772, '741': 3845, '73W': 3456, '32S': 3925, '32B': 3936, 'CN2': 3570, '74N': 3048, '7S8': 3224, '346': 3085, '781': 3114, '75T': 3195, '77X': 3879, '73G': 3428, '77L': 3704, '75W': 3843, '74Y': 3808, '32N': 3481, '321': 3370, '76W': 3124, 'CR2': 3510, 'PL2': 3115, '332': 3309}\n",
            "{'388': 4256, '788': 4983, 'None': 4878, '789': 4369, '32Q': 4424, '74F': 4053, '73H': 4587, '320': 4508, 'CNA': 4096, '359': 4276, '32A': 4822, '772': 4657, '77W': 4849, '73J': 4795, '773': 4554, '753': 4767, 'CR7': 4826, 'CRJ': 4740, '319': 4705, '738': 4071, '77F': 4388, 'E75': 4190, '744': 4756, 'E7W': 4335, '73W': 4106, '32S': 4835, '739': 4042, '32B': 4832, '74N': 4187, '346': 4624, '757': 4035, '781': 4403, '763': 4771, '752': 4666, '77L': 4981, '75W': 4323, '74Y': 4339, '32N': 4938, '321': 4401, '76W': 4774, 'PL2': 4293, '330': 4766, '332': 4601}\n",
            "+--------------------+-------------+----------------------+---+----------+----+------+----------+---------+-----------------------+-------------------------+-------------------------+---------------------------+----------+-----------------------+--------------------------+---------+------------+-------------------+---------------------+----------------------+-----------------------+--------------+-------------+-------------------+----------+--------+--------+-----+---------------+-----------------+--------+-----------+-------+----------+-----------+--------+---------+------+-------+--------+--------+--------+--------+--------+--------+--------+\n",
            "|arrivalAirportFsCode|carrierFsCode|departureAirportFsCode| id|      date|hour|minute|weekOfYear|dayOfWeek|arrivalGateDelayMinutes|arrivalRunwayDelayMinutes|departureGateDelayMinutes|departureRunwayDelayMinutes|totalDelay|actualEquipmentIataCode|scheduledEquipmentIataCode|eqChanged|blockMinutes|scheduledAirMinutes|scheduledBlockMinutes|scheduledTaxiInMinutes|scheduledTaxiOutMinutes|taxiOutMinutes|totalDuration|apparentTemperature|cloudCover|dewPoint|humidity|ozone|precipIntensity|precipProbability|pressure|temperature|uvIndex|visibility|windBearing|windGust|windSpeed|a_code|fm_code|aac_code|sac_code|arr_code|car_code|dep_code|act_code|sch_code|\n",
            "+--------------------+-------------+----------------------+---+----------+----+------+----------+---------+-----------------------+-------------------------+-------------------------+---------------------------+----------+-----------------------+--------------------------+---------+------------+-------------------+---------------------+----------------------+-----------------------+--------------+-------------+-------------------+----------+--------+--------+-----+---------------+-----------------+--------+-----------+-------+----------+-----------+--------+---------+------+-------+--------+--------+--------+--------+--------+--------+--------+\n",
            "|                 LAX|           QR|                   DOH|  0|2020-01-17|  13|    10|         3|        6|                      0|                       13|                       52|                         60|       125|                    77L|                       77L|        0|           0|               1021|                  985|                     0|                     10|            18|         2034|              51.24|      0.64|   46.86|    0.85|289.0|         7.0E-4|             0.01|  1020.6|      51.24|      0|      10.0|        323|    6.25|     4.13|   979|   1121|    2820|    2820|     517|    1524|    2169|    3704|    4981|\n",
            "|                 LAX|           QF|                   SYD|  1|2020-01-17|  13|    15|         3|        6|                    205|                      247|                      226|                        240|       918|                    388|                       388|        0|           0|                763|                  830|                    57|                     10|            24|         1684|              51.24|      0.64|   46.86|    0.85|289.0|         7.0E-4|             0.01|  1020.6|      51.24|      0|      10.0|        323|    6.25|     4.13|   900|   1769|    2093|    2093|     517|    1619|    2329|    3885|    4256|\n",
            "|                 LAX|           SU|                   SVO|  2|2020-01-17|  13|    50|         3|        6|                     14|                       23|                        0|                          0|        37|                    332|                       332|        0|           0|                745|                  770|                    15|                     10|            23|         1563|              51.24|      0.64|   46.86|    0.85|289.0|         7.0E-4|             0.01|  1020.6|      51.24|      0|      10.0|        323|    6.25|     4.13|   813|   1377|    2793|    2793|     517|    1928|    2764|    3309|    4601|\n",
            "|                 LAX|           NZ|                   AKL|  3|2020-01-17|  14|     0|         3|        6|                      0|                        7|                       17|                         25|        49|                    77W|                       77W|        0|           0|                681|                  725|                    34|                     10|            18|         1468|              50.88|      0.55|    46.3|    0.84|284.7|            0.0|              0.0|  1021.3|      50.88|      0|      10.0|        338|    5.54|     5.06|    31|   1270|    2550|    2550|     517|    1210|    2621|    3642|    4849|\n",
            "|                 LAX|           AA|                   PEK|  4|2020-01-17|  14|    40|         3|        6|                      0|                        0|                        0|                          0|         0|                    788|                       788|        0|           0|                683|                  730|                    10|                     37|            22|         1482|              50.88|      0.55|    46.3|    0.84|284.7|            0.0|              0.0|  1021.3|      50.88|      0|      10.0|        338|    5.54|     5.06|   806|   1464|    2309|    2309|     517|    1271|    2512|    3509|    4983|\n",
            "+--------------------+-------------+----------------------+---+----------+----+------+----------+---------+-----------------------+-------------------------+-------------------------+---------------------------+----------+-----------------------+--------------------------+---------+------------+-------------------+---------------------+----------------------+-----------------------+--------------+-------------+-------------------+----------+--------+--------+-----+---------------+-----------------+--------+-----------+-------+----------+-----------+--------+---------+------+-------+--------+--------+--------+--------+--------+--------+--------+\n",
            "only showing top 5 rows\n",
            "\n"
          ],
          "name": "stdout"
        }
      ]
    },
    {
      "cell_type": "code",
      "metadata": {
        "id": "wxMM6vuQoSoG",
        "colab_type": "code",
        "colab": {}
      },
      "source": [
        ""
      ],
      "execution_count": 0,
      "outputs": []
    },
    {
      "cell_type": "code",
      "metadata": {
        "id": "J7XC-Sjxbf1r",
        "colab_type": "code",
        "colab": {}
      },
      "source": [
        ""
      ],
      "execution_count": 0,
      "outputs": []
    },
    {
      "cell_type": "code",
      "metadata": {
        "id": "s4gbPS1v_lKf",
        "colab_type": "code",
        "colab": {}
      },
      "source": [
        ""
      ],
      "execution_count": 0,
      "outputs": []
    }
  ]
}