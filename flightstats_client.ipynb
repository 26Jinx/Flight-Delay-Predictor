{
  "nbformat": 4,
  "nbformat_minor": 0,
  "metadata": {
    "colab": {
      "name": "flightstats_client.ipynb",
      "provenance": [],
      "include_colab_link": true
    },
    "kernelspec": {
      "name": "python3",
      "display_name": "Python 3"
    }
  },
  "cells": [
    {
      "cell_type": "markdown",
      "metadata": {
        "id": "view-in-github",
        "colab_type": "text"
      },
      "source": [
        "<a href=\"https://colab.research.google.com/github/PharahMain/Flight-Delay-Predictor/blob/master/flightstats_client.ipynb\" target=\"_parent\"><img src=\"https://colab.research.google.com/assets/colab-badge.svg\" alt=\"Open In Colab\"/></a>"
      ]
    },
    {
      "cell_type": "code",
      "metadata": {
        "id": "1t9wd42bcPva",
        "colab_type": "code",
        "colab": {}
      },
      "source": [
        "!apt-get install openjdk-8-jdk-headless -qq > /dev/null\n",
        "!wget -q https://www-us.apache.org/dist/spark/spark-2.4.4/spark-2.4.4-bin-hadoop2.7.tgz\n",
        "!tar xf spark-2.4.4-bin-hadoop2.7.tgz"
      ],
      "execution_count": 0,
      "outputs": []
    },
    {
      "cell_type": "code",
      "metadata": {
        "id": "TmbbxreyIa-i",
        "colab_type": "code",
        "outputId": "48c6b28b-47fa-404b-db5d-7489b9daa8db",
        "colab": {
          "base_uri": "https://localhost:8080/",
          "height": 267
        }
      },
      "source": [
        "# Install spark-related depdencies for Python\n",
        "!pip install -q findspark\n",
        "!pip install pyspark"
      ],
      "execution_count": 5,
      "outputs": [
        {
          "output_type": "stream",
          "text": [
            "Collecting pyspark\n",
            "\u001b[?25l  Downloading https://files.pythonhosted.org/packages/87/21/f05c186f4ddb01d15d0ddc36ef4b7e3cedbeb6412274a41f26b55a650ee5/pyspark-2.4.4.tar.gz (215.7MB)\n",
            "\u001b[K     |████████████████████████████████| 215.7MB 58kB/s \n",
            "\u001b[?25hCollecting py4j==0.10.7\n",
            "\u001b[?25l  Downloading https://files.pythonhosted.org/packages/e3/53/c737818eb9a7dc32a7cd4f1396e787bd94200c3997c72c1dbe028587bd76/py4j-0.10.7-py2.py3-none-any.whl (197kB)\n",
            "\u001b[K     |████████████████████████████████| 204kB 42.7MB/s \n",
            "\u001b[?25hBuilding wheels for collected packages: pyspark\n",
            "  Building wheel for pyspark (setup.py) ... \u001b[?25l\u001b[?25hdone\n",
            "  Created wheel for pyspark: filename=pyspark-2.4.4-py2.py3-none-any.whl size=216130387 sha256=95cc22c88d22c4bbf015d8a8c7e997c7f1d8f9485502b1216f6390f8f9716942\n",
            "  Stored in directory: /root/.cache/pip/wheels/ab/09/4d/0d184230058e654eb1b04467dbc1292f00eaa186544604b471\n",
            "Successfully built pyspark\n",
            "Installing collected packages: py4j, pyspark\n",
            "Successfully installed py4j-0.10.7 pyspark-2.4.4\n"
          ],
          "name": "stdout"
        }
      ]
    },
    {
      "cell_type": "code",
      "metadata": {
        "id": "VC-cF1MOJCvu",
        "colab_type": "code",
        "colab": {}
      },
      "source": [
        "# Set up required environment variables\n",
        "\n",
        "import os\n",
        "os.environ[\"JAVA_HOME\"] = \"/usr/lib/jvm/java-8-openjdk-amd64\"\n",
        "os.environ[\"SPARK_HOME\"] = \"/content/spark-2.4.4-bin-hadoop2.7\""
      ],
      "execution_count": 0,
      "outputs": []
    },
    {
      "cell_type": "code",
      "metadata": {
        "id": "Ac7IYHQAJHVA",
        "colab_type": "code",
        "outputId": "8eb862a6-d5ca-47f0-9661-4dd41a079ac8",
        "colab": {
          "base_uri": "https://localhost:8080/",
          "height": 125
        }
      },
      "source": [
        "# Point Colaboratory to Google Drive\n",
        "\n",
        "from google.colab import drive\n",
        "drive.mount('/content/gdrive')"
      ],
      "execution_count": 2,
      "outputs": [
        {
          "output_type": "stream",
          "text": [
            "Go to this URL in a browser: https://accounts.google.com/o/oauth2/auth?client_id=947318989803-6bn6qk8qdgf4n4g3pfee6491hc0brc4i.apps.googleusercontent.com&redirect_uri=urn%3aietf%3awg%3aoauth%3a2.0%3aoob&response_type=code&scope=email%20https%3a%2f%2fwww.googleapis.com%2fauth%2fdocs.test%20https%3a%2f%2fwww.googleapis.com%2fauth%2fdrive%20https%3a%2f%2fwww.googleapis.com%2fauth%2fdrive.photos.readonly%20https%3a%2f%2fwww.googleapis.com%2fauth%2fpeopleapi.readonly\n",
            "\n",
            "Enter your authorization code:\n",
            "··········\n",
            "Mounted at /content/gdrive\n"
          ],
          "name": "stdout"
        }
      ]
    },
    {
      "cell_type": "code",
      "metadata": {
        "id": "UMRIotL2JJ-k",
        "colab_type": "code",
        "colab": {}
      },
      "source": [
        "from pyspark import SparkContext\n",
        "from pyspark.sql import SparkSession\n",
        "\n",
        "from pyspark.ml import Pipeline\n",
        "from pyspark.ml.regression import LinearRegression\n",
        "from pyspark.ml.regression import RandomForestRegressor\n",
        "from pyspark.ml.evaluation import RegressionEvaluator\n",
        "\n",
        "from pyspark.sql import functions as F\n",
        "from pyspark.sql.functions import isnan, when, count, col, create_map, lit\n",
        "from pyspark.sql.functions import month, dayofweek, weekofyear, hour, minute\n",
        "from pyspark.sql.functions import monotonically_increasing_id\n",
        "from pyspark.sql.types import DateType, TimestampType\n",
        "\n",
        "from datetime import datetime, date, timedelta\n",
        "from itertools import chain\n",
        "import random\n",
        "import time"
      ],
      "execution_count": 0,
      "outputs": []
    },
    {
      "cell_type": "code",
      "metadata": {
        "id": "WU0T4_oWMK4Z",
        "colab_type": "code",
        "colab": {}
      },
      "source": [
        "#ARR_JSON_PATH = f\"/content/gdrive/My Drive/Colab Datasets/flights_data/arrivals/{date.today()}.json\"\n",
        "# for testing\n",
        "ARR_JSON_PATH = \"/content/gdrive/My Drive/Colab Datasets/flights_data/arrivals/2020-01-17.json\"\n",
        "\n",
        "#DEP_JSON_PATH = f\"/content/gdrive/My Drive/Colab Datasets/flights_data/departures/{date.today()}.json\"\n",
        "DEP_JSON_PATH = f\"/content/gdrive/My Drive/Colab Datasets/flights_data/departures/2020-01-17.json\"\n",
        "\n",
        "#WEATH_JSON_PATH = f\"/content/gdrive/My Drive/Colab Datasets/flights_data/weather/{date.today()}.json\"\n",
        "WEATH_JSON_PATH = f\"/content/gdrive/My Drive/Colab Datasets/flights_data/weather/2020-01-17.json\"\n",
        "\n",
        "APP_NAME = 'Flight Delay Predictor'\n",
        "SPARK_URL = 'local[*]'\n",
        "RANDOM_SEED = 263646\n",
        "TRAINING_DATA_RATIO = 0.7"
      ],
      "execution_count": 0,
      "outputs": []
    },
    {
      "cell_type": "code",
      "metadata": {
        "id": "fNHzaNf2iwCc",
        "colab_type": "code",
        "colab": {}
      },
      "source": [
        "spark = SparkSession.builder.appName(APP_NAME).master(SPARK_URL).getOrCreate()"
      ],
      "execution_count": 0,
      "outputs": []
    },
    {
      "cell_type": "code",
      "metadata": {
        "id": "6L0XNeJ_jahq",
        "colab_type": "code",
        "outputId": "df8ee184-6e64-4b85-e9f4-650d8646aabe",
        "colab": {
          "base_uri": "https://localhost:8080/",
          "height": 232
        }
      },
      "source": [
        "df_arr = spark.read.json(ARR_JSON_PATH)\n",
        "df_arr.show(5)"
      ],
      "execution_count": 12,
      "outputs": [
        {
          "output_type": "stream",
          "text": [
            "+--------------------+--------------------+--------------------+-------------+--------------------+--------------------+----------------------+--------------------+---------------------+--------------------+------------------+----------+------------+--------------------+--------------------+------+\n",
            "|    airportResources|arrivalAirportFsCode|         arrivalDate|carrierFsCode|          codeshares|              delays|departureAirportFsCode|       departureDate|divertedAirportFsCode|     flightDurations|   flightEquipment|  flightId|flightNumber|    operationalTimes|            schedule|status|\n",
            "+--------------------+--------------------+--------------------+-------------+--------------------+--------------------+----------------------+--------------------+---------------------+--------------------+------------------+----------+------------+--------------------+--------------------+------+\n",
            "|      [, TBIT,, C9,]|                 LAX|[2020-01-17T13:10...|           QR|     [[3515, UL, L]]|      [, 13, 52, 60]|                   DOH|[2020-01-17T07:45...|                 null|[, 1021, 985,, 10...|[77L, 77L, A7-BBA]|1028199581|         739|[, [2020-01-17T08...|  [[], J, , RJY, []]|     A|\n",
            "|     [, TBIT,, 8, 1]|                 LAX|[2020-01-17T13:15...|           QF|[[7328, AA, L], [...|[205, 247, 226, 240]|                   SYD|[2020-01-17T18:25...|                 null|[, 763, 830, 57, ...|[388, 388, VH-OQJ]|1028197993|          17|[, [2020-01-17T22...| [[], J, , RFJY, []]|     A|\n",
            "| [, TBIT, D6, 30, D]|                 LAX|[2020-01-17T13:50...|           SU|                  []|          [14, 23,,]|                   SVO|[2020-01-17T12:00...|                 null|[, 745, 770, 15, ...|[332, 332, VQ-BBE]|1028204787|         106|[, [2020-01-17T11...|  [[], J, , RJY, []]|     A|\n",
            "|    [, TBIT,, 18, I]|                 LAX|[2020-01-17T14:00...|           NZ|[[6091, AC, L], [...|       [, 7, 17, 25]|                   AKL|[2020-01-17T22:55...|                 null|[, 681, 725, 34, ...|[77W, 77W, ZK-OKS]|1028193159|           2|[, [2020-01-17T23...|[[[1028193174, LH...|     A|\n",
            "|[, TBIT, TBIT, 17...|                 LAX|[2020-01-17T14:40...|           AA|     [[1622, CZ, L]]|               [,,,]|                   PEK|[2020-01-17T18:30...|                 null|[, 683, 730, 10, ...|[788, 788, N813AN]|1028129626|         180|[, [2020-01-17T18...| [[], J, , RFJY, []]|     A|\n",
            "+--------------------+--------------------+--------------------+-------------+--------------------+--------------------+----------------------+--------------------+---------------------+--------------------+------------------+----------+------------+--------------------+--------------------+------+\n",
            "only showing top 5 rows\n",
            "\n"
          ],
          "name": "stdout"
        }
      ]
    },
    {
      "cell_type": "markdown",
      "metadata": {
        "id": "U7CImS0RqxqG",
        "colab_type": "text"
      },
      "source": [
        "The data in a little more detail."
      ]
    },
    {
      "cell_type": "code",
      "metadata": {
        "id": "gi16LYxjp3B4",
        "colab_type": "code",
        "outputId": "1240303a-6399-46d8-b705-e6654fc1dbc0",
        "colab": {
          "base_uri": "https://localhost:8080/",
          "height": 125
        }
      },
      "source": [
        "df_arr.head(5)"
      ],
      "execution_count": 13,
      "outputs": [
        {
          "output_type": "execute_result",
          "data": {
            "text/plain": [
              "[Row(airportResources=Row(arrivalGate=None, arrivalTerminal='TBIT', baggage=None, departureGate='C9', departureTerminal=None), arrivalAirportFsCode='LAX', arrivalDate=Row(dateLocal='2020-01-17T13:10:00.000', dateUtc='2020-01-17T21:10:00.000Z'), carrierFsCode='QR', codeshares=[Row(flightNumber='3515', fsCode='UL', relationship='L')], delays=Row(arrivalGateDelayMinutes=None, arrivalRunwayDelayMinutes=13, departureGateDelayMinutes=52, departureRunwayDelayMinutes=60), departureAirportFsCode='DOH', departureDate=Row(dateLocal='2020-01-17T07:45:00.000', dateUtc='2020-01-17T04:45:00.000Z'), divertedAirportFsCode=None, flightDurations=Row(blockMinutes=None, scheduledAirMinutes=1021, scheduledBlockMinutes=985, scheduledTaxiInMinutes=None, scheduledTaxiOutMinutes=10, taxiOutMinutes=18), flightEquipment=Row(actualEquipmentIataCode='77L', scheduledEquipmentIataCode='77L', tailNumber='A7-BBA'), flightId=1028199581, flightNumber='739', operationalTimes=Row(actualGateArrival=None, actualGateDeparture=Row(dateLocal='2020-01-17T08:37:00.000', dateUtc='2020-01-17T05:37:00.000Z'), actualRunwayDeparture=Row(dateLocal='2020-01-17T08:55:00.000', dateUtc='2020-01-17T05:55:00.000Z'), estimatedGateArrival=None, estimatedGateDeparture=Row(dateLocal='2020-01-17T08:37:00.000', dateUtc='2020-01-17T05:37:00.000Z'), estimatedRunwayArrival=Row(dateLocal='2020-01-17T14:09:00.000', dateUtc='2020-01-17T22:09:00.000Z'), estimatedRunwayDeparture=Row(dateLocal='2020-01-17T08:55:00.000', dateUtc='2020-01-17T05:55:00.000Z'), flightPlanPlannedArrival=Row(dateLocal='2020-01-17T13:56:00.000', dateUtc='2020-01-17T21:56:00.000Z'), flightPlanPlannedDeparture=Row(dateLocal='2020-01-17T07:55:00.000', dateUtc='2020-01-17T04:55:00.000Z'), publishedArrival=Row(dateLocal='2020-01-17T13:10:00.000', dateUtc='2020-01-17T21:10:00.000Z'), publishedDeparture=Row(dateLocal='2020-01-17T07:45:00.000', dateUtc='2020-01-17T04:45:00.000Z'), scheduledGateArrival=Row(dateLocal='2020-01-17T13:10:00.000', dateUtc='2020-01-17T21:10:00.000Z'), scheduledGateDeparture=Row(dateLocal='2020-01-17T07:45:00.000', dateUtc='2020-01-17T04:45:00.000Z'), scheduledRunwayArrival=Row(dateLocal='2020-01-17T13:56:00.000', dateUtc='2020-01-17T21:56:00.000Z'), scheduledRunwayDeparture=Row(dateLocal='2020-01-17T07:55:00.000', dateUtc='2020-01-17T04:55:00.000Z')), schedule=Row(downlines=[], flightType='J', restrictions='', serviceClasses='RJY', uplines=[]), status='A'),\n",
              " Row(airportResources=Row(arrivalGate=None, arrivalTerminal='TBIT', baggage=None, departureGate='8', departureTerminal='1'), arrivalAirportFsCode='LAX', arrivalDate=Row(dateLocal='2020-01-17T13:15:00.000', dateUtc='2020-01-17T21:15:00.000Z'), carrierFsCode='QF', codeshares=[Row(flightNumber='7328', fsCode='AA', relationship='L'), Row(flightNumber='6003', fsCode='WS', relationship='L')], delays=Row(arrivalGateDelayMinutes=205, arrivalRunwayDelayMinutes=247, departureGateDelayMinutes=226, departureRunwayDelayMinutes=240), departureAirportFsCode='SYD', departureDate=Row(dateLocal='2020-01-17T18:25:00.000', dateUtc='2020-01-17T07:25:00.000Z'), divertedAirportFsCode=None, flightDurations=Row(blockMinutes=None, scheduledAirMinutes=763, scheduledBlockMinutes=830, scheduledTaxiInMinutes=57, scheduledTaxiOutMinutes=10, taxiOutMinutes=24), flightEquipment=Row(actualEquipmentIataCode='388', scheduledEquipmentIataCode='388', tailNumber='VH-OQJ'), flightId=1028197993, flightNumber='17', operationalTimes=Row(actualGateArrival=None, actualGateDeparture=Row(dateLocal='2020-01-17T22:11:00.000', dateUtc='2020-01-17T11:11:00.000Z'), actualRunwayDeparture=Row(dateLocal='2020-01-17T22:35:00.000', dateUtc='2020-01-17T11:35:00.000Z'), estimatedGateArrival=Row(dateLocal='2020-01-17T16:40:00.000', dateUtc='2020-01-18T00:40:00.000Z'), estimatedGateDeparture=Row(dateLocal='2020-01-17T22:11:00.000', dateUtc='2020-01-17T11:11:00.000Z'), estimatedRunwayArrival=Row(dateLocal='2020-01-17T16:25:00.000', dateUtc='2020-01-18T00:25:00.000Z'), estimatedRunwayDeparture=Row(dateLocal='2020-01-17T22:35:00.000', dateUtc='2020-01-17T11:35:00.000Z'), flightPlanPlannedArrival=Row(dateLocal='2020-01-17T12:18:00.000', dateUtc='2020-01-17T20:18:00.000Z'), flightPlanPlannedDeparture=Row(dateLocal='2020-01-17T18:35:00.000', dateUtc='2020-01-17T07:35:00.000Z'), publishedArrival=Row(dateLocal='2020-01-17T13:15:00.000', dateUtc='2020-01-17T21:15:00.000Z'), publishedDeparture=Row(dateLocal='2020-01-17T18:25:00.000', dateUtc='2020-01-17T07:25:00.000Z'), scheduledGateArrival=Row(dateLocal='2020-01-17T13:15:00.000', dateUtc='2020-01-17T21:15:00.000Z'), scheduledGateDeparture=Row(dateLocal='2020-01-17T18:25:00.000', dateUtc='2020-01-17T07:25:00.000Z'), scheduledRunwayArrival=Row(dateLocal='2020-01-17T12:18:00.000', dateUtc='2020-01-17T20:18:00.000Z'), scheduledRunwayDeparture=Row(dateLocal='2020-01-17T18:35:00.000', dateUtc='2020-01-17T07:35:00.000Z')), schedule=Row(downlines=[], flightType='J', restrictions='', serviceClasses='RFJY', uplines=[]), status='A'),\n",
              " Row(airportResources=Row(arrivalGate=None, arrivalTerminal='TBIT', baggage='D6', departureGate='30', departureTerminal='D'), arrivalAirportFsCode='LAX', arrivalDate=Row(dateLocal='2020-01-17T13:50:00.000', dateUtc='2020-01-17T21:50:00.000Z'), carrierFsCode='SU', codeshares=[], delays=Row(arrivalGateDelayMinutes=14, arrivalRunwayDelayMinutes=23, departureGateDelayMinutes=None, departureRunwayDelayMinutes=None), departureAirportFsCode='SVO', departureDate=Row(dateLocal='2020-01-17T12:00:00.000', dateUtc='2020-01-17T09:00:00.000Z'), divertedAirportFsCode=None, flightDurations=Row(blockMinutes=None, scheduledAirMinutes=745, scheduledBlockMinutes=770, scheduledTaxiInMinutes=15, scheduledTaxiOutMinutes=10, taxiOutMinutes=23), flightEquipment=Row(actualEquipmentIataCode='332', scheduledEquipmentIataCode='332', tailNumber='VQ-BBE'), flightId=1028204787, flightNumber='106', operationalTimes=Row(actualGateArrival=None, actualGateDeparture=Row(dateLocal='2020-01-17T11:46:00.000', dateUtc='2020-01-17T08:46:00.000Z'), actualRunwayDeparture=Row(dateLocal='2020-01-17T12:09:00.000', dateUtc='2020-01-17T09:09:00.000Z'), estimatedGateArrival=Row(dateLocal='2020-01-17T14:04:00.000', dateUtc='2020-01-17T22:04:00.000Z'), estimatedGateDeparture=Row(dateLocal='2020-01-17T11:46:00.000', dateUtc='2020-01-17T08:46:00.000Z'), estimatedRunwayArrival=Row(dateLocal='2020-01-17T13:58:00.000', dateUtc='2020-01-17T21:58:00.000Z'), estimatedRunwayDeparture=Row(dateLocal='2020-01-17T12:09:00.000', dateUtc='2020-01-17T09:09:00.000Z'), flightPlanPlannedArrival=Row(dateLocal='2020-01-17T13:35:00.000', dateUtc='2020-01-17T21:35:00.000Z'), flightPlanPlannedDeparture=Row(dateLocal='2020-01-17T12:10:00.000', dateUtc='2020-01-17T09:10:00.000Z'), publishedArrival=Row(dateLocal='2020-01-17T13:50:00.000', dateUtc='2020-01-17T21:50:00.000Z'), publishedDeparture=Row(dateLocal='2020-01-17T12:00:00.000', dateUtc='2020-01-17T09:00:00.000Z'), scheduledGateArrival=Row(dateLocal='2020-01-17T13:50:00.000', dateUtc='2020-01-17T21:50:00.000Z'), scheduledGateDeparture=Row(dateLocal='2020-01-17T12:00:00.000', dateUtc='2020-01-17T09:00:00.000Z'), scheduledRunwayArrival=Row(dateLocal='2020-01-17T13:35:00.000', dateUtc='2020-01-17T21:35:00.000Z'), scheduledRunwayDeparture=Row(dateLocal='2020-01-17T12:10:00.000', dateUtc='2020-01-17T09:10:00.000Z')), schedule=Row(downlines=[], flightType='J', restrictions='', serviceClasses='RJY', uplines=[]), status='A'),\n",
              " Row(airportResources=Row(arrivalGate=None, arrivalTerminal='TBIT', baggage=None, departureGate='18', departureTerminal='I'), arrivalAirportFsCode='LAX', arrivalDate=Row(dateLocal='2020-01-17T14:00:00.000', dateUtc='2020-01-17T22:00:00.000Z'), carrierFsCode='NZ', codeshares=[Row(flightNumber='6091', fsCode='AC', relationship='L'), Row(flightNumber='7161', fsCode='LH', relationship='L'), Row(flightNumber='8724', fsCode='TK', relationship='L'), Row(flightNumber='6750', fsCode='UA', relationship='L')], delays=Row(arrivalGateDelayMinutes=None, arrivalRunwayDelayMinutes=7, departureGateDelayMinutes=17, departureRunwayDelayMinutes=25), departureAirportFsCode='AKL', departureDate=Row(dateLocal='2020-01-17T22:55:00.000', dateUtc='2020-01-17T09:55:00.000Z'), divertedAirportFsCode=None, flightDurations=Row(blockMinutes=None, scheduledAirMinutes=681, scheduledBlockMinutes=725, scheduledTaxiInMinutes=34, scheduledTaxiOutMinutes=10, taxiOutMinutes=18), flightEquipment=Row(actualEquipmentIataCode='77W', scheduledEquipmentIataCode='77W', tailNumber='ZK-OKS'), flightId=1028193159, flightNumber='2', operationalTimes=Row(actualGateArrival=None, actualGateDeparture=Row(dateLocal='2020-01-17T23:12:00.000', dateUtc='2020-01-17T10:12:00.000Z'), actualRunwayDeparture=Row(dateLocal='2020-01-17T23:30:00.000', dateUtc='2020-01-17T10:30:00.000Z'), estimatedGateArrival=Row(dateLocal='2020-01-17T13:39:00.000', dateUtc='2020-01-17T21:39:00.000Z'), estimatedGateDeparture=Row(dateLocal='2020-01-17T23:12:00.000', dateUtc='2020-01-17T10:12:00.000Z'), estimatedRunwayArrival=Row(dateLocal='2020-01-17T13:33:00.000', dateUtc='2020-01-17T21:33:00.000Z'), estimatedRunwayDeparture=Row(dateLocal='2020-01-17T23:30:00.000', dateUtc='2020-01-17T10:30:00.000Z'), flightPlanPlannedArrival=Row(dateLocal='2020-01-17T13:26:00.000', dateUtc='2020-01-17T21:26:00.000Z'), flightPlanPlannedDeparture=Row(dateLocal='2020-01-17T23:05:00.000', dateUtc='2020-01-17T10:05:00.000Z'), publishedArrival=Row(dateLocal='2020-01-17T14:00:00.000', dateUtc='2020-01-17T22:00:00.000Z'), publishedDeparture=Row(dateLocal='2020-01-17T22:55:00.000', dateUtc='2020-01-17T09:55:00.000Z'), scheduledGateArrival=Row(dateLocal='2020-01-17T14:00:00.000', dateUtc='2020-01-17T22:00:00.000Z'), scheduledGateDeparture=Row(dateLocal='2020-01-17T22:55:00.000', dateUtc='2020-01-17T09:55:00.000Z'), scheduledRunwayArrival=Row(dateLocal='2020-01-17T13:26:00.000', dateUtc='2020-01-17T21:26:00.000Z'), scheduledRunwayDeparture=Row(dateLocal='2020-01-17T23:05:00.000', dateUtc='2020-01-17T10:05:00.000Z')), schedule=Row(downlines=[Row(flightId=1028193174, fsCode='LHR')], flightType='J', restrictions='', serviceClasses='FJY', uplines=[]), status='A'),\n",
              " Row(airportResources=Row(arrivalGate=None, arrivalTerminal='TBIT', baggage='TBIT', departureGate='17', departureTerminal='2'), arrivalAirportFsCode='LAX', arrivalDate=Row(dateLocal='2020-01-17T14:40:00.000', dateUtc='2020-01-17T22:40:00.000Z'), carrierFsCode='AA', codeshares=[Row(flightNumber='1622', fsCode='CZ', relationship='L')], delays=Row(arrivalGateDelayMinutes=None, arrivalRunwayDelayMinutes=None, departureGateDelayMinutes=None, departureRunwayDelayMinutes=None), departureAirportFsCode='PEK', departureDate=Row(dateLocal='2020-01-17T18:30:00.000', dateUtc='2020-01-17T10:30:00.000Z'), divertedAirportFsCode=None, flightDurations=Row(blockMinutes=None, scheduledAirMinutes=683, scheduledBlockMinutes=730, scheduledTaxiInMinutes=10, scheduledTaxiOutMinutes=37, taxiOutMinutes=22), flightEquipment=Row(actualEquipmentIataCode='788', scheduledEquipmentIataCode='788', tailNumber='N813AN'), flightId=1028129626, flightNumber='180', operationalTimes=Row(actualGateArrival=None, actualGateDeparture=Row(dateLocal='2020-01-17T18:17:00.000', dateUtc='2020-01-17T10:17:00.000Z'), actualRunwayDeparture=Row(dateLocal='2020-01-17T18:39:00.000', dateUtc='2020-01-17T10:39:00.000Z'), estimatedGateArrival=Row(dateLocal='2020-01-17T14:13:00.000', dateUtc='2020-01-17T22:13:00.000Z'), estimatedGateDeparture=Row(dateLocal='2020-01-17T18:17:00.000', dateUtc='2020-01-17T10:17:00.000Z'), estimatedRunwayArrival=Row(dateLocal='2020-01-17T14:02:00.000', dateUtc='2020-01-17T22:02:00.000Z'), estimatedRunwayDeparture=Row(dateLocal='2020-01-17T18:39:00.000', dateUtc='2020-01-17T10:39:00.000Z'), flightPlanPlannedArrival=Row(dateLocal='2020-01-17T14:30:00.000', dateUtc='2020-01-17T22:30:00.000Z'), flightPlanPlannedDeparture=Row(dateLocal='2020-01-17T19:07:00.000', dateUtc='2020-01-17T11:07:00.000Z'), publishedArrival=Row(dateLocal='2020-01-17T14:40:00.000', dateUtc='2020-01-17T22:40:00.000Z'), publishedDeparture=Row(dateLocal='2020-01-17T18:30:00.000', dateUtc='2020-01-17T10:30:00.000Z'), scheduledGateArrival=Row(dateLocal='2020-01-17T14:40:00.000', dateUtc='2020-01-17T22:40:00.000Z'), scheduledGateDeparture=Row(dateLocal='2020-01-17T18:30:00.000', dateUtc='2020-01-17T10:30:00.000Z'), scheduledRunwayArrival=Row(dateLocal='2020-01-17T14:30:00.000', dateUtc='2020-01-17T22:30:00.000Z'), scheduledRunwayDeparture=Row(dateLocal='2020-01-17T19:07:00.000', dateUtc='2020-01-17T11:07:00.000Z')), schedule=Row(downlines=[], flightType='J', restrictions='', serviceClasses='RFJY', uplines=[]), status='A')]"
            ]
          },
          "metadata": {
            "tags": []
          },
          "execution_count": 13
        }
      ]
    },
    {
      "cell_type": "markdown",
      "metadata": {
        "id": "pU1M4g0Hq4nn",
        "colab_type": "text"
      },
      "source": [
        "Let's see how many flights arrived at LAX in the past 24 hours."
      ]
    },
    {
      "cell_type": "code",
      "metadata": {
        "id": "Csdq7Ta7qEVA",
        "colab_type": "code",
        "outputId": "7f97616f-b0b1-419c-8bbf-e097e71be40c",
        "colab": {
          "base_uri": "https://localhost:8080/",
          "height": 34
        }
      },
      "source": [
        "df_arr.count()"
      ],
      "execution_count": 14,
      "outputs": [
        {
          "output_type": "execute_result",
          "data": {
            "text/plain": [
              "337"
            ]
          },
          "metadata": {
            "tags": []
          },
          "execution_count": 14
        }
      ]
    },
    {
      "cell_type": "markdown",
      "metadata": {
        "id": "5Rg_7TequuZ6",
        "colab_type": "text"
      },
      "source": [
        "Let's first drop all the unnecessary columns."
      ]
    },
    {
      "cell_type": "code",
      "metadata": {
        "id": "lrqU_5lzutys",
        "colab_type": "code",
        "outputId": "081e9ed9-5d40-464d-f006-d2886808326e",
        "colab": {
          "base_uri": "https://localhost:8080/",
          "height": 232
        }
      },
      "source": [
        "df_arr = df_arr.drop('airportResources', 'codeshares', 'departureDate',\n",
        "            'divertedAirportFsCode', 'operationalTimes', 'schedule', 'status',\n",
        "            'flightId', 'flightNumber')\n",
        "df_arr.show(5)"
      ],
      "execution_count": 0,
      "outputs": [
        {
          "output_type": "stream",
          "text": [
            "+--------------------+--------------------+-------------+--------------------+----------------------+--------------------+------------------+\n",
            "|arrivalAirportFsCode|         arrivalDate|carrierFsCode|              delays|departureAirportFsCode|     flightDurations|   flightEquipment|\n",
            "+--------------------+--------------------+-------------+--------------------+----------------------+--------------------+------------------+\n",
            "|                 LAX|[2020-01-17T13:10...|           QR|      [, 13, 52, 60]|                   DOH|[, 1021, 985,, 10...|[77L, 77L, A7-BBA]|\n",
            "|                 LAX|[2020-01-17T13:15...|           QF|[205, 247, 226, 240]|                   SYD|[, 763, 830, 57, ...|[388, 388, VH-OQJ]|\n",
            "|                 LAX|[2020-01-17T13:50...|           SU|          [14, 23,,]|                   SVO|[, 745, 770, 15, ...|[332, 332, VQ-BBE]|\n",
            "|                 LAX|[2020-01-17T14:00...|           NZ|       [, 7, 17, 25]|                   AKL|[, 681, 725, 34, ...|[77W, 77W, ZK-OKS]|\n",
            "|                 LAX|[2020-01-17T14:40...|           AA|               [,,,]|                   PEK|[, 683, 730, 10, ...|[788, 788, N813AN]|\n",
            "+--------------------+--------------------+-------------+--------------------+----------------------+--------------------+------------------+\n",
            "only showing top 5 rows\n",
            "\n"
          ],
          "name": "stdout"
        }
      ]
    },
    {
      "cell_type": "code",
      "metadata": {
        "id": "rUau0XFl_bUT",
        "colab_type": "code",
        "outputId": "6a39a9de-5ccd-40cb-841f-412fc332f747",
        "colab": {
          "base_uri": "https://localhost:8080/",
          "height": 443
        }
      },
      "source": [
        "df_arr.printSchema()"
      ],
      "execution_count": 0,
      "outputs": [
        {
          "output_type": "stream",
          "text": [
            "root\n",
            " |-- arrivalAirportFsCode: string (nullable = true)\n",
            " |-- arrivalDate: struct (nullable = true)\n",
            " |    |-- dateLocal: string (nullable = true)\n",
            " |    |-- dateUtc: string (nullable = true)\n",
            " |-- carrierFsCode: string (nullable = true)\n",
            " |-- delays: struct (nullable = true)\n",
            " |    |-- arrivalGateDelayMinutes: long (nullable = true)\n",
            " |    |-- arrivalRunwayDelayMinutes: long (nullable = true)\n",
            " |    |-- departureGateDelayMinutes: long (nullable = true)\n",
            " |    |-- departureRunwayDelayMinutes: long (nullable = true)\n",
            " |-- departureAirportFsCode: string (nullable = true)\n",
            " |-- flightDurations: struct (nullable = true)\n",
            " |    |-- blockMinutes: long (nullable = true)\n",
            " |    |-- scheduledAirMinutes: long (nullable = true)\n",
            " |    |-- scheduledBlockMinutes: long (nullable = true)\n",
            " |    |-- scheduledTaxiInMinutes: long (nullable = true)\n",
            " |    |-- scheduledTaxiOutMinutes: long (nullable = true)\n",
            " |    |-- taxiOutMinutes: long (nullable = true)\n",
            " |-- flightEquipment: struct (nullable = true)\n",
            " |    |-- actualEquipmentIataCode: string (nullable = true)\n",
            " |    |-- scheduledEquipmentIataCode: string (nullable = true)\n",
            " |    |-- tailNumber: string (nullable = true)\n",
            "\n"
          ],
          "name": "stdout"
        }
      ]
    },
    {
      "cell_type": "markdown",
      "metadata": {
        "id": "S0y_wN53x6LV",
        "colab_type": "text"
      },
      "source": [
        "Let's explore the dataframe a little bit here."
      ]
    },
    {
      "cell_type": "code",
      "metadata": {
        "id": "zn-3Oz5Rx5td",
        "colab_type": "code",
        "outputId": "6ff5eaca-416d-495c-a32d-2a4b83987b7f",
        "colab": {
          "base_uri": "https://localhost:8080/",
          "height": 478
        }
      },
      "source": [
        "df_arr.groupBy('carrierFsCode').count().orderBy('count', ascending=False).show()"
      ],
      "execution_count": 0,
      "outputs": [
        {
          "output_type": "stream",
          "text": [
            "+-------------+-----+\n",
            "|carrierFsCode|count|\n",
            "+-------------+-----+\n",
            "|           DL|   48|\n",
            "|           AA|   45|\n",
            "|           OO|   44|\n",
            "|           WN|   42|\n",
            "|           CP|   30|\n",
            "|           UA|   25|\n",
            "|           AS|   24|\n",
            "|           NK|    6|\n",
            "|           B6|    6|\n",
            "|           QX|    5|\n",
            "|           AC|    4|\n",
            "|           WS|    3|\n",
            "|           Y4|    3|\n",
            "|           QF|    3|\n",
            "|           BA|    3|\n",
            "|           NZ|    2|\n",
            "|           CZ|    2|\n",
            "|           1I|    2|\n",
            "|           K4|    2|\n",
            "|          BAI|    2|\n",
            "+-------------+-----+\n",
            "only showing top 20 rows\n",
            "\n"
          ],
          "name": "stdout"
        }
      ]
    },
    {
      "cell_type": "markdown",
      "metadata": {
        "id": "cgq0VGMM2hbB",
        "colab_type": "text"
      },
      "source": [
        "Let's see what the busiest time of the day is for LAX next. But before we do that, I'm going to separate out the arrival time from 'arrivalDate'."
      ]
    },
    {
      "cell_type": "code",
      "metadata": {
        "id": "eosnJa1K3Crk",
        "colab_type": "code",
        "outputId": "640492da-1dfe-40d7-d544-d73877c88474",
        "colab": {
          "base_uri": "https://localhost:8080/",
          "height": 212
        }
      },
      "source": [
        "# first need to extract the date info from the arrivalDate struct\n",
        "df_arr = df_arr.withColumn('localDate', col('arrivalDate').getField('dateLocal'))\n",
        "#df_arr.select('localDate').show(5)\n",
        "\n",
        "df_arr = df_arr.withColumn('localTimeStamp', df_arr['localDate'].cast(TimestampType()))\n",
        "df_arr.select('localTimeStamp').show(5)"
      ],
      "execution_count": 0,
      "outputs": [
        {
          "output_type": "stream",
          "text": [
            "+-------------------+\n",
            "|     localTimeStamp|\n",
            "+-------------------+\n",
            "|2020-01-17 13:10:00|\n",
            "|2020-01-17 13:15:00|\n",
            "|2020-01-17 13:50:00|\n",
            "|2020-01-17 14:00:00|\n",
            "|2020-01-17 14:40:00|\n",
            "+-------------------+\n",
            "only showing top 5 rows\n",
            "\n"
          ],
          "name": "stdout"
        }
      ]
    },
    {
      "cell_type": "markdown",
      "metadata": {
        "id": "D70jFpglPfT3",
        "colab_type": "text"
      },
      "source": [
        "Give each time increment its own column."
      ]
    },
    {
      "cell_type": "code",
      "metadata": {
        "id": "25bzGIpM2t8a",
        "colab_type": "code",
        "outputId": "b78759e4-e8d8-403c-9f18-83fc91eeafce",
        "colab": {
          "base_uri": "https://localhost:8080/",
          "height": 232
        }
      },
      "source": [
        "df_arr.withColumn('date', col('localTimeStamp').cast('date')).withColumn('hour', hour(col('localTimeStamp'))).withColumn('minute', minute(col('localTimeStamp'))).show(5)"
      ],
      "execution_count": 0,
      "outputs": [
        {
          "output_type": "stream",
          "text": [
            "+--------------------+--------------------+-------------+--------------------+----------------------+--------------------+------------------+--------------------+-------------------+----------+----+------+\n",
            "|arrivalAirportFsCode|         arrivalDate|carrierFsCode|              delays|departureAirportFsCode|     flightDurations|   flightEquipment|           localDate|     localTimeStamp|      date|hour|minute|\n",
            "+--------------------+--------------------+-------------+--------------------+----------------------+--------------------+------------------+--------------------+-------------------+----------+----+------+\n",
            "|                 LAX|[2020-01-17T13:10...|           QR|      [, 13, 52, 60]|                   DOH|[, 1021, 985,, 10...|[77L, 77L, A7-BBA]|2020-01-17T13:10:...|2020-01-17 13:10:00|2020-01-17|  13|    10|\n",
            "|                 LAX|[2020-01-17T13:15...|           QF|[205, 247, 226, 240]|                   SYD|[, 763, 830, 57, ...|[388, 388, VH-OQJ]|2020-01-17T13:15:...|2020-01-17 13:15:00|2020-01-17|  13|    15|\n",
            "|                 LAX|[2020-01-17T13:50...|           SU|          [14, 23,,]|                   SVO|[, 745, 770, 15, ...|[332, 332, VQ-BBE]|2020-01-17T13:50:...|2020-01-17 13:50:00|2020-01-17|  13|    50|\n",
            "|                 LAX|[2020-01-17T14:00...|           NZ|       [, 7, 17, 25]|                   AKL|[, 681, 725, 34, ...|[77W, 77W, ZK-OKS]|2020-01-17T14:00:...|2020-01-17 14:00:00|2020-01-17|  14|     0|\n",
            "|                 LAX|[2020-01-17T14:40...|           AA|               [,,,]|                   PEK|[, 683, 730, 10, ...|[788, 788, N813AN]|2020-01-17T14:40:...|2020-01-17 14:40:00|2020-01-17|  14|    40|\n",
            "+--------------------+--------------------+-------------+--------------------+----------------------+--------------------+------------------+--------------------+-------------------+----------+----+------+\n",
            "only showing top 5 rows\n",
            "\n"
          ],
          "name": "stdout"
        }
      ]
    },
    {
      "cell_type": "markdown",
      "metadata": {
        "id": "a_FLYh8EWUq3",
        "colab_type": "text"
      },
      "source": [
        "Since travel tends to change with the time of year, let's also add on weekOfYear and dayOfWeek as well."
      ]
    },
    {
      "cell_type": "code",
      "metadata": {
        "id": "lokV6JbLWUM0",
        "colab_type": "code",
        "outputId": "aa47f93f-c017-4fb9-8956-a576d42ce391",
        "colab": {
          "base_uri": "https://localhost:8080/",
          "height": 232
        }
      },
      "source": [
        "df_arr.withColumn('weekOfYear', weekofyear(col('localTimeStamp'))).withColumn('dayOfWeek', dayofweek(col('localTimeStamp'))).show(5)"
      ],
      "execution_count": 0,
      "outputs": [
        {
          "output_type": "stream",
          "text": [
            "+--------------------+--------------------+-------------+--------------------+----------------------+--------------------+------------------+--------------------+-------------------+----------+---------+\n",
            "|arrivalAirportFsCode|         arrivalDate|carrierFsCode|              delays|departureAirportFsCode|     flightDurations|   flightEquipment|           localDate|     localTimeStamp|weekOfYear|dayOfWeek|\n",
            "+--------------------+--------------------+-------------+--------------------+----------------------+--------------------+------------------+--------------------+-------------------+----------+---------+\n",
            "|                 LAX|[2020-01-17T13:10...|           QR|      [, 13, 52, 60]|                   DOH|[, 1021, 985,, 10...|[77L, 77L, A7-BBA]|2020-01-17T13:10:...|2020-01-17 13:10:00|         3|        6|\n",
            "|                 LAX|[2020-01-17T13:15...|           QF|[205, 247, 226, 240]|                   SYD|[, 763, 830, 57, ...|[388, 388, VH-OQJ]|2020-01-17T13:15:...|2020-01-17 13:15:00|         3|        6|\n",
            "|                 LAX|[2020-01-17T13:50...|           SU|          [14, 23,,]|                   SVO|[, 745, 770, 15, ...|[332, 332, VQ-BBE]|2020-01-17T13:50:...|2020-01-17 13:50:00|         3|        6|\n",
            "|                 LAX|[2020-01-17T14:00...|           NZ|       [, 7, 17, 25]|                   AKL|[, 681, 725, 34, ...|[77W, 77W, ZK-OKS]|2020-01-17T14:00:...|2020-01-17 14:00:00|         3|        6|\n",
            "|                 LAX|[2020-01-17T14:40...|           AA|               [,,,]|                   PEK|[, 683, 730, 10, ...|[788, 788, N813AN]|2020-01-17T14:40:...|2020-01-17 14:40:00|         3|        6|\n",
            "+--------------------+--------------------+-------------+--------------------+----------------------+--------------------+------------------+--------------------+-------------------+----------+---------+\n",
            "only showing top 5 rows\n",
            "\n"
          ],
          "name": "stdout"
        }
      ]
    },
    {
      "cell_type": "markdown",
      "metadata": {
        "id": "deuSA2sQcNGe",
        "colab_type": "text"
      },
      "source": [
        "Delays column, the column that contains our target data, is an array of four values. They are minutes of delay in different stages of the flight but, since travelers don't really care where the delays occur, but rather how long the delays are, let's sum up the numbers to get one total delayed minutes."
      ]
    },
    {
      "cell_type": "code",
      "metadata": {
        "id": "HfcIPqAKA92U",
        "colab_type": "code",
        "outputId": "635da5d9-aca7-4625-a80c-a8fafb44e1c2",
        "colab": {
          "base_uri": "https://localhost:8080/",
          "height": 212
        }
      },
      "source": [
        "# a df with just the delay data\n",
        "delay_df = df_arr.select('delays.*').na.fill(0)\n",
        "delay_df.show(5)"
      ],
      "execution_count": 0,
      "outputs": [
        {
          "output_type": "stream",
          "text": [
            "+-----------------------+-------------------------+-------------------------+---------------------------+\n",
            "|arrivalGateDelayMinutes|arrivalRunwayDelayMinutes|departureGateDelayMinutes|departureRunwayDelayMinutes|\n",
            "+-----------------------+-------------------------+-------------------------+---------------------------+\n",
            "|                      0|                       13|                       52|                         60|\n",
            "|                    205|                      247|                      226|                        240|\n",
            "|                     14|                       23|                        0|                          0|\n",
            "|                      0|                        7|                       17|                         25|\n",
            "|                      0|                        0|                        0|                          0|\n",
            "+-----------------------+-------------------------+-------------------------+---------------------------+\n",
            "only showing top 5 rows\n",
            "\n"
          ],
          "name": "stdout"
        }
      ]
    },
    {
      "cell_type": "code",
      "metadata": {
        "id": "4cG12MmNc81J",
        "colab_type": "code",
        "outputId": "cdf21a1c-4fc1-43df-d3f9-72d9d98ad20a",
        "colab": {
          "base_uri": "https://localhost:8080/",
          "height": 212
        }
      },
      "source": [
        "# create a new column in main arrival df with total delay minutes\n",
        "delay_df = delay_df.withColumn('totalDelay', sum(delay_df[col] for col in delay_df.columns))\n",
        "delay_df = delay_df.select('*').withColumn('d_id', monotonically_increasing_id())\n",
        "\n",
        "delay_df.show(5)\n"
      ],
      "execution_count": 0,
      "outputs": [
        {
          "output_type": "stream",
          "text": [
            "+-----------------------+-------------------------+-------------------------+---------------------------+----------+----+\n",
            "|arrivalGateDelayMinutes|arrivalRunwayDelayMinutes|departureGateDelayMinutes|departureRunwayDelayMinutes|totalDelay|d_id|\n",
            "+-----------------------+-------------------------+-------------------------+---------------------------+----------+----+\n",
            "|                      0|                       13|                       52|                         60|       125|   0|\n",
            "|                    205|                      247|                      226|                        240|       918|   1|\n",
            "|                     14|                       23|                        0|                          0|        37|   2|\n",
            "|                      0|                        7|                       17|                         25|        49|   3|\n",
            "|                      0|                        0|                        0|                          0|         0|   4|\n",
            "+-----------------------+-------------------------+-------------------------+---------------------------+----------+----+\n",
            "only showing top 5 rows\n",
            "\n"
          ],
          "name": "stdout"
        }
      ]
    },
    {
      "cell_type": "markdown",
      "metadata": {
        "id": "B_VNT9Ng07hz",
        "colab_type": "text"
      },
      "source": [
        "Now let's merge this table with the main table."
      ]
    },
    {
      "cell_type": "code",
      "metadata": {
        "id": "TZAckuVs1G2q",
        "colab_type": "code",
        "outputId": "08be6cdd-44dd-4f98-8b52-41b6af338822",
        "colab": {
          "base_uri": "https://localhost:8080/",
          "height": 232
        }
      },
      "source": [
        "# In order to join two dataframes, we need to create an index column to join the two \n",
        "# dataframes on\n",
        "df_arr = df_arr.select('*').withColumn('id', monotonically_increasing_id())\n",
        "\n",
        "df_arr = df_arr.join(delay_df, col('id') == col('d_id'), how='leftouter').drop('d_id')\n",
        "df_arr.show(5)"
      ],
      "execution_count": 0,
      "outputs": [
        {
          "output_type": "stream",
          "text": [
            "+--------------------+--------------------+-------------+--------------------+----------------------+--------------------+------------------+--------------------+-------------------+---+-----------------------+-------------------------+-------------------------+---------------------------+----------+\n",
            "|arrivalAirportFsCode|         arrivalDate|carrierFsCode|              delays|departureAirportFsCode|     flightDurations|   flightEquipment|           localDate|     localTimeStamp| id|arrivalGateDelayMinutes|arrivalRunwayDelayMinutes|departureGateDelayMinutes|departureRunwayDelayMinutes|totalDelay|\n",
            "+--------------------+--------------------+-------------+--------------------+----------------------+--------------------+------------------+--------------------+-------------------+---+-----------------------+-------------------------+-------------------------+---------------------------+----------+\n",
            "|                 LAX|[2020-01-17T13:10...|           QR|      [, 13, 52, 60]|                   DOH|[, 1021, 985,, 10...|[77L, 77L, A7-BBA]|2020-01-17T13:10:...|2020-01-17 13:10:00|  0|                      0|                       13|                       52|                         60|       125|\n",
            "|                 LAX|[2020-01-17T13:15...|           QF|[205, 247, 226, 240]|                   SYD|[, 763, 830, 57, ...|[388, 388, VH-OQJ]|2020-01-17T13:15:...|2020-01-17 13:15:00|  1|                    205|                      247|                      226|                        240|       918|\n",
            "|                 LAX|[2020-01-17T13:50...|           SU|          [14, 23,,]|                   SVO|[, 745, 770, 15, ...|[332, 332, VQ-BBE]|2020-01-17T13:50:...|2020-01-17 13:50:00|  2|                     14|                       23|                        0|                          0|        37|\n",
            "|                 LAX|[2020-01-17T14:00...|           NZ|       [, 7, 17, 25]|                   AKL|[, 681, 725, 34, ...|[77W, 77W, ZK-OKS]|2020-01-17T14:00:...|2020-01-17 14:00:00|  3|                      0|                        7|                       17|                         25|        49|\n",
            "|                 LAX|[2020-01-17T14:40...|           AA|               [,,,]|                   PEK|[, 683, 730, 10, ...|[788, 788, N813AN]|2020-01-17T14:40:...|2020-01-17 14:40:00|  4|                      0|                        0|                        0|                          0|         0|\n",
            "+--------------------+--------------------+-------------+--------------------+----------------------+--------------------+------------------+--------------------+-------------------+---+-----------------------+-------------------------+-------------------------+---------------------------+----------+\n",
            "only showing top 5 rows\n",
            "\n"
          ],
          "name": "stdout"
        }
      ]
    },
    {
      "cell_type": "markdown",
      "metadata": {
        "id": "A_3zmAdILcYR",
        "colab_type": "text"
      },
      "source": [
        "Now let's do the same for flightDurations and flightEquipment."
      ]
    },
    {
      "cell_type": "code",
      "metadata": {
        "id": "1tASHvAfUSQC",
        "colab_type": "code",
        "outputId": "4dba363a-60db-4951-efd9-7121a283f26e",
        "colab": {
          "base_uri": "https://localhost:8080/",
          "height": 212
        }
      },
      "source": [
        "eq_df = df_arr.select('flightEquipment.*').drop('tailNumber')\n",
        "eq_df.show(5)"
      ],
      "execution_count": 0,
      "outputs": [
        {
          "output_type": "stream",
          "text": [
            "+-----------------------+--------------------------+\n",
            "|actualEquipmentIataCode|scheduledEquipmentIataCode|\n",
            "+-----------------------+--------------------------+\n",
            "|                    77L|                       77L|\n",
            "|                    388|                       388|\n",
            "|                    332|                       332|\n",
            "|                    77W|                       77W|\n",
            "|                    788|                       788|\n",
            "+-----------------------+--------------------------+\n",
            "only showing top 5 rows\n",
            "\n"
          ],
          "name": "stdout"
        }
      ]
    },
    {
      "cell_type": "markdown",
      "metadata": {
        "id": "ewUHBCkbnyNn",
        "colab_type": "text"
      },
      "source": [
        "When it comes to equipment, when it is changed it might cause a delay so I'm going to drop the tailNumber and create another column that shows whether there was a change in equipment."
      ]
    },
    {
      "cell_type": "code",
      "metadata": {
        "id": "gZ-4YTuqnxXP",
        "colab_type": "code",
        "outputId": "2fe70ed2-dd0d-4d6c-9612-b2133d30255a",
        "colab": {
          "base_uri": "https://localhost:8080/",
          "height": 212
        }
      },
      "source": [
        "eq_df = eq_df.withColumn('eqChanged', F.when(F.col('actualEquipmentIataCode') == F.col('scheduledEquipmentIatacode'), 0)\n",
        "    .otherwise(1))\n",
        "\n",
        "eq_df = eq_df.select('*').withColumn('e_id', monotonically_increasing_id())\n",
        "eq_df.show(5)"
      ],
      "execution_count": 0,
      "outputs": [
        {
          "output_type": "stream",
          "text": [
            "+-----------------------+--------------------------+---------+----+\n",
            "|actualEquipmentIataCode|scheduledEquipmentIataCode|eqChanged|e_id|\n",
            "+-----------------------+--------------------------+---------+----+\n",
            "|                    77L|                       77L|        0|   0|\n",
            "|                    388|                       388|        0|   1|\n",
            "|                    332|                       332|        0|   2|\n",
            "|                    77W|                       77W|        0|   3|\n",
            "|                    788|                       788|        0|   4|\n",
            "+-----------------------+--------------------------+---------+----+\n",
            "only showing top 5 rows\n",
            "\n"
          ],
          "name": "stdout"
        }
      ]
    },
    {
      "cell_type": "markdown",
      "metadata": {
        "id": "Ug_Wt5tDsDz8",
        "colab_type": "text"
      },
      "source": [
        "And lastly, let's just some up the flight durations."
      ]
    },
    {
      "cell_type": "code",
      "metadata": {
        "id": "JKJg7lb7sCRp",
        "colab_type": "code",
        "outputId": "b7f2cb57-6c00-43b8-9da3-3b7eb8f4ea47",
        "colab": {
          "base_uri": "https://localhost:8080/",
          "height": 232
        }
      },
      "source": [
        "fd_df = df_arr.select('flightDurations.*').na.fill(0)\n",
        "fd_df = fd_df.withColumn('totalDuration', sum(fd_df[col] for col in fd_df.columns))\n",
        "fd_df = fd_df.select('*').withColumn('f_id', monotonically_increasing_id())\n",
        "fd_df.show(5)"
      ],
      "execution_count": 0,
      "outputs": [
        {
          "output_type": "stream",
          "text": [
            "+------------+-------------------+---------------------+----------------------+-----------------------+--------------+-------------+----+\n",
            "|blockMinutes|scheduledAirMinutes|scheduledBlockMinutes|scheduledTaxiInMinutes|scheduledTaxiOutMinutes|taxiOutMinutes|totalDuration|f_id|\n",
            "+------------+-------------------+---------------------+----------------------+-----------------------+--------------+-------------+----+\n",
            "|           0|               1021|                  985|                     0|                     10|            18|         2034|   0|\n",
            "|           0|                763|                  830|                    57|                     10|            24|         1684|   1|\n",
            "|           0|                745|                  770|                    15|                     10|            23|         1563|   2|\n",
            "|           0|                681|                  725|                    34|                     10|            18|         1468|   3|\n",
            "|           0|                683|                  730|                    10|                     37|            22|         1482|   4|\n",
            "+------------+-------------------+---------------------+----------------------+-----------------------+--------------+-------------+----+\n",
            "only showing top 5 rows\n",
            "\n"
          ],
          "name": "stdout"
        }
      ]
    },
    {
      "cell_type": "markdown",
      "metadata": {
        "id": "FZq-vx4Ythrk",
        "colab_type": "text"
      },
      "source": [
        "Put all the tables together."
      ]
    },
    {
      "cell_type": "code",
      "metadata": {
        "id": "838qwLZztnyI",
        "colab_type": "code",
        "outputId": "8e0e6f4e-80a9-4eea-e1a4-321555549c90",
        "colab": {
          "base_uri": "https://localhost:8080/",
          "height": 232
        }
      },
      "source": [
        "df_arr = df_arr.join(eq_df, col('id') == col('e_id'), how='leftouter').drop('e_id').join(fd_df, col('id') == col('f_id'), how='leftouter').drop('f_id')\n",
        "df_arr.orderBy('id').show(5)"
      ],
      "execution_count": 0,
      "outputs": [
        {
          "output_type": "stream",
          "text": [
            "+--------------------+--------------------+-------------+--------------------+----------------------+--------------------+------------------+--------------------+-------------------+---+-----------------------+-------------------------+-------------------------+---------------------------+----------+-----------------------+--------------------------+---------+------------+-------------------+---------------------+----------------------+-----------------------+--------------+-------------+-----------------------+--------------------------+---------+------------+-------------------+---------------------+----------------------+-----------------------+--------------+-------------+\n",
            "|arrivalAirportFsCode|         arrivalDate|carrierFsCode|              delays|departureAirportFsCode|     flightDurations|   flightEquipment|           localDate|     localTimeStamp| id|arrivalGateDelayMinutes|arrivalRunwayDelayMinutes|departureGateDelayMinutes|departureRunwayDelayMinutes|totalDelay|actualEquipmentIataCode|scheduledEquipmentIataCode|eqChanged|blockMinutes|scheduledAirMinutes|scheduledBlockMinutes|scheduledTaxiInMinutes|scheduledTaxiOutMinutes|taxiOutMinutes|totalDuration|actualEquipmentIataCode|scheduledEquipmentIataCode|eqChanged|blockMinutes|scheduledAirMinutes|scheduledBlockMinutes|scheduledTaxiInMinutes|scheduledTaxiOutMinutes|taxiOutMinutes|totalDuration|\n",
            "+--------------------+--------------------+-------------+--------------------+----------------------+--------------------+------------------+--------------------+-------------------+---+-----------------------+-------------------------+-------------------------+---------------------------+----------+-----------------------+--------------------------+---------+------------+-------------------+---------------------+----------------------+-----------------------+--------------+-------------+-----------------------+--------------------------+---------+------------+-------------------+---------------------+----------------------+-----------------------+--------------+-------------+\n",
            "|                 LAX|[2020-01-17T13:10...|           QR|      [, 13, 52, 60]|                   DOH|[, 1021, 985,, 10...|[77L, 77L, A7-BBA]|2020-01-17T13:10:...|2020-01-17 13:10:00|  0|                      0|                       13|                       52|                         60|       125|                    77L|                       77L|        0|           0|               1021|                  985|                     0|                     10|            18|         2034|                    77L|                       77L|        0|           0|               1021|                  985|                     0|                     10|            18|         2034|\n",
            "|                 LAX|[2020-01-17T13:15...|           QF|[205, 247, 226, 240]|                   SYD|[, 763, 830, 57, ...|[388, 388, VH-OQJ]|2020-01-17T13:15:...|2020-01-17 13:15:00|  1|                    205|                      247|                      226|                        240|       918|                    388|                       388|        0|           0|                763|                  830|                    57|                     10|            24|         1684|                    388|                       388|        0|           0|                763|                  830|                    57|                     10|            24|         1684|\n",
            "|                 LAX|[2020-01-17T13:50...|           SU|          [14, 23,,]|                   SVO|[, 745, 770, 15, ...|[332, 332, VQ-BBE]|2020-01-17T13:50:...|2020-01-17 13:50:00|  2|                     14|                       23|                        0|                          0|        37|                    332|                       332|        0|           0|                745|                  770|                    15|                     10|            23|         1563|                    332|                       332|        0|           0|                745|                  770|                    15|                     10|            23|         1563|\n",
            "|                 LAX|[2020-01-17T14:00...|           NZ|       [, 7, 17, 25]|                   AKL|[, 681, 725, 34, ...|[77W, 77W, ZK-OKS]|2020-01-17T14:00:...|2020-01-17 14:00:00|  3|                      0|                        7|                       17|                         25|        49|                    77W|                       77W|        0|           0|                681|                  725|                    34|                     10|            18|         1468|                    77W|                       77W|        0|           0|                681|                  725|                    34|                     10|            18|         1468|\n",
            "|                 LAX|[2020-01-17T14:40...|           AA|               [,,,]|                   PEK|[, 683, 730, 10, ...|[788, 788, N813AN]|2020-01-17T14:40:...|2020-01-17 14:40:00|  4|                      0|                        0|                        0|                          0|         0|                    788|                       788|        0|           0|                683|                  730|                    10|                     37|            22|         1482|                    788|                       788|        0|           0|                683|                  730|                    10|                     37|            22|         1482|\n",
            "+--------------------+--------------------+-------------+--------------------+----------------------+--------------------+------------------+--------------------+-------------------+---+-----------------------+-------------------------+-------------------------+---------------------------+----------+-----------------------+--------------------------+---------+------------+-------------------+---------------------+----------------------+-----------------------+--------------+-------------+-----------------------+--------------------------+---------+------------+-------------------+---------------------+----------------------+-----------------------+--------------+-------------+\n",
            "only showing top 5 rows\n",
            "\n"
          ],
          "name": "stdout"
        }
      ]
    },
    {
      "cell_type": "code",
      "metadata": {
        "id": "7QDZs7KdvG8X",
        "colab_type": "code",
        "outputId": "36ee9ea5-294d-433a-bbd9-54147e17cc66",
        "colab": {
          "base_uri": "https://localhost:8080/",
          "height": 34
        }
      },
      "source": [
        "df_arr.count()"
      ],
      "execution_count": 0,
      "outputs": [
        {
          "output_type": "execute_result",
          "data": {
            "text/plain": [
              "337"
            ]
          },
          "metadata": {
            "tags": []
          },
          "execution_count": 40
        }
      ]
    },
    {
      "cell_type": "markdown",
      "metadata": {
        "id": "tXq828aK3HF4",
        "colab_type": "text"
      },
      "source": [
        "We now need to repeat the same process for the departing flights data. It might be better if I wrote a function that does this given a dataframe."
      ]
    },
    {
      "cell_type": "code",
      "metadata": {
        "id": "jZKZ6Tjl76qX",
        "colab_type": "code",
        "colab": {}
      },
      "source": [
        "def format_flight_data(df):\n",
        "    # lets' first index the df since we know we will be needing it later\n",
        "    df = df.select('*').withColumn('id', monotonically_increasing_id())\n",
        "\n",
        "    ##### timestamp #####\n",
        "    # first need to extract the date info from the arrivalDate struct\n",
        "    df = df.withColumn('localDate', col('arrivalDate').getField('dateLocal'))\n",
        "    df = df.withColumn('localTimeStamp', df['localDate'].cast(TimestampType()))\n",
        "    df = df.withColumn('date', col('localTimeStamp').cast('date'))\n",
        "    df = df.withColumn('hour', hour(col('localTimeStamp')))\n",
        "    df = df.withColumn('minute', minute(col('localTimeStamp')))\n",
        "    df = df.withColumn('weekOfYear', weekofyear(col('localTimeStamp')))\n",
        "    df = df.withColumn('dayOfWeek', dayofweek(col('localTimeStamp')))\n",
        "\n",
        "    ##### delays #####\n",
        "    # fill all null values with 0\n",
        "    delay_df = df.select('delays.*').na.fill(0)\n",
        "    # create a new column in main arrival df with total delay minutes\n",
        "    delay_df = delay_df.withColumn('totalDelay', sum(delay_df[col] for col in delay_df.columns))\n",
        "    delay_df = delay_df.select('*').withColumn('d_id', monotonically_increasing_id())\n",
        "\n",
        "    ##### equipment #####\n",
        "    eq_df = df.select('flightEquipment.*').drop('tailNumber')\n",
        "    eq_df = eq_df.withColumn('eqChanged', F.when(F.col('actualEquipmentIataCode') == F.col('scheduledEquipmentIatacode'), 0).otherwise(1))\n",
        "    eq_df = eq_df.select('*').withColumn('e_id', monotonically_increasing_id())\n",
        "\n",
        "    ##### duration #####\n",
        "    fd_df = df.select('flightDurations.*').na.fill(0)\n",
        "    fd_df = fd_df.withColumn('totalDuration', sum(fd_df[col] for col in fd_df.columns))\n",
        "    fd_df = fd_df.select('*').withColumn('f_id', monotonically_increasing_id())\n",
        "\n",
        "    # join all dataframes\n",
        "    formatted_df = df.join(delay_df, col('id')==col('d_id'), how='leftouter').drop('d_id')\n",
        "    formatted_df = formatted_df.join(eq_df, col('id')==col('e_id'), how='leftouter').drop('e_id')\n",
        "    formatted_df = formatted_df.join(fd_df, col('id')==col('f_id'), how='leftouter').drop('f_id')\n",
        "\n",
        "    # drop extraneous columns\n",
        "    formatted_df = formatted_df.drop('airportResources', 'codeshares', 'departureDate',\n",
        "            'divertedAirportFsCode', 'operationalTimes', 'schedule', 'status',\n",
        "            'flightId', 'flightNumber')\n",
        "\n",
        "    return formatted_df\n",
        "\n",
        "    "
      ],
      "execution_count": 0,
      "outputs": []
    },
    {
      "cell_type": "code",
      "metadata": {
        "id": "HbtYuj8McbYN",
        "colab_type": "code",
        "outputId": "876d917b-b02b-42e8-ab1b-7b1d6ab37a03",
        "colab": {
          "base_uri": "https://localhost:8080/",
          "height": 232
        }
      },
      "source": [
        "df_arr_fmtd = format_flight_data(df_arr)\n",
        "df_arr_fmtd.show(5)"
      ],
      "execution_count": 17,
      "outputs": [
        {
          "output_type": "stream",
          "text": [
            "+--------------------+--------------------+-------------+--------------------+----------------------+--------------------+------------------+---+--------------------+-------------------+----------+----+------+----------+---------+-----------------------+-------------------------+-------------------------+---------------------------+----------+-----------------------+--------------------------+---------+------------+-------------------+---------------------+----------------------+-----------------------+--------------+-------------+\n",
            "|arrivalAirportFsCode|         arrivalDate|carrierFsCode|              delays|departureAirportFsCode|     flightDurations|   flightEquipment| id|           localDate|     localTimeStamp|      date|hour|minute|weekOfYear|dayOfWeek|arrivalGateDelayMinutes|arrivalRunwayDelayMinutes|departureGateDelayMinutes|departureRunwayDelayMinutes|totalDelay|actualEquipmentIataCode|scheduledEquipmentIataCode|eqChanged|blockMinutes|scheduledAirMinutes|scheduledBlockMinutes|scheduledTaxiInMinutes|scheduledTaxiOutMinutes|taxiOutMinutes|totalDuration|\n",
            "+--------------------+--------------------+-------------+--------------------+----------------------+--------------------+------------------+---+--------------------+-------------------+----------+----+------+----------+---------+-----------------------+-------------------------+-------------------------+---------------------------+----------+-----------------------+--------------------------+---------+------------+-------------------+---------------------+----------------------+-----------------------+--------------+-------------+\n",
            "|                 LAX|[2020-01-17T13:10...|           QR|      [, 13, 52, 60]|                   DOH|[, 1021, 985,, 10...|[77L, 77L, A7-BBA]|  0|2020-01-17T13:10:...|2020-01-17 13:10:00|2020-01-17|  13|    10|         3|        6|                      0|                       13|                       52|                         60|       125|                    77L|                       77L|        0|           0|               1021|                  985|                     0|                     10|            18|         2034|\n",
            "|                 LAX|[2020-01-17T13:15...|           QF|[205, 247, 226, 240]|                   SYD|[, 763, 830, 57, ...|[388, 388, VH-OQJ]|  1|2020-01-17T13:15:...|2020-01-17 13:15:00|2020-01-17|  13|    15|         3|        6|                    205|                      247|                      226|                        240|       918|                    388|                       388|        0|           0|                763|                  830|                    57|                     10|            24|         1684|\n",
            "|                 LAX|[2020-01-17T13:50...|           SU|          [14, 23,,]|                   SVO|[, 745, 770, 15, ...|[332, 332, VQ-BBE]|  2|2020-01-17T13:50:...|2020-01-17 13:50:00|2020-01-17|  13|    50|         3|        6|                     14|                       23|                        0|                          0|        37|                    332|                       332|        0|           0|                745|                  770|                    15|                     10|            23|         1563|\n",
            "|                 LAX|[2020-01-17T14:00...|           NZ|       [, 7, 17, 25]|                   AKL|[, 681, 725, 34, ...|[77W, 77W, ZK-OKS]|  3|2020-01-17T14:00:...|2020-01-17 14:00:00|2020-01-17|  14|     0|         3|        6|                      0|                        7|                       17|                         25|        49|                    77W|                       77W|        0|           0|                681|                  725|                    34|                     10|            18|         1468|\n",
            "|                 LAX|[2020-01-17T14:40...|           AA|               [,,,]|                   PEK|[, 683, 730, 10, ...|[788, 788, N813AN]|  4|2020-01-17T14:40:...|2020-01-17 14:40:00|2020-01-17|  14|    40|         3|        6|                      0|                        0|                        0|                          0|         0|                    788|                       788|        0|           0|                683|                  730|                    10|                     37|            22|         1482|\n",
            "+--------------------+--------------------+-------------+--------------------+----------------------+--------------------+------------------+---+--------------------+-------------------+----------+----+------+----------+---------+-----------------------+-------------------------+-------------------------+---------------------------+----------+-----------------------+--------------------------+---------+------------+-------------------+---------------------+----------------------+-----------------------+--------------+-------------+\n",
            "only showing top 5 rows\n",
            "\n"
          ],
          "name": "stdout"
        }
      ]
    },
    {
      "cell_type": "markdown",
      "metadata": {
        "id": "jtmw06bIuSYb",
        "colab_type": "text"
      },
      "source": [
        "Nice. Now let's format the departing dataframe."
      ]
    },
    {
      "cell_type": "code",
      "metadata": {
        "id": "plGThBfVuaFg",
        "colab_type": "code",
        "outputId": "8c6f246e-d78d-4c5b-87e9-0158df0cfac2",
        "colab": {
          "base_uri": "https://localhost:8080/",
          "height": 232
        }
      },
      "source": [
        "df_dep = spark.read.json(DEP_JSON_PATH)\n",
        "df_dep_fmtd = format_flight_data(df_dep)\n",
        "df_dep_fmtd.show(5)"
      ],
      "execution_count": 18,
      "outputs": [
        {
          "output_type": "stream",
          "text": [
            "+--------------------+--------------------+-------------+----------------+----------------------+-----------------+------------------+---+--------------------+-------------------+----------+----+------+----------+---------+-----------------------+-------------------------+-------------------------+---------------------------+----------+-----------------------+--------------------------+---------+-------------------+---------------------+----------------------+-----------------------+-------------+\n",
            "|arrivalAirportFsCode|         arrivalDate|carrierFsCode|          delays|departureAirportFsCode|  flightDurations|   flightEquipment| id|           localDate|     localTimeStamp|      date|hour|minute|weekOfYear|dayOfWeek|arrivalGateDelayMinutes|arrivalRunwayDelayMinutes|departureGateDelayMinutes|departureRunwayDelayMinutes|totalDelay|actualEquipmentIataCode|scheduledEquipmentIataCode|eqChanged|scheduledAirMinutes|scheduledBlockMinutes|scheduledTaxiInMinutes|scheduledTaxiOutMinutes|totalDuration|\n",
            "+--------------------+--------------------+-------------+----------------+----------------------+-----------------+------------------+---+--------------------+-------------------+----------+----+------+----------+---------+-----------------------+-------------------------+-------------------------+---------------------------+----------+-----------------------+--------------------------+---------+-------------------+---------------------+----------------------+-----------------------+-------------+\n",
            "|                 DFW|[2020-01-17T15:56...|           NK|           [,,,]|                   LAX| [151, 181,, 383]|       [32S, 32A,]|  0|2020-01-17T15:56:...|2020-01-17 15:56:00|2020-01-17|  15|    56|         3|        6|                      0|                        0|                        0|                          0|         0|                    32S|                       32A|        1|                151|                  181|                     0|                    383|          715|\n",
            "|                 VNY|[2020-01-17T14:12...|          JTL|           [,,,]|                   LAX|       [12,,, 30]|    [GR2,, N990JT]|  1|2020-01-17T14:12:...|2020-01-17 14:12:00|2020-01-17|  14|    12|         3|        6|                      0|                        0|                        0|                          0|         0|                    GR2|                      null|        1|                 12|                    0|                     0|                     30|           42|\n",
            "|                 SMF|[2020-01-17T15:00...|           WN|   [20,, 20, 15]|                   LAX|    [62, 90,, 31]|[73W, 73W, N711HK]|  2|2020-01-17T15:00:...|2020-01-17 15:00:00|2020-01-17|  15|     0|         3|        6|                     20|                        0|                       20|                         15|        55|                    73W|                       73W|        0|                 62|                   90|                     0|                     31|          183|\n",
            "|                 AUS|[2020-01-17T18:29...|           AA|[25, 24, 25, 25]|                   LAX|[152, 174, 6, 16]|[32B, 321, N134AN]|  3|2020-01-17T18:29:...|2020-01-17 18:29:00|2020-01-17|  18|    29|         3|        6|                     25|                       24|                       25|                         25|        99|                    32B|                       321|        1|                152|                  174|                     6|                     16|          348|\n",
            "|                 SAN|[2020-01-17T14:37...|           OO|           [,,,]|                   LAX|  [29, 54, 3, 22]|[CR7, CR7, N732SK]|  4|2020-01-17T14:37:...|2020-01-17 14:37:00|2020-01-17|  14|    37|         3|        6|                      0|                        0|                        0|                          0|         0|                    CR7|                       CR7|        0|                 29|                   54|                     3|                     22|          108|\n",
            "+--------------------+--------------------+-------------+----------------+----------------------+-----------------+------------------+---+--------------------+-------------------+----------+----+------+----------+---------+-----------------------+-------------------------+-------------------------+---------------------------+----------+-----------------------+--------------------------+---------+-------------------+---------------------+----------------------+-----------------------+-------------+\n",
            "only showing top 5 rows\n",
            "\n"
          ],
          "name": "stdout"
        }
      ]
    },
    {
      "cell_type": "markdown",
      "metadata": {
        "id": "x-eNBPR04GaV",
        "colab_type": "text"
      },
      "source": [
        "Now that we have a formatted dataframe for both arriving and departing flights, we need to join the weather conditions for each flight. The data from the DarkSky API contains within it a timestamp but it is in UNIX time. So now we just need to convert it so that it matches up with the formatted dataframe and do an inner join."
      ]
    },
    {
      "cell_type": "code",
      "metadata": {
        "id": "mwG5q9RvpJ_2",
        "colab_type": "code",
        "outputId": "f6350ca5-624a-4ac7-f744-4b7f09f0a445",
        "colab": {
          "base_uri": "https://localhost:8080/",
          "height": 232
        }
      },
      "source": [
        "df_weath = spark.read.json(WEATH_JSON_PATH)\n",
        "df_weath.show(5)"
      ],
      "execution_count": 19,
      "outputs": [
        {
          "output_type": "stream",
          "text": [
            "+-------------------+----------+--------+--------+-------------------+-----+---------------+-----------------+----------+--------+-------------------+-----------+----------+-------+----------+-----------+--------+---------+\n",
            "|apparentTemperature|cloudCover|dewPoint|humidity|               icon|ozone|precipIntensity|precipProbability|precipType|pressure|            summary|temperature|      time|uvIndex|visibility|windBearing|windGust|windSpeed|\n",
            "+-------------------+----------+--------+--------+-------------------+-----+---------------+-----------------+----------+--------+-------------------+-----------+----------+-------+----------+-----------+--------+---------+\n",
            "|              53.33|      0.93|   48.75|    0.84|               rain|306.5|         0.0474|             0.87|      rain|  1020.0|         Light Rain|      53.33|1579248000|      0|      4.94|        118|    9.85|     7.89|\n",
            "|               53.2|      0.88|   49.85|    0.88|               rain|303.5|         0.0262|              0.5|      rain|  1019.7|Possible Light Rain|       53.2|1579251600|      0|      10.0|         67|     9.0|     5.22|\n",
            "|              52.06|      0.86|   48.89|    0.89|               rain|300.2|         0.0187|             0.29|      rain|  1020.3|Possible Light Rain|      52.06|1579255200|      0|      10.0|        133|     8.5|     5.37|\n",
            "|              51.94|      0.54|   47.35|    0.84|partly-cloudy-night|296.7|         0.0015|             0.04|      rain|  1020.4|      Partly Cloudy|      51.94|1579258800|      0|      10.0|         48|    8.29|      6.3|\n",
            "|              51.57|      0.53|   47.34|    0.85|partly-cloudy-night|293.1|            0.0|              0.0|      null|  1020.3|      Partly Cloudy|      51.57|1579262400|      0|      10.0|          3|    7.29|     6.16|\n",
            "+-------------------+----------+--------+--------+-------------------+-----+---------------+-----------------+----------+--------+-------------------+-----------+----------+-------+----------+-----------+--------+---------+\n",
            "only showing top 5 rows\n",
            "\n"
          ],
          "name": "stdout"
        }
      ]
    },
    {
      "cell_type": "code",
      "metadata": {
        "id": "7mQ3fzW9MKIt",
        "colab_type": "code",
        "outputId": "14eb9ac9-162e-47df-eb72-8c4326afd318",
        "colab": {
          "base_uri": "https://localhost:8080/",
          "height": 232
        }
      },
      "source": [
        "df_weath = df_weath.withColumn('f_time', df_weath['time'].cast(TimestampType()))\n",
        "df_weath.show(5)"
      ],
      "execution_count": 20,
      "outputs": [
        {
          "output_type": "stream",
          "text": [
            "+-------------------+----------+--------+--------+-------------------+-----+---------------+-----------------+----------+--------+-------------------+-----------+----------+-------+----------+-----------+--------+---------+-------------------+\n",
            "|apparentTemperature|cloudCover|dewPoint|humidity|               icon|ozone|precipIntensity|precipProbability|precipType|pressure|            summary|temperature|      time|uvIndex|visibility|windBearing|windGust|windSpeed|             f_time|\n",
            "+-------------------+----------+--------+--------+-------------------+-----+---------------+-----------------+----------+--------+-------------------+-----------+----------+-------+----------+-----------+--------+---------+-------------------+\n",
            "|              53.33|      0.93|   48.75|    0.84|               rain|306.5|         0.0474|             0.87|      rain|  1020.0|         Light Rain|      53.33|1579248000|      0|      4.94|        118|    9.85|     7.89|2020-01-17 08:00:00|\n",
            "|               53.2|      0.88|   49.85|    0.88|               rain|303.5|         0.0262|              0.5|      rain|  1019.7|Possible Light Rain|       53.2|1579251600|      0|      10.0|         67|     9.0|     5.22|2020-01-17 09:00:00|\n",
            "|              52.06|      0.86|   48.89|    0.89|               rain|300.2|         0.0187|             0.29|      rain|  1020.3|Possible Light Rain|      52.06|1579255200|      0|      10.0|        133|     8.5|     5.37|2020-01-17 10:00:00|\n",
            "|              51.94|      0.54|   47.35|    0.84|partly-cloudy-night|296.7|         0.0015|             0.04|      rain|  1020.4|      Partly Cloudy|      51.94|1579258800|      0|      10.0|         48|    8.29|      6.3|2020-01-17 11:00:00|\n",
            "|              51.57|      0.53|   47.34|    0.85|partly-cloudy-night|293.1|            0.0|              0.0|      null|  1020.3|      Partly Cloudy|      51.57|1579262400|      0|      10.0|          3|    7.29|     6.16|2020-01-17 12:00:00|\n",
            "+-------------------+----------+--------+--------+-------------------+-----+---------------+-----------------+----------+--------+-------------------+-----------+----------+-------+----------+-----------+--------+---------+-------------------+\n",
            "only showing top 5 rows\n",
            "\n"
          ],
          "name": "stdout"
        }
      ]
    },
    {
      "cell_type": "markdown",
      "metadata": {
        "id": "gaHSNWczBV1l",
        "colab_type": "text"
      },
      "source": [
        "Hmmm. Since the weather data is taken hourly, we now just need to match upto the hour."
      ]
    },
    {
      "cell_type": "code",
      "metadata": {
        "id": "Yrhc18FHBVeu",
        "colab_type": "code",
        "outputId": "51c71c4a-d58d-4673-b630-6d7a459f115f",
        "colab": {
          "base_uri": "https://localhost:8080/",
          "height": 232
        }
      },
      "source": [
        "# separate date and hour\n",
        "df_weath = df_weath.withColumn('w_date', col('f_time').cast('date'))\n",
        "df_weath = df_weath.withColumn('w_hour', hour(col('f_time')))\n",
        "df_weath.show(5)"
      ],
      "execution_count": 21,
      "outputs": [
        {
          "output_type": "stream",
          "text": [
            "+-------------------+----------+--------+--------+-------------------+-----+---------------+-----------------+----------+--------+-------------------+-----------+----------+-------+----------+-----------+--------+---------+-------------------+----------+------+\n",
            "|apparentTemperature|cloudCover|dewPoint|humidity|               icon|ozone|precipIntensity|precipProbability|precipType|pressure|            summary|temperature|      time|uvIndex|visibility|windBearing|windGust|windSpeed|             f_time|    w_date|w_hour|\n",
            "+-------------------+----------+--------+--------+-------------------+-----+---------------+-----------------+----------+--------+-------------------+-----------+----------+-------+----------+-----------+--------+---------+-------------------+----------+------+\n",
            "|              53.33|      0.93|   48.75|    0.84|               rain|306.5|         0.0474|             0.87|      rain|  1020.0|         Light Rain|      53.33|1579248000|      0|      4.94|        118|    9.85|     7.89|2020-01-17 08:00:00|2020-01-17|     8|\n",
            "|               53.2|      0.88|   49.85|    0.88|               rain|303.5|         0.0262|              0.5|      rain|  1019.7|Possible Light Rain|       53.2|1579251600|      0|      10.0|         67|     9.0|     5.22|2020-01-17 09:00:00|2020-01-17|     9|\n",
            "|              52.06|      0.86|   48.89|    0.89|               rain|300.2|         0.0187|             0.29|      rain|  1020.3|Possible Light Rain|      52.06|1579255200|      0|      10.0|        133|     8.5|     5.37|2020-01-17 10:00:00|2020-01-17|    10|\n",
            "|              51.94|      0.54|   47.35|    0.84|partly-cloudy-night|296.7|         0.0015|             0.04|      rain|  1020.4|      Partly Cloudy|      51.94|1579258800|      0|      10.0|         48|    8.29|      6.3|2020-01-17 11:00:00|2020-01-17|    11|\n",
            "|              51.57|      0.53|   47.34|    0.85|partly-cloudy-night|293.1|            0.0|              0.0|      null|  1020.3|      Partly Cloudy|      51.57|1579262400|      0|      10.0|          3|    7.29|     6.16|2020-01-17 12:00:00|2020-01-17|    12|\n",
            "+-------------------+----------+--------+--------+-------------------+-----+---------------+-----------------+----------+--------+-------------------+-----------+----------+-------+----------+-----------+--------+---------+-------------------+----------+------+\n",
            "only showing top 5 rows\n",
            "\n"
          ],
          "name": "stdout"
        }
      ]
    },
    {
      "cell_type": "markdown",
      "metadata": {
        "id": "JPKz6y92Gs60",
        "colab_type": "text"
      },
      "source": [
        "Now all that's left to do is inner join the weather data on both the date and hour columns."
      ]
    },
    {
      "cell_type": "code",
      "metadata": {
        "id": "mVq1TEUGA_HS",
        "colab_type": "code",
        "colab": {
          "base_uri": "https://localhost:8080/",
          "height": 232
        },
        "outputId": "8a9ea3a8-ef90-44df-f39f-e8befad0cde6"
      },
      "source": [
        "df_arr_wthr = df_arr_fmtd.join(df_weath, (col('date')==col('w_date'))&(col('hour')==col('w_hour')), how='inner')\n",
        "df_arr_wthr = df_arr_wthr.drop('time', 'w_date', 'w_hour')\n",
        "df_arr_wthr.show(5)"
      ],
      "execution_count": 22,
      "outputs": [
        {
          "output_type": "stream",
          "text": [
            "+--------------------+--------------------+-------------+--------------------+----------------------+--------------------+------------------+---+--------------------+-------------------+----------+----+------+----------+---------+-----------------------+-------------------------+-------------------------+---------------------------+----------+-----------------------+--------------------------+---------+------------+-------------------+---------------------+----------------------+-----------------------+--------------+-------------+-------------------+----------+--------+--------+-------------------+-----+---------------+-----------------+----------+--------+-------------+-----------+-------+----------+-----------+--------+---------+-------------------+\n",
            "|arrivalAirportFsCode|         arrivalDate|carrierFsCode|              delays|departureAirportFsCode|     flightDurations|   flightEquipment| id|           localDate|     localTimeStamp|      date|hour|minute|weekOfYear|dayOfWeek|arrivalGateDelayMinutes|arrivalRunwayDelayMinutes|departureGateDelayMinutes|departureRunwayDelayMinutes|totalDelay|actualEquipmentIataCode|scheduledEquipmentIataCode|eqChanged|blockMinutes|scheduledAirMinutes|scheduledBlockMinutes|scheduledTaxiInMinutes|scheduledTaxiOutMinutes|taxiOutMinutes|totalDuration|apparentTemperature|cloudCover|dewPoint|humidity|               icon|ozone|precipIntensity|precipProbability|precipType|pressure|      summary|temperature|uvIndex|visibility|windBearing|windGust|windSpeed|             f_time|\n",
            "+--------------------+--------------------+-------------+--------------------+----------------------+--------------------+------------------+---+--------------------+-------------------+----------+----+------+----------+---------+-----------------------+-------------------------+-------------------------+---------------------------+----------+-----------------------+--------------------------+---------+------------+-------------------+---------------------+----------------------+-----------------------+--------------+-------------+-------------------+----------+--------+--------+-------------------+-----+---------------+-----------------+----------+--------+-------------+-----------+-------+----------+-----------+--------+---------+-------------------+\n",
            "|                 LAX|[2020-01-17T13:10...|           QR|      [, 13, 52, 60]|                   DOH|[, 1021, 985,, 10...|[77L, 77L, A7-BBA]|  0|2020-01-17T13:10:...|2020-01-17 13:10:00|2020-01-17|  13|    10|         3|        6|                      0|                       13|                       52|                         60|       125|                    77L|                       77L|        0|           0|               1021|                  985|                     0|                     10|            18|         2034|              51.24|      0.64|   46.86|    0.85|partly-cloudy-night|289.0|         7.0E-4|             0.01|      rain|  1020.6|Mostly Cloudy|      51.24|      0|      10.0|        323|    6.25|     4.13|2020-01-17 13:00:00|\n",
            "|                 LAX|[2020-01-17T13:15...|           QF|[205, 247, 226, 240]|                   SYD|[, 763, 830, 57, ...|[388, 388, VH-OQJ]|  1|2020-01-17T13:15:...|2020-01-17 13:15:00|2020-01-17|  13|    15|         3|        6|                    205|                      247|                      226|                        240|       918|                    388|                       388|        0|           0|                763|                  830|                    57|                     10|            24|         1684|              51.24|      0.64|   46.86|    0.85|partly-cloudy-night|289.0|         7.0E-4|             0.01|      rain|  1020.6|Mostly Cloudy|      51.24|      0|      10.0|        323|    6.25|     4.13|2020-01-17 13:00:00|\n",
            "|                 LAX|[2020-01-17T13:50...|           SU|          [14, 23,,]|                   SVO|[, 745, 770, 15, ...|[332, 332, VQ-BBE]|  2|2020-01-17T13:50:...|2020-01-17 13:50:00|2020-01-17|  13|    50|         3|        6|                     14|                       23|                        0|                          0|        37|                    332|                       332|        0|           0|                745|                  770|                    15|                     10|            23|         1563|              51.24|      0.64|   46.86|    0.85|partly-cloudy-night|289.0|         7.0E-4|             0.01|      rain|  1020.6|Mostly Cloudy|      51.24|      0|      10.0|        323|    6.25|     4.13|2020-01-17 13:00:00|\n",
            "|                 LAX|[2020-01-17T14:00...|           NZ|       [, 7, 17, 25]|                   AKL|[, 681, 725, 34, ...|[77W, 77W, ZK-OKS]|  3|2020-01-17T14:00:...|2020-01-17 14:00:00|2020-01-17|  14|     0|         3|        6|                      0|                        7|                       17|                         25|        49|                    77W|                       77W|        0|           0|                681|                  725|                    34|                     10|            18|         1468|              50.88|      0.55|    46.3|    0.84|partly-cloudy-night|284.7|            0.0|              0.0|      null|  1021.3|Partly Cloudy|      50.88|      0|      10.0|        338|    5.54|     5.06|2020-01-17 14:00:00|\n",
            "|                 LAX|[2020-01-17T14:40...|           AA|               [,,,]|                   PEK|[, 683, 730, 10, ...|[788, 788, N813AN]|  4|2020-01-17T14:40:...|2020-01-17 14:40:00|2020-01-17|  14|    40|         3|        6|                      0|                        0|                        0|                          0|         0|                    788|                       788|        0|           0|                683|                  730|                    10|                     37|            22|         1482|              50.88|      0.55|    46.3|    0.84|partly-cloudy-night|284.7|            0.0|              0.0|      null|  1021.3|Partly Cloudy|      50.88|      0|      10.0|        338|    5.54|     5.06|2020-01-17 14:00:00|\n",
            "+--------------------+--------------------+-------------+--------------------+----------------------+--------------------+------------------+---+--------------------+-------------------+----------+----+------+----------+---------+-----------------------+-------------------------+-------------------------+---------------------------+----------+-----------------------+--------------------------+---------+------------+-------------------+---------------------+----------------------+-----------------------+--------------+-------------+-------------------+----------+--------+--------+-------------------+-----+---------------+-----------------+----------+--------+-------------+-----------+-------+----------+-----------+--------+---------+-------------------+\n",
            "only showing top 5 rows\n",
            "\n"
          ],
          "name": "stdout"
        }
      ]
    },
    {
      "cell_type": "code",
      "metadata": {
        "id": "8If0_nijHk5E",
        "colab_type": "code",
        "outputId": "593f022e-59c2-4c72-c641-ae6a8d8d5e06",
        "colab": {
          "base_uri": "https://localhost:8080/",
          "height": 232
        }
      },
      "source": [
        "df_dep_wthr = df_dep_fmtd.join(df_weath, (col('date')==col('w_date')) & (col('hour')==col('w_hour')), how='inner')\n",
        "df_dep_wthr = df_dep_wthr.drop('time', 'w_date', 'w_hour')\n",
        "df_dep_wthr.show(5)"
      ],
      "execution_count": 23,
      "outputs": [
        {
          "output_type": "stream",
          "text": [
            "+--------------------+--------------------+-------------+----------------+----------------------+-----------------+------------------+---+--------------------+-------------------+----------+----+------+----------+---------+-----------------------+-------------------------+-------------------------+---------------------------+----------+-----------------------+--------------------------+---------+-------------------+---------------------+----------------------+-----------------------+-------------+-------------------+----------+--------+--------+-------------------+-----+---------------+-----------------+----------+--------+-------------+-----------+-------+----------+-----------+--------+---------+-------------------+\n",
            "|arrivalAirportFsCode|         arrivalDate|carrierFsCode|          delays|departureAirportFsCode|  flightDurations|   flightEquipment| id|           localDate|     localTimeStamp|      date|hour|minute|weekOfYear|dayOfWeek|arrivalGateDelayMinutes|arrivalRunwayDelayMinutes|departureGateDelayMinutes|departureRunwayDelayMinutes|totalDelay|actualEquipmentIataCode|scheduledEquipmentIataCode|eqChanged|scheduledAirMinutes|scheduledBlockMinutes|scheduledTaxiInMinutes|scheduledTaxiOutMinutes|totalDuration|apparentTemperature|cloudCover|dewPoint|humidity|               icon|ozone|precipIntensity|precipProbability|precipType|pressure|      summary|temperature|uvIndex|visibility|windBearing|windGust|windSpeed|             f_time|\n",
            "+--------------------+--------------------+-------------+----------------+----------------------+-----------------+------------------+---+--------------------+-------------------+----------+----+------+----------+---------+-----------------------+-------------------------+-------------------------+---------------------------+----------+-----------------------+--------------------------+---------+-------------------+---------------------+----------------------+-----------------------+-------------+-------------------+----------+--------+--------+-------------------+-----+---------------+-----------------+----------+--------+-------------+-----------+-------+----------+-----------+--------+---------+-------------------+\n",
            "|                 DFW|[2020-01-17T15:56...|           NK|           [,,,]|                   LAX| [151, 181,, 383]|       [32S, 32A,]|  0|2020-01-17T15:56:...|2020-01-17 15:56:00|2020-01-17|  15|    56|         3|        6|                      0|                        0|                        0|                          0|         0|                    32S|                       32A|        1|                151|                  181|                     0|                    383|          715|              50.47|      0.56|   45.36|    0.83|partly-cloudy-night|281.3|         4.0E-4|             0.01|      rain|  1021.9|Partly Cloudy|      50.47|      0|      10.0|        345|    4.52|      1.1|2020-01-17 15:00:00|\n",
            "|                 VNY|[2020-01-17T14:12...|          JTL|           [,,,]|                   LAX|       [12,,, 30]|    [GR2,, N990JT]|  1|2020-01-17T14:12:...|2020-01-17 14:12:00|2020-01-17|  14|    12|         3|        6|                      0|                        0|                        0|                          0|         0|                    GR2|                      null|        1|                 12|                    0|                     0|                     30|           42|              50.88|      0.55|    46.3|    0.84|partly-cloudy-night|284.7|            0.0|              0.0|      null|  1021.3|Partly Cloudy|      50.88|      0|      10.0|        338|    5.54|     5.06|2020-01-17 14:00:00|\n",
            "|                 SMF|[2020-01-17T15:00...|           WN|   [20,, 20, 15]|                   LAX|    [62, 90,, 31]|[73W, 73W, N711HK]|  2|2020-01-17T15:00:...|2020-01-17 15:00:00|2020-01-17|  15|     0|         3|        6|                     20|                        0|                       20|                         15|        55|                    73W|                       73W|        0|                 62|                   90|                     0|                     31|          183|              50.47|      0.56|   45.36|    0.83|partly-cloudy-night|281.3|         4.0E-4|             0.01|      rain|  1021.9|Partly Cloudy|      50.47|      0|      10.0|        345|    4.52|      1.1|2020-01-17 15:00:00|\n",
            "|                 AUS|[2020-01-17T18:29...|           AA|[25, 24, 25, 25]|                   LAX|[152, 174, 6, 16]|[32B, 321, N134AN]|  3|2020-01-17T18:29:...|2020-01-17 18:29:00|2020-01-17|  18|    29|         3|        6|                     25|                       24|                       25|                         25|        99|                    32B|                       321|        1|                152|                  174|                     6|                     16|          348|              55.01|      0.41|   46.17|    0.72|  partly-cloudy-day|275.9|            0.0|              0.0|      null|  1024.2|Partly Cloudy|      55.01|      2|      10.0|         39|    5.51|     3.48|2020-01-17 18:00:00|\n",
            "|                 SAN|[2020-01-17T14:37...|           OO|           [,,,]|                   LAX|  [29, 54, 3, 22]|[CR7, CR7, N732SK]|  4|2020-01-17T14:37:...|2020-01-17 14:37:00|2020-01-17|  14|    37|         3|        6|                      0|                        0|                        0|                          0|         0|                    CR7|                       CR7|        0|                 29|                   54|                     3|                     22|          108|              50.88|      0.55|    46.3|    0.84|partly-cloudy-night|284.7|            0.0|              0.0|      null|  1021.3|Partly Cloudy|      50.88|      0|      10.0|        338|    5.54|     5.06|2020-01-17 14:00:00|\n",
            "+--------------------+--------------------+-------------+----------------+----------------------+-----------------+------------------+---+--------------------+-------------------+----------+----+------+----------+---------+-----------------------+-------------------------+-------------------------+---------------------------+----------+-----------------------+--------------------------+---------+-------------------+---------------------+----------------------+-----------------------+-------------+-------------------+----------+--------+--------+-------------------+-----+---------------+-----------------+----------+--------+-------------+-----------+-------+----------+-----------+--------+---------+-------------------+\n",
            "only showing top 5 rows\n",
            "\n"
          ],
          "name": "stdout"
        }
      ]
    },
    {
      "cell_type": "markdown",
      "metadata": {
        "id": "CUhGyctlXTY9",
        "colab_type": "text"
      },
      "source": [
        "Next, I think I will select only the feature and target columns."
      ]
    },
    {
      "cell_type": "code",
      "metadata": {
        "id": "cSofB4KIJ9Pa",
        "colab_type": "code",
        "outputId": "7f4a1660-11f0-4021-9107-43a8ae2ab892",
        "colab": {
          "base_uri": "https://localhost:8080/",
          "height": 232
        }
      },
      "source": [
        "df_arr_final = df_arr_wthr.drop('arrivalDate', 'delays', 'flightDurations', 'flightEquipment', \n",
        "                               'localDate', 'localTimeStamp', 'icon', 'f_time')\n",
        "df_arr_final.show(5)"
      ],
      "execution_count": 24,
      "outputs": [
        {
          "output_type": "stream",
          "text": [
            "+--------------------+-------------+----------------------+---+----------+----+------+----------+---------+-----------------------+-------------------------+-------------------------+---------------------------+----------+-----------------------+--------------------------+---------+------------+-------------------+---------------------+----------------------+-----------------------+--------------+-------------+-------------------+----------+--------+--------+-----+---------------+-----------------+----------+--------+-------------+-----------+-------+----------+-----------+--------+---------+\n",
            "|arrivalAirportFsCode|carrierFsCode|departureAirportFsCode| id|      date|hour|minute|weekOfYear|dayOfWeek|arrivalGateDelayMinutes|arrivalRunwayDelayMinutes|departureGateDelayMinutes|departureRunwayDelayMinutes|totalDelay|actualEquipmentIataCode|scheduledEquipmentIataCode|eqChanged|blockMinutes|scheduledAirMinutes|scheduledBlockMinutes|scheduledTaxiInMinutes|scheduledTaxiOutMinutes|taxiOutMinutes|totalDuration|apparentTemperature|cloudCover|dewPoint|humidity|ozone|precipIntensity|precipProbability|precipType|pressure|      summary|temperature|uvIndex|visibility|windBearing|windGust|windSpeed|\n",
            "+--------------------+-------------+----------------------+---+----------+----+------+----------+---------+-----------------------+-------------------------+-------------------------+---------------------------+----------+-----------------------+--------------------------+---------+------------+-------------------+---------------------+----------------------+-----------------------+--------------+-------------+-------------------+----------+--------+--------+-----+---------------+-----------------+----------+--------+-------------+-----------+-------+----------+-----------+--------+---------+\n",
            "|                 LAX|           QR|                   DOH|  0|2020-01-17|  13|    10|         3|        6|                      0|                       13|                       52|                         60|       125|                    77L|                       77L|        0|           0|               1021|                  985|                     0|                     10|            18|         2034|              51.24|      0.64|   46.86|    0.85|289.0|         7.0E-4|             0.01|      rain|  1020.6|Mostly Cloudy|      51.24|      0|      10.0|        323|    6.25|     4.13|\n",
            "|                 LAX|           QF|                   SYD|  1|2020-01-17|  13|    15|         3|        6|                    205|                      247|                      226|                        240|       918|                    388|                       388|        0|           0|                763|                  830|                    57|                     10|            24|         1684|              51.24|      0.64|   46.86|    0.85|289.0|         7.0E-4|             0.01|      rain|  1020.6|Mostly Cloudy|      51.24|      0|      10.0|        323|    6.25|     4.13|\n",
            "|                 LAX|           SU|                   SVO|  2|2020-01-17|  13|    50|         3|        6|                     14|                       23|                        0|                          0|        37|                    332|                       332|        0|           0|                745|                  770|                    15|                     10|            23|         1563|              51.24|      0.64|   46.86|    0.85|289.0|         7.0E-4|             0.01|      rain|  1020.6|Mostly Cloudy|      51.24|      0|      10.0|        323|    6.25|     4.13|\n",
            "|                 LAX|           NZ|                   AKL|  3|2020-01-17|  14|     0|         3|        6|                      0|                        7|                       17|                         25|        49|                    77W|                       77W|        0|           0|                681|                  725|                    34|                     10|            18|         1468|              50.88|      0.55|    46.3|    0.84|284.7|            0.0|              0.0|      null|  1021.3|Partly Cloudy|      50.88|      0|      10.0|        338|    5.54|     5.06|\n",
            "|                 LAX|           AA|                   PEK|  4|2020-01-17|  14|    40|         3|        6|                      0|                        0|                        0|                          0|         0|                    788|                       788|        0|           0|                683|                  730|                    10|                     37|            22|         1482|              50.88|      0.55|    46.3|    0.84|284.7|            0.0|              0.0|      null|  1021.3|Partly Cloudy|      50.88|      0|      10.0|        338|    5.54|     5.06|\n",
            "+--------------------+-------------+----------------------+---+----------+----+------+----------+---------+-----------------------+-------------------------+-------------------------+---------------------------+----------+-----------------------+--------------------------+---------+------------+-------------------+---------------------+----------------------+-----------------------+--------------+-------------+-------------------+----------+--------+--------+-----+---------------+-----------------+----------+--------+-------------+-----------+-------+----------+-----------+--------+---------+\n",
            "only showing top 5 rows\n",
            "\n"
          ],
          "name": "stdout"
        }
      ]
    },
    {
      "cell_type": "code",
      "metadata": {
        "id": "qt_y4sfWL1Un",
        "colab_type": "code",
        "outputId": "38f0d35b-57c6-4ef2-e3dd-977ef7c64749",
        "colab": {
          "base_uri": "https://localhost:8080/",
          "height": 232
        }
      },
      "source": [
        "# rinse and repeat for the departing flights\n",
        "df_dep_final = df_dep_wthr.drop('arrivalDate', 'delays', 'flightDurations', 'flightEquipment',\n",
        "                                'localDate', 'localTimeStamp', 'icon', 'f_time')\n",
        "df_dep_final.show(5)"
      ],
      "execution_count": 25,
      "outputs": [
        {
          "output_type": "stream",
          "text": [
            "+--------------------+-------------+----------------------+---+----------+----+------+----------+---------+-----------------------+-------------------------+-------------------------+---------------------------+----------+-----------------------+--------------------------+---------+-------------------+---------------------+----------------------+-----------------------+-------------+-------------------+----------+--------+--------+-----+---------------+-----------------+----------+--------+-------------+-----------+-------+----------+-----------+--------+---------+\n",
            "|arrivalAirportFsCode|carrierFsCode|departureAirportFsCode| id|      date|hour|minute|weekOfYear|dayOfWeek|arrivalGateDelayMinutes|arrivalRunwayDelayMinutes|departureGateDelayMinutes|departureRunwayDelayMinutes|totalDelay|actualEquipmentIataCode|scheduledEquipmentIataCode|eqChanged|scheduledAirMinutes|scheduledBlockMinutes|scheduledTaxiInMinutes|scheduledTaxiOutMinutes|totalDuration|apparentTemperature|cloudCover|dewPoint|humidity|ozone|precipIntensity|precipProbability|precipType|pressure|      summary|temperature|uvIndex|visibility|windBearing|windGust|windSpeed|\n",
            "+--------------------+-------------+----------------------+---+----------+----+------+----------+---------+-----------------------+-------------------------+-------------------------+---------------------------+----------+-----------------------+--------------------------+---------+-------------------+---------------------+----------------------+-----------------------+-------------+-------------------+----------+--------+--------+-----+---------------+-----------------+----------+--------+-------------+-----------+-------+----------+-----------+--------+---------+\n",
            "|                 DFW|           NK|                   LAX|  0|2020-01-17|  15|    56|         3|        6|                      0|                        0|                        0|                          0|         0|                    32S|                       32A|        1|                151|                  181|                     0|                    383|          715|              50.47|      0.56|   45.36|    0.83|281.3|         4.0E-4|             0.01|      rain|  1021.9|Partly Cloudy|      50.47|      0|      10.0|        345|    4.52|      1.1|\n",
            "|                 VNY|          JTL|                   LAX|  1|2020-01-17|  14|    12|         3|        6|                      0|                        0|                        0|                          0|         0|                    GR2|                      null|        1|                 12|                    0|                     0|                     30|           42|              50.88|      0.55|    46.3|    0.84|284.7|            0.0|              0.0|      null|  1021.3|Partly Cloudy|      50.88|      0|      10.0|        338|    5.54|     5.06|\n",
            "|                 SMF|           WN|                   LAX|  2|2020-01-17|  15|     0|         3|        6|                     20|                        0|                       20|                         15|        55|                    73W|                       73W|        0|                 62|                   90|                     0|                     31|          183|              50.47|      0.56|   45.36|    0.83|281.3|         4.0E-4|             0.01|      rain|  1021.9|Partly Cloudy|      50.47|      0|      10.0|        345|    4.52|      1.1|\n",
            "|                 AUS|           AA|                   LAX|  3|2020-01-17|  18|    29|         3|        6|                     25|                       24|                       25|                         25|        99|                    32B|                       321|        1|                152|                  174|                     6|                     16|          348|              55.01|      0.41|   46.17|    0.72|275.9|            0.0|              0.0|      null|  1024.2|Partly Cloudy|      55.01|      2|      10.0|         39|    5.51|     3.48|\n",
            "|                 SAN|           OO|                   LAX|  4|2020-01-17|  14|    37|         3|        6|                      0|                        0|                        0|                          0|         0|                    CR7|                       CR7|        0|                 29|                   54|                     3|                     22|          108|              50.88|      0.55|    46.3|    0.84|284.7|            0.0|              0.0|      null|  1021.3|Partly Cloudy|      50.88|      0|      10.0|        338|    5.54|     5.06|\n",
            "+--------------------+-------------+----------------------+---+----------+----+------+----------+---------+-----------------------+-------------------------+-------------------------+---------------------------+----------+-----------------------+--------------------------+---------+-------------------+---------------------+----------------------+-----------------------+-------------+-------------------+----------+--------+--------+-----+---------------+-----------------+----------+--------+-------------+-----------+-------+----------+-----------+--------+---------+\n",
            "only showing top 5 rows\n",
            "\n"
          ],
          "name": "stdout"
        }
      ]
    },
    {
      "cell_type": "markdown",
      "metadata": {
        "id": "LQkpyl7xCk0E",
        "colab_type": "text"
      },
      "source": [
        "While we have the columns narrowed down, we still have a long way to go to be ready to build a model. Since we will be using linear regression as one of the methods, we have to encode all the categorical variables."
      ]
    },
    {
      "cell_type": "code",
      "metadata": {
        "id": "qou6ZcdiMnrh",
        "colab_type": "code",
        "outputId": "5acdb66a-18c1-4ee0-bb5f-faf0a1837946",
        "colab": {
          "base_uri": "https://localhost:8080/",
          "height": 54
        }
      },
      "source": [
        "# let's first create a dictionary of all the carriers present in the dataframe\n",
        "# get unique values from column\n",
        "unique_airlines = df_arr_final.select('carrierFsCode').distinct()\n",
        "\n",
        "# make a list of all airlines\n",
        "airline_list = [row.carrierFsCode for row in unique_airlines.collect()]\n",
        "\n",
        "# create a random sampling of integer ids\n",
        "random_codes = random.sample(range(1000), len(airline_list))\n",
        "\n",
        "# assign each random int id to an airline\n",
        "airline_dict = dict(zip(airline_list, random_codes))\n",
        "print(airline_dict)\n"
      ],
      "execution_count": 26,
      "outputs": [
        {
          "output_type": "stream",
          "text": [
            "{'XOJ': 33, 'CI': 175, 'BAI': 324, 'UA': 370, 'NK': 814, 'AA': 951, 'AV': 817, 'QF': 39, 'CZ': 586, 'B6': 530, 'CX': 691, 'NH': 715, 'CV': 284, 'SU': 44, 'LX': 622, 'DL': 2, 'CA': 1, 'MW': 491, 'BR': 665, 'OO': 637, 'F9': 726, 'VB': 23, 'LH': 876, 'CM': 152, 'Y4': 335, 'VS': 42, 'HA': 694, 'BA': 840, 'LP': 188, 'EI': 465, 'WS': 97, 'DI*': 209, 'LO': 972, 'MU': 696, '5X': 581, 'G4': 341, 'MF': 227, 'NZ': 96, 'CP': 139, 'QR': 824, 'OZ': 54, 'KE': 879, '1I': 785, 'AS': 274, 'AC': 572, 'QX': 473, 'K4': 931, 'TK': 747, 'PR': 280, 'TA': 907, 'SQ': 801, 'AF': 926, 'WN': 203, 'L1E': 702}\n"
          ],
          "name": "stdout"
        }
      ]
    },
    {
      "cell_type": "code",
      "metadata": {
        "id": "5VJg9jm9j2vO",
        "colab_type": "code",
        "colab": {
          "base_uri": "https://localhost:8080/",
          "height": 34
        },
        "outputId": "a7fb289d-2f46-476e-d4f6-5f2aaf523ed1"
      },
      "source": [
        "total_flts = df_arr_final.count()\n",
        "unique_from_stn = df_arr_final.select('departureAirportFsCode').distinct()\n",
        "from_stn_total = unique_from_stn.count()\n",
        "total_alines = len(airline_list)\n",
        "arr_airpt = df_arr_final.first().arrivalAirportFsCode\n",
        "\n",
        "print(f'There are {total_flts} flights from {from_stn_total} different stations operated by {total_alines} different airlines arriving at {arr_airpt} today.')"
      ],
      "execution_count": 27,
      "outputs": [
        {
          "output_type": "stream",
          "text": [
            "There are 337 flights from 123 different stations operated by 54 different airlines arriving at LAX today.\n"
          ],
          "name": "stdout"
        }
      ]
    },
    {
      "cell_type": "markdown",
      "metadata": {
        "id": "8ZFSDrSGR6Rx",
        "colab_type": "text"
      },
      "source": [
        "Now that we have a dictionary, let's apply it to our dataframe."
      ]
    },
    {
      "cell_type": "code",
      "metadata": {
        "id": "eAoJGJxVHGMP",
        "colab_type": "code",
        "outputId": "8626abe2-2674-4ab8-e6b1-39772d9d46c8",
        "colab": {
          "base_uri": "https://localhost:8080/",
          "height": 232
        }
      },
      "source": [
        "map_exp = create_map([lit(x) for x in chain(*airline_dict.items())])\n",
        "\n",
        "df_arr_final = df_arr_final.withColumn('a_code', map_exp.getItem(col('carrierFsCode')))\n",
        "df_arr_final.show(5)"
      ],
      "execution_count": 28,
      "outputs": [
        {
          "output_type": "stream",
          "text": [
            "+--------------------+-------------+----------------------+---+----------+----+------+----------+---------+-----------------------+-------------------------+-------------------------+---------------------------+----------+-----------------------+--------------------------+---------+------------+-------------------+---------------------+----------------------+-----------------------+--------------+-------------+-------------------+----------+--------+--------+-----+---------------+-----------------+----------+--------+-------------+-----------+-------+----------+-----------+--------+---------+------+\n",
            "|arrivalAirportFsCode|carrierFsCode|departureAirportFsCode| id|      date|hour|minute|weekOfYear|dayOfWeek|arrivalGateDelayMinutes|arrivalRunwayDelayMinutes|departureGateDelayMinutes|departureRunwayDelayMinutes|totalDelay|actualEquipmentIataCode|scheduledEquipmentIataCode|eqChanged|blockMinutes|scheduledAirMinutes|scheduledBlockMinutes|scheduledTaxiInMinutes|scheduledTaxiOutMinutes|taxiOutMinutes|totalDuration|apparentTemperature|cloudCover|dewPoint|humidity|ozone|precipIntensity|precipProbability|precipType|pressure|      summary|temperature|uvIndex|visibility|windBearing|windGust|windSpeed|a_code|\n",
            "+--------------------+-------------+----------------------+---+----------+----+------+----------+---------+-----------------------+-------------------------+-------------------------+---------------------------+----------+-----------------------+--------------------------+---------+------------+-------------------+---------------------+----------------------+-----------------------+--------------+-------------+-------------------+----------+--------+--------+-----+---------------+-----------------+----------+--------+-------------+-----------+-------+----------+-----------+--------+---------+------+\n",
            "|                 LAX|           QR|                   DOH|  0|2020-01-17|  13|    10|         3|        6|                      0|                       13|                       52|                         60|       125|                    77L|                       77L|        0|           0|               1021|                  985|                     0|                     10|            18|         2034|              51.24|      0.64|   46.86|    0.85|289.0|         7.0E-4|             0.01|      rain|  1020.6|Mostly Cloudy|      51.24|      0|      10.0|        323|    6.25|     4.13|   824|\n",
            "|                 LAX|           QF|                   SYD|  1|2020-01-17|  13|    15|         3|        6|                    205|                      247|                      226|                        240|       918|                    388|                       388|        0|           0|                763|                  830|                    57|                     10|            24|         1684|              51.24|      0.64|   46.86|    0.85|289.0|         7.0E-4|             0.01|      rain|  1020.6|Mostly Cloudy|      51.24|      0|      10.0|        323|    6.25|     4.13|    39|\n",
            "|                 LAX|           SU|                   SVO|  2|2020-01-17|  13|    50|         3|        6|                     14|                       23|                        0|                          0|        37|                    332|                       332|        0|           0|                745|                  770|                    15|                     10|            23|         1563|              51.24|      0.64|   46.86|    0.85|289.0|         7.0E-4|             0.01|      rain|  1020.6|Mostly Cloudy|      51.24|      0|      10.0|        323|    6.25|     4.13|    44|\n",
            "|                 LAX|           NZ|                   AKL|  3|2020-01-17|  14|     0|         3|        6|                      0|                        7|                       17|                         25|        49|                    77W|                       77W|        0|           0|                681|                  725|                    34|                     10|            18|         1468|              50.88|      0.55|    46.3|    0.84|284.7|            0.0|              0.0|      null|  1021.3|Partly Cloudy|      50.88|      0|      10.0|        338|    5.54|     5.06|    96|\n",
            "|                 LAX|           AA|                   PEK|  4|2020-01-17|  14|    40|         3|        6|                      0|                        0|                        0|                          0|         0|                    788|                       788|        0|           0|                683|                  730|                    10|                     37|            22|         1482|              50.88|      0.55|    46.3|    0.84|284.7|            0.0|              0.0|      null|  1021.3|Partly Cloudy|      50.88|      0|      10.0|        338|    5.54|     5.06|   951|\n",
            "+--------------------+-------------+----------------------+---+----------+----+------+----------+---------+-----------------------+-------------------------+-------------------------+---------------------------+----------+-----------------------+--------------------------+---------+------------+-------------------+---------------------+----------------------+-----------------------+--------------+-------------+-------------------+----------+--------+--------+-----+---------------+-----------------+----------+--------+-------------+-----------+-------+----------+-----------+--------+---------+------+\n",
            "only showing top 5 rows\n",
            "\n"
          ],
          "name": "stdout"
        }
      ]
    },
    {
      "cell_type": "markdown",
      "metadata": {
        "id": "-VtZUbpzN5wm",
        "colab_type": "text"
      },
      "source": [
        "Looking through the dataframe, we have a couple more columns that needs to go under the same process to encode."
      ]
    },
    {
      "cell_type": "code",
      "metadata": {
        "id": "iInHX0tLSrjR",
        "colab_type": "code",
        "colab": {
          "base_uri": "https://localhost:8080/",
          "height": 54
        },
        "outputId": "08054ef4-c667-4d54-aaa7-aeb4f24a82eb"
      },
      "source": [
        "# originating stations\n",
        "from_stn_list = [row.departureAirportFsCode for row in unique_from_stn.collect()]\n",
        "random_codes_2 = random.sample(range(1001, 2000), len(from_stn_list))\n",
        "from_stn_dict = dict(zip(from_stn_list, random_codes_2))\n",
        "print(from_stn_dict)"
      ],
      "execution_count": 29,
      "outputs": [
        {
          "output_type": "stream",
          "text": [
            "{'MSY': 1549, 'GEG': 1158, 'EUG': 1233, 'OAK': 1969, 'BNE': 1988, 'MSN': 1620, 'DCA': 1371, 'QRO': 1602, 'RDM': 1765, 'PEK': 1996, 'CMH': 1447, 'CDG': 1814, 'SIN': 1907, 'IAH': 1077, 'MZT': 1372, 'SYD': 1446, 'HNL': 1432, 'SJC': 1001, 'BUF': 1473, 'PVG': 1673, 'AUS': 1197, 'MUC': 1985, 'MEX': 1433, 'ZIH': 1535, 'RNO': 1016, 'JAC': 1048, 'IPL': 1470, 'TUL': 1228, 'BOS': 1414, 'EWR': 1383, 'DOH': 1205, 'LAS': 1776, 'YEG': 1591, 'LIR': 1080, 'BCN': 1756, 'XNA': 1617, 'YYZ': 1887, 'DEN': 1942, 'BJX': 1904, 'IAD': 1603, 'BOI': 1650, 'SBA': 1588, 'SJD': 1772, 'SEA': 1373, 'MNL': 1570, 'ICN': 1151, 'MCI': 1938, 'WAW': 1670, 'CLT': 1567, 'BNA': 1849, 'PAE': 1261, 'YVR': 1469, 'CUN': 1921, 'ABQ': 1225, 'SVO': 1779, 'SDF': 1890, 'MEL': 1923, 'SCK': 1063, 'DAL': 1721, 'MRY': 1292, 'PDX': 1154, 'PVR': 1978, 'LGW': 1801, 'MIA': 1764, 'MFR': 1192, 'LHR': 1892, 'DGO': 1838, 'PRC': 1084, 'SAL': 1880, 'OKC': 1940, 'YYC': 1496, 'SMF': 1889, 'PTY': 1013, 'PHX': 1272, 'STL': 1323, 'DFW': 1632, 'MMH': 1994, 'TEB': 1633, 'HDN': 1991, 'EGE': 1285, 'SWF': 1462, 'SUN': 1676, 'SFO': 1826, 'MEM': 1184, 'ELP': 1750, 'CAN': 1848, 'ATL': 1691, 'TPE': 1683, 'OMA': 1412, 'TAO': 1559, 'DUB': 1613, 'AKL': 1150, 'FAT': 1215, 'ZRH': 1360, 'ORD': 1845, 'HND': 1187, 'TRM': 1927, 'TUS': 1537, 'MDW': 1018, 'COS': 1417, 'LIM': 1363, 'IND': 1699, 'HKG': 1461, 'VNY': 1377, 'DTW': 1358, 'BOG': 1276, 'HOU': 1081, 'MCE': 1402, 'STS': 1678, 'MSP': 1149, 'LAX': 1665, 'MCO': 1829, 'SAN': 1046, 'BZN': 1583, 'PPT': 1091, 'JFK': 1712, 'GDL': 1296, 'PHL': 1143, 'OGG': 1095, 'ISL': 1898, 'SAT': 1028, 'SLC': 1333, 'ASE': 1100}\n"
          ],
          "name": "stdout"
        }
      ]
    },
    {
      "cell_type": "code",
      "metadata": {
        "id": "-YoDvbrkTOJl",
        "colab_type": "code",
        "colab": {
          "base_uri": "https://localhost:8080/",
          "height": 72
        },
        "outputId": "2cf38fc5-7ec2-4b63-a094-e9afc34de93f"
      },
      "source": [
        "# aircrafts(ac)\n",
        "ac_actual = df_arr_final.select('actualEquipmentIataCode').na.fill('None').distinct()\n",
        "ac_sched = df_arr_final.select('scheduledEquipmentIataCode').na.fill('None').distinct()\n",
        "\n",
        "ac_actual_list = [row.actualEquipmentIataCode for row in ac_actual.collect()]\n",
        "ac_sched_list = [row.scheduledEquipmentIataCode for row in ac_sched.collect()]\n",
        "\n",
        "ac_combo_list = list(set(ac_actual_list + ac_sched_list))\n",
        "\n",
        "random_codes_3 = random.sample(range(2001, 3000), len(ac_combo_list))\n",
        "\n",
        "ac_dict = dict(zip(ac_combo_list, random_codes_3))\n",
        "print(ac_dict)\n",
        "\n",
        "print(f'A total of {len(ac_combo_list)} different types of aircraft operating today.')"
      ],
      "execution_count": 40,
      "outputs": [
        {
          "output_type": "stream",
          "text": [
            "{'75W': 2110, '32S': 2472, '77L': 2313, 'E75': 2309, '773': 2428, '32B': 2016, '74F': 2026, '319': 2666, '747': 2397, '788': 2204, '74Y': 2762, 'CRJ': 2240, '772': 2903, '346': 2211, '77F': 2794, '330': 2327, 'CNA': 2590, 'CR7': 2854, '74N': 2156, '7S8': 2308, '32N': 2886, '738': 2710, '752': 2368, 'CNJ': 2533, '388': 2352, '320': 2457, '757': 2285, '77X': 2917, 'PL2': 2600, '321': 2611, '77W': 2527, '753': 2415, 'CN2': 2098, '31B': 2828, '76V': 2459, '744': 2678, '741': 2116, '739': 2816, '32Q': 2597, '781': 2284, '789': 2785, '73W': 2001, '76W': 2696, '359': 2817, '75D': 2676, '73R': 2323, '73H': 2637, '73J': 2471, '332': 2962, '73G': 2974, '75T': 2387, '763': 2629, 'E7W': 2665, '32A': 2005, 'CJL': 2229, 'CR2': 2920, 'None': 2484}\n",
            "A total of 57 different types of aircraft operating today.\n"
          ],
          "name": "stdout"
        }
      ]
    },
    {
      "cell_type": "code",
      "metadata": {
        "id": "gT7MM5YDWHwB",
        "colab_type": "code",
        "colab": {
          "base_uri": "https://localhost:8080/",
          "height": 141
        },
        "outputId": "6aecc21c-c6e8-4f6a-e8ec-41ee3bcde374"
      },
      "source": [
        "# precipitation\n",
        "df_arr_final.select('precipType').distinct().show()\n"
      ],
      "execution_count": 33,
      "outputs": [
        {
          "output_type": "stream",
          "text": [
            "+----------+\n",
            "|precipType|\n",
            "+----------+\n",
            "|      null|\n",
            "|      rain|\n",
            "+----------+\n",
            "\n"
          ],
          "name": "stdout"
        }
      ]
    },
    {
      "cell_type": "markdown",
      "metadata": {
        "id": "UKQkx0-Sz-Qm",
        "colab_type": "text"
      },
      "source": [
        "It looks like we can just drop this column altogether."
      ]
    },
    {
      "cell_type": "code",
      "metadata": {
        "id": "-QNfPikMaJIr",
        "colab_type": "code",
        "colab": {}
      },
      "source": [
        "df_arr_final = df_arr_final.drop('precipType', 'summary')"
      ],
      "execution_count": 0,
      "outputs": []
    },
    {
      "cell_type": "code",
      "metadata": {
        "id": "mzyt5XH20oeS",
        "colab_type": "code",
        "colab": {
          "base_uri": "https://localhost:8080/",
          "height": 161
        },
        "outputId": "87c9b405-5263-4aec-914e-45e1be4a688e"
      },
      "source": [
        "df_arr_final.show(1)"
      ],
      "execution_count": 38,
      "outputs": [
        {
          "output_type": "stream",
          "text": [
            "+--------------------+-------------+----------------------+---+----------+----+------+----------+---------+-----------------------+-------------------------+-------------------------+---------------------------+----------+-----------------------+--------------------------+---------+------------+-------------------+---------------------+----------------------+-----------------------+--------------+-------------+-------------------+----------+--------+--------+-----+---------------+-----------------+--------+-----------+-------+----------+-----------+--------+---------+------+\n",
            "|arrivalAirportFsCode|carrierFsCode|departureAirportFsCode| id|      date|hour|minute|weekOfYear|dayOfWeek|arrivalGateDelayMinutes|arrivalRunwayDelayMinutes|departureGateDelayMinutes|departureRunwayDelayMinutes|totalDelay|actualEquipmentIataCode|scheduledEquipmentIataCode|eqChanged|blockMinutes|scheduledAirMinutes|scheduledBlockMinutes|scheduledTaxiInMinutes|scheduledTaxiOutMinutes|taxiOutMinutes|totalDuration|apparentTemperature|cloudCover|dewPoint|humidity|ozone|precipIntensity|precipProbability|pressure|temperature|uvIndex|visibility|windBearing|windGust|windSpeed|a_code|\n",
            "+--------------------+-------------+----------------------+---+----------+----+------+----------+---------+-----------------------+-------------------------+-------------------------+---------------------------+----------+-----------------------+--------------------------+---------+------------+-------------------+---------------------+----------------------+-----------------------+--------------+-------------+-------------------+----------+--------+--------+-----+---------------+-----------------+--------+-----------+-------+----------+-----------+--------+---------+------+\n",
            "|                 LAX|           QR|                   DOH|  0|2020-01-17|  13|    10|         3|        6|                      0|                       13|                       52|                         60|       125|                    77L|                       77L|        0|           0|               1021|                  985|                     0|                     10|            18|         2034|              51.24|      0.64|   46.86|    0.85|289.0|         7.0E-4|             0.01|  1020.6|      51.24|      0|      10.0|        323|    6.25|     4.13|   824|\n",
            "+--------------------+-------------+----------------------+---+----------+----+------+----------+---------+-----------------------+-------------------------+-------------------------+---------------------------+----------+-----------------------+--------------------------+---------+------------+-------------------+---------------------+----------------------+-----------------------+--------------+-------------+-------------------+----------+--------+--------+-----+---------------+-----------------+--------+-----------+-------+----------+-----------+--------+---------+------+\n",
            "only showing top 1 row\n",
            "\n"
          ],
          "name": "stdout"
        }
      ]
    },
    {
      "cell_type": "code",
      "metadata": {
        "id": "JB5iXmfR2Hvx",
        "colab_type": "code",
        "colab": {}
      },
      "source": [
        "map_exp_2 = create_map([lit(x) for x in chain(*from_stn_dict.items())])\n",
        "map_exp_3 = create_map([lit(x) for x in chain(*ac_dict.items())])"
      ],
      "execution_count": 0,
      "outputs": []
    },
    {
      "cell_type": "code",
      "metadata": {
        "id": "7p9YR4mK7Eh1",
        "colab_type": "code",
        "colab": {}
      },
      "source": [
        "df_arr_final = df_arr_final.withColumn('fm_code', map_exp_2.getItem(col('departureAirportFsCode')))\n",
        "df_arr_final = df_arr_final.withColumn('aac_code', map_exp_3.getItem(col('actualEquipmentIataCode')))\n",
        "df_arr_final = df_arr_final.withColumn('sac_code', map_exp_3.getItem(col('scheduledEquipmentIataCode')))"
      ],
      "execution_count": 0,
      "outputs": []
    },
    {
      "cell_type": "code",
      "metadata": {
        "id": "yJ_dp1vj9h6j",
        "colab_type": "code",
        "colab": {
          "base_uri": "https://localhost:8080/",
          "height": 232
        },
        "outputId": "0e1ea087-85f7-4a55-b195-c4eda96c7254"
      },
      "source": [
        "df_arr_final.show(5)"
      ],
      "execution_count": 45,
      "outputs": [
        {
          "output_type": "stream",
          "text": [
            "+--------------------+-------------+----------------------+---+----------+----+------+----------+---------+-----------------------+-------------------------+-------------------------+---------------------------+----------+-----------------------+--------------------------+---------+------------+-------------------+---------------------+----------------------+-----------------------+--------------+-------------+-------------------+----------+--------+--------+-----+---------------+-----------------+--------+-----------+-------+----------+-----------+--------+---------+------+-------+--------+--------+\n",
            "|arrivalAirportFsCode|carrierFsCode|departureAirportFsCode| id|      date|hour|minute|weekOfYear|dayOfWeek|arrivalGateDelayMinutes|arrivalRunwayDelayMinutes|departureGateDelayMinutes|departureRunwayDelayMinutes|totalDelay|actualEquipmentIataCode|scheduledEquipmentIataCode|eqChanged|blockMinutes|scheduledAirMinutes|scheduledBlockMinutes|scheduledTaxiInMinutes|scheduledTaxiOutMinutes|taxiOutMinutes|totalDuration|apparentTemperature|cloudCover|dewPoint|humidity|ozone|precipIntensity|precipProbability|pressure|temperature|uvIndex|visibility|windBearing|windGust|windSpeed|a_code|fm_code|aac_code|sac_code|\n",
            "+--------------------+-------------+----------------------+---+----------+----+------+----------+---------+-----------------------+-------------------------+-------------------------+---------------------------+----------+-----------------------+--------------------------+---------+------------+-------------------+---------------------+----------------------+-----------------------+--------------+-------------+-------------------+----------+--------+--------+-----+---------------+-----------------+--------+-----------+-------+----------+-----------+--------+---------+------+-------+--------+--------+\n",
            "|                 LAX|           QR|                   DOH|  0|2020-01-17|  13|    10|         3|        6|                      0|                       13|                       52|                         60|       125|                    77L|                       77L|        0|           0|               1021|                  985|                     0|                     10|            18|         2034|              51.24|      0.64|   46.86|    0.85|289.0|         7.0E-4|             0.01|  1020.6|      51.24|      0|      10.0|        323|    6.25|     4.13|   824|   1205|    2313|    2313|\n",
            "|                 LAX|           QF|                   SYD|  1|2020-01-17|  13|    15|         3|        6|                    205|                      247|                      226|                        240|       918|                    388|                       388|        0|           0|                763|                  830|                    57|                     10|            24|         1684|              51.24|      0.64|   46.86|    0.85|289.0|         7.0E-4|             0.01|  1020.6|      51.24|      0|      10.0|        323|    6.25|     4.13|    39|   1446|    2352|    2352|\n",
            "|                 LAX|           SU|                   SVO|  2|2020-01-17|  13|    50|         3|        6|                     14|                       23|                        0|                          0|        37|                    332|                       332|        0|           0|                745|                  770|                    15|                     10|            23|         1563|              51.24|      0.64|   46.86|    0.85|289.0|         7.0E-4|             0.01|  1020.6|      51.24|      0|      10.0|        323|    6.25|     4.13|    44|   1779|    2962|    2962|\n",
            "|                 LAX|           NZ|                   AKL|  3|2020-01-17|  14|     0|         3|        6|                      0|                        7|                       17|                         25|        49|                    77W|                       77W|        0|           0|                681|                  725|                    34|                     10|            18|         1468|              50.88|      0.55|    46.3|    0.84|284.7|            0.0|              0.0|  1021.3|      50.88|      0|      10.0|        338|    5.54|     5.06|    96|   1150|    2527|    2527|\n",
            "|                 LAX|           AA|                   PEK|  4|2020-01-17|  14|    40|         3|        6|                      0|                        0|                        0|                          0|         0|                    788|                       788|        0|           0|                683|                  730|                    10|                     37|            22|         1482|              50.88|      0.55|    46.3|    0.84|284.7|            0.0|              0.0|  1021.3|      50.88|      0|      10.0|        338|    5.54|     5.06|   951|   1996|    2204|    2204|\n",
            "+--------------------+-------------+----------------------+---+----------+----+------+----------+---------+-----------------------+-------------------------+-------------------------+---------------------------+----------+-----------------------+--------------------------+---------+------------+-------------------+---------------------+----------------------+-----------------------+--------------+-------------+-------------------+----------+--------+--------+-----+---------------+-----------------+--------+-----------+-------+----------+-----------+--------+---------+------+-------+--------+--------+\n",
            "only showing top 5 rows\n",
            "\n"
          ],
          "name": "stdout"
        }
      ]
    },
    {
      "cell_type": "markdown",
      "metadata": {
        "id": "E5MTapy7-Co7",
        "colab_type": "text"
      },
      "source": [
        "Once the columns containing non-numerical values are dropped, we should finally have a dataframe we can model and predict with."
      ]
    },
    {
      "cell_type": "code",
      "metadata": {
        "id": "Ka5MPELU9zMN",
        "colab_type": "code",
        "colab": {
          "base_uri": "https://localhost:8080/",
          "height": 232
        },
        "outputId": "5b325d4b-ffa9-4930-f86c-57cc35df97ec"
      },
      "source": [
        "df_arr_num = df_arr_final.drop('arrivalAirportFsCode', 'carrierFsCode', 'departureAirportFsCode', 'date', 'id',\n",
        "                               'actualEquipmentIataCode', 'scheduledEquipmentIataCode')\n",
        "df_arr_num.show(5)"
      ],
      "execution_count": 46,
      "outputs": [
        {
          "output_type": "stream",
          "text": [
            "+----+------+----------+---------+-----------------------+-------------------------+-------------------------+---------------------------+----------+---------+------------+-------------------+---------------------+----------------------+-----------------------+--------------+-------------+-------------------+----------+--------+--------+-----+---------------+-----------------+--------+-----------+-------+----------+-----------+--------+---------+------+-------+--------+--------+\n",
            "|hour|minute|weekOfYear|dayOfWeek|arrivalGateDelayMinutes|arrivalRunwayDelayMinutes|departureGateDelayMinutes|departureRunwayDelayMinutes|totalDelay|eqChanged|blockMinutes|scheduledAirMinutes|scheduledBlockMinutes|scheduledTaxiInMinutes|scheduledTaxiOutMinutes|taxiOutMinutes|totalDuration|apparentTemperature|cloudCover|dewPoint|humidity|ozone|precipIntensity|precipProbability|pressure|temperature|uvIndex|visibility|windBearing|windGust|windSpeed|a_code|fm_code|aac_code|sac_code|\n",
            "+----+------+----------+---------+-----------------------+-------------------------+-------------------------+---------------------------+----------+---------+------------+-------------------+---------------------+----------------------+-----------------------+--------------+-------------+-------------------+----------+--------+--------+-----+---------------+-----------------+--------+-----------+-------+----------+-----------+--------+---------+------+-------+--------+--------+\n",
            "|  13|    10|         3|        6|                      0|                       13|                       52|                         60|       125|        0|           0|               1021|                  985|                     0|                     10|            18|         2034|              51.24|      0.64|   46.86|    0.85|289.0|         7.0E-4|             0.01|  1020.6|      51.24|      0|      10.0|        323|    6.25|     4.13|   824|   1205|    2313|    2313|\n",
            "|  13|    15|         3|        6|                    205|                      247|                      226|                        240|       918|        0|           0|                763|                  830|                    57|                     10|            24|         1684|              51.24|      0.64|   46.86|    0.85|289.0|         7.0E-4|             0.01|  1020.6|      51.24|      0|      10.0|        323|    6.25|     4.13|    39|   1446|    2352|    2352|\n",
            "|  13|    50|         3|        6|                     14|                       23|                        0|                          0|        37|        0|           0|                745|                  770|                    15|                     10|            23|         1563|              51.24|      0.64|   46.86|    0.85|289.0|         7.0E-4|             0.01|  1020.6|      51.24|      0|      10.0|        323|    6.25|     4.13|    44|   1779|    2962|    2962|\n",
            "|  14|     0|         3|        6|                      0|                        7|                       17|                         25|        49|        0|           0|                681|                  725|                    34|                     10|            18|         1468|              50.88|      0.55|    46.3|    0.84|284.7|            0.0|              0.0|  1021.3|      50.88|      0|      10.0|        338|    5.54|     5.06|    96|   1150|    2527|    2527|\n",
            "|  14|    40|         3|        6|                      0|                        0|                        0|                          0|         0|        0|           0|                683|                  730|                    10|                     37|            22|         1482|              50.88|      0.55|    46.3|    0.84|284.7|            0.0|              0.0|  1021.3|      50.88|      0|      10.0|        338|    5.54|     5.06|   951|   1996|    2204|    2204|\n",
            "+----+------+----------+---------+-----------------------+-------------------------+-------------------------+---------------------------+----------+---------+------------+-------------------+---------------------+----------------------+-----------------------+--------------+-------------+-------------------+----------+--------+--------+-----+---------------+-----------------+--------+-----------+-------+----------+-----------+--------+---------+------+-------+--------+--------+\n",
            "only showing top 5 rows\n",
            "\n"
          ],
          "name": "stdout"
        }
      ]
    },
    {
      "cell_type": "code",
      "metadata": {
        "id": "pgGoXIyPBM0_",
        "colab_type": "code",
        "colab": {}
      },
      "source": [
        ""
      ],
      "execution_count": 0,
      "outputs": []
    }
  ]
}