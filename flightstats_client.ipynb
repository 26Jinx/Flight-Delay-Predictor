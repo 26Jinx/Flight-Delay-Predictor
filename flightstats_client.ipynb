{
  "nbformat": 4,
  "nbformat_minor": 0,
  "metadata": {
    "colab": {
      "name": "flightstats_client.ipynb",
      "provenance": [],
      "include_colab_link": true
    },
    "kernelspec": {
      "name": "python3",
      "display_name": "Python 3"
    }
  },
  "cells": [
    {
      "cell_type": "markdown",
      "metadata": {
        "id": "view-in-github",
        "colab_type": "text"
      },
      "source": [
        "<a href=\"https://colab.research.google.com/github/PharahMain/Flight-Delay-Predictor/blob/master/flightstats_client.ipynb\" target=\"_parent\"><img src=\"https://colab.research.google.com/assets/colab-badge.svg\" alt=\"Open In Colab\"/></a>"
      ]
    },
    {
      "cell_type": "code",
      "metadata": {
        "id": "1t9wd42bcPva",
        "colab_type": "code",
        "colab": {}
      },
      "source": [
        "!apt-get install openjdk-8-jdk-headless -qq > /dev/null\n",
        "!wget -q https://www-us.apache.org/dist/spark/spark-2.4.5/spark-2.4.5-bin-hadoop2.7.tgz\n",
        "!tar xf spark-2.4.5-bin-hadoop2.7.tgz"
      ],
      "execution_count": 0,
      "outputs": []
    },
    {
      "cell_type": "code",
      "metadata": {
        "id": "TmbbxreyIa-i",
        "colab_type": "code",
        "outputId": "1d7c5d97-56bb-44f2-83ec-3009f64bc7fe",
        "colab": {
          "base_uri": "https://localhost:8080/",
          "height": 267
        }
      },
      "source": [
        "# Install spark-related depdencies for Python\n",
        "!pip install -q findspark\n",
        "!pip install pyspark"
      ],
      "execution_count": 2,
      "outputs": [
        {
          "output_type": "stream",
          "text": [
            "Collecting pyspark\n",
            "\u001b[?25l  Downloading https://files.pythonhosted.org/packages/9a/5a/271c416c1c2185b6cb0151b29a91fff6fcaed80173c8584ff6d20e46b465/pyspark-2.4.5.tar.gz (217.8MB)\n",
            "\u001b[K     |████████████████████████████████| 217.8MB 63kB/s \n",
            "\u001b[?25hCollecting py4j==0.10.7\n",
            "\u001b[?25l  Downloading https://files.pythonhosted.org/packages/e3/53/c737818eb9a7dc32a7cd4f1396e787bd94200c3997c72c1dbe028587bd76/py4j-0.10.7-py2.py3-none-any.whl (197kB)\n",
            "\u001b[K     |████████████████████████████████| 204kB 47.5MB/s \n",
            "\u001b[?25hBuilding wheels for collected packages: pyspark\n",
            "  Building wheel for pyspark (setup.py) ... \u001b[?25l\u001b[?25hdone\n",
            "  Created wheel for pyspark: filename=pyspark-2.4.5-py2.py3-none-any.whl size=218257927 sha256=c869a7d0866d94f3056134ae143333d907ea273a7a699e42790d920f3b1ab527\n",
            "  Stored in directory: /root/.cache/pip/wheels/bf/db/04/61d66a5939364e756eb1c1be4ec5bdce6e04047fc7929a3c3c\n",
            "Successfully built pyspark\n",
            "Installing collected packages: py4j, pyspark\n",
            "Successfully installed py4j-0.10.7 pyspark-2.4.5\n"
          ],
          "name": "stdout"
        }
      ]
    },
    {
      "cell_type": "code",
      "metadata": {
        "id": "VC-cF1MOJCvu",
        "colab_type": "code",
        "colab": {}
      },
      "source": [
        "# Set up required environment variables\n",
        "\n",
        "import os\n",
        "os.environ[\"JAVA_HOME\"] = \"/usr/lib/jvm/java-8-openjdk-amd64\"\n",
        "os.environ[\"SPARK_HOME\"] = \"/content/spark-2.4.5-bin-hadoop2.7\""
      ],
      "execution_count": 0,
      "outputs": []
    },
    {
      "cell_type": "code",
      "metadata": {
        "id": "Ac7IYHQAJHVA",
        "colab_type": "code",
        "outputId": "7ad967ca-106d-4a27-97bc-35ef53029632",
        "colab": {
          "base_uri": "https://localhost:8080/",
          "height": 125
        }
      },
      "source": [
        "# Point Colaboratory to Google Drive\n",
        "\n",
        "from google.colab import drive\n",
        "drive.mount('/content/gdrive')"
      ],
      "execution_count": 4,
      "outputs": [
        {
          "output_type": "stream",
          "text": [
            "Go to this URL in a browser: https://accounts.google.com/o/oauth2/auth?client_id=947318989803-6bn6qk8qdgf4n4g3pfee6491hc0brc4i.apps.googleusercontent.com&redirect_uri=urn%3aietf%3awg%3aoauth%3a2.0%3aoob&response_type=code&scope=email%20https%3a%2f%2fwww.googleapis.com%2fauth%2fdocs.test%20https%3a%2f%2fwww.googleapis.com%2fauth%2fdrive%20https%3a%2f%2fwww.googleapis.com%2fauth%2fdrive.photos.readonly%20https%3a%2f%2fwww.googleapis.com%2fauth%2fpeopleapi.readonly\n",
            "\n",
            "Enter your authorization code:\n",
            "··········\n",
            "Mounted at /content/gdrive\n"
          ],
          "name": "stdout"
        }
      ]
    },
    {
      "cell_type": "code",
      "metadata": {
        "id": "UMRIotL2JJ-k",
        "colab_type": "code",
        "colab": {}
      },
      "source": [
        "from pyspark import SparkContext\n",
        "from pyspark.sql import SparkSession\n",
        "\n",
        "from pyspark.ml import Pipeline\n",
        "from pyspark.ml.regression import LinearRegression\n",
        "from pyspark.ml.regression import RandomForestRegressor\n",
        "from pyspark.ml.evaluation import RegressionEvaluator\n",
        "\n",
        "from pyspark.sql import functions as F\n",
        "from pyspark.sql.functions import isnan, when, count, col, create_map, lit\n",
        "from pyspark.sql.functions import month, dayofweek, weekofyear, hour, minute\n",
        "from pyspark.sql.functions import monotonically_increasing_id\n",
        "from pyspark.sql.types import DateType, TimestampType\n",
        "\n",
        "from datetime import datetime, date, timedelta\n",
        "from itertools import chain\n",
        "import random\n",
        "import time"
      ],
      "execution_count": 0,
      "outputs": []
    },
    {
      "cell_type": "code",
      "metadata": {
        "id": "WU0T4_oWMK4Z",
        "colab_type": "code",
        "colab": {}
      },
      "source": [
        "#ARR_JSON_PATH = f\"/content/gdrive/My Drive/Colab Datasets/flights_data/arrivals/{date.today()}.json\"\n",
        "# for testing\n",
        "ARR_JSON_PATH = \"/content/gdrive/My Drive/Colab Datasets/flights_data/arrivals/2020-01-17.json\"\n",
        "\n",
        "#DEP_JSON_PATH = f\"/content/gdrive/My Drive/Colab Datasets/flights_data/departures/{date.today()}.json\"\n",
        "DEP_JSON_PATH = f\"/content/gdrive/My Drive/Colab Datasets/flights_data/departures/2020-01-17.json\"\n",
        "\n",
        "#WEATH_JSON_PATH = f\"/content/gdrive/My Drive/Colab Datasets/flights_data/weather/{date.today()}.json\"\n",
        "WEATH_JSON_PATH = f\"/content/gdrive/My Drive/Colab Datasets/flights_data/weather/2020-01-17.json\"\n",
        "\n",
        "APP_NAME = 'Flight Delay Predictor'\n",
        "SPARK_URL = 'local[*]'\n",
        "RANDOM_SEED = 263646\n",
        "TRAINING_DATA_RATIO = 0.7"
      ],
      "execution_count": 0,
      "outputs": []
    },
    {
      "cell_type": "code",
      "metadata": {
        "id": "fNHzaNf2iwCc",
        "colab_type": "code",
        "colab": {}
      },
      "source": [
        "spark = SparkSession.builder.appName(APP_NAME).master(SPARK_URL).getOrCreate()"
      ],
      "execution_count": 0,
      "outputs": []
    },
    {
      "cell_type": "code",
      "metadata": {
        "id": "6L0XNeJ_jahq",
        "colab_type": "code",
        "outputId": "76e1d6db-a020-4514-9244-980b3d6a0768",
        "colab": {
          "base_uri": "https://localhost:8080/",
          "height": 232
        }
      },
      "source": [
        "df_arr = spark.read.json(ARR_JSON_PATH)\n",
        "df_arr.show(5)"
      ],
      "execution_count": 8,
      "outputs": [
        {
          "output_type": "stream",
          "text": [
            "+--------------------+--------------------+--------------------+-------------+--------------------+--------------------+----------------------+--------------------+---------------------+--------------------+------------------+----------+------------+--------------------+--------------------+------+\n",
            "|    airportResources|arrivalAirportFsCode|         arrivalDate|carrierFsCode|          codeshares|              delays|departureAirportFsCode|       departureDate|divertedAirportFsCode|     flightDurations|   flightEquipment|  flightId|flightNumber|    operationalTimes|            schedule|status|\n",
            "+--------------------+--------------------+--------------------+-------------+--------------------+--------------------+----------------------+--------------------+---------------------+--------------------+------------------+----------+------------+--------------------+--------------------+------+\n",
            "|      [, TBIT,, C9,]|                 LAX|[2020-01-17T13:10...|           QR|     [[3515, UL, L]]|      [, 13, 52, 60]|                   DOH|[2020-01-17T07:45...|                 null|[, 1021, 985,, 10...|[77L, 77L, A7-BBA]|1028199581|         739|[, [2020-01-17T08...|  [[], J, , RJY, []]|     A|\n",
            "|     [, TBIT,, 8, 1]|                 LAX|[2020-01-17T13:15...|           QF|[[7328, AA, L], [...|[205, 247, 226, 240]|                   SYD|[2020-01-17T18:25...|                 null|[, 763, 830, 57, ...|[388, 388, VH-OQJ]|1028197993|          17|[, [2020-01-17T22...| [[], J, , RFJY, []]|     A|\n",
            "| [, TBIT, D6, 30, D]|                 LAX|[2020-01-17T13:50...|           SU|                  []|          [14, 23,,]|                   SVO|[2020-01-17T12:00...|                 null|[, 745, 770, 15, ...|[332, 332, VQ-BBE]|1028204787|         106|[, [2020-01-17T11...|  [[], J, , RJY, []]|     A|\n",
            "|    [, TBIT,, 18, I]|                 LAX|[2020-01-17T14:00...|           NZ|[[6091, AC, L], [...|       [, 7, 17, 25]|                   AKL|[2020-01-17T22:55...|                 null|[, 681, 725, 34, ...|[77W, 77W, ZK-OKS]|1028193159|           2|[, [2020-01-17T23...|[[[1028193174, LH...|     A|\n",
            "|[, TBIT, TBIT, 17...|                 LAX|[2020-01-17T14:40...|           AA|     [[1622, CZ, L]]|               [,,,]|                   PEK|[2020-01-17T18:30...|                 null|[, 683, 730, 10, ...|[788, 788, N813AN]|1028129626|         180|[, [2020-01-17T18...| [[], J, , RFJY, []]|     A|\n",
            "+--------------------+--------------------+--------------------+-------------+--------------------+--------------------+----------------------+--------------------+---------------------+--------------------+------------------+----------+------------+--------------------+--------------------+------+\n",
            "only showing top 5 rows\n",
            "\n"
          ],
          "name": "stdout"
        }
      ]
    },
    {
      "cell_type": "markdown",
      "metadata": {
        "id": "U7CImS0RqxqG",
        "colab_type": "text"
      },
      "source": [
        "The data in a little more detail."
      ]
    },
    {
      "cell_type": "code",
      "metadata": {
        "id": "gi16LYxjp3B4",
        "colab_type": "code",
        "colab": {}
      },
      "source": [
        "#df_arr.head(5)"
      ],
      "execution_count": 0,
      "outputs": []
    },
    {
      "cell_type": "markdown",
      "metadata": {
        "id": "pU1M4g0Hq4nn",
        "colab_type": "text"
      },
      "source": [
        "Let's see how many flights arrived at LAX in the past 24 hours."
      ]
    },
    {
      "cell_type": "code",
      "metadata": {
        "id": "Csdq7Ta7qEVA",
        "colab_type": "code",
        "outputId": "c7dce465-1f1d-4758-8494-9b662fb2c068",
        "colab": {
          "base_uri": "https://localhost:8080/",
          "height": 34
        }
      },
      "source": [
        "df_arr.count()"
      ],
      "execution_count": 0,
      "outputs": [
        {
          "output_type": "execute_result",
          "data": {
            "text/plain": [
              "337"
            ]
          },
          "metadata": {
            "tags": []
          },
          "execution_count": 10
        }
      ]
    },
    {
      "cell_type": "markdown",
      "metadata": {
        "id": "5Rg_7TequuZ6",
        "colab_type": "text"
      },
      "source": [
        "Let's first drop all the unnecessary columns."
      ]
    },
    {
      "cell_type": "code",
      "metadata": {
        "id": "lrqU_5lzutys",
        "colab_type": "code",
        "colab": {}
      },
      "source": [
        "df_arr = df_arr.drop('airportResources', 'codeshares', 'departureDate',\n",
        "            'divertedAirportFsCode', 'operationalTimes', 'schedule', 'status',\n",
        "            'flightId', 'flightNumber')\n",
        "#df_arr.show(5)"
      ],
      "execution_count": 0,
      "outputs": []
    },
    {
      "cell_type": "code",
      "metadata": {
        "id": "rUau0XFl_bUT",
        "colab_type": "code",
        "outputId": "8634c2e9-158b-44ab-d330-73f7257bee92",
        "colab": {
          "base_uri": "https://localhost:8080/",
          "height": 443
        }
      },
      "source": [
        "df_arr.printSchema()"
      ],
      "execution_count": 0,
      "outputs": [
        {
          "output_type": "stream",
          "text": [
            "root\n",
            " |-- arrivalAirportFsCode: string (nullable = true)\n",
            " |-- arrivalDate: struct (nullable = true)\n",
            " |    |-- dateLocal: string (nullable = true)\n",
            " |    |-- dateUtc: string (nullable = true)\n",
            " |-- carrierFsCode: string (nullable = true)\n",
            " |-- delays: struct (nullable = true)\n",
            " |    |-- arrivalGateDelayMinutes: long (nullable = true)\n",
            " |    |-- arrivalRunwayDelayMinutes: long (nullable = true)\n",
            " |    |-- departureGateDelayMinutes: long (nullable = true)\n",
            " |    |-- departureRunwayDelayMinutes: long (nullable = true)\n",
            " |-- departureAirportFsCode: string (nullable = true)\n",
            " |-- flightDurations: struct (nullable = true)\n",
            " |    |-- blockMinutes: long (nullable = true)\n",
            " |    |-- scheduledAirMinutes: long (nullable = true)\n",
            " |    |-- scheduledBlockMinutes: long (nullable = true)\n",
            " |    |-- scheduledTaxiInMinutes: long (nullable = true)\n",
            " |    |-- scheduledTaxiOutMinutes: long (nullable = true)\n",
            " |    |-- taxiOutMinutes: long (nullable = true)\n",
            " |-- flightEquipment: struct (nullable = true)\n",
            " |    |-- actualEquipmentIataCode: string (nullable = true)\n",
            " |    |-- scheduledEquipmentIataCode: string (nullable = true)\n",
            " |    |-- tailNumber: string (nullable = true)\n",
            "\n"
          ],
          "name": "stdout"
        }
      ]
    },
    {
      "cell_type": "markdown",
      "metadata": {
        "id": "S0y_wN53x6LV",
        "colab_type": "text"
      },
      "source": [
        "Let's explore the dataframe a little bit here."
      ]
    },
    {
      "cell_type": "code",
      "metadata": {
        "id": "zn-3Oz5Rx5td",
        "colab_type": "code",
        "outputId": "0b61ba3e-a556-46ef-9452-b0b7f53491d0",
        "colab": {
          "base_uri": "https://localhost:8080/",
          "height": 478
        }
      },
      "source": [
        "df_arr.groupBy('carrierFsCode').count().orderBy('count', ascending=False).show()"
      ],
      "execution_count": 0,
      "outputs": [
        {
          "output_type": "stream",
          "text": [
            "+-------------+-----+\n",
            "|carrierFsCode|count|\n",
            "+-------------+-----+\n",
            "|           DL|   48|\n",
            "|           AA|   45|\n",
            "|           OO|   44|\n",
            "|           WN|   42|\n",
            "|           CP|   30|\n",
            "|           UA|   25|\n",
            "|           AS|   24|\n",
            "|           NK|    6|\n",
            "|           B6|    6|\n",
            "|           QX|    5|\n",
            "|           AC|    4|\n",
            "|           Y4|    3|\n",
            "|           WS|    3|\n",
            "|           BA|    3|\n",
            "|           QF|    3|\n",
            "|           K4|    2|\n",
            "|           BR|    2|\n",
            "|          BAI|    2|\n",
            "|           NZ|    2|\n",
            "|           1I|    2|\n",
            "+-------------+-----+\n",
            "only showing top 20 rows\n",
            "\n"
          ],
          "name": "stdout"
        }
      ]
    },
    {
      "cell_type": "markdown",
      "metadata": {
        "id": "cgq0VGMM2hbB",
        "colab_type": "text"
      },
      "source": [
        "Let's see what the busiest time of the day is for LAX next. But before we do that, I'm going to separate out the arrival time from 'arrivalDate'."
      ]
    },
    {
      "cell_type": "code",
      "metadata": {
        "id": "eosnJa1K3Crk",
        "colab_type": "code",
        "colab": {}
      },
      "source": [
        "# first need to extract the date info from the arrivalDate struct\n",
        "df_arr = df_arr.withColumn('localDate', col('arrivalDate').getField('dateLocal'))\n",
        "#df_arr.select('localDate').show(5)\n",
        "\n",
        "df_arr = df_arr.withColumn('localTimeStamp', df_arr['localDate'].cast(TimestampType()))\n",
        "#df_arr.select('localTimeStamp').show(5)"
      ],
      "execution_count": 0,
      "outputs": []
    },
    {
      "cell_type": "markdown",
      "metadata": {
        "id": "D70jFpglPfT3",
        "colab_type": "text"
      },
      "source": [
        "Give each time increment its own column."
      ]
    },
    {
      "cell_type": "code",
      "metadata": {
        "id": "25bzGIpM2t8a",
        "colab_type": "code",
        "colab": {}
      },
      "source": [
        "#df_arr.withColumn('date', col('localTimeStamp').cast('date')).withColumn('hour', hour(col('localTimeStamp'))).withColumn('minute', minute(col('localTimeStamp'))).show(5)"
      ],
      "execution_count": 0,
      "outputs": []
    },
    {
      "cell_type": "markdown",
      "metadata": {
        "id": "a_FLYh8EWUq3",
        "colab_type": "text"
      },
      "source": [
        "Since travel tends to change with the time of year, let's also add on weekOfYear and dayOfWeek as well."
      ]
    },
    {
      "cell_type": "code",
      "metadata": {
        "id": "lokV6JbLWUM0",
        "colab_type": "code",
        "colab": {}
      },
      "source": [
        "#df_arr.withColumn('weekOfYear', weekofyear(col('localTimeStamp'))).withColumn('dayOfWeek', dayofweek(col('localTimeStamp'))).show(5)"
      ],
      "execution_count": 0,
      "outputs": []
    },
    {
      "cell_type": "markdown",
      "metadata": {
        "id": "deuSA2sQcNGe",
        "colab_type": "text"
      },
      "source": [
        "Delays column, the column that contains our target data, is an array of four values. They are minutes of delay in different stages of the flight but, since travelers don't really care where the delays occur, but rather how long the delays are, let's sum up the numbers to get one total delayed minutes."
      ]
    },
    {
      "cell_type": "code",
      "metadata": {
        "id": "HfcIPqAKA92U",
        "colab_type": "code",
        "colab": {}
      },
      "source": [
        "# a df with just the delay data\n",
        "delay_df = df_arr.select('delays.*').na.fill(0)\n",
        "#delay_df.show(5)"
      ],
      "execution_count": 0,
      "outputs": []
    },
    {
      "cell_type": "code",
      "metadata": {
        "id": "4cG12MmNc81J",
        "colab_type": "code",
        "colab": {}
      },
      "source": [
        "# create a new column in main arrival df with total delay minutes\n",
        "delay_df = delay_df.withColumn('totalDelay', sum(delay_df[col] for col in delay_df.columns))\n",
        "delay_df = delay_df.select('*').withColumn('d_id', monotonically_increasing_id())\n",
        "\n",
        "#delay_df.show(5)\n"
      ],
      "execution_count": 0,
      "outputs": []
    },
    {
      "cell_type": "markdown",
      "metadata": {
        "id": "B_VNT9Ng07hz",
        "colab_type": "text"
      },
      "source": [
        "Now let's merge this table with the main table."
      ]
    },
    {
      "cell_type": "code",
      "metadata": {
        "id": "TZAckuVs1G2q",
        "colab_type": "code",
        "colab": {}
      },
      "source": [
        "# In order to join two dataframes, we need to create an index column to join the two \n",
        "# dataframes on\n",
        "df_arr = df_arr.select('*').withColumn('id', monotonically_increasing_id())\n",
        "\n",
        "df_arr = df_arr.join(delay_df, col('id') == col('d_id'), how='leftouter').drop('d_id')\n",
        "#df_arr.show(5)"
      ],
      "execution_count": 0,
      "outputs": []
    },
    {
      "cell_type": "markdown",
      "metadata": {
        "id": "A_3zmAdILcYR",
        "colab_type": "text"
      },
      "source": [
        "Now let's do the same for flightDurations and flightEquipment."
      ]
    },
    {
      "cell_type": "code",
      "metadata": {
        "id": "1tASHvAfUSQC",
        "colab_type": "code",
        "colab": {}
      },
      "source": [
        "eq_df = df_arr.select('flightEquipment.*').drop('tailNumber')\n",
        "#eq_df.show(5)"
      ],
      "execution_count": 0,
      "outputs": []
    },
    {
      "cell_type": "markdown",
      "metadata": {
        "id": "ewUHBCkbnyNn",
        "colab_type": "text"
      },
      "source": [
        "When it comes to equipment, when it is changed it might cause a delay so I'm going to drop the tailNumber and create another column that shows whether there was a change in equipment."
      ]
    },
    {
      "cell_type": "code",
      "metadata": {
        "id": "gZ-4YTuqnxXP",
        "colab_type": "code",
        "colab": {}
      },
      "source": [
        "eq_df = eq_df.withColumn('eqChanged', F.when(F.col('actualEquipmentIataCode') == F.col('scheduledEquipmentIatacode'), 0)\n",
        "    .otherwise(1))\n",
        "\n",
        "eq_df = eq_df.select('*').withColumn('e_id', monotonically_increasing_id())\n",
        "#eq_df.show(5)"
      ],
      "execution_count": 0,
      "outputs": []
    },
    {
      "cell_type": "markdown",
      "metadata": {
        "id": "Ug_Wt5tDsDz8",
        "colab_type": "text"
      },
      "source": [
        "And lastly, let's just some up the flight durations."
      ]
    },
    {
      "cell_type": "code",
      "metadata": {
        "id": "JKJg7lb7sCRp",
        "colab_type": "code",
        "colab": {}
      },
      "source": [
        "fd_df = df_arr.select('flightDurations.*').na.fill(0)\n",
        "fd_df = fd_df.withColumn('totalDuration', sum(fd_df[col] for col in fd_df.columns))\n",
        "fd_df = fd_df.select('*').withColumn('f_id', monotonically_increasing_id())\n",
        "#fd_df.show(5)"
      ],
      "execution_count": 0,
      "outputs": []
    },
    {
      "cell_type": "markdown",
      "metadata": {
        "id": "FZq-vx4Ythrk",
        "colab_type": "text"
      },
      "source": [
        "Put all the tables together."
      ]
    },
    {
      "cell_type": "code",
      "metadata": {
        "id": "838qwLZztnyI",
        "colab_type": "code",
        "colab": {}
      },
      "source": [
        "df_arr = df_arr.join(eq_df, col('id') == col('e_id'), how='leftouter').drop('e_id').join(fd_df, col('id') == col('f_id'), how='leftouter').drop('f_id')\n",
        "#df_arr.orderBy('id').show(5)"
      ],
      "execution_count": 0,
      "outputs": []
    },
    {
      "cell_type": "code",
      "metadata": {
        "id": "7QDZs7KdvG8X",
        "colab_type": "code",
        "outputId": "d45efa35-662d-437b-f627-576af43b7a18",
        "colab": {
          "base_uri": "https://localhost:8080/",
          "height": 34
        }
      },
      "source": [
        "df_arr.count()"
      ],
      "execution_count": 0,
      "outputs": [
        {
          "output_type": "execute_result",
          "data": {
            "text/plain": [
              "337"
            ]
          },
          "metadata": {
            "tags": []
          },
          "execution_count": 25
        }
      ]
    },
    {
      "cell_type": "markdown",
      "metadata": {
        "id": "tXq828aK3HF4",
        "colab_type": "text"
      },
      "source": [
        "We now need to repeat the same process for the departing flights data. It might be better if I wrote a function that does this given a dataframe."
      ]
    },
    {
      "cell_type": "code",
      "metadata": {
        "id": "jZKZ6Tjl76qX",
        "colab_type": "code",
        "colab": {}
      },
      "source": [
        "def format_flight_data(df):\n",
        "    # lets' first index the df since we know we will be needing it later\n",
        "    df = df.select('*').withColumn('id', monotonically_increasing_id())\n",
        "\n",
        "    ##### timestamp #####\n",
        "    # first need to extract the date info from the arrivalDate struct\n",
        "    df = df.withColumn('localDate', col('arrivalDate').getField('dateLocal'))\n",
        "    df = df.withColumn('localTimeStamp', df['localDate'].cast(TimestampType()))\n",
        "    df = df.withColumn('date', col('localTimeStamp').cast('date'))\n",
        "    df = df.withColumn('hour', hour(col('localTimeStamp')))\n",
        "    df = df.withColumn('minute', minute(col('localTimeStamp')))\n",
        "    df = df.withColumn('weekOfYear', weekofyear(col('localTimeStamp')))\n",
        "    df = df.withColumn('dayOfWeek', dayofweek(col('localTimeStamp')))\n",
        "\n",
        "    ##### delays #####\n",
        "    # fill all null values with 0\n",
        "    delay_df = df.select('delays.*').na.fill(0)\n",
        "    # create a new column in main arrival df with total delay minutes\n",
        "    delay_df = delay_df.withColumn('totalDelay', sum(delay_df[col] for col in delay_df.columns))\n",
        "    delay_df = delay_df.select('*').withColumn('d_id', monotonically_increasing_id())\n",
        "\n",
        "    ##### equipment #####\n",
        "    eq_df = df.select('flightEquipment.*').drop('tailNumber')\n",
        "    eq_df = eq_df.withColumn('eqChanged', F.when(F.col('actualEquipmentIataCode') == F.col('scheduledEquipmentIatacode'), 0).otherwise(1))\n",
        "    eq_df = eq_df.select('*').withColumn('e_id', monotonically_increasing_id())\n",
        "\n",
        "    ##### duration #####\n",
        "    fd_df = df.select('flightDurations.*').na.fill(0)\n",
        "    fd_df = fd_df.withColumn('totalDuration', sum(fd_df[col] for col in fd_df.columns))\n",
        "    fd_df = fd_df.select('*').withColumn('f_id', monotonically_increasing_id())\n",
        "\n",
        "    # join all dataframes\n",
        "    formatted_df = df.join(delay_df, col('id')==col('d_id'), how='leftouter').drop('d_id')\n",
        "    formatted_df = formatted_df.join(eq_df, col('id')==col('e_id'), how='leftouter').drop('e_id')\n",
        "    formatted_df = formatted_df.join(fd_df, col('id')==col('f_id'), how='leftouter').drop('f_id')\n",
        "\n",
        "    # drop extraneous columns\n",
        "    formatted_df = formatted_df.drop('airportResources', 'codeshares', 'departureDate',\n",
        "            'divertedAirportFsCode', 'operationalTimes', 'schedule', 'status',\n",
        "            'flightId', 'flightNumber')\n",
        "\n",
        "    return formatted_df\n",
        "\n",
        "    "
      ],
      "execution_count": 0,
      "outputs": []
    },
    {
      "cell_type": "code",
      "metadata": {
        "id": "HbtYuj8McbYN",
        "colab_type": "code",
        "outputId": "057c2c6d-6acc-4a21-d0ab-0936f21e81ae",
        "colab": {
          "base_uri": "https://localhost:8080/",
          "height": 232
        }
      },
      "source": [
        "df_arr_fmtd = format_flight_data(df_arr)\n",
        "df_arr_fmtd.show(5)"
      ],
      "execution_count": 10,
      "outputs": [
        {
          "output_type": "stream",
          "text": [
            "+--------------------+--------------------+-------------+--------------------+----------------------+--------------------+------------------+---+--------------------+-------------------+----------+----+------+----------+---------+-----------------------+-------------------------+-------------------------+---------------------------+----------+-----------------------+--------------------------+---------+------------+-------------------+---------------------+----------------------+-----------------------+--------------+-------------+\n",
            "|arrivalAirportFsCode|         arrivalDate|carrierFsCode|              delays|departureAirportFsCode|     flightDurations|   flightEquipment| id|           localDate|     localTimeStamp|      date|hour|minute|weekOfYear|dayOfWeek|arrivalGateDelayMinutes|arrivalRunwayDelayMinutes|departureGateDelayMinutes|departureRunwayDelayMinutes|totalDelay|actualEquipmentIataCode|scheduledEquipmentIataCode|eqChanged|blockMinutes|scheduledAirMinutes|scheduledBlockMinutes|scheduledTaxiInMinutes|scheduledTaxiOutMinutes|taxiOutMinutes|totalDuration|\n",
            "+--------------------+--------------------+-------------+--------------------+----------------------+--------------------+------------------+---+--------------------+-------------------+----------+----+------+----------+---------+-----------------------+-------------------------+-------------------------+---------------------------+----------+-----------------------+--------------------------+---------+------------+-------------------+---------------------+----------------------+-----------------------+--------------+-------------+\n",
            "|                 LAX|[2020-01-17T13:10...|           QR|      [, 13, 52, 60]|                   DOH|[, 1021, 985,, 10...|[77L, 77L, A7-BBA]|  0|2020-01-17T13:10:...|2020-01-17 13:10:00|2020-01-17|  13|    10|         3|        6|                      0|                       13|                       52|                         60|       125|                    77L|                       77L|        0|           0|               1021|                  985|                     0|                     10|            18|         2034|\n",
            "|                 LAX|[2020-01-17T13:15...|           QF|[205, 247, 226, 240]|                   SYD|[, 763, 830, 57, ...|[388, 388, VH-OQJ]|  1|2020-01-17T13:15:...|2020-01-17 13:15:00|2020-01-17|  13|    15|         3|        6|                    205|                      247|                      226|                        240|       918|                    388|                       388|        0|           0|                763|                  830|                    57|                     10|            24|         1684|\n",
            "|                 LAX|[2020-01-17T13:50...|           SU|          [14, 23,,]|                   SVO|[, 745, 770, 15, ...|[332, 332, VQ-BBE]|  2|2020-01-17T13:50:...|2020-01-17 13:50:00|2020-01-17|  13|    50|         3|        6|                     14|                       23|                        0|                          0|        37|                    332|                       332|        0|           0|                745|                  770|                    15|                     10|            23|         1563|\n",
            "|                 LAX|[2020-01-17T14:00...|           NZ|       [, 7, 17, 25]|                   AKL|[, 681, 725, 34, ...|[77W, 77W, ZK-OKS]|  3|2020-01-17T14:00:...|2020-01-17 14:00:00|2020-01-17|  14|     0|         3|        6|                      0|                        7|                       17|                         25|        49|                    77W|                       77W|        0|           0|                681|                  725|                    34|                     10|            18|         1468|\n",
            "|                 LAX|[2020-01-17T14:40...|           AA|               [,,,]|                   PEK|[, 683, 730, 10, ...|[788, 788, N813AN]|  4|2020-01-17T14:40:...|2020-01-17 14:40:00|2020-01-17|  14|    40|         3|        6|                      0|                        0|                        0|                          0|         0|                    788|                       788|        0|           0|                683|                  730|                    10|                     37|            22|         1482|\n",
            "+--------------------+--------------------+-------------+--------------------+----------------------+--------------------+------------------+---+--------------------+-------------------+----------+----+------+----------+---------+-----------------------+-------------------------+-------------------------+---------------------------+----------+-----------------------+--------------------------+---------+------------+-------------------+---------------------+----------------------+-----------------------+--------------+-------------+\n",
            "only showing top 5 rows\n",
            "\n"
          ],
          "name": "stdout"
        }
      ]
    },
    {
      "cell_type": "markdown",
      "metadata": {
        "id": "jtmw06bIuSYb",
        "colab_type": "text"
      },
      "source": [
        "Nice. Now let's format the departing dataframe."
      ]
    },
    {
      "cell_type": "code",
      "metadata": {
        "id": "plGThBfVuaFg",
        "colab_type": "code",
        "outputId": "6c612ca4-3eeb-4fbe-a591-a3d25aad6cee",
        "colab": {
          "base_uri": "https://localhost:8080/",
          "height": 232
        }
      },
      "source": [
        "df_dep = spark.read.json(DEP_JSON_PATH)\n",
        "df_dep_fmtd = format_flight_data(df_dep)\n",
        "df_dep_fmtd.show(5)"
      ],
      "execution_count": 11,
      "outputs": [
        {
          "output_type": "stream",
          "text": [
            "+--------------------+--------------------+-------------+----------------+----------------------+-----------------+------------------+---+--------------------+-------------------+----------+----+------+----------+---------+-----------------------+-------------------------+-------------------------+---------------------------+----------+-----------------------+--------------------------+---------+-------------------+---------------------+----------------------+-----------------------+-------------+\n",
            "|arrivalAirportFsCode|         arrivalDate|carrierFsCode|          delays|departureAirportFsCode|  flightDurations|   flightEquipment| id|           localDate|     localTimeStamp|      date|hour|minute|weekOfYear|dayOfWeek|arrivalGateDelayMinutes|arrivalRunwayDelayMinutes|departureGateDelayMinutes|departureRunwayDelayMinutes|totalDelay|actualEquipmentIataCode|scheduledEquipmentIataCode|eqChanged|scheduledAirMinutes|scheduledBlockMinutes|scheduledTaxiInMinutes|scheduledTaxiOutMinutes|totalDuration|\n",
            "+--------------------+--------------------+-------------+----------------+----------------------+-----------------+------------------+---+--------------------+-------------------+----------+----+------+----------+---------+-----------------------+-------------------------+-------------------------+---------------------------+----------+-----------------------+--------------------------+---------+-------------------+---------------------+----------------------+-----------------------+-------------+\n",
            "|                 DFW|[2020-01-17T15:56...|           NK|           [,,,]|                   LAX| [151, 181,, 383]|       [32S, 32A,]|  0|2020-01-17T15:56:...|2020-01-17 15:56:00|2020-01-17|  15|    56|         3|        6|                      0|                        0|                        0|                          0|         0|                    32S|                       32A|        1|                151|                  181|                     0|                    383|          715|\n",
            "|                 VNY|[2020-01-17T14:12...|          JTL|           [,,,]|                   LAX|       [12,,, 30]|    [GR2,, N990JT]|  1|2020-01-17T14:12:...|2020-01-17 14:12:00|2020-01-17|  14|    12|         3|        6|                      0|                        0|                        0|                          0|         0|                    GR2|                      null|        1|                 12|                    0|                     0|                     30|           42|\n",
            "|                 SMF|[2020-01-17T15:00...|           WN|   [20,, 20, 15]|                   LAX|    [62, 90,, 31]|[73W, 73W, N711HK]|  2|2020-01-17T15:00:...|2020-01-17 15:00:00|2020-01-17|  15|     0|         3|        6|                     20|                        0|                       20|                         15|        55|                    73W|                       73W|        0|                 62|                   90|                     0|                     31|          183|\n",
            "|                 AUS|[2020-01-17T18:29...|           AA|[25, 24, 25, 25]|                   LAX|[152, 174, 6, 16]|[32B, 321, N134AN]|  3|2020-01-17T18:29:...|2020-01-17 18:29:00|2020-01-17|  18|    29|         3|        6|                     25|                       24|                       25|                         25|        99|                    32B|                       321|        1|                152|                  174|                     6|                     16|          348|\n",
            "|                 SAN|[2020-01-17T14:37...|           OO|           [,,,]|                   LAX|  [29, 54, 3, 22]|[CR7, CR7, N732SK]|  4|2020-01-17T14:37:...|2020-01-17 14:37:00|2020-01-17|  14|    37|         3|        6|                      0|                        0|                        0|                          0|         0|                    CR7|                       CR7|        0|                 29|                   54|                     3|                     22|          108|\n",
            "+--------------------+--------------------+-------------+----------------+----------------------+-----------------+------------------+---+--------------------+-------------------+----------+----+------+----------+---------+-----------------------+-------------------------+-------------------------+---------------------------+----------+-----------------------+--------------------------+---------+-------------------+---------------------+----------------------+-----------------------+-------------+\n",
            "only showing top 5 rows\n",
            "\n"
          ],
          "name": "stdout"
        }
      ]
    },
    {
      "cell_type": "markdown",
      "metadata": {
        "id": "x-eNBPR04GaV",
        "colab_type": "text"
      },
      "source": [
        "Now that we have a formatted dataframe for both arriving and departing flights, we need to join the weather conditions for each flight. The data from the DarkSky API contains within it a timestamp but it is in UNIX time. So now we just need to convert it so that it matches up with the formatted dataframe and do an inner join."
      ]
    },
    {
      "cell_type": "code",
      "metadata": {
        "id": "mwG5q9RvpJ_2",
        "colab_type": "code",
        "outputId": "67e116c8-a581-4452-ba5e-aab54b5ec21d",
        "colab": {
          "base_uri": "https://localhost:8080/",
          "height": 232
        }
      },
      "source": [
        "df_weath = spark.read.json(WEATH_JSON_PATH)\n",
        "df_weath.show(5)"
      ],
      "execution_count": 12,
      "outputs": [
        {
          "output_type": "stream",
          "text": [
            "+-------------------+----------+--------+--------+-------------------+-----+---------------+-----------------+----------+--------+-------------------+-----------+----------+-------+----------+-----------+--------+---------+\n",
            "|apparentTemperature|cloudCover|dewPoint|humidity|               icon|ozone|precipIntensity|precipProbability|precipType|pressure|            summary|temperature|      time|uvIndex|visibility|windBearing|windGust|windSpeed|\n",
            "+-------------------+----------+--------+--------+-------------------+-----+---------------+-----------------+----------+--------+-------------------+-----------+----------+-------+----------+-----------+--------+---------+\n",
            "|              53.33|      0.93|   48.75|    0.84|               rain|306.5|         0.0474|             0.87|      rain|  1020.0|         Light Rain|      53.33|1579248000|      0|      4.94|        118|    9.85|     7.89|\n",
            "|               53.2|      0.88|   49.85|    0.88|               rain|303.5|         0.0262|              0.5|      rain|  1019.7|Possible Light Rain|       53.2|1579251600|      0|      10.0|         67|     9.0|     5.22|\n",
            "|              52.06|      0.86|   48.89|    0.89|               rain|300.2|         0.0187|             0.29|      rain|  1020.3|Possible Light Rain|      52.06|1579255200|      0|      10.0|        133|     8.5|     5.37|\n",
            "|              51.94|      0.54|   47.35|    0.84|partly-cloudy-night|296.7|         0.0015|             0.04|      rain|  1020.4|      Partly Cloudy|      51.94|1579258800|      0|      10.0|         48|    8.29|      6.3|\n",
            "|              51.57|      0.53|   47.34|    0.85|partly-cloudy-night|293.1|            0.0|              0.0|      null|  1020.3|      Partly Cloudy|      51.57|1579262400|      0|      10.0|          3|    7.29|     6.16|\n",
            "+-------------------+----------+--------+--------+-------------------+-----+---------------+-----------------+----------+--------+-------------------+-----------+----------+-------+----------+-----------+--------+---------+\n",
            "only showing top 5 rows\n",
            "\n"
          ],
          "name": "stdout"
        }
      ]
    },
    {
      "cell_type": "code",
      "metadata": {
        "id": "7mQ3fzW9MKIt",
        "colab_type": "code",
        "outputId": "48a3b7ea-8a7a-41ff-dff8-3f58e52ac7a5",
        "colab": {
          "base_uri": "https://localhost:8080/",
          "height": 232
        }
      },
      "source": [
        "df_weath = df_weath.withColumn('f_time', df_weath['time'].cast(TimestampType()))\n",
        "df_weath.show(5)"
      ],
      "execution_count": 13,
      "outputs": [
        {
          "output_type": "stream",
          "text": [
            "+-------------------+----------+--------+--------+-------------------+-----+---------------+-----------------+----------+--------+-------------------+-----------+----------+-------+----------+-----------+--------+---------+-------------------+\n",
            "|apparentTemperature|cloudCover|dewPoint|humidity|               icon|ozone|precipIntensity|precipProbability|precipType|pressure|            summary|temperature|      time|uvIndex|visibility|windBearing|windGust|windSpeed|             f_time|\n",
            "+-------------------+----------+--------+--------+-------------------+-----+---------------+-----------------+----------+--------+-------------------+-----------+----------+-------+----------+-----------+--------+---------+-------------------+\n",
            "|              53.33|      0.93|   48.75|    0.84|               rain|306.5|         0.0474|             0.87|      rain|  1020.0|         Light Rain|      53.33|1579248000|      0|      4.94|        118|    9.85|     7.89|2020-01-17 08:00:00|\n",
            "|               53.2|      0.88|   49.85|    0.88|               rain|303.5|         0.0262|              0.5|      rain|  1019.7|Possible Light Rain|       53.2|1579251600|      0|      10.0|         67|     9.0|     5.22|2020-01-17 09:00:00|\n",
            "|              52.06|      0.86|   48.89|    0.89|               rain|300.2|         0.0187|             0.29|      rain|  1020.3|Possible Light Rain|      52.06|1579255200|      0|      10.0|        133|     8.5|     5.37|2020-01-17 10:00:00|\n",
            "|              51.94|      0.54|   47.35|    0.84|partly-cloudy-night|296.7|         0.0015|             0.04|      rain|  1020.4|      Partly Cloudy|      51.94|1579258800|      0|      10.0|         48|    8.29|      6.3|2020-01-17 11:00:00|\n",
            "|              51.57|      0.53|   47.34|    0.85|partly-cloudy-night|293.1|            0.0|              0.0|      null|  1020.3|      Partly Cloudy|      51.57|1579262400|      0|      10.0|          3|    7.29|     6.16|2020-01-17 12:00:00|\n",
            "+-------------------+----------+--------+--------+-------------------+-----+---------------+-----------------+----------+--------+-------------------+-----------+----------+-------+----------+-----------+--------+---------+-------------------+\n",
            "only showing top 5 rows\n",
            "\n"
          ],
          "name": "stdout"
        }
      ]
    },
    {
      "cell_type": "markdown",
      "metadata": {
        "id": "gaHSNWczBV1l",
        "colab_type": "text"
      },
      "source": [
        "Hmmm. Since the weather data is taken hourly, we now just need to match upto the hour."
      ]
    },
    {
      "cell_type": "code",
      "metadata": {
        "id": "Yrhc18FHBVeu",
        "colab_type": "code",
        "outputId": "f6f58c3c-ff09-457c-f125-60729e0c63b8",
        "colab": {
          "base_uri": "https://localhost:8080/",
          "height": 232
        }
      },
      "source": [
        "# separate date and hour\n",
        "df_weath = df_weath.withColumn('w_date', col('f_time').cast('date'))\n",
        "df_weath = df_weath.withColumn('w_hour', hour(col('f_time')))\n",
        "df_weath.show(5)"
      ],
      "execution_count": 14,
      "outputs": [
        {
          "output_type": "stream",
          "text": [
            "+-------------------+----------+--------+--------+-------------------+-----+---------------+-----------------+----------+--------+-------------------+-----------+----------+-------+----------+-----------+--------+---------+-------------------+----------+------+\n",
            "|apparentTemperature|cloudCover|dewPoint|humidity|               icon|ozone|precipIntensity|precipProbability|precipType|pressure|            summary|temperature|      time|uvIndex|visibility|windBearing|windGust|windSpeed|             f_time|    w_date|w_hour|\n",
            "+-------------------+----------+--------+--------+-------------------+-----+---------------+-----------------+----------+--------+-------------------+-----------+----------+-------+----------+-----------+--------+---------+-------------------+----------+------+\n",
            "|              53.33|      0.93|   48.75|    0.84|               rain|306.5|         0.0474|             0.87|      rain|  1020.0|         Light Rain|      53.33|1579248000|      0|      4.94|        118|    9.85|     7.89|2020-01-17 08:00:00|2020-01-17|     8|\n",
            "|               53.2|      0.88|   49.85|    0.88|               rain|303.5|         0.0262|              0.5|      rain|  1019.7|Possible Light Rain|       53.2|1579251600|      0|      10.0|         67|     9.0|     5.22|2020-01-17 09:00:00|2020-01-17|     9|\n",
            "|              52.06|      0.86|   48.89|    0.89|               rain|300.2|         0.0187|             0.29|      rain|  1020.3|Possible Light Rain|      52.06|1579255200|      0|      10.0|        133|     8.5|     5.37|2020-01-17 10:00:00|2020-01-17|    10|\n",
            "|              51.94|      0.54|   47.35|    0.84|partly-cloudy-night|296.7|         0.0015|             0.04|      rain|  1020.4|      Partly Cloudy|      51.94|1579258800|      0|      10.0|         48|    8.29|      6.3|2020-01-17 11:00:00|2020-01-17|    11|\n",
            "|              51.57|      0.53|   47.34|    0.85|partly-cloudy-night|293.1|            0.0|              0.0|      null|  1020.3|      Partly Cloudy|      51.57|1579262400|      0|      10.0|          3|    7.29|     6.16|2020-01-17 12:00:00|2020-01-17|    12|\n",
            "+-------------------+----------+--------+--------+-------------------+-----+---------------+-----------------+----------+--------+-------------------+-----------+----------+-------+----------+-----------+--------+---------+-------------------+----------+------+\n",
            "only showing top 5 rows\n",
            "\n"
          ],
          "name": "stdout"
        }
      ]
    },
    {
      "cell_type": "markdown",
      "metadata": {
        "id": "JPKz6y92Gs60",
        "colab_type": "text"
      },
      "source": [
        "Now all that's left to do is inner join the weather data on both the date and hour columns."
      ]
    },
    {
      "cell_type": "code",
      "metadata": {
        "id": "mVq1TEUGA_HS",
        "colab_type": "code",
        "outputId": "d2bb3c98-6dbe-4a7c-c466-20612ef0a8f1",
        "colab": {
          "base_uri": "https://localhost:8080/",
          "height": 232
        }
      },
      "source": [
        "df_arr_wthr = df_arr_fmtd.join(df_weath, (col('date')==col('w_date'))&(col('hour')==col('w_hour')), how='inner')\n",
        "df_arr_wthr = df_arr_wthr.drop('time', 'w_date', 'w_hour')\n",
        "df_arr_wthr.show(5)"
      ],
      "execution_count": 15,
      "outputs": [
        {
          "output_type": "stream",
          "text": [
            "+--------------------+--------------------+-------------+--------------------+----------------------+--------------------+------------------+---+--------------------+-------------------+----------+----+------+----------+---------+-----------------------+-------------------------+-------------------------+---------------------------+----------+-----------------------+--------------------------+---------+------------+-------------------+---------------------+----------------------+-----------------------+--------------+-------------+-------------------+----------+--------+--------+-------------------+-----+---------------+-----------------+----------+--------+-------------+-----------+-------+----------+-----------+--------+---------+-------------------+\n",
            "|arrivalAirportFsCode|         arrivalDate|carrierFsCode|              delays|departureAirportFsCode|     flightDurations|   flightEquipment| id|           localDate|     localTimeStamp|      date|hour|minute|weekOfYear|dayOfWeek|arrivalGateDelayMinutes|arrivalRunwayDelayMinutes|departureGateDelayMinutes|departureRunwayDelayMinutes|totalDelay|actualEquipmentIataCode|scheduledEquipmentIataCode|eqChanged|blockMinutes|scheduledAirMinutes|scheduledBlockMinutes|scheduledTaxiInMinutes|scheduledTaxiOutMinutes|taxiOutMinutes|totalDuration|apparentTemperature|cloudCover|dewPoint|humidity|               icon|ozone|precipIntensity|precipProbability|precipType|pressure|      summary|temperature|uvIndex|visibility|windBearing|windGust|windSpeed|             f_time|\n",
            "+--------------------+--------------------+-------------+--------------------+----------------------+--------------------+------------------+---+--------------------+-------------------+----------+----+------+----------+---------+-----------------------+-------------------------+-------------------------+---------------------------+----------+-----------------------+--------------------------+---------+------------+-------------------+---------------------+----------------------+-----------------------+--------------+-------------+-------------------+----------+--------+--------+-------------------+-----+---------------+-----------------+----------+--------+-------------+-----------+-------+----------+-----------+--------+---------+-------------------+\n",
            "|                 LAX|[2020-01-17T13:10...|           QR|      [, 13, 52, 60]|                   DOH|[, 1021, 985,, 10...|[77L, 77L, A7-BBA]|  0|2020-01-17T13:10:...|2020-01-17 13:10:00|2020-01-17|  13|    10|         3|        6|                      0|                       13|                       52|                         60|       125|                    77L|                       77L|        0|           0|               1021|                  985|                     0|                     10|            18|         2034|              51.24|      0.64|   46.86|    0.85|partly-cloudy-night|289.0|         7.0E-4|             0.01|      rain|  1020.6|Mostly Cloudy|      51.24|      0|      10.0|        323|    6.25|     4.13|2020-01-17 13:00:00|\n",
            "|                 LAX|[2020-01-17T13:15...|           QF|[205, 247, 226, 240]|                   SYD|[, 763, 830, 57, ...|[388, 388, VH-OQJ]|  1|2020-01-17T13:15:...|2020-01-17 13:15:00|2020-01-17|  13|    15|         3|        6|                    205|                      247|                      226|                        240|       918|                    388|                       388|        0|           0|                763|                  830|                    57|                     10|            24|         1684|              51.24|      0.64|   46.86|    0.85|partly-cloudy-night|289.0|         7.0E-4|             0.01|      rain|  1020.6|Mostly Cloudy|      51.24|      0|      10.0|        323|    6.25|     4.13|2020-01-17 13:00:00|\n",
            "|                 LAX|[2020-01-17T13:50...|           SU|          [14, 23,,]|                   SVO|[, 745, 770, 15, ...|[332, 332, VQ-BBE]|  2|2020-01-17T13:50:...|2020-01-17 13:50:00|2020-01-17|  13|    50|         3|        6|                     14|                       23|                        0|                          0|        37|                    332|                       332|        0|           0|                745|                  770|                    15|                     10|            23|         1563|              51.24|      0.64|   46.86|    0.85|partly-cloudy-night|289.0|         7.0E-4|             0.01|      rain|  1020.6|Mostly Cloudy|      51.24|      0|      10.0|        323|    6.25|     4.13|2020-01-17 13:00:00|\n",
            "|                 LAX|[2020-01-17T14:00...|           NZ|       [, 7, 17, 25]|                   AKL|[, 681, 725, 34, ...|[77W, 77W, ZK-OKS]|  3|2020-01-17T14:00:...|2020-01-17 14:00:00|2020-01-17|  14|     0|         3|        6|                      0|                        7|                       17|                         25|        49|                    77W|                       77W|        0|           0|                681|                  725|                    34|                     10|            18|         1468|              50.88|      0.55|    46.3|    0.84|partly-cloudy-night|284.7|            0.0|              0.0|      null|  1021.3|Partly Cloudy|      50.88|      0|      10.0|        338|    5.54|     5.06|2020-01-17 14:00:00|\n",
            "|                 LAX|[2020-01-17T14:40...|           AA|               [,,,]|                   PEK|[, 683, 730, 10, ...|[788, 788, N813AN]|  4|2020-01-17T14:40:...|2020-01-17 14:40:00|2020-01-17|  14|    40|         3|        6|                      0|                        0|                        0|                          0|         0|                    788|                       788|        0|           0|                683|                  730|                    10|                     37|            22|         1482|              50.88|      0.55|    46.3|    0.84|partly-cloudy-night|284.7|            0.0|              0.0|      null|  1021.3|Partly Cloudy|      50.88|      0|      10.0|        338|    5.54|     5.06|2020-01-17 14:00:00|\n",
            "+--------------------+--------------------+-------------+--------------------+----------------------+--------------------+------------------+---+--------------------+-------------------+----------+----+------+----------+---------+-----------------------+-------------------------+-------------------------+---------------------------+----------+-----------------------+--------------------------+---------+------------+-------------------+---------------------+----------------------+-----------------------+--------------+-------------+-------------------+----------+--------+--------+-------------------+-----+---------------+-----------------+----------+--------+-------------+-----------+-------+----------+-----------+--------+---------+-------------------+\n",
            "only showing top 5 rows\n",
            "\n"
          ],
          "name": "stdout"
        }
      ]
    },
    {
      "cell_type": "code",
      "metadata": {
        "id": "8If0_nijHk5E",
        "colab_type": "code",
        "outputId": "b5e4f52e-398a-41ad-b275-ff214c529540",
        "colab": {
          "base_uri": "https://localhost:8080/",
          "height": 232
        }
      },
      "source": [
        "df_dep_wthr = df_dep_fmtd.join(df_weath, (col('date')==col('w_date')) & (col('hour')==col('w_hour')), how='inner')\n",
        "df_dep_wthr = df_dep_wthr.drop('time', 'w_date', 'w_hour')\n",
        "df_dep_wthr.show(5)"
      ],
      "execution_count": 16,
      "outputs": [
        {
          "output_type": "stream",
          "text": [
            "+--------------------+--------------------+-------------+----------------+----------------------+-----------------+------------------+---+--------------------+-------------------+----------+----+------+----------+---------+-----------------------+-------------------------+-------------------------+---------------------------+----------+-----------------------+--------------------------+---------+-------------------+---------------------+----------------------+-----------------------+-------------+-------------------+----------+--------+--------+-------------------+-----+---------------+-----------------+----------+--------+-------------+-----------+-------+----------+-----------+--------+---------+-------------------+\n",
            "|arrivalAirportFsCode|         arrivalDate|carrierFsCode|          delays|departureAirportFsCode|  flightDurations|   flightEquipment| id|           localDate|     localTimeStamp|      date|hour|minute|weekOfYear|dayOfWeek|arrivalGateDelayMinutes|arrivalRunwayDelayMinutes|departureGateDelayMinutes|departureRunwayDelayMinutes|totalDelay|actualEquipmentIataCode|scheduledEquipmentIataCode|eqChanged|scheduledAirMinutes|scheduledBlockMinutes|scheduledTaxiInMinutes|scheduledTaxiOutMinutes|totalDuration|apparentTemperature|cloudCover|dewPoint|humidity|               icon|ozone|precipIntensity|precipProbability|precipType|pressure|      summary|temperature|uvIndex|visibility|windBearing|windGust|windSpeed|             f_time|\n",
            "+--------------------+--------------------+-------------+----------------+----------------------+-----------------+------------------+---+--------------------+-------------------+----------+----+------+----------+---------+-----------------------+-------------------------+-------------------------+---------------------------+----------+-----------------------+--------------------------+---------+-------------------+---------------------+----------------------+-----------------------+-------------+-------------------+----------+--------+--------+-------------------+-----+---------------+-----------------+----------+--------+-------------+-----------+-------+----------+-----------+--------+---------+-------------------+\n",
            "|                 DFW|[2020-01-17T15:56...|           NK|           [,,,]|                   LAX| [151, 181,, 383]|       [32S, 32A,]|  0|2020-01-17T15:56:...|2020-01-17 15:56:00|2020-01-17|  15|    56|         3|        6|                      0|                        0|                        0|                          0|         0|                    32S|                       32A|        1|                151|                  181|                     0|                    383|          715|              50.47|      0.56|   45.36|    0.83|partly-cloudy-night|281.3|         4.0E-4|             0.01|      rain|  1021.9|Partly Cloudy|      50.47|      0|      10.0|        345|    4.52|      1.1|2020-01-17 15:00:00|\n",
            "|                 VNY|[2020-01-17T14:12...|          JTL|           [,,,]|                   LAX|       [12,,, 30]|    [GR2,, N990JT]|  1|2020-01-17T14:12:...|2020-01-17 14:12:00|2020-01-17|  14|    12|         3|        6|                      0|                        0|                        0|                          0|         0|                    GR2|                      null|        1|                 12|                    0|                     0|                     30|           42|              50.88|      0.55|    46.3|    0.84|partly-cloudy-night|284.7|            0.0|              0.0|      null|  1021.3|Partly Cloudy|      50.88|      0|      10.0|        338|    5.54|     5.06|2020-01-17 14:00:00|\n",
            "|                 SMF|[2020-01-17T15:00...|           WN|   [20,, 20, 15]|                   LAX|    [62, 90,, 31]|[73W, 73W, N711HK]|  2|2020-01-17T15:00:...|2020-01-17 15:00:00|2020-01-17|  15|     0|         3|        6|                     20|                        0|                       20|                         15|        55|                    73W|                       73W|        0|                 62|                   90|                     0|                     31|          183|              50.47|      0.56|   45.36|    0.83|partly-cloudy-night|281.3|         4.0E-4|             0.01|      rain|  1021.9|Partly Cloudy|      50.47|      0|      10.0|        345|    4.52|      1.1|2020-01-17 15:00:00|\n",
            "|                 AUS|[2020-01-17T18:29...|           AA|[25, 24, 25, 25]|                   LAX|[152, 174, 6, 16]|[32B, 321, N134AN]|  3|2020-01-17T18:29:...|2020-01-17 18:29:00|2020-01-17|  18|    29|         3|        6|                     25|                       24|                       25|                         25|        99|                    32B|                       321|        1|                152|                  174|                     6|                     16|          348|              55.01|      0.41|   46.17|    0.72|  partly-cloudy-day|275.9|            0.0|              0.0|      null|  1024.2|Partly Cloudy|      55.01|      2|      10.0|         39|    5.51|     3.48|2020-01-17 18:00:00|\n",
            "|                 SAN|[2020-01-17T14:37...|           OO|           [,,,]|                   LAX|  [29, 54, 3, 22]|[CR7, CR7, N732SK]|  4|2020-01-17T14:37:...|2020-01-17 14:37:00|2020-01-17|  14|    37|         3|        6|                      0|                        0|                        0|                          0|         0|                    CR7|                       CR7|        0|                 29|                   54|                     3|                     22|          108|              50.88|      0.55|    46.3|    0.84|partly-cloudy-night|284.7|            0.0|              0.0|      null|  1021.3|Partly Cloudy|      50.88|      0|      10.0|        338|    5.54|     5.06|2020-01-17 14:00:00|\n",
            "+--------------------+--------------------+-------------+----------------+----------------------+-----------------+------------------+---+--------------------+-------------------+----------+----+------+----------+---------+-----------------------+-------------------------+-------------------------+---------------------------+----------+-----------------------+--------------------------+---------+-------------------+---------------------+----------------------+-----------------------+-------------+-------------------+----------+--------+--------+-------------------+-----+---------------+-----------------+----------+--------+-------------+-----------+-------+----------+-----------+--------+---------+-------------------+\n",
            "only showing top 5 rows\n",
            "\n"
          ],
          "name": "stdout"
        }
      ]
    },
    {
      "cell_type": "markdown",
      "metadata": {
        "id": "CUhGyctlXTY9",
        "colab_type": "text"
      },
      "source": [
        "Next, I think I will select only the feature and target columns."
      ]
    },
    {
      "cell_type": "code",
      "metadata": {
        "id": "cSofB4KIJ9Pa",
        "colab_type": "code",
        "outputId": "b76296b4-2d05-4a86-c277-4f3ee6bb2f37",
        "colab": {
          "base_uri": "https://localhost:8080/",
          "height": 232
        }
      },
      "source": [
        "df_arr_final = df_arr_wthr.drop('arrivalDate', 'delays', 'flightDurations', 'flightEquipment', \n",
        "                               'localDate', 'localTimeStamp', 'icon', 'f_time')\n",
        "df_arr_final.show(5)"
      ],
      "execution_count": 17,
      "outputs": [
        {
          "output_type": "stream",
          "text": [
            "+--------------------+-------------+----------------------+---+----------+----+------+----------+---------+-----------------------+-------------------------+-------------------------+---------------------------+----------+-----------------------+--------------------------+---------+------------+-------------------+---------------------+----------------------+-----------------------+--------------+-------------+-------------------+----------+--------+--------+-----+---------------+-----------------+----------+--------+-------------+-----------+-------+----------+-----------+--------+---------+\n",
            "|arrivalAirportFsCode|carrierFsCode|departureAirportFsCode| id|      date|hour|minute|weekOfYear|dayOfWeek|arrivalGateDelayMinutes|arrivalRunwayDelayMinutes|departureGateDelayMinutes|departureRunwayDelayMinutes|totalDelay|actualEquipmentIataCode|scheduledEquipmentIataCode|eqChanged|blockMinutes|scheduledAirMinutes|scheduledBlockMinutes|scheduledTaxiInMinutes|scheduledTaxiOutMinutes|taxiOutMinutes|totalDuration|apparentTemperature|cloudCover|dewPoint|humidity|ozone|precipIntensity|precipProbability|precipType|pressure|      summary|temperature|uvIndex|visibility|windBearing|windGust|windSpeed|\n",
            "+--------------------+-------------+----------------------+---+----------+----+------+----------+---------+-----------------------+-------------------------+-------------------------+---------------------------+----------+-----------------------+--------------------------+---------+------------+-------------------+---------------------+----------------------+-----------------------+--------------+-------------+-------------------+----------+--------+--------+-----+---------------+-----------------+----------+--------+-------------+-----------+-------+----------+-----------+--------+---------+\n",
            "|                 LAX|           QR|                   DOH|  0|2020-01-17|  13|    10|         3|        6|                      0|                       13|                       52|                         60|       125|                    77L|                       77L|        0|           0|               1021|                  985|                     0|                     10|            18|         2034|              51.24|      0.64|   46.86|    0.85|289.0|         7.0E-4|             0.01|      rain|  1020.6|Mostly Cloudy|      51.24|      0|      10.0|        323|    6.25|     4.13|\n",
            "|                 LAX|           QF|                   SYD|  1|2020-01-17|  13|    15|         3|        6|                    205|                      247|                      226|                        240|       918|                    388|                       388|        0|           0|                763|                  830|                    57|                     10|            24|         1684|              51.24|      0.64|   46.86|    0.85|289.0|         7.0E-4|             0.01|      rain|  1020.6|Mostly Cloudy|      51.24|      0|      10.0|        323|    6.25|     4.13|\n",
            "|                 LAX|           SU|                   SVO|  2|2020-01-17|  13|    50|         3|        6|                     14|                       23|                        0|                          0|        37|                    332|                       332|        0|           0|                745|                  770|                    15|                     10|            23|         1563|              51.24|      0.64|   46.86|    0.85|289.0|         7.0E-4|             0.01|      rain|  1020.6|Mostly Cloudy|      51.24|      0|      10.0|        323|    6.25|     4.13|\n",
            "|                 LAX|           NZ|                   AKL|  3|2020-01-17|  14|     0|         3|        6|                      0|                        7|                       17|                         25|        49|                    77W|                       77W|        0|           0|                681|                  725|                    34|                     10|            18|         1468|              50.88|      0.55|    46.3|    0.84|284.7|            0.0|              0.0|      null|  1021.3|Partly Cloudy|      50.88|      0|      10.0|        338|    5.54|     5.06|\n",
            "|                 LAX|           AA|                   PEK|  4|2020-01-17|  14|    40|         3|        6|                      0|                        0|                        0|                          0|         0|                    788|                       788|        0|           0|                683|                  730|                    10|                     37|            22|         1482|              50.88|      0.55|    46.3|    0.84|284.7|            0.0|              0.0|      null|  1021.3|Partly Cloudy|      50.88|      0|      10.0|        338|    5.54|     5.06|\n",
            "+--------------------+-------------+----------------------+---+----------+----+------+----------+---------+-----------------------+-------------------------+-------------------------+---------------------------+----------+-----------------------+--------------------------+---------+------------+-------------------+---------------------+----------------------+-----------------------+--------------+-------------+-------------------+----------+--------+--------+-----+---------------+-----------------+----------+--------+-------------+-----------+-------+----------+-----------+--------+---------+\n",
            "only showing top 5 rows\n",
            "\n"
          ],
          "name": "stdout"
        }
      ]
    },
    {
      "cell_type": "code",
      "metadata": {
        "id": "qt_y4sfWL1Un",
        "colab_type": "code",
        "outputId": "adf70411-8651-4639-c39b-dd66f5dad709",
        "colab": {
          "base_uri": "https://localhost:8080/",
          "height": 232
        }
      },
      "source": [
        "# rinse and repeat for the departing flights\n",
        "df_dep_final = df_dep_wthr.drop('arrivalDate', 'delays', 'flightDurations', 'flightEquipment',\n",
        "                                'localDate', 'localTimeStamp', 'icon', 'f_time')\n",
        "df_dep_final.show(5)"
      ],
      "execution_count": 18,
      "outputs": [
        {
          "output_type": "stream",
          "text": [
            "+--------------------+-------------+----------------------+---+----------+----+------+----------+---------+-----------------------+-------------------------+-------------------------+---------------------------+----------+-----------------------+--------------------------+---------+-------------------+---------------------+----------------------+-----------------------+-------------+-------------------+----------+--------+--------+-----+---------------+-----------------+----------+--------+-------------+-----------+-------+----------+-----------+--------+---------+\n",
            "|arrivalAirportFsCode|carrierFsCode|departureAirportFsCode| id|      date|hour|minute|weekOfYear|dayOfWeek|arrivalGateDelayMinutes|arrivalRunwayDelayMinutes|departureGateDelayMinutes|departureRunwayDelayMinutes|totalDelay|actualEquipmentIataCode|scheduledEquipmentIataCode|eqChanged|scheduledAirMinutes|scheduledBlockMinutes|scheduledTaxiInMinutes|scheduledTaxiOutMinutes|totalDuration|apparentTemperature|cloudCover|dewPoint|humidity|ozone|precipIntensity|precipProbability|precipType|pressure|      summary|temperature|uvIndex|visibility|windBearing|windGust|windSpeed|\n",
            "+--------------------+-------------+----------------------+---+----------+----+------+----------+---------+-----------------------+-------------------------+-------------------------+---------------------------+----------+-----------------------+--------------------------+---------+-------------------+---------------------+----------------------+-----------------------+-------------+-------------------+----------+--------+--------+-----+---------------+-----------------+----------+--------+-------------+-----------+-------+----------+-----------+--------+---------+\n",
            "|                 DFW|           NK|                   LAX|  0|2020-01-17|  15|    56|         3|        6|                      0|                        0|                        0|                          0|         0|                    32S|                       32A|        1|                151|                  181|                     0|                    383|          715|              50.47|      0.56|   45.36|    0.83|281.3|         4.0E-4|             0.01|      rain|  1021.9|Partly Cloudy|      50.47|      0|      10.0|        345|    4.52|      1.1|\n",
            "|                 VNY|          JTL|                   LAX|  1|2020-01-17|  14|    12|         3|        6|                      0|                        0|                        0|                          0|         0|                    GR2|                      null|        1|                 12|                    0|                     0|                     30|           42|              50.88|      0.55|    46.3|    0.84|284.7|            0.0|              0.0|      null|  1021.3|Partly Cloudy|      50.88|      0|      10.0|        338|    5.54|     5.06|\n",
            "|                 SMF|           WN|                   LAX|  2|2020-01-17|  15|     0|         3|        6|                     20|                        0|                       20|                         15|        55|                    73W|                       73W|        0|                 62|                   90|                     0|                     31|          183|              50.47|      0.56|   45.36|    0.83|281.3|         4.0E-4|             0.01|      rain|  1021.9|Partly Cloudy|      50.47|      0|      10.0|        345|    4.52|      1.1|\n",
            "|                 AUS|           AA|                   LAX|  3|2020-01-17|  18|    29|         3|        6|                     25|                       24|                       25|                         25|        99|                    32B|                       321|        1|                152|                  174|                     6|                     16|          348|              55.01|      0.41|   46.17|    0.72|275.9|            0.0|              0.0|      null|  1024.2|Partly Cloudy|      55.01|      2|      10.0|         39|    5.51|     3.48|\n",
            "|                 SAN|           OO|                   LAX|  4|2020-01-17|  14|    37|         3|        6|                      0|                        0|                        0|                          0|         0|                    CR7|                       CR7|        0|                 29|                   54|                     3|                     22|          108|              50.88|      0.55|    46.3|    0.84|284.7|            0.0|              0.0|      null|  1021.3|Partly Cloudy|      50.88|      0|      10.0|        338|    5.54|     5.06|\n",
            "+--------------------+-------------+----------------------+---+----------+----+------+----------+---------+-----------------------+-------------------------+-------------------------+---------------------------+----------+-----------------------+--------------------------+---------+-------------------+---------------------+----------------------+-----------------------+-------------+-------------------+----------+--------+--------+-----+---------------+-----------------+----------+--------+-------------+-----------+-------+----------+-----------+--------+---------+\n",
            "only showing top 5 rows\n",
            "\n"
          ],
          "name": "stdout"
        }
      ]
    },
    {
      "cell_type": "markdown",
      "metadata": {
        "id": "LQkpyl7xCk0E",
        "colab_type": "text"
      },
      "source": [
        "While we have the columns narrowed down, we still have a long way to go to be ready to build a model. Since we will be using linear regression as one of the methods, we have to encode all the categorical variables."
      ]
    },
    {
      "cell_type": "code",
      "metadata": {
        "id": "Ww69i2Wl0Zum",
        "colab_type": "code",
        "outputId": "321fa69f-9a6a-420b-83b8-834213594e03",
        "colab": {
          "base_uri": "https://localhost:8080/",
          "height": 763
        }
      },
      "source": [
        "df_arr_final.printSchema()"
      ],
      "execution_count": 19,
      "outputs": [
        {
          "output_type": "stream",
          "text": [
            "root\n",
            " |-- arrivalAirportFsCode: string (nullable = true)\n",
            " |-- carrierFsCode: string (nullable = true)\n",
            " |-- departureAirportFsCode: string (nullable = true)\n",
            " |-- id: long (nullable = false)\n",
            " |-- date: date (nullable = true)\n",
            " |-- hour: integer (nullable = true)\n",
            " |-- minute: integer (nullable = true)\n",
            " |-- weekOfYear: integer (nullable = true)\n",
            " |-- dayOfWeek: integer (nullable = true)\n",
            " |-- arrivalGateDelayMinutes: long (nullable = true)\n",
            " |-- arrivalRunwayDelayMinutes: long (nullable = true)\n",
            " |-- departureGateDelayMinutes: long (nullable = true)\n",
            " |-- departureRunwayDelayMinutes: long (nullable = true)\n",
            " |-- totalDelay: long (nullable = true)\n",
            " |-- actualEquipmentIataCode: string (nullable = true)\n",
            " |-- scheduledEquipmentIataCode: string (nullable = true)\n",
            " |-- eqChanged: integer (nullable = true)\n",
            " |-- blockMinutes: long (nullable = true)\n",
            " |-- scheduledAirMinutes: long (nullable = true)\n",
            " |-- scheduledBlockMinutes: long (nullable = true)\n",
            " |-- scheduledTaxiInMinutes: long (nullable = true)\n",
            " |-- scheduledTaxiOutMinutes: long (nullable = true)\n",
            " |-- taxiOutMinutes: long (nullable = true)\n",
            " |-- totalDuration: long (nullable = true)\n",
            " |-- apparentTemperature: double (nullable = true)\n",
            " |-- cloudCover: double (nullable = true)\n",
            " |-- dewPoint: double (nullable = true)\n",
            " |-- humidity: double (nullable = true)\n",
            " |-- ozone: double (nullable = true)\n",
            " |-- precipIntensity: double (nullable = true)\n",
            " |-- precipProbability: double (nullable = true)\n",
            " |-- precipType: string (nullable = true)\n",
            " |-- pressure: double (nullable = true)\n",
            " |-- summary: string (nullable = true)\n",
            " |-- temperature: double (nullable = true)\n",
            " |-- uvIndex: long (nullable = true)\n",
            " |-- visibility: double (nullable = true)\n",
            " |-- windBearing: long (nullable = true)\n",
            " |-- windGust: double (nullable = true)\n",
            " |-- windSpeed: double (nullable = true)\n",
            "\n"
          ],
          "name": "stdout"
        }
      ]
    },
    {
      "cell_type": "code",
      "metadata": {
        "id": "qou6ZcdiMnrh",
        "colab_type": "code",
        "outputId": "b553dc34-35cb-49b4-af33-5dad366b2559",
        "colab": {
          "base_uri": "https://localhost:8080/",
          "height": 54
        }
      },
      "source": [
        "# let's first create a dictionary of all the carriers present in the dataframe\n",
        "# get unique values from column\n",
        "unique_airlines = df_arr_final.select('carrierFsCode').distinct()\n",
        "\n",
        "# make a list of all airlines\n",
        "airline_list = [row.carrierFsCode for row in unique_airlines.collect()]\n",
        "\n",
        "# create a random sampling of integer ids\n",
        "random_codes = random.sample(range(1000), len(airline_list))\n",
        "\n",
        "# assign each random int id to an airline\n",
        "airline_dict = dict(zip(airline_list, random_codes))\n",
        "print(airline_dict)\n"
      ],
      "execution_count": 54,
      "outputs": [
        {
          "output_type": "stream",
          "text": [
            "{'XOJ': 136, 'CI': 774, 'BAI': 80, 'UA': 264, 'NK': 715, 'AA': 955, 'AV': 508, 'QF': 828, 'CZ': 843, 'B6': 194, 'CX': 202, 'NH': 915, 'CV': 495, 'SU': 991, 'LX': 143, 'DL': 773, 'CA': 683, 'MW': 288, 'BR': 301, 'OO': 792, 'F9': 846, 'VB': 504, 'LH': 815, 'CM': 104, 'Y4': 62, 'VS': 703, 'HA': 724, 'BA': 418, 'LP': 388, 'EI': 908, 'WS': 605, 'DI*': 148, 'LO': 507, 'MU': 125, '5X': 921, 'G4': 290, 'MF': 671, 'NZ': 409, 'CP': 585, 'QR': 885, 'OZ': 637, 'KE': 325, '1I': 306, 'AS': 898, 'AC': 102, 'QX': 248, 'K4': 557, 'TK': 184, 'PR': 393, 'TA': 417, 'SQ': 841, 'AF': 186, 'WN': 157, 'L1E': 525}\n"
          ],
          "name": "stdout"
        }
      ]
    },
    {
      "cell_type": "code",
      "metadata": {
        "id": "5VJg9jm9j2vO",
        "colab_type": "code",
        "outputId": "d11f80f9-7229-4141-d9a2-2d9f6c7dab38",
        "colab": {
          "base_uri": "https://localhost:8080/",
          "height": 34
        }
      },
      "source": [
        "total_flts = df_arr_final.count()\n",
        "unique_from_stn = df_arr_final.select('departureAirportFsCode').distinct()\n",
        "from_stn_total = unique_from_stn.count()\n",
        "total_alines = len(airline_list)\n",
        "arr_airpt = df_arr_final.first().arrivalAirportFsCode\n",
        "\n",
        "print(f'There were {total_flts} flights from {from_stn_total} different stations operated by {total_alines} different airlines arriving at {arr_airpt} in the past 24 hours.')"
      ],
      "execution_count": 25,
      "outputs": [
        {
          "output_type": "stream",
          "text": [
            "There were 337 flights from 123 different stations operated by 54 different airlines arriving at LAX in the past 24 hours.\n"
          ],
          "name": "stdout"
        }
      ]
    },
    {
      "cell_type": "markdown",
      "metadata": {
        "id": "8ZFSDrSGR6Rx",
        "colab_type": "text"
      },
      "source": [
        "Now that we have a dictionary, let's apply it to our dataframe."
      ]
    },
    {
      "cell_type": "code",
      "metadata": {
        "id": "eAoJGJxVHGMP",
        "colab_type": "code",
        "outputId": "cd59816e-9d4e-4ba2-a431-2b7e26507bc1",
        "colab": {
          "base_uri": "https://localhost:8080/",
          "height": 232
        }
      },
      "source": [
        "map_exp = create_map([lit(x) for x in chain(*airline_dict.items())])\n",
        "\n",
        "df_arr_final = df_arr_final.withColumn('a_code', map_exp.getItem(col('carrierFsCode')))\n",
        "df_arr_final.show(5)"
      ],
      "execution_count": 26,
      "outputs": [
        {
          "output_type": "stream",
          "text": [
            "+--------------------+-------------+----------------------+---+----------+----+------+----------+---------+-----------------------+-------------------------+-------------------------+---------------------------+----------+-----------------------+--------------------------+---------+------------+-------------------+---------------------+----------------------+-----------------------+--------------+-------------+-------------------+----------+--------+--------+-----+---------------+-----------------+----------+--------+-------------+-----------+-------+----------+-----------+--------+---------+------+\n",
            "|arrivalAirportFsCode|carrierFsCode|departureAirportFsCode| id|      date|hour|minute|weekOfYear|dayOfWeek|arrivalGateDelayMinutes|arrivalRunwayDelayMinutes|departureGateDelayMinutes|departureRunwayDelayMinutes|totalDelay|actualEquipmentIataCode|scheduledEquipmentIataCode|eqChanged|blockMinutes|scheduledAirMinutes|scheduledBlockMinutes|scheduledTaxiInMinutes|scheduledTaxiOutMinutes|taxiOutMinutes|totalDuration|apparentTemperature|cloudCover|dewPoint|humidity|ozone|precipIntensity|precipProbability|precipType|pressure|      summary|temperature|uvIndex|visibility|windBearing|windGust|windSpeed|a_code|\n",
            "+--------------------+-------------+----------------------+---+----------+----+------+----------+---------+-----------------------+-------------------------+-------------------------+---------------------------+----------+-----------------------+--------------------------+---------+------------+-------------------+---------------------+----------------------+-----------------------+--------------+-------------+-------------------+----------+--------+--------+-----+---------------+-----------------+----------+--------+-------------+-----------+-------+----------+-----------+--------+---------+------+\n",
            "|                 LAX|           QR|                   DOH|  0|2020-01-17|  13|    10|         3|        6|                      0|                       13|                       52|                         60|       125|                    77L|                       77L|        0|           0|               1021|                  985|                     0|                     10|            18|         2034|              51.24|      0.64|   46.86|    0.85|289.0|         7.0E-4|             0.01|      rain|  1020.6|Mostly Cloudy|      51.24|      0|      10.0|        323|    6.25|     4.13|   979|\n",
            "|                 LAX|           QF|                   SYD|  1|2020-01-17|  13|    15|         3|        6|                    205|                      247|                      226|                        240|       918|                    388|                       388|        0|           0|                763|                  830|                    57|                     10|            24|         1684|              51.24|      0.64|   46.86|    0.85|289.0|         7.0E-4|             0.01|      rain|  1020.6|Mostly Cloudy|      51.24|      0|      10.0|        323|    6.25|     4.13|   900|\n",
            "|                 LAX|           SU|                   SVO|  2|2020-01-17|  13|    50|         3|        6|                     14|                       23|                        0|                          0|        37|                    332|                       332|        0|           0|                745|                  770|                    15|                     10|            23|         1563|              51.24|      0.64|   46.86|    0.85|289.0|         7.0E-4|             0.01|      rain|  1020.6|Mostly Cloudy|      51.24|      0|      10.0|        323|    6.25|     4.13|   813|\n",
            "|                 LAX|           NZ|                   AKL|  3|2020-01-17|  14|     0|         3|        6|                      0|                        7|                       17|                         25|        49|                    77W|                       77W|        0|           0|                681|                  725|                    34|                     10|            18|         1468|              50.88|      0.55|    46.3|    0.84|284.7|            0.0|              0.0|      null|  1021.3|Partly Cloudy|      50.88|      0|      10.0|        338|    5.54|     5.06|    31|\n",
            "|                 LAX|           AA|                   PEK|  4|2020-01-17|  14|    40|         3|        6|                      0|                        0|                        0|                          0|         0|                    788|                       788|        0|           0|                683|                  730|                    10|                     37|            22|         1482|              50.88|      0.55|    46.3|    0.84|284.7|            0.0|              0.0|      null|  1021.3|Partly Cloudy|      50.88|      0|      10.0|        338|    5.54|     5.06|   806|\n",
            "+--------------------+-------------+----------------------+---+----------+----+------+----------+---------+-----------------------+-------------------------+-------------------------+---------------------------+----------+-----------------------+--------------------------+---------+------------+-------------------+---------------------+----------------------+-----------------------+--------------+-------------+-------------------+----------+--------+--------+-----+---------------+-----------------+----------+--------+-------------+-----------+-------+----------+-----------+--------+---------+------+\n",
            "only showing top 5 rows\n",
            "\n"
          ],
          "name": "stdout"
        }
      ]
    },
    {
      "cell_type": "markdown",
      "metadata": {
        "id": "-VtZUbpzN5wm",
        "colab_type": "text"
      },
      "source": [
        "Looking through the dataframe, we have a couple more columns that needs to go under the same process to encode."
      ]
    },
    {
      "cell_type": "code",
      "metadata": {
        "id": "iInHX0tLSrjR",
        "colab_type": "code",
        "outputId": "48420945-b291-4f6a-dab3-41394bd095e6",
        "colab": {
          "base_uri": "https://localhost:8080/",
          "height": 54
        }
      },
      "source": [
        "# originating stations\n",
        "from_stn_list = [row.departureAirportFsCode for row in unique_from_stn.collect()]\n",
        "random_codes_2 = random.sample(range(1001, 2000), len(from_stn_list))\n",
        "from_stn_dict = dict(zip(from_stn_list, random_codes_2))\n",
        "print(from_stn_dict)"
      ],
      "execution_count": 27,
      "outputs": [
        {
          "output_type": "stream",
          "text": [
            "{'MSY': 1345, 'GEG': 1991, 'EUG': 1512, 'OAK': 1518, 'BNE': 1765, 'MSN': 1220, 'DCA': 1887, 'QRO': 1574, 'RDM': 1833, 'PEK': 1464, 'CMH': 1992, 'CDG': 1046, 'SIN': 1371, 'IAH': 1634, 'MZT': 1085, 'SYD': 1769, 'HNL': 1380, 'SJC': 1197, 'BUF': 1550, 'PVG': 1917, 'AUS': 1728, 'MUC': 1614, 'MEX': 1139, 'ZIH': 1154, 'RNO': 1429, 'JAC': 1217, 'IPL': 1881, 'TUL': 1076, 'BOS': 1191, 'EWR': 1238, 'DOH': 1121, 'LAS': 1306, 'YEG': 1214, 'LIR': 1567, 'BCN': 1997, 'XNA': 1933, 'YYZ': 1003, 'DEN': 1734, 'BJX': 1541, 'IAD': 1638, 'BOI': 1772, 'SBA': 1385, 'SJD': 1494, 'SEA': 1413, 'MNL': 1715, 'ICN': 1704, 'MCI': 1107, 'WAW': 1178, 'CLT': 1717, 'BNA': 1093, 'PAE': 1447, 'YVR': 1163, 'CUN': 1325, 'ABQ': 1328, 'SVO': 1377, 'SDF': 1183, 'MEL': 1213, 'SCK': 1802, 'DAL': 1896, 'MRY': 1216, 'PDX': 1757, 'PVR': 1938, 'LGW': 1805, 'MIA': 1743, 'MFR': 1852, 'LHR': 1663, 'DGO': 1526, 'PRC': 1442, 'SAL': 1976, 'OKC': 1607, 'YYC': 1905, 'SMF': 1335, 'PTY': 1037, 'PHX': 1432, 'STL': 1475, 'DFW': 1364, 'MMH': 1028, 'TEB': 1693, 'HDN': 1561, 'EGE': 1961, 'SWF': 1119, 'SUN': 1423, 'SFO': 1215, 'MEM': 1989, 'ELP': 1004, 'CAN': 1754, 'ATL': 1054, 'TPE': 1594, 'OMA': 1053, 'TAO': 1112, 'DUB': 1095, 'AKL': 1270, 'FAT': 1530, 'ZRH': 1317, 'ORD': 1531, 'HND': 1050, 'TRM': 1126, 'TUS': 1010, 'MDW': 1746, 'COS': 1300, 'LIM': 1851, 'IND': 1959, 'HKG': 1103, 'VNY': 1308, 'DTW': 1264, 'BOG': 1290, 'HOU': 1473, 'MCE': 1602, 'STS': 1148, 'MSP': 1396, 'LAX': 1899, 'MCO': 1407, 'SAN': 1219, 'BZN': 1855, 'PPT': 1862, 'JFK': 1656, 'GDL': 1032, 'PHL': 1421, 'OGG': 1268, 'ISL': 1825, 'SAT': 1025, 'SLC': 1450, 'ASE': 1646}\n"
          ],
          "name": "stdout"
        }
      ]
    },
    {
      "cell_type": "code",
      "metadata": {
        "id": "5GUM721-xWmH",
        "colab_type": "code",
        "colab": {}
      },
      "source": [
        "#df_arr_final.columns"
      ],
      "execution_count": 0,
      "outputs": []
    },
    {
      "cell_type": "code",
      "metadata": {
        "id": "-YoDvbrkTOJl",
        "colab_type": "code",
        "outputId": "4b8bbded-f250-4a70-f33b-98e0cf6c3835",
        "colab": {
          "base_uri": "https://localhost:8080/",
          "height": 72
        }
      },
      "source": [
        "# aircrafts(ac)\n",
        "ac_actual = df_arr_final.select('actualEquipmentIataCode').na.fill('None').distinct()\n",
        "ac_sched = df_arr_final.select('scheduledEquipmentIataCode').na.fill('None').distinct()\n",
        "\n",
        "ac_actual_list = [row.actualEquipmentIataCode for row in ac_actual.collect()]\n",
        "ac_sched_list = [row.scheduledEquipmentIataCode for row in ac_sched.collect()]\n",
        "\n",
        "ac_combo_list = list(set(ac_actual_list + ac_sched_list))\n",
        "\n",
        "random_codes_3 = random.sample(range(2001, 3000), len(ac_combo_list))\n",
        "\n",
        "ac_dict = dict(zip(ac_combo_list, random_codes_3))\n",
        "print(ac_dict)\n",
        "\n",
        "print(f'A total of {len(ac_combo_list)} different types of aircraft operating today.')"
      ],
      "execution_count": 28,
      "outputs": [
        {
          "output_type": "stream",
          "text": [
            "{'73G': 2670, '752': 2362, '7S8': 2732, '753': 2404, '388': 2093, 'PL2': 2904, '74F': 2631, '75T': 2055, 'CR7': 2786, '77F': 2225, 'CN2': 2293, '321': 2637, '76W': 2010, '773': 2158, '74Y': 2925, 'CNA': 2380, 'None': 2418, '73H': 2250, '32N': 2773, '73J': 2663, '788': 2309, 'CJL': 2434, '75W': 2873, 'E7W': 2476, '772': 2284, '77L': 2820, '73R': 2642, '32B': 2824, '359': 2916, '319': 2875, '739': 2041, '32Q': 2562, '763': 2295, '741': 2766, '738': 2466, '32S': 2990, '32A': 2672, 'CR2': 2247, '757': 2729, '31B': 2449, '75D': 2806, '76V': 2065, '320': 2267, '346': 2714, '332': 2793, '330': 2367, 'E75': 2752, '77W': 2550, '744': 2677, '73W': 2830, '747': 2259, '77X': 2861, '781': 2152, '789': 2656, '74N': 2275, 'CNJ': 2245, 'CRJ': 2366}\n",
            "A total of 57 different types of aircraft operating today.\n"
          ],
          "name": "stdout"
        }
      ]
    },
    {
      "cell_type": "code",
      "metadata": {
        "id": "gT7MM5YDWHwB",
        "colab_type": "code",
        "outputId": "4ce9a246-0ccf-4456-ca3d-3fec4fedb8f4",
        "colab": {
          "base_uri": "https://localhost:8080/",
          "height": 141
        }
      },
      "source": [
        "# precipitation\n",
        "df_arr_final.select('precipType').distinct().show()\n"
      ],
      "execution_count": 29,
      "outputs": [
        {
          "output_type": "stream",
          "text": [
            "+----------+\n",
            "|precipType|\n",
            "+----------+\n",
            "|      null|\n",
            "|      rain|\n",
            "+----------+\n",
            "\n"
          ],
          "name": "stdout"
        }
      ]
    },
    {
      "cell_type": "markdown",
      "metadata": {
        "id": "UKQkx0-Sz-Qm",
        "colab_type": "text"
      },
      "source": [
        "It looks like we can just drop this column altogether."
      ]
    },
    {
      "cell_type": "code",
      "metadata": {
        "id": "-QNfPikMaJIr",
        "colab_type": "code",
        "colab": {}
      },
      "source": [
        "df_arr_final = df_arr_final.drop('precipType', 'summary')"
      ],
      "execution_count": 0,
      "outputs": []
    },
    {
      "cell_type": "code",
      "metadata": {
        "id": "mzyt5XH20oeS",
        "colab_type": "code",
        "outputId": "a9b50b54-dd5a-49e9-9f7e-59c28cbfc436",
        "colab": {
          "base_uri": "https://localhost:8080/",
          "height": 161
        }
      },
      "source": [
        "df_arr_final.show(1)"
      ],
      "execution_count": 37,
      "outputs": [
        {
          "output_type": "stream",
          "text": [
            "+--------------------+-------------+----------------------+---+----------+----+------+----------+---------+-----------------------+-------------------------+-------------------------+---------------------------+----------+-----------------------+--------------------------+---------+------------+-------------------+---------------------+----------------------+-----------------------+--------------+-------------+-------------------+----------+--------+--------+-----+---------------+-----------------+--------+-----------+-------+----------+-----------+--------+---------+------+-------+--------+--------+\n",
            "|arrivalAirportFsCode|carrierFsCode|departureAirportFsCode| id|      date|hour|minute|weekOfYear|dayOfWeek|arrivalGateDelayMinutes|arrivalRunwayDelayMinutes|departureGateDelayMinutes|departureRunwayDelayMinutes|totalDelay|actualEquipmentIataCode|scheduledEquipmentIataCode|eqChanged|blockMinutes|scheduledAirMinutes|scheduledBlockMinutes|scheduledTaxiInMinutes|scheduledTaxiOutMinutes|taxiOutMinutes|totalDuration|apparentTemperature|cloudCover|dewPoint|humidity|ozone|precipIntensity|precipProbability|pressure|temperature|uvIndex|visibility|windBearing|windGust|windSpeed|a_code|fm_code|aac_code|sac_code|\n",
            "+--------------------+-------------+----------------------+---+----------+----+------+----------+---------+-----------------------+-------------------------+-------------------------+---------------------------+----------+-----------------------+--------------------------+---------+------------+-------------------+---------------------+----------------------+-----------------------+--------------+-------------+-------------------+----------+--------+--------+-----+---------------+-----------------+--------+-----------+-------+----------+-----------+--------+---------+------+-------+--------+--------+\n",
            "|                 LAX|           QR|                   DOH|  0|2020-01-17|  13|    10|         3|        6|                      0|                       13|                       52|                         60|       125|                    77L|                       77L|        0|           0|               1021|                  985|                     0|                     10|            18|         2034|              51.24|      0.64|   46.86|    0.85|289.0|         7.0E-4|             0.01|  1020.6|      51.24|      0|      10.0|        323|    6.25|     4.13|   979|   1121|    2820|    2820|\n",
            "+--------------------+-------------+----------------------+---+----------+----+------+----------+---------+-----------------------+-------------------------+-------------------------+---------------------------+----------+-----------------------+--------------------------+---------+------------+-------------------+---------------------+----------------------+-----------------------+--------------+-------------+-------------------+----------+--------+--------+-----+---------------+-----------------+--------+-----------+-------+----------+-----------+--------+---------+------+-------+--------+--------+\n",
            "only showing top 1 row\n",
            "\n"
          ],
          "name": "stdout"
        }
      ]
    },
    {
      "cell_type": "code",
      "metadata": {
        "id": "JB5iXmfR2Hvx",
        "colab_type": "code",
        "colab": {}
      },
      "source": [
        "map_exp_2 = create_map([lit(x) for x in chain(*from_stn_dict.items())])\n",
        "map_exp_3 = create_map([lit(x) for x in chain(*ac_dict.items())])"
      ],
      "execution_count": 0,
      "outputs": []
    },
    {
      "cell_type": "code",
      "metadata": {
        "id": "7p9YR4mK7Eh1",
        "colab_type": "code",
        "colab": {}
      },
      "source": [
        "df_arr_final = df_arr_final.withColumn('fm_code', map_exp_2.getItem(col('departureAirportFsCode')))\n",
        "df_arr_final = df_arr_final.withColumn('aac_code', map_exp_3.getItem(col('actualEquipmentIataCode')))\n",
        "df_arr_final = df_arr_final.withColumn('sac_code', map_exp_3.getItem(col('scheduledEquipmentIataCode')))"
      ],
      "execution_count": 0,
      "outputs": []
    },
    {
      "cell_type": "code",
      "metadata": {
        "id": "yJ_dp1vj9h6j",
        "colab_type": "code",
        "outputId": "54a15ba6-3c78-4b89-d084-58beb6bbb30a",
        "colab": {
          "base_uri": "https://localhost:8080/",
          "height": 232
        }
      },
      "source": [
        "df_arr_final.show(5)"
      ],
      "execution_count": 34,
      "outputs": [
        {
          "output_type": "stream",
          "text": [
            "+--------------------+-------------+----------------------+---+----------+----+------+----------+---------+-----------------------+-------------------------+-------------------------+---------------------------+----------+-----------------------+--------------------------+---------+------------+-------------------+---------------------+----------------------+-----------------------+--------------+-------------+-------------------+----------+--------+--------+-----+---------------+-----------------+--------+-----------+-------+----------+-----------+--------+---------+------+-------+--------+--------+\n",
            "|arrivalAirportFsCode|carrierFsCode|departureAirportFsCode| id|      date|hour|minute|weekOfYear|dayOfWeek|arrivalGateDelayMinutes|arrivalRunwayDelayMinutes|departureGateDelayMinutes|departureRunwayDelayMinutes|totalDelay|actualEquipmentIataCode|scheduledEquipmentIataCode|eqChanged|blockMinutes|scheduledAirMinutes|scheduledBlockMinutes|scheduledTaxiInMinutes|scheduledTaxiOutMinutes|taxiOutMinutes|totalDuration|apparentTemperature|cloudCover|dewPoint|humidity|ozone|precipIntensity|precipProbability|pressure|temperature|uvIndex|visibility|windBearing|windGust|windSpeed|a_code|fm_code|aac_code|sac_code|\n",
            "+--------------------+-------------+----------------------+---+----------+----+------+----------+---------+-----------------------+-------------------------+-------------------------+---------------------------+----------+-----------------------+--------------------------+---------+------------+-------------------+---------------------+----------------------+-----------------------+--------------+-------------+-------------------+----------+--------+--------+-----+---------------+-----------------+--------+-----------+-------+----------+-----------+--------+---------+------+-------+--------+--------+\n",
            "|                 LAX|           QR|                   DOH|  0|2020-01-17|  13|    10|         3|        6|                      0|                       13|                       52|                         60|       125|                    77L|                       77L|        0|           0|               1021|                  985|                     0|                     10|            18|         2034|              51.24|      0.64|   46.86|    0.85|289.0|         7.0E-4|             0.01|  1020.6|      51.24|      0|      10.0|        323|    6.25|     4.13|   979|   1121|    2820|    2820|\n",
            "|                 LAX|           QF|                   SYD|  1|2020-01-17|  13|    15|         3|        6|                    205|                      247|                      226|                        240|       918|                    388|                       388|        0|           0|                763|                  830|                    57|                     10|            24|         1684|              51.24|      0.64|   46.86|    0.85|289.0|         7.0E-4|             0.01|  1020.6|      51.24|      0|      10.0|        323|    6.25|     4.13|   900|   1769|    2093|    2093|\n",
            "|                 LAX|           SU|                   SVO|  2|2020-01-17|  13|    50|         3|        6|                     14|                       23|                        0|                          0|        37|                    332|                       332|        0|           0|                745|                  770|                    15|                     10|            23|         1563|              51.24|      0.64|   46.86|    0.85|289.0|         7.0E-4|             0.01|  1020.6|      51.24|      0|      10.0|        323|    6.25|     4.13|   813|   1377|    2793|    2793|\n",
            "|                 LAX|           NZ|                   AKL|  3|2020-01-17|  14|     0|         3|        6|                      0|                        7|                       17|                         25|        49|                    77W|                       77W|        0|           0|                681|                  725|                    34|                     10|            18|         1468|              50.88|      0.55|    46.3|    0.84|284.7|            0.0|              0.0|  1021.3|      50.88|      0|      10.0|        338|    5.54|     5.06|    31|   1270|    2550|    2550|\n",
            "|                 LAX|           AA|                   PEK|  4|2020-01-17|  14|    40|         3|        6|                      0|                        0|                        0|                          0|         0|                    788|                       788|        0|           0|                683|                  730|                    10|                     37|            22|         1482|              50.88|      0.55|    46.3|    0.84|284.7|            0.0|              0.0|  1021.3|      50.88|      0|      10.0|        338|    5.54|     5.06|   806|   1464|    2309|    2309|\n",
            "+--------------------+-------------+----------------------+---+----------+----+------+----------+---------+-----------------------+-------------------------+-------------------------+---------------------------+----------+-----------------------+--------------------------+---------+------------+-------------------+---------------------+----------------------+-----------------------+--------------+-------------+-------------------+----------+--------+--------+-----+---------------+-----------------+--------+-----------+-------+----------+-----------+--------+---------+------+-------+--------+--------+\n",
            "only showing top 5 rows\n",
            "\n"
          ],
          "name": "stdout"
        }
      ]
    },
    {
      "cell_type": "markdown",
      "metadata": {
        "id": "E5MTapy7-Co7",
        "colab_type": "text"
      },
      "source": [
        "Once the columns containing non-numerical values are dropped, we should finally have a dataframe we can model and predict with."
      ]
    },
    {
      "cell_type": "code",
      "metadata": {
        "id": "Ka5MPELU9zMN",
        "colab_type": "code",
        "outputId": "e481df9a-d934-4e20-b7e5-7be4f2e2ade6",
        "colab": {
          "base_uri": "https://localhost:8080/",
          "height": 232
        }
      },
      "source": [
        "df_arr_num = df_arr_final.drop('arrivalAirportFsCode', 'carrierFsCode', 'departureAirportFsCode', 'date', 'id',\n",
        "                               'actualEquipmentIataCode', 'scheduledEquipmentIataCode')\n",
        "df_arr_num.show(5)"
      ],
      "execution_count": 35,
      "outputs": [
        {
          "output_type": "stream",
          "text": [
            "+----+------+----------+---------+-----------------------+-------------------------+-------------------------+---------------------------+----------+---------+------------+-------------------+---------------------+----------------------+-----------------------+--------------+-------------+-------------------+----------+--------+--------+-----+---------------+-----------------+--------+-----------+-------+----------+-----------+--------+---------+------+-------+--------+--------+\n",
            "|hour|minute|weekOfYear|dayOfWeek|arrivalGateDelayMinutes|arrivalRunwayDelayMinutes|departureGateDelayMinutes|departureRunwayDelayMinutes|totalDelay|eqChanged|blockMinutes|scheduledAirMinutes|scheduledBlockMinutes|scheduledTaxiInMinutes|scheduledTaxiOutMinutes|taxiOutMinutes|totalDuration|apparentTemperature|cloudCover|dewPoint|humidity|ozone|precipIntensity|precipProbability|pressure|temperature|uvIndex|visibility|windBearing|windGust|windSpeed|a_code|fm_code|aac_code|sac_code|\n",
            "+----+------+----------+---------+-----------------------+-------------------------+-------------------------+---------------------------+----------+---------+------------+-------------------+---------------------+----------------------+-----------------------+--------------+-------------+-------------------+----------+--------+--------+-----+---------------+-----------------+--------+-----------+-------+----------+-----------+--------+---------+------+-------+--------+--------+\n",
            "|  13|    10|         3|        6|                      0|                       13|                       52|                         60|       125|        0|           0|               1021|                  985|                     0|                     10|            18|         2034|              51.24|      0.64|   46.86|    0.85|289.0|         7.0E-4|             0.01|  1020.6|      51.24|      0|      10.0|        323|    6.25|     4.13|   979|   1121|    2820|    2820|\n",
            "|  13|    15|         3|        6|                    205|                      247|                      226|                        240|       918|        0|           0|                763|                  830|                    57|                     10|            24|         1684|              51.24|      0.64|   46.86|    0.85|289.0|         7.0E-4|             0.01|  1020.6|      51.24|      0|      10.0|        323|    6.25|     4.13|   900|   1769|    2093|    2093|\n",
            "|  13|    50|         3|        6|                     14|                       23|                        0|                          0|        37|        0|           0|                745|                  770|                    15|                     10|            23|         1563|              51.24|      0.64|   46.86|    0.85|289.0|         7.0E-4|             0.01|  1020.6|      51.24|      0|      10.0|        323|    6.25|     4.13|   813|   1377|    2793|    2793|\n",
            "|  14|     0|         3|        6|                      0|                        7|                       17|                         25|        49|        0|           0|                681|                  725|                    34|                     10|            18|         1468|              50.88|      0.55|    46.3|    0.84|284.7|            0.0|              0.0|  1021.3|      50.88|      0|      10.0|        338|    5.54|     5.06|    31|   1270|    2550|    2550|\n",
            "|  14|    40|         3|        6|                      0|                        0|                        0|                          0|         0|        0|           0|                683|                  730|                    10|                     37|            22|         1482|              50.88|      0.55|    46.3|    0.84|284.7|            0.0|              0.0|  1021.3|      50.88|      0|      10.0|        338|    5.54|     5.06|   806|   1464|    2309|    2309|\n",
            "+----+------+----------+---------+-----------------------+-------------------------+-------------------------+---------------------------+----------+---------+------------+-------------------+---------------------+----------------------+-----------------------+--------------+-------------+-------------------+----------+--------+--------+-----+---------------+-----------------+--------+-----------+-------+----------+-----------+--------+---------+------+-------+--------+--------+\n",
            "only showing top 5 rows\n",
            "\n"
          ],
          "name": "stdout"
        }
      ]
    },
    {
      "cell_type": "code",
      "metadata": {
        "id": "gBZwTBYR_Ym8",
        "colab_type": "code",
        "colab": {}
      },
      "source": [
        "df_arr_final = df_arr_final.drop('precipType', 'summary', 'id', 'date')\n",
        "df_dep_final = df_dep_final.drop('precipType', 'summary', 'id', 'date')"
      ],
      "execution_count": 0,
      "outputs": []
    },
    {
      "cell_type": "code",
      "metadata": {
        "id": "dutVLIQmCIQG",
        "colab_type": "code",
        "colab": {
          "base_uri": "https://localhost:8080/",
          "height": 232
        },
        "outputId": "e301b0ab-e121-473e-b0a2-e003e5876265"
      },
      "source": [
        "df_dep_final.show(5)"
      ],
      "execution_count": 56,
      "outputs": [
        {
          "output_type": "stream",
          "text": [
            "+--------------------+-------------+----------------------+----+------+----------+---------+-----------------------+-------------------------+-------------------------+---------------------------+----------+-----------------------+--------------------------+---------+-------------------+---------------------+----------------------+-----------------------+-------------+-------------------+----------+--------+--------+-----+---------------+-----------------+--------+-----------+-------+----------+-----------+--------+---------+\n",
            "|arrivalAirportFsCode|carrierFsCode|departureAirportFsCode|hour|minute|weekOfYear|dayOfWeek|arrivalGateDelayMinutes|arrivalRunwayDelayMinutes|departureGateDelayMinutes|departureRunwayDelayMinutes|totalDelay|actualEquipmentIataCode|scheduledEquipmentIataCode|eqChanged|scheduledAirMinutes|scheduledBlockMinutes|scheduledTaxiInMinutes|scheduledTaxiOutMinutes|totalDuration|apparentTemperature|cloudCover|dewPoint|humidity|ozone|precipIntensity|precipProbability|pressure|temperature|uvIndex|visibility|windBearing|windGust|windSpeed|\n",
            "+--------------------+-------------+----------------------+----+------+----------+---------+-----------------------+-------------------------+-------------------------+---------------------------+----------+-----------------------+--------------------------+---------+-------------------+---------------------+----------------------+-----------------------+-------------+-------------------+----------+--------+--------+-----+---------------+-----------------+--------+-----------+-------+----------+-----------+--------+---------+\n",
            "|                 DFW|           NK|                   LAX|  15|    56|         3|        6|                      0|                        0|                        0|                          0|         0|                    32S|                       32A|        1|                151|                  181|                     0|                    383|          715|              50.47|      0.56|   45.36|    0.83|281.3|         4.0E-4|             0.01|  1021.9|      50.47|      0|      10.0|        345|    4.52|      1.1|\n",
            "|                 VNY|          JTL|                   LAX|  14|    12|         3|        6|                      0|                        0|                        0|                          0|         0|                    GR2|                      null|        1|                 12|                    0|                     0|                     30|           42|              50.88|      0.55|    46.3|    0.84|284.7|            0.0|              0.0|  1021.3|      50.88|      0|      10.0|        338|    5.54|     5.06|\n",
            "|                 SMF|           WN|                   LAX|  15|     0|         3|        6|                     20|                        0|                       20|                         15|        55|                    73W|                       73W|        0|                 62|                   90|                     0|                     31|          183|              50.47|      0.56|   45.36|    0.83|281.3|         4.0E-4|             0.01|  1021.9|      50.47|      0|      10.0|        345|    4.52|      1.1|\n",
            "|                 AUS|           AA|                   LAX|  18|    29|         3|        6|                     25|                       24|                       25|                         25|        99|                    32B|                       321|        1|                152|                  174|                     6|                     16|          348|              55.01|      0.41|   46.17|    0.72|275.9|            0.0|              0.0|  1024.2|      55.01|      2|      10.0|         39|    5.51|     3.48|\n",
            "|                 SAN|           OO|                   LAX|  14|    37|         3|        6|                      0|                        0|                        0|                          0|         0|                    CR7|                       CR7|        0|                 29|                   54|                     3|                     22|          108|              50.88|      0.55|    46.3|    0.84|284.7|            0.0|              0.0|  1021.3|      50.88|      0|      10.0|        338|    5.54|     5.06|\n",
            "+--------------------+-------------+----------------------+----+------+----------+---------+-----------------------+-------------------------+-------------------------+---------------------------+----------+-----------------------+--------------------------+---------+-------------------+---------------------+----------------------+-----------------------+-------------+-------------------+----------+--------+--------+-----+---------------+-----------------+--------+-----------+-------+----------+-----------+--------+---------+\n",
            "only showing top 5 rows\n",
            "\n"
          ],
          "name": "stdout"
        }
      ]
    },
    {
      "cell_type": "markdown",
      "metadata": {
        "id": "57_DhsRKH5as",
        "colab_type": "text"
      },
      "source": [
        "Just like we have been doing so far, let's process the the departing flights dataframe in summary fashion."
      ]
    },
    {
      "cell_type": "code",
      "metadata": {
        "id": "Rmdc8Y6GINUq",
        "colab_type": "code",
        "colab": {
          "base_uri": "https://localhost:8080/",
          "height": 232
        },
        "outputId": "b70e8f48-71e3-41c9-cd84-1c59cb1f98ea"
      },
      "source": [
        "# replace all null values\n",
        "df_dep_final = df_dep_final.fillna('None')\n",
        "df_dep_final.show(5)"
      ],
      "execution_count": 66,
      "outputs": [
        {
          "output_type": "stream",
          "text": [
            "+--------------------+-------------+----------------------+----+------+----------+---------+-----------------------+-------------------------+-------------------------+---------------------------+----------+-----------------------+--------------------------+---------+-------------------+---------------------+----------------------+-----------------------+-------------+-------------------+----------+--------+--------+-----+---------------+-----------------+--------+-----------+-------+----------+-----------+--------+---------+\n",
            "|arrivalAirportFsCode|carrierFsCode|departureAirportFsCode|hour|minute|weekOfYear|dayOfWeek|arrivalGateDelayMinutes|arrivalRunwayDelayMinutes|departureGateDelayMinutes|departureRunwayDelayMinutes|totalDelay|actualEquipmentIataCode|scheduledEquipmentIataCode|eqChanged|scheduledAirMinutes|scheduledBlockMinutes|scheduledTaxiInMinutes|scheduledTaxiOutMinutes|totalDuration|apparentTemperature|cloudCover|dewPoint|humidity|ozone|precipIntensity|precipProbability|pressure|temperature|uvIndex|visibility|windBearing|windGust|windSpeed|\n",
            "+--------------------+-------------+----------------------+----+------+----------+---------+-----------------------+-------------------------+-------------------------+---------------------------+----------+-----------------------+--------------------------+---------+-------------------+---------------------+----------------------+-----------------------+-------------+-------------------+----------+--------+--------+-----+---------------+-----------------+--------+-----------+-------+----------+-----------+--------+---------+\n",
            "|                 DFW|           NK|                   LAX|  15|    56|         3|        6|                      0|                        0|                        0|                          0|         0|                    32S|                       32A|        1|                151|                  181|                     0|                    383|          715|              50.47|      0.56|   45.36|    0.83|281.3|         4.0E-4|             0.01|  1021.9|      50.47|      0|      10.0|        345|    4.52|      1.1|\n",
            "|                 VNY|          JTL|                   LAX|  14|    12|         3|        6|                      0|                        0|                        0|                          0|         0|                    GR2|                      None|        1|                 12|                    0|                     0|                     30|           42|              50.88|      0.55|    46.3|    0.84|284.7|            0.0|              0.0|  1021.3|      50.88|      0|      10.0|        338|    5.54|     5.06|\n",
            "|                 SMF|           WN|                   LAX|  15|     0|         3|        6|                     20|                        0|                       20|                         15|        55|                    73W|                       73W|        0|                 62|                   90|                     0|                     31|          183|              50.47|      0.56|   45.36|    0.83|281.3|         4.0E-4|             0.01|  1021.9|      50.47|      0|      10.0|        345|    4.52|      1.1|\n",
            "|                 AUS|           AA|                   LAX|  18|    29|         3|        6|                     25|                       24|                       25|                         25|        99|                    32B|                       321|        1|                152|                  174|                     6|                     16|          348|              55.01|      0.41|   46.17|    0.72|275.9|            0.0|              0.0|  1024.2|      55.01|      2|      10.0|         39|    5.51|     3.48|\n",
            "|                 SAN|           OO|                   LAX|  14|    37|         3|        6|                      0|                        0|                        0|                          0|         0|                    CR7|                       CR7|        0|                 29|                   54|                     3|                     22|          108|              50.88|      0.55|    46.3|    0.84|284.7|            0.0|              0.0|  1021.3|      50.88|      0|      10.0|        338|    5.54|     5.06|\n",
            "+--------------------+-------------+----------------------+----+------+----------+---------+-----------------------+-------------------------+-------------------------+---------------------------+----------+-----------------------+--------------------------+---------+-------------------+---------------------+----------------------+-----------------------+-------------+-------------------+----------+--------+--------+-----+---------------+-----------------+--------+-----------+-------+----------+-----------+--------+---------+\n",
            "only showing top 5 rows\n",
            "\n"
          ],
          "name": "stdout"
        }
      ]
    },
    {
      "cell_type": "code",
      "metadata": {
        "id": "G0JGLDInaztJ",
        "colab_type": "code",
        "colab": {}
      },
      "source": [
        "# function to encode each categorical variable\n",
        "def get_dict(filtered_df):\n",
        "\n",
        "    # complete dictionary to be returned\n",
        "    comp_dict = {}\n",
        "\n",
        "    # get categorical columns\n",
        "    cat_cols = [c for c, t in filtered_df.dtypes if t == 'string']\n",
        "    uniqs = {'airports': [], 'equipments': [], 'carriers': []}\n",
        "\n",
        "    # separate each category into its own list\n",
        "    for c in cat_cols:\n",
        "        uniq = filtered_df.select(c).distinct()\n",
        "        u_list = [row[c] for row in uniq.collect()]\n",
        "\n",
        "        if 'Airport' in c:\n",
        "            uniqs['airports'] += u_list\n",
        "        elif 'Equipment' in c:\n",
        "            uniqs['equipments'] += u_list\n",
        "        elif 'carrier' in c:\n",
        "            uniqs['carriers'] += u_list\n",
        "\n",
        "    # for each category get set of unique values and create dictionary\n",
        "    i = 0 # index to be used for random codes\n",
        "    for category in uniqs.keys():\n",
        "        u_vals = uniqs[category]\n",
        "        u_set = list(set(u_vals))\n",
        "        start, stop = i*1000, (i+1)*1000\n",
        "        i += 1\n",
        "        rnd_codes = random.sample(range(start, stop), len(u_set))\n",
        "        comp_dict.update({category: dict(zip(u_set, rnd_codes))})\n",
        "\n",
        "    print(f\"There are a total of {filtered_df.count()} flights arriving from {len(comp_dict['airports'])} cities operated by {len(comp_dict['carriers'])} airlines using {len(comp_dict['equipments'])} different types of aircraft at LAX in the past 24 hours.\")\n",
        "    \n",
        "    return comp_dict, cat_cols"
      ],
      "execution_count": 0,
      "outputs": []
    },
    {
      "cell_type": "code",
      "metadata": {
        "id": "HIpK_Zws_17A",
        "colab_type": "code",
        "colab": {
          "base_uri": "https://localhost:8080/",
          "height": 72
        },
        "outputId": "c2855b10-b45d-4e65-ba08-0b179373e8b4"
      },
      "source": [
        "print(get_dict(df_arr_final))"
      ],
      "execution_count": 58,
      "outputs": [
        {
          "output_type": "stream",
          "text": [
            "There are a total of 337 flights arriving from 123 cities operated by 54 airlines using 57 different types of aircraft at LAX in the past 24 hours.\n",
            "({'airports': {'PDX': 702, 'BOI': 280, 'MCO': 817, 'IAH': 739, 'CUN': 531, 'SUN': 412, 'QRO': 530, 'BNA': 486, 'AUS': 868, 'ZIH': 301, 'WAW': 978, 'BOS': 11, 'TRM': 470, 'SJC': 961, 'SEA': 1, 'SAL': 518, 'EUG': 854, 'SWF': 540, 'BZN': 563, 'YEG': 32, 'MCI': 176, 'BNE': 370, 'PHL': 967, 'OMA': 678, 'SMF': 782, 'IAD': 103, 'DCA': 200, 'PVG': 646, 'DAL': 49, 'MIA': 947, 'DGO': 712, 'CDG': 345, 'MRY': 84, 'FAT': 181, 'TPE': 882, 'SDF': 718, 'SYD': 97, 'ISL': 557, 'SFO': 889, 'MZT': 526, 'MCE': 363, 'HKG': 684, 'COS': 467, 'PPT': 495, 'MEL': 634, 'TUS': 289, 'LAX': 442, 'SAN': 173, 'MSN': 923, 'DFW': 278, 'DUB': 643, 'SJD': 949, 'PRC': 594, 'MFR': 460, 'OKC': 910, 'PAE': 282, 'ICN': 551, 'HDN': 911, 'SLC': 443, 'DOH': 885, 'SCK': 536, 'TAO': 217, 'YVR': 740, 'JAC': 820, 'STL': 244, 'GEG': 236, 'RDM': 206, 'RNO': 326, 'BCN': 115, 'MEX': 861, 'LHR': 385, 'HND': 760, 'XNA': 490, 'CAN': 942, 'PEK': 154, 'EWR': 284, 'LIR': 100, 'SAT': 620, 'HNL': 567, 'OGG': 982, 'OAK': 373, 'YYZ': 230, 'LGW': 396, 'TUL': 240, 'GDL': 542, 'MMH': 803, 'VNY': 324, 'MNL': 260, 'IPL': 816, 'MUC': 699, 'PTY': 757, 'TEB': 956, 'SBA': 107, 'STS': 316, 'MDW': 798, 'ELP': 131, 'SIN': 334, 'PVR': 825, 'BOG': 797, 'DTW': 434, 'YYC': 946, 'MEM': 734, 'LAS': 193, 'LIM': 879, 'PHX': 721, 'ATL': 867, 'DEN': 576, 'AKL': 858, 'HOU': 55, 'ORD': 403, 'BUF': 887, 'SVO': 786, 'MSY': 474, 'EGE': 516, 'IND': 735, 'ABQ': 611, 'CMH': 72, 'MSP': 441, 'JFK': 548, 'BJX': 178, 'ZRH': 68, 'CLT': 426, 'ASE': 971}, 'equipments': {'763': 1615, '76W': 1802, '738': 1147, '332': 1602, '781': 1520, '741': 1988, '773': 1161, '346': 1627, '747': 1345, '388': 1784, '73H': 1247, '32A': 1445, '319': 1898, '32S': 1086, '321': 1702, '75D': 1261, 'CN2': 1551, '32N': 1642, '789': 1806, '73J': 1690, '320': 1936, '772': 1098, '76V': 1412, '74N': 1757, 'CR7': 1416, '330': 1928, '73W': 1297, '75W': 1213, 'CRJ': 1706, '788': 1999, '74F': 1044, '32Q': 1421, '73R': 1420, '74Y': 1148, '77X': 1040, '744': 1424, '752': 1508, '31B': 1534, '32B': 1738, '73G': 1256, '753': 1302, 'E7W': 1893, 'E75': 1209, 'PL2': 1165, '77F': 1372, '75T': 1176, 'CNJ': 1838, '77L': 1797, 'CNA': 1793, 'CR2': 1925, '7S8': 1530, 'None': 1250, '77W': 1545, '757': 1385, '359': 1169, 'CJL': 1746, '739': 1703}, 'carriers': {'KE': 2506, 'XOJ': 2175, 'K4': 2458, 'UA': 2740, 'LH': 2418, 'PR': 2634, 'G4': 2303, 'L1E': 2123, 'LX': 2930, 'AC': 2697, 'BAI': 2631, 'TK': 2935, 'CV': 2817, 'MW': 2075, 'CA': 2806, 'BA': 2203, '1I': 2605, 'LP': 2497, 'CI': 2788, 'OO': 2617, 'CX': 2982, 'AF': 2147, 'SU': 2223, 'DI*': 2360, 'DL': 2428, 'MU': 2405, 'B6': 2718, 'CP': 2773, 'SQ': 2984, 'AA': 2566, 'VB': 2873, 'QX': 2636, 'AV': 2941, 'NZ': 2994, 'AS': 2389, '5X': 2663, 'HA': 2463, 'Y4': 2900, 'QF': 2585, 'MF': 2050, 'F9': 2032, 'OZ': 2635, 'VS': 2535, 'NH': 2880, 'WN': 2113, 'CM': 2253, 'WS': 2606, 'EI': 2031, 'LO': 2339, 'BR': 2214, 'TA': 2960, 'QR': 2052, 'NK': 2073, 'CZ': 2641}}, ['arrivalAirportFsCode', 'carrierFsCode', 'departureAirportFsCode', 'actualEquipmentIataCode', 'scheduledEquipmentIataCode'])\n"
          ],
          "name": "stdout"
        }
      ]
    },
    {
      "cell_type": "code",
      "metadata": {
        "id": "WLmtpVKkA38M",
        "colab_type": "code",
        "colab": {
          "base_uri": "https://localhost:8080/",
          "height": 72
        },
        "outputId": "8470bb8e-901c-4635-a3f7-1b8619dad9ac"
      },
      "source": [
        "print(get_dict(df_dep_final))"
      ],
      "execution_count": 59,
      "outputs": [
        {
          "output_type": "stream",
          "text": [
            "There are a total of 244 flights arriving from 77 cities operated by 25 airlines using 42 different types of aircraft at LAX in the past 24 hours.\n",
            "({'airports': {'FAT': 543, 'PDX': 649, 'SGU': 437, 'BOI': 431, 'JAC': 712, 'STL': 836, 'IAH': 800, 'BOG': 28, 'LGB': 161, 'RDM': 917, 'SDF': 467, 'RNO': 457, 'MCO': 142, 'MEX': 178, 'BNA': 764, 'YYC': 781, 'AUS': 153, 'SFO': 90, 'MCE': 907, 'MEM': 411, 'KOA': 979, 'LAS': 197, 'BOS': 742, 'PHX': 382, 'EWR': 814, 'SJC': 40, 'DEN': 133, 'SEA': 656, 'ATL': 817, 'COS': 476, 'HOU': 44, 'SAT': 556, 'CLT': 918, 'SCF': 351, 'HNL': 874, 'TUS': 363, 'OGG': 39, 'FLL': 538, 'OAK': 480, 'ORD': 396, 'BUF': 453, 'SAN': 364, 'LAX': 625, 'GDL': 620, 'MSY': 224, 'MMH': 21, 'DFW': 854, 'LIH': 751, 'VNY': 452, 'IPL': 386, 'SJD': 772, 'MCI': 139, 'MFR': 419, 'OKC': 75, 'EZE': 640, 'SBP': 151, 'PHL': 356, 'SBA': 393, 'ABQ': 340, 'SMF': 518, 'PAE': 313, 'OMA': 758, 'IAD': 170, 'MDW': 192, 'MSP': 248, 'PSP': 790, 'SLC': 580, 'JFK': 915, 'STS': 121, 'SCK': 797, 'DAL': 162, 'TUL': 447, 'ASE': 304, 'YVR': 503, 'ELP': 729, 'BWI': 204, 'MRY': 866}, 'equipments': {'D10': 1882, '763': 1799, '76W': 1723, '738': 1700, '332': 1456, '73H': 1668, '32A': 1445, '319': 1856, '32S': 1461, '321': 1188, '75D': 1697, 'CN2': 1645, 'EP3': 1935, '32N': 1110, '789': 1826, '73J': 1046, '320': 1660, 'CR7': 1315, '330': 1896, '73W': 1543, '75W': 1098, 'CRJ': 1767, '788': 1223, '74F': 1236, '32Q': 1652, 'ABM': 1293, '73R': 1407, '752': 1885, '32B': 1619, '73G': 1672, '753': 1651, 'E7W': 1434, 'E75': 1387, 'PL2': 1207, '75T': 1373, 'CNA': 1065, 'CR2': 1513, '7S8': 1567, 'None': 1017, 'GR2': 1482, '757': 1647, '739': 1182}, 'carriers': {'G4': 2940, 'AC': 2015, 'BAI': 2595, 'CV': 2635, 'MW': 2586, 'RSP': 2740, 'OO': 2482, 'DL': 2636, 'B6': 2441, 'CP': 2774, 'AA': 2733, 'VB': 2256, 'QX': 2737, 'AV': 2119, 'AS': 2064, '5X': 2305, 'HA': 2549, 'Y4': 2581, 'WN': 2863, 'F9': 2434, 'FX': 2342, 'WS': 2911, 'NK': 2639, 'JTL': 2511, 'UA': 2486}}, ['arrivalAirportFsCode', 'carrierFsCode', 'departureAirportFsCode', 'actualEquipmentIataCode', 'scheduledEquipmentIataCode'])\n"
          ],
          "name": "stdout"
        }
      ]
    },
    {
      "cell_type": "markdown",
      "metadata": {
        "id": "Vs0xNx9Ehzl1",
        "colab_type": "text"
      },
      "source": [
        "Now that we have the dictionary, we just need to apply it to the dataframe to encode all of the categorical variables."
      ]
    },
    {
      "cell_type": "code",
      "metadata": {
        "id": "pgGoXIyPBM0_",
        "colab_type": "code",
        "colab": {}
      },
      "source": [
        "# function to purify joined data\n",
        "def clean_joined(joined_df):\n",
        "    # first replace all null values\n",
        "    joined_df = joined_df.fillna('None')\n",
        "\n",
        "    # get categorical columns and encoding dictionary\n",
        "    res_tuple = get_dict(joined_df)\n",
        "    cat_cols = res_tuple[1]\n",
        "    comp_dict = res_tuple[0]\n",
        "    print(comp_dict)\n",
        "\n",
        "    # iterate and replace\n",
        "    for c in cat_cols:\n",
        "        if 'Airport' in c:\n",
        "            map_exp = create_map([lit(x) for x in chain(*comp_dict['airports'].items())])\n",
        "            joined_df = joined_df.withColumn(f'{c[:5]}_code', map_exp.getItem(col(c))).drop(c)\n",
        "        elif 'carrier' in c:\n",
        "            map_exp = create_map([lit(x) for x in chain(*comp_dict['carriers'].items())])\n",
        "            joined_df = joined_df.withColumn(f'{c[:5]}_code', map_exp.getItem(col(c))).drop(c)\n",
        "        elif 'Equipment' in c:\n",
        "            map_exp = create_map([lit(x) for x in chain(*comp_dict['equipments'].items())])\n",
        "            joined_df = joined_df.withColumn(f'{c[:5]}_code', map_exp.getItem(col(c))).drop(c)\n",
        "\n",
        "    return joined_df\n"
      ],
      "execution_count": 0,
      "outputs": []
    },
    {
      "cell_type": "code",
      "metadata": {
        "id": "MaySqUOv7acu",
        "colab_type": "code",
        "colab": {
          "base_uri": "https://localhost:8080/",
          "height": 267
        },
        "outputId": "f1172a5c-54b1-4d40-934f-16ba71bf9932"
      },
      "source": [
        "df_arr_num = clean_joined(df_arr_final)\n",
        "df_arr_num.show(5)"
      ],
      "execution_count": 68,
      "outputs": [
        {
          "output_type": "stream",
          "text": [
            "There are a total of 337 flights arriving from 123 cities operated by 54 airlines using 57 different types of aircraft at LAX in the past 24 hours.\n",
            "{'airports': {'PDX': 410, 'BOI': 912, 'MCO': 734, 'IAH': 417, 'CUN': 431, 'SUN': 276, 'QRO': 720, 'BNA': 494, 'AUS': 504, 'ZIH': 922, 'WAW': 20, 'BOS': 117, 'TRM': 981, 'SJC': 408, 'SEA': 932, 'SAL': 875, 'EUG': 837, 'SWF': 371, 'BZN': 478, 'YEG': 220, 'MCI': 852, 'BNE': 695, 'PHL': 358, 'OMA': 712, 'SMF': 48, 'IAD': 232, 'DCA': 214, 'PVG': 35, 'DAL': 812, 'MIA': 740, 'DGO': 357, 'CDG': 104, 'MRY': 391, 'FAT': 222, 'TPE': 71, 'SDF': 80, 'SYD': 237, 'ISL': 732, 'SFO': 649, 'MZT': 308, 'MCE': 303, 'HKG': 254, 'COS': 157, 'PPT': 945, 'MEL': 6, 'TUS': 828, 'LAX': 510, 'SAN': 855, 'MSN': 874, 'DFW': 810, 'DUB': 269, 'SJD': 57, 'PRC': 924, 'MFR': 95, 'OKC': 545, 'PAE': 917, 'ICN': 618, 'HDN': 394, 'SLC': 474, 'DOH': 763, 'SCK': 320, 'TAO': 938, 'YVR': 689, 'JAC': 565, 'STL': 897, 'GEG': 72, 'RDM': 602, 'RNO': 637, 'BCN': 98, 'MEX': 674, 'LHR': 105, 'HND': 548, 'XNA': 579, 'CAN': 243, 'PEK': 45, 'EWR': 406, 'LIR': 614, 'SAT': 898, 'HNL': 791, 'OGG': 857, 'OAK': 200, 'YYZ': 442, 'LGW': 484, 'TUL': 970, 'GDL': 683, 'MMH': 680, 'VNY': 596, 'MNL': 46, 'IPL': 251, 'MUC': 467, 'PTY': 129, 'TEB': 201, 'SBA': 581, 'STS': 468, 'MDW': 925, 'ELP': 43, 'SIN': 782, 'PVR': 944, 'BOG': 907, 'DTW': 655, 'YYC': 731, 'MEM': 902, 'LAS': 825, 'LIM': 386, 'PHX': 270, 'ATL': 338, 'DEN': 252, 'AKL': 292, 'HOU': 741, 'ORD': 284, 'BUF': 74, 'SVO': 25, 'MSY': 558, 'EGE': 12, 'IND': 755, 'ABQ': 987, 'CMH': 437, 'MSP': 323, 'JFK': 317, 'BJX': 296, 'ZRH': 370, 'CLT': 152, 'ASE': 384}, 'equipments': {'763': 1790, '76W': 1518, '738': 1666, '332': 1594, '781': 1396, '741': 1963, '773': 1519, '346': 1474, '747': 1191, '388': 1330, '73H': 1435, '32A': 1214, '319': 1917, '32S': 1274, '321': 1623, '75D': 1325, 'CN2': 1876, '32N': 1644, '789': 1712, '73J': 1656, '320': 1179, '772': 1090, '76V': 1897, '74N': 1417, 'CR7': 1596, '330': 1605, '73W': 1135, '75W': 1041, 'CRJ': 1704, '788': 1227, '74F': 1307, '32Q': 1540, '73R': 1152, '74Y': 1590, '77X': 1163, '744': 1552, '752': 1504, '31B': 1062, '32B': 1939, '73G': 1169, '753': 1641, 'E7W': 1845, 'E75': 1222, 'PL2': 1820, '77F': 1232, '75T': 1807, 'CNJ': 1354, '77L': 1779, 'CNA': 1424, 'CR2': 1050, '7S8': 1166, 'None': 1119, '77W': 1633, '757': 1772, '359': 1538, 'CJL': 1436, '739': 1487}, 'carriers': {'KE': 2868, 'XOJ': 2251, 'K4': 2818, 'UA': 2761, 'LH': 2245, 'PR': 2068, 'G4': 2629, 'L1E': 2545, 'LX': 2376, 'AC': 2247, 'BAI': 2839, 'TK': 2479, 'CV': 2453, 'MW': 2125, 'CA': 2961, 'BA': 2656, '1I': 2949, 'LP': 2198, 'CI': 2781, 'OO': 2305, 'CX': 2439, 'AF': 2716, 'SU': 2397, 'DI*': 2552, 'DL': 2156, 'MU': 2288, 'B6': 2341, 'CP': 2027, 'SQ': 2084, 'AA': 2146, 'VB': 2910, 'QX': 2523, 'AV': 2013, 'NZ': 2898, 'AS': 2730, '5X': 2525, 'HA': 2434, 'Y4': 2202, 'QF': 2342, 'MF': 2768, 'F9': 2350, 'OZ': 2336, 'VS': 2229, 'NH': 2844, 'WN': 2801, 'CM': 2340, 'WS': 2078, 'EI': 2255, 'LO': 2064, 'BR': 2244, 'TA': 2892, 'QR': 2296, 'NK': 2735, 'CZ': 2924}}\n",
            "+----+------+----------+---------+-----------------------+-------------------------+-------------------------+---------------------------+----------+---------+------------+-------------------+---------------------+----------------------+-----------------------+--------------+-------------+-------------------+----------+--------+--------+-----+---------------+-----------------+--------+-----------+-------+----------+-----------+--------+---------+----------+----------+----------+----------+----------+\n",
            "|hour|minute|weekOfYear|dayOfWeek|arrivalGateDelayMinutes|arrivalRunwayDelayMinutes|departureGateDelayMinutes|departureRunwayDelayMinutes|totalDelay|eqChanged|blockMinutes|scheduledAirMinutes|scheduledBlockMinutes|scheduledTaxiInMinutes|scheduledTaxiOutMinutes|taxiOutMinutes|totalDuration|apparentTemperature|cloudCover|dewPoint|humidity|ozone|precipIntensity|precipProbability|pressure|temperature|uvIndex|visibility|windBearing|windGust|windSpeed|arriv_code|carri_code|depar_code|actua_code|sched_code|\n",
            "+----+------+----------+---------+-----------------------+-------------------------+-------------------------+---------------------------+----------+---------+------------+-------------------+---------------------+----------------------+-----------------------+--------------+-------------+-------------------+----------+--------+--------+-----+---------------+-----------------+--------+-----------+-------+----------+-----------+--------+---------+----------+----------+----------+----------+----------+\n",
            "|  13|    10|         3|        6|                      0|                       13|                       52|                         60|       125|        0|           0|               1021|                  985|                     0|                     10|            18|         2034|              51.24|      0.64|   46.86|    0.85|289.0|         7.0E-4|             0.01|  1020.6|      51.24|      0|      10.0|        323|    6.25|     4.13|       510|      2296|       763|      1779|      1779|\n",
            "|  13|    15|         3|        6|                    205|                      247|                      226|                        240|       918|        0|           0|                763|                  830|                    57|                     10|            24|         1684|              51.24|      0.64|   46.86|    0.85|289.0|         7.0E-4|             0.01|  1020.6|      51.24|      0|      10.0|        323|    6.25|     4.13|       510|      2342|       237|      1330|      1330|\n",
            "|  13|    50|         3|        6|                     14|                       23|                        0|                          0|        37|        0|           0|                745|                  770|                    15|                     10|            23|         1563|              51.24|      0.64|   46.86|    0.85|289.0|         7.0E-4|             0.01|  1020.6|      51.24|      0|      10.0|        323|    6.25|     4.13|       510|      2397|        25|      1594|      1594|\n",
            "|  14|     0|         3|        6|                      0|                        7|                       17|                         25|        49|        0|           0|                681|                  725|                    34|                     10|            18|         1468|              50.88|      0.55|    46.3|    0.84|284.7|            0.0|              0.0|  1021.3|      50.88|      0|      10.0|        338|    5.54|     5.06|       510|      2898|       292|      1633|      1633|\n",
            "|  14|    40|         3|        6|                      0|                        0|                        0|                          0|         0|        0|           0|                683|                  730|                    10|                     37|            22|         1482|              50.88|      0.55|    46.3|    0.84|284.7|            0.0|              0.0|  1021.3|      50.88|      0|      10.0|        338|    5.54|     5.06|       510|      2146|        45|      1227|      1227|\n",
            "+----+------+----------+---------+-----------------------+-------------------------+-------------------------+---------------------------+----------+---------+------------+-------------------+---------------------+----------------------+-----------------------+--------------+-------------+-------------------+----------+--------+--------+-----+---------------+-----------------+--------+-----------+-------+----------+-----------+--------+---------+----------+----------+----------+----------+----------+\n",
            "only showing top 5 rows\n",
            "\n"
          ],
          "name": "stdout"
        }
      ]
    },
    {
      "cell_type": "code",
      "metadata": {
        "id": "wxMM6vuQoSoG",
        "colab_type": "code",
        "colab": {
          "base_uri": "https://localhost:8080/",
          "height": 267
        },
        "outputId": "616e0c98-cbe0-4f97-c273-bce6bdfd49b0"
      },
      "source": [
        "df_dep_num = clean_joined(df_dep_final)\n",
        "df_dep_num.show(5)"
      ],
      "execution_count": 69,
      "outputs": [
        {
          "output_type": "stream",
          "text": [
            "There are a total of 244 flights arriving from 77 cities operated by 25 airlines using 42 different types of aircraft at LAX in the past 24 hours.\n",
            "{'airports': {'FAT': 985, 'PDX': 160, 'SGU': 753, 'BOI': 581, 'JAC': 137, 'STL': 613, 'IAH': 663, 'BOG': 808, 'LGB': 928, 'RDM': 386, 'SDF': 598, 'RNO': 84, 'MCO': 387, 'MEX': 353, 'BNA': 853, 'YYC': 848, 'AUS': 349, 'SFO': 363, 'MCE': 270, 'MEM': 661, 'KOA': 621, 'LAS': 478, 'BOS': 191, 'PHX': 176, 'EWR': 389, 'SJC': 266, 'DEN': 771, 'SEA': 277, 'ATL': 729, 'COS': 182, 'HOU': 3, 'SAT': 611, 'CLT': 987, 'SCF': 225, 'HNL': 278, 'TUS': 596, 'OGG': 11, 'FLL': 240, 'OAK': 62, 'ORD': 722, 'BUF': 309, 'SAN': 561, 'LAX': 350, 'GDL': 415, 'MSY': 748, 'MMH': 789, 'DFW': 606, 'LIH': 252, 'VNY': 496, 'IPL': 430, 'SJD': 0, 'MCI': 22, 'MFR': 13, 'OKC': 859, 'EZE': 47, 'SBP': 679, 'PHL': 828, 'SBA': 213, 'ABQ': 254, 'SMF': 908, 'PAE': 966, 'OMA': 38, 'IAD': 147, 'MDW': 900, 'MSP': 242, 'PSP': 343, 'SLC': 209, 'JFK': 275, 'STS': 269, 'SCK': 509, 'DAL': 784, 'TUL': 398, 'ASE': 486, 'YVR': 630, 'ELP': 714, 'BWI': 708, 'MRY': 911}, 'equipments': {'D10': 1841, '763': 1937, '76W': 1621, '738': 1466, '332': 1711, '73H': 1916, '32A': 1965, '319': 1886, '32S': 1619, '321': 1131, '75D': 1888, 'CN2': 1678, 'EP3': 1393, '32N': 1027, '789': 1493, '73J': 1162, '320': 1756, 'CR7': 1715, '330': 1797, '73W': 1501, '75W': 1251, 'CRJ': 1998, '788': 1891, '74F': 1202, '32Q': 1545, 'ABM': 1098, '73R': 1267, '752': 1100, '32B': 1021, '73G': 1010, '753': 1734, 'E7W': 1651, 'E75': 1875, 'PL2': 1637, '75T': 1425, 'CNA': 1593, 'CR2': 1163, '7S8': 1914, 'None': 1392, 'GR2': 1978, '757': 1524, '739': 1699}, 'carriers': {'G4': 2838, 'AC': 2809, 'BAI': 2933, 'CV': 2814, 'MW': 2303, 'RSP': 2051, 'OO': 2107, 'DL': 2031, 'B6': 2758, 'CP': 2426, 'AA': 2195, 'VB': 2720, 'QX': 2593, 'AV': 2953, 'AS': 2979, '5X': 2803, 'HA': 2654, 'Y4': 2446, 'WN': 2021, 'F9': 2776, 'FX': 2360, 'WS': 2013, 'NK': 2077, 'JTL': 2400, 'UA': 2312}}\n",
            "+----+------+----------+---------+-----------------------+-------------------------+-------------------------+---------------------------+----------+---------+-------------------+---------------------+----------------------+-----------------------+-------------+-------------------+----------+--------+--------+-----+---------------+-----------------+--------+-----------+-------+----------+-----------+--------+---------+----------+----------+----------+----------+----------+\n",
            "|hour|minute|weekOfYear|dayOfWeek|arrivalGateDelayMinutes|arrivalRunwayDelayMinutes|departureGateDelayMinutes|departureRunwayDelayMinutes|totalDelay|eqChanged|scheduledAirMinutes|scheduledBlockMinutes|scheduledTaxiInMinutes|scheduledTaxiOutMinutes|totalDuration|apparentTemperature|cloudCover|dewPoint|humidity|ozone|precipIntensity|precipProbability|pressure|temperature|uvIndex|visibility|windBearing|windGust|windSpeed|arriv_code|carri_code|depar_code|actua_code|sched_code|\n",
            "+----+------+----------+---------+-----------------------+-------------------------+-------------------------+---------------------------+----------+---------+-------------------+---------------------+----------------------+-----------------------+-------------+-------------------+----------+--------+--------+-----+---------------+-----------------+--------+-----------+-------+----------+-----------+--------+---------+----------+----------+----------+----------+----------+\n",
            "|  15|    56|         3|        6|                      0|                        0|                        0|                          0|         0|        1|                151|                  181|                     0|                    383|          715|              50.47|      0.56|   45.36|    0.83|281.3|         4.0E-4|             0.01|  1021.9|      50.47|      0|      10.0|        345|    4.52|      1.1|       606|      2077|       350|      1619|      1965|\n",
            "|  14|    12|         3|        6|                      0|                        0|                        0|                          0|         0|        1|                 12|                    0|                     0|                     30|           42|              50.88|      0.55|    46.3|    0.84|284.7|            0.0|              0.0|  1021.3|      50.88|      0|      10.0|        338|    5.54|     5.06|       496|      2400|       350|      1978|      1392|\n",
            "|  15|     0|         3|        6|                     20|                        0|                       20|                         15|        55|        0|                 62|                   90|                     0|                     31|          183|              50.47|      0.56|   45.36|    0.83|281.3|         4.0E-4|             0.01|  1021.9|      50.47|      0|      10.0|        345|    4.52|      1.1|       908|      2021|       350|      1501|      1501|\n",
            "|  18|    29|         3|        6|                     25|                       24|                       25|                         25|        99|        1|                152|                  174|                     6|                     16|          348|              55.01|      0.41|   46.17|    0.72|275.9|            0.0|              0.0|  1024.2|      55.01|      2|      10.0|         39|    5.51|     3.48|       349|      2195|       350|      1021|      1131|\n",
            "|  14|    37|         3|        6|                      0|                        0|                        0|                          0|         0|        0|                 29|                   54|                     3|                     22|          108|              50.88|      0.55|    46.3|    0.84|284.7|            0.0|              0.0|  1021.3|      50.88|      0|      10.0|        338|    5.54|     5.06|       561|      2107|       350|      1715|      1715|\n",
            "+----+------+----------+---------+-----------------------+-------------------------+-------------------------+---------------------------+----------+---------+-------------------+---------------------+----------------------+-----------------------+-------------+-------------------+----------+--------+--------+-----+---------------+-----------------+--------+-----------+-------+----------+-----------+--------+---------+----------+----------+----------+----------+----------+\n",
            "only showing top 5 rows\n",
            "\n"
          ],
          "name": "stdout"
        }
      ]
    },
    {
      "cell_type": "code",
      "metadata": {
        "id": "J7XC-Sjxbf1r",
        "colab_type": "code",
        "colab": {}
      },
      "source": [
        ""
      ],
      "execution_count": 0,
      "outputs": []
    },
    {
      "cell_type": "code",
      "metadata": {
        "id": "s4gbPS1v_lKf",
        "colab_type": "code",
        "colab": {}
      },
      "source": [
        ""
      ],
      "execution_count": 0,
      "outputs": []
    }
  ]
}