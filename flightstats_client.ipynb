{
  "nbformat": 4,
  "nbformat_minor": 0,
  "metadata": {
    "colab": {
      "name": "flightstats_client.ipynb",
      "provenance": [],
      "include_colab_link": true
    },
    "kernelspec": {
      "name": "python3",
      "display_name": "Python 3"
    }
  },
  "cells": [
    {
      "cell_type": "markdown",
      "metadata": {
        "id": "view-in-github",
        "colab_type": "text"
      },
      "source": [
        "<a href=\"https://colab.research.google.com/github/PharahMain/Flight-Delay-Predictor/blob/master/flightstats_client.ipynb\" target=\"_parent\"><img src=\"https://colab.research.google.com/assets/colab-badge.svg\" alt=\"Open In Colab\"/></a>"
      ]
    },
    {
      "cell_type": "code",
      "metadata": {
        "id": "1t9wd42bcPva",
        "colab_type": "code",
        "colab": {}
      },
      "source": [
        "!apt-get install openjdk-8-jdk-headless -qq > /dev/null\n",
        "!wget -q https://www-us.apache.org/dist/spark/spark-2.4.5/spark-2.4.5-bin-hadoop2.7.tgz\n",
        "!tar xf spark-2.4.5-bin-hadoop2.7.tgz"
      ],
      "execution_count": 0,
      "outputs": []
    },
    {
      "cell_type": "code",
      "metadata": {
        "id": "TmbbxreyIa-i",
        "colab_type": "code",
        "outputId": "38c84d67-f032-48ae-afdd-72ae21f627ea",
        "colab": {
          "base_uri": "https://localhost:8080/",
          "height": 267
        }
      },
      "source": [
        "# Install spark-related depdencies for Python\n",
        "!pip install -q findspark\n",
        "!pip install pyspark"
      ],
      "execution_count": 3,
      "outputs": [
        {
          "output_type": "stream",
          "text": [
            "Collecting pyspark\n",
            "\u001b[?25l  Downloading https://files.pythonhosted.org/packages/9a/5a/271c416c1c2185b6cb0151b29a91fff6fcaed80173c8584ff6d20e46b465/pyspark-2.4.5.tar.gz (217.8MB)\n",
            "\u001b[K     |████████████████████████████████| 217.8MB 59kB/s \n",
            "\u001b[?25hCollecting py4j==0.10.7\n",
            "\u001b[?25l  Downloading https://files.pythonhosted.org/packages/e3/53/c737818eb9a7dc32a7cd4f1396e787bd94200c3997c72c1dbe028587bd76/py4j-0.10.7-py2.py3-none-any.whl (197kB)\n",
            "\u001b[K     |████████████████████████████████| 204kB 50.4MB/s \n",
            "\u001b[?25hBuilding wheels for collected packages: pyspark\n",
            "  Building wheel for pyspark (setup.py) ... \u001b[?25l\u001b[?25hdone\n",
            "  Created wheel for pyspark: filename=pyspark-2.4.5-py2.py3-none-any.whl size=218257927 sha256=d3c7de4c9d3dc7eb8e60fc62043291f72dea0cec55c81ec9b02fff5c938641e6\n",
            "  Stored in directory: /root/.cache/pip/wheels/bf/db/04/61d66a5939364e756eb1c1be4ec5bdce6e04047fc7929a3c3c\n",
            "Successfully built pyspark\n",
            "Installing collected packages: py4j, pyspark\n",
            "Successfully installed py4j-0.10.7 pyspark-2.4.5\n"
          ],
          "name": "stdout"
        }
      ]
    },
    {
      "cell_type": "code",
      "metadata": {
        "id": "VC-cF1MOJCvu",
        "colab_type": "code",
        "colab": {}
      },
      "source": [
        "# Set up required environment variables\n",
        "\n",
        "import os\n",
        "os.environ[\"JAVA_HOME\"] = \"/usr/lib/jvm/java-8-openjdk-amd64\"\n",
        "os.environ[\"SPARK_HOME\"] = \"/content/spark-2.4.5-bin-hadoop2.7\""
      ],
      "execution_count": 0,
      "outputs": []
    },
    {
      "cell_type": "code",
      "metadata": {
        "id": "Ac7IYHQAJHVA",
        "colab_type": "code",
        "outputId": "fe14e959-6528-4572-ee68-9f657815e052",
        "colab": {
          "base_uri": "https://localhost:8080/",
          "height": 125
        }
      },
      "source": [
        "# Point Colaboratory to Google Drive\n",
        "\n",
        "from google.colab import drive\n",
        "drive.mount('/content/gdrive')"
      ],
      "execution_count": 5,
      "outputs": [
        {
          "output_type": "stream",
          "text": [
            "Go to this URL in a browser: https://accounts.google.com/o/oauth2/auth?client_id=947318989803-6bn6qk8qdgf4n4g3pfee6491hc0brc4i.apps.googleusercontent.com&redirect_uri=urn%3aietf%3awg%3aoauth%3a2.0%3aoob&response_type=code&scope=email%20https%3a%2f%2fwww.googleapis.com%2fauth%2fdocs.test%20https%3a%2f%2fwww.googleapis.com%2fauth%2fdrive%20https%3a%2f%2fwww.googleapis.com%2fauth%2fdrive.photos.readonly%20https%3a%2f%2fwww.googleapis.com%2fauth%2fpeopleapi.readonly\n",
            "\n",
            "Enter your authorization code:\n",
            "··········\n",
            "Mounted at /content/gdrive\n"
          ],
          "name": "stdout"
        }
      ]
    },
    {
      "cell_type": "code",
      "metadata": {
        "id": "UMRIotL2JJ-k",
        "colab_type": "code",
        "colab": {}
      },
      "source": [
        "from pyspark import SparkContext\n",
        "from pyspark.sql import SparkSession\n",
        "\n",
        "from pyspark.ml import Pipeline\n",
        "from pyspark.ml.regression import LinearRegression\n",
        "from pyspark.ml.regression import RandomForestRegressor\n",
        "from pyspark.ml.evaluation import RegressionEvaluator\n",
        "from pyspark.ml.feature import VectorAssembler\n",
        "\n",
        "from pyspark.sql import functions as F\n",
        "from pyspark.sql.functions import isnan, when, count, col, create_map, lit\n",
        "from pyspark.sql.functions import month, dayofweek, weekofyear, hour, minute\n",
        "from pyspark.sql.functions import monotonically_increasing_id\n",
        "from pyspark.sql.types import DateType, TimestampType\n",
        "\n",
        "from datetime import datetime, date, timedelta\n",
        "from itertools import chain\n",
        "import random\n",
        "import time"
      ],
      "execution_count": 0,
      "outputs": []
    },
    {
      "cell_type": "code",
      "metadata": {
        "id": "WU0T4_oWMK4Z",
        "colab_type": "code",
        "colab": {}
      },
      "source": [
        "#ARR_JSON_PATH = f\"/content/gdrive/My Drive/Colab Datasets/flights_data/arrivals/{date.today()}.json\"\n",
        "# for testing\n",
        "ARR_JSON_PATH = \"/content/gdrive/My Drive/Colab Datasets/flights_data/arrivals/2020-01-17.json\"\n",
        "\n",
        "#DEP_JSON_PATH = f\"/content/gdrive/My Drive/Colab Datasets/flights_data/departures/{date.today()}.json\"\n",
        "DEP_JSON_PATH = f\"/content/gdrive/My Drive/Colab Datasets/flights_data/departures/2020-01-17.json\"\n",
        "\n",
        "#WEATH_JSON_PATH = f\"/content/gdrive/My Drive/Colab Datasets/flights_data/weather/{date.today()}.json\"\n",
        "WEATH_JSON_PATH = f\"/content/gdrive/My Drive/Colab Datasets/flights_data/weather/2020-01-17.json\"\n",
        "\n",
        "APP_NAME = 'Flight Delay Predictor'\n",
        "SPARK_URL = 'local[*]'\n",
        "RANDOM_SEED = 263646\n",
        "TRAINING_DATA_RATIO = 0.8"
      ],
      "execution_count": 0,
      "outputs": []
    },
    {
      "cell_type": "code",
      "metadata": {
        "id": "fNHzaNf2iwCc",
        "colab_type": "code",
        "colab": {}
      },
      "source": [
        "spark = SparkSession.builder.appName(APP_NAME).master(SPARK_URL).getOrCreate()"
      ],
      "execution_count": 0,
      "outputs": []
    },
    {
      "cell_type": "code",
      "metadata": {
        "id": "6L0XNeJ_jahq",
        "colab_type": "code",
        "outputId": "1f4a76ea-e193-41d0-aea0-689c703be359",
        "colab": {
          "base_uri": "https://localhost:8080/",
          "height": 232
        }
      },
      "source": [
        "df_arr = spark.read.json(ARR_JSON_PATH)\n",
        "df_arr.show(5)"
      ],
      "execution_count": 9,
      "outputs": [
        {
          "output_type": "stream",
          "text": [
            "+--------------------+--------------------+--------------------+-------------+--------------------+--------------------+----------------------+--------------------+---------------------+--------------------+------------------+----------+------------+--------------------+--------------------+------+\n",
            "|    airportResources|arrivalAirportFsCode|         arrivalDate|carrierFsCode|          codeshares|              delays|departureAirportFsCode|       departureDate|divertedAirportFsCode|     flightDurations|   flightEquipment|  flightId|flightNumber|    operationalTimes|            schedule|status|\n",
            "+--------------------+--------------------+--------------------+-------------+--------------------+--------------------+----------------------+--------------------+---------------------+--------------------+------------------+----------+------------+--------------------+--------------------+------+\n",
            "|      [, TBIT,, C9,]|                 LAX|[2020-01-17T13:10...|           QR|     [[3515, UL, L]]|      [, 13, 52, 60]|                   DOH|[2020-01-17T07:45...|                 null|[, 1021, 985,, 10...|[77L, 77L, A7-BBA]|1028199581|         739|[, [2020-01-17T08...|  [[], J, , RJY, []]|     A|\n",
            "|     [, TBIT,, 8, 1]|                 LAX|[2020-01-17T13:15...|           QF|[[7328, AA, L], [...|[205, 247, 226, 240]|                   SYD|[2020-01-17T18:25...|                 null|[, 763, 830, 57, ...|[388, 388, VH-OQJ]|1028197993|          17|[, [2020-01-17T22...| [[], J, , RFJY, []]|     A|\n",
            "| [, TBIT, D6, 30, D]|                 LAX|[2020-01-17T13:50...|           SU|                  []|          [14, 23,,]|                   SVO|[2020-01-17T12:00...|                 null|[, 745, 770, 15, ...|[332, 332, VQ-BBE]|1028204787|         106|[, [2020-01-17T11...|  [[], J, , RJY, []]|     A|\n",
            "|    [, TBIT,, 18, I]|                 LAX|[2020-01-17T14:00...|           NZ|[[6091, AC, L], [...|       [, 7, 17, 25]|                   AKL|[2020-01-17T22:55...|                 null|[, 681, 725, 34, ...|[77W, 77W, ZK-OKS]|1028193159|           2|[, [2020-01-17T23...|[[[1028193174, LH...|     A|\n",
            "|[, TBIT, TBIT, 17...|                 LAX|[2020-01-17T14:40...|           AA|     [[1622, CZ, L]]|               [,,,]|                   PEK|[2020-01-17T18:30...|                 null|[, 683, 730, 10, ...|[788, 788, N813AN]|1028129626|         180|[, [2020-01-17T18...| [[], J, , RFJY, []]|     A|\n",
            "+--------------------+--------------------+--------------------+-------------+--------------------+--------------------+----------------------+--------------------+---------------------+--------------------+------------------+----------+------------+--------------------+--------------------+------+\n",
            "only showing top 5 rows\n",
            "\n"
          ],
          "name": "stdout"
        }
      ]
    },
    {
      "cell_type": "markdown",
      "metadata": {
        "id": "U7CImS0RqxqG",
        "colab_type": "text"
      },
      "source": [
        "The data in a little more detail."
      ]
    },
    {
      "cell_type": "code",
      "metadata": {
        "id": "gi16LYxjp3B4",
        "colab_type": "code",
        "colab": {}
      },
      "source": [
        "#df_arr.head(5)"
      ],
      "execution_count": 0,
      "outputs": []
    },
    {
      "cell_type": "markdown",
      "metadata": {
        "id": "pU1M4g0Hq4nn",
        "colab_type": "text"
      },
      "source": [
        "Let's see how many flights arrived at LAX in the past 24 hours."
      ]
    },
    {
      "cell_type": "code",
      "metadata": {
        "id": "Csdq7Ta7qEVA",
        "colab_type": "code",
        "outputId": "e4d0592b-5584-4104-c3f2-7f7b83062a46",
        "colab": {
          "base_uri": "https://localhost:8080/",
          "height": 34
        }
      },
      "source": [
        "df_arr.count()"
      ],
      "execution_count": 10,
      "outputs": [
        {
          "output_type": "execute_result",
          "data": {
            "text/plain": [
              "337"
            ]
          },
          "metadata": {
            "tags": []
          },
          "execution_count": 10
        }
      ]
    },
    {
      "cell_type": "markdown",
      "metadata": {
        "id": "5Rg_7TequuZ6",
        "colab_type": "text"
      },
      "source": [
        "Let's first drop all the unnecessary columns."
      ]
    },
    {
      "cell_type": "code",
      "metadata": {
        "id": "lrqU_5lzutys",
        "colab_type": "code",
        "colab": {}
      },
      "source": [
        "df_arr = df_arr.drop('airportResources', 'codeshares', 'departureDate',\n",
        "            'divertedAirportFsCode', 'operationalTimes', 'schedule', 'status',\n",
        "            'flightId', 'flightNumber')\n",
        "#df_arr.show(5)"
      ],
      "execution_count": 0,
      "outputs": []
    },
    {
      "cell_type": "code",
      "metadata": {
        "id": "rUau0XFl_bUT",
        "colab_type": "code",
        "outputId": "b0ebd9dc-011a-43e8-c30e-a54f8f9cf0d9",
        "colab": {
          "base_uri": "https://localhost:8080/",
          "height": 443
        }
      },
      "source": [
        "df_arr.printSchema()"
      ],
      "execution_count": 12,
      "outputs": [
        {
          "output_type": "stream",
          "text": [
            "root\n",
            " |-- arrivalAirportFsCode: string (nullable = true)\n",
            " |-- arrivalDate: struct (nullable = true)\n",
            " |    |-- dateLocal: string (nullable = true)\n",
            " |    |-- dateUtc: string (nullable = true)\n",
            " |-- carrierFsCode: string (nullable = true)\n",
            " |-- delays: struct (nullable = true)\n",
            " |    |-- arrivalGateDelayMinutes: long (nullable = true)\n",
            " |    |-- arrivalRunwayDelayMinutes: long (nullable = true)\n",
            " |    |-- departureGateDelayMinutes: long (nullable = true)\n",
            " |    |-- departureRunwayDelayMinutes: long (nullable = true)\n",
            " |-- departureAirportFsCode: string (nullable = true)\n",
            " |-- flightDurations: struct (nullable = true)\n",
            " |    |-- blockMinutes: long (nullable = true)\n",
            " |    |-- scheduledAirMinutes: long (nullable = true)\n",
            " |    |-- scheduledBlockMinutes: long (nullable = true)\n",
            " |    |-- scheduledTaxiInMinutes: long (nullable = true)\n",
            " |    |-- scheduledTaxiOutMinutes: long (nullable = true)\n",
            " |    |-- taxiOutMinutes: long (nullable = true)\n",
            " |-- flightEquipment: struct (nullable = true)\n",
            " |    |-- actualEquipmentIataCode: string (nullable = true)\n",
            " |    |-- scheduledEquipmentIataCode: string (nullable = true)\n",
            " |    |-- tailNumber: string (nullable = true)\n",
            "\n"
          ],
          "name": "stdout"
        }
      ]
    },
    {
      "cell_type": "markdown",
      "metadata": {
        "id": "S0y_wN53x6LV",
        "colab_type": "text"
      },
      "source": [
        "Let's explore the dataframe a little bit here."
      ]
    },
    {
      "cell_type": "code",
      "metadata": {
        "id": "zn-3Oz5Rx5td",
        "colab_type": "code",
        "outputId": "49ecf771-320b-4dbe-eb1d-8f4a15ffb1f3",
        "colab": {
          "base_uri": "https://localhost:8080/",
          "height": 478
        }
      },
      "source": [
        "df_arr.groupBy('carrierFsCode').count().orderBy('count', ascending=False).show()"
      ],
      "execution_count": 13,
      "outputs": [
        {
          "output_type": "stream",
          "text": [
            "+-------------+-----+\n",
            "|carrierFsCode|count|\n",
            "+-------------+-----+\n",
            "|           DL|   48|\n",
            "|           AA|   45|\n",
            "|           OO|   44|\n",
            "|           WN|   42|\n",
            "|           CP|   30|\n",
            "|           UA|   25|\n",
            "|           AS|   24|\n",
            "|           NK|    6|\n",
            "|           B6|    6|\n",
            "|           QX|    5|\n",
            "|           AC|    4|\n",
            "|           WS|    3|\n",
            "|           BA|    3|\n",
            "|           Y4|    3|\n",
            "|           QF|    3|\n",
            "|           CZ|    2|\n",
            "|           BR|    2|\n",
            "|           1I|    2|\n",
            "|          BAI|    2|\n",
            "|           OZ|    2|\n",
            "+-------------+-----+\n",
            "only showing top 20 rows\n",
            "\n"
          ],
          "name": "stdout"
        }
      ]
    },
    {
      "cell_type": "markdown",
      "metadata": {
        "id": "cgq0VGMM2hbB",
        "colab_type": "text"
      },
      "source": [
        "Let's see what the busiest time of the day is for LAX next. But before we do that, I'm going to separate out the arrival time from 'arrivalDate'."
      ]
    },
    {
      "cell_type": "code",
      "metadata": {
        "id": "eosnJa1K3Crk",
        "colab_type": "code",
        "colab": {}
      },
      "source": [
        "# first need to extract the date info from the arrivalDate struct\n",
        "df_arr = df_arr.withColumn('localDate', col('arrivalDate').getField('dateLocal'))\n",
        "#df_arr.select('localDate').show(5)\n",
        "\n",
        "df_arr = df_arr.withColumn('localTimeStamp', df_arr['localDate'].cast(TimestampType()))\n",
        "#df_arr.select('localTimeStamp').show(5)"
      ],
      "execution_count": 0,
      "outputs": []
    },
    {
      "cell_type": "markdown",
      "metadata": {
        "id": "D70jFpglPfT3",
        "colab_type": "text"
      },
      "source": [
        "Give each time increment its own column."
      ]
    },
    {
      "cell_type": "code",
      "metadata": {
        "id": "25bzGIpM2t8a",
        "colab_type": "code",
        "colab": {}
      },
      "source": [
        "#df_arr.withColumn('date', col('localTimeStamp').cast('date')).withColumn('hour', hour(col('localTimeStamp'))).withColumn('minute', minute(col('localTimeStamp'))).show(5)"
      ],
      "execution_count": 0,
      "outputs": []
    },
    {
      "cell_type": "markdown",
      "metadata": {
        "id": "a_FLYh8EWUq3",
        "colab_type": "text"
      },
      "source": [
        "Since travel tends to change with the time of year, let's also add on weekOfYear and dayOfWeek as well."
      ]
    },
    {
      "cell_type": "code",
      "metadata": {
        "id": "lokV6JbLWUM0",
        "colab_type": "code",
        "colab": {}
      },
      "source": [
        "#df_arr.withColumn('weekOfYear', weekofyear(col('localTimeStamp'))).withColumn('dayOfWeek', dayofweek(col('localTimeStamp'))).show(5)"
      ],
      "execution_count": 0,
      "outputs": []
    },
    {
      "cell_type": "markdown",
      "metadata": {
        "id": "deuSA2sQcNGe",
        "colab_type": "text"
      },
      "source": [
        "Delays column, the column that contains our target data, is an array of four values. They are minutes of delay in different stages of the flight but, since travelers don't really care where the delays occur, but rather how long the delays are, let's sum up the numbers to get one total delayed minutes."
      ]
    },
    {
      "cell_type": "code",
      "metadata": {
        "id": "HfcIPqAKA92U",
        "colab_type": "code",
        "colab": {}
      },
      "source": [
        "# a df with just the delay data\n",
        "delay_df = df_arr.select('delays.*').na.fill(0)\n",
        "#delay_df.show(5)"
      ],
      "execution_count": 0,
      "outputs": []
    },
    {
      "cell_type": "code",
      "metadata": {
        "id": "4cG12MmNc81J",
        "colab_type": "code",
        "colab": {}
      },
      "source": [
        "# create a new column in main arrival df with total delay minutes\n",
        "delay_df = delay_df.withColumn('totalDelay', sum(delay_df[col] for col in delay_df.columns))\n",
        "delay_df = delay_df.select('*').withColumn('d_id', monotonically_increasing_id())\n",
        "\n",
        "#delay_df.show(5)\n"
      ],
      "execution_count": 0,
      "outputs": []
    },
    {
      "cell_type": "markdown",
      "metadata": {
        "id": "B_VNT9Ng07hz",
        "colab_type": "text"
      },
      "source": [
        "Now let's merge this table with the main table."
      ]
    },
    {
      "cell_type": "code",
      "metadata": {
        "id": "TZAckuVs1G2q",
        "colab_type": "code",
        "colab": {}
      },
      "source": [
        "# In order to join two dataframes, we need to create an index column to join the two \n",
        "# dataframes on\n",
        "df_arr = df_arr.select('*').withColumn('id', monotonically_increasing_id())\n",
        "\n",
        "df_arr = df_arr.join(delay_df, col('id') == col('d_id'), how='leftouter').drop('d_id')\n",
        "#df_arr.show(5)"
      ],
      "execution_count": 0,
      "outputs": []
    },
    {
      "cell_type": "markdown",
      "metadata": {
        "id": "A_3zmAdILcYR",
        "colab_type": "text"
      },
      "source": [
        "Now let's do the same for flightDurations and flightEquipment."
      ]
    },
    {
      "cell_type": "code",
      "metadata": {
        "id": "1tASHvAfUSQC",
        "colab_type": "code",
        "colab": {}
      },
      "source": [
        "eq_df = df_arr.select('flightEquipment.*').drop('tailNumber')\n",
        "#eq_df.show(5)"
      ],
      "execution_count": 0,
      "outputs": []
    },
    {
      "cell_type": "markdown",
      "metadata": {
        "id": "ewUHBCkbnyNn",
        "colab_type": "text"
      },
      "source": [
        "When it comes to equipment, when it is changed it might cause a delay so I'm going to drop the tailNumber and create another column that shows whether there was a change in equipment."
      ]
    },
    {
      "cell_type": "code",
      "metadata": {
        "id": "gZ-4YTuqnxXP",
        "colab_type": "code",
        "colab": {}
      },
      "source": [
        "eq_df = eq_df.withColumn('eqChanged', F.when(F.col('actualEquipmentIataCode') == F.col('scheduledEquipmentIatacode'), 0)\n",
        "    .otherwise(1))\n",
        "\n",
        "eq_df = eq_df.select('*').withColumn('e_id', monotonically_increasing_id())\n",
        "#eq_df.show(5)"
      ],
      "execution_count": 0,
      "outputs": []
    },
    {
      "cell_type": "markdown",
      "metadata": {
        "id": "Ug_Wt5tDsDz8",
        "colab_type": "text"
      },
      "source": [
        "And lastly, let's just some up the flight durations."
      ]
    },
    {
      "cell_type": "code",
      "metadata": {
        "id": "JKJg7lb7sCRp",
        "colab_type": "code",
        "colab": {}
      },
      "source": [
        "fd_df = df_arr.select('flightDurations.*').na.fill(0)\n",
        "fd_df = fd_df.withColumn('totalDuration', sum(fd_df[col] for col in fd_df.columns))\n",
        "fd_df = fd_df.select('*').withColumn('f_id', monotonically_increasing_id())\n",
        "#fd_df.show(5)"
      ],
      "execution_count": 0,
      "outputs": []
    },
    {
      "cell_type": "markdown",
      "metadata": {
        "id": "FZq-vx4Ythrk",
        "colab_type": "text"
      },
      "source": [
        "Put all the tables together."
      ]
    },
    {
      "cell_type": "code",
      "metadata": {
        "id": "838qwLZztnyI",
        "colab_type": "code",
        "colab": {}
      },
      "source": [
        "df_arr = df_arr.join(eq_df, col('id') == col('e_id'), how='leftouter').drop('e_id').join(fd_df, col('id') == col('f_id'), how='leftouter').drop('f_id')\n",
        "#df_arr.orderBy('id').show(5)"
      ],
      "execution_count": 0,
      "outputs": []
    },
    {
      "cell_type": "code",
      "metadata": {
        "id": "7QDZs7KdvG8X",
        "colab_type": "code",
        "outputId": "d45efa35-662d-437b-f627-576af43b7a18",
        "colab": {
          "base_uri": "https://localhost:8080/",
          "height": 34
        }
      },
      "source": [
        "df_arr.count()"
      ],
      "execution_count": 0,
      "outputs": [
        {
          "output_type": "execute_result",
          "data": {
            "text/plain": [
              "337"
            ]
          },
          "metadata": {
            "tags": []
          },
          "execution_count": 25
        }
      ]
    },
    {
      "cell_type": "markdown",
      "metadata": {
        "id": "tXq828aK3HF4",
        "colab_type": "text"
      },
      "source": [
        "We now need to repeat the same process for the departing flights data. It might be better if I wrote a function that does this given a dataframe."
      ]
    },
    {
      "cell_type": "code",
      "metadata": {
        "id": "jZKZ6Tjl76qX",
        "colab_type": "code",
        "colab": {}
      },
      "source": [
        "def format_flight_data(df):\n",
        "    # lets' first index the df since we know we will be needing it later\n",
        "    df = df.select('*').withColumn('id', monotonically_increasing_id())\n",
        "\n",
        "    ##### timestamp #####\n",
        "    # first need to extract the date info from the arrivalDate struct\n",
        "    df = df.withColumn('localDate', col('arrivalDate').getField('dateLocal'))\n",
        "    df = df.withColumn('localTimeStamp', df['localDate'].cast(TimestampType()))\n",
        "    df = df.withColumn('date', col('localTimeStamp').cast('date'))\n",
        "    df = df.withColumn('hour', hour(col('localTimeStamp')))\n",
        "    df = df.withColumn('minute', minute(col('localTimeStamp')))\n",
        "    df = df.withColumn('weekOfYear', weekofyear(col('localTimeStamp')))\n",
        "    df = df.withColumn('dayOfWeek', dayofweek(col('localTimeStamp')))\n",
        "\n",
        "    ##### delays #####\n",
        "    # fill all null values with 0\n",
        "    delay_df = df.select('delays.*').na.fill(0)\n",
        "    # create a new column in main arrival df with total delay minutes\n",
        "    delay_df = delay_df.withColumn('totalDelay', sum(delay_df[col] for col in delay_df.columns))\n",
        "    delay_df = delay_df.select('*').withColumn('d_id', monotonically_increasing_id())\n",
        "\n",
        "    ##### equipment #####\n",
        "    eq_df = df.select('flightEquipment.*').drop('tailNumber')\n",
        "    eq_df = eq_df.withColumn('eqChanged', F.when(F.col('actualEquipmentIataCode') == F.col('scheduledEquipmentIatacode'), 0).otherwise(1))\n",
        "    eq_df = eq_df.select('*').withColumn('e_id', monotonically_increasing_id())\n",
        "\n",
        "    ##### duration #####\n",
        "    fd_df = df.select('flightDurations.*').na.fill(0)\n",
        "    fd_df = fd_df.withColumn('totalDuration', sum(fd_df[col] for col in fd_df.columns))\n",
        "    fd_df = fd_df.select('*').withColumn('f_id', monotonically_increasing_id())\n",
        "\n",
        "    # join all dataframes\n",
        "    formatted_df = df.join(delay_df, col('id')==col('d_id'), how='leftouter').drop('d_id')\n",
        "    formatted_df = formatted_df.join(eq_df, col('id')==col('e_id'), how='leftouter').drop('e_id')\n",
        "    formatted_df = formatted_df.join(fd_df, col('id')==col('f_id'), how='leftouter').drop('f_id')\n",
        "\n",
        "    # drop extraneous columns\n",
        "    formatted_df = formatted_df.drop('airportResources', 'codeshares', 'departureDate',\n",
        "            'divertedAirportFsCode', 'operationalTimes', 'schedule', 'status',\n",
        "            'flightId', 'flightNumber')\n",
        "\n",
        "    return formatted_df\n",
        "\n",
        "    "
      ],
      "execution_count": 0,
      "outputs": []
    },
    {
      "cell_type": "code",
      "metadata": {
        "id": "HbtYuj8McbYN",
        "colab_type": "code",
        "outputId": "66f5207a-aac6-4fab-b4c3-3391404cc03e",
        "colab": {
          "base_uri": "https://localhost:8080/",
          "height": 232
        }
      },
      "source": [
        "df_arr_fmtd = format_flight_data(df_arr)\n",
        "df_arr_fmtd.show(5)"
      ],
      "execution_count": 15,
      "outputs": [
        {
          "output_type": "stream",
          "text": [
            "+--------------------+--------------------+-------------+--------------------+----------------------+--------------------+------------------+---+--------------------+-------------------+----------+----+------+----------+---------+-----------------------+-------------------------+-------------------------+---------------------------+----------+-----------------------+--------------------------+---------+------------+-------------------+---------------------+----------------------+-----------------------+--------------+-------------+\n",
            "|arrivalAirportFsCode|         arrivalDate|carrierFsCode|              delays|departureAirportFsCode|     flightDurations|   flightEquipment| id|           localDate|     localTimeStamp|      date|hour|minute|weekOfYear|dayOfWeek|arrivalGateDelayMinutes|arrivalRunwayDelayMinutes|departureGateDelayMinutes|departureRunwayDelayMinutes|totalDelay|actualEquipmentIataCode|scheduledEquipmentIataCode|eqChanged|blockMinutes|scheduledAirMinutes|scheduledBlockMinutes|scheduledTaxiInMinutes|scheduledTaxiOutMinutes|taxiOutMinutes|totalDuration|\n",
            "+--------------------+--------------------+-------------+--------------------+----------------------+--------------------+------------------+---+--------------------+-------------------+----------+----+------+----------+---------+-----------------------+-------------------------+-------------------------+---------------------------+----------+-----------------------+--------------------------+---------+------------+-------------------+---------------------+----------------------+-----------------------+--------------+-------------+\n",
            "|                 LAX|[2020-01-17T13:10...|           QR|      [, 13, 52, 60]|                   DOH|[, 1021, 985,, 10...|[77L, 77L, A7-BBA]|  0|2020-01-17T13:10:...|2020-01-17 13:10:00|2020-01-17|  13|    10|         3|        6|                      0|                       13|                       52|                         60|       125|                    77L|                       77L|        0|           0|               1021|                  985|                     0|                     10|            18|         2034|\n",
            "|                 LAX|[2020-01-17T13:15...|           QF|[205, 247, 226, 240]|                   SYD|[, 763, 830, 57, ...|[388, 388, VH-OQJ]|  1|2020-01-17T13:15:...|2020-01-17 13:15:00|2020-01-17|  13|    15|         3|        6|                    205|                      247|                      226|                        240|       918|                    388|                       388|        0|           0|                763|                  830|                    57|                     10|            24|         1684|\n",
            "|                 LAX|[2020-01-17T13:50...|           SU|          [14, 23,,]|                   SVO|[, 745, 770, 15, ...|[332, 332, VQ-BBE]|  2|2020-01-17T13:50:...|2020-01-17 13:50:00|2020-01-17|  13|    50|         3|        6|                     14|                       23|                        0|                          0|        37|                    332|                       332|        0|           0|                745|                  770|                    15|                     10|            23|         1563|\n",
            "|                 LAX|[2020-01-17T14:00...|           NZ|       [, 7, 17, 25]|                   AKL|[, 681, 725, 34, ...|[77W, 77W, ZK-OKS]|  3|2020-01-17T14:00:...|2020-01-17 14:00:00|2020-01-17|  14|     0|         3|        6|                      0|                        7|                       17|                         25|        49|                    77W|                       77W|        0|           0|                681|                  725|                    34|                     10|            18|         1468|\n",
            "|                 LAX|[2020-01-17T14:40...|           AA|               [,,,]|                   PEK|[, 683, 730, 10, ...|[788, 788, N813AN]|  4|2020-01-17T14:40:...|2020-01-17 14:40:00|2020-01-17|  14|    40|         3|        6|                      0|                        0|                        0|                          0|         0|                    788|                       788|        0|           0|                683|                  730|                    10|                     37|            22|         1482|\n",
            "+--------------------+--------------------+-------------+--------------------+----------------------+--------------------+------------------+---+--------------------+-------------------+----------+----+------+----------+---------+-----------------------+-------------------------+-------------------------+---------------------------+----------+-----------------------+--------------------------+---------+------------+-------------------+---------------------+----------------------+-----------------------+--------------+-------------+\n",
            "only showing top 5 rows\n",
            "\n"
          ],
          "name": "stdout"
        }
      ]
    },
    {
      "cell_type": "markdown",
      "metadata": {
        "id": "jtmw06bIuSYb",
        "colab_type": "text"
      },
      "source": [
        "Nice. Now let's format the departing dataframe."
      ]
    },
    {
      "cell_type": "code",
      "metadata": {
        "id": "plGThBfVuaFg",
        "colab_type": "code",
        "outputId": "45528885-8be5-4fde-a819-8d3cb447a07f",
        "colab": {
          "base_uri": "https://localhost:8080/",
          "height": 232
        }
      },
      "source": [
        "df_dep = spark.read.json(DEP_JSON_PATH)\n",
        "df_dep_fmtd = format_flight_data(df_dep)\n",
        "df_dep_fmtd.show(5)"
      ],
      "execution_count": 16,
      "outputs": [
        {
          "output_type": "stream",
          "text": [
            "+--------------------+--------------------+-------------+----------------+----------------------+-----------------+------------------+---+--------------------+-------------------+----------+----+------+----------+---------+-----------------------+-------------------------+-------------------------+---------------------------+----------+-----------------------+--------------------------+---------+-------------------+---------------------+----------------------+-----------------------+-------------+\n",
            "|arrivalAirportFsCode|         arrivalDate|carrierFsCode|          delays|departureAirportFsCode|  flightDurations|   flightEquipment| id|           localDate|     localTimeStamp|      date|hour|minute|weekOfYear|dayOfWeek|arrivalGateDelayMinutes|arrivalRunwayDelayMinutes|departureGateDelayMinutes|departureRunwayDelayMinutes|totalDelay|actualEquipmentIataCode|scheduledEquipmentIataCode|eqChanged|scheduledAirMinutes|scheduledBlockMinutes|scheduledTaxiInMinutes|scheduledTaxiOutMinutes|totalDuration|\n",
            "+--------------------+--------------------+-------------+----------------+----------------------+-----------------+------------------+---+--------------------+-------------------+----------+----+------+----------+---------+-----------------------+-------------------------+-------------------------+---------------------------+----------+-----------------------+--------------------------+---------+-------------------+---------------------+----------------------+-----------------------+-------------+\n",
            "|                 DFW|[2020-01-17T15:56...|           NK|           [,,,]|                   LAX| [151, 181,, 383]|       [32S, 32A,]|  0|2020-01-17T15:56:...|2020-01-17 15:56:00|2020-01-17|  15|    56|         3|        6|                      0|                        0|                        0|                          0|         0|                    32S|                       32A|        1|                151|                  181|                     0|                    383|          715|\n",
            "|                 VNY|[2020-01-17T14:12...|          JTL|           [,,,]|                   LAX|       [12,,, 30]|    [GR2,, N990JT]|  1|2020-01-17T14:12:...|2020-01-17 14:12:00|2020-01-17|  14|    12|         3|        6|                      0|                        0|                        0|                          0|         0|                    GR2|                      null|        1|                 12|                    0|                     0|                     30|           42|\n",
            "|                 SMF|[2020-01-17T15:00...|           WN|   [20,, 20, 15]|                   LAX|    [62, 90,, 31]|[73W, 73W, N711HK]|  2|2020-01-17T15:00:...|2020-01-17 15:00:00|2020-01-17|  15|     0|         3|        6|                     20|                        0|                       20|                         15|        55|                    73W|                       73W|        0|                 62|                   90|                     0|                     31|          183|\n",
            "|                 AUS|[2020-01-17T18:29...|           AA|[25, 24, 25, 25]|                   LAX|[152, 174, 6, 16]|[32B, 321, N134AN]|  3|2020-01-17T18:29:...|2020-01-17 18:29:00|2020-01-17|  18|    29|         3|        6|                     25|                       24|                       25|                         25|        99|                    32B|                       321|        1|                152|                  174|                     6|                     16|          348|\n",
            "|                 SAN|[2020-01-17T14:37...|           OO|           [,,,]|                   LAX|  [29, 54, 3, 22]|[CR7, CR7, N732SK]|  4|2020-01-17T14:37:...|2020-01-17 14:37:00|2020-01-17|  14|    37|         3|        6|                      0|                        0|                        0|                          0|         0|                    CR7|                       CR7|        0|                 29|                   54|                     3|                     22|          108|\n",
            "+--------------------+--------------------+-------------+----------------+----------------------+-----------------+------------------+---+--------------------+-------------------+----------+----+------+----------+---------+-----------------------+-------------------------+-------------------------+---------------------------+----------+-----------------------+--------------------------+---------+-------------------+---------------------+----------------------+-----------------------+-------------+\n",
            "only showing top 5 rows\n",
            "\n"
          ],
          "name": "stdout"
        }
      ]
    },
    {
      "cell_type": "markdown",
      "metadata": {
        "id": "x-eNBPR04GaV",
        "colab_type": "text"
      },
      "source": [
        "Now that we have a formatted dataframe for both arriving and departing flights, we need to join the weather conditions for each flight. The data from the DarkSky API contains within it a timestamp but it is in UNIX time. So now we just need to convert it so that it matches up with the formatted dataframe and do an inner join."
      ]
    },
    {
      "cell_type": "code",
      "metadata": {
        "id": "mwG5q9RvpJ_2",
        "colab_type": "code",
        "colab": {}
      },
      "source": [
        "df_weath = spark.read.json(WEATH_JSON_PATH)\n",
        "#df_weath.show(5)"
      ],
      "execution_count": 0,
      "outputs": []
    },
    {
      "cell_type": "code",
      "metadata": {
        "id": "7mQ3fzW9MKIt",
        "colab_type": "code",
        "colab": {}
      },
      "source": [
        "df_weath = df_weath.withColumn('f_time', df_weath['time'].cast(TimestampType()))\n",
        "#df_weath.show(5)"
      ],
      "execution_count": 0,
      "outputs": []
    },
    {
      "cell_type": "markdown",
      "metadata": {
        "id": "gaHSNWczBV1l",
        "colab_type": "text"
      },
      "source": [
        "Hmmm. Since the weather data is taken hourly, we now just need to match upto the hour."
      ]
    },
    {
      "cell_type": "code",
      "metadata": {
        "id": "Yrhc18FHBVeu",
        "colab_type": "code",
        "colab": {}
      },
      "source": [
        "# separate date and hour\n",
        "df_weath = df_weath.withColumn('w_date', col('f_time').cast('date'))\n",
        "df_weath = df_weath.withColumn('w_hour', hour(col('f_time')))\n",
        "#df_weath.show(5)"
      ],
      "execution_count": 0,
      "outputs": []
    },
    {
      "cell_type": "markdown",
      "metadata": {
        "id": "JPKz6y92Gs60",
        "colab_type": "text"
      },
      "source": [
        "Now all that's left to do is inner join the weather data on both the date and hour columns."
      ]
    },
    {
      "cell_type": "code",
      "metadata": {
        "id": "mVq1TEUGA_HS",
        "colab_type": "code",
        "colab": {}
      },
      "source": [
        "df_arr_wthr = df_arr_fmtd.join(df_weath, (col('date')==col('w_date'))&(col('hour')==col('w_hour')), how='inner')\n",
        "df_arr_wthr = df_arr_wthr.drop('time', 'w_date', 'w_hour')\n",
        "#df_arr_wthr.show(5)"
      ],
      "execution_count": 0,
      "outputs": []
    },
    {
      "cell_type": "code",
      "metadata": {
        "id": "8If0_nijHk5E",
        "colab_type": "code",
        "colab": {}
      },
      "source": [
        "df_dep_wthr = df_dep_fmtd.join(df_weath, (col('date')==col('w_date')) & (col('hour')==col('w_hour')), how='inner')\n",
        "df_dep_wthr = df_dep_wthr.drop('time', 'w_date', 'w_hour')\n",
        "#df_dep_wthr.show(5)"
      ],
      "execution_count": 0,
      "outputs": []
    },
    {
      "cell_type": "markdown",
      "metadata": {
        "id": "CUhGyctlXTY9",
        "colab_type": "text"
      },
      "source": [
        "Next, I think I will select only the feature and target columns."
      ]
    },
    {
      "cell_type": "code",
      "metadata": {
        "id": "cSofB4KIJ9Pa",
        "colab_type": "code",
        "outputId": "7956691e-e048-4765-a18a-480e8e0f1991",
        "colab": {
          "base_uri": "https://localhost:8080/",
          "height": 232
        }
      },
      "source": [
        "df_arr_final = df_arr_wthr.drop('arrivalDate', 'delays', 'flightDurations', 'flightEquipment', \n",
        "                               'localDate', 'localTimeStamp', 'icon', 'f_time')\n",
        "df_arr_final.show(5)"
      ],
      "execution_count": 22,
      "outputs": [
        {
          "output_type": "stream",
          "text": [
            "+--------------------+-------------+----------------------+---+----------+----+------+----------+---------+-----------------------+-------------------------+-------------------------+---------------------------+----------+-----------------------+--------------------------+---------+------------+-------------------+---------------------+----------------------+-----------------------+--------------+-------------+-------------------+----------+--------+--------+-----+---------------+-----------------+----------+--------+-------------+-----------+-------+----------+-----------+--------+---------+\n",
            "|arrivalAirportFsCode|carrierFsCode|departureAirportFsCode| id|      date|hour|minute|weekOfYear|dayOfWeek|arrivalGateDelayMinutes|arrivalRunwayDelayMinutes|departureGateDelayMinutes|departureRunwayDelayMinutes|totalDelay|actualEquipmentIataCode|scheduledEquipmentIataCode|eqChanged|blockMinutes|scheduledAirMinutes|scheduledBlockMinutes|scheduledTaxiInMinutes|scheduledTaxiOutMinutes|taxiOutMinutes|totalDuration|apparentTemperature|cloudCover|dewPoint|humidity|ozone|precipIntensity|precipProbability|precipType|pressure|      summary|temperature|uvIndex|visibility|windBearing|windGust|windSpeed|\n",
            "+--------------------+-------------+----------------------+---+----------+----+------+----------+---------+-----------------------+-------------------------+-------------------------+---------------------------+----------+-----------------------+--------------------------+---------+------------+-------------------+---------------------+----------------------+-----------------------+--------------+-------------+-------------------+----------+--------+--------+-----+---------------+-----------------+----------+--------+-------------+-----------+-------+----------+-----------+--------+---------+\n",
            "|                 LAX|           QR|                   DOH|  0|2020-01-17|  13|    10|         3|        6|                      0|                       13|                       52|                         60|       125|                    77L|                       77L|        0|           0|               1021|                  985|                     0|                     10|            18|         2034|              51.24|      0.64|   46.86|    0.85|289.0|         7.0E-4|             0.01|      rain|  1020.6|Mostly Cloudy|      51.24|      0|      10.0|        323|    6.25|     4.13|\n",
            "|                 LAX|           QF|                   SYD|  1|2020-01-17|  13|    15|         3|        6|                    205|                      247|                      226|                        240|       918|                    388|                       388|        0|           0|                763|                  830|                    57|                     10|            24|         1684|              51.24|      0.64|   46.86|    0.85|289.0|         7.0E-4|             0.01|      rain|  1020.6|Mostly Cloudy|      51.24|      0|      10.0|        323|    6.25|     4.13|\n",
            "|                 LAX|           SU|                   SVO|  2|2020-01-17|  13|    50|         3|        6|                     14|                       23|                        0|                          0|        37|                    332|                       332|        0|           0|                745|                  770|                    15|                     10|            23|         1563|              51.24|      0.64|   46.86|    0.85|289.0|         7.0E-4|             0.01|      rain|  1020.6|Mostly Cloudy|      51.24|      0|      10.0|        323|    6.25|     4.13|\n",
            "|                 LAX|           NZ|                   AKL|  3|2020-01-17|  14|     0|         3|        6|                      0|                        7|                       17|                         25|        49|                    77W|                       77W|        0|           0|                681|                  725|                    34|                     10|            18|         1468|              50.88|      0.55|    46.3|    0.84|284.7|            0.0|              0.0|      null|  1021.3|Partly Cloudy|      50.88|      0|      10.0|        338|    5.54|     5.06|\n",
            "|                 LAX|           AA|                   PEK|  4|2020-01-17|  14|    40|         3|        6|                      0|                        0|                        0|                          0|         0|                    788|                       788|        0|           0|                683|                  730|                    10|                     37|            22|         1482|              50.88|      0.55|    46.3|    0.84|284.7|            0.0|              0.0|      null|  1021.3|Partly Cloudy|      50.88|      0|      10.0|        338|    5.54|     5.06|\n",
            "+--------------------+-------------+----------------------+---+----------+----+------+----------+---------+-----------------------+-------------------------+-------------------------+---------------------------+----------+-----------------------+--------------------------+---------+------------+-------------------+---------------------+----------------------+-----------------------+--------------+-------------+-------------------+----------+--------+--------+-----+---------------+-----------------+----------+--------+-------------+-----------+-------+----------+-----------+--------+---------+\n",
            "only showing top 5 rows\n",
            "\n"
          ],
          "name": "stdout"
        }
      ]
    },
    {
      "cell_type": "code",
      "metadata": {
        "id": "qt_y4sfWL1Un",
        "colab_type": "code",
        "outputId": "dad17ef7-749c-4f28-c15e-4ce946bcc8cc",
        "colab": {
          "base_uri": "https://localhost:8080/",
          "height": 232
        }
      },
      "source": [
        "# rinse and repeat for the departing flights\n",
        "df_dep_final = df_dep_wthr.drop('arrivalDate', 'delays', 'flightDurations', 'flightEquipment',\n",
        "                                'localDate', 'localTimeStamp', 'icon', 'f_time')\n",
        "df_dep_final.show(5)"
      ],
      "execution_count": 23,
      "outputs": [
        {
          "output_type": "stream",
          "text": [
            "+--------------------+-------------+----------------------+---+----------+----+------+----------+---------+-----------------------+-------------------------+-------------------------+---------------------------+----------+-----------------------+--------------------------+---------+-------------------+---------------------+----------------------+-----------------------+-------------+-------------------+----------+--------+--------+-----+---------------+-----------------+----------+--------+-------------+-----------+-------+----------+-----------+--------+---------+\n",
            "|arrivalAirportFsCode|carrierFsCode|departureAirportFsCode| id|      date|hour|minute|weekOfYear|dayOfWeek|arrivalGateDelayMinutes|arrivalRunwayDelayMinutes|departureGateDelayMinutes|departureRunwayDelayMinutes|totalDelay|actualEquipmentIataCode|scheduledEquipmentIataCode|eqChanged|scheduledAirMinutes|scheduledBlockMinutes|scheduledTaxiInMinutes|scheduledTaxiOutMinutes|totalDuration|apparentTemperature|cloudCover|dewPoint|humidity|ozone|precipIntensity|precipProbability|precipType|pressure|      summary|temperature|uvIndex|visibility|windBearing|windGust|windSpeed|\n",
            "+--------------------+-------------+----------------------+---+----------+----+------+----------+---------+-----------------------+-------------------------+-------------------------+---------------------------+----------+-----------------------+--------------------------+---------+-------------------+---------------------+----------------------+-----------------------+-------------+-------------------+----------+--------+--------+-----+---------------+-----------------+----------+--------+-------------+-----------+-------+----------+-----------+--------+---------+\n",
            "|                 DFW|           NK|                   LAX|  0|2020-01-17|  15|    56|         3|        6|                      0|                        0|                        0|                          0|         0|                    32S|                       32A|        1|                151|                  181|                     0|                    383|          715|              50.47|      0.56|   45.36|    0.83|281.3|         4.0E-4|             0.01|      rain|  1021.9|Partly Cloudy|      50.47|      0|      10.0|        345|    4.52|      1.1|\n",
            "|                 VNY|          JTL|                   LAX|  1|2020-01-17|  14|    12|         3|        6|                      0|                        0|                        0|                          0|         0|                    GR2|                      null|        1|                 12|                    0|                     0|                     30|           42|              50.88|      0.55|    46.3|    0.84|284.7|            0.0|              0.0|      null|  1021.3|Partly Cloudy|      50.88|      0|      10.0|        338|    5.54|     5.06|\n",
            "|                 SMF|           WN|                   LAX|  2|2020-01-17|  15|     0|         3|        6|                     20|                        0|                       20|                         15|        55|                    73W|                       73W|        0|                 62|                   90|                     0|                     31|          183|              50.47|      0.56|   45.36|    0.83|281.3|         4.0E-4|             0.01|      rain|  1021.9|Partly Cloudy|      50.47|      0|      10.0|        345|    4.52|      1.1|\n",
            "|                 AUS|           AA|                   LAX|  3|2020-01-17|  18|    29|         3|        6|                     25|                       24|                       25|                         25|        99|                    32B|                       321|        1|                152|                  174|                     6|                     16|          348|              55.01|      0.41|   46.17|    0.72|275.9|            0.0|              0.0|      null|  1024.2|Partly Cloudy|      55.01|      2|      10.0|         39|    5.51|     3.48|\n",
            "|                 SAN|           OO|                   LAX|  4|2020-01-17|  14|    37|         3|        6|                      0|                        0|                        0|                          0|         0|                    CR7|                       CR7|        0|                 29|                   54|                     3|                     22|          108|              50.88|      0.55|    46.3|    0.84|284.7|            0.0|              0.0|      null|  1021.3|Partly Cloudy|      50.88|      0|      10.0|        338|    5.54|     5.06|\n",
            "+--------------------+-------------+----------------------+---+----------+----+------+----------+---------+-----------------------+-------------------------+-------------------------+---------------------------+----------+-----------------------+--------------------------+---------+-------------------+---------------------+----------------------+-----------------------+-------------+-------------------+----------+--------+--------+-----+---------------+-----------------+----------+--------+-------------+-----------+-------+----------+-----------+--------+---------+\n",
            "only showing top 5 rows\n",
            "\n"
          ],
          "name": "stdout"
        }
      ]
    },
    {
      "cell_type": "markdown",
      "metadata": {
        "id": "LQkpyl7xCk0E",
        "colab_type": "text"
      },
      "source": [
        "While we have the columns narrowed down, we still have a long way to go to be ready to build a model. Since we will be using linear regression as one of the methods, we have to encode all the categorical variables."
      ]
    },
    {
      "cell_type": "code",
      "metadata": {
        "id": "Ww69i2Wl0Zum",
        "colab_type": "code",
        "outputId": "9b8d01a2-2ca0-4379-a55f-53369ee559fe",
        "colab": {
          "base_uri": "https://localhost:8080/",
          "height": 763
        }
      },
      "source": [
        "df_arr_final.printSchema()"
      ],
      "execution_count": 24,
      "outputs": [
        {
          "output_type": "stream",
          "text": [
            "root\n",
            " |-- arrivalAirportFsCode: string (nullable = true)\n",
            " |-- carrierFsCode: string (nullable = true)\n",
            " |-- departureAirportFsCode: string (nullable = true)\n",
            " |-- id: long (nullable = false)\n",
            " |-- date: date (nullable = true)\n",
            " |-- hour: integer (nullable = true)\n",
            " |-- minute: integer (nullable = true)\n",
            " |-- weekOfYear: integer (nullable = true)\n",
            " |-- dayOfWeek: integer (nullable = true)\n",
            " |-- arrivalGateDelayMinutes: long (nullable = true)\n",
            " |-- arrivalRunwayDelayMinutes: long (nullable = true)\n",
            " |-- departureGateDelayMinutes: long (nullable = true)\n",
            " |-- departureRunwayDelayMinutes: long (nullable = true)\n",
            " |-- totalDelay: long (nullable = true)\n",
            " |-- actualEquipmentIataCode: string (nullable = true)\n",
            " |-- scheduledEquipmentIataCode: string (nullable = true)\n",
            " |-- eqChanged: integer (nullable = true)\n",
            " |-- blockMinutes: long (nullable = true)\n",
            " |-- scheduledAirMinutes: long (nullable = true)\n",
            " |-- scheduledBlockMinutes: long (nullable = true)\n",
            " |-- scheduledTaxiInMinutes: long (nullable = true)\n",
            " |-- scheduledTaxiOutMinutes: long (nullable = true)\n",
            " |-- taxiOutMinutes: long (nullable = true)\n",
            " |-- totalDuration: long (nullable = true)\n",
            " |-- apparentTemperature: double (nullable = true)\n",
            " |-- cloudCover: double (nullable = true)\n",
            " |-- dewPoint: double (nullable = true)\n",
            " |-- humidity: double (nullable = true)\n",
            " |-- ozone: double (nullable = true)\n",
            " |-- precipIntensity: double (nullable = true)\n",
            " |-- precipProbability: double (nullable = true)\n",
            " |-- precipType: string (nullable = true)\n",
            " |-- pressure: double (nullable = true)\n",
            " |-- summary: string (nullable = true)\n",
            " |-- temperature: double (nullable = true)\n",
            " |-- uvIndex: long (nullable = true)\n",
            " |-- visibility: double (nullable = true)\n",
            " |-- windBearing: long (nullable = true)\n",
            " |-- windGust: double (nullable = true)\n",
            " |-- windSpeed: double (nullable = true)\n",
            "\n"
          ],
          "name": "stdout"
        }
      ]
    },
    {
      "cell_type": "code",
      "metadata": {
        "id": "qou6ZcdiMnrh",
        "colab_type": "code",
        "outputId": "b553dc34-35cb-49b4-af33-5dad366b2559",
        "colab": {
          "base_uri": "https://localhost:8080/",
          "height": 54
        }
      },
      "source": [
        "# let's first create a dictionary of all the carriers present in the dataframe\n",
        "# get unique values from column\n",
        "unique_airlines = df_arr_final.select('carrierFsCode').distinct()\n",
        "\n",
        "# make a list of all airlines\n",
        "airline_list = [row.carrierFsCode for row in unique_airlines.collect()]\n",
        "\n",
        "# create a random sampling of integer ids\n",
        "random_codes = random.sample(range(1000), len(airline_list))\n",
        "\n",
        "# assign each random int id to an airline\n",
        "airline_dict = dict(zip(airline_list, random_codes))\n",
        "print(airline_dict)\n"
      ],
      "execution_count": 54,
      "outputs": [
        {
          "output_type": "stream",
          "text": [
            "{'XOJ': 136, 'CI': 774, 'BAI': 80, 'UA': 264, 'NK': 715, 'AA': 955, 'AV': 508, 'QF': 828, 'CZ': 843, 'B6': 194, 'CX': 202, 'NH': 915, 'CV': 495, 'SU': 991, 'LX': 143, 'DL': 773, 'CA': 683, 'MW': 288, 'BR': 301, 'OO': 792, 'F9': 846, 'VB': 504, 'LH': 815, 'CM': 104, 'Y4': 62, 'VS': 703, 'HA': 724, 'BA': 418, 'LP': 388, 'EI': 908, 'WS': 605, 'DI*': 148, 'LO': 507, 'MU': 125, '5X': 921, 'G4': 290, 'MF': 671, 'NZ': 409, 'CP': 585, 'QR': 885, 'OZ': 637, 'KE': 325, '1I': 306, 'AS': 898, 'AC': 102, 'QX': 248, 'K4': 557, 'TK': 184, 'PR': 393, 'TA': 417, 'SQ': 841, 'AF': 186, 'WN': 157, 'L1E': 525}\n"
          ],
          "name": "stdout"
        }
      ]
    },
    {
      "cell_type": "code",
      "metadata": {
        "id": "5VJg9jm9j2vO",
        "colab_type": "code",
        "outputId": "d11f80f9-7229-4141-d9a2-2d9f6c7dab38",
        "colab": {
          "base_uri": "https://localhost:8080/",
          "height": 34
        }
      },
      "source": [
        "total_flts = df_arr_final.count()\n",
        "unique_from_stn = df_arr_final.select('departureAirportFsCode').distinct()\n",
        "from_stn_total = unique_from_stn.count()\n",
        "total_alines = len(airline_list)\n",
        "arr_airpt = df_arr_final.first().arrivalAirportFsCode\n",
        "\n",
        "print(f'There were {total_flts} flights from {from_stn_total} different stations operated by {total_alines} different airlines arriving at {arr_airpt} in the past 24 hours.')"
      ],
      "execution_count": 25,
      "outputs": [
        {
          "output_type": "stream",
          "text": [
            "There were 337 flights from 123 different stations operated by 54 different airlines arriving at LAX in the past 24 hours.\n"
          ],
          "name": "stdout"
        }
      ]
    },
    {
      "cell_type": "markdown",
      "metadata": {
        "id": "8ZFSDrSGR6Rx",
        "colab_type": "text"
      },
      "source": [
        "Now that we have a dictionary, let's apply it to our dataframe."
      ]
    },
    {
      "cell_type": "code",
      "metadata": {
        "id": "eAoJGJxVHGMP",
        "colab_type": "code",
        "outputId": "cd59816e-9d4e-4ba2-a431-2b7e26507bc1",
        "colab": {
          "base_uri": "https://localhost:8080/",
          "height": 232
        }
      },
      "source": [
        "map_exp = create_map([lit(x) for x in chain(*airline_dict.items())])\n",
        "\n",
        "df_arr_final = df_arr_final.withColumn('a_code', map_exp.getItem(col('carrierFsCode')))\n",
        "df_arr_final.show(5)"
      ],
      "execution_count": 26,
      "outputs": [
        {
          "output_type": "stream",
          "text": [
            "+--------------------+-------------+----------------------+---+----------+----+------+----------+---------+-----------------------+-------------------------+-------------------------+---------------------------+----------+-----------------------+--------------------------+---------+------------+-------------------+---------------------+----------------------+-----------------------+--------------+-------------+-------------------+----------+--------+--------+-----+---------------+-----------------+----------+--------+-------------+-----------+-------+----------+-----------+--------+---------+------+\n",
            "|arrivalAirportFsCode|carrierFsCode|departureAirportFsCode| id|      date|hour|minute|weekOfYear|dayOfWeek|arrivalGateDelayMinutes|arrivalRunwayDelayMinutes|departureGateDelayMinutes|departureRunwayDelayMinutes|totalDelay|actualEquipmentIataCode|scheduledEquipmentIataCode|eqChanged|blockMinutes|scheduledAirMinutes|scheduledBlockMinutes|scheduledTaxiInMinutes|scheduledTaxiOutMinutes|taxiOutMinutes|totalDuration|apparentTemperature|cloudCover|dewPoint|humidity|ozone|precipIntensity|precipProbability|precipType|pressure|      summary|temperature|uvIndex|visibility|windBearing|windGust|windSpeed|a_code|\n",
            "+--------------------+-------------+----------------------+---+----------+----+------+----------+---------+-----------------------+-------------------------+-------------------------+---------------------------+----------+-----------------------+--------------------------+---------+------------+-------------------+---------------------+----------------------+-----------------------+--------------+-------------+-------------------+----------+--------+--------+-----+---------------+-----------------+----------+--------+-------------+-----------+-------+----------+-----------+--------+---------+------+\n",
            "|                 LAX|           QR|                   DOH|  0|2020-01-17|  13|    10|         3|        6|                      0|                       13|                       52|                         60|       125|                    77L|                       77L|        0|           0|               1021|                  985|                     0|                     10|            18|         2034|              51.24|      0.64|   46.86|    0.85|289.0|         7.0E-4|             0.01|      rain|  1020.6|Mostly Cloudy|      51.24|      0|      10.0|        323|    6.25|     4.13|   979|\n",
            "|                 LAX|           QF|                   SYD|  1|2020-01-17|  13|    15|         3|        6|                    205|                      247|                      226|                        240|       918|                    388|                       388|        0|           0|                763|                  830|                    57|                     10|            24|         1684|              51.24|      0.64|   46.86|    0.85|289.0|         7.0E-4|             0.01|      rain|  1020.6|Mostly Cloudy|      51.24|      0|      10.0|        323|    6.25|     4.13|   900|\n",
            "|                 LAX|           SU|                   SVO|  2|2020-01-17|  13|    50|         3|        6|                     14|                       23|                        0|                          0|        37|                    332|                       332|        0|           0|                745|                  770|                    15|                     10|            23|         1563|              51.24|      0.64|   46.86|    0.85|289.0|         7.0E-4|             0.01|      rain|  1020.6|Mostly Cloudy|      51.24|      0|      10.0|        323|    6.25|     4.13|   813|\n",
            "|                 LAX|           NZ|                   AKL|  3|2020-01-17|  14|     0|         3|        6|                      0|                        7|                       17|                         25|        49|                    77W|                       77W|        0|           0|                681|                  725|                    34|                     10|            18|         1468|              50.88|      0.55|    46.3|    0.84|284.7|            0.0|              0.0|      null|  1021.3|Partly Cloudy|      50.88|      0|      10.0|        338|    5.54|     5.06|    31|\n",
            "|                 LAX|           AA|                   PEK|  4|2020-01-17|  14|    40|         3|        6|                      0|                        0|                        0|                          0|         0|                    788|                       788|        0|           0|                683|                  730|                    10|                     37|            22|         1482|              50.88|      0.55|    46.3|    0.84|284.7|            0.0|              0.0|      null|  1021.3|Partly Cloudy|      50.88|      0|      10.0|        338|    5.54|     5.06|   806|\n",
            "+--------------------+-------------+----------------------+---+----------+----+------+----------+---------+-----------------------+-------------------------+-------------------------+---------------------------+----------+-----------------------+--------------------------+---------+------------+-------------------+---------------------+----------------------+-----------------------+--------------+-------------+-------------------+----------+--------+--------+-----+---------------+-----------------+----------+--------+-------------+-----------+-------+----------+-----------+--------+---------+------+\n",
            "only showing top 5 rows\n",
            "\n"
          ],
          "name": "stdout"
        }
      ]
    },
    {
      "cell_type": "markdown",
      "metadata": {
        "id": "-VtZUbpzN5wm",
        "colab_type": "text"
      },
      "source": [
        "Looking through the dataframe, we have a couple more columns that needs to go under the same process to encode."
      ]
    },
    {
      "cell_type": "code",
      "metadata": {
        "id": "iInHX0tLSrjR",
        "colab_type": "code",
        "outputId": "48420945-b291-4f6a-dab3-41394bd095e6",
        "colab": {
          "base_uri": "https://localhost:8080/",
          "height": 54
        }
      },
      "source": [
        "# originating stations\n",
        "from_stn_list = [row.departureAirportFsCode for row in unique_from_stn.collect()]\n",
        "random_codes_2 = random.sample(range(1001, 2000), len(from_stn_list))\n",
        "from_stn_dict = dict(zip(from_stn_list, random_codes_2))\n",
        "print(from_stn_dict)"
      ],
      "execution_count": 27,
      "outputs": [
        {
          "output_type": "stream",
          "text": [
            "{'MSY': 1345, 'GEG': 1991, 'EUG': 1512, 'OAK': 1518, 'BNE': 1765, 'MSN': 1220, 'DCA': 1887, 'QRO': 1574, 'RDM': 1833, 'PEK': 1464, 'CMH': 1992, 'CDG': 1046, 'SIN': 1371, 'IAH': 1634, 'MZT': 1085, 'SYD': 1769, 'HNL': 1380, 'SJC': 1197, 'BUF': 1550, 'PVG': 1917, 'AUS': 1728, 'MUC': 1614, 'MEX': 1139, 'ZIH': 1154, 'RNO': 1429, 'JAC': 1217, 'IPL': 1881, 'TUL': 1076, 'BOS': 1191, 'EWR': 1238, 'DOH': 1121, 'LAS': 1306, 'YEG': 1214, 'LIR': 1567, 'BCN': 1997, 'XNA': 1933, 'YYZ': 1003, 'DEN': 1734, 'BJX': 1541, 'IAD': 1638, 'BOI': 1772, 'SBA': 1385, 'SJD': 1494, 'SEA': 1413, 'MNL': 1715, 'ICN': 1704, 'MCI': 1107, 'WAW': 1178, 'CLT': 1717, 'BNA': 1093, 'PAE': 1447, 'YVR': 1163, 'CUN': 1325, 'ABQ': 1328, 'SVO': 1377, 'SDF': 1183, 'MEL': 1213, 'SCK': 1802, 'DAL': 1896, 'MRY': 1216, 'PDX': 1757, 'PVR': 1938, 'LGW': 1805, 'MIA': 1743, 'MFR': 1852, 'LHR': 1663, 'DGO': 1526, 'PRC': 1442, 'SAL': 1976, 'OKC': 1607, 'YYC': 1905, 'SMF': 1335, 'PTY': 1037, 'PHX': 1432, 'STL': 1475, 'DFW': 1364, 'MMH': 1028, 'TEB': 1693, 'HDN': 1561, 'EGE': 1961, 'SWF': 1119, 'SUN': 1423, 'SFO': 1215, 'MEM': 1989, 'ELP': 1004, 'CAN': 1754, 'ATL': 1054, 'TPE': 1594, 'OMA': 1053, 'TAO': 1112, 'DUB': 1095, 'AKL': 1270, 'FAT': 1530, 'ZRH': 1317, 'ORD': 1531, 'HND': 1050, 'TRM': 1126, 'TUS': 1010, 'MDW': 1746, 'COS': 1300, 'LIM': 1851, 'IND': 1959, 'HKG': 1103, 'VNY': 1308, 'DTW': 1264, 'BOG': 1290, 'HOU': 1473, 'MCE': 1602, 'STS': 1148, 'MSP': 1396, 'LAX': 1899, 'MCO': 1407, 'SAN': 1219, 'BZN': 1855, 'PPT': 1862, 'JFK': 1656, 'GDL': 1032, 'PHL': 1421, 'OGG': 1268, 'ISL': 1825, 'SAT': 1025, 'SLC': 1450, 'ASE': 1646}\n"
          ],
          "name": "stdout"
        }
      ]
    },
    {
      "cell_type": "code",
      "metadata": {
        "id": "5GUM721-xWmH",
        "colab_type": "code",
        "colab": {}
      },
      "source": [
        "#df_arr_final.columns"
      ],
      "execution_count": 0,
      "outputs": []
    },
    {
      "cell_type": "code",
      "metadata": {
        "id": "-YoDvbrkTOJl",
        "colab_type": "code",
        "outputId": "4b8bbded-f250-4a70-f33b-98e0cf6c3835",
        "colab": {
          "base_uri": "https://localhost:8080/",
          "height": 72
        }
      },
      "source": [
        "# aircrafts(ac)\n",
        "ac_actual = df_arr_final.select('actualEquipmentIataCode').na.fill('None').distinct()\n",
        "ac_sched = df_arr_final.select('scheduledEquipmentIataCode').na.fill('None').distinct()\n",
        "\n",
        "ac_actual_list = [row.actualEquipmentIataCode for row in ac_actual.collect()]\n",
        "ac_sched_list = [row.scheduledEquipmentIataCode for row in ac_sched.collect()]\n",
        "\n",
        "ac_combo_list = list(set(ac_actual_list + ac_sched_list))\n",
        "\n",
        "random_codes_3 = random.sample(range(2001, 3000), len(ac_combo_list))\n",
        "\n",
        "ac_dict = dict(zip(ac_combo_list, random_codes_3))\n",
        "print(ac_dict)\n",
        "\n",
        "print(f'A total of {len(ac_combo_list)} different types of aircraft operating today.')"
      ],
      "execution_count": 28,
      "outputs": [
        {
          "output_type": "stream",
          "text": [
            "{'73G': 2670, '752': 2362, '7S8': 2732, '753': 2404, '388': 2093, 'PL2': 2904, '74F': 2631, '75T': 2055, 'CR7': 2786, '77F': 2225, 'CN2': 2293, '321': 2637, '76W': 2010, '773': 2158, '74Y': 2925, 'CNA': 2380, 'None': 2418, '73H': 2250, '32N': 2773, '73J': 2663, '788': 2309, 'CJL': 2434, '75W': 2873, 'E7W': 2476, '772': 2284, '77L': 2820, '73R': 2642, '32B': 2824, '359': 2916, '319': 2875, '739': 2041, '32Q': 2562, '763': 2295, '741': 2766, '738': 2466, '32S': 2990, '32A': 2672, 'CR2': 2247, '757': 2729, '31B': 2449, '75D': 2806, '76V': 2065, '320': 2267, '346': 2714, '332': 2793, '330': 2367, 'E75': 2752, '77W': 2550, '744': 2677, '73W': 2830, '747': 2259, '77X': 2861, '781': 2152, '789': 2656, '74N': 2275, 'CNJ': 2245, 'CRJ': 2366}\n",
            "A total of 57 different types of aircraft operating today.\n"
          ],
          "name": "stdout"
        }
      ]
    },
    {
      "cell_type": "code",
      "metadata": {
        "id": "gT7MM5YDWHwB",
        "colab_type": "code",
        "outputId": "4ce9a246-0ccf-4456-ca3d-3fec4fedb8f4",
        "colab": {
          "base_uri": "https://localhost:8080/",
          "height": 141
        }
      },
      "source": [
        "# precipitation\n",
        "df_arr_final.select('precipType').distinct().show()\n"
      ],
      "execution_count": 29,
      "outputs": [
        {
          "output_type": "stream",
          "text": [
            "+----------+\n",
            "|precipType|\n",
            "+----------+\n",
            "|      null|\n",
            "|      rain|\n",
            "+----------+\n",
            "\n"
          ],
          "name": "stdout"
        }
      ]
    },
    {
      "cell_type": "markdown",
      "metadata": {
        "id": "UKQkx0-Sz-Qm",
        "colab_type": "text"
      },
      "source": [
        "It looks like we can just drop this column altogether."
      ]
    },
    {
      "cell_type": "code",
      "metadata": {
        "id": "-QNfPikMaJIr",
        "colab_type": "code",
        "colab": {}
      },
      "source": [
        "df_arr_final = df_arr_final.drop('precipType', 'summary')"
      ],
      "execution_count": 0,
      "outputs": []
    },
    {
      "cell_type": "code",
      "metadata": {
        "id": "mzyt5XH20oeS",
        "colab_type": "code",
        "outputId": "a9b50b54-dd5a-49e9-9f7e-59c28cbfc436",
        "colab": {
          "base_uri": "https://localhost:8080/",
          "height": 161
        }
      },
      "source": [
        "df_arr_final.show(1)"
      ],
      "execution_count": 37,
      "outputs": [
        {
          "output_type": "stream",
          "text": [
            "+--------------------+-------------+----------------------+---+----------+----+------+----------+---------+-----------------------+-------------------------+-------------------------+---------------------------+----------+-----------------------+--------------------------+---------+------------+-------------------+---------------------+----------------------+-----------------------+--------------+-------------+-------------------+----------+--------+--------+-----+---------------+-----------------+--------+-----------+-------+----------+-----------+--------+---------+------+-------+--------+--------+\n",
            "|arrivalAirportFsCode|carrierFsCode|departureAirportFsCode| id|      date|hour|minute|weekOfYear|dayOfWeek|arrivalGateDelayMinutes|arrivalRunwayDelayMinutes|departureGateDelayMinutes|departureRunwayDelayMinutes|totalDelay|actualEquipmentIataCode|scheduledEquipmentIataCode|eqChanged|blockMinutes|scheduledAirMinutes|scheduledBlockMinutes|scheduledTaxiInMinutes|scheduledTaxiOutMinutes|taxiOutMinutes|totalDuration|apparentTemperature|cloudCover|dewPoint|humidity|ozone|precipIntensity|precipProbability|pressure|temperature|uvIndex|visibility|windBearing|windGust|windSpeed|a_code|fm_code|aac_code|sac_code|\n",
            "+--------------------+-------------+----------------------+---+----------+----+------+----------+---------+-----------------------+-------------------------+-------------------------+---------------------------+----------+-----------------------+--------------------------+---------+------------+-------------------+---------------------+----------------------+-----------------------+--------------+-------------+-------------------+----------+--------+--------+-----+---------------+-----------------+--------+-----------+-------+----------+-----------+--------+---------+------+-------+--------+--------+\n",
            "|                 LAX|           QR|                   DOH|  0|2020-01-17|  13|    10|         3|        6|                      0|                       13|                       52|                         60|       125|                    77L|                       77L|        0|           0|               1021|                  985|                     0|                     10|            18|         2034|              51.24|      0.64|   46.86|    0.85|289.0|         7.0E-4|             0.01|  1020.6|      51.24|      0|      10.0|        323|    6.25|     4.13|   979|   1121|    2820|    2820|\n",
            "+--------------------+-------------+----------------------+---+----------+----+------+----------+---------+-----------------------+-------------------------+-------------------------+---------------------------+----------+-----------------------+--------------------------+---------+------------+-------------------+---------------------+----------------------+-----------------------+--------------+-------------+-------------------+----------+--------+--------+-----+---------------+-----------------+--------+-----------+-------+----------+-----------+--------+---------+------+-------+--------+--------+\n",
            "only showing top 1 row\n",
            "\n"
          ],
          "name": "stdout"
        }
      ]
    },
    {
      "cell_type": "code",
      "metadata": {
        "id": "JB5iXmfR2Hvx",
        "colab_type": "code",
        "colab": {}
      },
      "source": [
        "map_exp_2 = create_map([lit(x) for x in chain(*from_stn_dict.items())])\n",
        "map_exp_3 = create_map([lit(x) for x in chain(*ac_dict.items())])"
      ],
      "execution_count": 0,
      "outputs": []
    },
    {
      "cell_type": "code",
      "metadata": {
        "id": "7p9YR4mK7Eh1",
        "colab_type": "code",
        "colab": {}
      },
      "source": [
        "df_arr_final = df_arr_final.withColumn('fm_code', map_exp_2.getItem(col('departureAirportFsCode')))\n",
        "df_arr_final = df_arr_final.withColumn('aac_code', map_exp_3.getItem(col('actualEquipmentIataCode')))\n",
        "df_arr_final = df_arr_final.withColumn('sac_code', map_exp_3.getItem(col('scheduledEquipmentIataCode')))"
      ],
      "execution_count": 0,
      "outputs": []
    },
    {
      "cell_type": "code",
      "metadata": {
        "id": "yJ_dp1vj9h6j",
        "colab_type": "code",
        "outputId": "54a15ba6-3c78-4b89-d084-58beb6bbb30a",
        "colab": {
          "base_uri": "https://localhost:8080/",
          "height": 232
        }
      },
      "source": [
        "df_arr_final.show(5)"
      ],
      "execution_count": 34,
      "outputs": [
        {
          "output_type": "stream",
          "text": [
            "+--------------------+-------------+----------------------+---+----------+----+------+----------+---------+-----------------------+-------------------------+-------------------------+---------------------------+----------+-----------------------+--------------------------+---------+------------+-------------------+---------------------+----------------------+-----------------------+--------------+-------------+-------------------+----------+--------+--------+-----+---------------+-----------------+--------+-----------+-------+----------+-----------+--------+---------+------+-------+--------+--------+\n",
            "|arrivalAirportFsCode|carrierFsCode|departureAirportFsCode| id|      date|hour|minute|weekOfYear|dayOfWeek|arrivalGateDelayMinutes|arrivalRunwayDelayMinutes|departureGateDelayMinutes|departureRunwayDelayMinutes|totalDelay|actualEquipmentIataCode|scheduledEquipmentIataCode|eqChanged|blockMinutes|scheduledAirMinutes|scheduledBlockMinutes|scheduledTaxiInMinutes|scheduledTaxiOutMinutes|taxiOutMinutes|totalDuration|apparentTemperature|cloudCover|dewPoint|humidity|ozone|precipIntensity|precipProbability|pressure|temperature|uvIndex|visibility|windBearing|windGust|windSpeed|a_code|fm_code|aac_code|sac_code|\n",
            "+--------------------+-------------+----------------------+---+----------+----+------+----------+---------+-----------------------+-------------------------+-------------------------+---------------------------+----------+-----------------------+--------------------------+---------+------------+-------------------+---------------------+----------------------+-----------------------+--------------+-------------+-------------------+----------+--------+--------+-----+---------------+-----------------+--------+-----------+-------+----------+-----------+--------+---------+------+-------+--------+--------+\n",
            "|                 LAX|           QR|                   DOH|  0|2020-01-17|  13|    10|         3|        6|                      0|                       13|                       52|                         60|       125|                    77L|                       77L|        0|           0|               1021|                  985|                     0|                     10|            18|         2034|              51.24|      0.64|   46.86|    0.85|289.0|         7.0E-4|             0.01|  1020.6|      51.24|      0|      10.0|        323|    6.25|     4.13|   979|   1121|    2820|    2820|\n",
            "|                 LAX|           QF|                   SYD|  1|2020-01-17|  13|    15|         3|        6|                    205|                      247|                      226|                        240|       918|                    388|                       388|        0|           0|                763|                  830|                    57|                     10|            24|         1684|              51.24|      0.64|   46.86|    0.85|289.0|         7.0E-4|             0.01|  1020.6|      51.24|      0|      10.0|        323|    6.25|     4.13|   900|   1769|    2093|    2093|\n",
            "|                 LAX|           SU|                   SVO|  2|2020-01-17|  13|    50|         3|        6|                     14|                       23|                        0|                          0|        37|                    332|                       332|        0|           0|                745|                  770|                    15|                     10|            23|         1563|              51.24|      0.64|   46.86|    0.85|289.0|         7.0E-4|             0.01|  1020.6|      51.24|      0|      10.0|        323|    6.25|     4.13|   813|   1377|    2793|    2793|\n",
            "|                 LAX|           NZ|                   AKL|  3|2020-01-17|  14|     0|         3|        6|                      0|                        7|                       17|                         25|        49|                    77W|                       77W|        0|           0|                681|                  725|                    34|                     10|            18|         1468|              50.88|      0.55|    46.3|    0.84|284.7|            0.0|              0.0|  1021.3|      50.88|      0|      10.0|        338|    5.54|     5.06|    31|   1270|    2550|    2550|\n",
            "|                 LAX|           AA|                   PEK|  4|2020-01-17|  14|    40|         3|        6|                      0|                        0|                        0|                          0|         0|                    788|                       788|        0|           0|                683|                  730|                    10|                     37|            22|         1482|              50.88|      0.55|    46.3|    0.84|284.7|            0.0|              0.0|  1021.3|      50.88|      0|      10.0|        338|    5.54|     5.06|   806|   1464|    2309|    2309|\n",
            "+--------------------+-------------+----------------------+---+----------+----+------+----------+---------+-----------------------+-------------------------+-------------------------+---------------------------+----------+-----------------------+--------------------------+---------+------------+-------------------+---------------------+----------------------+-----------------------+--------------+-------------+-------------------+----------+--------+--------+-----+---------------+-----------------+--------+-----------+-------+----------+-----------+--------+---------+------+-------+--------+--------+\n",
            "only showing top 5 rows\n",
            "\n"
          ],
          "name": "stdout"
        }
      ]
    },
    {
      "cell_type": "markdown",
      "metadata": {
        "id": "E5MTapy7-Co7",
        "colab_type": "text"
      },
      "source": [
        "Once the columns containing non-numerical values are dropped, we should finally have a dataframe we can model and predict with."
      ]
    },
    {
      "cell_type": "code",
      "metadata": {
        "id": "Ka5MPELU9zMN",
        "colab_type": "code",
        "outputId": "e481df9a-d934-4e20-b7e5-7be4f2e2ade6",
        "colab": {
          "base_uri": "https://localhost:8080/",
          "height": 232
        }
      },
      "source": [
        "df_arr_num = df_arr_final.drop('arrivalAirportFsCode', 'carrierFsCode', 'departureAirportFsCode', 'date', 'id',\n",
        "                               'actualEquipmentIataCode', 'scheduledEquipmentIataCode')\n",
        "df_arr_num.show(5)"
      ],
      "execution_count": 35,
      "outputs": [
        {
          "output_type": "stream",
          "text": [
            "+----+------+----------+---------+-----------------------+-------------------------+-------------------------+---------------------------+----------+---------+------------+-------------------+---------------------+----------------------+-----------------------+--------------+-------------+-------------------+----------+--------+--------+-----+---------------+-----------------+--------+-----------+-------+----------+-----------+--------+---------+------+-------+--------+--------+\n",
            "|hour|minute|weekOfYear|dayOfWeek|arrivalGateDelayMinutes|arrivalRunwayDelayMinutes|departureGateDelayMinutes|departureRunwayDelayMinutes|totalDelay|eqChanged|blockMinutes|scheduledAirMinutes|scheduledBlockMinutes|scheduledTaxiInMinutes|scheduledTaxiOutMinutes|taxiOutMinutes|totalDuration|apparentTemperature|cloudCover|dewPoint|humidity|ozone|precipIntensity|precipProbability|pressure|temperature|uvIndex|visibility|windBearing|windGust|windSpeed|a_code|fm_code|aac_code|sac_code|\n",
            "+----+------+----------+---------+-----------------------+-------------------------+-------------------------+---------------------------+----------+---------+------------+-------------------+---------------------+----------------------+-----------------------+--------------+-------------+-------------------+----------+--------+--------+-----+---------------+-----------------+--------+-----------+-------+----------+-----------+--------+---------+------+-------+--------+--------+\n",
            "|  13|    10|         3|        6|                      0|                       13|                       52|                         60|       125|        0|           0|               1021|                  985|                     0|                     10|            18|         2034|              51.24|      0.64|   46.86|    0.85|289.0|         7.0E-4|             0.01|  1020.6|      51.24|      0|      10.0|        323|    6.25|     4.13|   979|   1121|    2820|    2820|\n",
            "|  13|    15|         3|        6|                    205|                      247|                      226|                        240|       918|        0|           0|                763|                  830|                    57|                     10|            24|         1684|              51.24|      0.64|   46.86|    0.85|289.0|         7.0E-4|             0.01|  1020.6|      51.24|      0|      10.0|        323|    6.25|     4.13|   900|   1769|    2093|    2093|\n",
            "|  13|    50|         3|        6|                     14|                       23|                        0|                          0|        37|        0|           0|                745|                  770|                    15|                     10|            23|         1563|              51.24|      0.64|   46.86|    0.85|289.0|         7.0E-4|             0.01|  1020.6|      51.24|      0|      10.0|        323|    6.25|     4.13|   813|   1377|    2793|    2793|\n",
            "|  14|     0|         3|        6|                      0|                        7|                       17|                         25|        49|        0|           0|                681|                  725|                    34|                     10|            18|         1468|              50.88|      0.55|    46.3|    0.84|284.7|            0.0|              0.0|  1021.3|      50.88|      0|      10.0|        338|    5.54|     5.06|    31|   1270|    2550|    2550|\n",
            "|  14|    40|         3|        6|                      0|                        0|                        0|                          0|         0|        0|           0|                683|                  730|                    10|                     37|            22|         1482|              50.88|      0.55|    46.3|    0.84|284.7|            0.0|              0.0|  1021.3|      50.88|      0|      10.0|        338|    5.54|     5.06|   806|   1464|    2309|    2309|\n",
            "+----+------+----------+---------+-----------------------+-------------------------+-------------------------+---------------------------+----------+---------+------------+-------------------+---------------------+----------------------+-----------------------+--------------+-------------+-------------------+----------+--------+--------+-----+---------------+-----------------+--------+-----------+-------+----------+-----------+--------+---------+------+-------+--------+--------+\n",
            "only showing top 5 rows\n",
            "\n"
          ],
          "name": "stdout"
        }
      ]
    },
    {
      "cell_type": "code",
      "metadata": {
        "id": "gBZwTBYR_Ym8",
        "colab_type": "code",
        "colab": {}
      },
      "source": [
        "df_arr_final = df_arr_final.drop('precipType', 'summary', 'id', 'date')\n",
        "df_dep_final = df_dep_final.drop('precipType', 'summary', 'id', 'date')"
      ],
      "execution_count": 0,
      "outputs": []
    },
    {
      "cell_type": "code",
      "metadata": {
        "id": "dutVLIQmCIQG",
        "colab_type": "code",
        "colab": {
          "base_uri": "https://localhost:8080/",
          "height": 232
        },
        "outputId": "e301b0ab-e121-473e-b0a2-e003e5876265"
      },
      "source": [
        "df_dep_final.show(5)"
      ],
      "execution_count": 56,
      "outputs": [
        {
          "output_type": "stream",
          "text": [
            "+--------------------+-------------+----------------------+----+------+----------+---------+-----------------------+-------------------------+-------------------------+---------------------------+----------+-----------------------+--------------------------+---------+-------------------+---------------------+----------------------+-----------------------+-------------+-------------------+----------+--------+--------+-----+---------------+-----------------+--------+-----------+-------+----------+-----------+--------+---------+\n",
            "|arrivalAirportFsCode|carrierFsCode|departureAirportFsCode|hour|minute|weekOfYear|dayOfWeek|arrivalGateDelayMinutes|arrivalRunwayDelayMinutes|departureGateDelayMinutes|departureRunwayDelayMinutes|totalDelay|actualEquipmentIataCode|scheduledEquipmentIataCode|eqChanged|scheduledAirMinutes|scheduledBlockMinutes|scheduledTaxiInMinutes|scheduledTaxiOutMinutes|totalDuration|apparentTemperature|cloudCover|dewPoint|humidity|ozone|precipIntensity|precipProbability|pressure|temperature|uvIndex|visibility|windBearing|windGust|windSpeed|\n",
            "+--------------------+-------------+----------------------+----+------+----------+---------+-----------------------+-------------------------+-------------------------+---------------------------+----------+-----------------------+--------------------------+---------+-------------------+---------------------+----------------------+-----------------------+-------------+-------------------+----------+--------+--------+-----+---------------+-----------------+--------+-----------+-------+----------+-----------+--------+---------+\n",
            "|                 DFW|           NK|                   LAX|  15|    56|         3|        6|                      0|                        0|                        0|                          0|         0|                    32S|                       32A|        1|                151|                  181|                     0|                    383|          715|              50.47|      0.56|   45.36|    0.83|281.3|         4.0E-4|             0.01|  1021.9|      50.47|      0|      10.0|        345|    4.52|      1.1|\n",
            "|                 VNY|          JTL|                   LAX|  14|    12|         3|        6|                      0|                        0|                        0|                          0|         0|                    GR2|                      null|        1|                 12|                    0|                     0|                     30|           42|              50.88|      0.55|    46.3|    0.84|284.7|            0.0|              0.0|  1021.3|      50.88|      0|      10.0|        338|    5.54|     5.06|\n",
            "|                 SMF|           WN|                   LAX|  15|     0|         3|        6|                     20|                        0|                       20|                         15|        55|                    73W|                       73W|        0|                 62|                   90|                     0|                     31|          183|              50.47|      0.56|   45.36|    0.83|281.3|         4.0E-4|             0.01|  1021.9|      50.47|      0|      10.0|        345|    4.52|      1.1|\n",
            "|                 AUS|           AA|                   LAX|  18|    29|         3|        6|                     25|                       24|                       25|                         25|        99|                    32B|                       321|        1|                152|                  174|                     6|                     16|          348|              55.01|      0.41|   46.17|    0.72|275.9|            0.0|              0.0|  1024.2|      55.01|      2|      10.0|         39|    5.51|     3.48|\n",
            "|                 SAN|           OO|                   LAX|  14|    37|         3|        6|                      0|                        0|                        0|                          0|         0|                    CR7|                       CR7|        0|                 29|                   54|                     3|                     22|          108|              50.88|      0.55|    46.3|    0.84|284.7|            0.0|              0.0|  1021.3|      50.88|      0|      10.0|        338|    5.54|     5.06|\n",
            "+--------------------+-------------+----------------------+----+------+----------+---------+-----------------------+-------------------------+-------------------------+---------------------------+----------+-----------------------+--------------------------+---------+-------------------+---------------------+----------------------+-----------------------+-------------+-------------------+----------+--------+--------+-----+---------------+-----------------+--------+-----------+-------+----------+-----------+--------+---------+\n",
            "only showing top 5 rows\n",
            "\n"
          ],
          "name": "stdout"
        }
      ]
    },
    {
      "cell_type": "markdown",
      "metadata": {
        "id": "57_DhsRKH5as",
        "colab_type": "text"
      },
      "source": [
        "Just like we have been doing so far, let's process the the departing flights dataframe in summary fashion."
      ]
    },
    {
      "cell_type": "code",
      "metadata": {
        "id": "Rmdc8Y6GINUq",
        "colab_type": "code",
        "colab": {
          "base_uri": "https://localhost:8080/",
          "height": 232
        },
        "outputId": "b70e8f48-71e3-41c9-cd84-1c59cb1f98ea"
      },
      "source": [
        "# replace all null values\n",
        "df_dep_final = df_dep_final.fillna('None')\n",
        "df_dep_final.show(5)"
      ],
      "execution_count": 66,
      "outputs": [
        {
          "output_type": "stream",
          "text": [
            "+--------------------+-------------+----------------------+----+------+----------+---------+-----------------------+-------------------------+-------------------------+---------------------------+----------+-----------------------+--------------------------+---------+-------------------+---------------------+----------------------+-----------------------+-------------+-------------------+----------+--------+--------+-----+---------------+-----------------+--------+-----------+-------+----------+-----------+--------+---------+\n",
            "|arrivalAirportFsCode|carrierFsCode|departureAirportFsCode|hour|minute|weekOfYear|dayOfWeek|arrivalGateDelayMinutes|arrivalRunwayDelayMinutes|departureGateDelayMinutes|departureRunwayDelayMinutes|totalDelay|actualEquipmentIataCode|scheduledEquipmentIataCode|eqChanged|scheduledAirMinutes|scheduledBlockMinutes|scheduledTaxiInMinutes|scheduledTaxiOutMinutes|totalDuration|apparentTemperature|cloudCover|dewPoint|humidity|ozone|precipIntensity|precipProbability|pressure|temperature|uvIndex|visibility|windBearing|windGust|windSpeed|\n",
            "+--------------------+-------------+----------------------+----+------+----------+---------+-----------------------+-------------------------+-------------------------+---------------------------+----------+-----------------------+--------------------------+---------+-------------------+---------------------+----------------------+-----------------------+-------------+-------------------+----------+--------+--------+-----+---------------+-----------------+--------+-----------+-------+----------+-----------+--------+---------+\n",
            "|                 DFW|           NK|                   LAX|  15|    56|         3|        6|                      0|                        0|                        0|                          0|         0|                    32S|                       32A|        1|                151|                  181|                     0|                    383|          715|              50.47|      0.56|   45.36|    0.83|281.3|         4.0E-4|             0.01|  1021.9|      50.47|      0|      10.0|        345|    4.52|      1.1|\n",
            "|                 VNY|          JTL|                   LAX|  14|    12|         3|        6|                      0|                        0|                        0|                          0|         0|                    GR2|                      None|        1|                 12|                    0|                     0|                     30|           42|              50.88|      0.55|    46.3|    0.84|284.7|            0.0|              0.0|  1021.3|      50.88|      0|      10.0|        338|    5.54|     5.06|\n",
            "|                 SMF|           WN|                   LAX|  15|     0|         3|        6|                     20|                        0|                       20|                         15|        55|                    73W|                       73W|        0|                 62|                   90|                     0|                     31|          183|              50.47|      0.56|   45.36|    0.83|281.3|         4.0E-4|             0.01|  1021.9|      50.47|      0|      10.0|        345|    4.52|      1.1|\n",
            "|                 AUS|           AA|                   LAX|  18|    29|         3|        6|                     25|                       24|                       25|                         25|        99|                    32B|                       321|        1|                152|                  174|                     6|                     16|          348|              55.01|      0.41|   46.17|    0.72|275.9|            0.0|              0.0|  1024.2|      55.01|      2|      10.0|         39|    5.51|     3.48|\n",
            "|                 SAN|           OO|                   LAX|  14|    37|         3|        6|                      0|                        0|                        0|                          0|         0|                    CR7|                       CR7|        0|                 29|                   54|                     3|                     22|          108|              50.88|      0.55|    46.3|    0.84|284.7|            0.0|              0.0|  1021.3|      50.88|      0|      10.0|        338|    5.54|     5.06|\n",
            "+--------------------+-------------+----------------------+----+------+----------+---------+-----------------------+-------------------------+-------------------------+---------------------------+----------+-----------------------+--------------------------+---------+-------------------+---------------------+----------------------+-----------------------+-------------+-------------------+----------+--------+--------+-----+---------------+-----------------+--------+-----------+-------+----------+-----------+--------+---------+\n",
            "only showing top 5 rows\n",
            "\n"
          ],
          "name": "stdout"
        }
      ]
    },
    {
      "cell_type": "code",
      "metadata": {
        "id": "G0JGLDInaztJ",
        "colab_type": "code",
        "colab": {}
      },
      "source": [
        "# function to encode each categorical variable\n",
        "def get_dict(filtered_df):\n",
        "\n",
        "    # complete dictionary to be returned\n",
        "    comp_dict = {}\n",
        "\n",
        "    # get categorical columns\n",
        "    cat_cols = [c for c, t in filtered_df.dtypes if t == 'string']\n",
        "    uniqs = {'airports': [], 'equipments': [], 'carriers': []}\n",
        "\n",
        "    # separate each category into its own list\n",
        "    for c in cat_cols:\n",
        "        uniq = filtered_df.select(c).distinct()\n",
        "        u_list = [row[c] for row in uniq.collect()]\n",
        "\n",
        "        if 'Airport' in c:\n",
        "            uniqs['airports'] += u_list\n",
        "        elif 'Equipment' in c:\n",
        "            uniqs['equipments'] += u_list\n",
        "        elif 'carrier' in c:\n",
        "            uniqs['carriers'] += u_list\n",
        "\n",
        "    # for each category get set of unique values and create dictionary\n",
        "    i = 0 # index to be used for random codes\n",
        "    for category in uniqs.keys():\n",
        "        u_vals = uniqs[category]\n",
        "        u_set = list(set(u_vals))\n",
        "        start, stop = i*1000, (i+1)*1000\n",
        "        i += 1\n",
        "        rnd_codes = random.sample(range(start, stop), len(u_set))\n",
        "        comp_dict.update({category: dict(zip(u_set, rnd_codes))})\n",
        "\n",
        "    print(f\"There are a total of {filtered_df.count()} flights arriving from {len(comp_dict['airports'])} cities operated by {len(comp_dict['carriers'])} airlines using {len(comp_dict['equipments'])} different types of aircraft at LAX in the past 24 hours.\")\n",
        "    \n",
        "    return comp_dict, cat_cols"
      ],
      "execution_count": 0,
      "outputs": []
    },
    {
      "cell_type": "code",
      "metadata": {
        "id": "HIpK_Zws_17A",
        "colab_type": "code",
        "colab": {
          "base_uri": "https://localhost:8080/",
          "height": 72
        },
        "outputId": "d219b4de-bd78-4c74-db75-af8cd4fc0b7a"
      },
      "source": [
        "print(get_dict(df_arr_final))"
      ],
      "execution_count": 26,
      "outputs": [
        {
          "output_type": "stream",
          "text": [
            "There are a total of 337 flights arriving from 123 cities operated by 54 airlines using 57 different types of aircraft at LAX in the past 24 hours.\n",
            "({'airports': {'PRC': 866, 'MCI': 828, 'PEK': 607, 'SEA': 494, 'CUN': 728, 'STL': 269, 'ABQ': 900, 'VNY': 351, 'HNL': 305, 'RNO': 780, 'LAX': 546, 'ORD': 796, 'SAT': 424, 'TRM': 131, 'BNA': 774, 'SYD': 547, 'MEX': 549, 'TAO': 452, 'MSY': 868, 'PAE': 996, 'HOU': 762, 'ATL': 678, 'BJX': 358, 'YVR': 110, 'BNE': 648, 'IPL': 295, 'STS': 993, 'GDL': 581, 'FAT': 112, 'QRO': 541, 'DCA': 173, 'SJD': 736, 'MRY': 160, 'TUS': 897, 'MFR': 467, 'DFW': 526, 'SUN': 586, 'MNL': 729, 'IAH': 490, 'JAC': 908, 'MUC': 670, 'PPT': 790, 'ZIH': 992, 'HKG': 911, 'PHX': 606, 'MZT': 261, 'SAN': 39, 'IAD': 845, 'PVR': 388, 'MEM': 329, 'SDF': 353, 'TPE': 402, 'SJC': 608, 'MSP': 241, 'SFO': 907, 'EUG': 668, 'OKC': 221, 'YYC': 201, 'MEL': 864, 'CAN': 161, 'PDX': 237, 'PVG': 236, 'OAK': 319, 'JFK': 153, 'ISL': 362, 'AUS': 268, 'YEG': 667, 'SAL': 347, 'SVO': 748, 'YYZ': 152, 'OGG': 497, 'PHL': 744, 'LAS': 535, 'ZRH': 800, 'BCN': 517, 'TUL': 84, 'SIN': 987, 'LHR': 431, 'BZN': 966, 'COS': 292, 'DTW': 684, 'WAW': 874, 'EGE': 56, 'DUB': 869, 'CDG': 340, 'LGW': 377, 'DGO': 770, 'MIA': 723, 'MDW': 761, 'SCK': 75, 'HND': 700, 'BOS': 710, 'SLC': 925, 'CMH': 299, 'BOI': 825, 'DAL': 472, 'AKL': 193, 'BOG': 633, 'ICN': 307, 'EWR': 575, 'SMF': 385, 'IND': 76, 'ASE': 561, 'SBA': 850, 'SWF': 962, 'BUF': 970, 'PTY': 998, 'GEG': 116, 'DEN': 86, 'CLT': 22, 'LIR': 687, 'MCO': 277, 'MMH': 99, 'HDN': 538, 'ELP': 733, 'DOH': 257, 'MSN': 821, 'LIM': 847, 'RDM': 171, 'TEB': 441, 'XNA': 163, 'MCE': 196, 'OMA': 890}, 'equipments': {'74F': 1114, '330': 1126, '320': 1845, '781': 1624, '739': 1541, '773': 1576, '74Y': 1765, '753': 1353, '388': 1731, 'CN2': 1355, '747': 1236, '788': 1362, 'CJL': 1136, '757': 1375, '7S8': 1760, '77F': 1738, 'PL2': 1922, '741': 1746, '738': 1344, 'CRJ': 1506, '73G': 1828, '73J': 1443, '76W': 1509, 'CR2': 1528, '75D': 1457, None: 1134, '321': 1154, 'CNA': 1500, '332': 1648, '346': 1481, '32A': 1565, '77W': 1374, '76V': 1455, '73H': 1610, 'E75': 1479, '772': 1211, 'CR7': 1033, '32S': 1129, '75W': 1228, '763': 1732, '789': 1640, 'CNJ': 1477, '74N': 1328, '73R': 1909, '73W': 1980, '359': 1272, '75T': 1494, '32Q': 1350, 'E7W': 1786, '32N': 1244, '31B': 1690, '752': 1706, '744': 1001, '319': 1036, '32B': 1727, '77X': 1960, '77L': 1862}, 'carriers': {'SU': 2490, 'LX': 2231, 'NK': 2493, 'K4': 2419, 'CZ': 2445, 'NH': 2045, 'WS': 2971, 'F9': 2450, 'VS': 2296, 'AC': 2951, '5X': 2030, 'BR': 2730, 'VB': 2733, 'SQ': 2120, 'NZ': 2249, 'BA': 2056, 'L1E': 2917, 'CA': 2735, 'MF': 2543, 'DL': 2541, 'AA': 2929, 'WN': 2411, 'PR': 2628, 'QF': 2244, 'OO': 2115, 'CM': 2164, 'EI': 2690, 'AS': 2066, 'LH': 2362, 'DI*': 2785, 'AV': 2017, 'CI': 2680, 'UA': 2068, 'CX': 2975, 'G4': 2910, 'OZ': 2509, 'TA': 2645, 'BAI': 2098, 'CP': 2083, 'XOJ': 2637, 'TK': 2365, 'CV': 2349, 'B6': 2565, 'KE': 2332, 'MW': 2922, 'AF': 2449, 'QX': 2589, 'MU': 2902, 'HA': 2055, 'LO': 2893, 'LP': 2121, 'QR': 2551, 'Y4': 2678, '1I': 2584}}, ['arrivalAirportFsCode', 'carrierFsCode', 'departureAirportFsCode', 'actualEquipmentIataCode', 'scheduledEquipmentIataCode', 'precipType', 'summary'])\n"
          ],
          "name": "stdout"
        }
      ]
    },
    {
      "cell_type": "code",
      "metadata": {
        "id": "WLmtpVKkA38M",
        "colab_type": "code",
        "colab": {
          "base_uri": "https://localhost:8080/",
          "height": 72
        },
        "outputId": "86273d5d-00a4-4ae0-d31e-10941d52f4e3"
      },
      "source": [
        "print(get_dict(df_dep_final))"
      ],
      "execution_count": 27,
      "outputs": [
        {
          "output_type": "stream",
          "text": [
            "There are a total of 244 flights arriving from 77 cities operated by 25 airlines using 42 different types of aircraft at LAX in the past 24 hours.\n",
            "({'airports': {'OAK': 689, 'BOI': 934, 'PSP': 574, 'IAH': 838, 'JAC': 579, 'DAL': 9, 'AUS': 867, 'FLL': 917, 'BOG': 268, 'JFK': 353, 'MCI': 954, 'EWR': 142, 'SEA': 417, 'SMF': 400, 'STL': 912, 'EZE': 374, 'ASE': 883, 'SBP': 143, 'PHX': 590, 'ABQ': 171, 'VNY': 253, 'SAN': 427, 'BWI': 435, 'HNL': 776, 'RNO': 972, 'IAD': 800, 'SCF': 719, 'LAX': 426, 'ORD': 890, 'SBA': 425, 'OGG': 573, 'SAT': 108, 'BNA': 285, 'MEM': 783, 'LAS': 60, 'PHL': 908, 'MEX': 401, 'SDF': 370, 'MSY': 522, 'BUF': 731, 'TUL': 640, 'PAE': 524, 'HOU': 553, 'SJC': 161, 'MSP': 395, 'ATL': 876, 'DEN': 19, 'CLT': 509, 'KOA': 451, 'SFO': 857, 'OMA': 882, 'SGU': 203, 'YVR': 81, 'OKC': 241, 'YYC': 80, 'COS': 124, 'IPL': 437, 'MDW': 599, 'PDX': 618, 'MCE': 485, 'MCO': 687, 'STS': 551, 'GDL': 407, 'FAT': 16, 'MMH': 324, 'SJD': 887, 'SLC': 803, 'MRY': 951, 'ELP': 67, 'LGB': 447, 'TUS': 770, 'MFR': 843, 'RDM': 238, 'DFW': 354, 'SCK': 749, 'BOS': 330, 'LIH': 192}, 'equipments': {'74F': 1041, '330': 1905, '320': 1991, '739': 1994, 'ABM': 1490, '753': 1743, 'CN2': 1054, '788': 1217, '757': 1766, '7S8': 1841, 'PL2': 1047, '738': 1423, 'CRJ': 1189, '73G': 1427, '73J': 1519, '76W': 1516, 'CR2': 1772, '75D': 1308, None: 1463, '321': 1851, 'CNA': 1783, '332': 1231, 'D10': 1955, '32A': 1938, '73H': 1685, 'E75': 1615, '32S': 1737, 'CR7': 1896, '75W': 1410, '763': 1167, 'GR2': 1988, '789': 1910, 'EP3': 1800, '73R': 1917, '73W': 1372, '75T': 1726, '32Q': 1686, 'E7W': 1740, '32N': 1491, '752': 1160, '319': 1081, '32B': 1830}, 'carriers': {'NK': 2570, 'WS': 2083, 'AC': 2999, 'F9': 2737, 'JTL': 2189, 'FX': 2860, '5X': 2806, 'VB': 2522, 'RSP': 2030, 'DL': 2267, 'AA': 2681, 'WN': 2245, 'OO': 2154, 'AS': 2032, 'AV': 2038, 'UA': 2065, 'G4': 2355, 'BAI': 2575, 'CP': 2770, 'CV': 2517, 'B6': 2848, 'MW': 2510, 'QX': 2156, 'HA': 2061, 'Y4': 2111}}, ['arrivalAirportFsCode', 'carrierFsCode', 'departureAirportFsCode', 'actualEquipmentIataCode', 'scheduledEquipmentIataCode', 'precipType', 'summary'])\n"
          ],
          "name": "stdout"
        }
      ]
    },
    {
      "cell_type": "markdown",
      "metadata": {
        "id": "Vs0xNx9Ehzl1",
        "colab_type": "text"
      },
      "source": [
        "Now that we have the dictionary, we just need to apply it to the dataframe to encode all of the categorical variables."
      ]
    },
    {
      "cell_type": "code",
      "metadata": {
        "id": "pgGoXIyPBM0_",
        "colab_type": "code",
        "colab": {}
      },
      "source": [
        "# function to purify joined data\n",
        "def clean_joined(joined_df):\n",
        "    # first replace all null values\n",
        "    joined_df = joined_df.fillna('None').drop('precipType', 'summary')\n",
        "\n",
        "    # get categorical columns and encoding dictionary\n",
        "    res_tuple = get_dict(joined_df)\n",
        "    cat_cols = res_tuple[1]\n",
        "    comp_dict = res_tuple[0]\n",
        "    print(comp_dict)\n",
        "\n",
        "    # iterate and replace\n",
        "    for c in cat_cols:\n",
        "        if 'Airport' in c:\n",
        "            map_exp = create_map([lit(x) for x in chain(*comp_dict['airports'].items())])\n",
        "            joined_df = joined_df.withColumn(f'{c[:5]}_code', map_exp.getItem(col(c))).drop(c)\n",
        "        elif 'carrier' in c:\n",
        "            map_exp = create_map([lit(x) for x in chain(*comp_dict['carriers'].items())])\n",
        "            joined_df = joined_df.withColumn(f'{c[:5]}_code', map_exp.getItem(col(c))).drop(c)\n",
        "        elif 'Equipment' in c:\n",
        "            map_exp = create_map([lit(x) for x in chain(*comp_dict['equipments'].items())])\n",
        "            joined_df = joined_df.withColumn(f'{c[:5]}_code', map_exp.getItem(col(c))).drop(c)\n",
        "\n",
        "    return joined_df\n"
      ],
      "execution_count": 0,
      "outputs": []
    },
    {
      "cell_type": "code",
      "metadata": {
        "id": "MaySqUOv7acu",
        "colab_type": "code",
        "colab": {
          "base_uri": "https://localhost:8080/",
          "height": 267
        },
        "outputId": "238600b9-69a1-4633-c9ff-c0eaaa9766b4"
      },
      "source": [
        "df_arr_num = clean_joined(df_arr_final)\n",
        "df_arr_num.show(5)"
      ],
      "execution_count": 29,
      "outputs": [
        {
          "output_type": "stream",
          "text": [
            "There are a total of 337 flights arriving from 123 cities operated by 54 airlines using 57 different types of aircraft at LAX in the past 24 hours.\n",
            "{'airports': {'PRC': 459, 'MCI': 211, 'PEK': 592, 'SEA': 457, 'CUN': 974, 'STL': 16, 'ABQ': 664, 'VNY': 660, 'HNL': 345, 'RNO': 174, 'LAX': 180, 'ORD': 145, 'SAT': 912, 'TRM': 155, 'BNA': 625, 'SYD': 842, 'MEX': 969, 'TAO': 693, 'MSY': 46, 'PAE': 135, 'HOU': 694, 'ATL': 989, 'BJX': 367, 'YVR': 263, 'BNE': 658, 'IPL': 496, 'STS': 415, 'GDL': 327, 'FAT': 918, 'QRO': 85, 'DCA': 307, 'SJD': 63, 'MRY': 136, 'TUS': 887, 'MFR': 282, 'DFW': 49, 'SUN': 696, 'MNL': 651, 'IAH': 187, 'JAC': 383, 'MUC': 947, 'PPT': 80, 'ZIH': 427, 'HKG': 560, 'PHX': 38, 'MZT': 783, 'SAN': 624, 'IAD': 489, 'PVR': 309, 'MEM': 436, 'SDF': 348, 'TPE': 526, 'SJC': 410, 'MSP': 987, 'SFO': 934, 'EUG': 619, 'OKC': 219, 'YYC': 640, 'MEL': 884, 'CAN': 488, 'PDX': 288, 'PVG': 704, 'OAK': 548, 'JFK': 542, 'ISL': 751, 'AUS': 57, 'YEG': 203, 'SAL': 194, 'SVO': 735, 'YYZ': 525, 'OGG': 587, 'PHL': 607, 'LAS': 692, 'ZRH': 116, 'BCN': 212, 'TUL': 836, 'SIN': 614, 'LHR': 922, 'BZN': 460, 'COS': 673, 'DTW': 315, 'WAW': 17, 'EGE': 15, 'DUB': 35, 'CDG': 930, 'LGW': 284, 'DGO': 793, 'MIA': 273, 'MDW': 391, 'SCK': 803, 'HND': 59, 'BOS': 776, 'SLC': 971, 'CMH': 760, 'BOI': 786, 'DAL': 682, 'AKL': 598, 'BOG': 425, 'ICN': 883, 'EWR': 299, 'SMF': 421, 'IND': 650, 'ASE': 847, 'SBA': 801, 'SWF': 171, 'BUF': 370, 'PTY': 485, 'GEG': 64, 'DEN': 220, 'CLT': 286, 'LIR': 813, 'MCO': 480, 'MMH': 443, 'HDN': 799, 'ELP': 871, 'DOH': 509, 'MSN': 349, 'LIM': 333, 'RDM': 364, 'TEB': 7, 'XNA': 637, 'MCE': 160, 'OMA': 795}, 'equipments': {'74F': 1310, '330': 1258, '320': 1254, '781': 1517, '739': 1388, '773': 1937, '74Y': 1990, '753': 1089, '388': 1565, 'None': 1049, 'CN2': 1467, '747': 1305, '788': 1981, 'CJL': 1539, '757': 1153, '7S8': 1963, '77F': 1341, 'PL2': 1887, '741': 1711, '738': 1698, 'CRJ': 1032, '73G': 1267, '73J': 1407, '76W': 1529, 'CR2': 1257, '75D': 1836, '321': 1858, 'CNA': 1693, '332': 1958, '346': 1062, '32A': 1573, '77W': 1730, '76V': 1788, '73H': 1023, 'E75': 1082, '772': 1332, 'CR7': 1414, '32S': 1526, '75W': 1768, '763': 1297, '789': 1311, 'CNJ': 1453, '74N': 1784, '73R': 1919, '73W': 1822, '359': 1185, '75T': 1096, '32Q': 1286, 'E7W': 1777, '32N': 1612, '31B': 1631, '752': 1092, '744': 1982, '319': 1548, '32B': 1015, '77X': 1167, '77L': 1320}, 'carriers': {'SU': 2787, 'LX': 2215, 'NK': 2117, 'K4': 2121, 'CZ': 2909, 'NH': 2674, 'WS': 2168, 'F9': 2599, 'VS': 2750, 'AC': 2729, '5X': 2163, 'BR': 2832, 'VB': 2426, 'SQ': 2256, 'NZ': 2224, 'BA': 2017, 'L1E': 2439, 'CA': 2052, 'MF': 2518, 'DL': 2047, 'AA': 2084, 'WN': 2083, 'PR': 2051, 'QF': 2895, 'OO': 2522, 'CM': 2365, 'EI': 2700, 'AS': 2232, 'LH': 2388, 'DI*': 2975, 'AV': 2034, 'CI': 2427, 'UA': 2425, 'CX': 2836, 'G4': 2429, 'OZ': 2067, 'TA': 2086, 'BAI': 2763, 'CP': 2494, 'XOJ': 2493, 'TK': 2334, 'CV': 2921, 'B6': 2261, 'KE': 2106, 'MW': 2247, 'AF': 2650, 'QX': 2743, 'MU': 2597, 'HA': 2486, 'LO': 2160, 'LP': 2252, 'QR': 2448, 'Y4': 2265, '1I': 2063}}\n",
            "+---+----------+----+------+----------+---------+-----------------------+-------------------------+-------------------------+---------------------------+----------+---------+------------+-------------------+---------------------+----------------------+-----------------------+--------------+-------------+-------------------+----------+--------+--------+-----+---------------+-----------------+--------+-----------+-------+----------+-----------+--------+---------+----------+----------+----------+----------+----------+\n",
            "| id|      date|hour|minute|weekOfYear|dayOfWeek|arrivalGateDelayMinutes|arrivalRunwayDelayMinutes|departureGateDelayMinutes|departureRunwayDelayMinutes|totalDelay|eqChanged|blockMinutes|scheduledAirMinutes|scheduledBlockMinutes|scheduledTaxiInMinutes|scheduledTaxiOutMinutes|taxiOutMinutes|totalDuration|apparentTemperature|cloudCover|dewPoint|humidity|ozone|precipIntensity|precipProbability|pressure|temperature|uvIndex|visibility|windBearing|windGust|windSpeed|arriv_code|carri_code|depar_code|actua_code|sched_code|\n",
            "+---+----------+----+------+----------+---------+-----------------------+-------------------------+-------------------------+---------------------------+----------+---------+------------+-------------------+---------------------+----------------------+-----------------------+--------------+-------------+-------------------+----------+--------+--------+-----+---------------+-----------------+--------+-----------+-------+----------+-----------+--------+---------+----------+----------+----------+----------+----------+\n",
            "|  0|2020-01-17|  13|    10|         3|        6|                      0|                       13|                       52|                         60|       125|        0|           0|               1021|                  985|                     0|                     10|            18|         2034|              51.24|      0.64|   46.86|    0.85|289.0|         7.0E-4|             0.01|  1020.6|      51.24|      0|      10.0|        323|    6.25|     4.13|       180|      2448|       509|      1320|      1320|\n",
            "|  1|2020-01-17|  13|    15|         3|        6|                    205|                      247|                      226|                        240|       918|        0|           0|                763|                  830|                    57|                     10|            24|         1684|              51.24|      0.64|   46.86|    0.85|289.0|         7.0E-4|             0.01|  1020.6|      51.24|      0|      10.0|        323|    6.25|     4.13|       180|      2895|       842|      1565|      1565|\n",
            "|  2|2020-01-17|  13|    50|         3|        6|                     14|                       23|                        0|                          0|        37|        0|           0|                745|                  770|                    15|                     10|            23|         1563|              51.24|      0.64|   46.86|    0.85|289.0|         7.0E-4|             0.01|  1020.6|      51.24|      0|      10.0|        323|    6.25|     4.13|       180|      2787|       735|      1958|      1958|\n",
            "|  3|2020-01-17|  14|     0|         3|        6|                      0|                        7|                       17|                         25|        49|        0|           0|                681|                  725|                    34|                     10|            18|         1468|              50.88|      0.55|    46.3|    0.84|284.7|            0.0|              0.0|  1021.3|      50.88|      0|      10.0|        338|    5.54|     5.06|       180|      2224|       598|      1730|      1730|\n",
            "|  4|2020-01-17|  14|    40|         3|        6|                      0|                        0|                        0|                          0|         0|        0|           0|                683|                  730|                    10|                     37|            22|         1482|              50.88|      0.55|    46.3|    0.84|284.7|            0.0|              0.0|  1021.3|      50.88|      0|      10.0|        338|    5.54|     5.06|       180|      2084|       592|      1981|      1981|\n",
            "+---+----------+----+------+----------+---------+-----------------------+-------------------------+-------------------------+---------------------------+----------+---------+------------+-------------------+---------------------+----------------------+-----------------------+--------------+-------------+-------------------+----------+--------+--------+-----+---------------+-----------------+--------+-----------+-------+----------+-----------+--------+---------+----------+----------+----------+----------+----------+\n",
            "only showing top 5 rows\n",
            "\n"
          ],
          "name": "stdout"
        }
      ]
    },
    {
      "cell_type": "code",
      "metadata": {
        "id": "wxMM6vuQoSoG",
        "colab_type": "code",
        "colab": {
          "base_uri": "https://localhost:8080/",
          "height": 267
        },
        "outputId": "09660462-5175-4267-e861-8de0e8b43d1c"
      },
      "source": [
        "df_dep_num = clean_joined(df_dep_final)\n",
        "df_dep_num.show(5)"
      ],
      "execution_count": 31,
      "outputs": [
        {
          "output_type": "stream",
          "text": [
            "There are a total of 244 flights arriving from 77 cities operated by 25 airlines using 42 different types of aircraft at LAX in the past 24 hours.\n",
            "{'airports': {'OAK': 185, 'BOI': 419, 'PSP': 631, 'IAH': 950, 'JAC': 941, 'DAL': 836, 'AUS': 79, 'FLL': 231, 'BOG': 844, 'JFK': 751, 'MCI': 604, 'EWR': 938, 'SEA': 485, 'SMF': 562, 'STL': 514, 'EZE': 363, 'ASE': 612, 'SBP': 333, 'PHX': 137, 'ABQ': 598, 'VNY': 457, 'SAN': 411, 'BWI': 563, 'HNL': 946, 'RNO': 817, 'IAD': 70, 'SCF': 615, 'LAX': 706, 'ORD': 317, 'SBA': 609, 'OGG': 466, 'SAT': 574, 'BNA': 131, 'MEM': 943, 'LAS': 790, 'PHL': 329, 'MEX': 987, 'SDF': 31, 'MSY': 649, 'BUF': 257, 'TUL': 907, 'PAE': 469, 'HOU': 921, 'SJC': 371, 'MSP': 203, 'ATL': 667, 'DEN': 392, 'CLT': 60, 'KOA': 774, 'SFO': 402, 'OMA': 726, 'SGU': 722, 'YVR': 723, 'OKC': 394, 'YYC': 810, 'COS': 490, 'IPL': 806, 'MDW': 95, 'PDX': 975, 'MCE': 568, 'MCO': 524, 'STS': 393, 'GDL': 593, 'FAT': 312, 'MMH': 599, 'SJD': 388, 'SLC': 669, 'MRY': 644, 'ELP': 476, 'LGB': 24, 'TUS': 159, 'MFR': 841, 'RDM': 617, 'DFW': 889, 'SCK': 35, 'BOS': 18, 'LIH': 944}, 'equipments': {'74F': 1542, '330': 1003, '320': 1064, '739': 1639, 'ABM': 1364, '753': 1684, 'None': 1973, 'CN2': 1330, '788': 1161, '757': 1518, '7S8': 1455, 'PL2': 1449, '738': 1567, 'CRJ': 1086, '73G': 1247, '73J': 1992, '76W': 1841, 'CR2': 1048, '75D': 1701, '321': 1650, 'CNA': 1626, '332': 1091, 'D10': 1690, '32A': 1746, '73H': 1201, 'E75': 1601, '32S': 1656, 'CR7': 1071, '75W': 1298, '763': 1521, 'GR2': 1475, '789': 1025, 'EP3': 1187, '73R': 1344, '73W': 1305, '75T': 1045, '32Q': 1148, 'E7W': 1712, '32N': 1317, '752': 1464, '319': 1744, '32B': 1258}, 'carriers': {'NK': 2182, 'WS': 2448, 'AC': 2379, 'F9': 2640, 'JTL': 2521, 'FX': 2543, '5X': 2685, 'VB': 2063, 'RSP': 2533, 'DL': 2233, 'AA': 2771, 'WN': 2347, 'OO': 2699, 'AS': 2313, 'AV': 2127, 'UA': 2449, 'G4': 2991, 'BAI': 2596, 'CP': 2530, 'CV': 2813, 'B6': 2238, 'MW': 2618, 'QX': 2220, 'HA': 2203, 'Y4': 2106}}\n",
            "+---+----------+----+------+----------+---------+-----------------------+-------------------------+-------------------------+---------------------------+----------+---------+-------------------+---------------------+----------------------+-----------------------+-------------+-------------------+----------+--------+--------+-----+---------------+-----------------+--------+-----------+-------+----------+-----------+--------+---------+----------+----------+----------+----------+----------+\n",
            "| id|      date|hour|minute|weekOfYear|dayOfWeek|arrivalGateDelayMinutes|arrivalRunwayDelayMinutes|departureGateDelayMinutes|departureRunwayDelayMinutes|totalDelay|eqChanged|scheduledAirMinutes|scheduledBlockMinutes|scheduledTaxiInMinutes|scheduledTaxiOutMinutes|totalDuration|apparentTemperature|cloudCover|dewPoint|humidity|ozone|precipIntensity|precipProbability|pressure|temperature|uvIndex|visibility|windBearing|windGust|windSpeed|arriv_code|carri_code|depar_code|actua_code|sched_code|\n",
            "+---+----------+----+------+----------+---------+-----------------------+-------------------------+-------------------------+---------------------------+----------+---------+-------------------+---------------------+----------------------+-----------------------+-------------+-------------------+----------+--------+--------+-----+---------------+-----------------+--------+-----------+-------+----------+-----------+--------+---------+----------+----------+----------+----------+----------+\n",
            "|  0|2020-01-17|  15|    56|         3|        6|                      0|                        0|                        0|                          0|         0|        1|                151|                  181|                     0|                    383|          715|              50.47|      0.56|   45.36|    0.83|281.3|         4.0E-4|             0.01|  1021.9|      50.47|      0|      10.0|        345|    4.52|      1.1|       889|      2182|       706|      1656|      1746|\n",
            "|  1|2020-01-17|  14|    12|         3|        6|                      0|                        0|                        0|                          0|         0|        1|                 12|                    0|                     0|                     30|           42|              50.88|      0.55|    46.3|    0.84|284.7|            0.0|              0.0|  1021.3|      50.88|      0|      10.0|        338|    5.54|     5.06|       457|      2521|       706|      1475|      1973|\n",
            "|  2|2020-01-17|  15|     0|         3|        6|                     20|                        0|                       20|                         15|        55|        0|                 62|                   90|                     0|                     31|          183|              50.47|      0.56|   45.36|    0.83|281.3|         4.0E-4|             0.01|  1021.9|      50.47|      0|      10.0|        345|    4.52|      1.1|       562|      2347|       706|      1305|      1305|\n",
            "|  3|2020-01-17|  18|    29|         3|        6|                     25|                       24|                       25|                         25|        99|        1|                152|                  174|                     6|                     16|          348|              55.01|      0.41|   46.17|    0.72|275.9|            0.0|              0.0|  1024.2|      55.01|      2|      10.0|         39|    5.51|     3.48|        79|      2771|       706|      1258|      1650|\n",
            "|  4|2020-01-17|  14|    37|         3|        6|                      0|                        0|                        0|                          0|         0|        0|                 29|                   54|                     3|                     22|          108|              50.88|      0.55|    46.3|    0.84|284.7|            0.0|              0.0|  1021.3|      50.88|      0|      10.0|        338|    5.54|     5.06|       411|      2699|       706|      1071|      1071|\n",
            "+---+----------+----+------+----------+---------+-----------------------+-------------------------+-------------------------+---------------------------+----------+---------+-------------------+---------------------+----------------------+-----------------------+-------------+-------------------+----------+--------+--------+-----+---------------+-----------------+--------+-----------+-------+----------+-----------+--------+---------+----------+----------+----------+----------+----------+\n",
            "only showing top 5 rows\n",
            "\n"
          ],
          "name": "stdout"
        }
      ]
    },
    {
      "cell_type": "markdown",
      "metadata": {
        "id": "88iVMPwL3mJG",
        "colab_type": "text"
      },
      "source": [
        "All that's left to do is to separate the features from the label. Looking through the dataframe, there are more columns than necessary for our target variable, namely, the number of delayed minutes. Since we already have the total figure, we will just use that as our target variable and drop more deeply categorized delay minutes."
      ]
    },
    {
      "cell_type": "code",
      "metadata": {
        "id": "J7XC-Sjxbf1r",
        "colab_type": "code",
        "colab": {
          "base_uri": "https://localhost:8080/",
          "height": 232
        },
        "outputId": "2d9f344b-b719-4177-e22a-e74048b099f2"
      },
      "source": [
        "# features df\n",
        "arr_features = df_arr_num.drop('id', 'date', 'arrivalGateDelayMinutes', 'arrivalRunwayDelayMinutes', 'departureGateDelayMinutes', 'departureRunwayDelayMinutes', 'totalDelay')\n",
        "dep_features = df_dep_num.drop('id', 'date', 'arrivalGateDelayMinutes', 'arrivalRunwayDelayMinutes', 'departureGateDelayMinutes', 'departureRunwayDelayMinutes', 'totalDelay')\n",
        "\n",
        "assembler = VectorAssembler(inputCols=arr_features.columns, outputCol='ftr_vector')\n",
        "assembler.transform(df_arr_num).show(5)"
      ],
      "execution_count": 32,
      "outputs": [
        {
          "output_type": "stream",
          "text": [
            "+---+----------+----+------+----------+---------+-----------------------+-------------------------+-------------------------+---------------------------+----------+---------+------------+-------------------+---------------------+----------------------+-----------------------+--------------+-------------+-------------------+----------+--------+--------+-----+---------------+-----------------+--------+-----------+-------+----------+-----------+--------+---------+----------+----------+----------+----------+----------+--------------------+\n",
            "| id|      date|hour|minute|weekOfYear|dayOfWeek|arrivalGateDelayMinutes|arrivalRunwayDelayMinutes|departureGateDelayMinutes|departureRunwayDelayMinutes|totalDelay|eqChanged|blockMinutes|scheduledAirMinutes|scheduledBlockMinutes|scheduledTaxiInMinutes|scheduledTaxiOutMinutes|taxiOutMinutes|totalDuration|apparentTemperature|cloudCover|dewPoint|humidity|ozone|precipIntensity|precipProbability|pressure|temperature|uvIndex|visibility|windBearing|windGust|windSpeed|arriv_code|carri_code|depar_code|actua_code|sched_code|          ftr_vector|\n",
            "+---+----------+----+------+----------+---------+-----------------------+-------------------------+-------------------------+---------------------------+----------+---------+------------+-------------------+---------------------+----------------------+-----------------------+--------------+-------------+-------------------+----------+--------+--------+-----+---------------+-----------------+--------+-----------+-------+----------+-----------+--------+---------+----------+----------+----------+----------+----------+--------------------+\n",
            "|  0|2020-01-17|  13|    10|         3|        6|                      0|                       13|                       52|                         60|       125|        0|           0|               1021|                  985|                     0|                     10|            18|         2034|              51.24|      0.64|   46.86|    0.85|289.0|         7.0E-4|             0.01|  1020.6|      51.24|      0|      10.0|        323|    6.25|     4.13|       180|      2448|       509|      1320|      1320|[13.0,10.0,3.0,6....|\n",
            "|  1|2020-01-17|  13|    15|         3|        6|                    205|                      247|                      226|                        240|       918|        0|           0|                763|                  830|                    57|                     10|            24|         1684|              51.24|      0.64|   46.86|    0.85|289.0|         7.0E-4|             0.01|  1020.6|      51.24|      0|      10.0|        323|    6.25|     4.13|       180|      2895|       842|      1565|      1565|[13.0,15.0,3.0,6....|\n",
            "|  2|2020-01-17|  13|    50|         3|        6|                     14|                       23|                        0|                          0|        37|        0|           0|                745|                  770|                    15|                     10|            23|         1563|              51.24|      0.64|   46.86|    0.85|289.0|         7.0E-4|             0.01|  1020.6|      51.24|      0|      10.0|        323|    6.25|     4.13|       180|      2787|       735|      1958|      1958|[13.0,50.0,3.0,6....|\n",
            "|  3|2020-01-17|  14|     0|         3|        6|                      0|                        7|                       17|                         25|        49|        0|           0|                681|                  725|                    34|                     10|            18|         1468|              50.88|      0.55|    46.3|    0.84|284.7|            0.0|              0.0|  1021.3|      50.88|      0|      10.0|        338|    5.54|     5.06|       180|      2224|       598|      1730|      1730|[14.0,0.0,3.0,6.0...|\n",
            "|  4|2020-01-17|  14|    40|         3|        6|                      0|                        0|                        0|                          0|         0|        0|           0|                683|                  730|                    10|                     37|            22|         1482|              50.88|      0.55|    46.3|    0.84|284.7|            0.0|              0.0|  1021.3|      50.88|      0|      10.0|        338|    5.54|     5.06|       180|      2084|       592|      1981|      1981|[14.0,40.0,3.0,6....|\n",
            "+---+----------+----+------+----------+---------+-----------------------+-------------------------+-------------------------+---------------------------+----------+---------+------------+-------------------+---------------------+----------------------+-----------------------+--------------+-------------+-------------------+----------+--------+--------+-----+---------------+-----------------+--------+-----------+-------+----------+-----------+--------+---------+----------+----------+----------+----------+----------+--------------------+\n",
            "only showing top 5 rows\n",
            "\n"
          ],
          "name": "stdout"
        }
      ]
    },
    {
      "cell_type": "code",
      "metadata": {
        "id": "0MrKyzoWJ-nu",
        "colab_type": "code",
        "colab": {}
      },
      "source": [
        "lr_arr = LinearRegression(featuresCol='ftr_vector', labelCol='totalDelay')"
      ],
      "execution_count": 0,
      "outputs": []
    },
    {
      "cell_type": "code",
      "metadata": {
        "id": "s4gbPS1v_lKf",
        "colab_type": "code",
        "colab": {
          "base_uri": "https://localhost:8080/",
          "height": 232
        },
        "outputId": "4553feba-646d-4916-9a45-f7ad7927eef8"
      },
      "source": [
        "(trainingData, testData) = df_arr_num.randomSplit([TRAINING_DATA_RATIO, 1-TRAINING_DATA_RATIO])\n",
        "arr_pipeline = Pipeline(stages=[assembler, lr_arr])\n",
        "arr_model = arr_pipeline.fit(trainingData)\n",
        "arr_pred = arr_model.transform(testData)\n",
        "arr_pred.show(5)"
      ],
      "execution_count": 45,
      "outputs": [
        {
          "output_type": "stream",
          "text": [
            "+---+----------+----+------+----------+---------+-----------------------+-------------------------+-------------------------+---------------------------+----------+---------+------------+-------------------+---------------------+----------------------+-----------------------+--------------+-------------+-------------------+----------+--------+--------+-----+---------------+-----------------+--------+-----------+-------+----------+-----------+--------+---------+----------+----------+----------+----------+----------+--------------------+------------------+\n",
            "| id|      date|hour|minute|weekOfYear|dayOfWeek|arrivalGateDelayMinutes|arrivalRunwayDelayMinutes|departureGateDelayMinutes|departureRunwayDelayMinutes|totalDelay|eqChanged|blockMinutes|scheduledAirMinutes|scheduledBlockMinutes|scheduledTaxiInMinutes|scheduledTaxiOutMinutes|taxiOutMinutes|totalDuration|apparentTemperature|cloudCover|dewPoint|humidity|ozone|precipIntensity|precipProbability|pressure|temperature|uvIndex|visibility|windBearing|windGust|windSpeed|arriv_code|carri_code|depar_code|actua_code|sched_code|          ftr_vector|        prediction|\n",
            "+---+----------+----+------+----------+---------+-----------------------+-------------------------+-------------------------+---------------------------+----------+---------+------------+-------------------+---------------------+----------------------+-----------------------+--------------+-------------+-------------------+----------+--------+--------+-----+---------------+-----------------+--------+-----------+-------+----------+-----------+--------+---------+----------+----------+----------+----------+----------+--------------------+------------------+\n",
            "|  0|2020-01-17|  13|    10|         3|        6|                      0|                       13|                       52|                         60|       125|        0|           0|               1021|                  985|                     0|                     10|            18|         2034|              51.24|      0.64|   46.86|    0.85|289.0|         7.0E-4|             0.01|  1020.6|      51.24|      0|      10.0|        323|    6.25|     4.13|       180|      2448|       509|      1320|      1320|[13.0,10.0,3.0,6....|  73.3393949593883|\n",
            "| 10|2020-01-17|  14|    50|         3|        6|                     21|                       39|                        0|                         42|       102|        0|           0|                643|                  690|                    37|                     10|             0|         1380|              50.88|      0.55|    46.3|    0.84|284.7|            0.0|              0.0|  1021.3|      50.88|      0|      10.0|        338|    5.54|     5.06|       180|      2832|       526|      1730|      1730|[14.0,50.0,3.0,6....|50.357485344982706|\n",
            "| 13|2020-01-17|  16|    45|         3|        6|                      0|                        0|                        0|                          0|         0|        0|           0|                728|                  770|                    10|                     32|            19|         1559|              50.67|       0.6|   44.34|    0.79|278.9|            0.0|              0.0|  1022.9|      50.67|      0|      10.0|        345|    1.92|     1.28|       180|      2084|       560|      1730|      1730|[16.0,45.0,3.0,6....|126.96699349512346|\n",
            "| 17|2020-01-17|  19|    55|         3|        6|                      0|                        0|                        6|                         18|        24|        0|           0|                866|                  910|                    34|                     10|            22|         1842|              57.02|      0.33|   46.46|    0.68|274.8|            0.0|              0.0|  1024.0|      57.02|      3|      10.0|         89|    5.12|     3.01|       180|      2256|       614|      1185|      1185|[19.0,55.0,3.0,6....| 44.42998725536745|\n",
            "| 20|2020-01-17|  17|     0|         3|        6|                      0|                        0|                        0|                         12|        12|        1|           0|                647|                  720|                    63|                     10|            30|         1470|              53.77|      0.57|   46.42|    0.76|277.2|            0.0|              0.0|  1023.6|      53.77|      1|      10.0|          6|    1.43|     0.67|       180|      2597|       704|      1730|      1937|[17.0,0.0,3.0,6.0...|150.73455328983255|\n",
            "+---+----------+----+------+----------+---------+-----------------------+-------------------------+-------------------------+---------------------------+----------+---------+------------+-------------------+---------------------+----------------------+-----------------------+--------------+-------------+-------------------+----------+--------+--------+-----+---------------+-----------------+--------+-----------+-------+----------+-----------+--------+---------+----------+----------+----------+----------+----------+--------------------+------------------+\n",
            "only showing top 5 rows\n",
            "\n"
          ],
          "name": "stdout"
        }
      ]
    },
    {
      "cell_type": "code",
      "metadata": {
        "id": "0W2u5agrt1fI",
        "colab_type": "code",
        "colab": {
          "base_uri": "https://localhost:8080/",
          "height": 34
        },
        "outputId": "faab8982-4bb9-466f-e471-2a090610d295"
      },
      "source": [
        "arr_evaluator = RegressionEvaluator(labelCol='totalDelay', predictionCol='prediction', metricName='r2')\n",
        "rmse = arr_evaluator.evaluate(arr_pred)\n",
        "print(f'RMSE score: {rmse}')"
      ],
      "execution_count": 46,
      "outputs": [
        {
          "output_type": "stream",
          "text": [
            "RMSE score: -2.5709332267127127\n"
          ],
          "name": "stdout"
        }
      ]
    },
    {
      "cell_type": "code",
      "metadata": {
        "id": "sL676OucvDN1",
        "colab_type": "code",
        "colab": {}
      },
      "source": [
        ""
      ],
      "execution_count": 0,
      "outputs": []
    }
  ]
}