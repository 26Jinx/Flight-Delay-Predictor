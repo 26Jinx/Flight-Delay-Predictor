{
  "nbformat": 4,
  "nbformat_minor": 0,
  "metadata": {
    "colab": {
      "name": "flightstats_client.ipynb",
      "provenance": [],
      "include_colab_link": true
    },
    "kernelspec": {
      "name": "python3",
      "display_name": "Python 3"
    }
  },
  "cells": [
    {
      "cell_type": "markdown",
      "metadata": {
        "id": "view-in-github",
        "colab_type": "text"
      },
      "source": [
        "<a href=\"https://colab.research.google.com/github/PharahMain/Flight-Delay-Predictor/blob/master/flightstats_client.ipynb\" target=\"_parent\"><img src=\"https://colab.research.google.com/assets/colab-badge.svg\" alt=\"Open In Colab\"/></a>"
      ]
    },
    {
      "cell_type": "code",
      "metadata": {
        "id": "1t9wd42bcPva",
        "colab_type": "code",
        "colab": {}
      },
      "source": [
        "!apt-get install openjdk-8-jdk-headless -qq > /dev/null\n",
        "!wget -q http://apache.osuosl.org/spark/spark-2.4.4/spark-2.4.4-bin-hadoop2.7.tgz\n",
        "!tar xf spark-2.4.4-bin-hadoop2.7.tgz"
      ],
      "execution_count": 0,
      "outputs": []
    },
    {
      "cell_type": "code",
      "metadata": {
        "id": "TmbbxreyIa-i",
        "colab_type": "code",
        "colab": {
          "base_uri": "https://localhost:8080/",
          "height": 267
        },
        "outputId": "011597bf-0b92-4d9b-eded-97a1f53f9c7a"
      },
      "source": [
        "# Install spark-related depdencies for Python\n",
        "!pip install -q findspark\n",
        "!pip install pyspark"
      ],
      "execution_count": 3,
      "outputs": [
        {
          "output_type": "stream",
          "text": [
            "Collecting pyspark\n",
            "\u001b[?25l  Downloading https://files.pythonhosted.org/packages/87/21/f05c186f4ddb01d15d0ddc36ef4b7e3cedbeb6412274a41f26b55a650ee5/pyspark-2.4.4.tar.gz (215.7MB)\n",
            "\u001b[K     |████████████████████████████████| 215.7MB 64kB/s \n",
            "\u001b[?25hCollecting py4j==0.10.7\n",
            "\u001b[?25l  Downloading https://files.pythonhosted.org/packages/e3/53/c737818eb9a7dc32a7cd4f1396e787bd94200c3997c72c1dbe028587bd76/py4j-0.10.7-py2.py3-none-any.whl (197kB)\n",
            "\u001b[K     |████████████████████████████████| 204kB 48.2MB/s \n",
            "\u001b[?25hBuilding wheels for collected packages: pyspark\n",
            "  Building wheel for pyspark (setup.py) ... \u001b[?25l\u001b[?25hdone\n",
            "  Created wheel for pyspark: filename=pyspark-2.4.4-py2.py3-none-any.whl size=216130387 sha256=860a36d1a1aecca726628bd879ebfb3ec1f5a477c4f372f7904171c22cd162ca\n",
            "  Stored in directory: /root/.cache/pip/wheels/ab/09/4d/0d184230058e654eb1b04467dbc1292f00eaa186544604b471\n",
            "Successfully built pyspark\n",
            "Installing collected packages: py4j, pyspark\n",
            "Successfully installed py4j-0.10.7 pyspark-2.4.4\n"
          ],
          "name": "stdout"
        }
      ]
    },
    {
      "cell_type": "code",
      "metadata": {
        "id": "VC-cF1MOJCvu",
        "colab_type": "code",
        "colab": {}
      },
      "source": [
        "# Set up required environment variables\n",
        "\n",
        "import os\n",
        "os.environ[\"JAVA_HOME\"] = \"/usr/lib/jvm/java-8-openjdk-amd64\"\n",
        "os.environ[\"SPARK_HOME\"] = \"/content/spark-2.4.4-bin-hadoop2.7\""
      ],
      "execution_count": 0,
      "outputs": []
    },
    {
      "cell_type": "code",
      "metadata": {
        "id": "Ac7IYHQAJHVA",
        "colab_type": "code",
        "colab": {
          "base_uri": "https://localhost:8080/",
          "height": 125
        },
        "outputId": "1f5f1d7e-8629-4a0d-a4c3-47a5ff788960"
      },
      "source": [
        "# Point Colaboratory to Google Drive\n",
        "\n",
        "from google.colab import drive\n",
        "drive.mount('/content/gdrive')"
      ],
      "execution_count": 5,
      "outputs": [
        {
          "output_type": "stream",
          "text": [
            "Go to this URL in a browser: https://accounts.google.com/o/oauth2/auth?client_id=947318989803-6bn6qk8qdgf4n4g3pfee6491hc0brc4i.apps.googleusercontent.com&redirect_uri=urn%3aietf%3awg%3aoauth%3a2.0%3aoob&response_type=code&scope=email%20https%3a%2f%2fwww.googleapis.com%2fauth%2fdocs.test%20https%3a%2f%2fwww.googleapis.com%2fauth%2fdrive%20https%3a%2f%2fwww.googleapis.com%2fauth%2fdrive.photos.readonly%20https%3a%2f%2fwww.googleapis.com%2fauth%2fpeopleapi.readonly\n",
            "\n",
            "Enter your authorization code:\n",
            "··········\n",
            "Mounted at /content/gdrive\n"
          ],
          "name": "stdout"
        }
      ]
    },
    {
      "cell_type": "code",
      "metadata": {
        "id": "UMRIotL2JJ-k",
        "colab_type": "code",
        "colab": {}
      },
      "source": [
        "from pyspark import SparkContext\n",
        "from pyspark.sql import SparkSession\n",
        "\n",
        "from pyspark.ml import Pipeline\n",
        "from pyspark.ml.regression import LinearRegression\n",
        "from pyspark.ml.regression import RandomForestRegressor\n",
        "from pyspark.ml.evaluation import RegressionEvaluator\n",
        "\n",
        "from pyspark.sql.functions import isnan, when, count, col\n",
        "from pyspark.sql.functions import month, dayofweek, weekofyear, hour, minute\n",
        "from pyspark.sql.types import DateType, TimestampType\n",
        "\n",
        "from datetime import datetime, date, timedelta\n",
        "import time"
      ],
      "execution_count": 0,
      "outputs": []
    },
    {
      "cell_type": "code",
      "metadata": {
        "id": "WU0T4_oWMK4Z",
        "colab_type": "code",
        "colab": {}
      },
      "source": [
        "#ARR_JSON_PATH = f\"/content/gdrive/My Drive/Colab Datasets/flights_data/arrivals/{date.today()}.json\"\n",
        "# for testing\n",
        "ARR_JSON_PATH = \"/content/gdrive/My Drive/Colab Datasets/flights_data/arrivals/2020-01-17.json\"\n",
        "\n",
        "#DEP_JSON_PATH = f\"/content/gdrive/My Drive/Colab Datasets/flights_data/departures/{date.today()}.json\"\n",
        "DEP_JSON_PATH = f\"/content/gdrive/My Drive/Colab Datasets/flights_data/departures/2020-01-17.json\"\n",
        "\n",
        "#WEATH_JSON_PATH = f\"/content/gdrive/My Drive/Colab Datasets/flights_data/weather/{date.today()}.json\"\n",
        "WEATH_JSON_PATH = f\"/content/gdrive/My Drive/Colab Datasets/flights_data/weather/2020-01-17.json\"\n",
        "\n",
        "APP_NAME = 'Flight Delay Predictor'\n",
        "SPARK_URL = 'local[*]'\n",
        "RANDOM_SEED = 263646\n",
        "TRAINING_DATA_RATIO = 0.7"
      ],
      "execution_count": 0,
      "outputs": []
    },
    {
      "cell_type": "code",
      "metadata": {
        "id": "fNHzaNf2iwCc",
        "colab_type": "code",
        "colab": {}
      },
      "source": [
        "spark = SparkSession.builder.appName(APP_NAME).master(SPARK_URL).getOrCreate()"
      ],
      "execution_count": 0,
      "outputs": []
    },
    {
      "cell_type": "code",
      "metadata": {
        "id": "6L0XNeJ_jahq",
        "colab_type": "code",
        "colab": {
          "base_uri": "https://localhost:8080/",
          "height": 232
        },
        "outputId": "120f6942-4197-461e-e537-a2524140ecd1"
      },
      "source": [
        "df_arr = spark.read.json(ARR_JSON_PATH)\n",
        "df_arr.show(5)"
      ],
      "execution_count": 12,
      "outputs": [
        {
          "output_type": "stream",
          "text": [
            "+--------------------+--------------------+--------------------+-------------+--------------------+--------------------+----------------------+--------------------+---------------------+--------------------+------------------+----------+------------+--------------------+--------------------+------+\n",
            "|    airportResources|arrivalAirportFsCode|         arrivalDate|carrierFsCode|          codeshares|              delays|departureAirportFsCode|       departureDate|divertedAirportFsCode|     flightDurations|   flightEquipment|  flightId|flightNumber|    operationalTimes|            schedule|status|\n",
            "+--------------------+--------------------+--------------------+-------------+--------------------+--------------------+----------------------+--------------------+---------------------+--------------------+------------------+----------+------------+--------------------+--------------------+------+\n",
            "|      [, TBIT,, C9,]|                 LAX|[2020-01-17T13:10...|           QR|     [[3515, UL, L]]|      [, 13, 52, 60]|                   DOH|[2020-01-17T07:45...|                 null|[, 1021, 985,, 10...|[77L, 77L, A7-BBA]|1028199581|         739|[, [2020-01-17T08...|  [[], J, , RJY, []]|     A|\n",
            "|     [, TBIT,, 8, 1]|                 LAX|[2020-01-17T13:15...|           QF|[[7328, AA, L], [...|[205, 247, 226, 240]|                   SYD|[2020-01-17T18:25...|                 null|[, 763, 830, 57, ...|[388, 388, VH-OQJ]|1028197993|          17|[, [2020-01-17T22...| [[], J, , RFJY, []]|     A|\n",
            "| [, TBIT, D6, 30, D]|                 LAX|[2020-01-17T13:50...|           SU|                  []|          [14, 23,,]|                   SVO|[2020-01-17T12:00...|                 null|[, 745, 770, 15, ...|[332, 332, VQ-BBE]|1028204787|         106|[, [2020-01-17T11...|  [[], J, , RJY, []]|     A|\n",
            "|    [, TBIT,, 18, I]|                 LAX|[2020-01-17T14:00...|           NZ|[[6091, AC, L], [...|       [, 7, 17, 25]|                   AKL|[2020-01-17T22:55...|                 null|[, 681, 725, 34, ...|[77W, 77W, ZK-OKS]|1028193159|           2|[, [2020-01-17T23...|[[[1028193174, LH...|     A|\n",
            "|[, TBIT, TBIT, 17...|                 LAX|[2020-01-17T14:40...|           AA|     [[1622, CZ, L]]|               [,,,]|                   PEK|[2020-01-17T18:30...|                 null|[, 683, 730, 10, ...|[788, 788, N813AN]|1028129626|         180|[, [2020-01-17T18...| [[], J, , RFJY, []]|     A|\n",
            "+--------------------+--------------------+--------------------+-------------+--------------------+--------------------+----------------------+--------------------+---------------------+--------------------+------------------+----------+------------+--------------------+--------------------+------+\n",
            "only showing top 5 rows\n",
            "\n"
          ],
          "name": "stdout"
        }
      ]
    },
    {
      "cell_type": "markdown",
      "metadata": {
        "id": "U7CImS0RqxqG",
        "colab_type": "text"
      },
      "source": [
        "The data in a little more detail."
      ]
    },
    {
      "cell_type": "code",
      "metadata": {
        "id": "gi16LYxjp3B4",
        "colab_type": "code",
        "colab": {
          "base_uri": "https://localhost:8080/",
          "height": 125
        },
        "outputId": "08900b16-725a-4b46-db2e-b6c93bedf43d"
      },
      "source": [
        "df_arr.head(5)"
      ],
      "execution_count": 13,
      "outputs": [
        {
          "output_type": "execute_result",
          "data": {
            "text/plain": [
              "[Row(airportResources=Row(arrivalGate=None, arrivalTerminal='TBIT', baggage=None, departureGate='C9', departureTerminal=None), arrivalAirportFsCode='LAX', arrivalDate=Row(dateLocal='2020-01-17T13:10:00.000', dateUtc='2020-01-17T21:10:00.000Z'), carrierFsCode='QR', codeshares=[Row(flightNumber='3515', fsCode='UL', relationship='L')], delays=Row(arrivalGateDelayMinutes=None, arrivalRunwayDelayMinutes=13, departureGateDelayMinutes=52, departureRunwayDelayMinutes=60), departureAirportFsCode='DOH', departureDate=Row(dateLocal='2020-01-17T07:45:00.000', dateUtc='2020-01-17T04:45:00.000Z'), divertedAirportFsCode=None, flightDurations=Row(blockMinutes=None, scheduledAirMinutes=1021, scheduledBlockMinutes=985, scheduledTaxiInMinutes=None, scheduledTaxiOutMinutes=10, taxiOutMinutes=18), flightEquipment=Row(actualEquipmentIataCode='77L', scheduledEquipmentIataCode='77L', tailNumber='A7-BBA'), flightId=1028199581, flightNumber='739', operationalTimes=Row(actualGateArrival=None, actualGateDeparture=Row(dateLocal='2020-01-17T08:37:00.000', dateUtc='2020-01-17T05:37:00.000Z'), actualRunwayDeparture=Row(dateLocal='2020-01-17T08:55:00.000', dateUtc='2020-01-17T05:55:00.000Z'), estimatedGateArrival=None, estimatedGateDeparture=Row(dateLocal='2020-01-17T08:37:00.000', dateUtc='2020-01-17T05:37:00.000Z'), estimatedRunwayArrival=Row(dateLocal='2020-01-17T14:09:00.000', dateUtc='2020-01-17T22:09:00.000Z'), estimatedRunwayDeparture=Row(dateLocal='2020-01-17T08:55:00.000', dateUtc='2020-01-17T05:55:00.000Z'), flightPlanPlannedArrival=Row(dateLocal='2020-01-17T13:56:00.000', dateUtc='2020-01-17T21:56:00.000Z'), flightPlanPlannedDeparture=Row(dateLocal='2020-01-17T07:55:00.000', dateUtc='2020-01-17T04:55:00.000Z'), publishedArrival=Row(dateLocal='2020-01-17T13:10:00.000', dateUtc='2020-01-17T21:10:00.000Z'), publishedDeparture=Row(dateLocal='2020-01-17T07:45:00.000', dateUtc='2020-01-17T04:45:00.000Z'), scheduledGateArrival=Row(dateLocal='2020-01-17T13:10:00.000', dateUtc='2020-01-17T21:10:00.000Z'), scheduledGateDeparture=Row(dateLocal='2020-01-17T07:45:00.000', dateUtc='2020-01-17T04:45:00.000Z'), scheduledRunwayArrival=Row(dateLocal='2020-01-17T13:56:00.000', dateUtc='2020-01-17T21:56:00.000Z'), scheduledRunwayDeparture=Row(dateLocal='2020-01-17T07:55:00.000', dateUtc='2020-01-17T04:55:00.000Z')), schedule=Row(downlines=[], flightType='J', restrictions='', serviceClasses='RJY', uplines=[]), status='A'),\n",
              " Row(airportResources=Row(arrivalGate=None, arrivalTerminal='TBIT', baggage=None, departureGate='8', departureTerminal='1'), arrivalAirportFsCode='LAX', arrivalDate=Row(dateLocal='2020-01-17T13:15:00.000', dateUtc='2020-01-17T21:15:00.000Z'), carrierFsCode='QF', codeshares=[Row(flightNumber='7328', fsCode='AA', relationship='L'), Row(flightNumber='6003', fsCode='WS', relationship='L')], delays=Row(arrivalGateDelayMinutes=205, arrivalRunwayDelayMinutes=247, departureGateDelayMinutes=226, departureRunwayDelayMinutes=240), departureAirportFsCode='SYD', departureDate=Row(dateLocal='2020-01-17T18:25:00.000', dateUtc='2020-01-17T07:25:00.000Z'), divertedAirportFsCode=None, flightDurations=Row(blockMinutes=None, scheduledAirMinutes=763, scheduledBlockMinutes=830, scheduledTaxiInMinutes=57, scheduledTaxiOutMinutes=10, taxiOutMinutes=24), flightEquipment=Row(actualEquipmentIataCode='388', scheduledEquipmentIataCode='388', tailNumber='VH-OQJ'), flightId=1028197993, flightNumber='17', operationalTimes=Row(actualGateArrival=None, actualGateDeparture=Row(dateLocal='2020-01-17T22:11:00.000', dateUtc='2020-01-17T11:11:00.000Z'), actualRunwayDeparture=Row(dateLocal='2020-01-17T22:35:00.000', dateUtc='2020-01-17T11:35:00.000Z'), estimatedGateArrival=Row(dateLocal='2020-01-17T16:40:00.000', dateUtc='2020-01-18T00:40:00.000Z'), estimatedGateDeparture=Row(dateLocal='2020-01-17T22:11:00.000', dateUtc='2020-01-17T11:11:00.000Z'), estimatedRunwayArrival=Row(dateLocal='2020-01-17T16:25:00.000', dateUtc='2020-01-18T00:25:00.000Z'), estimatedRunwayDeparture=Row(dateLocal='2020-01-17T22:35:00.000', dateUtc='2020-01-17T11:35:00.000Z'), flightPlanPlannedArrival=Row(dateLocal='2020-01-17T12:18:00.000', dateUtc='2020-01-17T20:18:00.000Z'), flightPlanPlannedDeparture=Row(dateLocal='2020-01-17T18:35:00.000', dateUtc='2020-01-17T07:35:00.000Z'), publishedArrival=Row(dateLocal='2020-01-17T13:15:00.000', dateUtc='2020-01-17T21:15:00.000Z'), publishedDeparture=Row(dateLocal='2020-01-17T18:25:00.000', dateUtc='2020-01-17T07:25:00.000Z'), scheduledGateArrival=Row(dateLocal='2020-01-17T13:15:00.000', dateUtc='2020-01-17T21:15:00.000Z'), scheduledGateDeparture=Row(dateLocal='2020-01-17T18:25:00.000', dateUtc='2020-01-17T07:25:00.000Z'), scheduledRunwayArrival=Row(dateLocal='2020-01-17T12:18:00.000', dateUtc='2020-01-17T20:18:00.000Z'), scheduledRunwayDeparture=Row(dateLocal='2020-01-17T18:35:00.000', dateUtc='2020-01-17T07:35:00.000Z')), schedule=Row(downlines=[], flightType='J', restrictions='', serviceClasses='RFJY', uplines=[]), status='A'),\n",
              " Row(airportResources=Row(arrivalGate=None, arrivalTerminal='TBIT', baggage='D6', departureGate='30', departureTerminal='D'), arrivalAirportFsCode='LAX', arrivalDate=Row(dateLocal='2020-01-17T13:50:00.000', dateUtc='2020-01-17T21:50:00.000Z'), carrierFsCode='SU', codeshares=[], delays=Row(arrivalGateDelayMinutes=14, arrivalRunwayDelayMinutes=23, departureGateDelayMinutes=None, departureRunwayDelayMinutes=None), departureAirportFsCode='SVO', departureDate=Row(dateLocal='2020-01-17T12:00:00.000', dateUtc='2020-01-17T09:00:00.000Z'), divertedAirportFsCode=None, flightDurations=Row(blockMinutes=None, scheduledAirMinutes=745, scheduledBlockMinutes=770, scheduledTaxiInMinutes=15, scheduledTaxiOutMinutes=10, taxiOutMinutes=23), flightEquipment=Row(actualEquipmentIataCode='332', scheduledEquipmentIataCode='332', tailNumber='VQ-BBE'), flightId=1028204787, flightNumber='106', operationalTimes=Row(actualGateArrival=None, actualGateDeparture=Row(dateLocal='2020-01-17T11:46:00.000', dateUtc='2020-01-17T08:46:00.000Z'), actualRunwayDeparture=Row(dateLocal='2020-01-17T12:09:00.000', dateUtc='2020-01-17T09:09:00.000Z'), estimatedGateArrival=Row(dateLocal='2020-01-17T14:04:00.000', dateUtc='2020-01-17T22:04:00.000Z'), estimatedGateDeparture=Row(dateLocal='2020-01-17T11:46:00.000', dateUtc='2020-01-17T08:46:00.000Z'), estimatedRunwayArrival=Row(dateLocal='2020-01-17T13:58:00.000', dateUtc='2020-01-17T21:58:00.000Z'), estimatedRunwayDeparture=Row(dateLocal='2020-01-17T12:09:00.000', dateUtc='2020-01-17T09:09:00.000Z'), flightPlanPlannedArrival=Row(dateLocal='2020-01-17T13:35:00.000', dateUtc='2020-01-17T21:35:00.000Z'), flightPlanPlannedDeparture=Row(dateLocal='2020-01-17T12:10:00.000', dateUtc='2020-01-17T09:10:00.000Z'), publishedArrival=Row(dateLocal='2020-01-17T13:50:00.000', dateUtc='2020-01-17T21:50:00.000Z'), publishedDeparture=Row(dateLocal='2020-01-17T12:00:00.000', dateUtc='2020-01-17T09:00:00.000Z'), scheduledGateArrival=Row(dateLocal='2020-01-17T13:50:00.000', dateUtc='2020-01-17T21:50:00.000Z'), scheduledGateDeparture=Row(dateLocal='2020-01-17T12:00:00.000', dateUtc='2020-01-17T09:00:00.000Z'), scheduledRunwayArrival=Row(dateLocal='2020-01-17T13:35:00.000', dateUtc='2020-01-17T21:35:00.000Z'), scheduledRunwayDeparture=Row(dateLocal='2020-01-17T12:10:00.000', dateUtc='2020-01-17T09:10:00.000Z')), schedule=Row(downlines=[], flightType='J', restrictions='', serviceClasses='RJY', uplines=[]), status='A'),\n",
              " Row(airportResources=Row(arrivalGate=None, arrivalTerminal='TBIT', baggage=None, departureGate='18', departureTerminal='I'), arrivalAirportFsCode='LAX', arrivalDate=Row(dateLocal='2020-01-17T14:00:00.000', dateUtc='2020-01-17T22:00:00.000Z'), carrierFsCode='NZ', codeshares=[Row(flightNumber='6091', fsCode='AC', relationship='L'), Row(flightNumber='7161', fsCode='LH', relationship='L'), Row(flightNumber='8724', fsCode='TK', relationship='L'), Row(flightNumber='6750', fsCode='UA', relationship='L')], delays=Row(arrivalGateDelayMinutes=None, arrivalRunwayDelayMinutes=7, departureGateDelayMinutes=17, departureRunwayDelayMinutes=25), departureAirportFsCode='AKL', departureDate=Row(dateLocal='2020-01-17T22:55:00.000', dateUtc='2020-01-17T09:55:00.000Z'), divertedAirportFsCode=None, flightDurations=Row(blockMinutes=None, scheduledAirMinutes=681, scheduledBlockMinutes=725, scheduledTaxiInMinutes=34, scheduledTaxiOutMinutes=10, taxiOutMinutes=18), flightEquipment=Row(actualEquipmentIataCode='77W', scheduledEquipmentIataCode='77W', tailNumber='ZK-OKS'), flightId=1028193159, flightNumber='2', operationalTimes=Row(actualGateArrival=None, actualGateDeparture=Row(dateLocal='2020-01-17T23:12:00.000', dateUtc='2020-01-17T10:12:00.000Z'), actualRunwayDeparture=Row(dateLocal='2020-01-17T23:30:00.000', dateUtc='2020-01-17T10:30:00.000Z'), estimatedGateArrival=Row(dateLocal='2020-01-17T13:39:00.000', dateUtc='2020-01-17T21:39:00.000Z'), estimatedGateDeparture=Row(dateLocal='2020-01-17T23:12:00.000', dateUtc='2020-01-17T10:12:00.000Z'), estimatedRunwayArrival=Row(dateLocal='2020-01-17T13:33:00.000', dateUtc='2020-01-17T21:33:00.000Z'), estimatedRunwayDeparture=Row(dateLocal='2020-01-17T23:30:00.000', dateUtc='2020-01-17T10:30:00.000Z'), flightPlanPlannedArrival=Row(dateLocal='2020-01-17T13:26:00.000', dateUtc='2020-01-17T21:26:00.000Z'), flightPlanPlannedDeparture=Row(dateLocal='2020-01-17T23:05:00.000', dateUtc='2020-01-17T10:05:00.000Z'), publishedArrival=Row(dateLocal='2020-01-17T14:00:00.000', dateUtc='2020-01-17T22:00:00.000Z'), publishedDeparture=Row(dateLocal='2020-01-17T22:55:00.000', dateUtc='2020-01-17T09:55:00.000Z'), scheduledGateArrival=Row(dateLocal='2020-01-17T14:00:00.000', dateUtc='2020-01-17T22:00:00.000Z'), scheduledGateDeparture=Row(dateLocal='2020-01-17T22:55:00.000', dateUtc='2020-01-17T09:55:00.000Z'), scheduledRunwayArrival=Row(dateLocal='2020-01-17T13:26:00.000', dateUtc='2020-01-17T21:26:00.000Z'), scheduledRunwayDeparture=Row(dateLocal='2020-01-17T23:05:00.000', dateUtc='2020-01-17T10:05:00.000Z')), schedule=Row(downlines=[Row(flightId=1028193174, fsCode='LHR')], flightType='J', restrictions='', serviceClasses='FJY', uplines=[]), status='A'),\n",
              " Row(airportResources=Row(arrivalGate=None, arrivalTerminal='TBIT', baggage='TBIT', departureGate='17', departureTerminal='2'), arrivalAirportFsCode='LAX', arrivalDate=Row(dateLocal='2020-01-17T14:40:00.000', dateUtc='2020-01-17T22:40:00.000Z'), carrierFsCode='AA', codeshares=[Row(flightNumber='1622', fsCode='CZ', relationship='L')], delays=Row(arrivalGateDelayMinutes=None, arrivalRunwayDelayMinutes=None, departureGateDelayMinutes=None, departureRunwayDelayMinutes=None), departureAirportFsCode='PEK', departureDate=Row(dateLocal='2020-01-17T18:30:00.000', dateUtc='2020-01-17T10:30:00.000Z'), divertedAirportFsCode=None, flightDurations=Row(blockMinutes=None, scheduledAirMinutes=683, scheduledBlockMinutes=730, scheduledTaxiInMinutes=10, scheduledTaxiOutMinutes=37, taxiOutMinutes=22), flightEquipment=Row(actualEquipmentIataCode='788', scheduledEquipmentIataCode='788', tailNumber='N813AN'), flightId=1028129626, flightNumber='180', operationalTimes=Row(actualGateArrival=None, actualGateDeparture=Row(dateLocal='2020-01-17T18:17:00.000', dateUtc='2020-01-17T10:17:00.000Z'), actualRunwayDeparture=Row(dateLocal='2020-01-17T18:39:00.000', dateUtc='2020-01-17T10:39:00.000Z'), estimatedGateArrival=Row(dateLocal='2020-01-17T14:13:00.000', dateUtc='2020-01-17T22:13:00.000Z'), estimatedGateDeparture=Row(dateLocal='2020-01-17T18:17:00.000', dateUtc='2020-01-17T10:17:00.000Z'), estimatedRunwayArrival=Row(dateLocal='2020-01-17T14:02:00.000', dateUtc='2020-01-17T22:02:00.000Z'), estimatedRunwayDeparture=Row(dateLocal='2020-01-17T18:39:00.000', dateUtc='2020-01-17T10:39:00.000Z'), flightPlanPlannedArrival=Row(dateLocal='2020-01-17T14:30:00.000', dateUtc='2020-01-17T22:30:00.000Z'), flightPlanPlannedDeparture=Row(dateLocal='2020-01-17T19:07:00.000', dateUtc='2020-01-17T11:07:00.000Z'), publishedArrival=Row(dateLocal='2020-01-17T14:40:00.000', dateUtc='2020-01-17T22:40:00.000Z'), publishedDeparture=Row(dateLocal='2020-01-17T18:30:00.000', dateUtc='2020-01-17T10:30:00.000Z'), scheduledGateArrival=Row(dateLocal='2020-01-17T14:40:00.000', dateUtc='2020-01-17T22:40:00.000Z'), scheduledGateDeparture=Row(dateLocal='2020-01-17T18:30:00.000', dateUtc='2020-01-17T10:30:00.000Z'), scheduledRunwayArrival=Row(dateLocal='2020-01-17T14:30:00.000', dateUtc='2020-01-17T22:30:00.000Z'), scheduledRunwayDeparture=Row(dateLocal='2020-01-17T19:07:00.000', dateUtc='2020-01-17T11:07:00.000Z')), schedule=Row(downlines=[], flightType='J', restrictions='', serviceClasses='RFJY', uplines=[]), status='A')]"
            ]
          },
          "metadata": {
            "tags": []
          },
          "execution_count": 13
        }
      ]
    },
    {
      "cell_type": "markdown",
      "metadata": {
        "id": "pU1M4g0Hq4nn",
        "colab_type": "text"
      },
      "source": [
        "Let's see how many flights arrived at LAX in the past 24 hours."
      ]
    },
    {
      "cell_type": "code",
      "metadata": {
        "id": "Csdq7Ta7qEVA",
        "colab_type": "code",
        "colab": {
          "base_uri": "https://localhost:8080/",
          "height": 34
        },
        "outputId": "cd879ab9-af61-4744-ef1d-3e50b0e9d611"
      },
      "source": [
        "df_arr.count()"
      ],
      "execution_count": 15,
      "outputs": [
        {
          "output_type": "execute_result",
          "data": {
            "text/plain": [
              "337"
            ]
          },
          "metadata": {
            "tags": []
          },
          "execution_count": 15
        }
      ]
    },
    {
      "cell_type": "markdown",
      "metadata": {
        "id": "5Rg_7TequuZ6",
        "colab_type": "text"
      },
      "source": [
        "Let's first drop all the unnecessary columns."
      ]
    },
    {
      "cell_type": "code",
      "metadata": {
        "id": "lrqU_5lzutys",
        "colab_type": "code",
        "colab": {
          "base_uri": "https://localhost:8080/",
          "height": 232
        },
        "outputId": "a8427cff-9118-44e6-ecf3-1cbe0983d56e"
      },
      "source": [
        "df_arr = df_arr.drop('airportResources', 'codeshares', 'departureDate',\n",
        "            'divertedAirportFsCode', 'operationalTimes', 'schedule', 'status')\n",
        "df_arr.show(5)"
      ],
      "execution_count": 16,
      "outputs": [
        {
          "output_type": "stream",
          "text": [
            "+--------------------+--------------------+-------------+--------------------+----------------------+--------------------+------------------+----------+------------+\n",
            "|arrivalAirportFsCode|         arrivalDate|carrierFsCode|              delays|departureAirportFsCode|     flightDurations|   flightEquipment|  flightId|flightNumber|\n",
            "+--------------------+--------------------+-------------+--------------------+----------------------+--------------------+------------------+----------+------------+\n",
            "|                 LAX|[2020-01-17T13:10...|           QR|      [, 13, 52, 60]|                   DOH|[, 1021, 985,, 10...|[77L, 77L, A7-BBA]|1028199581|         739|\n",
            "|                 LAX|[2020-01-17T13:15...|           QF|[205, 247, 226, 240]|                   SYD|[, 763, 830, 57, ...|[388, 388, VH-OQJ]|1028197993|          17|\n",
            "|                 LAX|[2020-01-17T13:50...|           SU|          [14, 23,,]|                   SVO|[, 745, 770, 15, ...|[332, 332, VQ-BBE]|1028204787|         106|\n",
            "|                 LAX|[2020-01-17T14:00...|           NZ|       [, 7, 17, 25]|                   AKL|[, 681, 725, 34, ...|[77W, 77W, ZK-OKS]|1028193159|           2|\n",
            "|                 LAX|[2020-01-17T14:40...|           AA|               [,,,]|                   PEK|[, 683, 730, 10, ...|[788, 788, N813AN]|1028129626|         180|\n",
            "+--------------------+--------------------+-------------+--------------------+----------------------+--------------------+------------------+----------+------------+\n",
            "only showing top 5 rows\n",
            "\n"
          ],
          "name": "stdout"
        }
      ]
    },
    {
      "cell_type": "code",
      "metadata": {
        "id": "rUau0XFl_bUT",
        "colab_type": "code",
        "colab": {
          "base_uri": "https://localhost:8080/",
          "height": 478
        },
        "outputId": "d15fb7b5-fcbf-4365-e09a-a8dea4414f46"
      },
      "source": [
        "df_arr.printSchema()"
      ],
      "execution_count": 30,
      "outputs": [
        {
          "output_type": "stream",
          "text": [
            "root\n",
            " |-- arrivalAirportFsCode: string (nullable = true)\n",
            " |-- arrivalDate: struct (nullable = true)\n",
            " |    |-- dateLocal: string (nullable = true)\n",
            " |    |-- dateUtc: string (nullable = true)\n",
            " |-- carrierFsCode: string (nullable = true)\n",
            " |-- delays: struct (nullable = true)\n",
            " |    |-- arrivalGateDelayMinutes: long (nullable = true)\n",
            " |    |-- arrivalRunwayDelayMinutes: long (nullable = true)\n",
            " |    |-- departureGateDelayMinutes: long (nullable = true)\n",
            " |    |-- departureRunwayDelayMinutes: long (nullable = true)\n",
            " |-- departureAirportFsCode: string (nullable = true)\n",
            " |-- flightDurations: struct (nullable = true)\n",
            " |    |-- blockMinutes: long (nullable = true)\n",
            " |    |-- scheduledAirMinutes: long (nullable = true)\n",
            " |    |-- scheduledBlockMinutes: long (nullable = true)\n",
            " |    |-- scheduledTaxiInMinutes: long (nullable = true)\n",
            " |    |-- scheduledTaxiOutMinutes: long (nullable = true)\n",
            " |    |-- taxiOutMinutes: long (nullable = true)\n",
            " |-- flightEquipment: struct (nullable = true)\n",
            " |    |-- actualEquipmentIataCode: string (nullable = true)\n",
            " |    |-- scheduledEquipmentIataCode: string (nullable = true)\n",
            " |    |-- tailNumber: string (nullable = true)\n",
            " |-- flightId: long (nullable = true)\n",
            " |-- flightNumber: string (nullable = true)\n",
            "\n"
          ],
          "name": "stdout"
        }
      ]
    },
    {
      "cell_type": "markdown",
      "metadata": {
        "id": "S0y_wN53x6LV",
        "colab_type": "text"
      },
      "source": [
        "Let's explore the dataframe a little bit here."
      ]
    },
    {
      "cell_type": "code",
      "metadata": {
        "id": "zn-3Oz5Rx5td",
        "colab_type": "code",
        "colab": {
          "base_uri": "https://localhost:8080/",
          "height": 478
        },
        "outputId": "307f4e3e-f60e-4971-ea06-c83f4dd82e7d"
      },
      "source": [
        "df_arr.groupBy('carrierFsCode').count().orderBy('count', ascending=False).show()"
      ],
      "execution_count": 27,
      "outputs": [
        {
          "output_type": "stream",
          "text": [
            "+-------------+-----+\n",
            "|carrierFsCode|count|\n",
            "+-------------+-----+\n",
            "|           DL|   48|\n",
            "|           AA|   45|\n",
            "|           OO|   44|\n",
            "|           WN|   42|\n",
            "|           CP|   30|\n",
            "|           UA|   25|\n",
            "|           AS|   24|\n",
            "|           B6|    6|\n",
            "|           NK|    6|\n",
            "|           QX|    5|\n",
            "|           AC|    4|\n",
            "|           WS|    3|\n",
            "|           Y4|    3|\n",
            "|           BA|    3|\n",
            "|           QF|    3|\n",
            "|          BAI|    2|\n",
            "|           BR|    2|\n",
            "|           1I|    2|\n",
            "|           CZ|    2|\n",
            "|           NZ|    2|\n",
            "+-------------+-----+\n",
            "only showing top 20 rows\n",
            "\n"
          ],
          "name": "stdout"
        }
      ]
    },
    {
      "cell_type": "markdown",
      "metadata": {
        "id": "cgq0VGMM2hbB",
        "colab_type": "text"
      },
      "source": [
        "Let's see what the busiest time of the day is for LAX next. But before we do that, I'm going to separate out the arrival time from 'arrivalDate'."
      ]
    },
    {
      "cell_type": "code",
      "metadata": {
        "id": "eosnJa1K3Crk",
        "colab_type": "code",
        "colab": {
          "base_uri": "https://localhost:8080/",
          "height": 212
        },
        "outputId": "00aeda4a-6681-4edc-d053-31a6466365d4"
      },
      "source": [
        "# first need to extract the date info from the arrivalDate struct\n",
        "df_arr = df_arr.withColumn('localDate', col('arrivalDate').getField('dateLocal'))\n",
        "#df_arr.select('localDate').show(5)\n",
        "\n",
        "df_arr = df_arr.withColumn('localTimeStamp', df_arr['localDate'].cast(TimestampType()))\n",
        "df_arr.select('localTimeStamp').show(5)"
      ],
      "execution_count": 56,
      "outputs": [
        {
          "output_type": "stream",
          "text": [
            "+-------------------+\n",
            "|     localTimeStamp|\n",
            "+-------------------+\n",
            "|2020-01-17 13:10:00|\n",
            "|2020-01-17 13:15:00|\n",
            "|2020-01-17 13:50:00|\n",
            "|2020-01-17 14:00:00|\n",
            "|2020-01-17 14:40:00|\n",
            "+-------------------+\n",
            "only showing top 5 rows\n",
            "\n"
          ],
          "name": "stdout"
        }
      ]
    },
    {
      "cell_type": "markdown",
      "metadata": {
        "id": "D70jFpglPfT3",
        "colab_type": "text"
      },
      "source": [
        "Give each time increment its own column."
      ]
    },
    {
      "cell_type": "code",
      "metadata": {
        "id": "25bzGIpM2t8a",
        "colab_type": "code",
        "colab": {
          "base_uri": "https://localhost:8080/",
          "height": 232
        },
        "outputId": "9bc30fbf-7613-4d4b-b8d6-bc6d4633a9f7"
      },
      "source": [
        "df_arr.withColumn('date', col('localTimeStamp').cast('date')).withColumn('hour', hour(col('localTimeStamp'))).withColumn('minute', minute(col('localTimeStamp'))).show(5)"
      ],
      "execution_count": 64,
      "outputs": [
        {
          "output_type": "stream",
          "text": [
            "+--------------------+--------------------+-------------+--------------------+----------------------+--------------------+------------------+----------+------------+--------------------+-------------------+----------+----+------+\n",
            "|arrivalAirportFsCode|         arrivalDate|carrierFsCode|              delays|departureAirportFsCode|     flightDurations|   flightEquipment|  flightId|flightNumber|           localDate|     localTimeStamp|      date|hour|minute|\n",
            "+--------------------+--------------------+-------------+--------------------+----------------------+--------------------+------------------+----------+------------+--------------------+-------------------+----------+----+------+\n",
            "|                 LAX|[2020-01-17T13:10...|           QR|      [, 13, 52, 60]|                   DOH|[, 1021, 985,, 10...|[77L, 77L, A7-BBA]|1028199581|         739|2020-01-17T13:10:...|2020-01-17 13:10:00|2020-01-17|  13|    10|\n",
            "|                 LAX|[2020-01-17T13:15...|           QF|[205, 247, 226, 240]|                   SYD|[, 763, 830, 57, ...|[388, 388, VH-OQJ]|1028197993|          17|2020-01-17T13:15:...|2020-01-17 13:15:00|2020-01-17|  13|    15|\n",
            "|                 LAX|[2020-01-17T13:50...|           SU|          [14, 23,,]|                   SVO|[, 745, 770, 15, ...|[332, 332, VQ-BBE]|1028204787|         106|2020-01-17T13:50:...|2020-01-17 13:50:00|2020-01-17|  13|    50|\n",
            "|                 LAX|[2020-01-17T14:00...|           NZ|       [, 7, 17, 25]|                   AKL|[, 681, 725, 34, ...|[77W, 77W, ZK-OKS]|1028193159|           2|2020-01-17T14:00:...|2020-01-17 14:00:00|2020-01-17|  14|     0|\n",
            "|                 LAX|[2020-01-17T14:40...|           AA|               [,,,]|                   PEK|[, 683, 730, 10, ...|[788, 788, N813AN]|1028129626|         180|2020-01-17T14:40:...|2020-01-17 14:40:00|2020-01-17|  14|    40|\n",
            "+--------------------+--------------------+-------------+--------------------+----------------------+--------------------+------------------+----------+------------+--------------------+-------------------+----------+----+------+\n",
            "only showing top 5 rows\n",
            "\n"
          ],
          "name": "stdout"
        }
      ]
    },
    {
      "cell_type": "code",
      "metadata": {
        "id": "mwG5q9RvpJ_2",
        "colab_type": "code",
        "colab": {
          "base_uri": "https://localhost:8080/",
          "height": 232
        },
        "outputId": "464d169e-b94c-44f6-bab3-07c615f4bdd1"
      },
      "source": [
        "df_weath = spark.read.json(WEATH_JSON_PATH)\n",
        "df_weath.show(5)"
      ],
      "execution_count": 23,
      "outputs": [
        {
          "output_type": "stream",
          "text": [
            "+-------------------+----------+--------+--------+-------------------+-----+---------------+-----------------+----------+--------+-------------------+-----------+----------+-------+----------+-----------+--------+---------+\n",
            "|apparentTemperature|cloudCover|dewPoint|humidity|               icon|ozone|precipIntensity|precipProbability|precipType|pressure|            summary|temperature|      time|uvIndex|visibility|windBearing|windGust|windSpeed|\n",
            "+-------------------+----------+--------+--------+-------------------+-----+---------------+-----------------+----------+--------+-------------------+-----------+----------+-------+----------+-----------+--------+---------+\n",
            "|              53.33|      0.93|   48.75|    0.84|               rain|306.5|         0.0474|             0.87|      rain|  1020.0|         Light Rain|      53.33|1579248000|      0|      4.94|        118|    9.85|     7.89|\n",
            "|               53.2|      0.88|   49.85|    0.88|               rain|303.5|         0.0262|              0.5|      rain|  1019.7|Possible Light Rain|       53.2|1579251600|      0|      10.0|         67|     9.0|     5.22|\n",
            "|              52.06|      0.86|   48.89|    0.89|               rain|300.2|         0.0187|             0.29|      rain|  1020.3|Possible Light Rain|      52.06|1579255200|      0|      10.0|        133|     8.5|     5.37|\n",
            "|              51.94|      0.54|   47.35|    0.84|partly-cloudy-night|296.7|         0.0015|             0.04|      rain|  1020.4|      Partly Cloudy|      51.94|1579258800|      0|      10.0|         48|    8.29|      6.3|\n",
            "|              51.57|      0.53|   47.34|    0.85|partly-cloudy-night|293.1|            0.0|              0.0|      null|  1020.3|      Partly Cloudy|      51.57|1579262400|      0|      10.0|          3|    7.29|     6.16|\n",
            "+-------------------+----------+--------+--------+-------------------+-----+---------------+-----------------+----------+--------+-------------------+-----------+----------+-------+----------+-----------+--------+---------+\n",
            "only showing top 5 rows\n",
            "\n"
          ],
          "name": "stdout"
        }
      ]
    },
    {
      "cell_type": "code",
      "metadata": {
        "id": "7mQ3fzW9MKIt",
        "colab_type": "code",
        "colab": {}
      },
      "source": [
        ""
      ],
      "execution_count": 0,
      "outputs": []
    }
  ]
}