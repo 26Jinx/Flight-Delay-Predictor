{
  "nbformat": 4,
  "nbformat_minor": 0,
  "metadata": {
    "colab": {
      "name": "flightstats_client.ipynb",
      "provenance": [],
      "include_colab_link": true
    },
    "kernelspec": {
      "name": "python3",
      "display_name": "Python 3"
    }
  },
  "cells": [
    {
      "cell_type": "markdown",
      "metadata": {
        "id": "view-in-github",
        "colab_type": "text"
      },
      "source": [
        "<a href=\"https://colab.research.google.com/github/PharahMain/Flight-Delay-Predictor/blob/master/flightstats_client.ipynb\" target=\"_parent\"><img src=\"https://colab.research.google.com/assets/colab-badge.svg\" alt=\"Open In Colab\"/></a>"
      ]
    },
    {
      "cell_type": "code",
      "metadata": {
        "id": "1t9wd42bcPva",
        "colab_type": "code",
        "colab": {}
      },
      "source": [
        "!apt-get install openjdk-8-jdk-headless -qq > /dev/null\n",
        "!wget -q https://www-us.apache.org/dist/spark/spark-2.4.4/spark-2.4.4-bin-hadoop2.7.tgz\n",
        "!tar xf spark-2.4.4-bin-hadoop2.7.tgz"
      ],
      "execution_count": 0,
      "outputs": []
    },
    {
      "cell_type": "code",
      "metadata": {
        "id": "TmbbxreyIa-i",
        "colab_type": "code",
        "outputId": "e858f2ee-56f9-43e6-c57c-f481fab88781",
        "colab": {
          "base_uri": "https://localhost:8080/",
          "height": 267
        }
      },
      "source": [
        "# Install spark-related depdencies for Python\n",
        "!pip install -q findspark\n",
        "!pip install pyspark"
      ],
      "execution_count": 2,
      "outputs": [
        {
          "output_type": "stream",
          "text": [
            "Collecting pyspark\n",
            "\u001b[?25l  Downloading https://files.pythonhosted.org/packages/87/21/f05c186f4ddb01d15d0ddc36ef4b7e3cedbeb6412274a41f26b55a650ee5/pyspark-2.4.4.tar.gz (215.7MB)\n",
            "\u001b[K     |████████████████████████████████| 215.7MB 57kB/s \n",
            "\u001b[?25hCollecting py4j==0.10.7\n",
            "\u001b[?25l  Downloading https://files.pythonhosted.org/packages/e3/53/c737818eb9a7dc32a7cd4f1396e787bd94200c3997c72c1dbe028587bd76/py4j-0.10.7-py2.py3-none-any.whl (197kB)\n",
            "\u001b[K     |████████████████████████████████| 204kB 42.7MB/s \n",
            "\u001b[?25hBuilding wheels for collected packages: pyspark\n",
            "  Building wheel for pyspark (setup.py) ... \u001b[?25l\u001b[?25hdone\n",
            "  Created wheel for pyspark: filename=pyspark-2.4.4-py2.py3-none-any.whl size=216130388 sha256=e67b4172bd8afadb5e1d7255614e142ec1e7be0bdabce3b0d502dd1059ebc0ab\n",
            "  Stored in directory: /root/.cache/pip/wheels/ab/09/4d/0d184230058e654eb1b04467dbc1292f00eaa186544604b471\n",
            "Successfully built pyspark\n",
            "Installing collected packages: py4j, pyspark\n",
            "Successfully installed py4j-0.10.7 pyspark-2.4.4\n"
          ],
          "name": "stdout"
        }
      ]
    },
    {
      "cell_type": "code",
      "metadata": {
        "id": "VC-cF1MOJCvu",
        "colab_type": "code",
        "colab": {}
      },
      "source": [
        "# Set up required environment variables\n",
        "\n",
        "import os\n",
        "os.environ[\"JAVA_HOME\"] = \"/usr/lib/jvm/java-8-openjdk-amd64\"\n",
        "os.environ[\"SPARK_HOME\"] = \"/content/spark-2.4.4-bin-hadoop2.7\""
      ],
      "execution_count": 0,
      "outputs": []
    },
    {
      "cell_type": "code",
      "metadata": {
        "id": "Ac7IYHQAJHVA",
        "colab_type": "code",
        "outputId": "bcf839ae-89e7-4384-993c-486d62080be7",
        "colab": {
          "base_uri": "https://localhost:8080/",
          "height": 125
        }
      },
      "source": [
        "# Point Colaboratory to Google Drive\n",
        "\n",
        "from google.colab import drive\n",
        "drive.mount('/content/gdrive')"
      ],
      "execution_count": 4,
      "outputs": [
        {
          "output_type": "stream",
          "text": [
            "Go to this URL in a browser: https://accounts.google.com/o/oauth2/auth?client_id=947318989803-6bn6qk8qdgf4n4g3pfee6491hc0brc4i.apps.googleusercontent.com&redirect_uri=urn%3aietf%3awg%3aoauth%3a2.0%3aoob&response_type=code&scope=email%20https%3a%2f%2fwww.googleapis.com%2fauth%2fdocs.test%20https%3a%2f%2fwww.googleapis.com%2fauth%2fdrive%20https%3a%2f%2fwww.googleapis.com%2fauth%2fdrive.photos.readonly%20https%3a%2f%2fwww.googleapis.com%2fauth%2fpeopleapi.readonly\n",
            "\n",
            "Enter your authorization code:\n",
            "··········\n",
            "Mounted at /content/gdrive\n"
          ],
          "name": "stdout"
        }
      ]
    },
    {
      "cell_type": "code",
      "metadata": {
        "id": "UMRIotL2JJ-k",
        "colab_type": "code",
        "colab": {}
      },
      "source": [
        "from pyspark import SparkContext\n",
        "from pyspark.sql import SparkSession\n",
        "\n",
        "from pyspark.ml import Pipeline\n",
        "from pyspark.ml.regression import LinearRegression\n",
        "from pyspark.ml.regression import RandomForestRegressor\n",
        "from pyspark.ml.evaluation import RegressionEvaluator\n",
        "\n",
        "from pyspark.sql import functions as F\n",
        "from pyspark.sql.functions import isnan, when, count, col, create_map, lit\n",
        "from pyspark.sql.functions import month, dayofweek, weekofyear, hour, minute\n",
        "from pyspark.sql.functions import monotonically_increasing_id\n",
        "from pyspark.sql.types import DateType, TimestampType\n",
        "\n",
        "from datetime import datetime, date, timedelta\n",
        "from itertools import chain\n",
        "import random\n",
        "import time"
      ],
      "execution_count": 0,
      "outputs": []
    },
    {
      "cell_type": "code",
      "metadata": {
        "id": "WU0T4_oWMK4Z",
        "colab_type": "code",
        "colab": {}
      },
      "source": [
        "#ARR_JSON_PATH = f\"/content/gdrive/My Drive/Colab Datasets/flights_data/arrivals/{date.today()}.json\"\n",
        "# for testing\n",
        "ARR_JSON_PATH = \"/content/gdrive/My Drive/Colab Datasets/flights_data/arrivals/2020-01-17.json\"\n",
        "\n",
        "#DEP_JSON_PATH = f\"/content/gdrive/My Drive/Colab Datasets/flights_data/departures/{date.today()}.json\"\n",
        "DEP_JSON_PATH = f\"/content/gdrive/My Drive/Colab Datasets/flights_data/departures/2020-01-17.json\"\n",
        "\n",
        "#WEATH_JSON_PATH = f\"/content/gdrive/My Drive/Colab Datasets/flights_data/weather/{date.today()}.json\"\n",
        "WEATH_JSON_PATH = f\"/content/gdrive/My Drive/Colab Datasets/flights_data/weather/2020-01-17.json\"\n",
        "\n",
        "APP_NAME = 'Flight Delay Predictor'\n",
        "SPARK_URL = 'local[*]'\n",
        "RANDOM_SEED = 263646\n",
        "TRAINING_DATA_RATIO = 0.7"
      ],
      "execution_count": 0,
      "outputs": []
    },
    {
      "cell_type": "code",
      "metadata": {
        "id": "fNHzaNf2iwCc",
        "colab_type": "code",
        "colab": {}
      },
      "source": [
        "spark = SparkSession.builder.appName(APP_NAME).master(SPARK_URL).getOrCreate()"
      ],
      "execution_count": 0,
      "outputs": []
    },
    {
      "cell_type": "code",
      "metadata": {
        "id": "6L0XNeJ_jahq",
        "colab_type": "code",
        "outputId": "cecc32ee-c434-4f31-b95c-d46235ccad2a",
        "colab": {
          "base_uri": "https://localhost:8080/",
          "height": 232
        }
      },
      "source": [
        "df_arr = spark.read.json(ARR_JSON_PATH)\n",
        "df_arr.show(5)"
      ],
      "execution_count": 43,
      "outputs": [
        {
          "output_type": "stream",
          "text": [
            "+--------------------+--------------------+--------------------+-------------+--------------------+--------------------+----------------------+--------------------+---------------------+--------------------+------------------+----------+------------+--------------------+--------------------+------+\n",
            "|    airportResources|arrivalAirportFsCode|         arrivalDate|carrierFsCode|          codeshares|              delays|departureAirportFsCode|       departureDate|divertedAirportFsCode|     flightDurations|   flightEquipment|  flightId|flightNumber|    operationalTimes|            schedule|status|\n",
            "+--------------------+--------------------+--------------------+-------------+--------------------+--------------------+----------------------+--------------------+---------------------+--------------------+------------------+----------+------------+--------------------+--------------------+------+\n",
            "|      [, TBIT,, C9,]|                 LAX|[2020-01-17T13:10...|           QR|     [[3515, UL, L]]|      [, 13, 52, 60]|                   DOH|[2020-01-17T07:45...|                 null|[, 1021, 985,, 10...|[77L, 77L, A7-BBA]|1028199581|         739|[, [2020-01-17T08...|  [[], J, , RJY, []]|     A|\n",
            "|     [, TBIT,, 8, 1]|                 LAX|[2020-01-17T13:15...|           QF|[[7328, AA, L], [...|[205, 247, 226, 240]|                   SYD|[2020-01-17T18:25...|                 null|[, 763, 830, 57, ...|[388, 388, VH-OQJ]|1028197993|          17|[, [2020-01-17T22...| [[], J, , RFJY, []]|     A|\n",
            "| [, TBIT, D6, 30, D]|                 LAX|[2020-01-17T13:50...|           SU|                  []|          [14, 23,,]|                   SVO|[2020-01-17T12:00...|                 null|[, 745, 770, 15, ...|[332, 332, VQ-BBE]|1028204787|         106|[, [2020-01-17T11...|  [[], J, , RJY, []]|     A|\n",
            "|    [, TBIT,, 18, I]|                 LAX|[2020-01-17T14:00...|           NZ|[[6091, AC, L], [...|       [, 7, 17, 25]|                   AKL|[2020-01-17T22:55...|                 null|[, 681, 725, 34, ...|[77W, 77W, ZK-OKS]|1028193159|           2|[, [2020-01-17T23...|[[[1028193174, LH...|     A|\n",
            "|[, TBIT, TBIT, 17...|                 LAX|[2020-01-17T14:40...|           AA|     [[1622, CZ, L]]|               [,,,]|                   PEK|[2020-01-17T18:30...|                 null|[, 683, 730, 10, ...|[788, 788, N813AN]|1028129626|         180|[, [2020-01-17T18...| [[], J, , RFJY, []]|     A|\n",
            "+--------------------+--------------------+--------------------+-------------+--------------------+--------------------+----------------------+--------------------+---------------------+--------------------+------------------+----------+------------+--------------------+--------------------+------+\n",
            "only showing top 5 rows\n",
            "\n"
          ],
          "name": "stdout"
        }
      ]
    },
    {
      "cell_type": "markdown",
      "metadata": {
        "id": "U7CImS0RqxqG",
        "colab_type": "text"
      },
      "source": [
        "The data in a little more detail."
      ]
    },
    {
      "cell_type": "code",
      "metadata": {
        "id": "gi16LYxjp3B4",
        "colab_type": "code",
        "colab": {}
      },
      "source": [
        "#df_arr.head(5)"
      ],
      "execution_count": 0,
      "outputs": []
    },
    {
      "cell_type": "markdown",
      "metadata": {
        "id": "pU1M4g0Hq4nn",
        "colab_type": "text"
      },
      "source": [
        "Let's see how many flights arrived at LAX in the past 24 hours."
      ]
    },
    {
      "cell_type": "code",
      "metadata": {
        "id": "Csdq7Ta7qEVA",
        "colab_type": "code",
        "outputId": "c7dce465-1f1d-4758-8494-9b662fb2c068",
        "colab": {
          "base_uri": "https://localhost:8080/",
          "height": 34
        }
      },
      "source": [
        "df_arr.count()"
      ],
      "execution_count": 10,
      "outputs": [
        {
          "output_type": "execute_result",
          "data": {
            "text/plain": [
              "337"
            ]
          },
          "metadata": {
            "tags": []
          },
          "execution_count": 10
        }
      ]
    },
    {
      "cell_type": "markdown",
      "metadata": {
        "id": "5Rg_7TequuZ6",
        "colab_type": "text"
      },
      "source": [
        "Let's first drop all the unnecessary columns."
      ]
    },
    {
      "cell_type": "code",
      "metadata": {
        "id": "lrqU_5lzutys",
        "colab_type": "code",
        "colab": {}
      },
      "source": [
        "df_arr = df_arr.drop('airportResources', 'codeshares', 'departureDate',\n",
        "            'divertedAirportFsCode', 'operationalTimes', 'schedule', 'status',\n",
        "            'flightId', 'flightNumber')\n",
        "#df_arr.show(5)"
      ],
      "execution_count": 0,
      "outputs": []
    },
    {
      "cell_type": "code",
      "metadata": {
        "id": "rUau0XFl_bUT",
        "colab_type": "code",
        "outputId": "8634c2e9-158b-44ab-d330-73f7257bee92",
        "colab": {
          "base_uri": "https://localhost:8080/",
          "height": 443
        }
      },
      "source": [
        "df_arr.printSchema()"
      ],
      "execution_count": 12,
      "outputs": [
        {
          "output_type": "stream",
          "text": [
            "root\n",
            " |-- arrivalAirportFsCode: string (nullable = true)\n",
            " |-- arrivalDate: struct (nullable = true)\n",
            " |    |-- dateLocal: string (nullable = true)\n",
            " |    |-- dateUtc: string (nullable = true)\n",
            " |-- carrierFsCode: string (nullable = true)\n",
            " |-- delays: struct (nullable = true)\n",
            " |    |-- arrivalGateDelayMinutes: long (nullable = true)\n",
            " |    |-- arrivalRunwayDelayMinutes: long (nullable = true)\n",
            " |    |-- departureGateDelayMinutes: long (nullable = true)\n",
            " |    |-- departureRunwayDelayMinutes: long (nullable = true)\n",
            " |-- departureAirportFsCode: string (nullable = true)\n",
            " |-- flightDurations: struct (nullable = true)\n",
            " |    |-- blockMinutes: long (nullable = true)\n",
            " |    |-- scheduledAirMinutes: long (nullable = true)\n",
            " |    |-- scheduledBlockMinutes: long (nullable = true)\n",
            " |    |-- scheduledTaxiInMinutes: long (nullable = true)\n",
            " |    |-- scheduledTaxiOutMinutes: long (nullable = true)\n",
            " |    |-- taxiOutMinutes: long (nullable = true)\n",
            " |-- flightEquipment: struct (nullable = true)\n",
            " |    |-- actualEquipmentIataCode: string (nullable = true)\n",
            " |    |-- scheduledEquipmentIataCode: string (nullable = true)\n",
            " |    |-- tailNumber: string (nullable = true)\n",
            "\n"
          ],
          "name": "stdout"
        }
      ]
    },
    {
      "cell_type": "markdown",
      "metadata": {
        "id": "S0y_wN53x6LV",
        "colab_type": "text"
      },
      "source": [
        "Let's explore the dataframe a little bit here."
      ]
    },
    {
      "cell_type": "code",
      "metadata": {
        "id": "zn-3Oz5Rx5td",
        "colab_type": "code",
        "outputId": "0b61ba3e-a556-46ef-9452-b0b7f53491d0",
        "colab": {
          "base_uri": "https://localhost:8080/",
          "height": 478
        }
      },
      "source": [
        "df_arr.groupBy('carrierFsCode').count().orderBy('count', ascending=False).show()"
      ],
      "execution_count": 13,
      "outputs": [
        {
          "output_type": "stream",
          "text": [
            "+-------------+-----+\n",
            "|carrierFsCode|count|\n",
            "+-------------+-----+\n",
            "|           DL|   48|\n",
            "|           AA|   45|\n",
            "|           OO|   44|\n",
            "|           WN|   42|\n",
            "|           CP|   30|\n",
            "|           UA|   25|\n",
            "|           AS|   24|\n",
            "|           NK|    6|\n",
            "|           B6|    6|\n",
            "|           QX|    5|\n",
            "|           AC|    4|\n",
            "|           Y4|    3|\n",
            "|           WS|    3|\n",
            "|           BA|    3|\n",
            "|           QF|    3|\n",
            "|           K4|    2|\n",
            "|           BR|    2|\n",
            "|          BAI|    2|\n",
            "|           NZ|    2|\n",
            "|           1I|    2|\n",
            "+-------------+-----+\n",
            "only showing top 20 rows\n",
            "\n"
          ],
          "name": "stdout"
        }
      ]
    },
    {
      "cell_type": "markdown",
      "metadata": {
        "id": "cgq0VGMM2hbB",
        "colab_type": "text"
      },
      "source": [
        "Let's see what the busiest time of the day is for LAX next. But before we do that, I'm going to separate out the arrival time from 'arrivalDate'."
      ]
    },
    {
      "cell_type": "code",
      "metadata": {
        "id": "eosnJa1K3Crk",
        "colab_type": "code",
        "colab": {}
      },
      "source": [
        "# first need to extract the date info from the arrivalDate struct\n",
        "df_arr = df_arr.withColumn('localDate', col('arrivalDate').getField('dateLocal'))\n",
        "#df_arr.select('localDate').show(5)\n",
        "\n",
        "df_arr = df_arr.withColumn('localTimeStamp', df_arr['localDate'].cast(TimestampType()))\n",
        "#df_arr.select('localTimeStamp').show(5)"
      ],
      "execution_count": 0,
      "outputs": []
    },
    {
      "cell_type": "markdown",
      "metadata": {
        "id": "D70jFpglPfT3",
        "colab_type": "text"
      },
      "source": [
        "Give each time increment its own column."
      ]
    },
    {
      "cell_type": "code",
      "metadata": {
        "id": "25bzGIpM2t8a",
        "colab_type": "code",
        "colab": {}
      },
      "source": [
        "#df_arr.withColumn('date', col('localTimeStamp').cast('date')).withColumn('hour', hour(col('localTimeStamp'))).withColumn('minute', minute(col('localTimeStamp'))).show(5)"
      ],
      "execution_count": 0,
      "outputs": []
    },
    {
      "cell_type": "markdown",
      "metadata": {
        "id": "a_FLYh8EWUq3",
        "colab_type": "text"
      },
      "source": [
        "Since travel tends to change with the time of year, let's also add on weekOfYear and dayOfWeek as well."
      ]
    },
    {
      "cell_type": "code",
      "metadata": {
        "id": "lokV6JbLWUM0",
        "colab_type": "code",
        "colab": {}
      },
      "source": [
        "#df_arr.withColumn('weekOfYear', weekofyear(col('localTimeStamp'))).withColumn('dayOfWeek', dayofweek(col('localTimeStamp'))).show(5)"
      ],
      "execution_count": 0,
      "outputs": []
    },
    {
      "cell_type": "markdown",
      "metadata": {
        "id": "deuSA2sQcNGe",
        "colab_type": "text"
      },
      "source": [
        "Delays column, the column that contains our target data, is an array of four values. They are minutes of delay in different stages of the flight but, since travelers don't really care where the delays occur, but rather how long the delays are, let's sum up the numbers to get one total delayed minutes."
      ]
    },
    {
      "cell_type": "code",
      "metadata": {
        "id": "HfcIPqAKA92U",
        "colab_type": "code",
        "colab": {}
      },
      "source": [
        "# a df with just the delay data\n",
        "delay_df = df_arr.select('delays.*').na.fill(0)\n",
        "#delay_df.show(5)"
      ],
      "execution_count": 0,
      "outputs": []
    },
    {
      "cell_type": "code",
      "metadata": {
        "id": "4cG12MmNc81J",
        "colab_type": "code",
        "colab": {}
      },
      "source": [
        "# create a new column in main arrival df with total delay minutes\n",
        "delay_df = delay_df.withColumn('totalDelay', sum(delay_df[col] for col in delay_df.columns))\n",
        "delay_df = delay_df.select('*').withColumn('d_id', monotonically_increasing_id())\n",
        "\n",
        "#delay_df.show(5)\n"
      ],
      "execution_count": 0,
      "outputs": []
    },
    {
      "cell_type": "markdown",
      "metadata": {
        "id": "B_VNT9Ng07hz",
        "colab_type": "text"
      },
      "source": [
        "Now let's merge this table with the main table."
      ]
    },
    {
      "cell_type": "code",
      "metadata": {
        "id": "TZAckuVs1G2q",
        "colab_type": "code",
        "colab": {}
      },
      "source": [
        "# In order to join two dataframes, we need to create an index column to join the two \n",
        "# dataframes on\n",
        "df_arr = df_arr.select('*').withColumn('id', monotonically_increasing_id())\n",
        "\n",
        "df_arr = df_arr.join(delay_df, col('id') == col('d_id'), how='leftouter').drop('d_id')\n",
        "#df_arr.show(5)"
      ],
      "execution_count": 0,
      "outputs": []
    },
    {
      "cell_type": "markdown",
      "metadata": {
        "id": "A_3zmAdILcYR",
        "colab_type": "text"
      },
      "source": [
        "Now let's do the same for flightDurations and flightEquipment."
      ]
    },
    {
      "cell_type": "code",
      "metadata": {
        "id": "1tASHvAfUSQC",
        "colab_type": "code",
        "colab": {}
      },
      "source": [
        "eq_df = df_arr.select('flightEquipment.*').drop('tailNumber')\n",
        "#eq_df.show(5)"
      ],
      "execution_count": 0,
      "outputs": []
    },
    {
      "cell_type": "markdown",
      "metadata": {
        "id": "ewUHBCkbnyNn",
        "colab_type": "text"
      },
      "source": [
        "When it comes to equipment, when it is changed it might cause a delay so I'm going to drop the tailNumber and create another column that shows whether there was a change in equipment."
      ]
    },
    {
      "cell_type": "code",
      "metadata": {
        "id": "gZ-4YTuqnxXP",
        "colab_type": "code",
        "colab": {}
      },
      "source": [
        "eq_df = eq_df.withColumn('eqChanged', F.when(F.col('actualEquipmentIataCode') == F.col('scheduledEquipmentIatacode'), 0)\n",
        "    .otherwise(1))\n",
        "\n",
        "eq_df = eq_df.select('*').withColumn('e_id', monotonically_increasing_id())\n",
        "#eq_df.show(5)"
      ],
      "execution_count": 0,
      "outputs": []
    },
    {
      "cell_type": "markdown",
      "metadata": {
        "id": "Ug_Wt5tDsDz8",
        "colab_type": "text"
      },
      "source": [
        "And lastly, let's just some up the flight durations."
      ]
    },
    {
      "cell_type": "code",
      "metadata": {
        "id": "JKJg7lb7sCRp",
        "colab_type": "code",
        "colab": {}
      },
      "source": [
        "fd_df = df_arr.select('flightDurations.*').na.fill(0)\n",
        "fd_df = fd_df.withColumn('totalDuration', sum(fd_df[col] for col in fd_df.columns))\n",
        "fd_df = fd_df.select('*').withColumn('f_id', monotonically_increasing_id())\n",
        "#fd_df.show(5)"
      ],
      "execution_count": 0,
      "outputs": []
    },
    {
      "cell_type": "markdown",
      "metadata": {
        "id": "FZq-vx4Ythrk",
        "colab_type": "text"
      },
      "source": [
        "Put all the tables together."
      ]
    },
    {
      "cell_type": "code",
      "metadata": {
        "id": "838qwLZztnyI",
        "colab_type": "code",
        "colab": {}
      },
      "source": [
        "df_arr = df_arr.join(eq_df, col('id') == col('e_id'), how='leftouter').drop('e_id').join(fd_df, col('id') == col('f_id'), how='leftouter').drop('f_id')\n",
        "#df_arr.orderBy('id').show(5)"
      ],
      "execution_count": 0,
      "outputs": []
    },
    {
      "cell_type": "code",
      "metadata": {
        "id": "7QDZs7KdvG8X",
        "colab_type": "code",
        "outputId": "d45efa35-662d-437b-f627-576af43b7a18",
        "colab": {
          "base_uri": "https://localhost:8080/",
          "height": 34
        }
      },
      "source": [
        "df_arr.count()"
      ],
      "execution_count": 25,
      "outputs": [
        {
          "output_type": "execute_result",
          "data": {
            "text/plain": [
              "337"
            ]
          },
          "metadata": {
            "tags": []
          },
          "execution_count": 25
        }
      ]
    },
    {
      "cell_type": "markdown",
      "metadata": {
        "id": "tXq828aK3HF4",
        "colab_type": "text"
      },
      "source": [
        "We now need to repeat the same process for the departing flights data. It might be better if I wrote a function that does this given a dataframe."
      ]
    },
    {
      "cell_type": "code",
      "metadata": {
        "id": "jZKZ6Tjl76qX",
        "colab_type": "code",
        "colab": {}
      },
      "source": [
        "def format_flight_data(df):\n",
        "    # lets' first index the df since we know we will be needing it later\n",
        "    df = df.select('*').withColumn('id', monotonically_increasing_id())\n",
        "\n",
        "    ##### timestamp #####\n",
        "    # first need to extract the date info from the arrivalDate struct\n",
        "    df = df.withColumn('localDate', col('arrivalDate').getField('dateLocal'))\n",
        "    df = df.withColumn('localTimeStamp', df['localDate'].cast(TimestampType()))\n",
        "    df = df.withColumn('date', col('localTimeStamp').cast('date'))\n",
        "    df = df.withColumn('hour', hour(col('localTimeStamp')))\n",
        "    df = df.withColumn('minute', minute(col('localTimeStamp')))\n",
        "    df = df.withColumn('weekOfYear', weekofyear(col('localTimeStamp')))\n",
        "    df = df.withColumn('dayOfWeek', dayofweek(col('localTimeStamp')))\n",
        "\n",
        "    ##### delays #####\n",
        "    # fill all null values with 0\n",
        "    delay_df = df.select('delays.*').na.fill(0)\n",
        "    # create a new column in main arrival df with total delay minutes\n",
        "    delay_df = delay_df.withColumn('totalDelay', sum(delay_df[col] for col in delay_df.columns))\n",
        "    delay_df = delay_df.select('*').withColumn('d_id', monotonically_increasing_id())\n",
        "\n",
        "    ##### equipment #####\n",
        "    eq_df = df.select('flightEquipment.*').drop('tailNumber')\n",
        "    eq_df = eq_df.withColumn('eqChanged', F.when(F.col('actualEquipmentIataCode') == F.col('scheduledEquipmentIatacode'), 0).otherwise(1))\n",
        "    eq_df = eq_df.select('*').withColumn('e_id', monotonically_increasing_id())\n",
        "\n",
        "    ##### duration #####\n",
        "    fd_df = df.select('flightDurations.*').na.fill(0)\n",
        "    fd_df = fd_df.withColumn('totalDuration', sum(fd_df[col] for col in fd_df.columns))\n",
        "    fd_df = fd_df.select('*').withColumn('f_id', monotonically_increasing_id())\n",
        "\n",
        "    # join all dataframes\n",
        "    formatted_df = df.join(delay_df, col('id')==col('d_id'), how='leftouter').drop('d_id')\n",
        "    formatted_df = formatted_df.join(eq_df, col('id')==col('e_id'), how='leftouter').drop('e_id')\n",
        "    formatted_df = formatted_df.join(fd_df, col('id')==col('f_id'), how='leftouter').drop('f_id')\n",
        "\n",
        "    # drop extraneous columns\n",
        "    formatted_df = formatted_df.drop('airportResources', 'codeshares', 'departureDate',\n",
        "            'divertedAirportFsCode', 'operationalTimes', 'schedule', 'status',\n",
        "            'flightId', 'flightNumber')\n",
        "\n",
        "    return formatted_df\n",
        "\n",
        "    "
      ],
      "execution_count": 0,
      "outputs": []
    },
    {
      "cell_type": "code",
      "metadata": {
        "id": "HbtYuj8McbYN",
        "colab_type": "code",
        "outputId": "3e0484f6-0da1-48c1-cc9e-ba341dd54f09",
        "colab": {
          "base_uri": "https://localhost:8080/",
          "height": 232
        }
      },
      "source": [
        "df_arr_fmtd = format_flight_data(df_arr)\n",
        "df_arr_fmtd.show(5)"
      ],
      "execution_count": 44,
      "outputs": [
        {
          "output_type": "stream",
          "text": [
            "+--------------------+--------------------+-------------+--------------------+----------------------+--------------------+------------------+---+--------------------+-------------------+----------+----+------+----------+---------+-----------------------+-------------------------+-------------------------+---------------------------+----------+-----------------------+--------------------------+---------+------------+-------------------+---------------------+----------------------+-----------------------+--------------+-------------+\n",
            "|arrivalAirportFsCode|         arrivalDate|carrierFsCode|              delays|departureAirportFsCode|     flightDurations|   flightEquipment| id|           localDate|     localTimeStamp|      date|hour|minute|weekOfYear|dayOfWeek|arrivalGateDelayMinutes|arrivalRunwayDelayMinutes|departureGateDelayMinutes|departureRunwayDelayMinutes|totalDelay|actualEquipmentIataCode|scheduledEquipmentIataCode|eqChanged|blockMinutes|scheduledAirMinutes|scheduledBlockMinutes|scheduledTaxiInMinutes|scheduledTaxiOutMinutes|taxiOutMinutes|totalDuration|\n",
            "+--------------------+--------------------+-------------+--------------------+----------------------+--------------------+------------------+---+--------------------+-------------------+----------+----+------+----------+---------+-----------------------+-------------------------+-------------------------+---------------------------+----------+-----------------------+--------------------------+---------+------------+-------------------+---------------------+----------------------+-----------------------+--------------+-------------+\n",
            "|                 LAX|[2020-01-17T13:10...|           QR|      [, 13, 52, 60]|                   DOH|[, 1021, 985,, 10...|[77L, 77L, A7-BBA]|  0|2020-01-17T13:10:...|2020-01-17 13:10:00|2020-01-17|  13|    10|         3|        6|                      0|                       13|                       52|                         60|       125|                    77L|                       77L|        0|           0|               1021|                  985|                     0|                     10|            18|         2034|\n",
            "|                 LAX|[2020-01-17T13:15...|           QF|[205, 247, 226, 240]|                   SYD|[, 763, 830, 57, ...|[388, 388, VH-OQJ]|  1|2020-01-17T13:15:...|2020-01-17 13:15:00|2020-01-17|  13|    15|         3|        6|                    205|                      247|                      226|                        240|       918|                    388|                       388|        0|           0|                763|                  830|                    57|                     10|            24|         1684|\n",
            "|                 LAX|[2020-01-17T13:50...|           SU|          [14, 23,,]|                   SVO|[, 745, 770, 15, ...|[332, 332, VQ-BBE]|  2|2020-01-17T13:50:...|2020-01-17 13:50:00|2020-01-17|  13|    50|         3|        6|                     14|                       23|                        0|                          0|        37|                    332|                       332|        0|           0|                745|                  770|                    15|                     10|            23|         1563|\n",
            "|                 LAX|[2020-01-17T14:00...|           NZ|       [, 7, 17, 25]|                   AKL|[, 681, 725, 34, ...|[77W, 77W, ZK-OKS]|  3|2020-01-17T14:00:...|2020-01-17 14:00:00|2020-01-17|  14|     0|         3|        6|                      0|                        7|                       17|                         25|        49|                    77W|                       77W|        0|           0|                681|                  725|                    34|                     10|            18|         1468|\n",
            "|                 LAX|[2020-01-17T14:40...|           AA|               [,,,]|                   PEK|[, 683, 730, 10, ...|[788, 788, N813AN]|  4|2020-01-17T14:40:...|2020-01-17 14:40:00|2020-01-17|  14|    40|         3|        6|                      0|                        0|                        0|                          0|         0|                    788|                       788|        0|           0|                683|                  730|                    10|                     37|            22|         1482|\n",
            "+--------------------+--------------------+-------------+--------------------+----------------------+--------------------+------------------+---+--------------------+-------------------+----------+----+------+----------+---------+-----------------------+-------------------------+-------------------------+---------------------------+----------+-----------------------+--------------------------+---------+------------+-------------------+---------------------+----------------------+-----------------------+--------------+-------------+\n",
            "only showing top 5 rows\n",
            "\n"
          ],
          "name": "stdout"
        }
      ]
    },
    {
      "cell_type": "markdown",
      "metadata": {
        "id": "jtmw06bIuSYb",
        "colab_type": "text"
      },
      "source": [
        "Nice. Now let's format the departing dataframe."
      ]
    },
    {
      "cell_type": "code",
      "metadata": {
        "id": "plGThBfVuaFg",
        "colab_type": "code",
        "outputId": "d48c153c-7335-4337-a24e-dc82cfebb845",
        "colab": {
          "base_uri": "https://localhost:8080/",
          "height": 232
        }
      },
      "source": [
        "df_dep = spark.read.json(DEP_JSON_PATH)\n",
        "df_dep_fmtd = format_flight_data(df_dep)\n",
        "df_dep_fmtd.show(5)"
      ],
      "execution_count": 45,
      "outputs": [
        {
          "output_type": "stream",
          "text": [
            "+--------------------+--------------------+-------------+----------------+----------------------+-----------------+------------------+---+--------------------+-------------------+----------+----+------+----------+---------+-----------------------+-------------------------+-------------------------+---------------------------+----------+-----------------------+--------------------------+---------+-------------------+---------------------+----------------------+-----------------------+-------------+\n",
            "|arrivalAirportFsCode|         arrivalDate|carrierFsCode|          delays|departureAirportFsCode|  flightDurations|   flightEquipment| id|           localDate|     localTimeStamp|      date|hour|minute|weekOfYear|dayOfWeek|arrivalGateDelayMinutes|arrivalRunwayDelayMinutes|departureGateDelayMinutes|departureRunwayDelayMinutes|totalDelay|actualEquipmentIataCode|scheduledEquipmentIataCode|eqChanged|scheduledAirMinutes|scheduledBlockMinutes|scheduledTaxiInMinutes|scheduledTaxiOutMinutes|totalDuration|\n",
            "+--------------------+--------------------+-------------+----------------+----------------------+-----------------+------------------+---+--------------------+-------------------+----------+----+------+----------+---------+-----------------------+-------------------------+-------------------------+---------------------------+----------+-----------------------+--------------------------+---------+-------------------+---------------------+----------------------+-----------------------+-------------+\n",
            "|                 DFW|[2020-01-17T15:56...|           NK|           [,,,]|                   LAX| [151, 181,, 383]|       [32S, 32A,]|  0|2020-01-17T15:56:...|2020-01-17 15:56:00|2020-01-17|  15|    56|         3|        6|                      0|                        0|                        0|                          0|         0|                    32S|                       32A|        1|                151|                  181|                     0|                    383|          715|\n",
            "|                 VNY|[2020-01-17T14:12...|          JTL|           [,,,]|                   LAX|       [12,,, 30]|    [GR2,, N990JT]|  1|2020-01-17T14:12:...|2020-01-17 14:12:00|2020-01-17|  14|    12|         3|        6|                      0|                        0|                        0|                          0|         0|                    GR2|                      null|        1|                 12|                    0|                     0|                     30|           42|\n",
            "|                 SMF|[2020-01-17T15:00...|           WN|   [20,, 20, 15]|                   LAX|    [62, 90,, 31]|[73W, 73W, N711HK]|  2|2020-01-17T15:00:...|2020-01-17 15:00:00|2020-01-17|  15|     0|         3|        6|                     20|                        0|                       20|                         15|        55|                    73W|                       73W|        0|                 62|                   90|                     0|                     31|          183|\n",
            "|                 AUS|[2020-01-17T18:29...|           AA|[25, 24, 25, 25]|                   LAX|[152, 174, 6, 16]|[32B, 321, N134AN]|  3|2020-01-17T18:29:...|2020-01-17 18:29:00|2020-01-17|  18|    29|         3|        6|                     25|                       24|                       25|                         25|        99|                    32B|                       321|        1|                152|                  174|                     6|                     16|          348|\n",
            "|                 SAN|[2020-01-17T14:37...|           OO|           [,,,]|                   LAX|  [29, 54, 3, 22]|[CR7, CR7, N732SK]|  4|2020-01-17T14:37:...|2020-01-17 14:37:00|2020-01-17|  14|    37|         3|        6|                      0|                        0|                        0|                          0|         0|                    CR7|                       CR7|        0|                 29|                   54|                     3|                     22|          108|\n",
            "+--------------------+--------------------+-------------+----------------+----------------------+-----------------+------------------+---+--------------------+-------------------+----------+----+------+----------+---------+-----------------------+-------------------------+-------------------------+---------------------------+----------+-----------------------+--------------------------+---------+-------------------+---------------------+----------------------+-----------------------+-------------+\n",
            "only showing top 5 rows\n",
            "\n"
          ],
          "name": "stdout"
        }
      ]
    },
    {
      "cell_type": "markdown",
      "metadata": {
        "id": "x-eNBPR04GaV",
        "colab_type": "text"
      },
      "source": [
        "Now that we have a formatted dataframe for both arriving and departing flights, we need to join the weather conditions for each flight. The data from the DarkSky API contains within it a timestamp but it is in UNIX time. So now we just need to convert it so that it matches up with the formatted dataframe and do an inner join."
      ]
    },
    {
      "cell_type": "code",
      "metadata": {
        "id": "mwG5q9RvpJ_2",
        "colab_type": "code",
        "outputId": "65dc6e16-f4b7-4c3b-b6c5-b2ef1a8ed5d9",
        "colab": {
          "base_uri": "https://localhost:8080/",
          "height": 232
        }
      },
      "source": [
        "df_weath = spark.read.json(WEATH_JSON_PATH)\n",
        "df_weath.show(5)"
      ],
      "execution_count": 46,
      "outputs": [
        {
          "output_type": "stream",
          "text": [
            "+-------------------+----------+--------+--------+-------------------+-----+---------------+-----------------+----------+--------+-------------------+-----------+----------+-------+----------+-----------+--------+---------+\n",
            "|apparentTemperature|cloudCover|dewPoint|humidity|               icon|ozone|precipIntensity|precipProbability|precipType|pressure|            summary|temperature|      time|uvIndex|visibility|windBearing|windGust|windSpeed|\n",
            "+-------------------+----------+--------+--------+-------------------+-----+---------------+-----------------+----------+--------+-------------------+-----------+----------+-------+----------+-----------+--------+---------+\n",
            "|              53.33|      0.93|   48.75|    0.84|               rain|306.5|         0.0474|             0.87|      rain|  1020.0|         Light Rain|      53.33|1579248000|      0|      4.94|        118|    9.85|     7.89|\n",
            "|               53.2|      0.88|   49.85|    0.88|               rain|303.5|         0.0262|              0.5|      rain|  1019.7|Possible Light Rain|       53.2|1579251600|      0|      10.0|         67|     9.0|     5.22|\n",
            "|              52.06|      0.86|   48.89|    0.89|               rain|300.2|         0.0187|             0.29|      rain|  1020.3|Possible Light Rain|      52.06|1579255200|      0|      10.0|        133|     8.5|     5.37|\n",
            "|              51.94|      0.54|   47.35|    0.84|partly-cloudy-night|296.7|         0.0015|             0.04|      rain|  1020.4|      Partly Cloudy|      51.94|1579258800|      0|      10.0|         48|    8.29|      6.3|\n",
            "|              51.57|      0.53|   47.34|    0.85|partly-cloudy-night|293.1|            0.0|              0.0|      null|  1020.3|      Partly Cloudy|      51.57|1579262400|      0|      10.0|          3|    7.29|     6.16|\n",
            "+-------------------+----------+--------+--------+-------------------+-----+---------------+-----------------+----------+--------+-------------------+-----------+----------+-------+----------+-----------+--------+---------+\n",
            "only showing top 5 rows\n",
            "\n"
          ],
          "name": "stdout"
        }
      ]
    },
    {
      "cell_type": "code",
      "metadata": {
        "id": "7mQ3fzW9MKIt",
        "colab_type": "code",
        "outputId": "a73b202c-98b6-4d07-8c77-1bdcdd1178f5",
        "colab": {
          "base_uri": "https://localhost:8080/",
          "height": 232
        }
      },
      "source": [
        "df_weath = df_weath.withColumn('f_time', df_weath['time'].cast(TimestampType()))\n",
        "df_weath.show(5)"
      ],
      "execution_count": 47,
      "outputs": [
        {
          "output_type": "stream",
          "text": [
            "+-------------------+----------+--------+--------+-------------------+-----+---------------+-----------------+----------+--------+-------------------+-----------+----------+-------+----------+-----------+--------+---------+-------------------+\n",
            "|apparentTemperature|cloudCover|dewPoint|humidity|               icon|ozone|precipIntensity|precipProbability|precipType|pressure|            summary|temperature|      time|uvIndex|visibility|windBearing|windGust|windSpeed|             f_time|\n",
            "+-------------------+----------+--------+--------+-------------------+-----+---------------+-----------------+----------+--------+-------------------+-----------+----------+-------+----------+-----------+--------+---------+-------------------+\n",
            "|              53.33|      0.93|   48.75|    0.84|               rain|306.5|         0.0474|             0.87|      rain|  1020.0|         Light Rain|      53.33|1579248000|      0|      4.94|        118|    9.85|     7.89|2020-01-17 08:00:00|\n",
            "|               53.2|      0.88|   49.85|    0.88|               rain|303.5|         0.0262|              0.5|      rain|  1019.7|Possible Light Rain|       53.2|1579251600|      0|      10.0|         67|     9.0|     5.22|2020-01-17 09:00:00|\n",
            "|              52.06|      0.86|   48.89|    0.89|               rain|300.2|         0.0187|             0.29|      rain|  1020.3|Possible Light Rain|      52.06|1579255200|      0|      10.0|        133|     8.5|     5.37|2020-01-17 10:00:00|\n",
            "|              51.94|      0.54|   47.35|    0.84|partly-cloudy-night|296.7|         0.0015|             0.04|      rain|  1020.4|      Partly Cloudy|      51.94|1579258800|      0|      10.0|         48|    8.29|      6.3|2020-01-17 11:00:00|\n",
            "|              51.57|      0.53|   47.34|    0.85|partly-cloudy-night|293.1|            0.0|              0.0|      null|  1020.3|      Partly Cloudy|      51.57|1579262400|      0|      10.0|          3|    7.29|     6.16|2020-01-17 12:00:00|\n",
            "+-------------------+----------+--------+--------+-------------------+-----+---------------+-----------------+----------+--------+-------------------+-----------+----------+-------+----------+-----------+--------+---------+-------------------+\n",
            "only showing top 5 rows\n",
            "\n"
          ],
          "name": "stdout"
        }
      ]
    },
    {
      "cell_type": "markdown",
      "metadata": {
        "id": "gaHSNWczBV1l",
        "colab_type": "text"
      },
      "source": [
        "Hmmm. Since the weather data is taken hourly, we now just need to match upto the hour."
      ]
    },
    {
      "cell_type": "code",
      "metadata": {
        "id": "Yrhc18FHBVeu",
        "colab_type": "code",
        "outputId": "659b3622-0c59-4afa-a690-3502a8090c82",
        "colab": {
          "base_uri": "https://localhost:8080/",
          "height": 232
        }
      },
      "source": [
        "# separate date and hour\n",
        "df_weath = df_weath.withColumn('w_date', col('f_time').cast('date'))\n",
        "df_weath = df_weath.withColumn('w_hour', hour(col('f_time')))\n",
        "df_weath.show(5)"
      ],
      "execution_count": 48,
      "outputs": [
        {
          "output_type": "stream",
          "text": [
            "+-------------------+----------+--------+--------+-------------------+-----+---------------+-----------------+----------+--------+-------------------+-----------+----------+-------+----------+-----------+--------+---------+-------------------+----------+------+\n",
            "|apparentTemperature|cloudCover|dewPoint|humidity|               icon|ozone|precipIntensity|precipProbability|precipType|pressure|            summary|temperature|      time|uvIndex|visibility|windBearing|windGust|windSpeed|             f_time|    w_date|w_hour|\n",
            "+-------------------+----------+--------+--------+-------------------+-----+---------------+-----------------+----------+--------+-------------------+-----------+----------+-------+----------+-----------+--------+---------+-------------------+----------+------+\n",
            "|              53.33|      0.93|   48.75|    0.84|               rain|306.5|         0.0474|             0.87|      rain|  1020.0|         Light Rain|      53.33|1579248000|      0|      4.94|        118|    9.85|     7.89|2020-01-17 08:00:00|2020-01-17|     8|\n",
            "|               53.2|      0.88|   49.85|    0.88|               rain|303.5|         0.0262|              0.5|      rain|  1019.7|Possible Light Rain|       53.2|1579251600|      0|      10.0|         67|     9.0|     5.22|2020-01-17 09:00:00|2020-01-17|     9|\n",
            "|              52.06|      0.86|   48.89|    0.89|               rain|300.2|         0.0187|             0.29|      rain|  1020.3|Possible Light Rain|      52.06|1579255200|      0|      10.0|        133|     8.5|     5.37|2020-01-17 10:00:00|2020-01-17|    10|\n",
            "|              51.94|      0.54|   47.35|    0.84|partly-cloudy-night|296.7|         0.0015|             0.04|      rain|  1020.4|      Partly Cloudy|      51.94|1579258800|      0|      10.0|         48|    8.29|      6.3|2020-01-17 11:00:00|2020-01-17|    11|\n",
            "|              51.57|      0.53|   47.34|    0.85|partly-cloudy-night|293.1|            0.0|              0.0|      null|  1020.3|      Partly Cloudy|      51.57|1579262400|      0|      10.0|          3|    7.29|     6.16|2020-01-17 12:00:00|2020-01-17|    12|\n",
            "+-------------------+----------+--------+--------+-------------------+-----+---------------+-----------------+----------+--------+-------------------+-----------+----------+-------+----------+-----------+--------+---------+-------------------+----------+------+\n",
            "only showing top 5 rows\n",
            "\n"
          ],
          "name": "stdout"
        }
      ]
    },
    {
      "cell_type": "markdown",
      "metadata": {
        "id": "JPKz6y92Gs60",
        "colab_type": "text"
      },
      "source": [
        "Now all that's left to do is inner join the weather data on both the date and hour columns."
      ]
    },
    {
      "cell_type": "code",
      "metadata": {
        "id": "mVq1TEUGA_HS",
        "colab_type": "code",
        "colab": {
          "base_uri": "https://localhost:8080/",
          "height": 232
        },
        "outputId": "1d5e2736-2ed1-4f1f-8754-6c7bbcdfb3af"
      },
      "source": [
        "df_arr_wthr = df_arr_fmtd.join(df_weath, (col('date')==col('w_date'))&(col('hour')==col('w_hour')), how='inner')\n",
        "df_arr_wthr = df_arr_wthr.drop('time', 'w_date', 'w_hour')\n",
        "df_arr_wthr.show(5)"
      ],
      "execution_count": 49,
      "outputs": [
        {
          "output_type": "stream",
          "text": [
            "+--------------------+--------------------+-------------+--------------------+----------------------+--------------------+------------------+---+--------------------+-------------------+----------+----+------+----------+---------+-----------------------+-------------------------+-------------------------+---------------------------+----------+-----------------------+--------------------------+---------+------------+-------------------+---------------------+----------------------+-----------------------+--------------+-------------+-------------------+----------+--------+--------+-------------------+-----+---------------+-----------------+----------+--------+-------------+-----------+-------+----------+-----------+--------+---------+-------------------+\n",
            "|arrivalAirportFsCode|         arrivalDate|carrierFsCode|              delays|departureAirportFsCode|     flightDurations|   flightEquipment| id|           localDate|     localTimeStamp|      date|hour|minute|weekOfYear|dayOfWeek|arrivalGateDelayMinutes|arrivalRunwayDelayMinutes|departureGateDelayMinutes|departureRunwayDelayMinutes|totalDelay|actualEquipmentIataCode|scheduledEquipmentIataCode|eqChanged|blockMinutes|scheduledAirMinutes|scheduledBlockMinutes|scheduledTaxiInMinutes|scheduledTaxiOutMinutes|taxiOutMinutes|totalDuration|apparentTemperature|cloudCover|dewPoint|humidity|               icon|ozone|precipIntensity|precipProbability|precipType|pressure|      summary|temperature|uvIndex|visibility|windBearing|windGust|windSpeed|             f_time|\n",
            "+--------------------+--------------------+-------------+--------------------+----------------------+--------------------+------------------+---+--------------------+-------------------+----------+----+------+----------+---------+-----------------------+-------------------------+-------------------------+---------------------------+----------+-----------------------+--------------------------+---------+------------+-------------------+---------------------+----------------------+-----------------------+--------------+-------------+-------------------+----------+--------+--------+-------------------+-----+---------------+-----------------+----------+--------+-------------+-----------+-------+----------+-----------+--------+---------+-------------------+\n",
            "|                 LAX|[2020-01-17T13:10...|           QR|      [, 13, 52, 60]|                   DOH|[, 1021, 985,, 10...|[77L, 77L, A7-BBA]|  0|2020-01-17T13:10:...|2020-01-17 13:10:00|2020-01-17|  13|    10|         3|        6|                      0|                       13|                       52|                         60|       125|                    77L|                       77L|        0|           0|               1021|                  985|                     0|                     10|            18|         2034|              51.24|      0.64|   46.86|    0.85|partly-cloudy-night|289.0|         7.0E-4|             0.01|      rain|  1020.6|Mostly Cloudy|      51.24|      0|      10.0|        323|    6.25|     4.13|2020-01-17 13:00:00|\n",
            "|                 LAX|[2020-01-17T13:15...|           QF|[205, 247, 226, 240]|                   SYD|[, 763, 830, 57, ...|[388, 388, VH-OQJ]|  1|2020-01-17T13:15:...|2020-01-17 13:15:00|2020-01-17|  13|    15|         3|        6|                    205|                      247|                      226|                        240|       918|                    388|                       388|        0|           0|                763|                  830|                    57|                     10|            24|         1684|              51.24|      0.64|   46.86|    0.85|partly-cloudy-night|289.0|         7.0E-4|             0.01|      rain|  1020.6|Mostly Cloudy|      51.24|      0|      10.0|        323|    6.25|     4.13|2020-01-17 13:00:00|\n",
            "|                 LAX|[2020-01-17T13:50...|           SU|          [14, 23,,]|                   SVO|[, 745, 770, 15, ...|[332, 332, VQ-BBE]|  2|2020-01-17T13:50:...|2020-01-17 13:50:00|2020-01-17|  13|    50|         3|        6|                     14|                       23|                        0|                          0|        37|                    332|                       332|        0|           0|                745|                  770|                    15|                     10|            23|         1563|              51.24|      0.64|   46.86|    0.85|partly-cloudy-night|289.0|         7.0E-4|             0.01|      rain|  1020.6|Mostly Cloudy|      51.24|      0|      10.0|        323|    6.25|     4.13|2020-01-17 13:00:00|\n",
            "|                 LAX|[2020-01-17T14:00...|           NZ|       [, 7, 17, 25]|                   AKL|[, 681, 725, 34, ...|[77W, 77W, ZK-OKS]|  3|2020-01-17T14:00:...|2020-01-17 14:00:00|2020-01-17|  14|     0|         3|        6|                      0|                        7|                       17|                         25|        49|                    77W|                       77W|        0|           0|                681|                  725|                    34|                     10|            18|         1468|              50.88|      0.55|    46.3|    0.84|partly-cloudy-night|284.7|            0.0|              0.0|      null|  1021.3|Partly Cloudy|      50.88|      0|      10.0|        338|    5.54|     5.06|2020-01-17 14:00:00|\n",
            "|                 LAX|[2020-01-17T14:40...|           AA|               [,,,]|                   PEK|[, 683, 730, 10, ...|[788, 788, N813AN]|  4|2020-01-17T14:40:...|2020-01-17 14:40:00|2020-01-17|  14|    40|         3|        6|                      0|                        0|                        0|                          0|         0|                    788|                       788|        0|           0|                683|                  730|                    10|                     37|            22|         1482|              50.88|      0.55|    46.3|    0.84|partly-cloudy-night|284.7|            0.0|              0.0|      null|  1021.3|Partly Cloudy|      50.88|      0|      10.0|        338|    5.54|     5.06|2020-01-17 14:00:00|\n",
            "+--------------------+--------------------+-------------+--------------------+----------------------+--------------------+------------------+---+--------------------+-------------------+----------+----+------+----------+---------+-----------------------+-------------------------+-------------------------+---------------------------+----------+-----------------------+--------------------------+---------+------------+-------------------+---------------------+----------------------+-----------------------+--------------+-------------+-------------------+----------+--------+--------+-------------------+-----+---------------+-----------------+----------+--------+-------------+-----------+-------+----------+-----------+--------+---------+-------------------+\n",
            "only showing top 5 rows\n",
            "\n"
          ],
          "name": "stdout"
        }
      ]
    },
    {
      "cell_type": "code",
      "metadata": {
        "id": "8If0_nijHk5E",
        "colab_type": "code",
        "outputId": "0b256b34-b2f1-49ab-b023-f1ac93a444f1",
        "colab": {
          "base_uri": "https://localhost:8080/",
          "height": 232
        }
      },
      "source": [
        "df_dep_wthr = df_dep_fmtd.join(df_weath, (col('date')==col('w_date')) & (col('hour')==col('w_hour')), how='inner')\n",
        "df_dep_wthr = df_dep_wthr.drop('time', 'w_date', 'w_hour')\n",
        "df_dep_wthr.show(5)"
      ],
      "execution_count": 50,
      "outputs": [
        {
          "output_type": "stream",
          "text": [
            "+--------------------+--------------------+-------------+----------------+----------------------+-----------------+------------------+---+--------------------+-------------------+----------+----+------+----------+---------+-----------------------+-------------------------+-------------------------+---------------------------+----------+-----------------------+--------------------------+---------+-------------------+---------------------+----------------------+-----------------------+-------------+-------------------+----------+--------+--------+-------------------+-----+---------------+-----------------+----------+--------+-------------+-----------+-------+----------+-----------+--------+---------+-------------------+\n",
            "|arrivalAirportFsCode|         arrivalDate|carrierFsCode|          delays|departureAirportFsCode|  flightDurations|   flightEquipment| id|           localDate|     localTimeStamp|      date|hour|minute|weekOfYear|dayOfWeek|arrivalGateDelayMinutes|arrivalRunwayDelayMinutes|departureGateDelayMinutes|departureRunwayDelayMinutes|totalDelay|actualEquipmentIataCode|scheduledEquipmentIataCode|eqChanged|scheduledAirMinutes|scheduledBlockMinutes|scheduledTaxiInMinutes|scheduledTaxiOutMinutes|totalDuration|apparentTemperature|cloudCover|dewPoint|humidity|               icon|ozone|precipIntensity|precipProbability|precipType|pressure|      summary|temperature|uvIndex|visibility|windBearing|windGust|windSpeed|             f_time|\n",
            "+--------------------+--------------------+-------------+----------------+----------------------+-----------------+------------------+---+--------------------+-------------------+----------+----+------+----------+---------+-----------------------+-------------------------+-------------------------+---------------------------+----------+-----------------------+--------------------------+---------+-------------------+---------------------+----------------------+-----------------------+-------------+-------------------+----------+--------+--------+-------------------+-----+---------------+-----------------+----------+--------+-------------+-----------+-------+----------+-----------+--------+---------+-------------------+\n",
            "|                 DFW|[2020-01-17T15:56...|           NK|           [,,,]|                   LAX| [151, 181,, 383]|       [32S, 32A,]|  0|2020-01-17T15:56:...|2020-01-17 15:56:00|2020-01-17|  15|    56|         3|        6|                      0|                        0|                        0|                          0|         0|                    32S|                       32A|        1|                151|                  181|                     0|                    383|          715|              50.47|      0.56|   45.36|    0.83|partly-cloudy-night|281.3|         4.0E-4|             0.01|      rain|  1021.9|Partly Cloudy|      50.47|      0|      10.0|        345|    4.52|      1.1|2020-01-17 15:00:00|\n",
            "|                 VNY|[2020-01-17T14:12...|          JTL|           [,,,]|                   LAX|       [12,,, 30]|    [GR2,, N990JT]|  1|2020-01-17T14:12:...|2020-01-17 14:12:00|2020-01-17|  14|    12|         3|        6|                      0|                        0|                        0|                          0|         0|                    GR2|                      null|        1|                 12|                    0|                     0|                     30|           42|              50.88|      0.55|    46.3|    0.84|partly-cloudy-night|284.7|            0.0|              0.0|      null|  1021.3|Partly Cloudy|      50.88|      0|      10.0|        338|    5.54|     5.06|2020-01-17 14:00:00|\n",
            "|                 SMF|[2020-01-17T15:00...|           WN|   [20,, 20, 15]|                   LAX|    [62, 90,, 31]|[73W, 73W, N711HK]|  2|2020-01-17T15:00:...|2020-01-17 15:00:00|2020-01-17|  15|     0|         3|        6|                     20|                        0|                       20|                         15|        55|                    73W|                       73W|        0|                 62|                   90|                     0|                     31|          183|              50.47|      0.56|   45.36|    0.83|partly-cloudy-night|281.3|         4.0E-4|             0.01|      rain|  1021.9|Partly Cloudy|      50.47|      0|      10.0|        345|    4.52|      1.1|2020-01-17 15:00:00|\n",
            "|                 AUS|[2020-01-17T18:29...|           AA|[25, 24, 25, 25]|                   LAX|[152, 174, 6, 16]|[32B, 321, N134AN]|  3|2020-01-17T18:29:...|2020-01-17 18:29:00|2020-01-17|  18|    29|         3|        6|                     25|                       24|                       25|                         25|        99|                    32B|                       321|        1|                152|                  174|                     6|                     16|          348|              55.01|      0.41|   46.17|    0.72|  partly-cloudy-day|275.9|            0.0|              0.0|      null|  1024.2|Partly Cloudy|      55.01|      2|      10.0|         39|    5.51|     3.48|2020-01-17 18:00:00|\n",
            "|                 SAN|[2020-01-17T14:37...|           OO|           [,,,]|                   LAX|  [29, 54, 3, 22]|[CR7, CR7, N732SK]|  4|2020-01-17T14:37:...|2020-01-17 14:37:00|2020-01-17|  14|    37|         3|        6|                      0|                        0|                        0|                          0|         0|                    CR7|                       CR7|        0|                 29|                   54|                     3|                     22|          108|              50.88|      0.55|    46.3|    0.84|partly-cloudy-night|284.7|            0.0|              0.0|      null|  1021.3|Partly Cloudy|      50.88|      0|      10.0|        338|    5.54|     5.06|2020-01-17 14:00:00|\n",
            "+--------------------+--------------------+-------------+----------------+----------------------+-----------------+------------------+---+--------------------+-------------------+----------+----+------+----------+---------+-----------------------+-------------------------+-------------------------+---------------------------+----------+-----------------------+--------------------------+---------+-------------------+---------------------+----------------------+-----------------------+-------------+-------------------+----------+--------+--------+-------------------+-----+---------------+-----------------+----------+--------+-------------+-----------+-------+----------+-----------+--------+---------+-------------------+\n",
            "only showing top 5 rows\n",
            "\n"
          ],
          "name": "stdout"
        }
      ]
    },
    {
      "cell_type": "markdown",
      "metadata": {
        "id": "CUhGyctlXTY9",
        "colab_type": "text"
      },
      "source": [
        "Next, I think I will select only the feature and target columns."
      ]
    },
    {
      "cell_type": "code",
      "metadata": {
        "id": "cSofB4KIJ9Pa",
        "colab_type": "code",
        "outputId": "dfc7030c-6f8d-4648-98c5-38b5368ede05",
        "colab": {
          "base_uri": "https://localhost:8080/",
          "height": 232
        }
      },
      "source": [
        "df_arr_final = df_arr_wthr.drop('arrivalDate', 'delays', 'flightDurations', 'flightEquipment', \n",
        "                               'localDate', 'localTimeStamp', 'icon', 'f_time')\n",
        "df_arr_final.show(5)"
      ],
      "execution_count": 51,
      "outputs": [
        {
          "output_type": "stream",
          "text": [
            "+--------------------+-------------+----------------------+---+----------+----+------+----------+---------+-----------------------+-------------------------+-------------------------+---------------------------+----------+-----------------------+--------------------------+---------+------------+-------------------+---------------------+----------------------+-----------------------+--------------+-------------+-------------------+----------+--------+--------+-----+---------------+-----------------+----------+--------+-------------+-----------+-------+----------+-----------+--------+---------+\n",
            "|arrivalAirportFsCode|carrierFsCode|departureAirportFsCode| id|      date|hour|minute|weekOfYear|dayOfWeek|arrivalGateDelayMinutes|arrivalRunwayDelayMinutes|departureGateDelayMinutes|departureRunwayDelayMinutes|totalDelay|actualEquipmentIataCode|scheduledEquipmentIataCode|eqChanged|blockMinutes|scheduledAirMinutes|scheduledBlockMinutes|scheduledTaxiInMinutes|scheduledTaxiOutMinutes|taxiOutMinutes|totalDuration|apparentTemperature|cloudCover|dewPoint|humidity|ozone|precipIntensity|precipProbability|precipType|pressure|      summary|temperature|uvIndex|visibility|windBearing|windGust|windSpeed|\n",
            "+--------------------+-------------+----------------------+---+----------+----+------+----------+---------+-----------------------+-------------------------+-------------------------+---------------------------+----------+-----------------------+--------------------------+---------+------------+-------------------+---------------------+----------------------+-----------------------+--------------+-------------+-------------------+----------+--------+--------+-----+---------------+-----------------+----------+--------+-------------+-----------+-------+----------+-----------+--------+---------+\n",
            "|                 LAX|           QR|                   DOH|  0|2020-01-17|  13|    10|         3|        6|                      0|                       13|                       52|                         60|       125|                    77L|                       77L|        0|           0|               1021|                  985|                     0|                     10|            18|         2034|              51.24|      0.64|   46.86|    0.85|289.0|         7.0E-4|             0.01|      rain|  1020.6|Mostly Cloudy|      51.24|      0|      10.0|        323|    6.25|     4.13|\n",
            "|                 LAX|           QF|                   SYD|  1|2020-01-17|  13|    15|         3|        6|                    205|                      247|                      226|                        240|       918|                    388|                       388|        0|           0|                763|                  830|                    57|                     10|            24|         1684|              51.24|      0.64|   46.86|    0.85|289.0|         7.0E-4|             0.01|      rain|  1020.6|Mostly Cloudy|      51.24|      0|      10.0|        323|    6.25|     4.13|\n",
            "|                 LAX|           SU|                   SVO|  2|2020-01-17|  13|    50|         3|        6|                     14|                       23|                        0|                          0|        37|                    332|                       332|        0|           0|                745|                  770|                    15|                     10|            23|         1563|              51.24|      0.64|   46.86|    0.85|289.0|         7.0E-4|             0.01|      rain|  1020.6|Mostly Cloudy|      51.24|      0|      10.0|        323|    6.25|     4.13|\n",
            "|                 LAX|           NZ|                   AKL|  3|2020-01-17|  14|     0|         3|        6|                      0|                        7|                       17|                         25|        49|                    77W|                       77W|        0|           0|                681|                  725|                    34|                     10|            18|         1468|              50.88|      0.55|    46.3|    0.84|284.7|            0.0|              0.0|      null|  1021.3|Partly Cloudy|      50.88|      0|      10.0|        338|    5.54|     5.06|\n",
            "|                 LAX|           AA|                   PEK|  4|2020-01-17|  14|    40|         3|        6|                      0|                        0|                        0|                          0|         0|                    788|                       788|        0|           0|                683|                  730|                    10|                     37|            22|         1482|              50.88|      0.55|    46.3|    0.84|284.7|            0.0|              0.0|      null|  1021.3|Partly Cloudy|      50.88|      0|      10.0|        338|    5.54|     5.06|\n",
            "+--------------------+-------------+----------------------+---+----------+----+------+----------+---------+-----------------------+-------------------------+-------------------------+---------------------------+----------+-----------------------+--------------------------+---------+------------+-------------------+---------------------+----------------------+-----------------------+--------------+-------------+-------------------+----------+--------+--------+-----+---------------+-----------------+----------+--------+-------------+-----------+-------+----------+-----------+--------+---------+\n",
            "only showing top 5 rows\n",
            "\n"
          ],
          "name": "stdout"
        }
      ]
    },
    {
      "cell_type": "code",
      "metadata": {
        "id": "qt_y4sfWL1Un",
        "colab_type": "code",
        "outputId": "a4791ae0-fc8a-40a3-f90b-6c6a000b8029",
        "colab": {
          "base_uri": "https://localhost:8080/",
          "height": 232
        }
      },
      "source": [
        "# rinse and repeat for the departing flights\n",
        "df_dep_final = df_dep_wthr.drop('arrivalDate', 'delays', 'flightDurations', 'flightEquipment',\n",
        "                                'localDate', 'localTimeStamp', 'icon', 'f_time')\n",
        "df_dep_final.show(5)"
      ],
      "execution_count": 52,
      "outputs": [
        {
          "output_type": "stream",
          "text": [
            "+--------------------+-------------+----------------------+---+----------+----+------+----------+---------+-----------------------+-------------------------+-------------------------+---------------------------+----------+-----------------------+--------------------------+---------+-------------------+---------------------+----------------------+-----------------------+-------------+-------------------+----------+--------+--------+-----+---------------+-----------------+----------+--------+-------------+-----------+-------+----------+-----------+--------+---------+\n",
            "|arrivalAirportFsCode|carrierFsCode|departureAirportFsCode| id|      date|hour|minute|weekOfYear|dayOfWeek|arrivalGateDelayMinutes|arrivalRunwayDelayMinutes|departureGateDelayMinutes|departureRunwayDelayMinutes|totalDelay|actualEquipmentIataCode|scheduledEquipmentIataCode|eqChanged|scheduledAirMinutes|scheduledBlockMinutes|scheduledTaxiInMinutes|scheduledTaxiOutMinutes|totalDuration|apparentTemperature|cloudCover|dewPoint|humidity|ozone|precipIntensity|precipProbability|precipType|pressure|      summary|temperature|uvIndex|visibility|windBearing|windGust|windSpeed|\n",
            "+--------------------+-------------+----------------------+---+----------+----+------+----------+---------+-----------------------+-------------------------+-------------------------+---------------------------+----------+-----------------------+--------------------------+---------+-------------------+---------------------+----------------------+-----------------------+-------------+-------------------+----------+--------+--------+-----+---------------+-----------------+----------+--------+-------------+-----------+-------+----------+-----------+--------+---------+\n",
            "|                 DFW|           NK|                   LAX|  0|2020-01-17|  15|    56|         3|        6|                      0|                        0|                        0|                          0|         0|                    32S|                       32A|        1|                151|                  181|                     0|                    383|          715|              50.47|      0.56|   45.36|    0.83|281.3|         4.0E-4|             0.01|      rain|  1021.9|Partly Cloudy|      50.47|      0|      10.0|        345|    4.52|      1.1|\n",
            "|                 VNY|          JTL|                   LAX|  1|2020-01-17|  14|    12|         3|        6|                      0|                        0|                        0|                          0|         0|                    GR2|                      null|        1|                 12|                    0|                     0|                     30|           42|              50.88|      0.55|    46.3|    0.84|284.7|            0.0|              0.0|      null|  1021.3|Partly Cloudy|      50.88|      0|      10.0|        338|    5.54|     5.06|\n",
            "|                 SMF|           WN|                   LAX|  2|2020-01-17|  15|     0|         3|        6|                     20|                        0|                       20|                         15|        55|                    73W|                       73W|        0|                 62|                   90|                     0|                     31|          183|              50.47|      0.56|   45.36|    0.83|281.3|         4.0E-4|             0.01|      rain|  1021.9|Partly Cloudy|      50.47|      0|      10.0|        345|    4.52|      1.1|\n",
            "|                 AUS|           AA|                   LAX|  3|2020-01-17|  18|    29|         3|        6|                     25|                       24|                       25|                         25|        99|                    32B|                       321|        1|                152|                  174|                     6|                     16|          348|              55.01|      0.41|   46.17|    0.72|275.9|            0.0|              0.0|      null|  1024.2|Partly Cloudy|      55.01|      2|      10.0|         39|    5.51|     3.48|\n",
            "|                 SAN|           OO|                   LAX|  4|2020-01-17|  14|    37|         3|        6|                      0|                        0|                        0|                          0|         0|                    CR7|                       CR7|        0|                 29|                   54|                     3|                     22|          108|              50.88|      0.55|    46.3|    0.84|284.7|            0.0|              0.0|      null|  1021.3|Partly Cloudy|      50.88|      0|      10.0|        338|    5.54|     5.06|\n",
            "+--------------------+-------------+----------------------+---+----------+----+------+----------+---------+-----------------------+-------------------------+-------------------------+---------------------------+----------+-----------------------+--------------------------+---------+-------------------+---------------------+----------------------+-----------------------+-------------+-------------------+----------+--------+--------+-----+---------------+-----------------+----------+--------+-------------+-----------+-------+----------+-----------+--------+---------+\n",
            "only showing top 5 rows\n",
            "\n"
          ],
          "name": "stdout"
        }
      ]
    },
    {
      "cell_type": "markdown",
      "metadata": {
        "id": "LQkpyl7xCk0E",
        "colab_type": "text"
      },
      "source": [
        "While we have the columns narrowed down, we still have a long way to go to be ready to build a model. Since we will be using linear regression as one of the methods, we have to encode all the categorical variables."
      ]
    },
    {
      "cell_type": "code",
      "metadata": {
        "id": "Ww69i2Wl0Zum",
        "colab_type": "code",
        "colab": {
          "base_uri": "https://localhost:8080/",
          "height": 798
        },
        "outputId": "fad0f86c-11cc-4add-9d1b-a630684d67af"
      },
      "source": [
        "df_arr_final.printSchema()"
      ],
      "execution_count": 70,
      "outputs": [
        {
          "output_type": "stream",
          "text": [
            "root\n",
            " |-- arrivalAirportFsCode: string (nullable = true)\n",
            " |-- carrierFsCode: string (nullable = true)\n",
            " |-- departureAirportFsCode: string (nullable = true)\n",
            " |-- id: long (nullable = false)\n",
            " |-- date: date (nullable = true)\n",
            " |-- hour: integer (nullable = true)\n",
            " |-- minute: integer (nullable = true)\n",
            " |-- weekOfYear: integer (nullable = true)\n",
            " |-- dayOfWeek: integer (nullable = true)\n",
            " |-- arrivalGateDelayMinutes: long (nullable = true)\n",
            " |-- arrivalRunwayDelayMinutes: long (nullable = true)\n",
            " |-- departureGateDelayMinutes: long (nullable = true)\n",
            " |-- departureRunwayDelayMinutes: long (nullable = true)\n",
            " |-- totalDelay: long (nullable = true)\n",
            " |-- actualEquipmentIataCode: string (nullable = true)\n",
            " |-- scheduledEquipmentIataCode: string (nullable = true)\n",
            " |-- eqChanged: integer (nullable = true)\n",
            " |-- blockMinutes: long (nullable = true)\n",
            " |-- scheduledAirMinutes: long (nullable = true)\n",
            " |-- scheduledBlockMinutes: long (nullable = true)\n",
            " |-- scheduledTaxiInMinutes: long (nullable = true)\n",
            " |-- scheduledTaxiOutMinutes: long (nullable = true)\n",
            " |-- taxiOutMinutes: long (nullable = true)\n",
            " |-- totalDuration: long (nullable = true)\n",
            " |-- apparentTemperature: double (nullable = true)\n",
            " |-- cloudCover: double (nullable = true)\n",
            " |-- dewPoint: double (nullable = true)\n",
            " |-- humidity: double (nullable = true)\n",
            " |-- ozone: double (nullable = true)\n",
            " |-- precipIntensity: double (nullable = true)\n",
            " |-- precipProbability: double (nullable = true)\n",
            " |-- pressure: double (nullable = true)\n",
            " |-- temperature: double (nullable = true)\n",
            " |-- uvIndex: long (nullable = true)\n",
            " |-- visibility: double (nullable = true)\n",
            " |-- windBearing: long (nullable = true)\n",
            " |-- windGust: double (nullable = true)\n",
            " |-- windSpeed: double (nullable = true)\n",
            " |-- a_code: integer (nullable = true)\n",
            " |-- fm_code: integer (nullable = true)\n",
            " |-- aac_code: integer (nullable = true)\n",
            " |-- sac_code: integer (nullable = true)\n",
            "\n"
          ],
          "name": "stdout"
        }
      ]
    },
    {
      "cell_type": "code",
      "metadata": {
        "id": "qou6ZcdiMnrh",
        "colab_type": "code",
        "outputId": "436d67d7-9ae6-411b-c799-3ebfdf189871",
        "colab": {
          "base_uri": "https://localhost:8080/",
          "height": 54
        }
      },
      "source": [
        "# let's first create a dictionary of all the carriers present in the dataframe\n",
        "# get unique values from column\n",
        "unique_airlines = df_arr_final.select('carrierFsCode').distinct()\n",
        "\n",
        "# make a list of all airlines\n",
        "airline_list = [row.carrierFsCode for row in unique_airlines.collect()]\n",
        "\n",
        "# create a random sampling of integer ids\n",
        "random_codes = random.sample(range(1000), len(airline_list))\n",
        "\n",
        "# assign each random int id to an airline\n",
        "airline_dict = dict(zip(airline_list, random_codes))\n",
        "print(airline_dict)\n"
      ],
      "execution_count": 53,
      "outputs": [
        {
          "output_type": "stream",
          "text": [
            "{'XOJ': 59, 'CI': 62, 'BAI': 613, 'UA': 279, 'NK': 779, 'AA': 320, 'AV': 641, 'QF': 493, 'CZ': 248, 'B6': 163, 'CX': 348, 'NH': 340, 'CV': 434, 'SU': 984, 'LX': 407, 'DL': 572, 'CA': 638, 'MW': 176, 'BR': 759, 'OO': 100, 'F9': 145, 'VB': 450, 'LH': 752, 'CM': 885, 'Y4': 141, 'VS': 570, 'HA': 291, 'BA': 963, 'LP': 975, 'EI': 874, 'WS': 386, 'DI*': 795, 'LO': 484, 'MU': 574, '5X': 762, 'G4': 503, 'MF': 490, 'NZ': 835, 'CP': 270, 'QR': 550, 'OZ': 3, 'KE': 495, '1I': 398, 'AS': 755, 'AC': 655, 'QX': 251, 'K4': 369, 'TK': 338, 'PR': 704, 'TA': 966, 'SQ': 962, 'AF': 524, 'WN': 672, 'L1E': 464}\n"
          ],
          "name": "stdout"
        }
      ]
    },
    {
      "cell_type": "code",
      "metadata": {
        "id": "5VJg9jm9j2vO",
        "colab_type": "code",
        "colab": {
          "base_uri": "https://localhost:8080/",
          "height": 34
        },
        "outputId": "e560e849-fca5-4201-8aad-8ea3f0b90d42"
      },
      "source": [
        "total_flts = df_arr_final.count()\n",
        "unique_from_stn = df_arr_final.select('departureAirportFsCode').distinct()\n",
        "from_stn_total = unique_from_stn.count()\n",
        "total_alines = len(airline_list)\n",
        "arr_airpt = df_arr_final.first().arrivalAirportFsCode\n",
        "\n",
        "print(f'There were {total_flts} flights from {from_stn_total} different stations operated by {total_alines} different airlines arriving at {arr_airpt} in the past 24 hours.')"
      ],
      "execution_count": 54,
      "outputs": [
        {
          "output_type": "stream",
          "text": [
            "There were 337 flights from 123 different stations operated by 54 different airlines arriving at LAX in the past 24 hours.\n"
          ],
          "name": "stdout"
        }
      ]
    },
    {
      "cell_type": "markdown",
      "metadata": {
        "id": "8ZFSDrSGR6Rx",
        "colab_type": "text"
      },
      "source": [
        "Now that we have a dictionary, let's apply it to our dataframe."
      ]
    },
    {
      "cell_type": "code",
      "metadata": {
        "id": "eAoJGJxVHGMP",
        "colab_type": "code",
        "outputId": "6ea22a52-336f-458e-b1be-e2e7aaf02518",
        "colab": {
          "base_uri": "https://localhost:8080/",
          "height": 232
        }
      },
      "source": [
        "map_exp = create_map([lit(x) for x in chain(*airline_dict.items())])\n",
        "\n",
        "df_arr_final = df_arr_final.withColumn('a_code', map_exp.getItem(col('carrierFsCode')))\n",
        "df_arr_final.show(5)"
      ],
      "execution_count": 55,
      "outputs": [
        {
          "output_type": "stream",
          "text": [
            "+--------------------+-------------+----------------------+---+----------+----+------+----------+---------+-----------------------+-------------------------+-------------------------+---------------------------+----------+-----------------------+--------------------------+---------+------------+-------------------+---------------------+----------------------+-----------------------+--------------+-------------+-------------------+----------+--------+--------+-----+---------------+-----------------+----------+--------+-------------+-----------+-------+----------+-----------+--------+---------+------+\n",
            "|arrivalAirportFsCode|carrierFsCode|departureAirportFsCode| id|      date|hour|minute|weekOfYear|dayOfWeek|arrivalGateDelayMinutes|arrivalRunwayDelayMinutes|departureGateDelayMinutes|departureRunwayDelayMinutes|totalDelay|actualEquipmentIataCode|scheduledEquipmentIataCode|eqChanged|blockMinutes|scheduledAirMinutes|scheduledBlockMinutes|scheduledTaxiInMinutes|scheduledTaxiOutMinutes|taxiOutMinutes|totalDuration|apparentTemperature|cloudCover|dewPoint|humidity|ozone|precipIntensity|precipProbability|precipType|pressure|      summary|temperature|uvIndex|visibility|windBearing|windGust|windSpeed|a_code|\n",
            "+--------------------+-------------+----------------------+---+----------+----+------+----------+---------+-----------------------+-------------------------+-------------------------+---------------------------+----------+-----------------------+--------------------------+---------+------------+-------------------+---------------------+----------------------+-----------------------+--------------+-------------+-------------------+----------+--------+--------+-----+---------------+-----------------+----------+--------+-------------+-----------+-------+----------+-----------+--------+---------+------+\n",
            "|                 LAX|           QR|                   DOH|  0|2020-01-17|  13|    10|         3|        6|                      0|                       13|                       52|                         60|       125|                    77L|                       77L|        0|           0|               1021|                  985|                     0|                     10|            18|         2034|              51.24|      0.64|   46.86|    0.85|289.0|         7.0E-4|             0.01|      rain|  1020.6|Mostly Cloudy|      51.24|      0|      10.0|        323|    6.25|     4.13|   550|\n",
            "|                 LAX|           QF|                   SYD|  1|2020-01-17|  13|    15|         3|        6|                    205|                      247|                      226|                        240|       918|                    388|                       388|        0|           0|                763|                  830|                    57|                     10|            24|         1684|              51.24|      0.64|   46.86|    0.85|289.0|         7.0E-4|             0.01|      rain|  1020.6|Mostly Cloudy|      51.24|      0|      10.0|        323|    6.25|     4.13|   493|\n",
            "|                 LAX|           SU|                   SVO|  2|2020-01-17|  13|    50|         3|        6|                     14|                       23|                        0|                          0|        37|                    332|                       332|        0|           0|                745|                  770|                    15|                     10|            23|         1563|              51.24|      0.64|   46.86|    0.85|289.0|         7.0E-4|             0.01|      rain|  1020.6|Mostly Cloudy|      51.24|      0|      10.0|        323|    6.25|     4.13|   984|\n",
            "|                 LAX|           NZ|                   AKL|  3|2020-01-17|  14|     0|         3|        6|                      0|                        7|                       17|                         25|        49|                    77W|                       77W|        0|           0|                681|                  725|                    34|                     10|            18|         1468|              50.88|      0.55|    46.3|    0.84|284.7|            0.0|              0.0|      null|  1021.3|Partly Cloudy|      50.88|      0|      10.0|        338|    5.54|     5.06|   835|\n",
            "|                 LAX|           AA|                   PEK|  4|2020-01-17|  14|    40|         3|        6|                      0|                        0|                        0|                          0|         0|                    788|                       788|        0|           0|                683|                  730|                    10|                     37|            22|         1482|              50.88|      0.55|    46.3|    0.84|284.7|            0.0|              0.0|      null|  1021.3|Partly Cloudy|      50.88|      0|      10.0|        338|    5.54|     5.06|   320|\n",
            "+--------------------+-------------+----------------------+---+----------+----+------+----------+---------+-----------------------+-------------------------+-------------------------+---------------------------+----------+-----------------------+--------------------------+---------+------------+-------------------+---------------------+----------------------+-----------------------+--------------+-------------+-------------------+----------+--------+--------+-----+---------------+-----------------+----------+--------+-------------+-----------+-------+----------+-----------+--------+---------+------+\n",
            "only showing top 5 rows\n",
            "\n"
          ],
          "name": "stdout"
        }
      ]
    },
    {
      "cell_type": "markdown",
      "metadata": {
        "id": "-VtZUbpzN5wm",
        "colab_type": "text"
      },
      "source": [
        "Looking through the dataframe, we have a couple more columns that needs to go under the same process to encode."
      ]
    },
    {
      "cell_type": "code",
      "metadata": {
        "id": "iInHX0tLSrjR",
        "colab_type": "code",
        "colab": {
          "base_uri": "https://localhost:8080/",
          "height": 54
        },
        "outputId": "cc888295-061e-4c5c-9a95-42699cee79f0"
      },
      "source": [
        "# originating stations\n",
        "from_stn_list = [row.departureAirportFsCode for row in unique_from_stn.collect()]\n",
        "random_codes_2 = random.sample(range(1001, 2000), len(from_stn_list))\n",
        "from_stn_dict = dict(zip(from_stn_list, random_codes_2))\n",
        "print(from_stn_dict)"
      ],
      "execution_count": 56,
      "outputs": [
        {
          "output_type": "stream",
          "text": [
            "{'MSY': 1360, 'GEG': 1900, 'EUG': 1261, 'OAK': 1733, 'BNE': 1189, 'MSN': 1025, 'DCA': 1702, 'QRO': 1148, 'RDM': 1764, 'PEK': 1999, 'CMH': 1752, 'CDG': 1393, 'SIN': 1030, 'IAH': 1664, 'MZT': 1457, 'SYD': 1803, 'HNL': 1985, 'SJC': 1373, 'BUF': 1800, 'PVG': 1558, 'AUS': 1273, 'MUC': 1160, 'MEX': 1877, 'ZIH': 1904, 'RNO': 1974, 'JAC': 1748, 'IPL': 1835, 'TUL': 1591, 'BOS': 1285, 'EWR': 1570, 'DOH': 1780, 'LAS': 1435, 'YEG': 1578, 'LIR': 1336, 'BCN': 1789, 'XNA': 1476, 'YYZ': 1350, 'DEN': 1287, 'BJX': 1428, 'IAD': 1013, 'BOI': 1750, 'SBA': 1026, 'SJD': 1871, 'SEA': 1051, 'MNL': 1048, 'ICN': 1559, 'MCI': 1868, 'WAW': 1532, 'CLT': 1499, 'BNA': 1649, 'PAE': 1825, 'YVR': 1501, 'CUN': 1937, 'ABQ': 1522, 'SVO': 1924, 'SDF': 1300, 'MEL': 1569, 'SCK': 1330, 'DAL': 1907, 'MRY': 1221, 'PDX': 1574, 'PVR': 1345, 'LGW': 1524, 'MIA': 1634, 'MFR': 1633, 'LHR': 1998, 'DGO': 1530, 'PRC': 1706, 'SAL': 1553, 'OKC': 1641, 'YYC': 1564, 'SMF': 1266, 'PTY': 1403, 'PHX': 1969, 'STL': 1708, 'DFW': 1052, 'MMH': 1438, 'TEB': 1846, 'HDN': 1767, 'EGE': 1518, 'SWF': 1470, 'SUN': 1521, 'SFO': 1691, 'MEM': 1259, 'ELP': 1830, 'CAN': 1096, 'ATL': 1443, 'TPE': 1683, 'OMA': 1806, 'TAO': 1890, 'DUB': 1141, 'AKL': 1308, 'FAT': 1400, 'ZRH': 1055, 'ORD': 1164, 'HND': 1887, 'TRM': 1832, 'TUS': 1446, 'MDW': 1172, 'COS': 1401, 'LIM': 1639, 'IND': 1986, 'HKG': 1719, 'VNY': 1321, 'DTW': 1215, 'BOG': 1775, 'HOU': 1357, 'MCE': 1178, 'STS': 1064, 'MSP': 1423, 'LAX': 1673, 'MCO': 1395, 'SAN': 1808, 'BZN': 1659, 'PPT': 1628, 'JFK': 1292, 'GDL': 1098, 'PHL': 1571, 'OGG': 1980, 'ISL': 1079, 'SAT': 1214, 'SLC': 1243, 'ASE': 1981}\n"
          ],
          "name": "stdout"
        }
      ]
    },
    {
      "cell_type": "code",
      "metadata": {
        "id": "5GUM721-xWmH",
        "colab_type": "code",
        "colab": {}
      },
      "source": [
        "#df_arr_final.columns"
      ],
      "execution_count": 0,
      "outputs": []
    },
    {
      "cell_type": "code",
      "metadata": {
        "id": "-YoDvbrkTOJl",
        "colab_type": "code",
        "colab": {
          "base_uri": "https://localhost:8080/",
          "height": 72
        },
        "outputId": "3112103c-8bb8-4bbd-db7d-64c736d81de8"
      },
      "source": [
        "# aircrafts(ac)\n",
        "ac_actual = df_arr_final.select('actualEquipmentIataCode').na.fill('None').distinct()\n",
        "ac_sched = df_arr_final.select('scheduledEquipmentIataCode').na.fill('None').distinct()\n",
        "\n",
        "ac_actual_list = [row.actualEquipmentIataCode for row in ac_actual.collect()]\n",
        "ac_sched_list = [row.scheduledEquipmentIataCode for row in ac_sched.collect()]\n",
        "\n",
        "ac_combo_list = list(set(ac_actual_list + ac_sched_list))\n",
        "\n",
        "random_codes_3 = random.sample(range(2001, 3000), len(ac_combo_list))\n",
        "\n",
        "ac_dict = dict(zip(ac_combo_list, random_codes_3))\n",
        "print(ac_dict)\n",
        "\n",
        "print(f'A total of {len(ac_combo_list)} different types of aircraft operating today.')"
      ],
      "execution_count": 58,
      "outputs": [
        {
          "output_type": "stream",
          "text": [
            "{'788': 2851, 'E75': 2465, '330': 2734, '319': 2999, '74Y': 2711, '73R': 2553, '75W': 2766, '346': 2563, '388': 2202, '73G': 2888, '73H': 2745, '32S': 2362, 'E7W': 2120, '789': 2997, '77L': 2640, '76W': 2102, 'None': 2539, '752': 2642, '32A': 2941, '73J': 2206, 'CRJ': 2412, '359': 2948, 'CNJ': 2400, 'CJL': 2360, '773': 2378, '320': 2882, '77X': 2772, '781': 2097, '74F': 2762, '32Q': 2077, 'CR7': 2235, '77W': 2911, '7S8': 2187, '738': 2810, 'CR2': 2319, '31B': 2032, '757': 2628, '32B': 2232, '741': 2942, '763': 2483, '73W': 2414, '739': 2315, '747': 2372, '321': 2802, '32N': 2117, '753': 2757, '77F': 2442, '76V': 2703, 'CNA': 2434, '75D': 2509, '744': 2432, 'CN2': 2953, 'PL2': 2058, '75T': 2013, '772': 2877, '74N': 2720, '332': 2569}\n",
            "A total of 57 different types of aircraft operating today.\n"
          ],
          "name": "stdout"
        }
      ]
    },
    {
      "cell_type": "code",
      "metadata": {
        "id": "gT7MM5YDWHwB",
        "colab_type": "code",
        "colab": {
          "base_uri": "https://localhost:8080/",
          "height": 141
        },
        "outputId": "d13c1e3c-33c6-4cd2-ef21-fbbafa80f6a7"
      },
      "source": [
        "# precipitation\n",
        "df_arr_final.select('precipType').distinct().show()\n"
      ],
      "execution_count": 60,
      "outputs": [
        {
          "output_type": "stream",
          "text": [
            "+----------+\n",
            "|precipType|\n",
            "+----------+\n",
            "|      null|\n",
            "|      rain|\n",
            "+----------+\n",
            "\n"
          ],
          "name": "stdout"
        }
      ]
    },
    {
      "cell_type": "markdown",
      "metadata": {
        "id": "UKQkx0-Sz-Qm",
        "colab_type": "text"
      },
      "source": [
        "It looks like we can just drop this column altogether."
      ]
    },
    {
      "cell_type": "code",
      "metadata": {
        "id": "-QNfPikMaJIr",
        "colab_type": "code",
        "colab": {}
      },
      "source": [
        "df_arr_final = df_arr_final.drop('precipType', 'summary')"
      ],
      "execution_count": 0,
      "outputs": []
    },
    {
      "cell_type": "code",
      "metadata": {
        "id": "mzyt5XH20oeS",
        "colab_type": "code",
        "colab": {
          "base_uri": "https://localhost:8080/",
          "height": 161
        },
        "outputId": "f715fc0e-a8c4-4d23-a726-c9daded921e7"
      },
      "source": [
        "df_arr_final.show(1)"
      ],
      "execution_count": 62,
      "outputs": [
        {
          "output_type": "stream",
          "text": [
            "+--------------------+-------------+----------------------+---+----------+----+------+----------+---------+-----------------------+-------------------------+-------------------------+---------------------------+----------+-----------------------+--------------------------+---------+------------+-------------------+---------------------+----------------------+-----------------------+--------------+-------------+-------------------+----------+--------+--------+-----+---------------+-----------------+--------+-----------+-------+----------+-----------+--------+---------+------+\n",
            "|arrivalAirportFsCode|carrierFsCode|departureAirportFsCode| id|      date|hour|minute|weekOfYear|dayOfWeek|arrivalGateDelayMinutes|arrivalRunwayDelayMinutes|departureGateDelayMinutes|departureRunwayDelayMinutes|totalDelay|actualEquipmentIataCode|scheduledEquipmentIataCode|eqChanged|blockMinutes|scheduledAirMinutes|scheduledBlockMinutes|scheduledTaxiInMinutes|scheduledTaxiOutMinutes|taxiOutMinutes|totalDuration|apparentTemperature|cloudCover|dewPoint|humidity|ozone|precipIntensity|precipProbability|pressure|temperature|uvIndex|visibility|windBearing|windGust|windSpeed|a_code|\n",
            "+--------------------+-------------+----------------------+---+----------+----+------+----------+---------+-----------------------+-------------------------+-------------------------+---------------------------+----------+-----------------------+--------------------------+---------+------------+-------------------+---------------------+----------------------+-----------------------+--------------+-------------+-------------------+----------+--------+--------+-----+---------------+-----------------+--------+-----------+-------+----------+-----------+--------+---------+------+\n",
            "|                 LAX|           QR|                   DOH|  0|2020-01-17|  13|    10|         3|        6|                      0|                       13|                       52|                         60|       125|                    77L|                       77L|        0|           0|               1021|                  985|                     0|                     10|            18|         2034|              51.24|      0.64|   46.86|    0.85|289.0|         7.0E-4|             0.01|  1020.6|      51.24|      0|      10.0|        323|    6.25|     4.13|   550|\n",
            "+--------------------+-------------+----------------------+---+----------+----+------+----------+---------+-----------------------+-------------------------+-------------------------+---------------------------+----------+-----------------------+--------------------------+---------+------------+-------------------+---------------------+----------------------+-----------------------+--------------+-------------+-------------------+----------+--------+--------+-----+---------------+-----------------+--------+-----------+-------+----------+-----------+--------+---------+------+\n",
            "only showing top 1 row\n",
            "\n"
          ],
          "name": "stdout"
        }
      ]
    },
    {
      "cell_type": "code",
      "metadata": {
        "id": "JB5iXmfR2Hvx",
        "colab_type": "code",
        "colab": {}
      },
      "source": [
        "map_exp_2 = create_map([lit(x) for x in chain(*from_stn_dict.items())])\n",
        "map_exp_3 = create_map([lit(x) for x in chain(*ac_dict.items())])"
      ],
      "execution_count": 0,
      "outputs": []
    },
    {
      "cell_type": "code",
      "metadata": {
        "id": "7p9YR4mK7Eh1",
        "colab_type": "code",
        "colab": {}
      },
      "source": [
        "df_arr_final = df_arr_final.withColumn('fm_code', map_exp_2.getItem(col('departureAirportFsCode')))\n",
        "df_arr_final = df_arr_final.withColumn('aac_code', map_exp_3.getItem(col('actualEquipmentIataCode')))\n",
        "df_arr_final = df_arr_final.withColumn('sac_code', map_exp_3.getItem(col('scheduledEquipmentIataCode')))"
      ],
      "execution_count": 0,
      "outputs": []
    },
    {
      "cell_type": "code",
      "metadata": {
        "id": "yJ_dp1vj9h6j",
        "colab_type": "code",
        "colab": {
          "base_uri": "https://localhost:8080/",
          "height": 232
        },
        "outputId": "e7f49efa-16a0-4f68-db7e-90912b6cd9e4"
      },
      "source": [
        "df_arr_final.show(5)"
      ],
      "execution_count": 65,
      "outputs": [
        {
          "output_type": "stream",
          "text": [
            "+--------------------+-------------+----------------------+---+----------+----+------+----------+---------+-----------------------+-------------------------+-------------------------+---------------------------+----------+-----------------------+--------------------------+---------+------------+-------------------+---------------------+----------------------+-----------------------+--------------+-------------+-------------------+----------+--------+--------+-----+---------------+-----------------+--------+-----------+-------+----------+-----------+--------+---------+------+-------+--------+--------+\n",
            "|arrivalAirportFsCode|carrierFsCode|departureAirportFsCode| id|      date|hour|minute|weekOfYear|dayOfWeek|arrivalGateDelayMinutes|arrivalRunwayDelayMinutes|departureGateDelayMinutes|departureRunwayDelayMinutes|totalDelay|actualEquipmentIataCode|scheduledEquipmentIataCode|eqChanged|blockMinutes|scheduledAirMinutes|scheduledBlockMinutes|scheduledTaxiInMinutes|scheduledTaxiOutMinutes|taxiOutMinutes|totalDuration|apparentTemperature|cloudCover|dewPoint|humidity|ozone|precipIntensity|precipProbability|pressure|temperature|uvIndex|visibility|windBearing|windGust|windSpeed|a_code|fm_code|aac_code|sac_code|\n",
            "+--------------------+-------------+----------------------+---+----------+----+------+----------+---------+-----------------------+-------------------------+-------------------------+---------------------------+----------+-----------------------+--------------------------+---------+------------+-------------------+---------------------+----------------------+-----------------------+--------------+-------------+-------------------+----------+--------+--------+-----+---------------+-----------------+--------+-----------+-------+----------+-----------+--------+---------+------+-------+--------+--------+\n",
            "|                 LAX|           QR|                   DOH|  0|2020-01-17|  13|    10|         3|        6|                      0|                       13|                       52|                         60|       125|                    77L|                       77L|        0|           0|               1021|                  985|                     0|                     10|            18|         2034|              51.24|      0.64|   46.86|    0.85|289.0|         7.0E-4|             0.01|  1020.6|      51.24|      0|      10.0|        323|    6.25|     4.13|   550|   1780|    2640|    2640|\n",
            "|                 LAX|           QF|                   SYD|  1|2020-01-17|  13|    15|         3|        6|                    205|                      247|                      226|                        240|       918|                    388|                       388|        0|           0|                763|                  830|                    57|                     10|            24|         1684|              51.24|      0.64|   46.86|    0.85|289.0|         7.0E-4|             0.01|  1020.6|      51.24|      0|      10.0|        323|    6.25|     4.13|   493|   1803|    2202|    2202|\n",
            "|                 LAX|           SU|                   SVO|  2|2020-01-17|  13|    50|         3|        6|                     14|                       23|                        0|                          0|        37|                    332|                       332|        0|           0|                745|                  770|                    15|                     10|            23|         1563|              51.24|      0.64|   46.86|    0.85|289.0|         7.0E-4|             0.01|  1020.6|      51.24|      0|      10.0|        323|    6.25|     4.13|   984|   1924|    2569|    2569|\n",
            "|                 LAX|           NZ|                   AKL|  3|2020-01-17|  14|     0|         3|        6|                      0|                        7|                       17|                         25|        49|                    77W|                       77W|        0|           0|                681|                  725|                    34|                     10|            18|         1468|              50.88|      0.55|    46.3|    0.84|284.7|            0.0|              0.0|  1021.3|      50.88|      0|      10.0|        338|    5.54|     5.06|   835|   1308|    2911|    2911|\n",
            "|                 LAX|           AA|                   PEK|  4|2020-01-17|  14|    40|         3|        6|                      0|                        0|                        0|                          0|         0|                    788|                       788|        0|           0|                683|                  730|                    10|                     37|            22|         1482|              50.88|      0.55|    46.3|    0.84|284.7|            0.0|              0.0|  1021.3|      50.88|      0|      10.0|        338|    5.54|     5.06|   320|   1999|    2851|    2851|\n",
            "+--------------------+-------------+----------------------+---+----------+----+------+----------+---------+-----------------------+-------------------------+-------------------------+---------------------------+----------+-----------------------+--------------------------+---------+------------+-------------------+---------------------+----------------------+-----------------------+--------------+-------------+-------------------+----------+--------+--------+-----+---------------+-----------------+--------+-----------+-------+----------+-----------+--------+---------+------+-------+--------+--------+\n",
            "only showing top 5 rows\n",
            "\n"
          ],
          "name": "stdout"
        }
      ]
    },
    {
      "cell_type": "markdown",
      "metadata": {
        "id": "E5MTapy7-Co7",
        "colab_type": "text"
      },
      "source": [
        "Once the columns containing non-numerical values are dropped, we should finally have a dataframe we can model and predict with."
      ]
    },
    {
      "cell_type": "code",
      "metadata": {
        "id": "Ka5MPELU9zMN",
        "colab_type": "code",
        "colab": {
          "base_uri": "https://localhost:8080/",
          "height": 232
        },
        "outputId": "5b0128d8-17f4-4f50-8b87-78389bd28539"
      },
      "source": [
        "df_arr_num = df_arr_final.drop('arrivalAirportFsCode', 'carrierFsCode', 'departureAirportFsCode', 'date', 'id',\n",
        "                               'actualEquipmentIataCode', 'scheduledEquipmentIataCode')\n",
        "df_arr_num.show(5)"
      ],
      "execution_count": 66,
      "outputs": [
        {
          "output_type": "stream",
          "text": [
            "+----+------+----------+---------+-----------------------+-------------------------+-------------------------+---------------------------+----------+---------+------------+-------------------+---------------------+----------------------+-----------------------+--------------+-------------+-------------------+----------+--------+--------+-----+---------------+-----------------+--------+-----------+-------+----------+-----------+--------+---------+------+-------+--------+--------+\n",
            "|hour|minute|weekOfYear|dayOfWeek|arrivalGateDelayMinutes|arrivalRunwayDelayMinutes|departureGateDelayMinutes|departureRunwayDelayMinutes|totalDelay|eqChanged|blockMinutes|scheduledAirMinutes|scheduledBlockMinutes|scheduledTaxiInMinutes|scheduledTaxiOutMinutes|taxiOutMinutes|totalDuration|apparentTemperature|cloudCover|dewPoint|humidity|ozone|precipIntensity|precipProbability|pressure|temperature|uvIndex|visibility|windBearing|windGust|windSpeed|a_code|fm_code|aac_code|sac_code|\n",
            "+----+------+----------+---------+-----------------------+-------------------------+-------------------------+---------------------------+----------+---------+------------+-------------------+---------------------+----------------------+-----------------------+--------------+-------------+-------------------+----------+--------+--------+-----+---------------+-----------------+--------+-----------+-------+----------+-----------+--------+---------+------+-------+--------+--------+\n",
            "|  13|    10|         3|        6|                      0|                       13|                       52|                         60|       125|        0|           0|               1021|                  985|                     0|                     10|            18|         2034|              51.24|      0.64|   46.86|    0.85|289.0|         7.0E-4|             0.01|  1020.6|      51.24|      0|      10.0|        323|    6.25|     4.13|   550|   1780|    2640|    2640|\n",
            "|  13|    15|         3|        6|                    205|                      247|                      226|                        240|       918|        0|           0|                763|                  830|                    57|                     10|            24|         1684|              51.24|      0.64|   46.86|    0.85|289.0|         7.0E-4|             0.01|  1020.6|      51.24|      0|      10.0|        323|    6.25|     4.13|   493|   1803|    2202|    2202|\n",
            "|  13|    50|         3|        6|                     14|                       23|                        0|                          0|        37|        0|           0|                745|                  770|                    15|                     10|            23|         1563|              51.24|      0.64|   46.86|    0.85|289.0|         7.0E-4|             0.01|  1020.6|      51.24|      0|      10.0|        323|    6.25|     4.13|   984|   1924|    2569|    2569|\n",
            "|  14|     0|         3|        6|                      0|                        7|                       17|                         25|        49|        0|           0|                681|                  725|                    34|                     10|            18|         1468|              50.88|      0.55|    46.3|    0.84|284.7|            0.0|              0.0|  1021.3|      50.88|      0|      10.0|        338|    5.54|     5.06|   835|   1308|    2911|    2911|\n",
            "|  14|    40|         3|        6|                      0|                        0|                        0|                          0|         0|        0|           0|                683|                  730|                    10|                     37|            22|         1482|              50.88|      0.55|    46.3|    0.84|284.7|            0.0|              0.0|  1021.3|      50.88|      0|      10.0|        338|    5.54|     5.06|   320|   1999|    2851|    2851|\n",
            "+----+------+----------+---------+-----------------------+-------------------------+-------------------------+---------------------------+----------+---------+------------+-------------------+---------------------+----------------------+-----------------------+--------------+-------------+-------------------+----------+--------+--------+-----+---------------+-----------------+--------+-----------+-------+----------+-----------+--------+---------+------+-------+--------+--------+\n",
            "only showing top 5 rows\n",
            "\n"
          ],
          "name": "stdout"
        }
      ]
    },
    {
      "cell_type": "markdown",
      "metadata": {
        "id": "57_DhsRKH5as",
        "colab_type": "text"
      },
      "source": [
        "Just like we have been doing so far, let's process the the departing flights dataframe in a summary fashion."
      ]
    },
    {
      "cell_type": "code",
      "metadata": {
        "id": "2NTAqz6BO-Ra",
        "colab_type": "code",
        "colab": {
          "base_uri": "https://localhost:8080/",
          "height": 34
        },
        "outputId": "3fd68e2b-da21-4ec6-f401-f0f367420193"
      },
      "source": [
        "test_rng = 1000\n",
        "print(random.sample(range(test_rng), 5))"
      ],
      "execution_count": 105,
      "outputs": [
        {
          "output_type": "stream",
          "text": [
            "[729, 294, 652, 591, 258]\n"
          ],
          "name": "stdout"
        }
      ]
    },
    {
      "cell_type": "code",
      "metadata": {
        "id": "G0JGLDInaztJ",
        "colab_type": "code",
        "colab": {}
      },
      "source": [
        "# function to encode each categorical variable\n",
        "def encode_dict(df, column, index):\n",
        "    # designate ranges for each category\n",
        "    rng_str, rng_end = index*1000, (index+1)*1000\n",
        "\n",
        "    # fill null values with 'None' and get unique values\n",
        "    uniq = df.select(column).na.fill('None').distinct()\n",
        "\n",
        "    # create a list of unique values to zip with randomized codes to create dictionary\n",
        "    uniq_list = [row[column] for row in uniq.collect()]\n",
        "    rnd_codes = random.sample(range(rng_str, rng_end), len(uniq_list))\n",
        "    col_dict = dict(zip(uniq_list, rnd_codes))\n",
        "\n",
        "    return col_dict"
      ],
      "execution_count": 0,
      "outputs": []
    },
    {
      "cell_type": "code",
      "metadata": {
        "id": "pgGoXIyPBM0_",
        "colab_type": "code",
        "colab": {
          "base_uri": "https://localhost:8080/",
          "height": 125
        },
        "outputId": "5971798d-f8c8-4e54-aea1-4c709ef280fe"
      },
      "source": [
        "# function to purify joined data\n",
        "def clean_combined(joined_df):\n",
        "    # first gather all non-numerical data\n",
        "    cat_cols = [c for c, t in joined_df.dtypes if t == 'string']\n",
        "\n",
        "    # iterate through each column and create code dictionary\n",
        "    for i, column in enumerate(cat_cols):\n",
        "        print(encode_dict(joined_df, cat_cols[i], i))\n",
        "\n",
        "clean_combined(df_arr_final)\n"
      ],
      "execution_count": 140,
      "outputs": [
        {
          "output_type": "stream",
          "text": [
            "{'HNL': 180, 'LAX': 568}\n",
            "{'XOJ': 1765, 'CI': 1190, 'BAI': 1495, 'UA': 1629, 'NK': 1605, 'AA': 1224, 'AV': 1663, 'QF': 1892, 'CZ': 1285, 'B6': 1881, 'CX': 1381, 'NH': 1561, 'CV': 1837, 'SU': 1945, 'LX': 1213, 'DL': 1564, 'CA': 1065, 'MW': 1591, 'BR': 1289, 'OO': 1212, 'F9': 1019, 'VB': 1114, 'LH': 1265, 'CM': 1955, 'Y4': 1988, 'VS': 1827, 'HA': 1910, 'BA': 1467, 'LP': 1473, 'EI': 1886, 'WS': 1586, 'DI*': 1957, 'LO': 1150, 'MU': 1711, '5X': 1167, 'G4': 1622, 'MF': 1813, 'NZ': 1606, 'CP': 1526, 'QR': 1717, 'OZ': 1133, 'KE': 1336, '1I': 1873, 'AS': 1620, 'AC': 1024, 'QX': 1517, 'K4': 1391, 'TK': 1170, 'PR': 1220, 'TA': 1264, 'SQ': 1448, 'AF': 1729, 'WN': 1806, 'L1E': 1900}\n",
            "{'MSY': 2241, 'GEG': 2532, 'EUG': 2422, 'OAK': 2561, 'BNE': 2814, 'MSN': 2246, 'DCA': 2856, 'QRO': 2206, 'RDM': 2586, 'PEK': 2276, 'CMH': 2022, 'CDG': 2816, 'SIN': 2825, 'IAH': 2213, 'MZT': 2553, 'SYD': 2267, 'HNL': 2410, 'SJC': 2296, 'BUF': 2638, 'PVG': 2883, 'AUS': 2712, 'MUC': 2946, 'MEX': 2870, 'ZIH': 2465, 'RNO': 2885, 'JAC': 2127, 'IPL': 2134, 'TUL': 2125, 'BOS': 2774, 'EWR': 2792, 'DOH': 2130, 'LAS': 2060, 'YEG': 2979, 'LIR': 2302, 'BCN': 2386, 'XNA': 2404, 'YYZ': 2216, 'DEN': 2995, 'BJX': 2052, 'IAD': 2882, 'BOI': 2252, 'SBA': 2951, 'SJD': 2772, 'SEA': 2803, 'MNL': 2727, 'ICN': 2250, 'MCI': 2968, 'WAW': 2683, 'CLT': 2204, 'BNA': 2516, 'PAE': 2528, 'YVR': 2521, 'CUN': 2969, 'ABQ': 2845, 'SVO': 2507, 'SDF': 2144, 'MEL': 2334, 'SCK': 2094, 'DAL': 2811, 'MRY': 2756, 'PDX': 2199, 'PVR': 2332, 'LGW': 2108, 'MIA': 2023, 'MFR': 2173, 'LHR': 2729, 'DGO': 2759, 'PRC': 2390, 'SAL': 2898, 'OKC': 2459, 'YYC': 2571, 'SMF': 2065, 'PTY': 2932, 'PHX': 2881, 'STL': 2432, 'DFW': 2784, 'MMH': 2214, 'TEB': 2805, 'HDN': 2769, 'EGE': 2711, 'SWF': 2039, 'SUN': 2929, 'SFO': 2346, 'MEM': 2902, 'ELP': 2589, 'CAN': 2210, 'ATL': 2823, 'TPE': 2519, 'OMA': 2976, 'TAO': 2323, 'DUB': 2569, 'AKL': 2439, 'FAT': 2001, 'ZRH': 2062, 'ORD': 2732, 'HND': 2040, 'TRM': 2243, 'TUS': 2615, 'MDW': 2667, 'COS': 2103, 'LIM': 2954, 'IND': 2577, 'HKG': 2426, 'VNY': 2911, 'DTW': 2716, 'BOG': 2449, 'HOU': 2897, 'MCE': 2498, 'STS': 2899, 'MSP': 2735, 'LAX': 2358, 'MCO': 2203, 'SAN': 2362, 'BZN': 2736, 'PPT': 2378, 'JFK': 2375, 'GDL': 2636, 'PHL': 2155, 'OGG': 2342, 'ISL': 2607, 'SAT': 2360, 'SLC': 2424, 'ASE': 2020}\n",
            "{'747': 3658, '388': 3803, '76V': 3141, '788': 3647, 'None': 3947, '789': 3167, '32Q': 3597, '73R': 3950, '75D': 3719, 'CNJ': 3005, '320': 3497, '73H': 3427, '359': 3700, '32A': 3282, '772': 3365, '77W': 3226, '73J': 3175, 'CR7': 3939, '319': 3013, '738': 3173, 'E75': 3490, '744': 3481, 'CJL': 3288, '31B': 3607, '741': 3112, '73W': 3058, '32S': 3800, '32B': 3260, 'CN2': 3465, '74N': 3483, '7S8': 3362, '346': 3515, '781': 3531, '75T': 3375, '77X': 3742, '73G': 3676, '77L': 3747, '75W': 3918, '74Y': 3363, '32N': 3081, '321': 3236, '76W': 3457, 'CR2': 3329, 'PL2': 3074, '332': 3849}\n",
            "{'388': 4185, '788': 4903, 'None': 4064, '789': 4348, '32Q': 4169, '74F': 4745, '73H': 4801, '320': 4369, 'CNA': 4802, '359': 4713, '32A': 4239, '772': 4761, '77W': 4192, '73J': 4985, '773': 4585, '753': 4084, 'CR7': 4872, 'CRJ': 4468, '319': 4186, '738': 4381, '77F': 4450, 'E75': 4624, '744': 4674, 'E7W': 4902, '73W': 4495, '32S': 4297, '739': 4530, '32B': 4160, '74N': 4352, '346': 4206, '757': 4519, '781': 4294, '763': 4513, '752': 4846, '77L': 4712, '75W': 4225, '74Y': 4388, '32N': 4433, '321': 4097, '76W': 4027, 'PL2': 4554, '330': 4189, '332': 4660}\n"
          ],
          "name": "stdout"
        }
      ]
    },
    {
      "cell_type": "code",
      "metadata": {
        "id": "J7XC-Sjxbf1r",
        "colab_type": "code",
        "colab": {}
      },
      "source": [
        ""
      ],
      "execution_count": 0,
      "outputs": []
    },
    {
      "cell_type": "code",
      "metadata": {
        "id": "s4gbPS1v_lKf",
        "colab_type": "code",
        "colab": {}
      },
      "source": [
        ""
      ],
      "execution_count": 0,
      "outputs": []
    }
  ]
}