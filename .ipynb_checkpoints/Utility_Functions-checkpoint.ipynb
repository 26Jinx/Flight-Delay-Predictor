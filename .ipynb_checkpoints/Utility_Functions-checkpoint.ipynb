{
 "cells": [
  {
   "cell_type": "code",
   "execution_count": 1,
   "metadata": {
    "colab": {
     "base_uri": "https://localhost:8080/",
     "height": 356
    },
    "colab_type": "code",
    "id": "TOsvNqqxC8hn",
    "outputId": "e9413f4f-faff-489a-af63-e77d334c6167"
   },
   "outputs": [
    {
     "name": "stdout",
     "output_type": "stream",
     "text": [
      "Collecting pyspark\n",
      "\u001b[?25l  Downloading https://files.pythonhosted.org/packages/87/21/f05c186f4ddb01d15d0ddc36ef4b7e3cedbeb6412274a41f26b55a650ee5/pyspark-2.4.4.tar.gz (215.7MB)\n",
      "\u001b[K     |████████████████████████████████| 215.7MB 61kB/s \n",
      "\u001b[?25hCollecting py4j==0.10.7\n",
      "\u001b[?25l  Downloading https://files.pythonhosted.org/packages/e3/53/c737818eb9a7dc32a7cd4f1396e787bd94200c3997c72c1dbe028587bd76/py4j-0.10.7-py2.py3-none-any.whl (197kB)\n",
      "\u001b[K     |████████████████████████████████| 204kB 8.6MB/s \n",
      "\u001b[?25hBuilding wheels for collected packages: pyspark\n",
      "  Building wheel for pyspark (setup.py) ... \u001b[?25l\u001b[?25hdone\n",
      "  Created wheel for pyspark: filename=pyspark-2.4.4-py2.py3-none-any.whl size=216130387 sha256=bce311c5b7e39764e56f15dc838b0566f25b7e1e4151b6c20b3a3ec2cd78d81b\n",
      "  Stored in directory: /root/.cache/pip/wheels/ab/09/4d/0d184230058e654eb1b04467dbc1292f00eaa186544604b471\n",
      "Successfully built pyspark\n",
      "Installing collected packages: py4j, pyspark\n",
      "Successfully installed py4j-0.10.7 pyspark-2.4.4\n",
      "Go to this URL in a browser: https://accounts.google.com/o/oauth2/auth?client_id=947318989803-6bn6qk8qdgf4n4g3pfee6491hc0brc4i.apps.googleusercontent.com&redirect_uri=urn%3Aietf%3Awg%3Aoauth%3A2.0%3Aoob&scope=email%20https%3A%2F%2Fwww.googleapis.com%2Fauth%2Fdocs.test%20https%3A%2F%2Fwww.googleapis.com%2Fauth%2Fdrive%20https%3A%2F%2Fwww.googleapis.com%2Fauth%2Fdrive.photos.readonly%20https%3A%2F%2Fwww.googleapis.com%2Fauth%2Fpeopleapi.readonly&response_type=code\n",
      "\n",
      "Enter your authorization code:\n",
      "··········\n",
      "Mounted at /content/gdrive\n"
     ]
    }
   ],
   "source": [
    "# Install Java, Spark, Findspark and PySpark\n",
    "!apt-get install openjdk-8-jdk-headless -qq > /dev/null\n",
    "!wget -q http://apache.osuosl.org/spark/spark-2.4.4/spark-2.4.4-bin-hadoop2.7.tgz\n",
    "!tar xf spark-2.4.4-bin-hadoop2.7.tgz\n",
    "\n",
    "import os\n",
    "os.environ[\"JAVA_HOME\"] = \"/usr/lib/jvm/java-8-openjdk-amd64\"\n",
    "os.environ[\"SPARK_HOME\"] = \"/content/spark-2.4.4-bin-hadoop2.7\"\n",
    "\n",
    "!pip install -q findspark\n",
    "!pip install pyspark\n",
    "\n",
    "# mount Google Drive\n",
    "from google.colab import drive\n",
    "drive.mount('/content/gdrive')"
   ]
  },
  {
   "cell_type": "markdown",
   "metadata": {
    "colab_type": "text",
    "id": "laH1Lb66Expz"
   },
   "source": [
    "# Install packages"
   ]
  },
  {
   "cell_type": "code",
   "execution_count": 2,
   "metadata": {
    "colab": {},
    "colab_type": "code",
    "id": "YDUkaLfkEQYZ"
   },
   "outputs": [],
   "source": [
    "import requests\n",
    "import pprint\n",
    "import pandas as pd\n",
    "import json\n",
    "from pandas.io.json import json_normalize\n",
    "import shutil\n",
    "import os"
   ]
  },
  {
   "cell_type": "code",
   "execution_count": 11,
   "metadata": {
    "colab": {
     "base_uri": "https://localhost:8080/",
     "height": 72
    },
    "colab_type": "code",
    "id": "tq7szWZbFCt5",
    "outputId": "3b626a27-ff7f-4ad3-e776-606a24e111fd"
   },
   "outputs": [
    {
     "name": "stdout",
     "output_type": "stream",
     "text": [
      "200\n",
      "{'error': {'httpStatusCode': 403, 'errorId': '3eb4db54-4d6c-44c1-a23e-9098c03d1a47', 'errorMessage': 'usage limits are exceeded', 'errorCode': 'FORBIDDEN'}}\n"
     ]
    }
   ],
   "source": [
    "# let's make a GET request\n",
    "\n",
    "def build_url(params):\n",
    "    url = (\n",
    "        f\"{api_params['url']}/{api_params['airport']}/dep/{api_params['year']}\"\n",
    "        f\"/{api_params['month']}/{api_params['day']}/{api_params['hour']}\"\n",
    "    )\n",
    "    \n",
    "    return url\n",
    "\n",
    "api_params = {\n",
    "    'url'    : 'https://api.flightstats.com/flex/flightstatus/rest/v2/json/airport/status',\n",
    "    'airport': 'lax',\n",
    "    'year'   : '2019',\n",
    "    'month'  : '10',\n",
    "    'day'    : '25',\n",
    "    'hour'   : '6'\n",
    "}\n",
    "\n",
    "creds = {\n",
    "    'appId' : os.environ.get('FSID'),\n",
    "    'appKey': os.environ.get('FSKEY')\n",
    "}\n",
    "\n",
    "res = requests.get(build_url(api_params), params=creds)\n",
    "print(res.status_code)\n",
    "print(res.json())\n"
   ]
  },
  {
   "cell_type": "code",
   "execution_count": 21,
   "metadata": {
    "colab": {
     "base_uri": "https://localhost:8080/",
     "height": 204
    },
    "colab_type": "code",
    "id": "RuAUuXy4Fd3E",
    "outputId": "1b5c8f8e-2f0b-46d3-ba48-3b88af267396"
   },
   "outputs": [
    {
     "ename": "KeyError",
     "evalue": "ignored",
     "output_type": "error",
     "traceback": [
      "\u001b[0;31m---------------------------------------------------------------------------\u001b[0m",
      "\u001b[0;31mKeyError\u001b[0m                                  Traceback (most recent call last)",
      "\u001b[0;32m<ipython-input-21-227800dc8824>\u001b[0m in \u001b[0;36m<module>\u001b[0;34m()\u001b[0m\n\u001b[0;32m----> 1\u001b[0;31m \u001b[0mstatus_data\u001b[0m \u001b[0;34m=\u001b[0m \u001b[0mres\u001b[0m\u001b[0;34m.\u001b[0m\u001b[0mjson\u001b[0m\u001b[0;34m(\u001b[0m\u001b[0;34m)\u001b[0m\u001b[0;34m[\u001b[0m\u001b[0;34m'flightStatuses'\u001b[0m\u001b[0;34m]\u001b[0m\u001b[0;34m\u001b[0m\u001b[0;34m\u001b[0m\u001b[0m\n\u001b[0m\u001b[1;32m      2\u001b[0m \u001b[0mstatus_data\u001b[0m\u001b[0;34m[\u001b[0m\u001b[0;36m0\u001b[0m\u001b[0;34m]\u001b[0m\u001b[0;34m.\u001b[0m\u001b[0mkeys\u001b[0m\u001b[0;34m(\u001b[0m\u001b[0;34m)\u001b[0m\u001b[0;34m\u001b[0m\u001b[0;34m\u001b[0m\u001b[0m\n\u001b[1;32m      3\u001b[0m \u001b[0mprint\u001b[0m\u001b[0;34m(\u001b[0m\u001b[0mlen\u001b[0m\u001b[0;34m(\u001b[0m\u001b[0mstatus_data\u001b[0m\u001b[0;34m)\u001b[0m\u001b[0;34m)\u001b[0m\u001b[0;34m\u001b[0m\u001b[0;34m\u001b[0m\u001b[0m\n",
      "\u001b[0;31mKeyError\u001b[0m: 'flightStatuses'"
     ]
    }
   ],
   "source": [
    "status_data = res.json()['flightStatuses']\n",
    "status_data[0].keys()\n",
    "print(len(status_data))"
   ]
  },
  {
   "cell_type": "markdown",
   "metadata": {
    "colab_type": "text",
    "id": "jWSoZ8NSOYAA"
   },
   "source": [
    "# Write to drive"
   ]
  },
  {
   "cell_type": "code",
   "execution_count": 35,
   "metadata": {
    "colab": {
     "base_uri": "https://localhost:8080/",
     "height": 54
    },
    "colab_type": "code",
    "id": "92-GSUkWFqTL",
    "outputId": "5453ada9-f41b-4aae-f492-1bcb02d5dbe3"
   },
   "outputs": [
    {
     "data": {
      "text/plain": [
       "\"\\nwith open('/content/gdrive/My Drive/Colab Datasets/flightstats/test.json', 'w') as f:\\n  f.write(json.dumps(status_data))\\n  \\n\""
      ]
     },
     "execution_count": 35,
     "metadata": {
      "tags": []
     },
     "output_type": "execute_result"
    }
   ],
   "source": [
    "'''\n",
    "with open('/content/gdrive/My Drive/Colab Datasets/flightstats/test.json', 'w') as f:\n",
    "  f.write(json.dumps(status_data))\n",
    "  \n",
    "'''"
   ]
  },
  {
   "cell_type": "markdown",
   "metadata": {
    "colab_type": "text",
    "id": "tN2F9B8ycim7"
   },
   "source": [
    "# Working with Date object"
   ]
  },
  {
   "cell_type": "code",
   "execution_count": 9,
   "metadata": {
    "colab": {
     "base_uri": "https://localhost:8080/",
     "height": 52
    },
    "colab_type": "code",
    "id": "cB_Xx0PvciKF",
    "outputId": "013413d9-9307-439a-f3e3-64fc19d31fee"
   },
   "outputs": [
    {
     "name": "stdout",
     "output_type": "stream",
     "text": [
      "1572338236.1975281\n",
      "2019-10-29 01:37:16.197839\n"
     ]
    }
   ],
   "source": [
    "from datetime import datetime, date, timedelta\n",
    "import time\n",
    "print(time.time())\n",
    "print(datetime.now())\n"
   ]
  },
  {
   "cell_type": "code",
   "execution_count": 0,
   "metadata": {
    "colab": {},
    "colab_type": "code",
    "id": "kMc8E2P9PApO"
   },
   "outputs": [],
   "source": [
    "cur_time = datetime.now()"
   ]
  },
  {
   "cell_type": "code",
   "execution_count": 25,
   "metadata": {
    "colab": {
     "base_uri": "https://localhost:8080/",
     "height": 34
    },
    "colab_type": "code",
    "id": "M5BXiqOmn0pj",
    "outputId": "efe30a48-1f7b-4cec-d687-1fabd18bd04b"
   },
   "outputs": [
    {
     "data": {
      "text/plain": [
       "2"
      ]
     },
     "execution_count": 25,
     "metadata": {
      "tags": []
     },
     "output_type": "execute_result"
    }
   ],
   "source": [
    "cur_time.hour"
   ]
  },
  {
   "cell_type": "markdown",
   "metadata": {
    "colab_type": "text",
    "id": "Yu54oaH_rtgG"
   },
   "source": [
    "# Collect Data on an interval"
   ]
  },
  {
   "cell_type": "code",
   "execution_count": 26,
   "metadata": {
    "colab": {
     "base_uri": "https://localhost:8080/",
     "height": 34
    },
    "colab_type": "code",
    "id": "xZ1T0NKnr3M5",
    "outputId": "6a830299-4348-4082-ce26-b0ca7d9bab5f"
   },
   "outputs": [
    {
     "name": "stdout",
     "output_type": "stream",
     "text": [
      "2019-10-28\n"
     ]
    }
   ],
   "source": [
    "today = date.today()\n",
    "print(today)"
   ]
  },
  {
   "cell_type": "code",
   "execution_count": 27,
   "metadata": {
    "colab": {
     "base_uri": "https://localhost:8080/",
     "height": 34
    },
    "colab_type": "code",
    "id": "jwhEkQany00z",
    "outputId": "aabcc44f-61ce-4a8d-a9b7-42446219c268"
   },
   "outputs": [
    {
     "name": "stdout",
     "output_type": "stream",
     "text": [
      "23\n"
     ]
    }
   ],
   "source": [
    "# math operation on days?\n",
    "print(today.day - 5)"
   ]
  },
  {
   "cell_type": "code",
   "execution_count": 28,
   "metadata": {
    "colab": {
     "base_uri": "https://localhost:8080/",
     "height": 34
    },
    "colab_type": "code",
    "id": "Or0EaoCO0zwY",
    "outputId": "cf0208da-db92-4076-ef29-127832a403b2"
   },
   "outputs": [
    {
     "name": "stdout",
     "output_type": "stream",
     "text": [
      "0\n"
     ]
    }
   ],
   "source": [
    "# day of the week\n",
    "print(date.weekday(today))"
   ]
  },
  {
   "cell_type": "code",
   "execution_count": 29,
   "metadata": {
    "colab": {
     "base_uri": "https://localhost:8080/",
     "height": 34
    },
    "colab_type": "code",
    "id": "tv3PyuvP2I3I",
    "outputId": "2020ff34-2c5e-4c9a-b446-82061f4e197d"
   },
   "outputs": [
    {
     "name": "stdout",
     "output_type": "stream",
     "text": [
      "2019-10-21\n"
     ]
    }
   ],
   "source": [
    "# a date n days ago from today\n",
    "diff = timedelta(days=7)\n",
    "week_ago = today - diff\n",
    "print(week_ago)"
   ]
  },
  {
   "cell_type": "code",
   "execution_count": 30,
   "metadata": {
    "colab": {
     "base_uri": "https://localhost:8080/",
     "height": 105
    },
    "colab_type": "code",
    "id": "INavY7Vv3Ylr",
    "outputId": "7f7fa038-94ee-4198-e4fa-4f29f9031b02"
   },
   "outputs": [
    {
     "name": "stdout",
     "output_type": "stream",
     "text": [
      "2019-10-27 02:48:46.207293\n",
      "2019-10-26 02:48:46.207293\n",
      "2019-10-25 02:48:46.207293\n",
      "2019-10-24 02:48:46.207293\n",
      "2019-10-23 02:48:46.207293\n"
     ]
    }
   ],
   "source": [
    "def print_days(days_ago):\n",
    "    now = datetime.now()\n",
    "  \n",
    "    for i in range(days_ago):\n",
    "        print(now - timedelta(days=i+1))\n",
    "    \n",
    "print_days(5)\n"
   ]
  },
  {
   "cell_type": "code",
   "execution_count": 10,
   "metadata": {
    "colab": {
     "base_uri": "https://localhost:8080/",
     "height": 107
    },
    "colab_type": "code",
    "id": "vSEVY93w-di7",
    "outputId": "b0cf46ee-3224-45a7-88e9-5b1f4beb64dc"
   },
   "outputs": [
    {
     "name": "stdout",
     "output_type": "stream",
     "text": [
      "2019-10-29 01:39:58.437552\n",
      "200\n"
     ]
    }
   ],
   "source": [
    "# let's make some changes to our original url builder function to make it more dynamic\n",
    "\n",
    "def build_fs_url(airpt_code, date, start_hour, departure):\n",
    "  \n",
    "    print(date)\n",
    "    \n",
    "    # airport status endpoint\n",
    "    url = 'https://api.flightstats.com/flex/flightstatus/rest/v2/json/airport/status'\n",
    "    airport = airpt_code\n",
    "    dep = 'dep' if departure == True else 'arr'\n",
    "    year = date.year\n",
    "    month = date.month\n",
    "    day = date.day\n",
    "    hod = start_hour       \n",
    "\n",
    "    url = f'{url}/{airport}/{dep}/{year}/{month}/{day}/{hod}'\n",
    "    \n",
    "    return url\n",
    "\n",
    "add_params = {\n",
    "    'appId' : os.environ.get('FSID'),\n",
    "    'appKey': os.environ.get('FSKEY'),\n",
    "    'utc': 'true',\n",
    "    'numHours': '6'\n",
    "}  \n",
    "\n",
    "\n",
    "res = requests.get(build_fs_url('lax', datetime.now(), 13, True), params=add_params)\n",
    "\n",
    "#print(res.url)\n",
    "print(res.status_code)\n",
    "#print(res.json())\n"
   ]
  },
  {
   "cell_type": "code",
   "execution_count": 12,
   "metadata": {
    "colab": {
     "base_uri": "https://localhost:8080/",
     "height": 52
    },
    "colab_type": "code",
    "id": "WS5yO7IjRyDP",
    "outputId": "4f638672-4841-499c-c584-5d533b449e9b"
   },
   "outputs": [
    {
     "name": "stdout",
     "output_type": "stream",
     "text": [
      "https://api.flightstats.com/flex/flightstatus/rest/v2/json/airport/status/jfk/dep/2019/10/29/24\n",
      "https://api.darksky.net/forecast/906506b4ec44e7ea8a9d51c2744d9959/40.642335,-73.78817,2019-10-29T04:41:12\n"
     ]
    }
   ],
   "source": [
    "# On second thought, let's build a class called req_url\n",
    "\n",
    "class req_url:\n",
    "    \n",
    "    # type_data is one of 'flight', 'airport', 'weather'\n",
    "    def __init__(self, type_data, airpt_code='lax', date=date.today(), start_hour=24, departure=True):\n",
    "      \n",
    "        # credentials for both apis\n",
    "        self.credentials = {\n",
    "            'flightstats': {\n",
    "                'appId' : os.environ.get('FSID'),\n",
    "                'appKey': os.environ.get('FSKEY')   \n",
    "            },\n",
    "            'darksky': {\n",
    "                'key': os.environ.get('DSKEY')\n",
    "            }\n",
    "        }\n",
    "      \n",
    "        # check to see if flight or airport info needed\n",
    "        if type_data == 'flight':         \n",
    "            self.source = 'https://api.flightstats.com/flex/flightstatus/rest/v2/json/airport/status'\n",
    "            self.dep = 'dep' if departure==True else 'arr'\n",
    "            self.url = f'{self.source}/{airpt_code}/{self.dep}/{date.year}/{date.month}/{date.day}/{start_hour}'\n",
    "\n",
    "            # additional parameters needed for request\n",
    "            self.add_params = {\n",
    "                'utc': 'true',\n",
    "                'numHours': '6'\n",
    "            }\n",
    "            \n",
    "        # dark sky api\n",
    "        elif type_data == 'weather':\n",
    "          \n",
    "            # we get the lat and long of the airport requested using flightstats api\n",
    "            res = requests.get(f'https://api.flightstats.com/flex/airports/rest/v1/json/iata/{airpt_code}', \n",
    "                               params=self.credentials['flightstats'])\n",
    "            \n",
    "            self.lat = res.json()['airports'][0]['latitude']\n",
    "            self.long = res.json()['airports'][0]['longitude']\n",
    "            self.time = res.json()['airports'][0]['localTime'][:-4]\n",
    "            self.source = 'https://api.darksky.net/forecast'\n",
    "            self.ds_key = '906506b4ec44e7ea8a9d51c2744d9959'      # dark sky api key\n",
    "            self.url = f'{self.source}/{self.ds_key}/{self.lat},{self.long},{self.time}'\n",
    "            \n",
    "            # additional parameters for excluding components of the response such as minutely weather\n",
    "            self.add_params = {\n",
    "                'exclude': 'minutely'\n",
    "            }\n",
    "            \n",
    "        else:\n",
    "            print(\"Error: type_data must be one of 'flight' or 'weather'\")\n",
    "\n",
    "fs_test = req_url('flight', 'jfk')\n",
    "ds_test = req_url('weather', 'jfk')\n",
    "print(fs_test.url)\n",
    "print(ds_test.url)"
   ]
  },
  {
   "cell_type": "code",
   "execution_count": 0,
   "metadata": {
    "colab": {},
    "colab_type": "code",
    "id": "S3yMXFTeeL5j"
   },
   "outputs": [],
   "source": [
    "# modify to accomodate hourOfDay\n",
    "def collect_daily(days_ago):\n",
    "    today = datetime.now()\n",
    "  \n",
    "    for i in range(days_ago):\n",
    "        day = today - timedelta(days=i+1)\n",
    "        time_of_day = 0\n",
    "        \n",
    "        for j in range(4):\n",
    "            time_of_day = i * 6\n",
    "            print(build_fs_url('lax', day))\n",
    "    \n",
    "    \n",
    "#collect_daily(7)\n",
    "\n",
    "def collect_data(airpt_code, days_ago):\n",
    "  \n",
    "    # for now, maximum value for days_ago allowed is 7\n",
    "    if days_ago > 7:\n",
    "        print('Error: Cannot get flight history more than 7 days ago.')\n",
    "        return\n",
    "  \n",
    "    # first remove all previously downloaded data\n",
    "    folder = '/content/gdrive/My Drive/Colab Datasets/flights_data'\n",
    "\n",
    "    # remove all files in each of the folders present in the directory\n",
    "    for each_fldr in os.listdir(folder):\n",
    "        fldr_to_del = os.path.join(folder, each_fldr)\n",
    "        \n",
    "        for each_file in os.listdir(fldr_to_del):\n",
    "            file = os.path.join(fldr_to_del, each_file)\n",
    "            \n",
    "            # delete folder and its contents\n",
    "            try:\n",
    "                if os.path.isfile(file):\n",
    "                    os.unlink(file)\n",
    "            except:\n",
    "                print(e)\n",
    "  \n",
    "    now = datetime.now()\n",
    "    \n",
    "    # determine the starting hour of day for flight status  \n",
    "    if now.hour < 6:\n",
    "        start_hour = 6\n",
    "    elif now.hour < 12:\n",
    "        start_hour = 12\n",
    "    elif now.hour < 18:\n",
    "        start_hour = 18\n",
    "    else:\n",
    "        start_hour = 24\n",
    "        \n",
    "    for i in range(days_ago):        \n",
    "        date = today - timedelta(days=i)\n",
    "        \n",
    "        # flight status in 6-hour windows\n",
    "        if i > 0:\n",
    "            start_hour = 24\n",
    "        \n",
    "        while start_hour > 0:\n",
    "            \n",
    "            start_hour = start_hour - 6\n",
    "            #print(day, start_hour)\n",
    "            #print(build_fs_url('lax', day, start_hour))\n",
    "            \n",
    "            # flightstats api response\n",
    "            dep_req = req_url('flight', airpt_code, date, start_hour)\n",
    "            arr_req = req_url('flight', airpt_code, date, start_hour, False)\n",
    "            \n",
    "            # merge the credentials and additional params dictionaries\n",
    "            deps = requests.get(dep_req.url, params={**dep_req.credentials['flightstats'], **dep_req.add_params})\n",
    "            arrs = requests.get(arr_req.url, params={**arr_req.credentials['flightstats'], **arr_req.add_params})\n",
    "            \n",
    "            # flight status info from response\n",
    "            d_flt_sts = deps.json()['flightStatuses']    # departing flight statuses\n",
    "            a_flt_sts = arrs.json()['flightStatuses']    # arriving flight statuses\n",
    "                          \n",
    "            # save json to google drive\n",
    "            with open(f'/content/gdrive/My Drive/Colab Datasets/flights_data/departures/{date}.json', 'a') as f:\n",
    "                f.write(json.dumps(d_flt_sts))\n",
    "          \n",
    "            with open(f'/content/gdrive/My Drive/Colab Datasets/flights_data/arrivals/{date}.json', 'a') as f:\n",
    "                f.write(json.dumps(a_flt_sts))\n",
    "                \n",
    "            #print(res.url)\n",
    "            \n",
    "        # weather data in 1-day windows since api response already gives hourly weather cond\n",
    "        weather_req = req_url('weather', airpt_code, date)\n",
    "        \n",
    "        # get weather data for airport and date\n",
    "        weather = requests.get(weather_req.url, params={'exclude': ['minutely', 'daily', 'alerts']})\n",
    "        #print(weather.url)\n",
    "        \n",
    "        # extract hourly data\n",
    "        hourly_weather = weather.json()['hourly']['data']\n",
    "            \n",
    "        # store in google drive\n",
    "        with open(f'/content/gdrive/My Drive/Colab Datasets/flights_data/weather/{date}.json', 'w') as f:\n",
    "            f.write(json.dumps(hourly_weather))\n",
    "                        \n",
    "            \n",
    "collect_data('pdx', 3)\n",
    "\n",
    "            "
   ]
  },
  {
   "cell_type": "code",
   "execution_count": 70,
   "metadata": {
    "colab": {
     "base_uri": "https://localhost:8080/",
     "height": 105
    },
    "colab_type": "code",
    "id": "Tt-Nk27ojI3z",
    "outputId": "193c4206-8ad9-4356-9d74-637ddc5f2932"
   },
   "outputs": [
    {
     "name": "stdout",
     "output_type": "stream",
     "text": [
      "2019-10-28 08:53:38.169901\n",
      "2019-10-28 08:53:38.171746\n",
      "2019-10-28-8\n",
      "1572252818\n",
      "2019-10-20 07:00:00\n"
     ]
    }
   ],
   "source": [
    "print(datetime.today())\n",
    "print(datetime.now())\n",
    "print(f'{date.today()}-{datetime.now().hour}')\n",
    "print(int(time.time()))\n",
    "print(datetime.fromtimestamp(1571554800))"
   ]
  }
 ],
 "metadata": {
  "colab": {
   "name": "Final Capstone Functions",
   "provenance": []
  },
  "kernelspec": {
   "display_name": "Python 3",
   "language": "python",
   "name": "python3"
  },
  "language_info": {
   "codemirror_mode": {
    "name": "ipython",
    "version": 3
   },
   "file_extension": ".py",
   "mimetype": "text/x-python",
   "name": "python",
   "nbconvert_exporter": "python",
   "pygments_lexer": "ipython3",
   "version": "3.7.3"
  }
 },
 "nbformat": 4,
 "nbformat_minor": 1
}
